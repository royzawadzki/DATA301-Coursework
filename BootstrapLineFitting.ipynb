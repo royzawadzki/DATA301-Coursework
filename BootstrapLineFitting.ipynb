{
 "cells": [
  {
   "cell_type": "markdown",
   "metadata": {},
   "source": [
    "# Bootstrapped Line Fitting"
   ]
  },
  {
   "cell_type": "markdown",
   "metadata": {},
   "source": [
    "In this notebook, you will use bootstrapping to estimate the uncertainty in the slope and intercept of a line fit to data."
   ]
  },
  {
   "cell_type": "markdown",
   "metadata": {},
   "source": [
    "## Imports"
   ]
  },
  {
   "cell_type": "code",
   "execution_count": 1,
   "metadata": {},
   "outputs": [],
   "source": [
    "import numpy as np\n",
    "from matplotlib import pyplot as plt\n",
    "%matplotlib inline"
   ]
  },
  {
   "cell_type": "markdown",
   "metadata": {},
   "source": [
    "## Generative Model"
   ]
  },
  {
   "cell_type": "markdown",
   "metadata": {},
   "source": [
    "We start with a generative model:\n",
    "\n",
    "$$\n",
    "x \\sim U(10,20)\n",
    "$$\n",
    "\n",
    "$$\n",
    "y \\sim w x + b + N(0,\\sigma^2)\n",
    "$$\n",
    "\n",
    "Here are the input parameters we are going to use for this model."
   ]
  },
  {
   "cell_type": "code",
   "execution_count": 2,
   "metadata": {
    "deletable": false,
    "editable": false,
    "nbgrader": {
     "checksum": "f3ac1afc23948643f5e8f9b779bd6589",
     "grade": false,
     "grade_id": "bootstrap-line-a",
     "locked": true,
     "schema_version": 1,
     "solution": false
    }
   },
   "outputs": [],
   "source": [
    "w = 0.75\n",
    "b = 3.5\n",
    "sigma = 0.5"
   ]
  },
  {
   "cell_type": "markdown",
   "metadata": {},
   "source": [
    "Generate two NumPy arrays of 50 points for this model. Store these values in the arrays `x` and `y`:"
   ]
  },
  {
   "cell_type": "code",
   "execution_count": 3,
   "metadata": {
    "deletable": false,
    "nbgrader": {
     "checksum": "2570592c1fd78bd691befae7cceb2f93",
     "grade": true,
     "grade_id": "bootstrap-line-b",
     "locked": false,
     "points": 2,
     "schema_version": 1,
     "solution": true
    }
   },
   "outputs": [],
   "source": [
    "x = np.random.uniform(10,20, size = 50) \n",
    "y = w*x + b + np.random.normal(loc = 0, scale = sigma, size = 50)"
   ]
  },
  {
   "cell_type": "markdown",
   "metadata": {},
   "source": [
    "Make an appropriately labeled scatter plot of the `x` and `y` data. You should see fluctuations around a straight line. If you don't, you forgot to pass the `size` argument to `np.random.normal` when generating your data above."
   ]
  },
  {
   "cell_type": "code",
   "execution_count": 4,
   "metadata": {
    "deletable": false,
    "nbgrader": {
     "checksum": "25a0fd11dcf013e8afdb0bb7d03c1e7d",
     "grade": true,
     "grade_id": "bootstrap-line-c",
     "locked": false,
     "points": 2,
     "schema_version": 1,
     "solution": true
    }
   },
   "outputs": [
    {
     "data": {
      "text/plain": [
       "Text(0,0.5,'$wx + b + N(0, \\\\sigma ^2 )$')"
      ]
     },
     "execution_count": 4,
     "metadata": {},
     "output_type": "execute_result"
    },
    {
     "data": {
      "image/png": "[encoded data removed]",
      "text/plain": [
       "<matplotlib.figure.Figure at 0x7ff4f58fada0>"
      ]
     },
     "metadata": {},
     "output_type": "display_data"
    }
   ],
   "source": [
    "plt.scatter(x,y)\n",
    "plt.xlabel(\"$U(10,20)$\")\n",
    "plt.ylabel(\"$wx + b + N(0, \\sigma ^2 )$\")"
   ]
  },
  {
   "cell_type": "markdown",
   "metadata": {},
   "source": [
    "## Fitting the model"
   ]
  },
  {
   "cell_type": "code",
   "execution_count": 5,
   "metadata": {
    "deletable": false,
    "editable": false,
    "nbgrader": {
     "checksum": "a76f1f03b08cf1f99d0b9c6f94fa94ab",
     "grade": false,
     "grade_id": "bootstrap-line-d",
     "locked": true,
     "schema_version": 1,
     "solution": false
    }
   },
   "outputs": [],
   "source": [
    "from scipy.optimize import minimize"
   ]
  },
  {
   "cell_type": "markdown",
   "metadata": {},
   "source": [
    "Write a function that computes the MSE for the model $y_{model}(x) = w x + b$:"
   ]
  },
  {
   "cell_type": "code",
   "execution_count": 6,
   "metadata": {
    "deletable": false,
    "nbgrader": {
     "checksum": "8631ccdb9b2d62563aa3fd17b654cdff",
     "grade": true,
     "grade_id": "bootstrap-line-e",
     "locked": false,
     "points": 2,
     "schema_version": 1,
     "solution": true
    }
   },
   "outputs": [],
   "source": [
    "def mse(theta, x, y):\n",
    "    \"\"\"Compute the mean squared error (MSE) for our model.\n",
    "    \n",
    "    Parameters\n",
    "    ----------\n",
    "    theta: array, list, tuple\n",
    "        The array of model parameters [w, b].\n",
    "    x: np.array\n",
    "        The observed x data.\n",
    "    y: np.array\n",
    "        The observed y data.\n",
    "\n",
    "    \"\"\"\n",
    "    \n",
    "    predicted_y = theta[0]*x + theta[1]\n",
    "    return 1/(len(x) - 2) * np.sum((y-predicted_y)**2)"
   ]
  },
  {
   "cell_type": "markdown",
   "metadata": {},
   "source": [
    "Write a function that uses `scipy.optimize.minimize` to minimize the above MSE to find the best value of theta."
   ]
  },
  {
   "cell_type": "code",
   "execution_count": 7,
   "metadata": {
    "deletable": false,
    "nbgrader": {
     "checksum": "e4b7974d3863f0da2238665ca9d70c64",
     "grade": true,
     "grade_id": "bootstrap-line-f",
     "locked": false,
     "points": 2,
     "schema_version": 1,
     "solution": true
    }
   },
   "outputs": [],
   "source": [
    "def fit(x, y):\n",
    "    \"\"\"Fit our model to observed data and return the best values of theta = [w, b].\"\"\"\n",
    "    theta = [.75,3.5]\n",
    "    fit = minimize(mse, theta, args = (x,y))\n",
    "    return fit[\"x\"][0], fit[\"x\"][1]\n",
    "    "
   ]
  },
  {
   "cell_type": "markdown",
   "metadata": {},
   "source": [
    "Here are the estimated model parameters. These should be close to the true values we used to generate the data:"
   ]
  },
  {
   "cell_type": "code",
   "execution_count": 8,
   "metadata": {},
   "outputs": [
    {
     "data": {
      "text/plain": [
       "(0.76136004697872461, 3.295686643080781)"
      ]
     },
     "execution_count": 8,
     "metadata": {},
     "output_type": "execute_result"
    }
   ],
   "source": [
    "fit(x,y)"
   ]
  },
  {
   "cell_type": "code",
   "execution_count": 9,
   "metadata": {
    "deletable": false,
    "editable": false,
    "nbgrader": {
     "checksum": "7637b65a30686d418f2f78ba15168b04",
     "grade": false,
     "grade_id": "bootstrap-line-g",
     "locked": true,
     "schema_version": 1,
     "solution": false
    }
   },
   "outputs": [
    {
     "data": {
      "text/plain": [
       "(0.76136004697872461, 3.295686643080781)"
      ]
     },
     "execution_count": 9,
     "metadata": {},
     "output_type": "execute_result"
    }
   ],
   "source": [
    "w_hat, b_hat = fit(x,y)\n",
    "w_hat, b_hat"
   ]
  },
  {
   "cell_type": "markdown",
   "metadata": {},
   "source": [
    "Compute the residuals and visualize them with an appropriately labeled histogram:"
   ]
  },
  {
   "cell_type": "code",
   "execution_count": 10,
   "metadata": {
    "deletable": false,
    "nbgrader": {
     "checksum": "3d2789a860c669abfd96d44583c6cb65",
     "grade": true,
     "grade_id": "bootstrap-line-h",
     "locked": false,
     "points": 2,
     "schema_version": 1,
     "solution": true
    }
   },
   "outputs": [
    {
     "data": {
      "image/png": "[encoded data removed]",
      "text/plain": [
       "<matplotlib.figure.Figure at 0x7ff4ee012f98>"
      ]
     },
     "metadata": {},
     "output_type": "display_data"
    }
   ],
   "source": [
    "residuals = np.subtract(y, x * w_hat + b_hat)\n",
    "plt.hist(residuals)\n",
    "plt.ylabel('Count')\n",
    "plt.xlabel('$y_i - \\overline{y}$');"
   ]
  },
  {
   "cell_type": "markdown",
   "metadata": {},
   "source": [
    "Compute the $R^2$ for the model:"
   ]
  },
  {
   "cell_type": "code",
   "execution_count": 11,
   "metadata": {
    "deletable": false,
    "nbgrader": {
     "checksum": "91adac3b57f013ed15be12fd1537830e",
     "grade": true,
     "grade_id": "bootstrap-line-i",
     "locked": false,
     "points": 2,
     "schema_version": 1,
     "solution": true
    }
   },
   "outputs": [
    {
     "data": {
      "text/plain": [
       "0.96883203436628507"
      ]
     },
     "execution_count": 11,
     "metadata": {},
     "output_type": "execute_result"
    }
   ],
   "source": [
    "benchmark_residuals = y - y.mean()\n",
    "\n",
    "1- residuals.var()/benchmark_residuals.var()"
   ]
  },
  {
   "cell_type": "markdown",
   "metadata": {},
   "source": [
    "Plot the model predictions (line), on the same plot as the original data (points). Label the two series of data using a legend."
   ]
  },
  {
   "cell_type": "code",
   "execution_count": 12,
   "metadata": {
    "deletable": false,
    "nbgrader": {
     "checksum": "89e27aaa4bb5ba1c5740b7ff6e2f324a",
     "grade": true,
     "grade_id": "bootstrap-line-j",
     "locked": false,
     "points": 2,
     "schema_version": 1,
     "solution": true
    }
   },
   "outputs": [
    {
     "data": {
      "text/plain": [
       "<matplotlib.legend.Legend at 0x7ff4edf53cf8>"
      ]
     },
     "execution_count": 12,
     "metadata": {},
     "output_type": "execute_result"
    },
    {
     "data": {
      "image/png": "[encoded data removed]",
      "text/plain": [
       "<matplotlib.figure.Figure at 0x7ff4edf8f6d8>"
      ]
     },
     "metadata": {},
     "output_type": "display_data"
    }
   ],
   "source": [
    "plt.scatter(x,y, label = \"Data\")\n",
    "plt.plot(x, x * w_hat + b_hat, label = \"Model\", color = \"orange\")\n",
    "plt.xlabel(\"$U(10,20)$\")\n",
    "plt.ylabel(\"$wx + b + N(0, \\sigma ^2 )$\")\n",
    "plt.legend()"
   ]
  },
  {
   "cell_type": "markdown",
   "metadata": {},
   "source": [
    "## Bootstrap"
   ]
  },
  {
   "cell_type": "markdown",
   "metadata": {},
   "source": [
    "Write a function, `bootstrap`, that can create boostrapped versions of the `x` and `x` arrays above. It is important that you bootstrap pairs of `x[i],y[i]` to preserve correlations in the model. Remember, to bootstrap data you will draw random samples with replacement."
   ]
  },
  {
   "cell_type": "code",
   "execution_count": 13,
   "metadata": {
    "deletable": false,
    "nbgrader": {
     "checksum": "c5878ba46eb13e8eabfb2ee7f0eca556",
     "grade": false,
     "grade_id": "bootstrap-line-k",
     "locked": false,
     "schema_version": 1,
     "solution": true
    }
   },
   "outputs": [],
   "source": [
    "def bootstrap(x, y):\n",
    "    \"\"\"Return boostrapped versions of the input X and Y arrays, perserving correlations.\n",
    "    \n",
    "    Parameters\n",
    "    ----------\n",
    "    x: ndarray\n",
    "        Input x array.\n",
    "    y: ndarray\n",
    "        Input y array.\n",
    "    \n",
    "    Returns\n",
    "    -------\n",
    "    xx: ndarray\n",
    "        The boostrapped x array with the same shape as x and correlated random samples\n",
    "        drawn with replacement.\n",
    "    yy: ndarray\n",
    "        The bootstrapped y array with the same shape as y and correlated random samples\n",
    "        drawn with replacement.\n",
    "    \"\"\"\n",
    "    \n",
    "    idx = np.random.choice(np.arange(len(x)), size = len(x), replace = True)\n",
    "    xx = x[idx]\n",
    "    yy = y[idx]\n",
    "    return xx, yy\n",
    "        \n",
    "    "
   ]
  },
  {
   "cell_type": "code",
   "execution_count": 14,
   "metadata": {
    "deletable": false,
    "editable": false,
    "nbgrader": {
     "checksum": "217f9ceec8069a40a577943997f06362",
     "grade": true,
     "grade_id": "bootstrap-line-l",
     "locked": true,
     "points": 2,
     "schema_version": 1,
     "solution": false
    }
   },
   "outputs": [],
   "source": [
    "np.random.seed(0)\n",
    "a = np.array([0,1,2,3])\n",
    "b = np.array([4,5,6,7])\n",
    "ab, bb = bootstrap(a, b)\n",
    "for element in ab:\n",
    "    assert element in a\n",
    "for element in bb:\n",
    "    assert element in b\n",
    "assert len(a)==len(ab)\n",
    "assert len(ab)==len(bb)"
   ]
  },
  {
   "cell_type": "markdown",
   "metadata": {},
   "source": [
    "Write a function, `bootstrap_fit`, that takes finds the slope and intercept of the input `X` and `Y` data  using the `fit` function above. Your function should perform this fit `n` times using bootstrapped data."
   ]
  },
  {
   "cell_type": "code",
   "execution_count": 15,
   "metadata": {
    "deletable": false,
    "nbgrader": {
     "checksum": "9825a0b1c1c5f5e17b416142a20d6095",
     "grade": true,
     "grade_id": "bootstrap-line-m",
     "locked": false,
     "points": 2,
     "schema_version": 1,
     "solution": true
    }
   },
   "outputs": [],
   "source": [
    "def bootstrap_fit(x, y, n):\n",
    "    \"\"\"Fit a straight line to x and y n times using bootstrapping.\n",
    "    \n",
    "    Returns\n",
    "    -------\n",
    "    (w, b): tuple of ndarrays\n",
    "        A tuple of 1d arrays with the bootstrapped values of the weight and intercept.\n",
    "    \"\"\"\n",
    "    w_sim = []\n",
    "    b_sim = []\n",
    "    for i in range(n):\n",
    "        xx, yy = bootstrap(x,y)\n",
    "        x_result, y_result = fit(xx,yy)\n",
    "        w_sim.append(x_result)\n",
    "        b_sim.append(y_result)\n",
    "    return w_sim, b_sim"
   ]
  },
  {
   "cell_type": "markdown",
   "metadata": {},
   "source": [
    "Using the original `x` and `y` data above:\n",
    "\n",
    "* Find the bootstrapped weights/slopes and intercepts (bootstrap 200 times).\n",
    "* Make an appropriately labeled 2d histogram of the bootstrapped slopes and intercepts.\n",
    "* Find and print the 95% confidence intervals for the slope and intercept."
   ]
  },
  {
   "cell_type": "code",
   "execution_count": 16,
   "metadata": {
    "deletable": false,
    "nbgrader": {
     "checksum": "f08fd5fe90be7fb35c344d2fe8876189",
     "grade": true,
     "grade_id": "bootstrap-line-n",
     "locked": false,
     "points": 2,
     "schema_version": 1,
     "solution": true
    }
   },
   "outputs": [
    {
     "data": {
      "text/plain": [
       "Text(0,0.5,'Bootstrapped intercept')"
      ]
     },
     "execution_count": 16,
     "metadata": {},
     "output_type": "execute_result"
    },
    {
     "data": {
      "image/png": "[encoded data removed]",
      "text/plain": [
       "<matplotlib.figure.Figure at 0x7ff4edfaf0b8>"
      ]
     },
     "metadata": {},
     "output_type": "display_data"
    }
   ],
   "source": [
    "results = bootstrap_fit(x,y, 200)\n",
    "plt.hist2d(results[0], results[1], bins = 30)\n",
    "plt.xlabel(\"Bootstrapped slope\")\n",
    "plt.ylabel(\"Bootstrapped intercept\")"
   ]
  },
  {
   "cell_type": "code",
   "execution_count": 17,
   "metadata": {},
   "outputs": [
    {
     "name": "stdout",
     "output_type": "stream",
     "text": [
      "95% confidence interval of slope:  [ 0.71849229  0.79706089]\n",
      "95% confidence interval of intercept:  [ 2.75024319  3.89518734]\n"
     ]
    }
   ],
   "source": [
    "print(\"95% confidence interval of slope: \", np.percentile(results[0], [2.5,97.5]))\n",
    "print(\"95% confidence interval of intercept: \", np.percentile(results[1], [2.5,97.5]))"
   ]
  }
 ],
 "metadata": {
  "kernelspec": {
   "display_name": "Python 3",
   "language": "python",
   "name": "python3"
  },
  "language_info": {
   "codemirror_mode": {
    "name": "ipython",
    "version": 3
   },
   "file_extension": ".py",
   "mimetype": "text/x-python",
   "name": "python",
   "nbconvert_exporter": "python",
   "pygments_lexer": "ipython3",
   "version": "3.6.3"
  }
 },
 "nbformat": 4,
 "nbformat_minor": 2
}
