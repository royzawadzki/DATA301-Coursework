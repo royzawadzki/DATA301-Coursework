{
 "cells": [
  {
   "cell_type": "markdown",
   "metadata": {},
   "source": [
    "# Trump/Clinton Tweets During the 2016 Election\n",
    "\n",
    "In this notebook you will explore over 6000 Tweets from Donald Trump and Hillary Clinton during the 2016 US presidential election. This dataset comes from Kaggle:\n",
    "\n",
    "https://www.kaggle.com/benhamner/clinton-trump-tweets"
   ]
  },
  {
   "cell_type": "markdown",
   "metadata": {},
   "source": [
    "## Imports"
   ]
  },
  {
   "cell_type": "code",
   "execution_count": 1,
   "metadata": {
    "deletable": false,
    "editable": false,
    "nbgrader": {
     "checksum": "fcc62828167acb99589a474b55d9b0d8",
     "grade": false,
     "grade_id": "clinton-trump-a",
     "locked": true,
     "schema_version": 1,
     "solution": false
    }
   },
   "outputs": [],
   "source": [
    "import numpy as np\n",
    "import pandas as pd\n",
    "import altair as alt\n",
    "alt.enable_mime_rendering()"
   ]
  },
  {
   "cell_type": "markdown",
   "metadata": {},
   "source": [
    "## Introduction to spaCy\n",
    "\n",
    "The [spaCy]() package is a modern, high-performance natural language processing (NLP) library for Python. Let's look at how spaCy can be used for basic NLP tasks, such as tokenization. First import spaCy and load its english lanuage data:"
   ]
  },
  {
   "cell_type": "code",
   "execution_count": 2,
   "metadata": {
    "deletable": false,
    "editable": false,
    "nbgrader": {
     "checksum": "67b4e951bae30d277b47130743ca8905",
     "grade": false,
     "grade_id": "clinton-trump-b",
     "locked": true,
     "schema_version": 1,
     "solution": false
    }
   },
   "outputs": [],
   "source": [
    "import spacy"
   ]
  },
  {
   "cell_type": "code",
   "execution_count": 3,
   "metadata": {
    "deletable": false,
    "editable": false,
    "nbgrader": {
     "checksum": "46f4163e9ed1caba703909f7d73f918a",
     "grade": false,
     "grade_id": "clinton-trump-d",
     "locked": true,
     "schema_version": 1,
     "solution": false
    }
   },
   "outputs": [],
   "source": [
    "nlp = spacy.load('en')"
   ]
  },
  {
   "cell_type": "markdown",
   "metadata": {},
   "source": [
    "The `nlp` object is a function that provides the main API for working with text. Call it with the text as the argument:"
   ]
  },
  {
   "cell_type": "code",
   "execution_count": 4,
   "metadata": {
    "deletable": false,
    "editable": false,
    "nbgrader": {
     "checksum": "c9297ba0c2f22f1d42f412784a83b9a7",
     "grade": false,
     "grade_id": "clinton-trump-e",
     "locked": true,
     "schema_version": 1,
     "solution": false
    }
   },
   "outputs": [],
   "source": [
    "doc = nlp(u'Hello, world.\\n Here are two sentences.')"
   ]
  },
  {
   "cell_type": "code",
   "execution_count": 5,
   "metadata": {
    "deletable": false,
    "editable": false,
    "nbgrader": {
     "checksum": "40cb0fdbb7d4de1ffe9101ae5e24165a",
     "grade": false,
     "grade_id": "clinton-trump-f",
     "locked": true,
     "schema_version": 1,
     "solution": false
    }
   },
   "outputs": [
    {
     "data": {
      "text/plain": [
       "spacy.tokens.doc.Doc"
      ]
     },
     "execution_count": 5,
     "metadata": {},
     "output_type": "execute_result"
    }
   ],
   "source": [
    "type(doc)"
   ]
  },
  {
   "cell_type": "markdown",
   "metadata": {},
   "source": [
    "The resulting `Doc` object has a rich API for working with the text. You can iterate over the tokens in the document:"
   ]
  },
  {
   "cell_type": "code",
   "execution_count": 6,
   "metadata": {
    "deletable": false,
    "editable": false,
    "nbgrader": {
     "checksum": "2000f6da97a0f48e0fe4f23b718853e5",
     "grade": false,
     "grade_id": "clinton-trump-g",
     "locked": true,
     "schema_version": 1,
     "solution": false
    }
   },
   "outputs": [
    {
     "name": "stdout",
     "output_type": "stream",
     "text": [
      "Token: 'Hello'\n",
      "Token: ','\n",
      "Token: 'world'\n",
      "Token: '.'\n",
      "Token: '\\n '\n",
      "Token: 'Here'\n",
      "Token: 'are'\n",
      "Token: 'two'\n",
      "Token: 'sentences'\n",
      "Token: '.'\n"
     ]
    }
   ],
   "source": [
    "for token in doc:\n",
    "    print('Token: {}'.format(repr(token.text)))"
   ]
  },
  {
   "cell_type": "markdown",
   "metadata": {},
   "source": [
    "The tokens themselves are rich objects. Let's grab the first token from this text and look at it further:"
   ]
  },
  {
   "cell_type": "code",
   "execution_count": 7,
   "metadata": {
    "deletable": false,
    "editable": false,
    "nbgrader": {
     "checksum": "bc4ed7a87bac9073b269d2383e410e5f",
     "grade": false,
     "grade_id": "clinton-trump-h",
     "locked": true,
     "schema_version": 1,
     "solution": false
    }
   },
   "outputs": [],
   "source": [
    "token = doc[0]"
   ]
  },
  {
   "cell_type": "markdown",
   "metadata": {},
   "source": [
    "The `is_punct` attribute tells if the token is punctuation:"
   ]
  },
  {
   "cell_type": "code",
   "execution_count": 8,
   "metadata": {
    "deletable": false,
    "editable": false,
    "nbgrader": {
     "checksum": "aba6fb65ef6464684ca168ce3d8601ac",
     "grade": false,
     "grade_id": "clinton-trump-i",
     "locked": true,
     "schema_version": 1,
     "solution": false
    }
   },
   "outputs": [
    {
     "data": {
      "text/plain": [
       "False"
      ]
     },
     "execution_count": 8,
     "metadata": {},
     "output_type": "execute_result"
    }
   ],
   "source": [
    "token.is_punct"
   ]
  },
  {
   "cell_type": "markdown",
   "metadata": {},
   "source": [
    "The `is_stop` attribute tells if the token is a stop (common) word:"
   ]
  },
  {
   "cell_type": "code",
   "execution_count": 9,
   "metadata": {
    "deletable": false,
    "editable": false,
    "nbgrader": {
     "checksum": "ac09ede8c6116817e7e5cd40149ebd8c",
     "grade": false,
     "grade_id": "clinton-trump-j",
     "locked": true,
     "schema_version": 1,
     "solution": false
    }
   },
   "outputs": [
    {
     "data": {
      "text/plain": [
       "False"
      ]
     },
     "execution_count": 9,
     "metadata": {},
     "output_type": "execute_result"
    }
   ],
   "source": [
    "token.is_stop"
   ]
  },
  {
   "cell_type": "markdown",
   "metadata": {},
   "source": [
    "The `is_space` attribute tells if the token is a space (`' '`,`\\n`,`\\t`):"
   ]
  },
  {
   "cell_type": "code",
   "execution_count": 10,
   "metadata": {
    "deletable": false,
    "editable": false,
    "nbgrader": {
     "checksum": "0b8de82dc036c2a568f827060ec3848f",
     "grade": false,
     "grade_id": "clinton-trump-k",
     "locked": true,
     "schema_version": 1,
     "solution": false
    }
   },
   "outputs": [
    {
     "data": {
      "text/plain": [
       "False"
      ]
     },
     "execution_count": 10,
     "metadata": {},
     "output_type": "execute_result"
    }
   ],
   "source": [
    "token.is_space"
   ]
  },
  {
   "cell_type": "markdown",
   "metadata": {},
   "source": [
    "Get the string representation of the token as follows:"
   ]
  },
  {
   "cell_type": "code",
   "execution_count": 11,
   "metadata": {
    "deletable": false,
    "editable": false,
    "nbgrader": {
     "checksum": "067d00f5148481165a75ce5a66ed1b22",
     "grade": false,
     "grade_id": "cell-078ce44588fb03b4",
     "locked": true,
     "schema_version": 1,
     "solution": false
    }
   },
   "outputs": [
    {
     "data": {
      "text/plain": [
       "'Hello'"
      ]
     },
     "execution_count": 11,
     "metadata": {},
     "output_type": "execute_result"
    }
   ],
   "source": [
    "str(token)"
   ]
  },
  {
   "cell_type": "markdown",
   "metadata": {},
   "source": [
    "## Tokenization, stop words, punctuation\n",
    "\n",
    "Write a function, `yield_words`, that uses spaCy to tokenize a string of text, yielding the resulting words. Your function should remove punctuation, stop words and any URLs using spaCy's token attributes:"
   ]
  },
  {
   "cell_type": "code",
   "execution_count": 12,
   "metadata": {
    "deletable": false,
    "nbgrader": {
     "checksum": "3cca9585dc5424ce03ff1ddafd6f47b6",
     "grade": false,
     "grade_id": "clinton-trump-l",
     "locked": false,
     "schema_version": 1,
     "solution": true
    }
   },
   "outputs": [],
   "source": [
    "def yield_words(text):\n",
    "    \"\"\"Yield all words in text other than stop words, punctuation or URLs.\"\"\"\n",
    "    words = nlp(text)\n",
    "    for word in words:\n",
    "        if not word.is_punct and not word.is_space and not word.is_stop and not word.like_url:\n",
    "            yield str(word).lower()\n",
    "        "
   ]
  },
  {
   "cell_type": "code",
   "execution_count": 13,
   "metadata": {},
   "outputs": [
    {
     "name": "stdout",
     "output_type": "stream",
     "text": [
      "['hello', 'world', 'here', 'sentences']\n"
     ]
    }
   ],
   "source": [
    "print(list(yield_words(u'Hello, world.\\n Here are two https://google.com sentences.')))"
   ]
  },
  {
   "cell_type": "code",
   "execution_count": 14,
   "metadata": {
    "deletable": false,
    "editable": false,
    "nbgrader": {
     "checksum": "f208d159967195de4fbfd7e922cc731f",
     "grade": true,
     "grade_id": "clinton-trump-m",
     "locked": true,
     "points": 2,
     "schema_version": 1,
     "solution": false
    }
   },
   "outputs": [],
   "source": [
    "assert list(yield_words(u'Hello, world.\\n Here are two https://google.com sentences.'))==\\\n",
    "       ['hello', 'world', 'here', 'sentences']"
   ]
  },
  {
   "cell_type": "markdown",
   "metadata": {},
   "source": [
    "## Counting words\n",
    "\n",
    "Now that we can generate a list of words, let's count the number of times each word appears. Write a Python function that takes an iterator over words and returns a `dict` of word counts. The keys in the `dicts` should be the words and the values should be the counts. Your function should optionally take a `counts` keyword argument that will let you pass in an existing word count `dict` to which additional counts can be appended."
   ]
  },
  {
   "cell_type": "code",
   "execution_count": 15,
   "metadata": {
    "deletable": false,
    "nbgrader": {
     "checksum": "4fe98f0dcb5b37a2235c8ce6fe3706b6",
     "grade": false,
     "grade_id": "clinton-trump-n",
     "locked": false,
     "schema_version": 1,
     "solution": true
    }
   },
   "outputs": [],
   "source": [
    "def count_words(words, counts=None):\n",
    "    \"\"\"Return a dictionary with the word counts for the input iterator of words.\n",
    "    \n",
    "    If `counts` is None, create and return a new count `dict`.\n",
    "    If `counts` is a `dict` append new counts to it.\n",
    "    \"\"\"\n",
    "    words_list = list(words)\n",
    "    if counts is None:\n",
    "        counts = {}\n",
    "        for word in words_list:\n",
    "            counts[word] = words_list.count(word)\n",
    "        return counts\n",
    "    elif type(counts) is dict:\n",
    "        temp_counts = {}\n",
    "        for word in words_list:\n",
    "            if word in counts:\n",
    "                counts[word] += 1\n",
    "            else:\n",
    "                temp_counts[word] = words_list.count(word)\n",
    "        counts.update(temp_counts)\n",
    "        return counts\n",
    "        \n",
    "            "
   ]
  },
  {
   "cell_type": "code",
   "execution_count": 16,
   "metadata": {
    "deletable": false,
    "editable": false,
    "nbgrader": {
     "checksum": "95aa0bc1e803bf2ebf2b775370c931aa",
     "grade": true,
     "grade_id": "clinton-trump-o",
     "locked": true,
     "points": 2,
     "schema_version": 1,
     "solution": false
    }
   },
   "outputs": [],
   "source": [
    "text = \"\"\"\n",
    "On another day of chaotic developments over the week-old order,\n",
    "the State Department reversed its cancellation of visas for people \n",
    "from the affected countries, small numbers of travelers began venturing \n",
    "to airports to try to fly to the United States, and Mr. Trump mounted \n",
    "a harsh personal attack on the judge.\n",
    "In an early-morning Twitter post from his waterfront Florida resort, \n",
    "where he is spending the first getaway weekend of his presidency, \n",
    "Mr. Trump wrote, “The opinion of this so-called judge, which essentially \n",
    "takes law-enforcement away from our country, is ridiculous and will be \n",
    "overturned!”\n",
    "\"\"\"\n",
    "counts = count_words(yield_words(text))\n",
    "assert counts == {'affected': 1, 'airports': 1, 'attack': 1, 'away': 1, 'began': 1,\n",
    "                  'called': 1, 'cancellation': 1, 'chaotic': 1, 'countries': 1,\n",
    "                  'country': 1, 'day': 1, 'department': 1, 'developments': 1,\n",
    "                  'early': 1, 'enforcement': 1, 'essentially': 1, 'florida': 1,\n",
    "                  'fly': 1, 'getaway': 1, 'harsh': 1, 'in': 1, 'judge': 2, 'law': 1,\n",
    "                  'morning': 1, 'mounted': 1, 'mr.': 2, 'numbers': 1, 'old': 1, 'on': 1,\n",
    "                  'opinion': 1, 'order': 1, 'overturned': 1, 'people': 1, 'personal': 1,\n",
    "                  'post': 1, 'presidency': 1, 'resort': 1, 'reversed': 1, 'ridiculous': 1,\n",
    "                  'small': 1, 'spending': 1, 'state': 1, 'states': 1, 'takes': 1, 'the': 1,\n",
    "                  'travelers': 1, 'trump': 2, 'try': 1, 'twitter': 1, 'united': 1, \n",
    "                  'venturing': 1, 'visas': 1, 'waterfront': 1, 'week': 1, 'weekend': 1,\n",
    "                  'wrote': 1}"
   ]
  },
  {
   "cell_type": "code",
   "execution_count": 17,
   "metadata": {
    "deletable": false,
    "editable": false,
    "nbgrader": {
     "checksum": "667eeba0edc5db1b12fb52ca97d498f6",
     "grade": true,
     "grade_id": "clinton-trump-p",
     "locked": true,
     "points": 2,
     "schema_version": 1,
     "solution": false
    }
   },
   "outputs": [],
   "source": [
    "counts1 = {}\n",
    "for i in range(10):\n",
    "    count_words(['the'], counts1)\n",
    "assert counts1['the']==10"
   ]
  },
  {
   "cell_type": "markdown",
   "metadata": {},
   "source": [
    "## Trump and Clinton Tweets"
   ]
  },
  {
   "cell_type": "markdown",
   "metadata": {},
   "source": [
    "Now let's explore the Trump and Clinton tweets. First, load it as a `DataFrame`:"
   ]
  },
  {
   "cell_type": "code",
   "execution_count": 18,
   "metadata": {
    "deletable": false,
    "editable": false,
    "nbgrader": {
     "checksum": "b9ef84e7fe97ce46d9f3598a34934479",
     "grade": false,
     "grade_id": "clinton-trump-q",
     "locked": true,
     "schema_version": 1,
     "solution": false
    }
   },
   "outputs": [],
   "source": [
    "data = pd.read_csv('/data/clinton-trump-tweets/tweets.csv')"
   ]
  },
  {
   "cell_type": "code",
   "execution_count": 19,
   "metadata": {
    "deletable": false,
    "editable": false,
    "nbgrader": {
     "checksum": "63d84550d79c39e875ebf6eabcabef7f",
     "grade": false,
     "grade_id": "clinton-trump-r",
     "locked": true,
     "schema_version": 1,
     "solution": false
    }
   },
   "outputs": [
    {
     "data": {
      "text/html": [
       "<div>\n",
       "<style scoped>\n",
       "    .dataframe tbody tr th:only-of-type {\n",
       "        vertical-align: middle;\n",
       "    }\n",
       "\n",
       "    .dataframe tbody tr th {\n",
       "        vertical-align: top;\n",
       "    }\n",
       "\n",
       "    .dataframe thead th {\n",
       "        text-align: right;\n",
       "    }\n",
       "</style>\n",
       "<table border=\"1\" class=\"dataframe\">\n",
       "  <thead>\n",
       "    <tr style=\"text-align: right;\">\n",
       "      <th></th>\n",
       "      <th>id</th>\n",
       "      <th>handle</th>\n",
       "      <th>text</th>\n",
       "      <th>is_retweet</th>\n",
       "      <th>original_author</th>\n",
       "      <th>time</th>\n",
       "      <th>in_reply_to_screen_name</th>\n",
       "      <th>in_reply_to_status_id</th>\n",
       "      <th>in_reply_to_user_id</th>\n",
       "      <th>is_quote_status</th>\n",
       "      <th>...</th>\n",
       "      <th>place_type</th>\n",
       "      <th>place_country_code</th>\n",
       "      <th>place_country</th>\n",
       "      <th>place_contained_within</th>\n",
       "      <th>place_attributes</th>\n",
       "      <th>place_bounding_box</th>\n",
       "      <th>source_url</th>\n",
       "      <th>truncated</th>\n",
       "      <th>entities</th>\n",
       "      <th>extended_entities</th>\n",
       "    </tr>\n",
       "  </thead>\n",
       "  <tbody>\n",
       "    <tr>\n",
       "      <th>0</th>\n",
       "      <td>780925634159796224</td>\n",
       "      <td>HillaryClinton</td>\n",
       "      <td>The question in this election: Who can put the...</td>\n",
       "      <td>False</td>\n",
       "      <td>NaN</td>\n",
       "      <td>2016-09-28T00:22:34</td>\n",
       "      <td>NaN</td>\n",
       "      <td>NaN</td>\n",
       "      <td>NaN</td>\n",
       "      <td>False</td>\n",
       "      <td>...</td>\n",
       "      <td>NaN</td>\n",
       "      <td>NaN</td>\n",
       "      <td>NaN</td>\n",
       "      <td>NaN</td>\n",
       "      <td>NaN</td>\n",
       "      <td>NaN</td>\n",
       "      <td>https://studio.twitter.com</td>\n",
       "      <td>False</td>\n",
       "      <td>{'media': [{'display_url': 'pic.twitter.com/Xr...</td>\n",
       "      <td>{'media': [{'display_url': 'pic.twitter.com/Xr...</td>\n",
       "    </tr>\n",
       "    <tr>\n",
       "      <th>1</th>\n",
       "      <td>780916180899037184</td>\n",
       "      <td>HillaryClinton</td>\n",
       "      <td>Last night, Donald Trump said not paying taxes...</td>\n",
       "      <td>True</td>\n",
       "      <td>timkaine</td>\n",
       "      <td>2016-09-27T23:45:00</td>\n",
       "      <td>NaN</td>\n",
       "      <td>NaN</td>\n",
       "      <td>NaN</td>\n",
       "      <td>False</td>\n",
       "      <td>...</td>\n",
       "      <td>NaN</td>\n",
       "      <td>NaN</td>\n",
       "      <td>NaN</td>\n",
       "      <td>NaN</td>\n",
       "      <td>NaN</td>\n",
       "      <td>NaN</td>\n",
       "      <td>http://twitter.com</td>\n",
       "      <td>False</td>\n",
       "      <td>{'media': [{'display_url': 'pic.twitter.com/t0...</td>\n",
       "      <td>{'media': [{'display_url': 'pic.twitter.com/t0...</td>\n",
       "    </tr>\n",
       "    <tr>\n",
       "      <th>2</th>\n",
       "      <td>780911564857761793</td>\n",
       "      <td>HillaryClinton</td>\n",
       "      <td>Couldn't be more proud of @HillaryClinton. Her...</td>\n",
       "      <td>True</td>\n",
       "      <td>POTUS</td>\n",
       "      <td>2016-09-27T23:26:40</td>\n",
       "      <td>NaN</td>\n",
       "      <td>NaN</td>\n",
       "      <td>NaN</td>\n",
       "      <td>False</td>\n",
       "      <td>...</td>\n",
       "      <td>NaN</td>\n",
       "      <td>NaN</td>\n",
       "      <td>NaN</td>\n",
       "      <td>NaN</td>\n",
       "      <td>NaN</td>\n",
       "      <td>NaN</td>\n",
       "      <td>https://about.twitter.com/products/tweetdeck</td>\n",
       "      <td>False</td>\n",
       "      <td>{'user_mentions': [{'id_str': '1536791610', 'n...</td>\n",
       "      <td>NaN</td>\n",
       "    </tr>\n",
       "    <tr>\n",
       "      <th>3</th>\n",
       "      <td>780907038650068994</td>\n",
       "      <td>HillaryClinton</td>\n",
       "      <td>If we stand together, there's nothing we can't...</td>\n",
       "      <td>False</td>\n",
       "      <td>NaN</td>\n",
       "      <td>2016-09-27T23:08:41</td>\n",
       "      <td>NaN</td>\n",
       "      <td>NaN</td>\n",
       "      <td>NaN</td>\n",
       "      <td>False</td>\n",
       "      <td>...</td>\n",
       "      <td>NaN</td>\n",
       "      <td>NaN</td>\n",
       "      <td>NaN</td>\n",
       "      <td>NaN</td>\n",
       "      <td>NaN</td>\n",
       "      <td>NaN</td>\n",
       "      <td>https://studio.twitter.com</td>\n",
       "      <td>False</td>\n",
       "      <td>{'media': [{'display_url': 'pic.twitter.com/Q3...</td>\n",
       "      <td>{'media': [{'display_url': 'pic.twitter.com/Q3...</td>\n",
       "    </tr>\n",
       "    <tr>\n",
       "      <th>4</th>\n",
       "      <td>780897419462602752</td>\n",
       "      <td>HillaryClinton</td>\n",
       "      <td>Both candidates were asked about how they'd co...</td>\n",
       "      <td>False</td>\n",
       "      <td>NaN</td>\n",
       "      <td>2016-09-27T22:30:27</td>\n",
       "      <td>NaN</td>\n",
       "      <td>NaN</td>\n",
       "      <td>NaN</td>\n",
       "      <td>False</td>\n",
       "      <td>...</td>\n",
       "      <td>NaN</td>\n",
       "      <td>NaN</td>\n",
       "      <td>NaN</td>\n",
       "      <td>NaN</td>\n",
       "      <td>NaN</td>\n",
       "      <td>NaN</td>\n",
       "      <td>https://about.twitter.com/products/tweetdeck</td>\n",
       "      <td>False</td>\n",
       "      <td>{'user_mentions': [], 'symbols': [], 'urls': [...</td>\n",
       "      <td>NaN</td>\n",
       "    </tr>\n",
       "  </tbody>\n",
       "</table>\n",
       "<p>5 rows × 28 columns</p>\n",
       "</div>"
      ],
      "text/plain": [
       "                   id          handle  \\\n",
       "0  780925634159796224  HillaryClinton   \n",
       "1  780916180899037184  HillaryClinton   \n",
       "2  780911564857761793  HillaryClinton   \n",
       "3  780907038650068994  HillaryClinton   \n",
       "4  780897419462602752  HillaryClinton   \n",
       "\n",
       "                                                text  is_retweet  \\\n",
       "0  The question in this election: Who can put the...       False   \n",
       "1  Last night, Donald Trump said not paying taxes...        True   \n",
       "2  Couldn't be more proud of @HillaryClinton. Her...        True   \n",
       "3  If we stand together, there's nothing we can't...       False   \n",
       "4  Both candidates were asked about how they'd co...       False   \n",
       "\n",
       "  original_author                 time in_reply_to_screen_name  \\\n",
       "0             NaN  2016-09-28T00:22:34                     NaN   \n",
       "1        timkaine  2016-09-27T23:45:00                     NaN   \n",
       "2           POTUS  2016-09-27T23:26:40                     NaN   \n",
       "3             NaN  2016-09-27T23:08:41                     NaN   \n",
       "4             NaN  2016-09-27T22:30:27                     NaN   \n",
       "\n",
       "   in_reply_to_status_id  in_reply_to_user_id  is_quote_status  \\\n",
       "0                    NaN                  NaN            False   \n",
       "1                    NaN                  NaN            False   \n",
       "2                    NaN                  NaN            False   \n",
       "3                    NaN                  NaN            False   \n",
       "4                    NaN                  NaN            False   \n",
       "\n",
       "                         ...                         place_type  \\\n",
       "0                        ...                                NaN   \n",
       "1                        ...                                NaN   \n",
       "2                        ...                                NaN   \n",
       "3                        ...                                NaN   \n",
       "4                        ...                                NaN   \n",
       "\n",
       "   place_country_code  place_country  place_contained_within  \\\n",
       "0                 NaN            NaN                     NaN   \n",
       "1                 NaN            NaN                     NaN   \n",
       "2                 NaN            NaN                     NaN   \n",
       "3                 NaN            NaN                     NaN   \n",
       "4                 NaN            NaN                     NaN   \n",
       "\n",
       "   place_attributes place_bounding_box  \\\n",
       "0               NaN                NaN   \n",
       "1               NaN                NaN   \n",
       "2               NaN                NaN   \n",
       "3               NaN                NaN   \n",
       "4               NaN                NaN   \n",
       "\n",
       "                                     source_url truncated  \\\n",
       "0                    https://studio.twitter.com     False   \n",
       "1                            http://twitter.com     False   \n",
       "2  https://about.twitter.com/products/tweetdeck     False   \n",
       "3                    https://studio.twitter.com     False   \n",
       "4  https://about.twitter.com/products/tweetdeck     False   \n",
       "\n",
       "                                            entities  \\\n",
       "0  {'media': [{'display_url': 'pic.twitter.com/Xr...   \n",
       "1  {'media': [{'display_url': 'pic.twitter.com/t0...   \n",
       "2  {'user_mentions': [{'id_str': '1536791610', 'n...   \n",
       "3  {'media': [{'display_url': 'pic.twitter.com/Q3...   \n",
       "4  {'user_mentions': [], 'symbols': [], 'urls': [...   \n",
       "\n",
       "                                   extended_entities  \n",
       "0  {'media': [{'display_url': 'pic.twitter.com/Xr...  \n",
       "1  {'media': [{'display_url': 'pic.twitter.com/t0...  \n",
       "2                                                NaN  \n",
       "3  {'media': [{'display_url': 'pic.twitter.com/Q3...  \n",
       "4                                                NaN  \n",
       "\n",
       "[5 rows x 28 columns]"
      ]
     },
     "execution_count": 19,
     "metadata": {},
     "output_type": "execute_result"
    }
   ],
   "source": [
    "data.head()"
   ]
  },
  {
   "cell_type": "code",
   "execution_count": 20,
   "metadata": {
    "deletable": false,
    "editable": false,
    "nbgrader": {
     "checksum": "68739b9d0834056b1d497e83dbbb1672",
     "grade": false,
     "grade_id": "clinton-trump-s",
     "locked": true,
     "schema_version": 1,
     "solution": false
    }
   },
   "outputs": [
    {
     "data": {
      "text/plain": [
       "6444"
      ]
     },
     "execution_count": 20,
     "metadata": {},
     "output_type": "execute_result"
    }
   ],
   "source": [
    "len(data)"
   ]
  },
  {
   "cell_type": "markdown",
   "metadata": {},
   "source": [
    "Create a new `DataFrame` named `subset`:\n",
    "\n",
    "* Call the `.sample()` method to extract `1000` random rows from the dataset. For larger datasets, it is often important to begin looking at subsets of the data for performance reasons.\n",
    "* Call the `.reset_index()` method to reset the row index to ordered integers.\n",
    "* Extract the following columns (`handle`, `text`, `time`, `retweet_count`, `favorite_count`)."
   ]
  },
  {
   "cell_type": "code",
   "execution_count": 21,
   "metadata": {
    "deletable": false,
    "nbgrader": {
     "checksum": "7d0b00a496b3a0f45bd5b9d1b69fc6f2",
     "grade": false,
     "grade_id": "clinton-trump-t",
     "locked": false,
     "schema_version": 1,
     "solution": true
    }
   },
   "outputs": [],
   "source": [
    "subset = data.sample(1000)\n",
    "subset = subset.reset_index()\n",
    "subset = subset[[\"handle\", \"text\", \"time\", \"retweet_count\", \"favorite_count\"]]"
   ]
  },
  {
   "cell_type": "code",
   "execution_count": 22,
   "metadata": {
    "deletable": false,
    "editable": false,
    "nbgrader": {
     "checksum": "ea56c0fec351e87ad88f14d56ba17887",
     "grade": false,
     "grade_id": "clinton-trump-u",
     "locked": true,
     "schema_version": 1,
     "solution": false
    }
   },
   "outputs": [
    {
     "data": {
      "text/html": [
       "<div>\n",
       "<style scoped>\n",
       "    .dataframe tbody tr th:only-of-type {\n",
       "        vertical-align: middle;\n",
       "    }\n",
       "\n",
       "    .dataframe tbody tr th {\n",
       "        vertical-align: top;\n",
       "    }\n",
       "\n",
       "    .dataframe thead th {\n",
       "        text-align: right;\n",
       "    }\n",
       "</style>\n",
       "<table border=\"1\" class=\"dataframe\">\n",
       "  <thead>\n",
       "    <tr style=\"text-align: right;\">\n",
       "      <th></th>\n",
       "      <th>handle</th>\n",
       "      <th>text</th>\n",
       "      <th>time</th>\n",
       "      <th>retweet_count</th>\n",
       "      <th>favorite_count</th>\n",
       "    </tr>\n",
       "  </thead>\n",
       "  <tbody>\n",
       "    <tr>\n",
       "      <th>0</th>\n",
       "      <td>realDonaldTrump</td>\n",
       "      <td>\"@oasisupernova: @realDonaldTrump UP TO 8.4 MI...</td>\n",
       "      <td>2016-05-25T05:42:49</td>\n",
       "      <td>2684</td>\n",
       "      <td>9643</td>\n",
       "    </tr>\n",
       "    <tr>\n",
       "      <th>1</th>\n",
       "      <td>HillaryClinton</td>\n",
       "      <td>\"People ask me all the time: How does she do i...</td>\n",
       "      <td>2016-07-29T02:13:01</td>\n",
       "      <td>1399</td>\n",
       "      <td>4790</td>\n",
       "    </tr>\n",
       "    <tr>\n",
       "      <th>2</th>\n",
       "      <td>realDonaldTrump</td>\n",
       "      <td>The media is really on a witch-hunt against me...</td>\n",
       "      <td>2016-05-15T19:26:45</td>\n",
       "      <td>8771</td>\n",
       "      <td>24284</td>\n",
       "    </tr>\n",
       "    <tr>\n",
       "      <th>3</th>\n",
       "      <td>HillaryClinton</td>\n",
       "      <td>David Duke’s show cheers Trump-Breitbart merge...</td>\n",
       "      <td>2016-08-23T19:36:47</td>\n",
       "      <td>1627</td>\n",
       "      <td>1525</td>\n",
       "    </tr>\n",
       "    <tr>\n",
       "      <th>4</th>\n",
       "      <td>realDonaldTrump</td>\n",
       "      <td>USSS did an excellent job stopping the maniac ...</td>\n",
       "      <td>2016-03-12T23:41:57</td>\n",
       "      <td>10966</td>\n",
       "      <td>21203</td>\n",
       "    </tr>\n",
       "  </tbody>\n",
       "</table>\n",
       "</div>"
      ],
      "text/plain": [
       "            handle                                               text  \\\n",
       "0  realDonaldTrump  \"@oasisupernova: @realDonaldTrump UP TO 8.4 MI...   \n",
       "1   HillaryClinton  \"People ask me all the time: How does she do i...   \n",
       "2  realDonaldTrump  The media is really on a witch-hunt against me...   \n",
       "3   HillaryClinton  David Duke’s show cheers Trump-Breitbart merge...   \n",
       "4  realDonaldTrump  USSS did an excellent job stopping the maniac ...   \n",
       "\n",
       "                  time  retweet_count  favorite_count  \n",
       "0  2016-05-25T05:42:49           2684            9643  \n",
       "1  2016-07-29T02:13:01           1399            4790  \n",
       "2  2016-05-15T19:26:45           8771           24284  \n",
       "3  2016-08-23T19:36:47           1627            1525  \n",
       "4  2016-03-12T23:41:57          10966           21203  "
      ]
     },
     "execution_count": 22,
     "metadata": {},
     "output_type": "execute_result"
    }
   ],
   "source": [
    "subset.head()"
   ]
  },
  {
   "cell_type": "code",
   "execution_count": 23,
   "metadata": {},
   "outputs": [
    {
     "data": {
      "text/html": [
       "<div>\n",
       "<style scoped>\n",
       "    .dataframe tbody tr th:only-of-type {\n",
       "        vertical-align: middle;\n",
       "    }\n",
       "\n",
       "    .dataframe tbody tr th {\n",
       "        vertical-align: top;\n",
       "    }\n",
       "\n",
       "    .dataframe thead th {\n",
       "        text-align: right;\n",
       "    }\n",
       "</style>\n",
       "<table border=\"1\" class=\"dataframe\">\n",
       "  <thead>\n",
       "    <tr style=\"text-align: right;\">\n",
       "      <th></th>\n",
       "      <th>text</th>\n",
       "      <th>handle</th>\n",
       "    </tr>\n",
       "  </thead>\n",
       "  <tbody>\n",
       "    <tr>\n",
       "      <th>0</th>\n",
       "      <td>\"@oasisupernova: @realDonaldTrump UP TO 8.4 MI...</td>\n",
       "      <td>realDonaldTrump</td>\n",
       "    </tr>\n",
       "    <tr>\n",
       "      <th>1</th>\n",
       "      <td>\"People ask me all the time: How does she do i...</td>\n",
       "      <td>HillaryClinton</td>\n",
       "    </tr>\n",
       "    <tr>\n",
       "      <th>2</th>\n",
       "      <td>The media is really on a witch-hunt against me...</td>\n",
       "      <td>realDonaldTrump</td>\n",
       "    </tr>\n",
       "    <tr>\n",
       "      <th>3</th>\n",
       "      <td>David Duke’s show cheers Trump-Breitbart merge...</td>\n",
       "      <td>HillaryClinton</td>\n",
       "    </tr>\n",
       "    <tr>\n",
       "      <th>4</th>\n",
       "      <td>USSS did an excellent job stopping the maniac ...</td>\n",
       "      <td>realDonaldTrump</td>\n",
       "    </tr>\n",
       "    <tr>\n",
       "      <th>5</th>\n",
       "      <td>Bernie Sanders is continuing his quest because...</td>\n",
       "      <td>realDonaldTrump</td>\n",
       "    </tr>\n",
       "    <tr>\n",
       "      <th>6</th>\n",
       "      <td>\"@DiamondandSilk: .@DonaldJTrumpJr awesome job...</td>\n",
       "      <td>realDonaldTrump</td>\n",
       "    </tr>\n",
       "    <tr>\n",
       "      <th>7</th>\n",
       "      <td>The #DemConvention painted a bright picture of...</td>\n",
       "      <td>HillaryClinton</td>\n",
       "    </tr>\n",
       "    <tr>\n",
       "      <th>8</th>\n",
       "      <td>\"@Gengm7: @jakeda @realDonaldTrump As of April...</td>\n",
       "      <td>realDonaldTrump</td>\n",
       "    </tr>\n",
       "    <tr>\n",
       "      <th>9</th>\n",
       "      <td>Great to be on @andersoncooper tonight with my...</td>\n",
       "      <td>realDonaldTrump</td>\n",
       "    </tr>\n",
       "    <tr>\n",
       "      <th>10</th>\n",
       "      <td>Trump and his hateful language are affecting o...</td>\n",
       "      <td>HillaryClinton</td>\n",
       "    </tr>\n",
       "    <tr>\n",
       "      <th>11</th>\n",
       "      <td>Trump took over $100,000 from emergency 9/11 f...</td>\n",
       "      <td>HillaryClinton</td>\n",
       "    </tr>\n",
       "    <tr>\n",
       "      <th>12</th>\n",
       "      <td>Hillary took Donald Trump's reckless economic ...</td>\n",
       "      <td>HillaryClinton</td>\n",
       "    </tr>\n",
       "    <tr>\n",
       "      <th>13</th>\n",
       "      <td>El mantra de Trump: Beneficiarse sin importar ...</td>\n",
       "      <td>HillaryClinton</td>\n",
       "    </tr>\n",
       "    <tr>\n",
       "      <th>14</th>\n",
       "      <td>Too many kids say bye to their parents every m...</td>\n",
       "      <td>HillaryClinton</td>\n",
       "    </tr>\n",
       "    <tr>\n",
       "      <th>15</th>\n",
       "      <td>Face The Nation's interview of me was the high...</td>\n",
       "      <td>realDonaldTrump</td>\n",
       "    </tr>\n",
       "    <tr>\n",
       "      <th>16</th>\n",
       "      <td>\"@johnjohnlacca: Donald u have done a terrific...</td>\n",
       "      <td>realDonaldTrump</td>\n",
       "    </tr>\n",
       "    <tr>\n",
       "      <th>17</th>\n",
       "      <td>\"@splashpoint50: @realDonaldTrump Our ReTrumpl...</td>\n",
       "      <td>realDonaldTrump</td>\n",
       "    </tr>\n",
       "    <tr>\n",
       "      <th>18</th>\n",
       "      <td>“There is no reason to feel helpless about the...</td>\n",
       "      <td>HillaryClinton</td>\n",
       "    </tr>\n",
       "    <tr>\n",
       "      <th>19</th>\n",
       "      <td>\"If you're not registered, and you're eligible...</td>\n",
       "      <td>HillaryClinton</td>\n",
       "    </tr>\n",
       "    <tr>\n",
       "      <th>20</th>\n",
       "      <td>Why would the people of Texas support Ted Cruz...</td>\n",
       "      <td>realDonaldTrump</td>\n",
       "    </tr>\n",
       "    <tr>\n",
       "      <th>21</th>\n",
       "      <td>While Hillary and I both won South Carolina by...</td>\n",
       "      <td>realDonaldTrump</td>\n",
       "    </tr>\n",
       "    <tr>\n",
       "      <th>22</th>\n",
       "      <td>I was referring to a backstop for pre-existing...</td>\n",
       "      <td>realDonaldTrump</td>\n",
       "    </tr>\n",
       "    <tr>\n",
       "      <th>23</th>\n",
       "      <td>\"We’ve reached a milestone...the first time th...</td>\n",
       "      <td>HillaryClinton</td>\n",
       "    </tr>\n",
       "    <tr>\n",
       "      <th>24</th>\n",
       "      <td>Meet three women who inspired Hillary to becom...</td>\n",
       "      <td>HillaryClinton</td>\n",
       "    </tr>\n",
       "    <tr>\n",
       "      <th>25</th>\n",
       "      <td>Joy Behar, who was fired from her last show fo...</td>\n",
       "      <td>realDonaldTrump</td>\n",
       "    </tr>\n",
       "    <tr>\n",
       "      <th>26</th>\n",
       "      <td>Sarah McBride, the first trans person to speak...</td>\n",
       "      <td>HillaryClinton</td>\n",
       "    </tr>\n",
       "    <tr>\n",
       "      <th>27</th>\n",
       "      <td>Gun violence requires more than moments of sil...</td>\n",
       "      <td>HillaryClinton</td>\n",
       "    </tr>\n",
       "    <tr>\n",
       "      <th>28</th>\n",
       "      <td>Crooked Hillary has been fighting ISIS, or wha...</td>\n",
       "      <td>realDonaldTrump</td>\n",
       "    </tr>\n",
       "    <tr>\n",
       "      <th>29</th>\n",
       "      <td>The Club for Growth is a very dishonest group....</td>\n",
       "      <td>realDonaldTrump</td>\n",
       "    </tr>\n",
       "    <tr>\n",
       "      <th>...</th>\n",
       "      <td>...</td>\n",
       "      <td>...</td>\n",
       "    </tr>\n",
       "    <tr>\n",
       "      <th>970</th>\n",
       "      <td>Our not very bright Vice President, Joe Biden,...</td>\n",
       "      <td>realDonaldTrump</td>\n",
       "    </tr>\n",
       "    <tr>\n",
       "      <th>971</th>\n",
       "      <td>National Review is a failing publication that ...</td>\n",
       "      <td>realDonaldTrump</td>\n",
       "    </tr>\n",
       "    <tr>\n",
       "      <th>972</th>\n",
       "      <td>Dear Congress,\\n\\nLet's get this done.\\n\\nThan...</td>\n",
       "      <td>HillaryClinton</td>\n",
       "    </tr>\n",
       "    <tr>\n",
       "      <th>973</th>\n",
       "      <td>\"Cuando Donald Trump habla de deportar a 11 mi...</td>\n",
       "      <td>HillaryClinton</td>\n",
       "    </tr>\n",
       "    <tr>\n",
       "      <th>974</th>\n",
       "      <td>Trump is harkening back to the most shameful c...</td>\n",
       "      <td>HillaryClinton</td>\n",
       "    </tr>\n",
       "    <tr>\n",
       "      <th>975</th>\n",
       "      <td>Thank you Travis County, Texas!\\n#MakeAmericaG...</td>\n",
       "      <td>realDonaldTrump</td>\n",
       "    </tr>\n",
       "    <tr>\n",
       "      <th>976</th>\n",
       "      <td>Crooked Hillary Clinton- discussing the #Secon...</td>\n",
       "      <td>realDonaldTrump</td>\n",
       "    </tr>\n",
       "    <tr>\n",
       "      <th>977</th>\n",
       "      <td>Thank you, @BernieSanders. Proud to fight alon...</td>\n",
       "      <td>HillaryClinton</td>\n",
       "    </tr>\n",
       "    <tr>\n",
       "      <th>978</th>\n",
       "      <td>My statement on NATO being obsolete and dispro...</td>\n",
       "      <td>realDonaldTrump</td>\n",
       "    </tr>\n",
       "    <tr>\n",
       "      <th>979</th>\n",
       "      <td>Trump thinks it's too hard to make his product...</td>\n",
       "      <td>HillaryClinton</td>\n",
       "    </tr>\n",
       "    <tr>\n",
       "      <th>980</th>\n",
       "      <td>When our SEALs took out bin Laden, they brough...</td>\n",
       "      <td>HillaryClinton</td>\n",
       "    </tr>\n",
       "    <tr>\n",
       "      <th>981</th>\n",
       "      <td>The statement put out yesterday by @FoxNews wa...</td>\n",
       "      <td>realDonaldTrump</td>\n",
       "    </tr>\n",
       "    <tr>\n",
       "      <th>982</th>\n",
       "      <td>Ted Cruz is totally unelectable, if he even ge...</td>\n",
       "      <td>realDonaldTrump</td>\n",
       "    </tr>\n",
       "    <tr>\n",
       "      <th>983</th>\n",
       "      <td>.@lorellapraeli: HFA staffer. DREAMer. U.S. ci...</td>\n",
       "      <td>HillaryClinton</td>\n",
       "    </tr>\n",
       "    <tr>\n",
       "      <th>984</th>\n",
       "      <td>We need comprehensive immigration reform to ke...</td>\n",
       "      <td>HillaryClinton</td>\n",
       "    </tr>\n",
       "    <tr>\n",
       "      <th>985</th>\n",
       "      <td>Thank you @ScottWalker! #AmericaFirst \\n#RNCin...</td>\n",
       "      <td>realDonaldTrump</td>\n",
       "    </tr>\n",
       "    <tr>\n",
       "      <th>986</th>\n",
       "      <td>This lifelong Republican wrote a letter to his...</td>\n",
       "      <td>HillaryClinton</td>\n",
       "    </tr>\n",
       "    <tr>\n",
       "      <th>987</th>\n",
       "      <td>On Saturday a great man, Elie Wiesel, passed a...</td>\n",
       "      <td>realDonaldTrump</td>\n",
       "    </tr>\n",
       "    <tr>\n",
       "      <th>988</th>\n",
       "      <td>Donald Trump's ties to Russia may conflict wit...</td>\n",
       "      <td>HillaryClinton</td>\n",
       "    </tr>\n",
       "    <tr>\n",
       "      <th>989</th>\n",
       "      <td>It’s Primary Day, Indiana. If you’re a Hoosier...</td>\n",
       "      <td>HillaryClinton</td>\n",
       "    </tr>\n",
       "    <tr>\n",
       "      <th>990</th>\n",
       "      <td>Donald Trump considers his shuttered casinos a...</td>\n",
       "      <td>HillaryClinton</td>\n",
       "    </tr>\n",
       "    <tr>\n",
       "      <th>991</th>\n",
       "      <td>Mi México, and the world, lost a great singer,...</td>\n",
       "      <td>HillaryClinton</td>\n",
       "    </tr>\n",
       "    <tr>\n",
       "      <th>992</th>\n",
       "      <td>Why would the great people of Florida vote for...</td>\n",
       "      <td>realDonaldTrump</td>\n",
       "    </tr>\n",
       "    <tr>\n",
       "      <th>993</th>\n",
       "      <td>\"No more families should have to go through wh...</td>\n",
       "      <td>HillaryClinton</td>\n",
       "    </tr>\n",
       "    <tr>\n",
       "      <th>994</th>\n",
       "      <td>Just announced that as many as 5000 ISIS fight...</td>\n",
       "      <td>realDonaldTrump</td>\n",
       "    </tr>\n",
       "    <tr>\n",
       "      <th>995</th>\n",
       "      <td>Crooked Hillary Clinton is being protected by ...</td>\n",
       "      <td>realDonaldTrump</td>\n",
       "    </tr>\n",
       "    <tr>\n",
       "      <th>996</th>\n",
       "      <td>.@meetthepress and @chucktodd did a 1 hour hit...</td>\n",
       "      <td>realDonaldTrump</td>\n",
       "    </tr>\n",
       "    <tr>\n",
       "      <th>997</th>\n",
       "      <td>Sad sack @JebBush has just done another ad on ...</td>\n",
       "      <td>realDonaldTrump</td>\n",
       "    </tr>\n",
       "    <tr>\n",
       "      <th>998</th>\n",
       "      <td>\"I trust Hillary because...I've seen her lifel...</td>\n",
       "      <td>HillaryClinton</td>\n",
       "    </tr>\n",
       "    <tr>\n",
       "      <th>999</th>\n",
       "      <td>Look forward to being in Tampa this afternoon....</td>\n",
       "      <td>realDonaldTrump</td>\n",
       "    </tr>\n",
       "  </tbody>\n",
       "</table>\n",
       "<p>1000 rows × 2 columns</p>\n",
       "</div>"
      ],
      "text/plain": [
       "                                                  text           handle\n",
       "0    \"@oasisupernova: @realDonaldTrump UP TO 8.4 MI...  realDonaldTrump\n",
       "1    \"People ask me all the time: How does she do i...   HillaryClinton\n",
       "2    The media is really on a witch-hunt against me...  realDonaldTrump\n",
       "3    David Duke’s show cheers Trump-Breitbart merge...   HillaryClinton\n",
       "4    USSS did an excellent job stopping the maniac ...  realDonaldTrump\n",
       "5    Bernie Sanders is continuing his quest because...  realDonaldTrump\n",
       "6    \"@DiamondandSilk: .@DonaldJTrumpJr awesome job...  realDonaldTrump\n",
       "7    The #DemConvention painted a bright picture of...   HillaryClinton\n",
       "8    \"@Gengm7: @jakeda @realDonaldTrump As of April...  realDonaldTrump\n",
       "9    Great to be on @andersoncooper tonight with my...  realDonaldTrump\n",
       "10   Trump and his hateful language are affecting o...   HillaryClinton\n",
       "11   Trump took over $100,000 from emergency 9/11 f...   HillaryClinton\n",
       "12   Hillary took Donald Trump's reckless economic ...   HillaryClinton\n",
       "13   El mantra de Trump: Beneficiarse sin importar ...   HillaryClinton\n",
       "14   Too many kids say bye to their parents every m...   HillaryClinton\n",
       "15   Face The Nation's interview of me was the high...  realDonaldTrump\n",
       "16   \"@johnjohnlacca: Donald u have done a terrific...  realDonaldTrump\n",
       "17   \"@splashpoint50: @realDonaldTrump Our ReTrumpl...  realDonaldTrump\n",
       "18   “There is no reason to feel helpless about the...   HillaryClinton\n",
       "19   \"If you're not registered, and you're eligible...   HillaryClinton\n",
       "20   Why would the people of Texas support Ted Cruz...  realDonaldTrump\n",
       "21   While Hillary and I both won South Carolina by...  realDonaldTrump\n",
       "22   I was referring to a backstop for pre-existing...  realDonaldTrump\n",
       "23   \"We’ve reached a milestone...the first time th...   HillaryClinton\n",
       "24   Meet three women who inspired Hillary to becom...   HillaryClinton\n",
       "25   Joy Behar, who was fired from her last show fo...  realDonaldTrump\n",
       "26   Sarah McBride, the first trans person to speak...   HillaryClinton\n",
       "27   Gun violence requires more than moments of sil...   HillaryClinton\n",
       "28   Crooked Hillary has been fighting ISIS, or wha...  realDonaldTrump\n",
       "29   The Club for Growth is a very dishonest group....  realDonaldTrump\n",
       "..                                                 ...              ...\n",
       "970  Our not very bright Vice President, Joe Biden,...  realDonaldTrump\n",
       "971  National Review is a failing publication that ...  realDonaldTrump\n",
       "972  Dear Congress,\\n\\nLet's get this done.\\n\\nThan...   HillaryClinton\n",
       "973  \"Cuando Donald Trump habla de deportar a 11 mi...   HillaryClinton\n",
       "974  Trump is harkening back to the most shameful c...   HillaryClinton\n",
       "975  Thank you Travis County, Texas!\\n#MakeAmericaG...  realDonaldTrump\n",
       "976  Crooked Hillary Clinton- discussing the #Secon...  realDonaldTrump\n",
       "977  Thank you, @BernieSanders. Proud to fight alon...   HillaryClinton\n",
       "978  My statement on NATO being obsolete and dispro...  realDonaldTrump\n",
       "979  Trump thinks it's too hard to make his product...   HillaryClinton\n",
       "980  When our SEALs took out bin Laden, they brough...   HillaryClinton\n",
       "981  The statement put out yesterday by @FoxNews wa...  realDonaldTrump\n",
       "982  Ted Cruz is totally unelectable, if he even ge...  realDonaldTrump\n",
       "983  .@lorellapraeli: HFA staffer. DREAMer. U.S. ci...   HillaryClinton\n",
       "984  We need comprehensive immigration reform to ke...   HillaryClinton\n",
       "985  Thank you @ScottWalker! #AmericaFirst \\n#RNCin...  realDonaldTrump\n",
       "986  This lifelong Republican wrote a letter to his...   HillaryClinton\n",
       "987  On Saturday a great man, Elie Wiesel, passed a...  realDonaldTrump\n",
       "988  Donald Trump's ties to Russia may conflict wit...   HillaryClinton\n",
       "989  It’s Primary Day, Indiana. If you’re a Hoosier...   HillaryClinton\n",
       "990  Donald Trump considers his shuttered casinos a...   HillaryClinton\n",
       "991  Mi México, and the world, lost a great singer,...   HillaryClinton\n",
       "992  Why would the great people of Florida vote for...  realDonaldTrump\n",
       "993  \"No more families should have to go through wh...   HillaryClinton\n",
       "994  Just announced that as many as 5000 ISIS fight...  realDonaldTrump\n",
       "995  Crooked Hillary Clinton is being protected by ...  realDonaldTrump\n",
       "996  .@meetthepress and @chucktodd did a 1 hour hit...  realDonaldTrump\n",
       "997  Sad sack @JebBush has just done another ad on ...  realDonaldTrump\n",
       "998  \"I trust Hillary because...I've seen her lifel...   HillaryClinton\n",
       "999  Look forward to being in Tampa this afternoon....  realDonaldTrump\n",
       "\n",
       "[1000 rows x 2 columns]"
      ]
     },
     "execution_count": 23,
     "metadata": {},
     "output_type": "execute_result"
    }
   ],
   "source": [
    "subset.loc[:, [\"text\",\"handle\"]]"
   ]
  },
  {
   "cell_type": "code",
   "execution_count": 24,
   "metadata": {
    "deletable": false,
    "editable": false,
    "nbgrader": {
     "checksum": "36ec4b6b211789b88b7c18382e3d2827",
     "grade": true,
     "grade_id": "clinton-trump-v",
     "locked": true,
     "points": 2,
     "schema_version": 1,
     "solution": false
    }
   },
   "outputs": [],
   "source": [
    "assert list(subset.columns)==['handle', 'text', 'time', 'retweet_count', 'favorite_count']\n",
    "assert len(subset)==1000\n",
    "assert list(subset.index)[0:10]==list(range(10))"
   ]
  },
  {
   "cell_type": "markdown",
   "metadata": {},
   "source": [
    "## Initial visualizations"
   ]
  },
  {
   "cell_type": "markdown",
   "metadata": {},
   "source": [
    "Create a 2d scatter plot using:\n",
    "\n",
    "* `retweet_count` for x.\n",
    "* `favorite_count` for y.\n",
    "* `handle` for color.\n",
    "* A log scale for both x and y."
   ]
  },
  {
   "cell_type": "code",
   "execution_count": 25,
   "metadata": {
    "deletable": false,
    "nbgrader": {
     "checksum": "147146c2756e56b99d947f5f60e432ec",
     "grade": true,
     "grade_id": "clinton-trump-w",
     "locked": false,
     "points": 2,
     "schema_version": 1,
     "solution": true
    }
   },
   "outputs": [
    {
     "data": {
      "application/vnd.vegalite.v1+json": {
       "$schema": "https://vega.github.io/schema/vega-lite/v1.2.1.json",
       "data": {
        "values": [
         {
          "favorite_count": 9643,
          "handle": "realDonaldTrump",
          "retweet_count": 2684,
          "text": "\"@oasisupernova: @realDonaldTrump UP TO 8.4 MILLION FOLLOWERS. CAN'T STOP THE #TrumpTrain 🚂 #MakeAmericaGreatAgain\"",
          "time": "2016-05-25T05:42:49"
         },
         {
          "favorite_count": 4790,
          "handle": "HillaryClinton",
          "retweet_count": 1399,
          "text": "\"People ask me all the time: How does she do it?…Here’s how: It’s because she never, ever forgets who she’s fighting for.” —@ChelseaClinton",
          "time": "2016-07-29T02:13:01"
         },
         {
          "favorite_count": 24284,
          "handle": "realDonaldTrump",
          "retweet_count": 8771,
          "text": "The media is really on a witch-hunt against me. False reporting, and plenty of it - but we will prevail!",
          "time": "2016-05-15T19:26:45"
         },
         {
          "favorite_count": 1525,
          "handle": "HillaryClinton",
          "retweet_count": 1627,
          "text": "David Duke’s show cheers Trump-Breitbart merger: “We appear to have taken over the Republican Party” https://t.co/uKQglNdX8b via @Salon",
          "time": "2016-08-23T19:36:47"
         },
         {
          "favorite_count": 21203,
          "handle": "realDonaldTrump",
          "retweet_count": 10966,
          "text": "USSS did an excellent job stopping the maniac running to the stage. He has ties to ISIS. Should be in jail! https://t.co/tkzbHg7wyD?ssr=true",
          "time": "2016-03-12T23:41:57"
         },
         {
          "favorite_count": 21338,
          "handle": "realDonaldTrump",
          "retweet_count": 6150,
          "text": "Bernie Sanders is continuing his quest because he believes that Crooked Hillary Clinton will be forced out of the race - e-mail scandal!",
          "time": "2016-05-22T20:32:33"
         },
         {
          "favorite_count": 10776,
          "handle": "realDonaldTrump",
          "retweet_count": 3701,
          "text": "\"@DiamondandSilk: .@DonaldJTrumpJr awesome job on @CNNSotu. DonaldTrump has integrity &amp; he refuses 2 play the game call \"Delegate Bribery\"",
          "time": "2016-04-24T14:05:43"
         },
         {
          "favorite_count": 4093,
          "handle": "HillaryClinton",
          "retweet_count": 1247,
          "text": "The #DemConvention painted a bright picture of America—filled with diversity, love &amp; hope.\n\nThe RNC was...different. https://t.co/Vo71rzElsE",
          "time": "2016-08-02T15:56:41"
         },
         {
          "favorite_count": 16508,
          "handle": "realDonaldTrump",
          "retweet_count": 5950,
          "text": "\"@Gengm7: @jakeda @realDonaldTrump As of April this year, Hillary had spent $264,000,000 on her campaign Mr.Trump $55,000,000. self funding\"",
          "time": "2016-06-30T01:46:50"
         },
         {
          "favorite_count": 11769,
          "handle": "realDonaldTrump",
          "retweet_count": 2635,
          "text": "Great to be on @andersoncooper tonight with my wonderful family. Will be rebroadcast at 12:00 A.M.  (EASTERN).",
          "time": "2016-04-13T03:53:39"
         },
         {
          "favorite_count": 5051,
          "handle": "HillaryClinton",
          "retweet_count": 2539,
          "text": "Trump and his hateful language are affecting our kids. These are some of the heartbreaking things they're saying: https://t.co/DWCluAKJUd",
          "time": "2016-09-02T16:10:28"
         },
         {
          "favorite_count": 3844,
          "handle": "HillaryClinton",
          "retweet_count": 3049,
          "text": "Trump took over $100,000 from emergency 9/11 funds for small businesses—for his swanky Wall Street property. https://t.co/fToO6xAchz",
          "time": "2016-07-19T02:19:33"
         },
         {
          "favorite_count": 2729,
          "handle": "HillaryClinton",
          "retweet_count": 988,
          "text": "Hillary took Donald Trump's reckless economic policy to task in Columbus today.\n\nIt's worth watching: https://t.co/YfLN8kdRvG",
          "time": "2016-06-22T02:01:11"
         },
         {
          "favorite_count": 892,
          "handle": "HillaryClinton",
          "retweet_count": 491,
          "text": "El mantra de Trump: Beneficiarse sin importar a los demás. https://t.co/eeg6hnAJzz",
          "time": "2016-05-29T20:00:20"
         },
         {
          "favorite_count": 2842,
          "handle": "HillaryClinton",
          "retweet_count": 863,
          "text": "Too many kids say bye to their parents every morning, not knowing if mom or dad will be there when they get home.\n\nWe have to fix this.",
          "time": "2016-07-14T15:52:50"
         },
         {
          "favorite_count": 5278,
          "handle": "realDonaldTrump",
          "retweet_count": 1494,
          "text": "Face The Nation's interview of me was the highest rated show that they have had in 15 years. Congratulations and WOW!  @CBSNews @jdickerson",
          "time": "2016-01-12T02:42:49"
         },
         {
          "favorite_count": 6371,
          "handle": "realDonaldTrump",
          "retweet_count": 1423,
          "text": "\"@johnjohnlacca: Donald u have done a terrific job so far on the interview. Cannot wait until u r president #MegynKellyPresents",
          "time": "2016-05-18T00:45:13"
         },
         {
          "favorite_count": 4360,
          "handle": "realDonaldTrump",
          "retweet_count": 1318,
          "text": "\"@splashpoint50: @realDonaldTrump Our ReTrumplican Trump support group of 9500 members say 97% will not watch the debate tonight!\"",
          "time": "2016-01-28T11:34:55"
         },
         {
          "favorite_count": 2435,
          "handle": "HillaryClinton",
          "retweet_count": 725,
          "text": "“There is no reason to feel helpless about the horrifying trajectory of cascading massacres…We can change this.” —@ChrisMurphyCT",
          "time": "2016-07-27T23:57:57"
         },
         {
          "favorite_count": 4789,
          "handle": "HillaryClinton",
          "retweet_count": 1927,
          "text": "\"If you're not registered, and you're eligible as an American citizen, please go sign up.\" —Hillary in Nevada: https://t.co/tTgeqxNqYm",
          "time": "2016-08-04T20:24:24"
         },
         {
          "favorite_count": 11357,
          "handle": "realDonaldTrump",
          "retweet_count": 4254,
          "text": "Why would the people of Texas support Ted Cruz when he has accomplished absolutely nothing for them. He is another all talk, no action pol!",
          "time": "2016-02-28T16:47:13"
         },
         {
          "favorite_count": 13515,
          "handle": "realDonaldTrump",
          "retweet_count": 4098,
          "text": "While Hillary and I both won South Carolina by big margins, Repubs got far more votes with a massive increase from past cycles.GROWING PARTY",
          "time": "2016-02-28T12:20:19"
         },
         {
          "favorite_count": 5410,
          "handle": "realDonaldTrump",
          "retweet_count": 1760,
          "text": "I was referring to a backstop for pre-existing conditions. I will eliminate the law, in its entirety, &amp; replace it w/ something much better.",
          "time": "2016-02-19T20:29:01"
         },
         {
          "favorite_count": 23898,
          "handle": "HillaryClinton",
          "retweet_count": 8125,
          "text": "\"We’ve reached a milestone...the first time that a major party has nominated a woman for president.\" —Hillary https://t.co/WizdsD8vgk",
          "time": "2016-07-29T02:57:59"
         },
         {
          "favorite_count": 5867,
          "handle": "HillaryClinton",
          "retweet_count": 1765,
          "text": "Meet three women who inspired Hillary to become the person she is today: https://t.co/1O4rw3ecBH https://t.co/Df9X0o5E6h",
          "time": "2016-09-25T14:11:28"
         },
         {
          "favorite_count": 5092,
          "handle": "realDonaldTrump",
          "retweet_count": 1410,
          "text": "Joy Behar, who was fired from her last show for lack of ratings, is even worse on @TheView. We love Barbara!",
          "time": "2016-01-07T21:06:19"
         },
         {
          "favorite_count": 8194,
          "handle": "HillaryClinton",
          "retweet_count": 2244,
          "text": "Sarah McBride, the first trans person to speak at a party convention: \"Despite our progress, so much work remains.\" https://t.co/Kkt982nCSM",
          "time": "2016-07-31T16:02:15"
         },
         {
          "favorite_count": 113861,
          "handle": "HillaryClinton",
          "retweet_count": 62341,
          "text": "Gun violence requires more than moments of silence. It requires action. In failing that test, the Senate failed the American people.",
          "time": "2016-06-21T15:16:37"
         },
         {
          "favorite_count": 28160,
          "handle": "realDonaldTrump",
          "retweet_count": 9376,
          "text": "Crooked Hillary has been fighting ISIS, or whatever she has been doing, for years. Now she has new ideas. It is time for change.",
          "time": "2016-09-20T12:02:35"
         },
         {
          "favorite_count": 7947,
          "handle": "realDonaldTrump",
          "retweet_count": 3352,
          "text": "The Club for Growth is a very dishonest group. They represent conservative values terribly &amp; are bad for America. https://t.co/rnGoaprYuA",
          "time": "2016-03-08T02:55:32"
         },
         {
          "favorite_count": 13639,
          "handle": "realDonaldTrump",
          "retweet_count": 4734,
          "text": "THANK YOU - Youngstown, Ohio! I love you! Get out &amp; #VoteTrump tomorrow. #Trump2016 https://t.co/OReGiIS6TF",
          "time": "2016-03-15T00:48:09"
         },
         {
          "favorite_count": 16991,
          "handle": "realDonaldTrump",
          "retweet_count": 5499,
          "text": "\"@TimVincent56:  @LindseyGrahamSC Talkers think about the future, Doers are already building it\" #VoteTrump2016 https://t.co/OoB38jypsD\"",
          "time": "2016-03-24T14:41:46"
         },
         {
          "favorite_count": 31461,
          "handle": "realDonaldTrump",
          "retweet_count": 9420,
          "text": "\"@WandaWalls20: @realDonaldTrump Please make us safe. We cannot have Hillary as president. We will be in so much trouble.",
          "time": "2016-06-12T19:02:42"
         },
         {
          "favorite_count": 6262,
          "handle": "HillaryClinton",
          "retweet_count": 3106,
          "text": "About Tim Kaine: https://t.co/C04INo6nYF https://t.co/CM7Ufgo0TW",
          "time": "2016-07-23T01:42:04"
         },
         {
          "favorite_count": 19660,
          "handle": "realDonaldTrump",
          "retweet_count": 6514,
          "text": "\"Dems warn not to underestimate Trump's potential win\"\nhttps://t.co/X3xHtjhHpB",
          "time": "2016-07-28T21:38:12"
         },
         {
          "favorite_count": 14339,
          "handle": "realDonaldTrump",
          "retweet_count": 3509,
          "text": ".@oreillyfactor  Please correct, I WON Virginia!",
          "time": "2016-05-04T04:00:46"
         },
         {
          "favorite_count": 23682,
          "handle": "realDonaldTrump",
          "retweet_count": 7138,
          "text": "I hope that Crooked Hillary picks Goofy Elizabeth Warren, sometimes referred to as Pocahontas, as her V.P. Then we can litigate her fraud!",
          "time": "2016-07-17T12:14:46"
         },
         {
          "favorite_count": 6628,
          "handle": "HillaryClinton",
          "retweet_count": 2887,
          "text": "In times of crisis, America depends on steady leadership, clear thinking, and calm judgment. https://t.co/Tpo3Sp7Ri1",
          "time": "2016-08-22T20:56:15"
         },
         {
          "favorite_count": 25501,
          "handle": "realDonaldTrump",
          "retweet_count": 7906,
          "text": "The failing @nytimes, which never spoke to me, keeps saying that I am saying to advisers that I will change. False, I am who I am-never said",
          "time": "2016-08-14T12:31:23"
         },
         {
          "favorite_count": 31483,
          "handle": "realDonaldTrump",
          "retweet_count": 12034,
          "text": "Thank you America! #Trump2016 https://t.co/xfINxdRNiQ",
          "time": "2016-05-22T22:54:48"
         },
         {
          "favorite_count": 4358,
          "handle": "HillaryClinton",
          "retweet_count": 1526,
          "text": "It's not complicated: We need our economy to work for everyone, not just the rich or the well-connected.\nhttps://t.co/XIazcMasI4",
          "time": "2016-06-27T21:06:11"
         },
         {
          "favorite_count": 6079,
          "handle": "realDonaldTrump",
          "retweet_count": 1195,
          "text": "Will be interviewed on @Morning_Joe at 7:40. ENJOY!",
          "time": "2016-03-16T11:35:33"
         },
         {
          "favorite_count": 7044,
          "handle": "HillaryClinton",
          "retweet_count": 2861,
          "text": "“America, we will rise.” —@CoryBooker #DemsInPhilly",
          "time": "2016-07-26T01:55:29"
         },
         {
          "favorite_count": 3985,
          "handle": "realDonaldTrump",
          "retweet_count": 1428,
          "text": "\"@Blackan: #SCPrimary @realDonaldTrump is the only one who will protect American interests. #MakeAmericaGreatAgain https://t.co/Hbqjg1fb1t\"",
          "time": "2016-02-20T15:17:17"
         },
         {
          "favorite_count": 26217,
          "handle": "realDonaldTrump",
          "retweet_count": 8060,
          "text": "Thank you for your support! We will MAKE AMERICA SAFE AND GREAT AGAIN! #ImWithYou #AmericaFirst https://t.co/ravfFT5UBE",
          "time": "2016-07-01T17:07:52"
         },
         {
          "favorite_count": 11768,
          "handle": "realDonaldTrump",
          "retweet_count": 5361,
          "text": "#Trump2016 #TrumpInstagram: https://t.co/tzHtny48nQ https://t.co/BpKZcISeKi",
          "time": "2016-02-29T16:16:27"
         },
         {
          "favorite_count": 5962,
          "handle": "realDonaldTrump",
          "retweet_count": 2014,
          "text": "#VoteTrumpHI! #Trump2016\nhttps://t.co/cCCLxnisSO",
          "time": "2016-03-08T17:44:37"
         },
         {
          "favorite_count": 31566,
          "handle": "HillaryClinton",
          "retweet_count": 13300,
          "text": "\"I won't stop calling out bigotry and racist rhetoric in this campaign.\" —Hillary https://t.co/C3Z7GybJ53",
          "time": "2016-09-10T18:09:54"
         },
         {
          "favorite_count": 2762,
          "handle": "HillaryClinton",
          "retweet_count": 1308,
          "text": "Every child in America deserves clean air to breathe, clean water to drink, and a safe and healthy place to live. https://t.co/t0eAF9tXHH",
          "time": "2016-04-23T21:01:37"
         },
         {
          "favorite_count": 5276,
          "handle": "realDonaldTrump",
          "retweet_count": 2207,
          "text": "New Iowa poll. Thank you!\n#MakeAmericaGreatAgain #Trump2016 https://t.co/19sshZ8dSu",
          "time": "2016-01-11T19:43:29"
         },
         {
          "favorite_count": 3176,
          "handle": "HillaryClinton",
          "retweet_count": 1076,
          "text": "\"Tim has led on some of the most important issues facing our country—from voting rights to LGBT equality to criminal justice reform.\"",
          "time": "2016-07-23T17:26:44"
         },
         {
          "favorite_count": 3931,
          "handle": "HillaryClinton",
          "retweet_count": 1398,
          "text": "This is what dauntless leadership looks like. Thank you, @GovernorVA—proud to call you a friend. -H https://t.co/c72c0HUSyw",
          "time": "2016-07-23T14:37:20"
         },
         {
          "favorite_count": 11950,
          "handle": "realDonaldTrump",
          "retweet_count": 4810,
          "text": "Hillary has bad judgment! https://t.co/LhcIU6kmxs",
          "time": "2016-05-10T17:39:34"
         },
         {
          "favorite_count": 14309,
          "handle": "realDonaldTrump",
          "retweet_count": 5302,
          "text": "Thank you Albany, New York!\n#MakeAmericaGreatAgain #Trump2016\nhttps://t.co/IAOuSY5VDC https://t.co/WcItUuxej8",
          "time": "2016-04-12T01:31:23"
         },
         {
          "favorite_count": 26574,
          "handle": "HillaryClinton",
          "retweet_count": 13915,
          "text": "When a man is sued for discriminating against black tenants &amp; pushes birtherism, he's giving you an idea of what kind of president he'd be.",
          "time": "2016-09-27T02:06:51"
         },
         {
          "favorite_count": 5502,
          "handle": "realDonaldTrump",
          "retweet_count": 2168,
          "text": "\"@vivhall3: @realDonaldTrump here your delegate replaced at CO GOP convention. https://t.co/NxYhzdcMS0\" Very sad!",
          "time": "2016-04-10T02:44:11"
         },
         {
          "favorite_count": 1429,
          "handle": "HillaryClinton",
          "retweet_count": 697,
          "text": "We need to come together to turn the tide, stop violence, build trust, and give all our kids the chance to grow up safe and healthy.",
          "time": "2016-09-21T18:45:20"
         },
         {
          "favorite_count": 2478,
          "handle": "HillaryClinton",
          "retweet_count": 1632,
          "text": "\"Applying [Trump's] idea to the United States would destroy the economy.\" —@VoxDotCom\nhttps://t.co/ssVajpFvzF",
          "time": "2016-05-09T19:27:13"
         },
         {
          "favorite_count": 3983,
          "handle": "HillaryClinton",
          "retweet_count": 843,
          "text": "Today is @BillClinton's birthday! It's not too late to sign his card here: https://t.co/30Uxor2066",
          "time": "2016-08-19T20:16:31"
         },
         {
          "favorite_count": 3961,
          "handle": "realDonaldTrump",
          "retweet_count": 1110,
          "text": "Will be on Meet the Press with @ChuckTodd tomorrow morning. Enjoy!",
          "time": "2016-01-10T00:12:43"
         },
         {
          "favorite_count": 10173,
          "handle": "HillaryClinton",
          "retweet_count": 3592,
          "text": "“I’m supporting Hillary Clinton because she’s a fighter, a fighter with guts” —@SenWarren  https://t.co/ia0cfYnD3k",
          "time": "2016-06-10T01:15:45"
         },
         {
          "favorite_count": 8877,
          "handle": "realDonaldTrump",
          "retweet_count": 4668,
          "text": "Ted Cruz Was For Welcoming Syrian Refugees Before He Was Against It\nhttps://t.co/zw4o1DJgfB",
          "time": "2016-03-08T02:47:19"
         },
         {
          "favorite_count": 27792,
          "handle": "realDonaldTrump",
          "retweet_count": 7997,
          "text": "My lawyers want to sue the failing @nytimes so badly for irresponsible intent. I said no (for now), but they are watching. Really disgusting",
          "time": "2016-09-17T22:57:09"
         },
         {
          "favorite_count": 19798,
          "handle": "realDonaldTrump",
          "retweet_count": 7578,
          "text": "Why does the media, with a strong push from Crooked Hillary, keep pushing the false narrative that I want to raise taxes. Exactly opposite!",
          "time": "2016-05-10T12:57:08"
         },
         {
          "favorite_count": 3205,
          "handle": "HillaryClinton",
          "retweet_count": 1197,
          "text": "\"Republican senators...once they've made sure nobody is listening, will tell you how fantastic a senator that Hillary Clinton was.” —Tim",
          "time": "2016-07-28T02:22:24"
         },
         {
          "favorite_count": 6228,
          "handle": "HillaryClinton",
          "retweet_count": 2348,
          "text": "\"I've never heard an American leader...claiming that he's all we need. That's not a democracy, my friends.\" —Hillary",
          "time": "2016-07-22T21:57:44"
         },
         {
          "favorite_count": 50531,
          "handle": "realDonaldTrump",
          "retweet_count": 16936,
          "text": "If the disgusting and corrupt media covered me honestly and didn't put false meaning into the words I say, I would be beating Hillary by 20%",
          "time": "2016-08-14T12:37:37"
         },
         {
          "favorite_count": 5316,
          "handle": "realDonaldTrump",
          "retweet_count": 2353,
          "text": "I don’t cheat at golf but @SamuelLJackson cheats—with his game he has no choice—and stop doing commercials!",
          "time": "2016-01-06T19:22:16"
         },
         {
          "favorite_count": 22643,
          "handle": "realDonaldTrump",
          "retweet_count": 6691,
          "text": "Governor Rick Perry said \"Donald Trump is one of the most talented people running for the Presidency I've ever seen.\" Thank you Rick!",
          "time": "2016-05-06T10:19:08"
         },
         {
          "favorite_count": 3839,
          "handle": "realDonaldTrump",
          "retweet_count": 1657,
          "text": "Nevada: Reminder that today is the LAST day to register to vote in the February 23rd caucus!https://t.co/SDQGGhkyjI https://t.co/qYX7a2VpG9…",
          "time": "2016-02-13T17:21:59"
         },
         {
          "favorite_count": 9544,
          "handle": "realDonaldTrump",
          "retweet_count": 3050,
          "text": "\"@cmichaeld2004: Realistic Trump Poll Numbers translate to the 70 percentile range in a two-man race. Gee, what happened to that 30% ceiling",
          "time": "2016-03-19T06:58:13"
         },
         {
          "favorite_count": 18157,
          "handle": "realDonaldTrump",
          "retweet_count": 6925,
          "text": "\"@FoxNews: @ScottBaio: \"#DonaldTrump is the only guy, I think, that has the will &amp; the nerve to attack &amp; to fight.\" https://t.co/DjkdAzT3WV",
          "time": "2016-04-05T03:16:32"
         },
         {
          "favorite_count": 4314,
          "handle": "HillaryClinton",
          "retweet_count": 1743,
          "text": "\"I believe we have a moral obligation…to stand up against systematic racism.\" —Hillary at the @TTMFoundation dinner",
          "time": "2016-05-22T00:43:03"
         },
         {
          "favorite_count": 12295,
          "handle": "realDonaldTrump",
          "retweet_count": 3726,
          "text": "Do you think Crooked Hillary will finally close the deal? If she can't win Kentucky, she should drop out of race. System rigged!",
          "time": "2016-05-17T23:37:06"
         },
         {
          "favorite_count": 14584,
          "handle": "realDonaldTrump",
          "retweet_count": 5171,
          "text": "Thank you Idaho! I love your potatoes- \nnobody grows them better. As \nPresident, I will protect your market. https://t.co/kqx8un1jnw",
          "time": "2016-03-07T22:48:21"
         },
         {
          "favorite_count": 6434,
          "handle": "realDonaldTrump",
          "retweet_count": 2520,
          "text": "I was asked about healthcare by Anderson Cooper &amp; have been consistent- I will repeal all of #ObamaCare, including the mandate, period.",
          "time": "2016-02-19T20:28:32"
         },
         {
          "favorite_count": 3006,
          "handle": "HillaryClinton",
          "retweet_count": 922,
          "text": "Text CONGRATS to 47246 to tell Hillary you're with her tonight. https://t.co/ZBQ6wKlCPr",
          "time": "2016-04-20T02:47:30"
         },
         {
          "favorite_count": 31729,
          "handle": "realDonaldTrump",
          "retweet_count": 10919,
          "text": "Hillary Clinton is not qualified to be president because her judgement has been proven to be so bad! Would be four more years of stupidity!",
          "time": "2016-05-22T12:47:48"
         },
         {
          "favorite_count": 14895,
          "handle": "realDonaldTrump",
          "retweet_count": 5584,
          "text": "Thank you! #MakeAmericaGreatAgain https://t.co/sVUWI7JoGn",
          "time": "2016-03-29T20:24:25"
         },
         {
          "favorite_count": 12368,
          "handle": "HillaryClinton",
          "retweet_count": 4671,
          "text": "\"Hard to believe they spent so much time talking about me and no time talking about jobs or education or health care.\" —Hillary on the RNC",
          "time": "2016-07-22T21:50:47"
         },
         {
          "favorite_count": 8529,
          "handle": "HillaryClinton",
          "retweet_count": 3502,
          "text": "\"It’s true: I sweat the details of policy...because it’s not just a detail if it’s your kid, if it’s your family. It’s a big deal.\"",
          "time": "2016-07-29T02:54:17"
         },
         {
          "favorite_count": 6468,
          "handle": "realDonaldTrump",
          "retweet_count": 2096,
          "text": "Ted Cruz does not have the right \"temperment\" to be President. Look at the way he totally panicked in firing his director of comm. BAD!",
          "time": "2016-02-23T15:07:26"
         },
         {
          "favorite_count": 4816,
          "handle": "HillaryClinton",
          "retweet_count": 1460,
          "text": "“Tonight, we will shatter that glass ceiling again.” —@RepJohnLewis on nominating Hillary for president #DemsInPhilly",
          "time": "2016-07-26T21:19:28"
         },
         {
          "favorite_count": 5383,
          "handle": "realDonaldTrump",
          "retweet_count": 1934,
          "text": "\"@BirgitOlsen1: @realDonaldTrump @Justice41ca  @Vote_For_Trump EVERYBODY ON TWITTER GET OUT TO VOTE FOR TRUMP TODAY IN SOUTH CAROLINA\"",
          "time": "2016-02-20T15:18:07"
         },
         {
          "favorite_count": 21922,
          "handle": "realDonaldTrump",
          "retweet_count": 5584,
          "text": "I am in Indiana where we just had a great rally. Fantastic people! Staying at a Holiday Inn Express - new and clean, not bad!",
          "time": "2016-04-28T03:17:17"
         },
         {
          "favorite_count": 14724,
          "handle": "realDonaldTrump",
          "retweet_count": 4484,
          "text": "Off to Indiana! #Trump2016 https://t.co/zqUdaaSaXD",
          "time": "2016-04-20T15:03:10"
         },
         {
          "favorite_count": 2926,
          "handle": "HillaryClinton",
          "retweet_count": 1127,
          "text": "Trump is reinforcing harmful stereotypes and offering a dog whistle to his most hateful supporters.",
          "time": "2016-08-25T19:17:26"
         },
         {
          "favorite_count": 14176,
          "handle": "HillaryClinton",
          "retweet_count": 6848,
          "text": "If Trump is serious about \"making America great again,\" he should start by making his products in America.\nhttps://t.co/1VVoUbgAn3",
          "time": "2016-08-03T13:54:08"
         },
         {
          "favorite_count": 5977,
          "handle": "HillaryClinton",
          "retweet_count": 2314,
          "text": "\"Our choice, Hillary Clinton, has a record of service and a raft of pragmatic ideas.\" —@NYTimes endorsing Hillary… https://t.co/7Sus2PxlWC",
          "time": "2016-09-24T22:58:12"
         },
         {
          "favorite_count": 29734,
          "handle": "realDonaldTrump",
          "retweet_count": 11484,
          "text": "Thank you Florida, Ohio, and Pennsylvania! #CrookedHillary is not qualified. #ImWithYou https://t.co/M1yzgyeEdY",
          "time": "2016-07-13T12:50:04"
         },
         {
          "favorite_count": 6815,
          "handle": "realDonaldTrump",
          "retweet_count": 2626,
          "text": "#MakeAmericaGreatAgain #Trump2016 https://t.co/FvIUXMkrjj",
          "time": "2016-02-26T06:52:24"
         },
         {
          "favorite_count": 11791,
          "handle": "realDonaldTrump",
          "retweet_count": 3694,
          "text": "Do you ever notice that @CNN gives me very little proper representation on my policies. Just watched-nobody knew anything about my foreign P",
          "time": "2016-06-02T15:57:14"
         },
         {
          "favorite_count": 19155,
          "handle": "realDonaldTrump",
          "retweet_count": 6043,
          "text": "Crooked Hillary said that I  want guns brought into the school classroom. Wrong!",
          "time": "2016-05-22T03:55:39"
         },
         {
          "favorite_count": 17421,
          "handle": "realDonaldTrump",
          "retweet_count": 4370,
          "text": "I havn't seen @tonyschwartz in many years, he hardly knows me. Never liked his style. Super lib, Crooked H supporter. Irrelevant dope!",
          "time": "2016-09-10T05:57:59"
         },
         {
          "favorite_count": 11197,
          "handle": "realDonaldTrump",
          "retweet_count": 3911,
          "text": "Join me in Carmel, Indiana- tomorrow at 4pm! #INPrimary \nhttps://t.co/tfW6B0eZDm https://t.co/ZiofZ2D6ck",
          "time": "2016-05-01T23:37:17"
         },
         {
          "favorite_count": 23193,
          "handle": "realDonaldTrump",
          "retweet_count": 11029,
          "text": "#ImWithYou #AmericaFirst https://t.co/Ne4pI7FyU7",
          "time": "2016-09-13T22:09:30"
         },
         {
          "favorite_count": 4619,
          "handle": "realDonaldTrump",
          "retweet_count": 2045,
          "text": "Failing @GlennBeck lost all credibility. Not only was he fired @ FOX, he would have voted for Clinton over McCain. https://t.co/dfCOkb7Ex8",
          "time": "2016-01-23T16:54:37"
         },
         {
          "favorite_count": 21738,
          "handle": "realDonaldTrump",
          "retweet_count": 8625,
          "text": "Wow, 30,000 e-mails were deleted by Crooked Hillary Clinton. She said they had to do with a wedding reception. Liar! How can she run?",
          "time": "2016-05-17T11:29:09"
         },
         {
          "favorite_count": 9845,
          "handle": "realDonaldTrump",
          "retweet_count": 3062,
          "text": "Nevada we are on our way! #VoteTrumpNV #Trump2016\nCaucus locator: https://t.co/r8ijPnCsmO https://t.co/kNhQcETaTV",
          "time": "2016-02-21T23:58:17"
         },
         {
          "favorite_count": 10770,
          "handle": "HillaryClinton",
          "retweet_count": 3638,
          "text": "Trump says he won’t tell anyone what he’ll do about ISIS because he wants to keep his plan “secret.”\n\nWell, the secret is he has no plan.",
          "time": "2016-08-15T17:27:08"
         },
         {
          "favorite_count": 8906,
          "handle": "HillaryClinton",
          "retweet_count": 2820,
          "text": "Here’s the sad truth: There is no other Donald Trump. This is it. https://t.co/XNDh0d5csA",
          "time": "2016-08-09T19:13:29"
         },
         {
          "favorite_count": 28653,
          "handle": "realDonaldTrump",
          "retweet_count": 10859,
          "text": "Thank you! #AmericaFirst https://t.co/6v4C8ykDVl",
          "time": "2016-09-06T12:49:02"
         },
         {
          "favorite_count": 7181,
          "handle": "realDonaldTrump",
          "retweet_count": 1828,
          "text": "After @TrumpTurnberry I will be visiting Aberdeen, the oil capital of Europe, to see my great club, @TrumpScotland.",
          "time": "2016-06-03T03:41:05"
         },
         {
          "favorite_count": 3216,
          "handle": "HillaryClinton",
          "retweet_count": 1127,
          "text": "\"What kind of a person would want to root for 9 million families losing their homes?\n\nOne who should never be president.\" —Hillary on Trump",
          "time": "2016-09-27T18:02:54"
         },
         {
          "favorite_count": 6269,
          "handle": "HillaryClinton",
          "retweet_count": 2593,
          "text": "Hillary was the winner of the first presidential debate—and newspapers across America agree. #SheWon… https://t.co/oDiUHd0eXO",
          "time": "2016-09-27T16:54:22"
         },
         {
          "favorite_count": 32936,
          "handle": "realDonaldTrump",
          "retweet_count": 14653,
          "text": "MAKE AMERICA GREAT AGAIN!",
          "time": "2016-03-17T20:30:08"
         },
         {
          "favorite_count": 2446,
          "handle": "HillaryClinton",
          "retweet_count": 1183,
          "text": "“You’ve got to get yourself and everyone you know registered to vote today.” —@FLOTUS: https://t.co/tTgeqxNqYm",
          "time": "2016-09-16T19:22:54"
         },
         {
          "favorite_count": 2098,
          "handle": "HillaryClinton",
          "retweet_count": 692,
          "text": ".@HillaryClinton on how exciting it is to watch @ChelseaClinton raise daughter Charlotte https://t.co/azKpxtLWeP https://t.co/6OSsRVy7ir",
          "time": "2016-05-07T22:24:26"
         },
         {
          "favorite_count": 1325,
          "handle": "HillaryClinton",
          "retweet_count": 800,
          "text": "Major environmental group makes first ever endorsement of Hillary Clinton https://t.co/wWfuVVuuFy",
          "time": "2016-05-31T12:14:04"
         },
         {
          "favorite_count": 3624,
          "handle": "HillaryClinton",
          "retweet_count": 3747,
          "text": "Trump thinks he's \"great for women\" but this is one of the most anti-woman tickets in history. https://t.co/69r3jZajKp",
          "time": "2016-07-16T15:23:30"
         },
         {
          "favorite_count": 10034,
          "handle": "realDonaldTrump",
          "retweet_count": 3695,
          "text": "\"@AprilLaJune: OREGON votes today! Go vote for @realDonaldTrump and kick it BIG TIME! https://t.co/SLYwyM8w1D\"",
          "time": "2016-05-17T04:40:38"
         },
         {
          "favorite_count": 6023,
          "handle": "HillaryClinton",
          "retweet_count": 2679,
          "text": "We can take on the threat of climate change and make America a clean energy superpower.\n\nOr, we can do nothing. https://t.co/JlYmN61epB",
          "time": "2016-09-06T19:58:33"
         },
         {
          "favorite_count": 12716,
          "handle": "realDonaldTrump",
          "retweet_count": 3256,
          "text": "I look forward to meeting @joniernst today in New Jersey. She has done a great job as Senator of Iowa!",
          "time": "2016-07-04T14:19:13"
         },
         {
          "favorite_count": 3023,
          "handle": "HillaryClinton",
          "retweet_count": 1391,
          "text": "What kind of president would Leslie Knope be?\n \n\"Full speed ahead!\"\nhttps://t.co/p3Y7ww5z6i",
          "time": "2016-05-03T16:12:53"
         },
         {
          "favorite_count": 6367,
          "handle": "realDonaldTrump",
          "retweet_count": 2365,
          "text": "Remember, Cruz and Bush gave us Roberts who upheld #ObamaCare twice! I am the only one who will #MAKEAMERICAGREATAGAIN!",
          "time": "2016-02-19T20:30:24"
         },
         {
          "favorite_count": 20950,
          "handle": "realDonaldTrump",
          "retweet_count": 5873,
          "text": "Will be participating in a town hall event- hosted by @SeanHannity tonight at 10pmE on @FoxNews. Enjoy! https://t.co/7nReqYM7FF",
          "time": "2016-08-17T22:25:02"
         },
         {
          "favorite_count": 8584,
          "handle": "HillaryClinton",
          "retweet_count": 2528,
          "text": "Thanks, @VP Biden! Your support is a BIG… deal. -H https://t.co/ShRoVUFocR",
          "time": "2016-06-10T20:30:57"
         },
         {
          "favorite_count": 18302,
          "handle": "realDonaldTrump",
          "retweet_count": 5083,
          "text": "\"@need2knowu:  @willspeakout yes you are my hero I admire you for laying down your glorious luxurious life to get beat up for America!!!\"",
          "time": "2016-08-13T20:03:55"
         },
         {
          "favorite_count": 4369,
          "handle": "realDonaldTrump",
          "retweet_count": 1432,
          "text": "Thank you - Farmington, New Hampshire! #FITN #Trump2016 https://t.co/bJ9Z3qZBQu",
          "time": "2016-01-26T02:28:36"
         },
         {
          "favorite_count": 11272,
          "handle": "realDonaldTrump",
          "retweet_count": 2332,
          "text": "Will be interviewed on @foxandfriends at 8:30 A.M. Eastern. ENJOY!",
          "time": "2016-08-22T12:31:39"
         },
         {
          "favorite_count": 18479,
          "handle": "HillaryClinton",
          "retweet_count": 6706,
          "text": "\"human rights are women’s rights &amp; women’s rights are human rights.\" - @HillaryClinton #WomensEqualityDay 👸🏽👸🏿👸🏻👸🏾👸🏼 https://t.co/gxD9wF8iwt",
          "time": "2016-08-26T17:30:40"
         },
         {
          "favorite_count": 2112,
          "handle": "HillaryClinton",
          "retweet_count": 757,
          "text": ".@HillaryClinton stands by @RealDonaldTrump running a deplorable campaign.  His comments have been bigoted, mean and untrue.",
          "time": "2016-09-15T13:10:42"
         },
         {
          "favorite_count": 9059,
          "handle": "HillaryClinton",
          "retweet_count": 3417,
          "text": "Anyone willing to sink so low, so often should never be allowed to serve as our Commander-in-Chief.",
          "time": "2016-08-11T17:16:51"
         },
         {
          "favorite_count": 13490,
          "handle": "realDonaldTrump",
          "retweet_count": 4525,
          "text": "Join me in Roanoke, Virginia tomorrow at the Berglund Center- Coliseum ~ 6pm! Tickets available at:… https://t.co/bnEE6NX41Z",
          "time": "2016-09-23T20:13:49"
         },
         {
          "favorite_count": 3227,
          "handle": "HillaryClinton",
          "retweet_count": 1363,
          "text": "We will never be silenced or intimidated by the gun lobby. Honored to have @Everytown &amp; @MomsDemand's support. -H https://t.co/R13G7fkffd",
          "time": "2016-06-03T15:55:50"
         },
         {
          "favorite_count": 24173,
          "handle": "realDonaldTrump",
          "retweet_count": 8526,
          "text": "Thank you! #AmericaFirst https://t.co/MYG45LxGmH",
          "time": "2016-07-02T15:23:25"
         },
         {
          "favorite_count": 5243,
          "handle": "HillaryClinton",
          "retweet_count": 1796,
          "text": "You heard @FLOTUS. Here's how you can get involved in this campaign → https://t.co/WVUvFhb6bp https://t.co/mjEJZ01Lq0",
          "time": "2016-07-26T20:27:15"
         },
         {
          "favorite_count": 63732,
          "handle": "realDonaldTrump",
          "retweet_count": 24432,
          "text": "If Russia or any other country or person has Hillary Clinton's 33,000 illegally deleted emails, perhaps they should share them with the FBI!",
          "time": "2016-07-27T16:16:02"
         },
         {
          "favorite_count": 3226,
          "handle": "HillaryClinton",
          "retweet_count": 874,
          "text": "50 days to go. Don't miss Hillary live from @TempleUniv: https://t.co/qg6J7SXrr0",
          "time": "2016-09-19T16:28:29"
         },
         {
          "favorite_count": 5282,
          "handle": "realDonaldTrump",
          "retweet_count": 1826,
          "text": "I have an idea for @JebBush whose campaign is a disaster. Try using your last name and don't be ashamed of it!",
          "time": "2016-01-07T16:26:14"
         },
         {
          "favorite_count": 2727,
          "handle": "HillaryClinton",
          "retweet_count": 1293,
          "text": "On #WomensEqualityDay, celebrate your right to vote by making sure you're ready to exercise it: https://t.co/oQJdlV15S2",
          "time": "2016-08-26T16:36:16"
         },
         {
          "favorite_count": 9334,
          "handle": "HillaryClinton",
          "retweet_count": 2311,
          "text": "“Contrary to Donald Trump, I believe every time we knock down a barrier in America, it liberates everyone in America.” —Hillary",
          "time": "2016-07-29T17:45:13"
         },
         {
          "favorite_count": 57971,
          "handle": "realDonaldTrump",
          "retweet_count": 19836,
          "text": "My team of deplorables will be managing my Twitter account for this evenings debate. Tune in!\n#DebateNight #TrumpPence16",
          "time": "2016-09-26T22:31:53"
         },
         {
          "favorite_count": 23112,
          "handle": "realDonaldTrump",
          "retweet_count": 11310,
          "text": "#AmericasMerkel https://t.co/QFRs4bEUC1",
          "time": "2016-08-15T20:28:30"
         },
         {
          "favorite_count": 10485,
          "handle": "realDonaldTrump",
          "retweet_count": 3667,
          "text": "THANK YOU- Clemson, South Carolina! #MakeAmericaGreatAgain #SCPrimary https://t.co/FgACmaFxxc",
          "time": "2016-02-11T02:12:19"
         },
         {
          "favorite_count": 17062,
          "handle": "realDonaldTrump",
          "retweet_count": 5347,
          "text": "Goofy Elizabeth Warren has been one of the least effective Senators in the entire U.S. Senate. She has done nothing!",
          "time": "2016-05-11T14:18:21"
         },
         {
          "favorite_count": 2253,
          "handle": "HillaryClinton",
          "retweet_count": 800,
          "text": "Taking care of our veterans is part of our solemn duty as Americans: https://t.co/cteQMGWzpE https://t.co/WsnW9E811n",
          "time": "2016-05-31T23:51:42"
         },
         {
          "favorite_count": 15568,
          "handle": "realDonaldTrump",
          "retweet_count": 4940,
          "text": "Gov Mike Pence has just stated that Donald Trump has taken a strong stance on Hoosier jobs, and he thanks me! I will bring back jobs to USA.",
          "time": "2016-05-02T11:21:02"
         },
         {
          "favorite_count": 17668,
          "handle": "realDonaldTrump",
          "retweet_count": 4561,
          "text": "So great to be in New York. Catching up on many things (remember, I am still running a major business while I campaign) and loving it!",
          "time": "2016-04-08T12:03:23"
         },
         {
          "favorite_count": 4236,
          "handle": "HillaryClinton",
          "retweet_count": 2029,
          "text": "Your potential next president on building a wall...\n \nAnd bathrooms.\nhttps://t.co/SRnJ0if63D",
          "time": "2016-07-17T01:03:45"
         },
         {
          "favorite_count": 5553,
          "handle": "HillaryClinton",
          "retweet_count": 2302,
          "text": "\"I'm a feminist because I believe women deserve the same rights as men.\" —Hillary #MSNBCTownhall",
          "time": "2016-04-26T01:52:44"
         },
         {
          "favorite_count": 15681,
          "handle": "realDonaldTrump",
          "retweet_count": 5576,
          "text": "The rally in Cincinnati is ON. Media put out false reports that it was cancelled. Will be great - love you Ohio!",
          "time": "2016-03-12T14:35:09"
         },
         {
          "favorite_count": 3257,
          "handle": "HillaryClinton",
          "retweet_count": 1533,
          "text": "\"Quiero que tú ayudes a elegirla nuestra próxima Presidenta de los Estados Unidos”—Obama. https://t.co/afIzmJR7Jp",
          "time": "2016-07-06T00:18:36"
         },
         {
          "favorite_count": 29731,
          "handle": "realDonaldTrump",
          "retweet_count": 7267,
          "text": "I visited our Trump Tower campaign headquarters last night, after returning from Ohio and Arizona, and it was packed with great pros - WIN!",
          "time": "2016-09-02T12:35:44"
         },
         {
          "favorite_count": 5379,
          "handle": "HillaryClinton",
          "retweet_count": 2039,
          "text": "“@BernieSanders, you’ve put economic and social justice issues front and center where they belong.” —Hillary https://t.co/KZP2ohDTYD",
          "time": "2016-07-29T02:38:29"
         },
         {
          "favorite_count": 5204,
          "handle": "HillaryClinton",
          "retweet_count": 1736,
          "text": "We are not going to let Donald Trump bankrupt America the way he bankrupted his casinos.",
          "time": "2016-06-27T15:21:46"
         },
         {
          "favorite_count": 4267,
          "handle": "HillaryClinton",
          "retweet_count": 2503,
          "text": "16. You've mentioned ~120 foreign deals, including in countries with national security implications. Where and with whom are you working?",
          "time": "2016-09-14T16:52:50"
         },
         {
          "favorite_count": 24025,
          "handle": "realDonaldTrump",
          "retweet_count": 8874,
          "text": "\"@LindaSuhler: Trump voters don't scare or back down. Our numbers are growing &amp; we're taking our country BACK. #Trump2016🇺🇸 #MAGA",
          "time": "2016-06-27T01:33:10"
         },
         {
          "favorite_count": 3055,
          "handle": "HillaryClinton",
          "retweet_count": 1065,
          "text": "Let's listen to families whose loved ones have been killed in police incidents. Alton Sterling. Philando Castile. Sandra Bland—one year ago.",
          "time": "2016-07-13T17:00:41"
         },
         {
          "favorite_count": 6290,
          "handle": "realDonaldTrump",
          "retweet_count": 2571,
          "text": "#MakeAmericaGreatAgain #Trump2016 https://t.co/3HmclWL9GT",
          "time": "2016-01-08T22:36:09"
         },
         {
          "favorite_count": 22609,
          "handle": "realDonaldTrump",
          "retweet_count": 8874,
          "text": "A former Secret Service Agent for President Clinton excoriates Crooked Hillary describing her as ERRATIC &amp; VIOLENT. Bad temperament for pres",
          "time": "2016-06-07T01:51:12"
         },
         {
          "favorite_count": 5049,
          "handle": "HillaryClinton",
          "retweet_count": 2280,
          "text": "\"If the space you’re in doesn’t have room for your voice don’t be afraid to carve out a space of your own.\" —Hillary https://t.co/VQQMyYHyNm",
          "time": "2016-07-01T17:06:38"
         },
         {
          "favorite_count": 4775,
          "handle": "HillaryClinton",
          "retweet_count": 1428,
          "text": "\"I think after the last week...we'd better be ready to go win an election in November.\" —Hillary in Tampa",
          "time": "2016-07-22T21:48:31"
         },
         {
          "favorite_count": 7249,
          "handle": "realDonaldTrump",
          "retweet_count": 1956,
          "text": "\"@GovBrewer: I'll be a guest today on Making Money with @cvpayne on @ Fox Business 6 PM ET / 3 PM PT Discussing @realDonaldTrump. Tune in!\"",
          "time": "2016-06-28T19:20:15"
         },
         {
          "favorite_count": 2593,
          "handle": "HillaryClinton",
          "retweet_count": 1383,
          "text": "\"Even this—the killing of black people by police—is somehow all about him.\" —Hillary on Trump https://t.co/Uwk2oFmIwZ",
          "time": "2016-07-13T17:11:12"
         },
         {
          "favorite_count": 4990,
          "handle": "HillaryClinton",
          "retweet_count": 2232,
          "text": "\"As he goes after women, as he goes after literally every group, I'm going to be their voice.\" —Hillary on Trump\nhttps://t.co/iNUo2EuTYO",
          "time": "2016-05-04T13:00:33"
         },
         {
          "favorite_count": 8716,
          "handle": "realDonaldTrump",
          "retweet_count": 2440,
          "text": "Thanks! https://t.co/5jiSyvQiNj",
          "time": "2016-04-27T17:44:18"
         },
         {
          "favorite_count": 12619,
          "handle": "HillaryClinton",
          "retweet_count": 3965,
          "text": "Monitoring the horrific situation in Munich. We stand with our friends in Germany as they work to bring those responsible to justice. -H",
          "time": "2016-07-22T20:11:43"
         },
         {
          "favorite_count": 10676,
          "handle": "HillaryClinton",
          "retweet_count": 5993,
          "text": "Let's be clear: Nothing—including an audit—is preventing Trump from releasing his tax returns. https://t.co/mpGiRIaPgD",
          "time": "2016-09-17T19:49:56"
         },
         {
          "favorite_count": 30925,
          "handle": "realDonaldTrump",
          "retweet_count": 13018,
          "text": "Bernie sanders has abandoned his supporters by endorsing pro-war pro-TPP pro-Wall Street Crooked Hillary Clinton.",
          "time": "2016-07-12T17:03:44"
         },
         {
          "favorite_count": 5127,
          "handle": "HillaryClinton",
          "retweet_count": 3307,
          "text": "\"He's built his empire on other people's backs.\" —A small business owner who Donald Trump still owes $30,000\nhttps://t.co/i51CBQqWCk",
          "time": "2016-07-19T19:19:57"
         },
         {
          "favorite_count": 10808,
          "handle": "HillaryClinton",
          "retweet_count": 3912,
          "text": "A night we'll never forget.\nhttps://t.co/BOq4CziQsC",
          "time": "2016-07-29T00:33:57"
         },
         {
          "favorite_count": 36501,
          "handle": "realDonaldTrump",
          "retweet_count": 14214,
          "text": "\"@RealJamesWoods:  Without absolutely OWNING the liberal media, HillaryClinton wouldn't stand a chance. #VoterFraud and #MSM her only hope.\"",
          "time": "2016-07-31T20:31:06"
         },
         {
          "favorite_count": 49552,
          "handle": "realDonaldTrump",
          "retweet_count": 16484,
          "text": "President Obama spoke last night about a world that doesn’t exist. 70% of the people think our country is going in the wrong direction. #DNC",
          "time": "2016-07-28T15:09:11"
         },
         {
          "favorite_count": 920,
          "handle": "HillaryClinton",
          "retweet_count": 364,
          "text": "Applaud Senate Dems for their strong proposal to help families fleeing violence and persecution in Central America. https://t.co/OPhFDzFsvS",
          "time": "2016-06-30T20:23:47"
         },
         {
          "favorite_count": 3352,
          "handle": "HillaryClinton",
          "retweet_count": 1455,
          "text": "How will you feel if you wake up on Jan. 20 to President Trump? Chip in now to help keep him out of the White House: https://t.co/SAwvtVUn8U",
          "time": "2016-07-22T04:02:47"
         },
         {
          "favorite_count": 2776,
          "handle": "HillaryClinton",
          "retweet_count": 1101,
          "text": "\"Let’s keep going together.\nLet’s organize and mobilize.\nLet’s make sure that love trumps hate.\" —Hillary",
          "time": "2016-05-02T00:59:57"
         },
         {
          "favorite_count": 8828,
          "handle": "realDonaldTrump",
          "retweet_count": 3020,
          "text": "THANK YOU LAS VEGAS, NEVADA!\n#NevadaCaucus #VoteTrumpNV\nhttps://t.co/cZlNRrFtW3 https://t.co/scdxT24Dye",
          "time": "2016-02-23T05:19:29"
         },
         {
          "favorite_count": 6040,
          "handle": "HillaryClinton",
          "retweet_count": 4348,
          "text": "50 GOP officials sign a letter declaring that Trump “would be the most reckless president in American history” https://t.co/QglcBt9uog",
          "time": "2016-08-08T22:43:21"
         },
         {
          "favorite_count": 4035,
          "handle": "HillaryClinton",
          "retweet_count": 1935,
          "text": "\"I was Capt. Khan’s commander in Iraq. The Khan family is our family.\" https://t.co/Y1myW1WGjN via @PostOpinions",
          "time": "2016-08-03T20:58:58"
         },
         {
          "favorite_count": 8873,
          "handle": "realDonaldTrump",
          "retweet_count": 3152,
          "text": "Great Twitter poll- and I wasn't even there. Thank you! #GOPDebate https://t.co/yLJGkoOeBg",
          "time": "2016-01-29T14:43:21"
         },
         {
          "favorite_count": 2340,
          "handle": "HillaryClinton",
          "retweet_count": 1508,
          "text": "Pence touting Indiana's economy? It's tracked the nation's recovery because of Obama policies (auto rescue!) that Pence opposed. #RNCinCLE",
          "time": "2016-07-21T02:54:10"
         },
         {
          "favorite_count": 5795,
          "handle": "HillaryClinton",
          "retweet_count": 2247,
          "text": "Hate is not welcome in our homes. We shouldn't welcome it into the White House. #StrongerTogether https://t.co/B3sK5KpiQ4",
          "time": "2016-08-28T01:22:48"
         },
         {
          "favorite_count": 3259,
          "handle": "HillaryClinton",
          "retweet_count": 3896,
          "text": "Mike Pence's battle against Planned Parenthood caused an HIV outbreak in Indiana. \n\nhttps://t.co/SNGq4JcENN",
          "time": "2016-07-15T16:50:51"
         },
         {
          "favorite_count": 1592,
          "handle": "HillaryClinton",
          "retweet_count": 857,
          "text": "\"Isn't he supposed to be some kind of amazing businessman? What ... happened here?\" @HillaryClinton https://t.co/n7uCSNeI2w",
          "time": "2016-07-06T16:36:13"
         },
         {
          "favorite_count": 8163,
          "handle": "realDonaldTrump",
          "retweet_count": 2599,
          "text": "Join me tomorrow! #Trump2016\n#MakeAmericaGreatAgain \nhttps://t.co/1Yak4I5B7b",
          "time": "2016-03-18T20:39:05"
         },
         {
          "favorite_count": 2289,
          "handle": "HillaryClinton",
          "retweet_count": 1718,
          "text": "Leading criminologist on Trump's speech: “A good illustration of how to lie with statistics.” https://t.co/QIwd78V7ce",
          "time": "2016-07-22T14:39:42"
         },
         {
          "favorite_count": 5862,
          "handle": "realDonaldTrump",
          "retweet_count": 2153,
          "text": "\"@big_carsonrocks: AMERICA...Stop being duped...WAKE UP Cruz &amp; Rubio establishment phonies. DonaldTrump only truthful &amp; not owned candidate\"",
          "time": "2016-02-06T19:10:45"
         },
         {
          "favorite_count": 10531,
          "handle": "realDonaldTrump",
          "retweet_count": 3557,
          "text": "\"@sandrajeanne48: No way I believe Trump at 70% disapproval with women. Went to 3 rallies. At least 1/2 women. MSM LIES @TheFive\"",
          "time": "2016-05-18T02:40:34"
         },
         {
          "favorite_count": 3970,
          "handle": "realDonaldTrump",
          "retweet_count": 1464,
          "text": "Thank you! #VoteTrump\nhttps://t.co/g7eeySMUdl",
          "time": "2016-01-13T18:22:20"
         },
         {
          "favorite_count": 1995,
          "handle": "HillaryClinton",
          "retweet_count": 798,
          "text": "Now we know what Trump really thinks about us. Sad! https://t.co/o3ohaHfR77 #TrumpYourself https://t.co/rYYXMCLjyr",
          "time": "2016-07-21T16:27:06"
         },
         {
          "favorite_count": 26159,
          "handle": "realDonaldTrump",
          "retweet_count": 7519,
          "text": ".@SanDiegoPD- Fantastic job on handling the thugs who tried to disrupt our very peaceful and well attended rally. Greatly appreciated!",
          "time": "2016-05-28T02:48:22"
         },
         {
          "favorite_count": 8589,
          "handle": "realDonaldTrump",
          "retweet_count": 2445,
          "text": "Just got to listen to Rush Limbaugh - the guy is fantastic!",
          "time": "2016-01-27T19:01:01"
         },
         {
          "favorite_count": 15674,
          "handle": "realDonaldTrump",
          "retweet_count": 6575,
          "text": "The special interests and people who control our politicians (puppets) are spending $25 million on misleading and fraudulent T.V. ads on me.",
          "time": "2016-03-02T17:53:38"
         },
         {
          "favorite_count": 5937,
          "handle": "HillaryClinton",
          "retweet_count": 2127,
          "text": "Stronger Together comes out in Sept—a book on Hillary's policy plans and vision for America: https://t.co/okQWnu725t https://t.co/lzyuvRstpt",
          "time": "2016-08-05T18:29:22"
         },
         {
          "favorite_count": 23956,
          "handle": "realDonaldTrump",
          "retweet_count": 7526,
          "text": "Thank you Jacksonville, Florida!\n#MakeAmericaGreatAgain \nhttps://t.co/xrTQjt9WOC https://t.co/VSnBoQYoZs",
          "time": "2016-08-04T02:27:52"
         },
         {
          "favorite_count": 23259,
          "handle": "realDonaldTrump",
          "retweet_count": 7869,
          "text": "Crooked Hillary Clinton and her team \"were extremely careless in their handling of very sensitive, highly classified information.\" Not fit!",
          "time": "2016-07-06T11:12:45"
         },
         {
          "favorite_count": 3323,
          "handle": "realDonaldTrump",
          "retweet_count": 1098,
          "text": "\"@Bonfiredesigns: Standing with @realDonaldTrump as he defends our sailors and military and Americans in the USA https://t.co/YKvKNsZmih\"",
          "time": "2016-01-14T19:21:11"
         },
         {
          "favorite_count": 5635,
          "handle": "HillaryClinton",
          "retweet_count": 2384,
          "text": "Trump went to Flint to draw attention to the city's lead poisoning crisis—but he just made a spectacle of himself. https://t.co/Dw4KoVgrQ3",
          "time": "2016-09-17T21:12:52"
         },
         {
          "favorite_count": 34299,
          "handle": "realDonaldTrump",
          "retweet_count": 8432,
          "text": "Great job today by the NYPD in protecting the people and saving the climber.",
          "time": "2016-08-11T02:07:07"
         },
         {
          "favorite_count": 1212,
          "handle": "HillaryClinton",
          "retweet_count": 661,
          "text": "\"No nos representas. Tus ideas no nos representan. Tus valores no nos representan\"\nCarta abierta a Trump. Firma hoy: https://t.co/LnuTNGzIvs",
          "time": "2016-07-18T17:55:03"
         },
         {
          "favorite_count": 38835,
          "handle": "HillaryClinton",
          "retweet_count": 18501,
          "text": "We are better than this.",
          "time": "2016-07-22T03:10:09"
         },
         {
          "favorite_count": 5203,
          "handle": "HillaryClinton",
          "retweet_count": 2305,
          "text": "\"It is cruel and terrible that her life was cut short by a violent act of political intolerance\" —Hillary on Jo Cox: https://t.co/FUShBg11it",
          "time": "2016-06-16T23:19:10"
         },
         {
          "favorite_count": 3420,
          "handle": "HillaryClinton",
          "retweet_count": 1125,
          "text": "“Generations of heroic Americans have made our nation more inclusive, more expansive, and more just.” —@CoryBooker #DemsInPhilly",
          "time": "2016-07-26T01:39:39"
         },
         {
          "favorite_count": 7780,
          "handle": "realDonaldTrump",
          "retweet_count": 3031,
          "text": "Nasty Ted Cruz is at it again- same dirty tricks he used w/ @RealBenCarson- saying I may not be on ballot &amp; I hold liberal positions. LIES!",
          "time": "2016-02-14T00:11:36"
         },
         {
          "favorite_count": 2616,
          "handle": "HillaryClinton",
          "retweet_count": 949,
          "text": "\"Let me tell you, my faith in Hillary Clinton has always been rewarded.\" —@POTUS",
          "time": "2016-07-05T19:57:57"
         },
         {
          "favorite_count": 5416,
          "handle": "HillaryClinton",
          "retweet_count": 1771,
          "text": "\"I’m pleased to announce a nationwide drive to get 3 million people to register to vote and commit to vote in this election.\" —Hillary",
          "time": "2016-07-18T17:15:37"
         },
         {
          "favorite_count": 3048,
          "handle": "HillaryClinton",
          "retweet_count": 1281,
          "text": "In 1990, explorer and marine biologist Sylvia Earle became the first woman appointed chief scientist at @NOAA. https://t.co/WSDCF3c2je",
          "time": "2016-04-25T17:15:47"
         },
         {
          "favorite_count": 11649,
          "handle": "realDonaldTrump",
          "retweet_count": 4580,
          "text": "I am self-funding my campaign - putting up my own money, not controlled.  Cruz is spending $millions on ads paid for by his N.Y. bosses.",
          "time": "2016-01-17T21:05:47"
         },
         {
          "favorite_count": 8146,
          "handle": "realDonaldTrump",
          "retweet_count": 2812,
          "text": "Wow! Honored to be chosen by the highly respected + accurate Washington &amp; Lee Mock Convention. I hope you are right - I will make you proud!",
          "time": "2016-02-14T00:00:49"
         },
         {
          "favorite_count": 3314,
          "handle": "realDonaldTrump",
          "retweet_count": 1340,
          "text": "\"@AmericanAsPie:  @glennbeck @SarahPalinUSA Remember when Glenn gave out gifts to ILLEGAL ALIENS at crossing the border? Me too!\"",
          "time": "2016-01-21T13:57:39"
         },
         {
          "favorite_count": 7042,
          "handle": "HillaryClinton",
          "retweet_count": 2535,
          "text": "“Hillary will make us stronger together. You know it because she spent a lifetime doing it.” —@BillClinton https://t.co/MLSDqDUhmf",
          "time": "2016-07-27T02:55:31"
         },
         {
          "favorite_count": 11321,
          "handle": "HillaryClinton",
          "retweet_count": 8124,
          "text": "Hours after the #BrexitVote, Donald Trump was in the U.K.\n\nTalking about how he, personally, would benefit.\nhttps://t.co/YEt5LozDpt",
          "time": "2016-06-24T18:14:04"
         },
         {
          "favorite_count": 48939,
          "handle": "realDonaldTrump",
          "retweet_count": 20208,
          "text": "Our incompetent Secretary of State, Hillary Clinton, was the one who started talks to give 400 million dollars, in cash, to Iran. Scandal!",
          "time": "2016-08-03T10:23:27"
         },
         {
          "favorite_count": 46440,
          "handle": "realDonaldTrump",
          "retweet_count": 21176,
          "text": "Reuters just announced that Secret Service never spoke to me or my campaign. Made up story by @CNN is a hoax. Totally dishonest.",
          "time": "2016-08-10T23:38:15"
         },
         {
          "favorite_count": 27234,
          "handle": "realDonaldTrump",
          "retweet_count": 8564,
          "text": "The reason I put up approximately $50 million for my successful primary campaign is very simple, I want to MAKE AMERICA GREAT AGAIN!",
          "time": "2016-06-30T19:30:54"
         },
         {
          "favorite_count": 6116,
          "handle": "HillaryClinton",
          "retweet_count": 2496,
          "text": "We’ve got to say with one voice that Latinos are a vital part of the American community.\nhttps://t.co/IfxluhqpKQ",
          "time": "2016-07-16T21:43:03"
         },
         {
          "favorite_count": 3179,
          "handle": "HillaryClinton",
          "retweet_count": 1689,
          "text": "The only one to benefit by casting our commitment to NATO in doubt is Russia. #NATO #StandTogether",
          "time": "2016-07-21T21:35:27"
         },
         {
          "favorite_count": 11241,
          "handle": "HillaryClinton",
          "retweet_count": 4218,
          "text": "\"I know how hard this job can be. That’s why I know Hillary will be so good at it.\" —@POTUS\nhttps://t.co/GDhRYAVn0P",
          "time": "2016-06-09T23:53:31"
         },
         {
          "favorite_count": 1271,
          "handle": "HillaryClinton",
          "retweet_count": 434,
          "text": "Live from HQ: @BrynneCraig, @LorellaPraeli, and @JessLivMo introduce our 3 Million Stronger voter registration goal: https://t.co/7jW5sbh6Hp",
          "time": "2016-07-19T21:21:54"
         },
         {
          "favorite_count": 11989,
          "handle": "realDonaldTrump",
          "retweet_count": 4490,
          "text": "THANK YOU!  \n#MakeAmericaGreatAgain #Trump2016\nhttps://t.co/nvgOPoo5qf https://t.co/0JCjfbcpJZ",
          "time": "2016-02-25T22:16:26"
         },
         {
          "favorite_count": 5242,
          "handle": "HillaryClinton",
          "retweet_count": 2212,
          "text": "People of different faiths, backgrounds, sexual orientations, and gender identities are coming together to say: we won’t let hate defeat us.",
          "time": "2016-06-14T16:31:00"
         },
         {
          "favorite_count": 8313,
          "handle": "realDonaldTrump",
          "retweet_count": 2299,
          "text": "My next project is pretty amazing…!\nxx, Ivanka https://t.co/Ucq3dz20sQ https://t.co/f60biSURQ7",
          "time": "2016-06-06T16:34:08"
         },
         {
          "favorite_count": 6556,
          "handle": "HillaryClinton",
          "retweet_count": 1865,
          "text": "The NRA is based in Virginia, but that's never stopped @TimKaine from leading the fight to reduce gun violence. https://t.co/J9F086bQmo",
          "time": "2016-08-07T20:17:42"
         },
         {
          "favorite_count": 16879,
          "handle": "realDonaldTrump",
          "retweet_count": 4430,
          "text": "Dummy writer @tonyschwartz, who wanted to do a second book with me for years (I said no), is now a hostile basket case who feels jilted!",
          "time": "2016-09-10T05:47:11"
         },
         {
          "favorite_count": 29448,
          "handle": "realDonaldTrump",
          "retweet_count": 11103,
          "text": "An analysis showed that Bernie Sanders would have won the Democratic nomination if it were not for the Super Delegates.",
          "time": "2016-07-24T12:30:15"
         },
         {
          "favorite_count": 2583,
          "handle": "HillaryClinton",
          "retweet_count": 1148,
          "text": "Clinton today released a “sweeping agenda” to address America’s mental health problem, per @NickGass. https://t.co/t2ypVgeyfd",
          "time": "2016-08-30T01:20:46"
         },
         {
          "favorite_count": 3526,
          "handle": "realDonaldTrump",
          "retweet_count": 796,
          "text": "Just landed in New Hampshire. Will be at the venue shortly. #FITN",
          "time": "2016-01-25T23:50:56"
         },
         {
          "favorite_count": 11020,
          "handle": "realDonaldTrump",
          "retweet_count": 4416,
          "text": "Mitt Romney,who totally blew an election that should have been won and whose tax returns made him look like a fool, is now playing tough guy",
          "time": "2016-02-24T23:13:15"
         },
         {
          "favorite_count": 7946,
          "handle": "realDonaldTrump",
          "retweet_count": 2728,
          "text": "Great poll! Thank you North Carolina! \n#VoteTrumpNC on 3/15!\nTrump 36%\nCruz 18%\nRubio 18%\nCarson 10%\nKasich 7%\nVia @SurveyUSA",
          "time": "2016-02-23T01:34:44"
         },
         {
          "favorite_count": 28792,
          "handle": "realDonaldTrump",
          "retweet_count": 9719,
          "text": "Don King, and so many other African Americans who know me well and endorsed me, would not have done so if they thought I was a racist!",
          "time": "2016-06-11T12:00:26"
         },
         {
          "favorite_count": 12743,
          "handle": "realDonaldTrump",
          "retweet_count": 4443,
          "text": "THANK YOU AMERICA!\n#MakeAmericaGreatAgain https://t.co/PvhGP2HmbN",
          "time": "2016-05-02T21:50:17"
         },
         {
          "favorite_count": 40449,
          "handle": "realDonaldTrump",
          "retweet_count": 8599,
          "text": "What a great four days in Cleveland. So proud of the great job done by the RNC and all. The police and Secret Service were fantastic!",
          "time": "2016-07-22T13:07:51"
         },
         {
          "favorite_count": 5270,
          "handle": "HillaryClinton",
          "retweet_count": 2567,
          "text": "Trump’s tax plan could give his own family a $4 billion tax break. Here's what we could do with that money instead: https://t.co/89rNgjYcGk",
          "time": "2016-08-20T19:14:54"
         },
         {
          "favorite_count": 2326,
          "handle": "HillaryClinton",
          "retweet_count": 1003,
          "text": "Let’s build a future where love trumps hate. https://t.co/tTgeqxNqYm",
          "time": "2016-09-16T14:05:45"
         },
         {
          "favorite_count": 751,
          "handle": "HillaryClinton",
          "retweet_count": 526,
          "text": "Paul Ryan and Donald Trump just met. Here's why it was probably pretty awkward.\nhttps://t.co/Fxu0td8N78",
          "time": "2016-05-12T14:50:01"
         },
         {
          "favorite_count": 930,
          "handle": "HillaryClinton",
          "retweet_count": 580,
          "text": "Donald Trump named 11 judges he would consider nominating to the Supreme Court.\n\nHere's what's at stake. https://t.co/Ft3TmCeeEA",
          "time": "2016-05-19T15:46:17"
         },
         {
          "favorite_count": 9417,
          "handle": "realDonaldTrump",
          "retweet_count": 3410,
          "text": "THANK YOU to everyone in Little Rock, Arkansas tonight! A record crowd of 12K. #Trump2016\nhttps://t.co/MjtIq2ii0Q https://t.co/I9WkPN3pWm",
          "time": "2016-02-04T02:31:48"
         },
         {
          "favorite_count": 2061,
          "handle": "HillaryClinton",
          "retweet_count": 653,
          "text": "He’s also made clear he’s fully committed to Hillary's policy agenda, which he understands includes repeal of Hyde. https://t.co/lzHg0WpJst",
          "time": "2016-07-31T19:57:26"
         },
         {
          "favorite_count": 9204,
          "handle": "HillaryClinton",
          "retweet_count": 3188,
          "text": ".@SenWarren endorsing Hillary on @maddow: \"She's a fighter.\"\nhttps://t.co/ppzKyKbCaU",
          "time": "2016-06-10T02:43:06"
         },
         {
          "favorite_count": 14762,
          "handle": "realDonaldTrump",
          "retweet_count": 3591,
          "text": "Will be delivering a major speech tonight - live on @oreillyfactor at 8:10pm from Pensacola, Florida.",
          "time": "2016-09-10T00:11:22"
         },
         {
          "favorite_count": 20073,
          "handle": "realDonaldTrump",
          "retweet_count": 5871,
          "text": "The media is on a new phony kick about my management style. I spend much less money &amp; get much better results! What we need as Prez!",
          "time": "2016-05-28T20:28:40"
         },
         {
          "favorite_count": 2421,
          "handle": "HillaryClinton",
          "retweet_count": 738,
          "text": "Let’s fight to make college tuition-free for the middle class and debt-free for everyone: https://t.co/BNZJ6ScplY",
          "time": "2016-08-11T18:01:25"
         },
         {
          "favorite_count": 6460,
          "handle": "realDonaldTrump",
          "retweet_count": 1651,
          "text": ".@AndreBauer  Great job and advice on @CNN  @jaketapper  Thank you!",
          "time": "2016-04-24T13:58:53"
         },
         {
          "favorite_count": 6004,
          "handle": "HillaryClinton",
          "retweet_count": 4722,
          "text": "This small business owner sold Donald Trump pianos for his Atlantic City casino.\n\nTrump stiffed him for the payment. https://t.co/i51CBQ9lKM",
          "time": "2016-07-20T02:04:24"
         },
         {
          "favorite_count": 4783,
          "handle": "realDonaldTrump",
          "retweet_count": 1442,
          "text": "Word is that little Morty Zuckerman’s @NYDailyNews loses more than $50 million per year---can that be possible?",
          "time": "2016-02-13T02:50:03"
         },
         {
          "favorite_count": 3766,
          "handle": "HillaryClinton",
          "retweet_count": 1090,
          "text": "Well said, Coach Auriemma. Keep winning, @USABasketball. https://t.co/1paG3IC51b",
          "time": "2016-08-14T20:26:30"
         },
         {
          "favorite_count": 30089,
          "handle": "realDonaldTrump",
          "retweet_count": 9445,
          "text": "So I raised/gave $5,600,000 for the veterans and the media makes me look bad! They do anything to belittle - totally biased.",
          "time": "2016-06-01T13:17:58"
         },
         {
          "favorite_count": 2106,
          "handle": "HillaryClinton",
          "retweet_count": 552,
          "text": "“As Scranton has always had my back, we—all of us—are going to have your back, Hillary.” —@JoeBiden",
          "time": "2016-08-15T17:32:48"
         },
         {
          "favorite_count": 13655,
          "handle": "realDonaldTrump",
          "retweet_count": 4441,
          "text": "Stuart Stevens, the failed campaign manager of Mitt Romney's historic loss, is now telling the Republican Party what to do with Trump. Sad!",
          "time": "2016-03-17T10:09:00"
         },
         {
          "favorite_count": 3191,
          "handle": "HillaryClinton",
          "retweet_count": 999,
          "text": "“What we heard was a deeply pessimistic vision of a country where we turn against each other.” —@POTUS on last week’s GOP convention",
          "time": "2016-07-28T03:04:23"
         },
         {
          "favorite_count": 25288,
          "handle": "realDonaldTrump",
          "retweet_count": 10252,
          "text": "\"@Don_Vito_08: \"A picture is worth a thousand words\" @realDonaldTrump  #LyingTed #NeverCruz  @MELANIATRUMP https://t.co/5bvVEwMVF8\"",
          "time": "2016-03-24T03:55:00"
         },
         {
          "favorite_count": 2931,
          "handle": "HillaryClinton",
          "retweet_count": 872,
          "text": "Hillary remembers her dad on Father's Day.\nhttps://t.co/0XQPI7FCJw",
          "time": "2016-06-19T18:34:38"
         },
         {
          "favorite_count": 15567,
          "handle": "HillaryClinton",
          "retweet_count": 11973,
          "text": "No legit reason @realDonaldTrump can't release returns while being audited, but if scared, release earlier returns no longer under audit.",
          "time": "2016-09-27T01:34:32"
         },
         {
          "favorite_count": 8013,
          "handle": "HillaryClinton",
          "retweet_count": 3418,
          "text": "Muslims and Mexican immigrants serve with distinction in the U.S. military. Trump could learn something about being an American from them.",
          "time": "2016-06-04T18:04:56"
         },
         {
          "favorite_count": 5012,
          "handle": "HillaryClinton",
          "retweet_count": 2095,
          "text": "Watch Hillary wonk out with a nurse in New Jersey over solving one of the world's most serious problems.\nhttps://t.co/0Ej6gaWzIf",
          "time": "2016-05-29T14:10:44"
         },
         {
          "favorite_count": 6183,
          "handle": "realDonaldTrump",
          "retweet_count": 1430,
          "text": "\"@tcloer11: @realDonaldTrump Great job! Make America Great Again!\"",
          "time": "2016-05-25T05:41:30"
         },
         {
          "favorite_count": 10577,
          "handle": "realDonaldTrump",
          "retweet_count": 4377,
          "text": "BREAKING POLL: Trump Gains 11 Points on Clinton Since March=&gt; Now Leads Crooked Hillary 46-44 https://t.co/y3BGy15Erb via @gatewaypundit",
          "time": "2016-05-22T15:28:44"
         },
         {
          "favorite_count": 24657,
          "handle": "realDonaldTrump",
          "retweet_count": 8524,
          "text": "Crooked Hillary has once again been proven to be a person who is dishonest, incompetent and of very bad judgement.",
          "time": "2016-07-06T11:21:34"
         },
         {
          "favorite_count": 3181,
          "handle": "realDonaldTrump",
          "retweet_count": 855,
          "text": "\"@marybnall01: @realDonaldTrump watched lowell mass speech. Awesome. Great crowd. Make America Great Again!!!!!!\"",
          "time": "2016-01-05T03:44:17"
         },
         {
          "favorite_count": 9106,
          "handle": "realDonaldTrump",
          "retweet_count": 2550,
          "text": "\"@EricTrump: Wishing our father tremendous luck in Michigan, Mississippi, Idaho &amp; Hawaii today! Amazing father! https://t.co/cYpx4eC9W @Q\"",
          "time": "2016-03-08T15:26:54"
         },
         {
          "favorite_count": 1292,
          "handle": "HillaryClinton",
          "retweet_count": 516,
          "text": "\"You are often unsung heroes. And I want you to know this: Your fights are my fights.\" —Hillary to @SEIU members in Detroit",
          "time": "2016-05-23T17:54:43"
         },
         {
          "favorite_count": 17643,
          "handle": "realDonaldTrump",
          "retweet_count": 6233,
          "text": "New national poll released. Join the MOVEMENT &amp; together we will #MakeAmericaGreatAgain! \nhttps://t.co/3KWOl2ibaW https://t.co/rnU1fkn274",
          "time": "2016-08-24T17:24:13"
         },
         {
          "favorite_count": 6706,
          "handle": "HillaryClinton",
          "retweet_count": 2735,
          "text": "\"[Hillary] is one of the most qualified people ever to run for the office, and she easily earns our endorsement.”… https://t.co/AhBE0UuJPO",
          "time": "2016-09-25T19:55:58"
         },
         {
          "favorite_count": 2362,
          "handle": "HillaryClinton",
          "retweet_count": 747,
          "text": "We’re going to make college debt-free for all and help millions of people struggling with existing student debt: https://t.co/l3h7YDCX3d",
          "time": "2016-08-15T17:17:40"
         },
         {
          "favorite_count": 23691,
          "handle": "HillaryClinton",
          "retweet_count": 10441,
          "text": "Stronger together. https://t.co/9x1zuMqFfs",
          "time": "2016-07-26T22:55:17"
         },
         {
          "favorite_count": 1999,
          "handle": "HillaryClinton",
          "retweet_count": 686,
          "text": "A couple of New Yorkers heading to the polls. #PrimaryDay\nhttps://t.co/NWLHCzykyU",
          "time": "2016-04-19T23:52:16"
         },
         {
          "favorite_count": 14338,
          "handle": "realDonaldTrump",
          "retweet_count": 5827,
          "text": "'True blue-collar billionaire Donald Trump shows Hillary Clinton is out of touch' https://t.co/NHO1OicfVm",
          "time": "2016-09-27T13:49:07"
         },
         {
          "favorite_count": 2464,
          "handle": "HillaryClinton",
          "retweet_count": 1095,
          "text": "Terrorists are taking advantage of the loopholes in our gun laws. Here's how we stop them: https://t.co/Tn9OyVShZn",
          "time": "2016-06-28T14:57:33"
         },
         {
          "favorite_count": 7043,
          "handle": "HillaryClinton",
          "retweet_count": 3437,
          "text": "\"The good news is that my pneumonia finally got some Republicans interested in women’s health.” —Hillary",
          "time": "2016-09-16T13:47:40"
         },
         {
          "favorite_count": 12641,
          "handle": "realDonaldTrump",
          "retweet_count": 3874,
          "text": "\"@DumpFoxNews: @FoxNews @megynkelly  If media wasn't so biased against Trump, he would've won all of the delegates.",
          "time": "2016-03-15T23:54:29"
         },
         {
          "favorite_count": 3383,
          "handle": "HillaryClinton",
          "retweet_count": 1079,
          "text": "\"Let's make it easier to vote, not harder. Let’s fight back against attacks on voting rights across the country.” —Hillary",
          "time": "2016-07-12T16:19:07"
         },
         {
          "favorite_count": 28973,
          "handle": "realDonaldTrump",
          "retweet_count": 10397,
          "text": "\"@bfraser747: Watch out HillaryClinton 👿 Support @realDonaldTrump 🇺🇸 🇺🇸 #MakeAmericaGreatAgain 🇺🇸 https://t.co/UTYOLo7wGF\"",
          "time": "2016-06-19T13:17:35"
         },
         {
          "favorite_count": 25932,
          "handle": "realDonaldTrump",
          "retweet_count": 7183,
          "text": "Funny how the failing @nytimes is pushing Dems narrative that Russia is working for me because Putin said \"Trump is a genius.\" America 1st!",
          "time": "2016-07-27T09:43:16"
         },
         {
          "favorite_count": 11185,
          "handle": "realDonaldTrump",
          "retweet_count": 3017,
          "text": "I will be interviewed by @SeanHannity tonight at 10pm on FOX! Enjoy!",
          "time": "2016-06-30T22:41:28"
         },
         {
          "favorite_count": 2494,
          "handle": "HillaryClinton",
          "retweet_count": 923,
          "text": "This is what a comprehensive (not \"secret\") counterterrorism plan looks like. https://t.co/QgVruA4rQA",
          "time": "2016-09-09T16:15:00"
         },
         {
          "favorite_count": 7512,
          "handle": "realDonaldTrump",
          "retweet_count": 3862,
          "text": "CONSTRUCTIVE WINS! 💪 \n@realDonaldTrump @CLewandowski_ @DanScavino @MichaelCohen212 @KatrinaPierson @DefendingtheUSA https://t.co/PZbezqDc0j",
          "time": "2016-02-03T22:22:52"
         },
         {
          "favorite_count": 8103,
          "handle": "realDonaldTrump",
          "retweet_count": 2564,
          "text": "\"@Kids123Nicholas: @gqforbes  @RepTomMarino @realDonaldTrump.Lets get it done Philadelphia Pa.Make Trump your pick for president now.",
          "time": "2016-04-10T03:00:04"
         },
         {
          "favorite_count": 4927,
          "handle": "HillaryClinton",
          "retweet_count": 1510,
          "text": "“She sat with me in the Situation Room and forcefully argued in favor of the mission that took out Osama bin Laden” —@POTUS on Hillary",
          "time": "2016-07-28T03:11:37"
         },
         {
          "favorite_count": 5120,
          "handle": "realDonaldTrump",
          "retweet_count": 2746,
          "text": "NEVADA! Tomorrow is the deadline to register Republican.\n\nVisit: https://t.co/bHZ4JVckOp\n\nMessage from @IvankaTrump: https://t.co/SZTq1QOXEg",
          "time": "2016-02-12T14:48:17"
         },
         {
          "favorite_count": 1173,
          "handle": "HillaryClinton",
          "retweet_count": 632,
          "text": "We can’t cozy up to dictators; we have to stand up to them.\n\nWe can’t contain ISIS; we must defeat it. And we will.",
          "time": "2016-08-31T16:58:49"
         },
         {
          "favorite_count": 5745,
          "handle": "HillaryClinton",
          "retweet_count": 2288,
          "text": "Why the @HoustonChron is urging voters to support Hillary in the “starkest political choice in living memory”: https://t.co/phjf19ybXr",
          "time": "2016-08-06T20:59:02"
         },
         {
          "favorite_count": 9293,
          "handle": "realDonaldTrump",
          "retweet_count": 3513,
          "text": "New South Carolina poll from PPP. Thank you! #VoteTrumpSC https://t.co/6618Oi6vle",
          "time": "2016-02-16T04:18:28"
         },
         {
          "favorite_count": 7254,
          "handle": "realDonaldTrump",
          "retweet_count": 3068,
          "text": "Governor Alejandro García Padilla said presidential hopeful Sen. Marco Rubio “is no friend of Puerto Rico.\" https://t.co/I6mhYnAcZ3",
          "time": "2016-02-29T16:29:11"
         },
         {
          "favorite_count": 6399,
          "handle": "realDonaldTrump",
          "retweet_count": 1957,
          "text": "\"@rkswaney7: @CNN @realDonaldTrump I agree. Great businessman. I like your tone tonight! Keep it up &amp; you'll have this Democrats vote.\"",
          "time": "2016-02-05T01:54:50"
         },
         {
          "favorite_count": 24081,
          "handle": "realDonaldTrump",
          "retweet_count": 7584,
          "text": "THANK YOU Daytona Beach, Florida!\n#MakeAmericaGreatAgain https://t.co/IAcLfXe463",
          "time": "2016-08-03T21:57:07"
         },
         {
          "favorite_count": 29853,
          "handle": "realDonaldTrump",
          "retweet_count": 11634,
          "text": "Obama, and all others, have been so weak, and so politically correct, that terror groups are forming and getting stronger! Shame.",
          "time": "2016-03-22T19:17:41"
         },
         {
          "favorite_count": 1556,
          "handle": "HillaryClinton",
          "retweet_count": 770,
          "text": "\"I’m going to close my campaign the way I began my career...focused on opportunities for kids and fairness for families.\" —Hillary",
          "time": "2016-09-15T19:52:21"
         },
         {
          "favorite_count": 15525,
          "handle": "realDonaldTrump",
          "retweet_count": 4746,
          "text": "Kasich only looks O.K. in polls against Hillary because nobody views him as a threat and therefore have placed ZERO negative ads against him",
          "time": "2016-04-18T11:02:24"
         },
         {
          "favorite_count": 5809,
          "handle": "realDonaldTrump",
          "retweet_count": 2512,
          "text": "We launched a new series of #Trump2016 videos via Facebook. A new topic everyday! Watch: https://t.co/NXWNOcWZgc https://t.co/52E3LU3W77",
          "time": "2016-01-18T19:50:56"
         },
         {
          "favorite_count": 11742,
          "handle": "realDonaldTrump",
          "retweet_count": 2737,
          "text": "\"@TrumpDoonbeg: Great news! We've been nominated for Ireland's Best Golf Hotel 2016.We would appreciate your vote! https://t.co/5uEBphqdG9\"",
          "time": "2016-07-17T03:21:14"
         },
         {
          "favorite_count": 15237,
          "handle": "realDonaldTrump",
          "retweet_count": 5177,
          "text": "The \"dirty\" poll done by @ABC @washingtonpost is a disgrace. Even they admit that many more Democrats were polled. Other polls were good.",
          "time": "2016-06-26T23:13:25"
         },
         {
          "favorite_count": 13300,
          "handle": "HillaryClinton",
          "retweet_count": 2929,
          "text": "1979. https://t.co/VYTglhPyfO",
          "time": "2016-08-11T16:26:12"
         },
         {
          "favorite_count": 17673,
          "handle": "realDonaldTrump",
          "retweet_count": 7178,
          "text": "Last nights winner was clear &amp; it will be proven time &amp; time again - lets #MAGA!! Lets WIN!! #TrumpTrain https://t.co/sGqp9rGmBH",
          "time": "2016-09-08T15:09:13"
         },
         {
          "favorite_count": 5529,
          "handle": "HillaryClinton",
          "retweet_count": 2141,
          "text": "Just like he shouldn’t have his finger on the nuclear button, Trump shouldn’t have his hands on our economy. https://t.co/REhieod2uo",
          "time": "2016-07-02T21:04:31"
         },
         {
          "favorite_count": 3388,
          "handle": "HillaryClinton",
          "retweet_count": 1770,
          "text": "A woman told Hillary she was fired after losing her baby: \"What happened to you was not only wrong—it's illegal.\"\nhttps://t.co/DekJBHSA44",
          "time": "2016-05-10T18:56:25"
         },
         {
          "favorite_count": 24934,
          "handle": "HillaryClinton",
          "retweet_count": 13169,
          "text": "You are not our voice, @realDonaldTrump.",
          "time": "2016-07-22T02:46:58"
         },
         {
          "favorite_count": 2462,
          "handle": "HillaryClinton",
          "retweet_count": 733,
          "text": "\"Americans aren’t just choosing a president, we’re also choosing a Commander-in-Chief.\" —Hillary to the @VFWHQ",
          "time": "2016-07-25T15:41:49"
         },
         {
          "favorite_count": 1825,
          "handle": "HillaryClinton",
          "retweet_count": 881,
          "text": "Kind of assumed Trump's approach would be more RT if by land, like if by sea. https://t.co/ddEI0z9LR9",
          "time": "2016-08-01T15:13:50"
         },
         {
          "favorite_count": 13363,
          "handle": "HillaryClinton",
          "retweet_count": 9943,
          "text": "Here's how the Republican ticket would \"protect\" LGBT Americans. #RNCinCLE https://t.co/bcHNM1EMxL",
          "time": "2016-07-22T02:56:21"
         },
         {
          "favorite_count": 11943,
          "handle": "realDonaldTrump",
          "retweet_count": 4044,
          "text": "Still time to get out and VOTE!\n#WIPrimary #Trump2016 #MAGA\nhttps://t.co/HjnGrR25Vf",
          "time": "2016-04-05T22:47:28"
         },
         {
          "favorite_count": 16767,
          "handle": "realDonaldTrump",
          "retweet_count": 4321,
          "text": "Can't watch Crazy Megyn anymore. Talks about me at 43% but never mentions that there are four people in race. With two people, big &amp; over!",
          "time": "2016-03-16T00:05:04"
         },
         {
          "favorite_count": 38631,
          "handle": "realDonaldTrump",
          "retweet_count": 10299,
          "text": "The dishonest media is fawning over the Democratic Convention. I wonder why, then, my speech had millions of more viewers than Crooked H?",
          "time": "2016-07-31T20:09:00"
         },
         {
          "favorite_count": 20267,
          "handle": "HillaryClinton",
          "retweet_count": 12980,
          "text": "\"That's called business.\" —Donald Trump on the housing crash.\n\nFor millions of Americans it was called \"losing their home.\" #DebateNight",
          "time": "2016-09-27T01:19:02"
         },
         {
          "favorite_count": 1468,
          "handle": "HillaryClinton",
          "retweet_count": 501,
          "text": "Not that long ago, if you had a disability, it defined your entire life. Basic, essential things that others could do, you couldn’t.",
          "time": "2016-09-21T18:55:58"
         },
         {
          "favorite_count": 24412,
          "handle": "realDonaldTrump",
          "retweet_count": 7810,
          "text": "Crooked Hillary Clinton just can't close the deal with Bernie. I had to knock out 16 very good and smart candidates. Hillary doesn't have it",
          "time": "2016-05-25T13:14:58"
         },
         {
          "favorite_count": 12595,
          "handle": "realDonaldTrump",
          "retweet_count": 4076,
          "text": "\"@kirstiealley: HELLO BOYS! this is my formal endorsement of @realDonaldTrump &amp; I'm a woman! (last I checked) And Rudy, U R amazing!",
          "time": "2016-04-09T01:54:31"
         },
         {
          "favorite_count": 11949,
          "handle": "realDonaldTrump",
          "retweet_count": 3966,
          "text": "Join me in Florida on Wednesday! Daytona &amp; Jacksonville:\n\nDaytona | 3pm- https://t.co/rJjYUbwiLL\nJacksonville | 7pm- https://t.co/zfxeNbr1nq",
          "time": "2016-08-01T23:02:59"
         },
         {
          "favorite_count": 2463,
          "handle": "HillaryClinton",
          "retweet_count": 877,
          "text": "\"My opponent has America all wrong. There’s nothing we can’t do when we come together as one nation.\" —Hillary",
          "time": "2016-09-15T20:00:57"
         },
         {
          "favorite_count": 22533,
          "handle": "realDonaldTrump",
          "retweet_count": 7075,
          "text": "Wow - thank you Pensacola, FL. See you Friday at 7pm -- join me!\nhttps://t.co/JCO7Za78tV https://t.co/LYmpRyY0Hq",
          "time": "2016-09-07T20:23:56"
         },
         {
          "favorite_count": 8126,
          "handle": "realDonaldTrump",
          "retweet_count": 2452,
          "text": "\"@Wheels155:@CNN is reviewing the week,but majority of the show about @realDonaldTrump cuz there would be 0.0 ratings if not. Media's a JOKE",
          "time": "2016-04-03T13:37:37"
         },
         {
          "favorite_count": 4481,
          "handle": "HillaryClinton",
          "retweet_count": 2439,
          "text": "Voters in CT, DE, MD, PA, and RI head to the polls today. RT this if you’re voting for Hillary. https://t.co/2TRe1AEgiP",
          "time": "2016-04-26T12:59:23"
         },
         {
          "favorite_count": 12991,
          "handle": "HillaryClinton",
          "retweet_count": 4682,
          "text": "\"Hillary won big time. It was a shut out.\" -- @HardballChris #debatenight",
          "time": "2016-09-27T03:12:31"
         },
         {
          "favorite_count": 21248,
          "handle": "realDonaldTrump",
          "retweet_count": 8085,
          "text": "#MakeAmericaWorkAgain \n#TrumpPence16 #RNCinCLE \nhttps://t.co/bsUp4MSysD https://t.co/mYBjp03XYf",
          "time": "2016-07-19T20:38:20"
         },
         {
          "favorite_count": 17961,
          "handle": "realDonaldTrump",
          "retweet_count": 6033,
          "text": "Thank you Fort Wayne, Indiana!\n#Trump2016 #INPrimary https://t.co/mDGrmMmk5T",
          "time": "2016-05-01T21:31:05"
         },
         {
          "favorite_count": 27672,
          "handle": "realDonaldTrump",
          "retweet_count": 11249,
          "text": "Hillary Clinton raked in money from regimes that horribly oppress women and gays &amp; refuses to speak out against Radical Islam.",
          "time": "2016-08-01T22:52:00"
         },
         {
          "favorite_count": 11497,
          "handle": "HillaryClinton",
          "retweet_count": 7078,
          "text": "History is watching. https://t.co/pdphHQmYCM",
          "time": "2016-07-22T03:31:46"
         },
         {
          "favorite_count": 14027,
          "handle": "realDonaldTrump",
          "retweet_count": 4679,
          "text": "It was great being in Michigan. Remember, I am the only presidential candidate who will bring jobs back to the U.S.and protect car industry!",
          "time": "2016-03-07T21:23:58"
         },
         {
          "favorite_count": 4606,
          "handle": "HillaryClinton",
          "retweet_count": 1057,
          "text": "Road trip: Tag along on Hillary and @TimKaine's bus tour through Ohio and Pennsylvania → https://t.co/oA2spAUmu9 https://t.co/xj3HOYaFBc",
          "time": "2016-08-02T01:17:23"
         },
         {
          "favorite_count": 12037,
          "handle": "HillaryClinton",
          "retweet_count": 4758,
          "text": "“I’m Hillary Clinton and I’ve always approved this message.” https://t.co/GgDeBBfoUm",
          "time": "2016-09-19T16:12:15"
         },
         {
          "favorite_count": 7847,
          "handle": "HillaryClinton",
          "retweet_count": 4535,
          "text": "Trump on releasing detailed medical records: \"I have no problem in doing so!\"\n\nHe still hasn't released them. https://t.co/Zk1AXnWqes",
          "time": "2016-09-15T14:56:09"
         },
         {
          "favorite_count": 9557,
          "handle": "realDonaldTrump",
          "retweet_count": 4152,
          "text": "We Can Do Better, We Must Do Better, We Will Do Better \nBy LTG (R) Keith Kellogg and LTG (R) Michael Flynn @GenFlynn https://t.co/x8g3MdWjln",
          "time": "2016-08-09T01:00:23"
         },
         {
          "favorite_count": 2687,
          "handle": "HillaryClinton",
          "retweet_count": 830,
          "text": "It’s past time for comprehensive immigration reform, and we’re going to do everything we can to get it done: https://t.co/M3doGLY5rL",
          "time": "2016-08-05T16:46:05"
         },
         {
          "favorite_count": 3797,
          "handle": "HillaryClinton",
          "retweet_count": 1126,
          "text": "“We have made too much progress, and we are not going back, we are going forward.\" —@RepJohnLewis #DemsInPhilly",
          "time": "2016-07-26T21:17:03"
         },
         {
          "favorite_count": 14575,
          "handle": "HillaryClinton",
          "retweet_count": 4300,
          "text": "When any barrier falls in America, it clears the way for everyone. https://t.co/nz6Y29DMwP",
          "time": "2016-07-30T16:10:37"
         },
         {
          "favorite_count": 3391,
          "handle": "HillaryClinton",
          "retweet_count": 1428,
          "text": "Donald Trump has built his campaign on prejudice and paranoia. He’s taking hate groups mainstream.",
          "time": "2016-08-25T19:15:55"
         },
         {
          "favorite_count": 9445,
          "handle": "HillaryClinton",
          "retweet_count": 3727,
          "text": "Unions stand up for workers who need someone to have their backs. We need a president who will do the same. https://t.co/0OpO5kCyyg",
          "time": "2016-09-05T16:38:27"
         },
         {
          "favorite_count": 606,
          "handle": "HillaryClinton",
          "retweet_count": 406,
          "text": "Another day, another shameful move by House GOP to roll back anti-discrimination protections for LGBT employees. https://t.co/vHXbM1JFeT",
          "time": "2016-05-20T15:18:57"
         },
         {
          "favorite_count": 9636,
          "handle": "HillaryClinton",
          "retweet_count": 5261,
          "text": "Caught your speech, @realDonaldTrump. About that \"woman's card\"...\nhttps://t.co/kKaHWISchy",
          "time": "2016-04-27T03:54:21"
         },
         {
          "favorite_count": 5641,
          "handle": "HillaryClinton",
          "retweet_count": 2176,
          "text": "What our economy needs: The largest investment in creating good-paying jobs since World War II. https://t.co/uDdkrA2myo",
          "time": "2016-08-04T15:16:04"
         },
         {
          "favorite_count": 6203,
          "handle": "realDonaldTrump",
          "retweet_count": 3129,
          "text": "I told you so. Our country totally lost control of illegal immigration, even with criminals. \nhttps://t.co/IZgZqr6BgB",
          "time": "2016-02-06T02:42:58"
         },
         {
          "favorite_count": 4112,
          "handle": "realDonaldTrump",
          "retweet_count": 1451,
          "text": "Thank you for your strong testimony when welcoming me to Liberty University, yesterday- @JerryJrFalwell. https://t.co/VJgj7AC5tE",
          "time": "2016-01-19T15:47:20"
         },
         {
          "favorite_count": 11488,
          "handle": "realDonaldTrump",
          "retweet_count": 3849,
          "text": "The polls are now showing that I am the best to win the GENERAL ELECTION. States that are never in play for Repubs will be won by me. Great!",
          "time": "2016-02-09T12:23:37"
         },
         {
          "favorite_count": 28591,
          "handle": "realDonaldTrump",
          "retweet_count": 13148,
          "text": "How quickly people forget that Crooked Hillary called African-American youth \"SUPER PREDATORS\" - Has she apologized?",
          "time": "2016-08-26T17:14:09"
         },
         {
          "favorite_count": 7065,
          "handle": "realDonaldTrump",
          "retweet_count": 2152,
          "text": "\"@Janetlarose1: @realDonaldTrump @FaceTheNation @jdickerson WASHINGTON VERSUS TRUMP ❤ &amp;TRUMPS SUPPORTERS ... #TRUMPDOG\"",
          "time": "2016-03-06T23:57:24"
         },
         {
          "favorite_count": 2732,
          "handle": "HillaryClinton",
          "retweet_count": 951,
          "text": "\"Enough is enough. It’s time we make quality child care affordable for all working families.\" —Hillary",
          "time": "2016-05-10T20:19:26"
         },
         {
          "favorite_count": 7570,
          "handle": "HillaryClinton",
          "retweet_count": 4884,
          "text": "\"I don't regret anything.\" —Donald Trump, August 2, 2016\nhttps://t.co/TWj7QwVQMP",
          "time": "2016-08-20T14:37:12"
         },
         {
          "favorite_count": 2625,
          "handle": "realDonaldTrump",
          "retweet_count": 686,
          "text": "\"@pearl_brendan: @dphilbs if @realDonaldTrump doesn't win, I'm leaving this country #Trump4President\"",
          "time": "2016-01-06T02:31:17"
         },
         {
          "favorite_count": 33919,
          "handle": "realDonaldTrump",
          "retweet_count": 10687,
          "text": "I will be making a major speech on ILLEGAL IMMIGRATION on Wednesday in the GREAT State of Arizona. Big crowds, looking for a larger venue.",
          "time": "2016-08-28T23:27:59"
         },
         {
          "favorite_count": 5999,
          "handle": "realDonaldTrump",
          "retweet_count": 2696,
          "text": ".@lindseygraham, who had zero in his presidential run before dropping out in disgrace- saying the most horrible things about me on @FoxNews.",
          "time": "2016-02-17T14:39:52"
         },
         {
          "favorite_count": 4203,
          "handle": "HillaryClinton",
          "retweet_count": 1248,
          "text": "If you dream it, you should be able to build it. https://t.co/uArcPunfFy https://t.co/qKg0MOHVBv",
          "time": "2016-08-20T23:02:28"
         },
         {
          "favorite_count": 9674,
          "handle": "HillaryClinton",
          "retweet_count": 7014,
          "text": "\"President Trump\" is a dangerous proposition.\n\nMitt Romney, Ted Cruz, and Marco Rubio agree.\nhttps://t.co/fUkISvgaXC",
          "time": "2016-05-04T18:46:12"
         },
         {
          "favorite_count": 24029,
          "handle": "realDonaldTrump",
          "retweet_count": 9601,
          "text": "Great new poll- thank you!\n#MakeAmericaGreatAgain #Trump2016 https://t.co/SZyZ8GkF23",
          "time": "2016-05-16T02:23:06"
         },
         {
          "favorite_count": 8721,
          "handle": "realDonaldTrump",
          "retweet_count": 3341,
          "text": "Good morning Ohio! Some additional information from my daughter, @IvankaTrump! #VoteTrump #SuperTuesday https://t.co/H7sBEnSpYq",
          "time": "2016-03-15T12:10:10"
         },
         {
          "favorite_count": 4484,
          "handle": "realDonaldTrump",
          "retweet_count": 1315,
          "text": "Heading now to Pella, Iowa. Big crowd! Remember, Trump is a big buyer of Pella windows. See you soon!",
          "time": "2016-01-23T20:15:59"
         },
         {
          "favorite_count": 12899,
          "handle": "HillaryClinton",
          "retweet_count": 6900,
          "text": "Mike Pence would outlaw abortion.\n\nAnd Donald Trump just made him his running mate. https://t.co/RLOgEFzW7S",
          "time": "2016-07-16T18:17:10"
         },
         {
          "favorite_count": 3461,
          "handle": "HillaryClinton",
          "retweet_count": 1279,
          "text": "Live from Orlando: Watch Hillary share her plan for building an inclusive economy that helps everyone get ahead → https://t.co/IX06FtcZG8",
          "time": "2016-09-21T18:41:31"
         },
         {
          "favorite_count": 13665,
          "handle": "HillaryClinton",
          "retweet_count": 2638,
          "text": "It's great to be back on the campaign trail. https://t.co/vm1KX2uOXt",
          "time": "2016-09-17T00:54:04"
         },
         {
          "favorite_count": 22872,
          "handle": "realDonaldTrump",
          "retweet_count": 9089,
          "text": "Interesting how President Obama so haltingly said I \"would never be president\" - This from perhaps the worst president in U.S. history!",
          "time": "2016-02-17T11:08:15"
         },
         {
          "favorite_count": 1990,
          "handle": "HillaryClinton",
          "retweet_count": 861,
          "text": ".@hillaryclinton announced a new public health fund to fight pandemics like Zika and keep American families safe https://t.co/RGXoMAkLmr",
          "time": "2016-08-24T21:02:26"
         },
         {
          "favorite_count": 4981,
          "handle": "HillaryClinton",
          "retweet_count": 1822,
          "text": "Donald Trump is temperamentally unfit to be president of the United States.",
          "time": "2016-08-25T19:28:07"
         },
         {
          "favorite_count": 43621,
          "handle": "realDonaldTrump",
          "retweet_count": 13402,
          "text": "You have no idea what my strategy on ISIS is, and neither does ISIS (a good thing). Please get your facts straight - thanks. @megynkelly",
          "time": "2016-07-27T01:51:45"
         },
         {
          "favorite_count": 32874,
          "handle": "HillaryClinton",
          "retweet_count": 12738,
          "text": "Just got off the phone with Hillary. I’m honored to be her running mate. Can’t wait to hit the trail tomorrow in Miami!",
          "time": "2016-07-23T00:41:00"
         },
         {
          "favorite_count": 11819,
          "handle": "realDonaldTrump",
          "retweet_count": 4565,
          "text": "Thank you @SenatorSessions!\n#MakeAmericaGreatAgain #Trump2016\nhttps://t.co/Szs0QF88HR https://t.co/UL6t60TTjP",
          "time": "2016-02-29T01:09:46"
         },
         {
          "favorite_count": 2968,
          "handle": "HillaryClinton",
          "retweet_count": 957,
          "text": "\"What we hear from my opponent is dangerously incoherent. It's unclear what he's saying, but words matter.\" —Hillary",
          "time": "2016-09-27T18:06:28"
         },
         {
          "favorite_count": 17455,
          "handle": "realDonaldTrump",
          "retweet_count": 5331,
          "text": "Watching other networks and local news. Really good night! Crazy @megynkelly is unwatchable.",
          "time": "2016-03-16T00:09:08"
         },
         {
          "favorite_count": 1182,
          "handle": "HillaryClinton",
          "retweet_count": 396,
          "text": "You better listen to @RepCleaver — @HillaryClinton won't stay throwed. #DemsInPhilly\nhttps://t.co/QUadl02GPz",
          "time": "2016-07-28T22:59:10"
         },
         {
          "favorite_count": 9675,
          "handle": "realDonaldTrump",
          "retweet_count": 2857,
          "text": "My wife @MELANIATRUMP will be #OnTheRecord w/ @greta tonight at 7pmE on @FoxNews. Enjoy! \nhttps://t.co/yxrRkJJSGG https://t.co/Trv1hj9hRI",
          "time": "2016-03-02T19:54:30"
         },
         {
          "favorite_count": 10729,
          "handle": "realDonaldTrump",
          "retweet_count": 5365,
          "text": "'U.S. Murders Increased 10.8% in 2015' via @WSJ: https://t.co/CIJMQJhLqp",
          "time": "2016-09-27T14:55:57"
         },
         {
          "favorite_count": 2431,
          "handle": "HillaryClinton",
          "retweet_count": 810,
          "text": "\"I will say what Donald Trump won’t: Judge Curiel is as American as I am and as American as Donald Trump.\" —Hillary",
          "time": "2016-07-14T15:59:25"
         },
         {
          "favorite_count": 3470,
          "handle": "HillaryClinton",
          "retweet_count": 1795,
          "text": "...and many of them pay a lower tax rate. https://t.co/fy9pJL976G",
          "time": "2016-06-24T01:28:53"
         },
         {
          "favorite_count": 13925,
          "handle": "HillaryClinton",
          "retweet_count": 3588,
          "text": "Three-time world all-around champion @Simone_Biles is set to make history at the Olympics. Good luck, Simone! https://t.co/JkiQ8hc1Xt",
          "time": "2016-08-07T16:35:53"
         },
         {
          "favorite_count": 12819,
          "handle": "realDonaldTrump",
          "retweet_count": 4937,
          "text": "#MakeAmericaGreatAgain #Trump2016\nhttps://t.co/kXhc2j94YF https://t.co/YZAdAndKXv",
          "time": "2016-05-18T23:14:39"
         },
         {
          "favorite_count": 4985,
          "handle": "realDonaldTrump",
          "retweet_count": 2143,
          "text": "@elizabethforma Goofy Elizabeth Warren, sometimes referred to as Pocahontas because she faked the fact she is native American, is a lowlife!",
          "time": "2016-05-25T05:37:29"
         },
         {
          "favorite_count": 5304,
          "handle": "realDonaldTrump",
          "retweet_count": 1600,
          "text": "\"@realOllieTaylor: @paintonmy: IA caucus hasn't picked nominee in 16 years! Cruz dirty tricks stole it. Trump way ahead in primary states.",
          "time": "2016-02-06T20:04:09"
         },
         {
          "favorite_count": 2262,
          "handle": "HillaryClinton",
          "retweet_count": 971,
          "text": "Hillary’s college plan will bring about a long-awaited transformation of higher education in America. Here's how: https://t.co/YX1niM3brQ",
          "time": "2016-08-19T00:14:50"
         },
         {
          "favorite_count": 9304,
          "handle": "HillaryClinton",
          "retweet_count": 3640,
          "text": "America is stronger when we expand access to the ballot box, not restrict it. It's time to #RestoreTheVRA. https://t.co/uId57oQgUn",
          "time": "2016-08-06T16:05:14"
         },
         {
          "favorite_count": 3793,
          "handle": "HillaryClinton",
          "retweet_count": 768,
          "text": "Enjoying a quiet moment at @GrandTetonNPS back in 1995.\n\nHappy #NPS100! https://t.co/of8cMaj8mR",
          "time": "2016-08-25T23:18:29"
         },
         {
          "favorite_count": 34340,
          "handle": "realDonaldTrump",
          "retweet_count": 12244,
          "text": "Crooked Hillary Clinton will be a disaster on jobs, the economy, trade, healthcare, the military, guns and just about all else. Obama plus!",
          "time": "2016-06-09T12:29:24"
         },
         {
          "favorite_count": 3436,
          "handle": "HillaryClinton",
          "retweet_count": 1115,
          "text": "Excited to be back with a good friend. Watch @TheEllenShow today at 4 pm ET. https://t.co/zfdh2SVaWb",
          "time": "2016-05-25T19:27:36"
         },
         {
          "favorite_count": 12708,
          "handle": "realDonaldTrump",
          "retweet_count": 4005,
          "text": "Failed Presidential Candidate Mitt Romney was campaigning with John Kasich &amp; Marco Rubio, and now he is endorsing Ted Cruz. 1/2",
          "time": "2016-03-18T20:21:17"
         },
         {
          "favorite_count": 27489,
          "handle": "realDonaldTrump",
          "retweet_count": 9899,
          "text": "Crooked Hillary Clinton is a fraud who has put the public and country at risk by her illegal and very stupid use of e-mails. Many missing!",
          "time": "2016-06-01T22:16:36"
         },
         {
          "favorite_count": 2916,
          "handle": "HillaryClinton",
          "retweet_count": 1274,
          "text": "Hillary schooled Donald Trump on foreign policy yesterday. Miss the speech? Catch up on some of the highlights: https://t.co/KSrFV7MnfG",
          "time": "2016-06-03T18:40:04"
         },
         {
          "favorite_count": 17440,
          "handle": "realDonaldTrump",
          "retweet_count": 7381,
          "text": "\"@Genie115: #MakeAmericaGreatAgain we can only do that with @realDonaldTrump RT https://t.co/RViAgxoa4t\"",
          "time": "2016-04-08T02:45:59"
         },
         {
          "favorite_count": 5728,
          "handle": "HillaryClinton",
          "retweet_count": 2049,
          "text": "America has always been a nation of immigrants and refugees. On #WorldRefugeeDay, let's reaffirm our commitment to welcoming them. -H",
          "time": "2016-06-20T21:28:32"
         },
         {
          "favorite_count": 2964,
          "handle": "HillaryClinton",
          "retweet_count": 1504,
          "text": "\"I want more Americans to believe again we are all in this together.\"\nhttps://t.co/VECLFeVoyC",
          "time": "2016-05-05T18:43:25"
         },
         {
          "favorite_count": 7876,
          "handle": "HillaryClinton",
          "retweet_count": 3115,
          "text": "“This is why I do it and this is who I’m in it for—to make life better for children and families.\" —Hillary https://t.co/gkvtA1yQNX",
          "time": "2016-09-15T20:39:33"
         },
         {
          "favorite_count": 28245,
          "handle": "HillaryClinton",
          "retweet_count": 10357,
          "text": "Honored to have you with me, @POTUS. I'm fired up and ready to go! -H",
          "time": "2016-06-09T17:56:36"
         },
         {
          "favorite_count": 11913,
          "handle": "realDonaldTrump",
          "retweet_count": 4296,
          "text": "New York Yankees President, Randy Levine: 'End of the Republican Party' If Donald Trump Not Nominated.  \nhttps://t.co/HEXBZeejBc",
          "time": "2016-04-29T04:08:34"
         },
         {
          "favorite_count": 4769,
          "handle": "realDonaldTrump",
          "retweet_count": 1826,
          "text": "\"@TrumpNewMedia: WHY DOES TED CRUZ LIE SO MUCH? LET'S FACE IT TED NEVER CREATED EVEN 1 JOB HIS ENTIRE LIFE! #WATCH: https://t.co/modgRNn1DJ",
          "time": "2016-02-20T15:15:03"
         },
         {
          "favorite_count": 3839,
          "handle": "HillaryClinton",
          "retweet_count": 1802,
          "text": "A Donald Trump presidency would pull us backward on nearly every issue we care about.\n\nWe can't let that happen.\nhttps://t.co/Ahc2uumjEI",
          "time": "2016-05-23T21:08:34"
         },
         {
          "favorite_count": 1451,
          "handle": "HillaryClinton",
          "retweet_count": 1283,
          "text": "Asked whether he talked to any foreign policy advisors about #Brexit, Trump says “there's nothing to talk about\" https://t.co/bXpscw9w7x",
          "time": "2016-06-24T15:47:26"
         },
         {
          "favorite_count": 7580,
          "handle": "HillaryClinton",
          "retweet_count": 4829,
          "text": "\"She gained a massive amount of weight...it was a real problem.\" —Trump this morning on Alicia Machado https://t.co/LJPlFegSTs",
          "time": "2016-09-27T16:12:28"
         },
         {
          "favorite_count": 8740,
          "handle": "realDonaldTrump",
          "retweet_count": 3584,
          "text": "\"@agentvf: New Jersey Man Joseph Hornick Willing to Go to Jail for Flying Trump Flag - Breitbart https://t.co/zky3vlOJu4  @Q102Philly\"",
          "time": "2016-04-10T11:29:49"
         },
         {
          "favorite_count": 6591,
          "handle": "realDonaldTrump",
          "retweet_count": 2663,
          "text": "Weak JEB getting thrown out by management during speech. Do you think he will be this tough on Putin &amp; others?  https://t.co/Tqej1euLVL",
          "time": "2016-02-12T04:10:52"
         },
         {
          "favorite_count": 14847,
          "handle": "realDonaldTrump",
          "retweet_count": 4296,
          "text": "Thank you @FaithandFreedom Coalition! An honor joining you today- to discuss our shared values.\n#RTM2016 #Trump2016 https://t.co/Ye6IhOW6ZM",
          "time": "2016-06-10T21:24:38"
         },
         {
          "favorite_count": 1658,
          "handle": "HillaryClinton",
          "retweet_count": 910,
          "text": "Fixed it for you. #RNCInCLE https://t.co/2hZP2qRWNj https://t.co/9zZll0Ftr4",
          "time": "2016-07-22T03:11:00"
         },
         {
          "favorite_count": 1111,
          "handle": "HillaryClinton",
          "retweet_count": 516,
          "text": "Hillary's plan to connect debt relief to entrepreneurship is smart https://t.co/WjFV8Tn6tj #makersandtakers start-up rates falling since 70s",
          "time": "2016-07-01T14:22:22"
         },
         {
          "favorite_count": 2794,
          "handle": "realDonaldTrump",
          "retweet_count": 1119,
          "text": "Phyllis Schlafly’s Eagle Forum: ‘National Review Will Be Defunct In The Next Year’ https://t.co/S7QmDkv2sg",
          "time": "2016-01-25T23:32:30"
         },
         {
          "favorite_count": 2536,
          "handle": "HillaryClinton",
          "retweet_count": 562,
          "text": "Hello, Virginia! After an exciting week on the trail with @HillaryClinton, I'm so happy to be home. -TK",
          "time": "2016-08-01T19:34:11"
         },
         {
          "favorite_count": 28750,
          "handle": "realDonaldTrump",
          "retweet_count": 9732,
          "text": "Hillary Clinton's short speech is pandering to the worst instincts in our society. She should be ashamed of herself!",
          "time": "2016-08-25T20:14:20"
         },
         {
          "favorite_count": 16035,
          "handle": "realDonaldTrump",
          "retweet_count": 6015,
          "text": "Full transcript of economic plan- delivered to the Economic Club of New York. #MAGA https://t.co/xiu9AUiSSD https://t.co/Fsy1diPWjU",
          "time": "2016-09-15T17:12:03"
         },
         {
          "favorite_count": 2609,
          "handle": "HillaryClinton",
          "retweet_count": 674,
          "text": "\"We are not going to privatize the V.A., we’re going to reform it.\" —Hillary",
          "time": "2016-07-25T15:57:49"
         },
         {
          "favorite_count": 3464,
          "handle": "HillaryClinton",
          "retweet_count": 1911,
          "text": "\"No one has the right to immigrate to this country.\" —Donald Trump during his rally in Florida today\n\nWe disagree. https://t.co/9gS9q5vQS9",
          "time": "2016-09-20T02:49:28"
         },
         {
          "favorite_count": 3716,
          "handle": "HillaryClinton",
          "retweet_count": 982,
          "text": "\"We gotta make this economy work for everybody, not just those at the top.” —Hillary https://t.co/xUQEFdxnWO",
          "time": "2016-08-03T21:40:49"
         },
         {
          "favorite_count": 6578,
          "handle": "HillaryClinton",
          "retweet_count": 2258,
          "text": "Meet @TimKaine—Hillary's running mate and the next vice president of the United States. https://t.co/igt3AKcMhK",
          "time": "2016-07-23T01:38:30"
         },
         {
          "favorite_count": 12239,
          "handle": "realDonaldTrump",
          "retweet_count": 4285,
          "text": "Thank you Texas! 10,000 amazing \nsupporters! #Trump2016 \n#MakeAmericaGreatAgain https://t.co/T2cBdktPbp",
          "time": "2016-02-26T21:34:21"
         },
         {
          "favorite_count": 7514,
          "handle": "HillaryClinton",
          "retweet_count": 2773,
          "text": "This is one nation under God, indivisible, with liberty and justice for all. Not just for those who look or love or worship one way—for all.",
          "time": "2016-06-14T16:49:32"
         },
         {
          "favorite_count": 4458,
          "handle": "HillaryClinton",
          "retweet_count": 2058,
          "text": "Couldn't agree more. https://t.co/gfk8NWAhIY",
          "time": "2016-05-26T23:12:29"
         },
         {
          "favorite_count": 2535,
          "handle": "HillaryClinton",
          "retweet_count": 1418,
          "text": "\"I can't see him helping anyone but himself.\" —Cheryl Lankford, single mom and Trump University victim #DemsInPhilly\nhttps://t.co/1V2emIoJUs",
          "time": "2016-07-26T02:56:49"
         },
         {
          "favorite_count": 7116,
          "handle": "realDonaldTrump",
          "retweet_count": 2705,
          "text": "Texas, Georgia &amp; many more VOTE EARLY! This is a movement!\n#Trump2016 VOTE VIDEO: https://t.co/LWeckhLWNv https://t.co/o93j0A0BIR",
          "time": "2016-02-25T01:47:30"
         },
         {
          "favorite_count": 1923,
          "handle": "HillaryClinton",
          "retweet_count": 874,
          "text": "The labor movement pioneered the basic bargain that made America great: If you work hard and do your part, you should be able to get ahead.",
          "time": "2016-05-23T17:58:55"
         },
         {
          "favorite_count": 7256,
          "handle": "HillaryClinton",
          "retweet_count": 3504,
          "text": "\"Read up on your history. It matters. We've got to get people to vote.\" —@POTUS: https://t.co/tTgeqy51PU https://t.co/GyveEjARku",
          "time": "2016-09-18T18:22:15"
         },
         {
          "favorite_count": 10455,
          "handle": "realDonaldTrump",
          "retweet_count": 3735,
          "text": ".@FoxNews is the only network that does not even mention my very successful event last night. $6,000,000 raised in one hour for our VETS.",
          "time": "2016-01-30T01:31:51"
         },
         {
          "favorite_count": 7141,
          "handle": "realDonaldTrump",
          "retweet_count": 2973,
          "text": "#WVPrimary #VoteTrump #Trump2016\nhttps://t.co/ihDWRMdy98\nhttps://t.co/VSStoanoDb",
          "time": "2016-05-09T15:13:26"
         },
         {
          "favorite_count": 17893,
          "handle": "realDonaldTrump",
          "retweet_count": 6400,
          "text": "Thank you Illinois! #SuperTuesday \n#MakeAmericaGreatAgain #Trump2016 https://t.co/vcfstc6Wnb",
          "time": "2016-03-16T01:48:52"
         },
         {
          "favorite_count": 2692,
          "handle": "realDonaldTrump",
          "retweet_count": 695,
          "text": "Fantastic job on @CNN  tonight. @kayleighmcenany is a winner! @donlemon",
          "time": "2016-01-12T03:34:17"
         },
         {
          "favorite_count": 4046,
          "handle": "realDonaldTrump",
          "retweet_count": 1332,
          "text": "\"@longtalltexan20 @realDonaldTrump  I love it when TRUMP calls out MSM for what they really are!  Cams starting to show crowds at rallies!\"",
          "time": "2016-01-05T18:05:19"
         },
         {
          "favorite_count": 4977,
          "handle": "HillaryClinton",
          "retweet_count": 1173,
          "text": "Tune in to watch Hillary on @JimmyKimmelLive, 11:35 ET/10:35 CT. https://t.co/drQevoF879",
          "time": "2016-08-23T03:17:35"
         },
         {
          "favorite_count": 4414,
          "handle": "HillaryClinton",
          "retweet_count": 2618,
          "text": "9. Have you or your campaign discussed U.S.-Russian relations with the Russian billionaires with whom you've done business?",
          "time": "2016-09-14T16:42:51"
         },
         {
          "favorite_count": 26933,
          "handle": "realDonaldTrump",
          "retweet_count": 9458,
          "text": "Really bad shooting in Orlando. Police investigating possible terrorism. Many people dead and wounded.",
          "time": "2016-06-12T12:07:22"
         },
         {
          "favorite_count": 47377,
          "handle": "realDonaldTrump",
          "retweet_count": 17837,
          "text": "Why is it that the horrendous protesters, who scream, curse punch, shut down roads/doors during my RALLIES,  are never blamed by media? SAD!",
          "time": "2016-03-20T16:13:50"
         },
         {
          "favorite_count": 8046,
          "handle": "realDonaldTrump",
          "retweet_count": 1679,
          "text": "I will be interviewed on @meetthepress this morning. Enjoy!",
          "time": "2016-05-08T13:28:04"
         },
         {
          "favorite_count": 5148,
          "handle": "HillaryClinton",
          "retweet_count": 3141,
          "text": "The Enquirer editorial board is endorsing Hillary Clinton for president, breaking a nearly century-long tradition of endorsing Republicans.",
          "time": "2016-09-23T21:14:25"
         },
         {
          "favorite_count": 503,
          "handle": "HillaryClinton",
          "retweet_count": 264,
          "text": "\"SCOTUS debería aceptar la petición del DOJ para reconsiderar el caso EE.UU v Texas. Mantengamos las familias inmigrantes juntas\"- Hillary.",
          "time": "2016-07-18T23:26:29"
         },
         {
          "favorite_count": 2256,
          "handle": "HillaryClinton",
          "retweet_count": 1197,
          "text": "Este #HispanicHeritageMonth, honremos las tantas contribuciones que los hispanos y latinos han hecho a este país. https://t.co/3FMgxGxgte",
          "time": "2016-09-17T20:48:57"
         },
         {
          "favorite_count": 9257,
          "handle": "HillaryClinton",
          "retweet_count": 5541,
          "text": "Cheryl's husband died serving our country. \n\nTrump's company scammed her out of money she needed for her family. https://t.co/gfMeiJZ3DW",
          "time": "2016-08-01T21:27:53"
         },
         {
          "favorite_count": 12908,
          "handle": "realDonaldTrump",
          "retweet_count": 3772,
          "text": ".@HeyTammyBruce- Thank you for your nice words on Fox today. They never use my full statements on nuclear, which you would agree with!",
          "time": "2016-04-02T20:30:25"
         },
         {
          "favorite_count": 5433,
          "handle": "realDonaldTrump",
          "retweet_count": 2225,
          "text": "Thank you, New Hampshire! #FITN\n#Trump2016 #NHPolitics https://t.co/3FkMZpaEdR",
          "time": "2016-01-20T22:44:55"
         },
         {
          "favorite_count": 4757,
          "handle": "HillaryClinton",
          "retweet_count": 1851,
          "text": "Appalling behavior from Wells Fargo. This is exactly why we need a strong @CFPB—and can't let Trump dismantle it. https://t.co/tTA2jz7unf",
          "time": "2016-09-09T21:10:47"
         },
         {
          "favorite_count": 23594,
          "handle": "realDonaldTrump",
          "retweet_count": 7502,
          "text": "Will be in Phoenix, Arizona on Wednesday. Changing venue to much larger one. Demand is unreal. Polls looking great! #ImWithYou",
          "time": "2016-08-26T23:54:09"
         },
         {
          "favorite_count": 4404,
          "handle": "HillaryClinton",
          "retweet_count": 1555,
          "text": "\"@Wired sees only one person running for president who can do the job: Hillary Clinton.\" https://t.co/SQ7hsOaHyl",
          "time": "2016-08-18T17:57:03"
         },
         {
          "favorite_count": 8851,
          "handle": "HillaryClinton",
          "retweet_count": 3302,
          "text": "A night to remember.\nhttps://t.co/lJ2M2QtFJD",
          "time": "2016-07-31T01:26:46"
         },
         {
          "favorite_count": 12920,
          "handle": "realDonaldTrump",
          "retweet_count": 4059,
          "text": "While I am in OH &amp; PA - you can also join @Mike_Pence in Nevada on Mon!\n\nCarson City: https://t.co/28G3RVbFsn\n\nReno: https://t.co/4nLjRGyFYw",
          "time": "2016-07-30T14:19:56"
         },
         {
          "favorite_count": 4906,
          "handle": "realDonaldTrump",
          "retweet_count": 1024,
          "text": "\"@xGodfatherxzx: @realDonaldTrump amazing on Megan Kelly\" Thanks.",
          "time": "2016-05-18T00:14:51"
         },
         {
          "favorite_count": 5471,
          "handle": "HillaryClinton",
          "retweet_count": 3687,
          "text": "For anyone shocked by Trump saying depreciation of pound is good for business, this is a person who tried to profit off the housing crisis.",
          "time": "2016-06-24T14:25:56"
         },
         {
          "favorite_count": 4119,
          "handle": "HillaryClinton",
          "retweet_count": 2372,
          "text": "We can't accept this as \"normal.\" #StopGunViolence https://t.co/RGJE1BuGim",
          "time": "2016-05-21T22:07:39"
         },
         {
          "favorite_count": 1827,
          "handle": "HillaryClinton",
          "retweet_count": 948,
          "text": "We have two names to add to a long list of African Americans killed by police officers. It’s unbearable, and it needs to become intolerable.",
          "time": "2016-09-21T18:42:43"
         },
         {
          "favorite_count": 4885,
          "handle": "realDonaldTrump",
          "retweet_count": 1424,
          "text": "\"@rlbenney: @realDonaldTrump You did great and showed courage going to Burlington. No other GOP candidate would do what you did tonight!\"",
          "time": "2016-01-08T03:32:10"
         },
         {
          "favorite_count": 1468,
          "handle": "HillaryClinton",
          "retweet_count": 652,
          "text": "Just a few hours left to vote in the NY primary. Confirm your polling place, then head over: https://t.co/iwiO5B9eal https://t.co/RcH0H3ecRN",
          "time": "2016-04-19T23:10:12"
         },
         {
          "favorite_count": 3864,
          "handle": "HillaryClinton",
          "retweet_count": 1116,
          "text": "The story of Bill and Hillary, in photos: https://t.co/fDNQl66gNU https://t.co/206mlwXnml",
          "time": "2016-07-27T22:16:06"
         },
         {
          "favorite_count": 16619,
          "handle": "realDonaldTrump",
          "retweet_count": 5619,
          "text": "The Club For Growth,which asked me for $1,000,000 in an extortion attempt, just put up a Wisconsin ad with incorrect math.What a dumb group!",
          "time": "2016-04-01T04:23:25"
         },
         {
          "favorite_count": 10500,
          "handle": "realDonaldTrump",
          "retweet_count": 4074,
          "text": "MAKE AMERICA GREAT AGAIN!\nhttps://t.co/xhwhJuV3aa https://t.co/2XWN52IpH2",
          "time": "2016-04-26T12:47:24"
         },
         {
          "favorite_count": 20086,
          "handle": "HillaryClinton",
          "retweet_count": 3274,
          "text": "Incredibly proud of Hillary and so happy to join her and Tim on the trail this week. https://t.co/u8LYZnUejj",
          "time": "2016-07-30T19:21:41"
         },
         {
          "favorite_count": 6576,
          "handle": "realDonaldTrump",
          "retweet_count": 2605,
          "text": "New Fox News Poll\nThank you, Iowa! #Trump2016 \n#IACaucus https://t.co/aCj0Hq20hV",
          "time": "2016-01-24T15:51:44"
         },
         {
          "favorite_count": 14760,
          "handle": "HillaryClinton",
          "retweet_count": 6845,
          "text": "FACT: No major company has filed for Chapter 11 more often in the last 30 years than @realDonaldTrump's casinos. https://t.co/t4n55HQuII",
          "time": "2016-06-22T12:03:45"
         },
         {
          "favorite_count": 2976,
          "handle": "HillaryClinton",
          "retweet_count": 1245,
          "text": "For Donald Trump, it's not about what he can build —it's about how much he can take. https://t.co/WYJGCCVBzu",
          "time": "2016-07-11T00:34:39"
         },
         {
          "favorite_count": 16957,
          "handle": "realDonaldTrump",
          "retweet_count": 4983,
          "text": "If I only had 1 person running against me in the primaries like Hillary Clinton, I would have gotten 10 million more votes than she did!",
          "time": "2016-05-09T16:57:46"
         },
         {
          "favorite_count": 47315,
          "handle": "realDonaldTrump",
          "retweet_count": 15153,
          "text": "In light of the horrible attack in Nice, France, I have postponed tomorrow's news conference concerning my Vice Presidential announcement.",
          "time": "2016-07-14T23:09:57"
         },
         {
          "favorite_count": 1770,
          "handle": "HillaryClinton",
          "retweet_count": 969,
          "text": "The Trump Loophole would let millionaires cut their tax rates in half and do nothing for 99.8% of Americans. https://t.co/xmbflUy84w",
          "time": "2016-08-17T17:51:54"
         },
         {
          "favorite_count": 49182,
          "handle": "realDonaldTrump",
          "retweet_count": 16413,
          "text": "Great job once again by law enforcement! We are proud of them and should embrace them - without them, we don't have a country!",
          "time": "2016-09-19T16:32:32"
         },
         {
          "favorite_count": 5774,
          "handle": "realDonaldTrump",
          "retweet_count": 2175,
          "text": "Sadly, there is no way that Ted Cruz can continue running in the Republican Primary unless he can erase doubt on eligibility. Dems will sue!",
          "time": "2016-01-13T14:26:25"
         },
         {
          "favorite_count": 19401,
          "handle": "realDonaldTrump",
          "retweet_count": 5619,
          "text": "Thank you Anaheim, California!\n#Trump2016 https://t.co/AEShamhNVS",
          "time": "2016-05-25T23:18:54"
         },
         {
          "favorite_count": 10681,
          "handle": "realDonaldTrump",
          "retweet_count": 3729,
          "text": "Friends in #FL #OH #NC #IL &amp; #MO we would be honored to have your #VOTE! #SuperTuesday #LetsDoThis #MakeAmericaGreatAgain #TrumpTrain 🚂💨💨💨🇺🇸",
          "time": "2016-03-15T13:24:01"
         },
         {
          "favorite_count": 1898,
          "handle": "HillaryClinton",
          "retweet_count": 786,
          "text": "Not only is @realDonaldTrump wrong on birtherism, his words and policies are bad for Americans alive now and our children yet to be born.",
          "time": "2016-09-19T15:16:11"
         },
         {
          "favorite_count": 7302,
          "handle": "realDonaldTrump",
          "retweet_count": 2084,
          "text": "To the people of Kentucky, \nRand Paul didn't want you. Now he runs back due to his presidential failure. \n#VoteTrump #MakeAmericaGreatAgain",
          "time": "2016-03-05T16:12:43"
         },
         {
          "favorite_count": 2413,
          "handle": "HillaryClinton",
          "retweet_count": 1053,
          "text": "Once a Girl Scout, always a Girl Scout.\nhttps://t.co/dbNIwsV6Mq",
          "time": "2016-05-07T16:55:29"
         },
         {
          "favorite_count": 19440,
          "handle": "HillaryClinton",
          "retweet_count": 10591,
          "text": "Of COURSE @realDonaldTrump – a guy who calls women fat pigs &amp; bimbos – picked a VP who is famous for trying to control women’s bodies.",
          "time": "2016-07-16T15:30:21"
         },
         {
          "favorite_count": 3008,
          "handle": "realDonaldTrump",
          "retweet_count": 911,
          "text": "\"@realOllieTaylor:  Isn't it time we had a president? Let goofy Glen keep Canada Cruz who can't win. The American people have Trump!\"",
          "time": "2016-01-22T13:36:16"
         },
         {
          "favorite_count": 4973,
          "handle": "realDonaldTrump",
          "retweet_count": 1989,
          "text": "You can find your polling locations at: \nhttps://t.co/BmZyKQOZJJ #FITN #NHPrimary #VoteTrumpNH https://t.co/8lREIqhIuN",
          "time": "2016-02-09T15:20:59"
         },
         {
          "favorite_count": 3310,
          "handle": "HillaryClinton",
          "retweet_count": 1683,
          "text": "\"We're not going to be counted out anymore.\" —Hillary on @realDonaldTrump's disparaging comments toward women\nhttps://t.co/GTP7YmV9Tc",
          "time": "2016-05-03T21:46:39"
         },
         {
          "favorite_count": 3643,
          "handle": "HillaryClinton",
          "retweet_count": 1470,
          "text": "Donald Trump doesn't represent us.\nHis ideas don't represent us.\nAnd his values don't represent us.\nAdd your name: https://t.co/2Lc6JkOXmV",
          "time": "2016-07-22T14:23:08"
         },
         {
          "favorite_count": 23543,
          "handle": "realDonaldTrump",
          "retweet_count": 9687,
          "text": "Thank you America - great #CommanderInChiefForum polls! https://t.co/Rcu6KaRGCB",
          "time": "2016-09-08T09:59:36"
         },
         {
          "favorite_count": 4419,
          "handle": "HillaryClinton",
          "retweet_count": 1754,
          "text": "In times like these, we need a president who can help pull us\ntogether, not split us apart.\n\nAnd that's why Donald Trump is so dangerous.",
          "time": "2016-07-13T17:09:56"
         },
         {
          "favorite_count": 2743,
          "handle": "HillaryClinton",
          "retweet_count": 1184,
          "text": "Imagine if this was our president. https://t.co/DCZLKQAfqx",
          "time": "2016-06-19T20:20:27"
         },
         {
          "favorite_count": 10877,
          "handle": "realDonaldTrump",
          "retweet_count": 2326,
          "text": "COMING UP @GenFlynn @newtgingrich on @foxandfriends",
          "time": "2016-09-08T10:43:12"
         },
         {
          "favorite_count": 2559,
          "handle": "HillaryClinton",
          "retweet_count": 708,
          "text": "\"Americans [are] telling us about their struggles…they want to be given a chance, a fighting chance.\" —Hillary live from Chicago",
          "time": "2016-06-27T19:25:50"
         },
         {
          "favorite_count": 2281,
          "handle": "HillaryClinton",
          "retweet_count": 678,
          "text": "\"Home is where your character is stamped, where it’s stamped into your soul. Where your values are set.” —@JoeBiden",
          "time": "2016-08-15T17:36:04"
         },
         {
          "favorite_count": 18999,
          "handle": "realDonaldTrump",
          "retweet_count": 6380,
          "text": "I am returning to the Pensacola Bay Center in Florida- Friday, 9/9/16 at 7pm. Join me! https://t.co/L8Ui56dcrJ https://t.co/wAePlfS0JL",
          "time": "2016-09-03T20:15:15"
         },
         {
          "favorite_count": 11840,
          "handle": "realDonaldTrump",
          "retweet_count": 3513,
          "text": "\"@DonaldJTrumpJr: Honored to be in #Utah with retired General Robert C. Oaks. We are so thankful for his support and endorsement here in SLC",
          "time": "2016-03-19T12:15:16"
         },
         {
          "favorite_count": 24641,
          "handle": "realDonaldTrump",
          "retweet_count": 7611,
          "text": "I have millions more votes/hundreds more dels than Cruz or Kasich, and yet am not being treated properly by the Republican Party or the RNC.",
          "time": "2016-03-29T14:16:19"
         },
         {
          "favorite_count": 8505,
          "handle": "HillaryClinton",
          "retweet_count": 2572,
          "text": "Thank you, President Carter. https://t.co/zb94pXV95r",
          "time": "2016-07-26T23:59:29"
         },
         {
          "favorite_count": 9056,
          "handle": "HillaryClinton",
          "retweet_count": 3505,
          "text": "Folks, we've got to elect @HillaryClinton and take back the Senate. Let's roll up our sleeves and get to work. -Joe https://t.co/7MyhWs9sAc",
          "time": "2016-09-01T23:58:36"
         },
         {
          "favorite_count": 1461,
          "handle": "HillaryClinton",
          "retweet_count": 665,
          "text": "Para dejarle un mejor futuro a nuestros niños, tenemos que proteger el futuro de nuestro planeta. #DiaDeLaTierra https://t.co/BUdyIdA5lz",
          "time": "2016-04-22T22:01:23"
         },
         {
          "favorite_count": 785,
          "handle": "HillaryClinton",
          "retweet_count": 302,
          "text": "What's @HillaryClinton up to while New Yorkers vote? Check out @HFA's liveblog to find out. https://t.co/2I2PR1UY6x https://t.co/onbOd5rdNf",
          "time": "2016-04-20T00:45:30"
         },
         {
          "favorite_count": 6740,
          "handle": "realDonaldTrump",
          "retweet_count": 2809,
          "text": "Lightweight Senator Marco Rubio features Trump Univ. students in FL. attack ads- who submitted \"excellent\" reviews. https://t.co/JGTD590pKE",
          "time": "2016-03-07T22:34:53"
         },
         {
          "favorite_count": 4446,
          "handle": "HillaryClinton",
          "retweet_count": 1353,
          "text": "\"She is fit and she is ready to be the next Commander-in-Chief.” —@POTUS on Hillary",
          "time": "2016-07-28T03:16:38"
         },
         {
          "favorite_count": 13080,
          "handle": "realDonaldTrump",
          "retweet_count": 3694,
          "text": "Thank you for having me! I enjoyed the tour and spending time with everyone. See you soon. #MAGA https://t.co/eNtS7IBPDo",
          "time": "2016-09-15T14:34:13"
         },
         {
          "favorite_count": 637,
          "handle": "HillaryClinton",
          "retweet_count": 280,
          "text": "Hillary Clinton se ha comprometido a atender la situación del virus del Zika, especialmente en Puerto Rico.\nhttps://t.co/TyhSPcsrDd",
          "time": "2016-04-23T22:57:02"
         },
         {
          "favorite_count": 3004,
          "handle": "realDonaldTrump",
          "retweet_count": 1012,
          "text": "\"@Crusade4Honesty:  @BornToBeGOP @megynkelly  Megan can not contain her bias, it's in every show, Fox owners Saudi Prince agnstT\"",
          "time": "2016-01-26T04:56:32"
         },
         {
          "favorite_count": 13563,
          "handle": "HillaryClinton",
          "retweet_count": 5320,
          "text": "With just 83 days until Election Day, Trump hired one of the most extreme right-wing voices to run his campaign. https://t.co/geausYW6oD",
          "time": "2016-08-17T18:40:09"
         },
         {
          "favorite_count": 12183,
          "handle": "realDonaldTrump",
          "retweet_count": 3222,
          "text": "Crazy @megynkelly says I don't (won't) go on her show and she still gets good ratings. But almost all of her shows are negative hits on me!",
          "time": "2016-03-19T15:14:32"
         },
         {
          "favorite_count": 47723,
          "handle": "realDonaldTrump",
          "retweet_count": 28083,
          "text": "#CrookedHillary #ThrowbackThursday https://t.co/v8J0r64J7h",
          "time": "2016-08-18T20:55:33"
         },
         {
          "favorite_count": 2137,
          "handle": "HillaryClinton",
          "retweet_count": 574,
          "text": "Watch live as Hillary stops in St. Petersburg, Florida, for a campaign rally on the choice we face on the economy: https://t.co/09cW39nHXo",
          "time": "2016-08-08T19:35:33"
         },
         {
          "favorite_count": 9407,
          "handle": "realDonaldTrump",
          "retweet_count": 3203,
          "text": "Thank you West Chester, Pennsylvania!\n#PAPrimary #VoteTrump\nhttps://t.co/Qva1QtmhpS https://t.co/CF9SYBqka7",
          "time": "2016-04-25T22:06:26"
         },
         {
          "favorite_count": 1449,
          "handle": "HillaryClinton",
          "retweet_count": 1264,
          "text": "Donald Trump is going to try to take Mitt Romney's \"etch-a-sketch\" approach to the general election. Don't let him.\nhttps://t.co/Az2A0UQqeq",
          "time": "2016-04-23T18:20:17"
         },
         {
          "favorite_count": 5732,
          "handle": "HillaryClinton",
          "retweet_count": 2279,
          "text": "Discrimination against LGBT people is all too common—and goes against everything we stand for as a country. https://t.co/CnOZdKXG0q",
          "time": "2016-06-26T23:06:00"
         },
         {
          "favorite_count": 7482,
          "handle": "realDonaldTrump",
          "retweet_count": 3133,
          "text": "#NEPrimary #VoteTrump #Trump2016\nhttps://t.co/ygD2z6EnhY\nhttps://t.co/Z2yVlmHl8o",
          "time": "2016-05-09T15:15:28"
         },
         {
          "favorite_count": 8453,
          "handle": "realDonaldTrump",
          "retweet_count": 2805,
          "text": "I want to thank evangelical Christians for the warm embrace I've received on the campaign trail. Video: https://t.co/u6oOcWGePe",
          "time": "2016-01-30T14:05:31"
         },
         {
          "favorite_count": 13118,
          "handle": "HillaryClinton",
          "retweet_count": 5091,
          "text": "Presidential. https://t.co/tlfpcbVqkT",
          "time": "2016-09-18T00:22:15"
         },
         {
          "favorite_count": 6347,
          "handle": "HillaryClinton",
          "retweet_count": 3994,
          "text": "Republicans agree: Donald Trump is reckless, dangerous, and divisive. https://t.co/fUkISvxMmc",
          "time": "2016-05-05T13:03:06"
         },
         {
          "favorite_count": 2030,
          "handle": "HillaryClinton",
          "retweet_count": 736,
          "text": "We need to make college debt-free. You shouldn't have to take out loans (or more drastic measures) to attend college https://t.co/Z1k6gqfg53",
          "time": "2016-09-13T01:05:17"
         },
         {
          "favorite_count": 30782,
          "handle": "realDonaldTrump",
          "retweet_count": 9431,
          "text": "Thank you Michigan. This is a MOVEMENT. We are going to MAKE AMERICA SAFE AND GREAT AGAIN! #TrumpPence16 https://t.co/vP3eqF3Zbb",
          "time": "2016-08-19T22:16:16"
         },
         {
          "favorite_count": 1630,
          "handle": "HillaryClinton",
          "retweet_count": 1044,
          "text": "They say your friends reflect who you really are... https://t.co/aubM6KS0BG",
          "time": "2016-05-05T15:57:53"
         },
         {
          "favorite_count": 4699,
          "handle": "realDonaldTrump",
          "retweet_count": 1932,
          "text": "\"@sprivitor @realDonaldTrump Marco 'Amnesty' Rubio is the front man of Amnesty. https://t.co/D4zXazzbq8 #AlwaysTrump #Trump2016 #TrumpTrain",
          "time": "2016-02-28T10:54:11"
         },
         {
          "favorite_count": 9034,
          "handle": "HillaryClinton",
          "retweet_count": 2713,
          "text": "Every generation of Americans has come together to make our country freer, fairer, and stronger. None of us…can do it alone.” —Hillary",
          "time": "2016-07-29T03:24:59"
         },
         {
          "favorite_count": 10107,
          "handle": "realDonaldTrump",
          "retweet_count": 3818,
          "text": "Remember that Marco Rubio is very weak on illegal immigration. South Carolina needs strength as illegals and Syrians pour in. Don't allow it",
          "time": "2016-02-20T17:02:44"
         },
         {
          "favorite_count": 9143,
          "handle": "HillaryClinton",
          "retweet_count": 5447,
          "text": "Donald Trump's foundation allegedly paid off Florida's attorney general to prevent an investigation into his fraud. https://t.co/tCrtd6ab5h",
          "time": "2016-09-14T11:46:23"
         },
         {
          "favorite_count": 7835,
          "handle": "realDonaldTrump",
          "retweet_count": 4371,
          "text": "Just back from a dinner in West Hollywood: shocked the majority of the table was voting for Trump but they would never admit it publicly.",
          "time": "2016-02-21T18:55:03"
         },
         {
          "favorite_count": 3325,
          "handle": "HillaryClinton",
          "retweet_count": 1326,
          "text": "We can only confront a challenge like Zika when we come together. It's time for Republicans to fund this fight: https://t.co/9jNGrpj5Nt -H",
          "time": "2016-09-09T15:42:30"
         },
         {
          "favorite_count": 6112,
          "handle": "HillaryClinton",
          "retweet_count": 1901,
          "text": "Every child should be able to live up to their God-given potential, no matter where they come from, what they look like, or who they love.",
          "time": "2016-09-08T23:12:48"
         },
         {
          "favorite_count": 27281,
          "handle": "realDonaldTrump",
          "retweet_count": 10105,
          "text": "Tim Kaine is, and always has been, owned by the banks. Bernie supporters are outraged, was their last choice. Bernie fought for nothing!",
          "time": "2016-07-23T10:35:37"
         },
         {
          "favorite_count": 2854,
          "handle": "realDonaldTrump",
          "retweet_count": 757,
          "text": "\"@red77angelluis: @realDonaldTrump @NeilTurner_ @YouTube LET'S GET TRUMP!! GO TRUMP!! USA!USA!\"",
          "time": "2016-01-25T04:07:08"
         },
         {
          "favorite_count": 9631,
          "handle": "realDonaldTrump",
          "retweet_count": 3584,
          "text": "I use both iPhone &amp; Samsung. If Apple doesn't give info to authorities on the terrorists I'll only be using Samsung until they give info.",
          "time": "2016-02-19T21:32:43"
         },
         {
          "favorite_count": 16110,
          "handle": "realDonaldTrump",
          "retweet_count": 5390,
          "text": "Crooked Hillary Clinton said she is used to \"dealing with men who get off the reservation.\" Actually, she has done poorly with such men!",
          "time": "2016-05-02T11:12:40"
         },
         {
          "favorite_count": 1368,
          "handle": "HillaryClinton",
          "retweet_count": 636,
          "text": "Building an inclusive economy is another reason we’ve got to break down systemic racism, including under-investment in communities of color.",
          "time": "2016-09-21T18:50:07"
         },
         {
          "favorite_count": 5531,
          "handle": "HillaryClinton",
          "retweet_count": 2386,
          "text": "Don’t let anyone tell you that America isn’t great. Donald Trump’s got America all wrong.",
          "time": "2016-06-02T19:37:50"
         },
         {
          "favorite_count": 11579,
          "handle": "realDonaldTrump",
          "retweet_count": 2893,
          "text": "Thank you Clive, Iowa!\nhttps://t.co/tuZ35BkD9J",
          "time": "2016-09-13T19:40:53"
         },
         {
          "favorite_count": 21909,
          "handle": "realDonaldTrump",
          "retweet_count": 7099,
          "text": "Thank you, Arizona! #Trump2016\n#WesternTuesday #TrumpTrain https://t.co/VMCzxrryG8",
          "time": "2016-03-23T03:30:10"
         },
         {
          "favorite_count": 5572,
          "handle": "HillaryClinton",
          "retweet_count": 2112,
          "text": "In America, we don’t begrudge people being successful – but we know they shouldn’t do it by destroying other people. https://t.co/lQ1IzXFZrV",
          "time": "2016-06-21T16:55:50"
         },
         {
          "favorite_count": 17722,
          "handle": "realDonaldTrump",
          "retweet_count": 3565,
          "text": "I only wish my wonderful daughter Tiffany could have been with us at \nMar-a-Lago for our great election victory. She is a winner!",
          "time": "2016-03-16T02:33:54"
         },
         {
          "favorite_count": 8292,
          "handle": "HillaryClinton",
          "retweet_count": 5904,
          "text": "Donald Trump may live in his own reality—but we've got his own words right here. Check them out: https://t.co/NLPH8sbAGn #debatenight",
          "time": "2016-09-27T01:27:13"
         },
         {
          "favorite_count": 2446,
          "handle": "HillaryClinton",
          "retweet_count": 1098,
          "text": "The choice is clear: Hillary Clinton is the only candidate who consistently stands with gun safety. #ImWithHer https://t.co/tRcGX529cu",
          "time": "2016-06-03T17:12:34"
         },
         {
          "favorite_count": 30867,
          "handle": "realDonaldTrump",
          "retweet_count": 13048,
          "text": "Is it the same Kaine that took hundreds of thousands of dollars in gifts while Governor of Virginia and didn't get indicted while Bob M did?",
          "time": "2016-07-23T03:23:15"
         },
         {
          "favorite_count": 16055,
          "handle": "HillaryClinton",
          "retweet_count": 12744,
          "text": "Trump hired the head of Breitbart \"News\" to be CEO of his campaign. Here's a sample of their work: https://t.co/y8loOnkbNu",
          "time": "2016-08-25T19:32:25"
         },
         {
          "favorite_count": 8273,
          "handle": "HillaryClinton",
          "retweet_count": 4461,
          "text": "A man you can bait with a tweet is not a man we can trust with nuclear weapons. https://t.co/qZ3Z10cqKN",
          "time": "2016-09-07T22:24:21"
         },
         {
          "favorite_count": 10957,
          "handle": "HillaryClinton",
          "retweet_count": 7764,
          "text": "The man who could be your next president may be deeply indebted to another country. Do you trust him to run ours? https://t.co/5TU9olTqd5",
          "time": "2016-09-22T20:30:07"
         },
         {
          "favorite_count": 26126,
          "handle": "realDonaldTrump",
          "retweet_count": 5793,
          "text": "Being in Detroit today was wonderful. Quick stop in Ohio to meet with some of our great supporters. Just got back home!",
          "time": "2016-08-09T02:45:10"
         },
         {
          "favorite_count": 1561,
          "handle": "HillaryClinton",
          "retweet_count": 528,
          "text": "Hold on to your hats. The #DemConvention is just getting started: https://t.co/5HNjA2kjNP https://t.co/xSDVRj4Q4T",
          "time": "2016-07-25T20:31:30"
         },
         {
          "favorite_count": 25785,
          "handle": "realDonaldTrump",
          "retweet_count": 5681,
          "text": "One of the best produced, including the incredible stage &amp; set, in the history of conventions. Great unity! Big T.V. ratings! @KarlRove",
          "time": "2016-07-22T14:06:01"
         },
         {
          "favorite_count": 14662,
          "handle": "realDonaldTrump",
          "retweet_count": 4922,
          "text": "We will immediately repeal and replace ObamaCare - and nobody can do that like me. We will save $'s and have much better healthcare!",
          "time": "2016-02-09T22:15:34"
         },
         {
          "favorite_count": 18037,
          "handle": "realDonaldTrump",
          "retweet_count": 4805,
          "text": "Heading to D.C. to see and hear ROLLING THUNDER. Amazing people that LOVE OUR COUNTRY. Great spirit!",
          "time": "2016-05-29T16:45:44"
         },
         {
          "favorite_count": 5094,
          "handle": "HillaryClinton",
          "retweet_count": 1692,
          "text": "\"When we are indivisible, we are invincible.\" —@CoryBooker at the @DemConvention last night #DemsInPHL https://t.co/L145Ovu1uZ",
          "time": "2016-07-26T16:18:14"
         },
         {
          "favorite_count": 4793,
          "handle": "realDonaldTrump",
          "retweet_count": 1536,
          "text": "\"@MaryAnn1942: @realDonaldTrump why vote for Trump? Unlike politicians all talk, Trump’s talk materializes! He will make America great again",
          "time": "2016-02-05T23:13:07"
         },
         {
          "favorite_count": 18804,
          "handle": "realDonaldTrump",
          "retweet_count": 7273,
          "text": "THANK YOU California, Maryland, New York, and Pennsylvania! See you soon!\n#MakeAmericaGreatAgain #Trump2016 https://t.co/2lyqnMRIGq",
          "time": "2016-04-12T16:10:23"
         },
         {
          "favorite_count": 13273,
          "handle": "realDonaldTrump",
          "retweet_count": 4466,
          "text": "Join me in Charleston, WV - tomorrow! https://t.co/kv624y9UOm",
          "time": "2016-05-04T16:31:05"
         },
         {
          "favorite_count": 2425,
          "handle": "HillaryClinton",
          "retweet_count": 1080,
          "text": "\"There is no doubt in my mind that...Hillary Clinton is far and away the best candidate to do that.\" —@BernieSanders https://t.co/IvDtsunuWx",
          "time": "2016-07-12T15:32:35"
         },
         {
          "favorite_count": 7096,
          "handle": "realDonaldTrump",
          "retweet_count": 1543,
          "text": "\"@manakoa:DonaldTrump, you are fearless! This interview shows you are the Leader we need. @megynkelly is a tough interview! Respect to both\"",
          "time": "2016-05-18T00:26:43"
         },
         {
          "favorite_count": 5470,
          "handle": "realDonaldTrump",
          "retweet_count": 2551,
          "text": "It never ends!  https://t.co/vdErsfh5H6",
          "time": "2016-02-06T02:51:26"
         },
         {
          "favorite_count": 18998,
          "handle": "realDonaldTrump",
          "retweet_count": 4901,
          "text": "I am making a big speech the night of the @FoxNews debate, but I wish everyone well. Yesterday was a big day for me with 5 wins!",
          "time": "2016-03-16T17:47:07"
         },
         {
          "favorite_count": 7806,
          "handle": "HillaryClinton",
          "retweet_count": 2199,
          "text": "We need a president who understands that none of us has all the answers and no one person can fix our problems alone.",
          "time": "2016-09-08T23:27:18"
         },
         {
          "favorite_count": 13038,
          "handle": "realDonaldTrump",
          "retweet_count": 4726,
          "text": "Get out and vote West Virginia, we will MAKE AMERICA GREAT AGAIN!",
          "time": "2016-05-10T10:20:40"
         },
         {
          "favorite_count": 8291,
          "handle": "HillaryClinton",
          "retweet_count": 4394,
          "text": "CA, MT, NJ, NM, ND, and SD, it's your day to head to the polls. RT this if you’re voting for Hillary. https://t.co/nu3VCKSuBz",
          "time": "2016-06-07T14:00:13"
         },
         {
          "favorite_count": 20607,
          "handle": "realDonaldTrump",
          "retweet_count": 7637,
          "text": "Thank you America! #Trump2016 https://t.co/KL7VZbM1jP",
          "time": "2016-04-26T19:55:15"
         },
         {
          "favorite_count": 633,
          "handle": "HillaryClinton",
          "retweet_count": 387,
          "text": "¡Alza tu voz! Encuentre dónde votar en Nueva York aquí → https://t.co/XFC2bmOTde #EstoyConElla https://t.co/BWBoK3Ex6S",
          "time": "2016-04-19T11:58:33"
         },
         {
          "favorite_count": 19964,
          "handle": "realDonaldTrump",
          "retweet_count": 8836,
          "text": "#CrookedHillary \nhttps://t.co/oHI6xrDJU0",
          "time": "2016-08-01T14:48:22"
         },
         {
          "favorite_count": 21803,
          "handle": "realDonaldTrump",
          "retweet_count": 7146,
          "text": "I am getting great credit for my press conference today. Crooked Hillary should be admonished for not having a press conference in 179 days.",
          "time": "2016-05-31T23:17:33"
         },
         {
          "favorite_count": 1688,
          "handle": "HillaryClinton",
          "retweet_count": 858,
          "text": "Hartford Courant endorses Hillary Clinton in Connecticut Democratic presidential primary. https://t.co/aworWEdNhR https://t.co/BjOwWbwm9H",
          "time": "2016-04-17T22:02:09"
         },
         {
          "favorite_count": 20984,
          "handle": "realDonaldTrump",
          "retweet_count": 7057,
          "text": "I highly recommend the just out book - THE FIELD OF FIGHT - by General Michael Flynn. How to defeat radical Islam.",
          "time": "2016-07-23T03:49:04"
         },
         {
          "favorite_count": 2586,
          "handle": "HillaryClinton",
          "retweet_count": 1229,
          "text": "Donald Trump's plan: a multi-billion dollar tax cut for himself and the wealthiest Americans https://t.co/he2KkNcaMm",
          "time": "2016-08-18T15:56:05"
         },
         {
          "favorite_count": 4382,
          "handle": "HillaryClinton",
          "retweet_count": 1508,
          "text": "Closely monitoring the flooding in Louisiana &amp; Mississippi. The @RedCross is helping displaced families in need: https://t.co/sSYTbQMndP -H",
          "time": "2016-08-16T22:24:26"
         },
         {
          "favorite_count": 3311,
          "handle": "realDonaldTrump",
          "retweet_count": 1041,
          "text": "The failing @UnionLeader newspaper in N.H. just sent The Trump Organization a letter asking that we take ads. How stupid, how desperate!",
          "time": "2016-01-07T11:06:43"
         },
         {
          "favorite_count": 2180,
          "handle": "HillaryClinton",
          "retweet_count": 966,
          "text": "Trump says he “knows more about ISIS than the generals do.”\n\nNot only is that wrong, it's disrespectful to our men and women in uniform.",
          "time": "2016-09-06T18:58:45"
         },
         {
          "favorite_count": 8870,
          "handle": "realDonaldTrump",
          "retweet_count": 2226,
          "text": "On June 22- I will be going to Scotland to celebrate the opening of the newly renovated @TrumpTurnberry Resort, the worlds best.",
          "time": "2016-06-03T03:39:40"
         },
         {
          "favorite_count": 30550,
          "handle": "realDonaldTrump",
          "retweet_count": 9554,
          "text": "Here we go again with another Clinton scandal, and e-mails yet (can you believe). Crooked Hillary knew the fix was in, B never had a chance!",
          "time": "2016-07-25T13:42:55"
         },
         {
          "favorite_count": 17139,
          "handle": "realDonaldTrump",
          "retweet_count": 7677,
          "text": "STATEMENT IN RESPONSE TO PRESIDENT OBAMA'S FAILED LEADERSHIP: https://t.co/SPgFIFuSO7",
          "time": "2016-08-02T17:47:19"
         },
         {
          "favorite_count": 10307,
          "handle": "realDonaldTrump",
          "retweet_count": 3658,
          "text": "\"@LouDobbs: Hillary Just Handed @realDonaldTrump a Huge Gift: Promising to Put Bubba in Charge of the Economy! #MakeAmericaGreatAgain!",
          "time": "2016-05-18T02:41:22"
         },
         {
          "favorite_count": 1710,
          "handle": "HillaryClinton",
          "retweet_count": 833,
          "text": "This fall, USPS will honor joyous Hindu Festival of #Diwali with a Forever® stamp! https://t.co/ahplXrlp5s https://t.co/XadduwKYok",
          "time": "2016-08-23T21:39:54"
         },
         {
          "favorite_count": 20672,
          "handle": "realDonaldTrump",
          "retweet_count": 7818,
          "text": "Happy 4th of July! #Trump2016 #AmericaFirst https://t.co/Ndb3AQrLtY https://t.co/YhHyQjwJW6",
          "time": "2016-07-04T13:32:35"
         },
         {
          "favorite_count": 3910,
          "handle": "HillaryClinton",
          "retweet_count": 2325,
          "text": "Tenemos que unirnos, sentir orgullo juntos. No hay mejor respuesta para los terroristas y a todos aquellos que odian https://t.co/wQVmDQ321o",
          "time": "2016-06-13T21:35:56"
         },
         {
          "favorite_count": 11823,
          "handle": "HillaryClinton",
          "retweet_count": 3561,
          "text": "\"When we come together...we won’t just win in November—we’ll build on the progress we’ve made.\" —@POTUS https://t.co/WJ8rdqShqx",
          "time": "2016-06-10T00:43:07"
         },
         {
          "favorite_count": 8447,
          "handle": "realDonaldTrump",
          "retweet_count": 3987,
          "text": "Ted Cruz was born in Canada and was a Canadian citizen until 15 months ago. Lawsuits have just been filed with more to follow. I told you so",
          "time": "2016-01-16T11:40:13"
         },
         {
          "favorite_count": 6037,
          "handle": "realDonaldTrump",
          "retweet_count": 1815,
          "text": "\"@fivestarr6028: Yes! Hubby and I voted 4 @realDonaldTrump already! https://t.co/h1iHiJNUjm\" Thank you.",
          "time": "2016-06-03T05:24:28"
         },
         {
          "favorite_count": 4146,
          "handle": "HillaryClinton",
          "retweet_count": 1123,
          "text": "\"She launched a team to fight back against terrorists online and built a new global counter-terrorism effort.” —@BillClinton",
          "time": "2016-07-27T02:46:34"
         },
         {
          "favorite_count": 7355,
          "handle": "HillaryClinton",
          "retweet_count": 2809,
          "text": "\"What kind of a man cheats students, cheats investors, cheats workers? ... A man who must never be president\" —Warren on Trump #DemsInPhilly",
          "time": "2016-07-26T02:36:29"
         },
         {
          "favorite_count": 2794,
          "handle": "HillaryClinton",
          "retweet_count": 1374,
          "text": "The Trump Atlantic City business method: Drive a business into the ground, stiff workers, and take home millions. https://t.co/VveL3MKwjU",
          "time": "2016-07-06T22:59:45"
         },
         {
          "favorite_count": 10138,
          "handle": "HillaryClinton",
          "retweet_count": 4297,
          "text": "The most important quality in a president and Commander-in-Chief is steadiness—an absolute, rock solid steadiness. https://t.co/QwQBzZc0xb",
          "time": "2016-09-09T01:49:45"
         },
         {
          "favorite_count": 4165,
          "handle": "realDonaldTrump",
          "retweet_count": 1366,
          "text": ".@bobvanderplaats is a total phony and dishonest guy. Asked me for expensive hotel rooms, free (and more). I said pay and he endorsed Cruz!",
          "time": "2016-01-31T12:31:03"
         },
         {
          "favorite_count": 27640,
          "handle": "realDonaldTrump",
          "retweet_count": 10998,
          "text": "Does President Obama ever discuss the sneak attack on Pearl Harbor while he's in Japan? Thousands of American lives lost. #MDW",
          "time": "2016-05-28T21:34:55"
         },
         {
          "favorite_count": 9837,
          "handle": "realDonaldTrump",
          "retweet_count": 4081,
          "text": "New Government data by the Center for Immigration Studies shows more than 3M new legal &amp; illegal immigrants settled..https://t.co/hMFyZc1kAM",
          "time": "2016-06-24T18:48:50"
         },
         {
          "favorite_count": 2658,
          "handle": "realDonaldTrump",
          "retweet_count": 748,
          "text": "\"@SalRiccobono: @realDonaldTrump @troyconway Donald get big business back and# MAKE AMERICA GREAT AGAIN FOR 2016\"",
          "time": "2016-01-05T03:36:53"
         },
         {
          "favorite_count": 3867,
          "handle": "HillaryClinton",
          "retweet_count": 3758,
          "text": "El plan de Trump sobre inmigración ha sido claro: demonizar inmigrantes, \"construir la muralla\", deportar millones. https://t.co/90NGNvX5RF",
          "time": "2016-08-31T20:56:19"
         },
         {
          "favorite_count": 16777,
          "handle": "realDonaldTrump",
          "retweet_count": 9216,
          "text": "\"@DonaldJTrumpJr: Company Gouging Price Of EpiPens Is A Clinton Foundation Donor And Partner https://t.co/HHlNGnlGMN via dailycaller\"",
          "time": "2016-08-26T02:47:34"
         },
         {
          "favorite_count": 4285,
          "handle": "HillaryClinton",
          "retweet_count": 2616,
          "text": "13. How can we know you won't (again) impulsively damage relationships with crucial allies to preserve your own ego? https://t.co/j1VtaFhA6C",
          "time": "2016-09-14T16:48:08"
         },
         {
          "favorite_count": 5046,
          "handle": "realDonaldTrump",
          "retweet_count": 2203,
          "text": "#ICYMI: @KarlRove &amp; @oreillyfactor discuss what Ted Cruz did to the great people of Iowa- as they went to vote. https://t.co/Tv0FNezxse",
          "time": "2016-02-04T06:35:50"
         },
         {
          "favorite_count": 1185,
          "handle": "HillaryClinton",
          "retweet_count": 594,
          "text": "We're looking for fall interns to join us at our Brooklyn HQ for the final stretch of the campaign. Apply today: https://t.co/I6JzVO4adu",
          "time": "2016-06-23T01:31:01"
         },
         {
          "favorite_count": 2799,
          "handle": "realDonaldTrump",
          "retweet_count": 695,
          "text": "Jusr watched  #HarveyPitt on @TeamCavuto - he was great!",
          "time": "2016-01-15T21:06:40"
         },
         {
          "favorite_count": 16527,
          "handle": "realDonaldTrump",
          "retweet_count": 5638,
          "text": "Thank you Iowa- see you soon!\n#Trump2016 #ImWithYou \nhttps://t.co/gva0MbgnuO https://t.co/PE1jdqZysc",
          "time": "2016-07-12T22:19:52"
         },
         {
          "favorite_count": 13284,
          "handle": "realDonaldTrump",
          "retweet_count": 6301,
          "text": "MY POSITION ON VISAS\n#MakeAmericaGreatAgain #Trump2016\nhttps://t.co/JGmOd5gr5z https://t.co/OLg6N3Ug9U",
          "time": "2016-03-04T05:24:18"
         },
         {
          "favorite_count": 4285,
          "handle": "realDonaldTrump",
          "retweet_count": 1353,
          "text": "Join us in Sparks, Nevada today! \n#NevadaCaucus #VoteTrumpNV \nhttps://t.co/5DyhPftng9",
          "time": "2016-02-23T16:46:06"
         },
         {
          "favorite_count": 20188,
          "handle": "HillaryClinton",
          "retweet_count": 8550,
          "text": "The presidency isn't a reality show—it's as real as it gets. Make sure you're registered to vote:… https://t.co/gBZ42fzFnF",
          "time": "2016-09-27T02:57:56"
         },
         {
          "favorite_count": 30622,
          "handle": "realDonaldTrump",
          "retweet_count": 10420,
          "text": "Crooked's stop in Johnstown, Pennsylvania, where jobs have been absolutely decimated by dumb politicians, drew less than 200 - with Bill, VP",
          "time": "2016-07-30T22:04:14"
         },
         {
          "favorite_count": 5021,
          "handle": "realDonaldTrump",
          "retweet_count": 1811,
          "text": "Cruz lies are almost as bad as Jeb's. These politicians will do anything to stay at the trough!",
          "time": "2016-01-25T22:04:40"
         },
         {
          "favorite_count": 8243,
          "handle": "realDonaldTrump",
          "retweet_count": 2582,
          "text": "Join me on Tuesday- in Greensboro, North Carolina! #Trump2016 #AmericaFirst https://t.co/iaL5IGTfV3",
          "time": "2016-06-11T22:35:53"
         },
         {
          "favorite_count": 1263,
          "handle": "HillaryClinton",
          "retweet_count": 631,
          "text": "Touching @nytimes article on Muslim HS student winning prom queen after friends campaigned for her #LoveTrumpsHate https://t.co/PisacgcVJ3",
          "time": "2016-04-30T17:45:43"
         },
         {
          "favorite_count": 8277,
          "handle": "HillaryClinton",
          "retweet_count": 2604,
          "text": "\"A president should respect the men and women who risk their lives to serve our country.\" —Hillary",
          "time": "2016-07-29T03:17:28"
         },
         {
          "favorite_count": 5247,
          "handle": "realDonaldTrump",
          "retweet_count": 1890,
          "text": "Looking forward to a great weekend in Iowa! #IACaucus #CaucusForTrump \nTickets: https://t.co/nU39QHzxxX https://t.co/xZlwspf6xe",
          "time": "2016-01-30T01:54:16"
         },
         {
          "favorite_count": 3410,
          "handle": "HillaryClinton",
          "retweet_count": 1412,
          "text": "When Donald Trump was asked about anti-Semitic slurs and death threats coming from his supporters, he refused to condemn them.",
          "time": "2016-08-25T19:25:58"
         },
         {
          "favorite_count": 11263,
          "handle": "HillaryClinton",
          "retweet_count": 5550,
          "text": "You're wrong, @realDonaldTrump. We can uphold Second Amendment rights while preventing senseless gun violence. https://t.co/G7g1AdZWCA",
          "time": "2016-05-20T20:31:26"
         },
         {
          "favorite_count": 1287,
          "handle": "HillaryClinton",
          "retweet_count": 816,
          "text": "Millions of families—disproportionately black and Latino families—lost homes, jobs, and savings.\n\nTrump tried to profit at their expense.",
          "time": "2016-05-24T18:41:49"
         },
         {
          "favorite_count": 4632,
          "handle": "HillaryClinton",
          "retweet_count": 2477,
          "text": "If you cite supporting torture and hosting pageants as foreign policy \"qualifications,\" your definition needs work. https://t.co/3JbmzuxEK5",
          "time": "2016-05-20T00:04:29"
         },
         {
          "favorite_count": 1864,
          "handle": "HillaryClinton",
          "retweet_count": 936,
          "text": "Trump or Pence: Who said it worse? It's a close call. https://t.co/1SgYUICguz",
          "time": "2016-07-20T22:17:04"
         },
         {
          "favorite_count": 1383,
          "handle": "HillaryClinton",
          "retweet_count": 472,
          "text": "Live now from North Carolina: Hillary’s plan to make the economy work for everyone. Watch here. https://t.co/byKmrx9XZy",
          "time": "2016-06-22T18:27:33"
         },
         {
          "favorite_count": 10977,
          "handle": "realDonaldTrump",
          "retweet_count": 3107,
          "text": "It is amazing how @LindseyGrahamSC gets on so many T.V. shows talking negatively about me when I beat him so badly (ZERO) in his pres run!",
          "time": "2016-03-24T14:02:27"
         },
         {
          "favorite_count": 25361,
          "handle": "realDonaldTrump",
          "retweet_count": 8455,
          "text": "#CrookedHillary is not fit to be our next president! #TrumpPence16 \nhttps://t.co/I0zJO2sZKk",
          "time": "2016-08-06T20:04:08"
         },
         {
          "favorite_count": 14449,
          "handle": "HillaryClinton",
          "retweet_count": 5206,
          "text": "\"While...Trump is busy insulting one group after another, Hillary...understands that our diversity is one of our greatest strengths\" —Bernie",
          "time": "2016-07-26T03:18:21"
         },
         {
          "favorite_count": 9440,
          "handle": "realDonaldTrump",
          "retweet_count": 3458,
          "text": "Polls close in 3 hours! Everyone get out and VOTE!\n#Trump2016 #MakeAmericaGreatAgain\nhttps://t.co/EuFxefFu0D",
          "time": "2016-04-19T22:00:15"
         },
         {
          "favorite_count": 2439,
          "handle": "HillaryClinton",
          "retweet_count": 1042,
          "text": "\"We cannot take this election for granted. We’ve got to fight for this thing.” —@POTUS: https://t.co/tTgeqxNqYm",
          "time": "2016-09-13T18:14:28"
         },
         {
          "favorite_count": 84385,
          "handle": "realDonaldTrump",
          "retweet_count": 28531,
          "text": "Prayers and condolences to all of the families who are so thoroughly devastated by the horrors we are all watching take place in our country",
          "time": "2016-07-08T11:02:41"
         },
         {
          "favorite_count": 29425,
          "handle": "realDonaldTrump",
          "retweet_count": 10415,
          "text": "Crooked Hillary has ZERO leadership ability. As Bernie Sanders says, she has bad judgement. Constantly playing the women's card - it is sad!",
          "time": "2016-05-06T12:38:38"
         },
         {
          "favorite_count": 31681,
          "handle": "realDonaldTrump",
          "retweet_count": 11104,
          "text": "China wouldn't provide a red carpet stairway from Air Force One and then Philippines President calls Obama \"the son of a whore.\" Terrible!",
          "time": "2016-09-06T11:12:11"
         },
         {
          "favorite_count": 8247,
          "handle": "HillaryClinton",
          "retweet_count": 2825,
          "text": "Thank you to the Orlando Health and Florida Hospital for showing empathy and kindness in the face of hate. -H https://t.co/2RODu7Y5bn",
          "time": "2016-08-25T15:19:57"
         },
         {
          "favorite_count": 2017,
          "handle": "HillaryClinton",
          "retweet_count": 564,
          "text": "All smiles as we count down until @HillaryClinton and Elizabeth Warren take the stage in Cincy! #OHHillYes https://t.co/F02ycgB9N3",
          "time": "2016-06-27T14:32:11"
         },
         {
          "favorite_count": 1153,
          "handle": "HillaryClinton",
          "retweet_count": 479,
          "text": "Estoy indignado por la falta de acción para parar la violencia causada por armas de fuego. Es momento de actuar #HoldTheFloor #NoBillNoBreak",
          "time": "2016-06-23T04:14:55"
         },
         {
          "favorite_count": 10110,
          "handle": "realDonaldTrump",
          "retweet_count": 3114,
          "text": "Michael Barbaro, the author of the now discredited @nytimes hit piece on me with women, has in past tweeted badly about me. He should resign",
          "time": "2016-05-18T02:38:07"
         },
         {
          "favorite_count": 26571,
          "handle": "realDonaldTrump",
          "retweet_count": 9263,
          "text": "Thank you Oklahoma &amp; Virginia! \n#MakeAmericaGreatAgain #ImWithYou https://t.co/WUdY7feRvV",
          "time": "2016-08-01T20:40:27"
         },
         {
          "favorite_count": 7299,
          "handle": "realDonaldTrump",
          "retweet_count": 2066,
          "text": "\"@COWBOYSFORTRUMP: @ChristiChat @Rockprincess818 @realDonaldTrump That man is a pillar of strength and will be perfect as our next president",
          "time": "2016-05-18T01:37:33"
         },
         {
          "favorite_count": 13976,
          "handle": "HillaryClinton",
          "retweet_count": 6195,
          "text": "\"The voice of your vote is the greatest voice we have.\" —@NyleDiMarco\n\nhttps://t.co/tTgeqxNqYm https://t.co/X3oqEoOYsU",
          "time": "2016-09-20T14:03:20"
         },
         {
          "favorite_count": 2911,
          "handle": "HillaryClinton",
          "retweet_count": 1168,
          "text": "\"Hillary Clinton, with her long experience ... will be prepared to lead our country on day one.\" —@JerryBrownGov: https://t.co/NDAUs6a8bp",
          "time": "2016-06-01T02:06:39"
         },
         {
          "favorite_count": 10761,
          "handle": "HillaryClinton",
          "retweet_count": 3839,
          "text": "We just won Kentucky! Thanks to everyone who turned out. We’re always stronger united. https://t.co/8qYPHIje8I https://t.co/elNUP4nFoO",
          "time": "2016-05-18T02:39:06"
         },
         {
          "favorite_count": 6104,
          "handle": "realDonaldTrump",
          "retweet_count": 2058,
          "text": "#VoteTrumpMS! #Trump2016\nhttps://t.co/KaHD0uENla",
          "time": "2016-03-08T17:39:43"
         },
         {
          "favorite_count": 2554,
          "handle": "HillaryClinton",
          "retweet_count": 1369,
          "text": "Clinton and Trump are confirmed to participate in a \"Commander-in-chief\" forum with @IAVA on @MSNBC September 7th https://t.co/jjh1Qxgp88",
          "time": "2016-08-19T14:50:03"
         },
         {
          "favorite_count": 2187,
          "handle": "HillaryClinton",
          "retweet_count": 1045,
          "text": "\"Nobody's going to be left in this country that he's exempted from insults.\" —Hillary on Trump in California: https://t.co/M66GAOEeal",
          "time": "2016-06-06T19:54:28"
         },
         {
          "favorite_count": 3554,
          "handle": "HillaryClinton",
          "retweet_count": 1310,
          "text": "If you were born between 1980 and 2002, Hillary has big plans to help you. https://t.co/4XCf0d3j7R",
          "time": "2016-08-17T01:48:07"
         },
         {
          "favorite_count": 7249,
          "handle": "HillaryClinton",
          "retweet_count": 3934,
          "text": "When Trump insults Muslims or immigrants, he should remember that Muslims and immigrants serve in our armed forces. https://t.co/EkShqvbssC",
          "time": "2016-06-04T00:57:12"
         },
         {
          "favorite_count": 3597,
          "handle": "HillaryClinton",
          "retweet_count": 2281,
          "text": "Donald Trump has never negotiated a ceasefire, but he can throw a mean pageant! https://t.co/VjJzA6AdEi",
          "time": "2016-06-02T23:36:32"
         },
         {
          "favorite_count": 14783,
          "handle": "realDonaldTrump",
          "retweet_count": 5421,
          "text": "I want all Americans to succeed together. President Obama's illegal executive amnesty undermines job prospects for...https://t.co/dpIDejXzJw",
          "time": "2016-06-24T18:50:57"
         },
         {
          "favorite_count": 5167,
          "handle": "HillaryClinton",
          "retweet_count": 1747,
          "text": "Our open, diverse society is an asset in the struggle against terrorism, not a liability. It makes us stronger.",
          "time": "2016-06-13T17:39:05"
         },
         {
          "favorite_count": 31212,
          "handle": "realDonaldTrump",
          "retweet_count": 8533,
          "text": "Looking forward to my meeting with Benjamin Netanyahu in Trump Tower at 10:00 A.M.",
          "time": "2016-09-25T13:20:56"
         },
         {
          "favorite_count": 12254,
          "handle": "HillaryClinton",
          "retweet_count": 10552,
          "text": "A big, beautiful list of literally every tweet Donald Trump has sent about Mexico over the last two years. https://t.co/WCKL7oNdpg",
          "time": "2016-08-31T12:22:18"
         },
         {
          "favorite_count": 3681,
          "handle": "realDonaldTrump",
          "retweet_count": 1102,
          "text": "\"@CarolBurnett3:  @AnnCoulter I just love the way Ann Coulter remembers your acts of kindness Donald Trump....GO Trump we love you\"",
          "time": "2016-01-24T08:48:39"
         },
         {
          "favorite_count": 6927,
          "handle": "HillaryClinton",
          "retweet_count": 2951,
          "text": "\"Simply caring is not enough. To drive real progress, you have to change both hearts and laws.\" —Hillary",
          "time": "2016-07-29T02:52:43"
         },
         {
          "favorite_count": 5876,
          "handle": "HillaryClinton",
          "retweet_count": 2395,
          "text": "You never know what you'll see at a Hillary rally.\nhttps://t.co/lDJ8DSSdaU",
          "time": "2016-06-01T00:58:41"
         },
         {
          "favorite_count": 564,
          "handle": "HillaryClinton",
          "retweet_count": 344,
          "text": "Encuentre dónde votar en Nueva York aquí →  https://t.co/S0VaGHnceD #EstoyConElla https://t.co/f9bPIpE2uo",
          "time": "2016-04-18T19:26:43"
         },
         {
          "favorite_count": 4369,
          "handle": "HillaryClinton",
          "retweet_count": 1772,
          "text": "This election is too important for anyone to sit on the sidelines.\n\nMake sure your friends are registered to vote. https://t.co/tTgeqy51PU",
          "time": "2016-09-08T23:17:35"
         },
         {
          "favorite_count": 18616,
          "handle": "HillaryClinton",
          "retweet_count": 11112,
          "text": "Four years ago today. https://t.co/WPM1I9PPN3",
          "time": "2016-08-06T19:12:34"
         },
         {
          "favorite_count": 1456,
          "handle": "HillaryClinton",
          "retweet_count": 875,
          "text": "The U.S. has 5% of the world's women but nearly 30% of its women prisoners. The consequences are devastating. https://t.co/9GPztYdNlF",
          "time": "2016-04-27T22:59:28"
         },
         {
          "favorite_count": 10948,
          "handle": "realDonaldTrump",
          "retweet_count": 4236,
          "text": "'CNBC, Time magazine online polls say Donald Trump won the first presidential debate' via @WashTimes. #MAGA\nhttps://t.co/PGimqYKPoJ",
          "time": "2016-09-27T20:06:25"
         },
         {
          "favorite_count": 4468,
          "handle": "HillaryClinton",
          "retweet_count": 1967,
          "text": "Just a few of the ways @realDonaldTrump has proven that he's unfit for the presidency:\nhttps://t.co/dp65Gh93JC",
          "time": "2016-07-17T21:34:18"
         },
         {
          "favorite_count": 6030,
          "handle": "HillaryClinton",
          "retweet_count": 3263,
          "text": "There is no other Donald Trump. This is it. https://t.co/oQJdlUJv0u",
          "time": "2016-09-01T02:10:18"
         },
         {
          "favorite_count": 2267,
          "handle": "HillaryClinton",
          "retweet_count": 994,
          "text": "Young people face tough challenges, but they have the ability to do something about it: Vote. https://t.co/dm98k71nf1",
          "time": "2016-08-10T22:12:11"
         },
         {
          "favorite_count": 3022,
          "handle": "HillaryClinton",
          "retweet_count": 1263,
          "text": "\"America is not about ‘yes, he will.' It's about ‘yes, we can.'\" —@POTUS: https://t.co/tTgeqxNqYm",
          "time": "2016-09-13T18:20:38"
         },
         {
          "favorite_count": 3233,
          "handle": "HillaryClinton",
          "retweet_count": 1432,
          "text": "It isn't enough to just say we support equal pay for women. We have to do everything we can to make it a reality.\nhttps://t.co/okNk0RDPmi",
          "time": "2016-04-21T23:08:26"
         },
         {
          "favorite_count": 4427,
          "handle": "HillaryClinton",
          "retweet_count": 2258,
          "text": "If you see a bully, stand up to him. https://t.co/qLDbRhK1W2",
          "time": "2016-04-30T14:19:32"
         },
         {
          "favorite_count": 21962,
          "handle": "realDonaldTrump",
          "retweet_count": 7621,
          "text": "Crooked Hillary Clinton, who called BREXIT 100% wrong (along with Obama), is now spending Wall Street money on an ad on my correct call.",
          "time": "2016-06-26T11:33:17"
         },
         {
          "favorite_count": 1074,
          "handle": "HillaryClinton",
          "retweet_count": 478,
          "text": "Conoce cómo Hillary ha luchado durante varias décadas por las familias, mujeres y niños. https://t.co/UsOmgcNCJa https://t.co/OqKQnk6EYv",
          "time": "2016-05-17T00:40:26"
         },
         {
          "favorite_count": 33760,
          "handle": "realDonaldTrump",
          "retweet_count": 12781,
          "text": "President Obama refuses to answer question about Iran terror funding.  I won't dodge questions as your President. https://t.co/jsAMGO3s4P",
          "time": "2016-08-05T02:19:22"
         },
         {
          "favorite_count": 7882,
          "handle": "realDonaldTrump",
          "retweet_count": 2273,
          "text": "We are ALREADY LIVE in Everett, WA for the Trump Rally. Come join us- our cameras tonight! #TrumpinEverett \n\nhttps://t.co/RQdUpI6mnw",
          "time": "2016-08-31T02:17:40"
         },
         {
          "favorite_count": 6375,
          "handle": "realDonaldTrump",
          "retweet_count": 2022,
          "text": "\"@jojo2foxy: TRUMP IS UNSTOPPABLE....HE IS WHAT COMMON SENSE AMERICANS WANT WHETHER REPUBLICAN, INDEPENDENT OR A REAGAN DEMOCRAT.",
          "time": "2016-02-23T15:38:24"
         },
         {
          "favorite_count": 4706,
          "handle": "HillaryClinton",
          "retweet_count": 1390,
          "text": "We need a Commander-in-Chief who can grapple with our challenges in all their complexity, with real plans that actually address them.",
          "time": "2016-06-14T16:42:21"
         },
         {
          "favorite_count": 3049,
          "handle": "HillaryClinton",
          "retweet_count": 1205,
          "text": "It's important that people are held accountable for water poisoning in Flint, but Congress needs to act now to help Flint families. -H",
          "time": "2016-04-20T21:04:55"
         },
         {
          "favorite_count": 2235,
          "handle": "HillaryClinton",
          "retweet_count": 658,
          "text": "Watch live: Hillary’s speaking in Cleveland about building an economy that works for everyone → https://t.co/EsqAmcnrnC",
          "time": "2016-08-17T17:34:40"
         },
         {
          "favorite_count": 11905,
          "handle": "realDonaldTrump",
          "retweet_count": 4010,
          "text": "Thank you Miss Katie's Diner!\n#MakeAmericaGreatAgain #Trump2016\nhttps://t.co/oYpUYJmpKI https://t.co/uTSIiVqPkT",
          "time": "2016-04-03T18:05:32"
         },
         {
          "favorite_count": 13879,
          "handle": "realDonaldTrump",
          "retweet_count": 4613,
          "text": "Our Native American Senator, goofy Elizabeth Warren, couldn’t care less about the American worker…does nothing to help!",
          "time": "2016-05-11T20:03:35"
         },
         {
          "favorite_count": 22110,
          "handle": "realDonaldTrump",
          "retweet_count": 8061,
          "text": "In just out book, Secret Service Agent Gary Byrne doesn't believe that Crooked Hillary has the temperament or integrity to be the president!",
          "time": "2016-06-07T02:21:08"
         },
         {
          "favorite_count": 14402,
          "handle": "realDonaldTrump",
          "retweet_count": 6771,
          "text": "\"Trump right: Illegal families crossing border set to double, 51,152 so far\"\nhttps://t.co/1noCe9W6Ru",
          "time": "2016-07-27T18:23:14"
         },
         {
          "favorite_count": 5869,
          "handle": "HillaryClinton",
          "retweet_count": 1571,
          "text": "No family should have to spend more than 10% of its income on quality child care. https://t.co/ReC2DZCjlM https://t.co/TFYDN6VYJj",
          "time": "2016-08-15T01:19:51"
         },
         {
          "favorite_count": 3800,
          "handle": "HillaryClinton",
          "retweet_count": 1808,
          "text": "Middle-class Americans thought Trump Institute would help them. In reality, it was yet another giant scam. https://t.co/zYAJ0hiq0v",
          "time": "2016-07-04T02:40:09"
         },
         {
          "favorite_count": 4875,
          "handle": "realDonaldTrump",
          "retweet_count": 2482,
          "text": "Join us tomorrow night in Charleston, South Carolina! #SCPrimary #Trump2016 https://t.co/VauoRmgcVz",
          "time": "2016-02-18T20:14:22"
         },
         {
          "favorite_count": 1110,
          "handle": "HillaryClinton",
          "retweet_count": 599,
          "text": "Your Sunday afternoon read: \"In a word, Clinton\" —@PhillyInquirer endorses @HillaryClinton: https://t.co/RxAFwgxuES #HRC4PA",
          "time": "2016-04-17T16:39:42"
         },
         {
          "favorite_count": 39414,
          "handle": "realDonaldTrump",
          "retweet_count": 11762,
          "text": "Thank you Indiana, we were just projected to be the winner. We have won in every category. You are very special people-I will never forget!",
          "time": "2016-05-03T23:38:34"
         },
         {
          "favorite_count": 5382,
          "handle": "realDonaldTrump",
          "retweet_count": 2119,
          "text": "The failing @NRO National Review Magazine has just been informed by the Republican National Committee that they cannot participate in debate",
          "time": "2016-01-22T14:24:15"
         },
         {
          "favorite_count": 4522,
          "handle": "realDonaldTrump",
          "retweet_count": 1302,
          "text": "Congratulations to @jdickerson of Face the Nation on his highest ratings in 15 years. 4.6 million people watched my interview! Thank you!",
          "time": "2016-01-11T19:10:00"
         },
         {
          "favorite_count": 2280,
          "handle": "HillaryClinton",
          "retweet_count": 1166,
          "text": "It’s about lifting each other up, not tearing each other down. https://t.co/mmmDVx0qZC",
          "time": "2016-04-20T02:31:47"
         },
         {
          "favorite_count": 3522,
          "handle": "HillaryClinton",
          "retweet_count": 1450,
          "text": "In the spirit of the #Charleston9, let’s bridge our divides, fight for change, and remember that love never fails. https://t.co/VL9HAhzoTY",
          "time": "2016-06-17T21:09:57"
         },
         {
          "favorite_count": 1830,
          "handle": "HillaryClinton",
          "retweet_count": 752,
          "text": "\"I want to be a president for all Americans, not just for some Americans; Democrats, Republicans, Independents.\" —Hillary",
          "time": "2016-09-06T18:40:14"
         },
         {
          "favorite_count": 8650,
          "handle": "realDonaldTrump",
          "retweet_count": 3249,
          "text": "Join me in Oklahoma tomorrow night!\n#MakeYoutubeGreatAgain #Trump2016\nhttps://t.co/sUTcDoip3C",
          "time": "2016-02-25T17:41:26"
         },
         {
          "favorite_count": 8562,
          "handle": "HillaryClinton",
          "retweet_count": 3953,
          "text": "\"America is already great. America is already strong &amp; I promise you, our strength, our greatness, does not depend on Donald Trump.” —@POTUS",
          "time": "2016-07-28T03:18:19"
         },
         {
          "favorite_count": 14047,
          "handle": "realDonaldTrump",
          "retweet_count": 4289,
          "text": "Thank you Arizona! See you soon!\n#MakeAmericaGreatAgain https://t.co/IC3pe5lRAS",
          "time": "2016-05-18T17:38:20"
         },
         {
          "favorite_count": 16075,
          "handle": "realDonaldTrump",
          "retweet_count": 5084,
          "text": "FMR PRES of Mexico, Vicente Fox horribly used the F word when discussing the wall. He must apologize! If I did that there would be a uproar!",
          "time": "2016-02-25T20:27:15"
         },
         {
          "favorite_count": 31043,
          "handle": "realDonaldTrump",
          "retweet_count": 16770,
          "text": "Why isn't Hillary Clinton 50 points ahead?\n#DebateNight https://t.co/iux7icIkaT",
          "time": "2016-09-27T00:47:05"
         },
         {
          "favorite_count": 962,
          "handle": "HillaryClinton",
          "retweet_count": 801,
          "text": "Mientras 5 millones de personas perdían sus hogares, Trump esperaba enriquecerse de este desplome a costa de ellos.\nhttps://t.co/9trerS1rdR",
          "time": "2016-05-25T14:24:10"
         },
         {
          "favorite_count": 32456,
          "handle": "realDonaldTrump",
          "retweet_count": 10894,
          "text": "My thoughts and prayers are with the two police officers shot in Sebastian County, Arkansas. #LESM",
          "time": "2016-08-10T17:43:26"
         },
         {
          "favorite_count": 15534,
          "handle": "realDonaldTrump",
          "retweet_count": 5032,
          "text": "After raising, w/ no obligation, almost $6M for Vets, I couldn't believe protesters formed @ Trump Tower. JUST OUT- SENT BY CROOKED HILLARY!",
          "time": "2016-05-25T00:32:47"
         },
         {
          "favorite_count": 17771,
          "handle": "HillaryClinton",
          "retweet_count": 3102,
          "text": "Happy Father's Day, @BillClinton! https://t.co/3C2RFFuIAr",
          "time": "2016-06-19T14:09:59"
         },
         {
          "favorite_count": 4091,
          "handle": "HillaryClinton",
          "retweet_count": 2512,
          "text": "Donald Trump thinks climate change is a “hoax.”\n\nPresident Trump would destroy our ability to combat it.\nhttps://t.co/8TeARR4FUL",
          "time": "2016-05-27T20:50:44"
         },
         {
          "favorite_count": 5315,
          "handle": "realDonaldTrump",
          "retweet_count": 1517,
          "text": "\"@HARyder: Which is it @realDonaldTrump ?Are you planning on getting rid of Common Core or keeping it?  Get rid of it fast.",
          "time": "2016-02-11T01:37:51"
         },
         {
          "favorite_count": 1543,
          "handle": "HillaryClinton",
          "retweet_count": 452,
          "text": "Want to be in the room where it happens? Here's your shot: Win tickets to see @HamiltonMusical with Hillary: https://t.co/sef18uLjSd",
          "time": "2016-06-26T17:47:49"
         },
         {
          "favorite_count": 9045,
          "handle": "realDonaldTrump",
          "retweet_count": 3208,
          "text": "Join me in Sacramento, California-tomorrow evening @ 7pm! #Trump2016\nhttps://t.co/W7xy7eXcii https://t.co/km0rRYSDnO",
          "time": "2016-05-31T21:12:07"
         },
         {
          "favorite_count": 9975,
          "handle": "HillaryClinton",
          "retweet_count": 3375,
          "text": "\"If we’re serious about keeping our country safe, we also can’t afford to have a president who’s in the pocket of the gun lobby.\" —Hillary",
          "time": "2016-07-29T03:19:27"
         },
         {
          "favorite_count": 1183,
          "handle": "HillaryClinton",
          "retweet_count": 475,
          "text": "“There’s no question that the workers of Appalachia made America more prosperous and secure, and that legacy should be honored.” —Hillary",
          "time": "2016-05-03T19:02:15"
         },
         {
          "favorite_count": 22397,
          "handle": "realDonaldTrump",
          "retweet_count": 8110,
          "text": "Mitt Romney, who was one of the dumbest and worst candidates in the history of Republican politics, is now pushing me on tax returns. Dope!",
          "time": "2016-02-25T12:34:11"
         },
         {
          "favorite_count": 2516,
          "handle": "HillaryClinton",
          "retweet_count": 1042,
          "text": "In which Hillary reacts to @NBCSNL Hillary skits on @GMA.\nhttps://t.co/6Hcc0V8u3q",
          "time": "2016-04-21T15:44:47"
         },
         {
          "favorite_count": 11325,
          "handle": "realDonaldTrump",
          "retweet_count": 3366,
          "text": "Unlike the other Republican candidates, I will be in Nevada all day and night - I won't be fleeing, in and out. I love &amp; invest in Nevada!",
          "time": "2016-02-23T17:11:30"
         },
         {
          "favorite_count": 5976,
          "handle": "HillaryClinton",
          "retweet_count": 2289,
          "text": "\"She gives us hope for the future. She's our girl.\"  —Roxie, co-owner of @MercersDairy, on Hillary https://t.co/s5zyaOBLXB",
          "time": "2016-09-23T16:49:24"
         },
         {
          "favorite_count": 7484,
          "handle": "HillaryClinton",
          "retweet_count": 2801,
          "text": ".@GovChristie, vetoing a minimum wage increase is a blow to working families. No one who works full-time should have to live in poverty. -H",
          "time": "2016-08-31T15:28:05"
         },
         {
          "favorite_count": 1891,
          "handle": "HillaryClinton",
          "retweet_count": 928,
          "text": "\"What he did here in Atlantic City is exactly what he’ll do if he wins in November.\" —Hillary on @realDonaldTrump: https://t.co/d03oF9Ur0W",
          "time": "2016-07-06T16:45:44"
         },
         {
          "favorite_count": 5995,
          "handle": "realDonaldTrump",
          "retweet_count": 1634,
          "text": "\"@SirHatchporch: Mary Kissel is an SNL character, right? She's not a real person, right? #MorningJoe\"  She is a major loser - no clue!",
          "time": "2016-03-04T12:29:12"
         },
         {
          "favorite_count": 18864,
          "handle": "realDonaldTrump",
          "retweet_count": 7667,
          "text": "MAKE AMERICA GREAT AGAIN!\n#AmericaFirst #Trump2016 \nhttps://t.co/42OpVsjXjp",
          "time": "2016-06-08T20:27:28"
         },
         {
          "favorite_count": 18821,
          "handle": "realDonaldTrump",
          "retweet_count": 7285,
          "text": "We cannot let the failing REPUBLICAN ESTABLISHMENT, who could not stop Obama (twice), ruin the MOVEMENT with millions of  $'s in false ads!",
          "time": "2016-03-07T13:03:16"
         },
         {
          "favorite_count": 4373,
          "handle": "HillaryClinton",
          "retweet_count": 2155,
          "text": "Watch out, fog machine rental company. Trump isn't great at paying his invoices. https://t.co/kkyMEEzhKp",
          "time": "2016-07-19T02:52:53"
         },
         {
          "favorite_count": 34229,
          "handle": "realDonaldTrump",
          "retweet_count": 13479,
          "text": "Many people are saying that the Iranians killed the scientist who helped the U.S. because of Hillary Clinton's hacked emails.",
          "time": "2016-08-08T22:45:33"
         },
         {
          "favorite_count": 5145,
          "handle": "HillaryClinton",
          "retweet_count": 2839,
          "text": "Yeah, Donald Trump has been a real gem to working women. #RNCinCLE https://t.co/LmUZI1J8KQ",
          "time": "2016-07-20T02:54:40"
         },
         {
          "favorite_count": 19123,
          "handle": "realDonaldTrump",
          "retweet_count": 6530,
          "text": "Thank you Nebraska!\n#MakeAmericaGreatAgain #Trump2016 https://t.co/RRma61oisz",
          "time": "2016-05-11T01:04:26"
         },
         {
          "favorite_count": 17802,
          "handle": "realDonaldTrump",
          "retweet_count": 5564,
          "text": "I will have set the all time record in primary votes in the Republican party --despite having to compete against 17 other people!",
          "time": "2016-05-09T16:59:00"
         },
         {
          "favorite_count": 4541,
          "handle": "HillaryClinton",
          "retweet_count": 2658,
          "text": "Turning away Muslims, pitting Americans against each other, inciting violence and chaos—these aren't our values.\nhttps://t.co/6bJfM4KlzY",
          "time": "2016-04-28T00:14:28"
         },
         {
          "favorite_count": 27446,
          "handle": "HillaryClinton",
          "retweet_count": 7944,
          "text": "@Lesdoggg, no one deserves this—least of all someone who brings us so much joy. I'm with you. -H",
          "time": "2016-08-25T20:38:47"
         },
         {
          "favorite_count": 660,
          "handle": "HillaryClinton",
          "retweet_count": 540,
          "text": "Trump sees no need for a federal floor for the minimum wage. That's only a problem if you live in these states: https://t.co/fnqThC8zWA",
          "time": "2016-05-11T14:22:19"
         },
         {
          "favorite_count": 3512,
          "handle": "HillaryClinton",
          "retweet_count": 1119,
          "text": "Tonight, Trump is going to try and claim he's ready to be Commander-in-Chief. The facts say otherwise. \n\nFollow @TheBriefing2016 to see why.",
          "time": "2016-09-08T00:31:54"
         },
         {
          "favorite_count": 688,
          "handle": "HillaryClinton",
          "retweet_count": 410,
          "text": "Under Donald Trump, the pay gap would remain yuge. https://t.co/vyWOykLtZf",
          "time": "2016-04-22T17:40:26"
         },
         {
          "favorite_count": 9762,
          "handle": "realDonaldTrump",
          "retweet_count": 3560,
          "text": "Ted Cruz is a cheater! He holds the Bible high and then lies and misrepresents the facts!",
          "time": "2016-02-14T00:13:10"
         },
         {
          "favorite_count": 3496,
          "handle": "HillaryClinton",
          "retweet_count": 843,
          "text": "\"Maybe one day she'll look back and say, 'I was there...when we nominated our first female president.'\" —Janet, NMI https://t.co/9Q2cfCwNR1",
          "time": "2016-07-27T23:09:28"
         },
         {
          "favorite_count": 10106,
          "handle": "HillaryClinton",
          "retweet_count": 4036,
          "text": "EpiPens can be the difference between life and death. There's no justification for these price hikes. https://t.co/O6RbVR6Qim -H",
          "time": "2016-08-24T18:02:14"
         },
         {
          "favorite_count": 2572,
          "handle": "realDonaldTrump",
          "retweet_count": 828,
          "text": "\"@HaloOneForTrump: @foxnews takes #YUGE hit on advertising revenues by screwing with @realDonaldTrump ROFL! https://t.co/ndyHNiUdks\"",
          "time": "2016-01-28T11:39:14"
         },
         {
          "favorite_count": 23350,
          "handle": "realDonaldTrump",
          "retweet_count": 7147,
          "text": "Very sad that a person who has made so many mistakes, Crooked Hillary Clinton, can put out such false and vicious ads with her phony money!",
          "time": "2016-07-16T13:19:11"
         },
         {
          "favorite_count": 10773,
          "handle": "realDonaldTrump",
          "retweet_count": 3238,
          "text": "When Ted Cruz quits the race and the field begins to clear, I will get most of his votes - no problem!",
          "time": "2016-02-24T23:49:15"
         },
         {
          "favorite_count": 3711,
          "handle": "HillaryClinton",
          "retweet_count": 2161,
          "text": "Donald Trump's foreign policy team: one \"very good brain\" with very thin skin.\nhttps://t.co/ctG62mBG9k",
          "time": "2016-06-03T12:15:21"
         },
         {
          "favorite_count": 3423,
          "handle": "realDonaldTrump",
          "retweet_count": 972,
          "text": "\"@JackBurtonReflx:  @jdenino1 @DavidWohl @ss I listen to Glenn Beck and literally nothing he says makes any sense. Same with The View.\"",
          "time": "2016-01-26T04:27:32"
         },
         {
          "favorite_count": 19216,
          "handle": "realDonaldTrump",
          "retweet_count": 6326,
          "text": "Thank you for your support &amp; \nfriendship- Governor @ChrisChristie!\n#MakeAmericaGreatAgain #Trump2016 https://t.co/jVI6Q6JH18",
          "time": "2016-02-26T21:07:16"
         },
         {
          "favorite_count": 4068,
          "handle": "HillaryClinton",
          "retweet_count": 1747,
          "text": "\"That is how progress gets made: We have to be both dreamers and doers.\" —Hillary last night in PA https://t.co/F03zCH304S",
          "time": "2016-04-27T13:03:43"
         },
         {
          "favorite_count": 5950,
          "handle": "HillaryClinton",
          "retweet_count": 2408,
          "text": "With the first local transmission of Zika in FL, it’s even more critical for Republicans to stop blocking action: https://t.co/KjmWMDOgDl",
          "time": "2016-07-29T22:31:44"
         },
         {
          "favorite_count": 30816,
          "handle": "realDonaldTrump",
          "retweet_count": 10705,
          "text": "Bernie Sanders, who has lost most of his leverage, has totally sold out to Crooked Hillary Clinton. He will endorse her today - fans angry!",
          "time": "2016-07-12T13:36:47"
         },
         {
          "favorite_count": 16641,
          "handle": "realDonaldTrump",
          "retweet_count": 4143,
          "text": "Will be on @SeanHannity tonight at 10pmE - delivering an important speech live from Wisconsin. #MakeAmericaGreatAgain",
          "time": "2016-08-17T01:48:16"
         },
         {
          "favorite_count": 3363,
          "handle": "HillaryClinton",
          "retweet_count": 1259,
          "text": "Thousands of Trump University students believed Donald Trump when he said he would help them succeed.  \n\nThey all got stiffed.",
          "time": "2016-07-28T02:31:50"
         },
         {
          "favorite_count": 7516,
          "handle": "HillaryClinton",
          "retweet_count": 2672,
          "text": "You don't have to be LGBT to stand with the LGBT community. We all have a stake in equality. Thank you, Michael. https://t.co/EfEMVugWCp",
          "time": "2016-06-17T18:15:12"
         },
         {
          "favorite_count": 21259,
          "handle": "realDonaldTrump",
          "retweet_count": 10848,
          "text": "During the GOP convention, CNN cut away from the victims of illegal immigrant violence. They don’t want them heard. https://t.co/EHRiLkQDWD",
          "time": "2016-08-01T22:54:27"
         },
         {
          "favorite_count": 1495,
          "handle": "HillaryClinton",
          "retweet_count": 670,
          "text": "¡Esta victoria es de todos ustedes Nueva York! Muchas gracias por su apoyo. Unete a la campaña aquí → https://t.co/29hAgCxpQM",
          "time": "2016-04-20T02:58:22"
         },
         {
          "favorite_count": 2564,
          "handle": "realDonaldTrump",
          "retweet_count": 1155,
          "text": "Explosive Trump attack on HRC, Bill, Monica, Cosby, and Weiner. Trump camp just upped the ante on \"women's rights\" https://t.co/tTBhyX4EDJ",
          "time": "2016-01-07T18:08:59"
         },
         {
          "favorite_count": 4531,
          "handle": "HillaryClinton",
          "retweet_count": 1704,
          "text": "\"You don't grade the presidency on a curve.\" —@POTUS https://t.co/gbywfNfrQq",
          "time": "2016-09-14T02:57:51"
         },
         {
          "favorite_count": 9448,
          "handle": "HillaryClinton",
          "retweet_count": 3883,
          "text": "“If you believe that your working mother, wife, sister, or daughter deserve equal pay, join us!” —Hillary",
          "time": "2016-07-29T03:06:57"
         },
         {
          "favorite_count": 4119,
          "handle": "HillaryClinton",
          "retweet_count": 2000,
          "text": "We have some questions about this letter from Donald Trump's doctor. https://t.co/0wd7ZSAUxw",
          "time": "2016-08-29T12:50:10"
         },
         {
          "favorite_count": 8156,
          "handle": "HillaryClinton",
          "retweet_count": 3980,
          "text": "45 reasons why Trump should never be president—just from this week alone. https://t.co/0cJ6fQeepR",
          "time": "2016-08-07T00:02:56"
         },
         {
          "favorite_count": 19574,
          "handle": "realDonaldTrump",
          "retweet_count": 6718,
          "text": "The rules DID CHANGE in Colorado shortly after I entered the race in June because the pols and their bosses knew I would win with the voters",
          "time": "2016-04-14T03:53:59"
         },
         {
          "favorite_count": 1458,
          "handle": "HillaryClinton",
          "retweet_count": 414,
          "text": "“When they have student debt, we’ll put a three year moratory on that so they can start their own businesses!”—@HillaryClinton",
          "time": "2016-08-10T19:40:06"
         },
         {
          "favorite_count": 6393,
          "handle": "realDonaldTrump",
          "retweet_count": 1927,
          "text": "Great even in SC tonight! Fire Marshall would not let everyone in-- 5,000 turned away. Thank you for coming!",
          "time": "2016-01-09T02:08:42"
         },
         {
          "favorite_count": 6413,
          "handle": "realDonaldTrump",
          "retweet_count": 2090,
          "text": "\"@creta_r: @realDonaldTrump Looking forward to watching Donald Trump rally Thursday night on CNN!!\"",
          "time": "2016-01-28T04:26:38"
         },
         {
          "favorite_count": 1197,
          "handle": "HillaryClinton",
          "retweet_count": 538,
          "text": "What's your volunteer personality type? Take our quiz for personalized recommendations on how to help elect Hillary: https://t.co/c09Vh2rnFd",
          "time": "2016-08-25T00:21:48"
         },
         {
          "favorite_count": 1517,
          "handle": "HillaryClinton",
          "retweet_count": 1010,
          "text": "Attention lawyers &amp; law students: Help @HillaryClinton protect the right to vote. Sign up &amp; share with your friends: https://t.co/FPdlNX35BF",
          "time": "2016-09-14T19:52:13"
         },
         {
          "favorite_count": 13882,
          "handle": "realDonaldTrump",
          "retweet_count": 4670,
          "text": "Wow, Rowanne Brewer, the most prominently depicted woman in the failing @nytimes story yesterday, was on @foxandfriends saying Times lied",
          "time": "2016-05-16T13:12:38"
         },
         {
          "favorite_count": 2949,
          "handle": "HillaryClinton",
          "retweet_count": 1075,
          "text": "\"When kids are scared by political candidates and policy debates, it’s a sign something has gone badly wrong.\" —Hillary",
          "time": "2016-07-13T17:12:19"
         },
         {
          "favorite_count": 17312,
          "handle": "realDonaldTrump",
          "retweet_count": 5298,
          "text": "\"@adhd_fa:Kudos to @PARISDENNARD for standing up to CNN's attempt to bully you and shout you down for defending @realDonaldTrump #media bias",
          "time": "2016-09-07T04:22:37"
         },
         {
          "favorite_count": 2363,
          "handle": "realDonaldTrump",
          "retweet_count": 703,
          "text": "\"@jdenino1: @DavidWohl  @realDonaldTrump https://t.co/RqMSSbfB0J   BECK wanted to commit suicide after @ss surgery, clearly is unbalanced!\"",
          "time": "2016-01-26T04:15:12"
         },
         {
          "favorite_count": 12505,
          "handle": "realDonaldTrump",
          "retweet_count": 3893,
          "text": "I will be making a big surprise announcement to the massive crowd assembled in Huntsville/Madison Alabama! Landing now! #Trump2016",
          "time": "2016-02-28T21:56:49"
         },
         {
          "favorite_count": 20145,
          "handle": "realDonaldTrump",
          "retweet_count": 6971,
          "text": "Crooked Hillary Clinton overregulates, overtaxes and doesn't care about jobs. Most importantly, she suffers from plain old bad judgement!",
          "time": "2016-05-24T11:42:35"
         },
         {
          "favorite_count": 4874,
          "handle": "realDonaldTrump",
          "retweet_count": 1135,
          "text": "\"@hofmannken: DonaldTrump, wish I could attend one of your rallies, none are close enough. Make America Great Again for my Kids.Thank you",
          "time": "2016-01-08T03:12:06"
         },
         {
          "favorite_count": 24962,
          "handle": "realDonaldTrump",
          "retweet_count": 10001,
          "text": "\"@KellyannePolls: Trump is headed for a win, says professor who has predicted 30 years of presidential outcomes   https://t.co/68WEMcuHSO\"",
          "time": "2016-09-24T12:43:52"
         },
         {
          "favorite_count": 2469,
          "handle": "HillaryClinton",
          "retweet_count": 1741,
          "text": "\"I am the king of debt, I do love debt, I love playing with it.\" —@RealDonaldTrump https://t.co/ssVajpX6Yf",
          "time": "2016-05-12T02:28:07"
         },
         {
          "favorite_count": 6567,
          "handle": "realDonaldTrump",
          "retweet_count": 2635,
          "text": "The New Hampshire drug epidemic must stop. If elected POTUS- I will create borders &amp; the drugs will stop pouring in. https://t.co/YdEnhqdTbS",
          "time": "2016-02-06T15:18:18"
         },
         {
          "favorite_count": 1091,
          "handle": "HillaryClinton",
          "retweet_count": 899,
          "text": "Trump bet against American families in the housing crash. Now he says its the \"kind of thinking our country needs.\" https://t.co/FqdpntvDDc",
          "time": "2016-05-25T15:17:32"
         },
         {
          "favorite_count": 2413,
          "handle": "HillaryClinton",
          "retweet_count": 2040,
          "text": "Last night, Trump stood by his plans to ban Muslims from entering the U.S. and deport millions of immigrants. https://t.co/8KYse7wy4P",
          "time": "2016-05-05T22:11:40"
         },
         {
          "favorite_count": 10647,
          "handle": "HillaryClinton",
          "retweet_count": 5403,
          "text": "FACT: The @ClintonFdn helps 11.5 million people with HIV/AIDS worldwide get their medication. https://t.co/wMAHC4u5RB",
          "time": "2016-08-24T22:03:08"
         },
         {
          "favorite_count": 10989,
          "handle": "realDonaldTrump",
          "retweet_count": 4335,
          "text": "Wow! I am speechless! Thank you to my sidekick @LynnePatton who keeps me &amp; the @EricTrumpFdn in line! https://t.co/L7Y2pjIl6p via @youtube",
          "time": "2016-05-03T02:09:00"
         },
         {
          "favorite_count": 4730,
          "handle": "HillaryClinton",
          "retweet_count": 4105,
          "text": "\"Everything I say, I'm going to do, folks.\" —Trump\n\nHere's what the presumptive @GOP nominee would do as president.\nhttps://t.co/SG6qjpzJ8E",
          "time": "2016-05-04T16:50:59"
         },
         {
          "favorite_count": 3612,
          "handle": "HillaryClinton",
          "retweet_count": 1983,
          "text": "“I have a very good brain.” —Donald Trump on his foreign policy advisors\n\n(Himself.) https://t.co/48MePwjHh9",
          "time": "2016-09-08T00:41:50"
         },
         {
          "favorite_count": 14644,
          "handle": "realDonaldTrump",
          "retweet_count": 5759,
          "text": "Ted Cruz attacked New Yorkers and New York values- we don't forget! https://t.co/83ur9C1qhB",
          "time": "2016-04-07T19:31:50"
         },
         {
          "favorite_count": 18611,
          "handle": "realDonaldTrump",
          "retweet_count": 7172,
          "text": "CHILD CARE REFORMS THAT WILL MAKE AMERICA GREAT AGAIN!\nTranscript: https://t.co/rntyxBSb9J\nhttps://t.co/5SWmxfVfto https://t.co/j389Quo4bg",
          "time": "2016-09-14T02:24:59"
         },
         {
          "favorite_count": 29965,
          "handle": "realDonaldTrump",
          "retweet_count": 8941,
          "text": "\"A rough night for Hillary Clinton\"  ABC News.",
          "time": "2016-09-08T12:10:13"
         },
         {
          "favorite_count": 4084,
          "handle": "HillaryClinton",
          "retweet_count": 1662,
          "text": "Two words: free WiFi.\n\nIn train stations, airports and other public spaces. https://t.co/6CJVBl9j7e",
          "time": "2016-06-29T16:03:43"
         },
         {
          "favorite_count": 35744,
          "handle": "HillaryClinton",
          "retweet_count": 8242,
          "text": "When you have a really, really good night. #SheWon https://t.co/FVeGqhYxRZ",
          "time": "2016-09-27T15:54:07"
         },
         {
          "favorite_count": 3380,
          "handle": "HillaryClinton",
          "retweet_count": 1054,
          "text": "\"She exposes [Trump] for what he is: temperamentally unfit and totally unqualified to be president.\" —Hillary on @elizabethforma",
          "time": "2016-06-27T14:55:38"
         },
         {
          "favorite_count": 5344,
          "handle": "HillaryClinton",
          "retweet_count": 1791,
          "text": "Hillary heard you: College costs are too high in America. It's time to fix it. https://t.co/HFcBczvyPH",
          "time": "2016-07-06T15:53:57"
         },
         {
          "favorite_count": 76454,
          "handle": "HillaryClinton",
          "retweet_count": 39107,
          "text": "To every little girl who dreams big: Yes, you can be anything you want—even president. Tonight is for you. -H https://t.co/jq7fKlfwGV",
          "time": "2016-06-08T01:08:58"
         },
         {
          "favorite_count": 9352,
          "handle": "realDonaldTrump",
          "retweet_count": 2704,
          "text": "\"@AlexNightrasor: @realDonaldTrump @lilrachiepoo Trump will be our best president since Reagan!",
          "time": "2016-04-09T02:52:33"
         },
         {
          "favorite_count": 12215,
          "handle": "realDonaldTrump",
          "retweet_count": 4990,
          "text": "How can Ted Cruz be an Evangelical Christian when he lies so much and is so dishonest?",
          "time": "2016-02-12T12:03:41"
         },
         {
          "favorite_count": 19577,
          "handle": "realDonaldTrump",
          "retweet_count": 7203,
          "text": "The National Border Patrol Council (NBPC) said that our open border is the biggest physical &amp; economic threat facing the American people!",
          "time": "2016-04-01T14:24:46"
         },
         {
          "favorite_count": 13160,
          "handle": "realDonaldTrump",
          "retweet_count": 3953,
          "text": "\"@theAgeofLeo: Your instincts on foreign policy &amp; terrorism have been better than all of these so called experienced politicians combined.\"",
          "time": "2016-03-26T02:47:47"
         },
         {
          "favorite_count": 16468,
          "handle": "HillaryClinton",
          "retweet_count": 6680,
          "text": "LGBT kids are perfect the way they are. They deserve love and acceptance—not bullying and violence. https://t.co/3ICu66ozzV",
          "time": "2016-06-24T22:54:33"
         },
         {
          "favorite_count": 1047,
          "handle": "HillaryClinton",
          "retweet_count": 413,
          "text": "\"Seremos compañeros de alma en esta gran lucha por venir\"—dijo @TimKaine sobre @HillaryClinton.",
          "time": "2016-07-23T17:36:10"
         },
         {
          "favorite_count": 35330,
          "handle": "realDonaldTrump",
          "retweet_count": 10377,
          "text": "Thank you to the amazing law enforcement officers today- in Daytona Beach, Florida! #LESM #MAGA https://t.co/QoxJf4Xzbc",
          "time": "2016-08-03T22:10:11"
         },
         {
          "favorite_count": 17911,
          "handle": "HillaryClinton",
          "retweet_count": 5105,
          "text": "There is so much more that unites us than divides us. That's why we're the greatest country on Earth. https://t.co/6uZVP0tjK9",
          "time": "2016-08-21T14:21:58"
         },
         {
          "favorite_count": 2594,
          "handle": "HillaryClinton",
          "retweet_count": 1046,
          "text": "\"Every day, Donald Trump proves that he’s not in this for the American people. He’s in it for himself.\" —Hillary https://t.co/4NIRN69Xp6",
          "time": "2016-06-27T19:29:15"
         },
         {
          "favorite_count": 13269,
          "handle": "realDonaldTrump",
          "retweet_count": 5249,
          "text": "It is my great honor to support our Veterans with you! You can join me now. Thank you! #Trump4Vets\nhttps://t.co/UVn3kUd2DV",
          "time": "2016-01-28T17:32:06"
         },
         {
          "favorite_count": 2244,
          "handle": "HillaryClinton",
          "retweet_count": 937,
          "text": "Donald Trump is about to become the @GOP nominee for president. Add your name if you won't let him win: https://t.co/Mt3d0p6MCa",
          "time": "2016-07-18T14:33:00"
         },
         {
          "favorite_count": 2256,
          "handle": "HillaryClinton",
          "retweet_count": 1087,
          "text": "Clinton announces plan to address 'unjustified' price hikes on life-saving drugs https://t.co/rRmEOlqYNF",
          "time": "2016-09-02T12:10:31"
         },
         {
          "favorite_count": 6903,
          "handle": "HillaryClinton",
          "retweet_count": 3270,
          "text": "Trump's habit of projecting his actions onto someone else is what 6-year-olds call \"I know you are, but what am I?\" https://t.co/FIhZYLmy1l",
          "time": "2016-09-16T22:17:15"
         },
         {
          "favorite_count": 10925,
          "handle": "HillaryClinton",
          "retweet_count": 3260,
          "text": "Glad to see that the Justice Department is ending the use of private prisons. This is the right step forward. -H https://t.co/5IxHvGULtR",
          "time": "2016-08-18T22:36:26"
         },
         {
          "favorite_count": 11421,
          "handle": "realDonaldTrump",
          "retweet_count": 3167,
          "text": "I am in Las Vegas, at the best hotel (by far), Trump International. I will be working with my wonderful teams and volunteers to WIN Nevada!",
          "time": "2016-02-22T12:48:30"
         },
         {
          "favorite_count": 18175,
          "handle": "realDonaldTrump",
          "retweet_count": 5470,
          "text": "Thank you to the people of  New Hampshire, I love you! Now, off to South Carolina.",
          "time": "2016-02-10T03:38:27"
         },
         {
          "favorite_count": 24864,
          "handle": "realDonaldTrump",
          "retweet_count": 8131,
          "text": "Thank you Kenansville, North Carolina! Remember- on November 8th, that special interest gravy train is coming to a… https://t.co/AysJRMzvKw",
          "time": "2016-09-21T00:07:51"
         },
         {
          "favorite_count": 9840,
          "handle": "realDonaldTrump",
          "retweet_count": 3833,
          "text": "Hillary Clinton's Campaign Continues To Make False Claims About Foundation Disclosure: \nhttps://t.co/zhkEfUouHH",
          "time": "2016-09-27T20:14:33"
         },
         {
          "favorite_count": 4047,
          "handle": "HillaryClinton",
          "retweet_count": 1480,
          "text": "With five million lives on the line, SCOTUS should grant DOJ's petition to rehear U.S. v. Texas. Let's keep immigrant families together. -H",
          "time": "2016-07-18T22:56:16"
         },
         {
          "favorite_count": 6328,
          "handle": "HillaryClinton",
          "retweet_count": 2473,
          "text": "Front pages from around the country on a big day. https://t.co/bNrJXn967S https://t.co/JA2R2R9drQ",
          "time": "2016-06-08T17:54:05"
         },
         {
          "favorite_count": 22562,
          "handle": "realDonaldTrump",
          "retweet_count": 7458,
          "text": "I am honored that the great men and women of the @Teamsters have created a movement from within called Teamsters for Trump! Thank you.",
          "time": "2016-05-07T15:53:38"
         },
         {
          "favorite_count": 1414,
          "handle": "HillaryClinton",
          "retweet_count": 694,
          "text": "“I have this old-fashioned notion that if you’re running for president, you should say what you’re going to do.” https://t.co/IOJAboxXfh",
          "time": "2016-09-15T19:54:36"
         },
         {
          "favorite_count": 4688,
          "handle": "HillaryClinton",
          "retweet_count": 1709,
          "text": "Anyone who you can provoke with a tweet should not be anywhere near nuclear weapons: https://t.co/NLP0SRnuYt",
          "time": "2016-08-04T20:23:17"
         },
         {
          "favorite_count": 49885,
          "handle": "realDonaldTrump",
          "retweet_count": 21210,
          "text": "It was just announced-by sources-that no charges will be brought against Crooked Hillary Clinton. Like I said, the system is totally rigged!",
          "time": "2016-07-02T21:13:02"
         },
         {
          "favorite_count": 7818,
          "handle": "HillaryClinton",
          "retweet_count": 1832,
          "text": "When the IOC introduced women's wrestling in 2004, @Helen_Maroulis dreamed of gold. Yesterday that dream came true. https://t.co/ZvyuQYK36v",
          "time": "2016-08-19T22:01:52"
         },
         {
          "favorite_count": 4314,
          "handle": "realDonaldTrump",
          "retweet_count": 1448,
          "text": "Dope Frank Bruni said I called many people, including Karl Rove, losers-true! I never called my friend @HowardStern a loser- he’s a winner!",
          "time": "2016-01-19T14:44:25"
         },
         {
          "favorite_count": 6138,
          "handle": "realDonaldTrump",
          "retweet_count": 2089,
          "text": "I don't think Ted Cruz can even run for President until he can assure Republican voters that being born in Canada is not a problem. Doubt!",
          "time": "2016-01-19T01:57:26"
         },
         {
          "favorite_count": 10327,
          "handle": "realDonaldTrump",
          "retweet_count": 3395,
          "text": "\"@southpaw816: @SenSanders fans, greatest way to get even with her Highness - vote for @realDonaldTrump, at least you'll have a job.",
          "time": "2016-06-08T12:00:55"
         },
         {
          "favorite_count": 14280,
          "handle": "realDonaldTrump",
          "retweet_count": 3696,
          "text": "I heard that @Morning_Joe was very nice on Friday but that little Donny D, a big failure in TV (&amp; someone I helped), was nasty. Irrelevant!",
          "time": "2016-08-22T01:08:08"
         },
         {
          "favorite_count": 12024,
          "handle": "realDonaldTrump",
          "retweet_count": 3515,
          "text": "On the way to the great state of Rhode Island- big rally. Then to Pennsylvania for rest of day and night!",
          "time": "2016-04-25T16:16:27"
         },
         {
          "favorite_count": 51955,
          "handle": "realDonaldTrump",
          "retweet_count": 18058,
          "text": "Thank you to the LGBT community! I will fight for you while Hillary brings in more people that will threaten your freedoms and beliefs.",
          "time": "2016-06-14T17:31:58"
         },
         {
          "favorite_count": 102655,
          "handle": "HillaryClinton",
          "retweet_count": 51681,
          "text": "\"Trump just criticized me for preparing for this debate. You know what else I prepared for? Being president.\" #DebateNight",
          "time": "2016-09-27T02:01:59"
         },
         {
          "favorite_count": 2861,
          "handle": "HillaryClinton",
          "retweet_count": 769,
          "text": "Let’s make sure that Wall Street and the wealthy pay their fair share of taxes.\n\nLet’s put our families first.",
          "time": "2016-06-27T15:06:33"
         },
         {
          "favorite_count": 27108,
          "handle": "realDonaldTrump",
          "retweet_count": 8269,
          "text": "The documentary of me that @CNN just aired is a total waste of time. I don't even know many of the people who spoke about me. A joke!",
          "time": "2016-09-09T04:10:49"
         },
         {
          "favorite_count": 2072,
          "handle": "HillaryClinton",
          "retweet_count": 1179,
          "text": "Mike Pence introduced himself to America last night. Here's what we learned—and what he forgot to mention: https://t.co/vPZq24FSJh",
          "time": "2016-07-21T20:21:09"
         },
         {
          "favorite_count": 9976,
          "handle": "HillaryClinton",
          "retweet_count": 4953,
          "text": "Trump's idea for a new immigration test: \"Those who...support bigotry and hatred will not be admitted.\"\n\nAwkward. https://t.co/LZoCq7U8NZ",
          "time": "2016-08-16T23:00:00"
         },
         {
          "favorite_count": 3446,
          "handle": "HillaryClinton",
          "retweet_count": 1810,
          "text": "Donald Trump's plan to ban Muslims from entering the United States will make defeating terrorists more difficult.\nhttps://t.co/4RoN9gJiKq",
          "time": "2016-05-20T02:19:12"
         },
         {
          "favorite_count": 307,
          "handle": "HillaryClinton",
          "retweet_count": 169,
          "text": "“Hora de encaminar la ciudadanía plena e igualitaria y arreglar por fin nuestro quebrado sistema migratorio #FightForFamilies” dice Hillary",
          "time": "2016-04-18T22:05:58"
         },
         {
          "favorite_count": 1206,
          "handle": "HillaryClinton",
          "retweet_count": 368,
          "text": "Tune in to watch Hillary speak live with the @NABJ and the @NAHJ: https://t.co/nNYrAM60IC",
          "time": "2016-08-05T16:37:36"
         },
         {
          "favorite_count": 1934,
          "handle": "HillaryClinton",
          "retweet_count": 835,
          "text": "President Trump?\n\nNope: https://t.co/LFfa59OaHX",
          "time": "2016-05-05T03:14:40"
         },
         {
          "favorite_count": 5966,
          "handle": "realDonaldTrump",
          "retweet_count": 1934,
          "text": "Thank you for your interest &amp; support during last nights #GOPDebate! #IACaucus finder: https://t.co/ANvTcZqfOq https://t.co/yadQiPC49g",
          "time": "2016-01-29T13:00:06"
         },
         {
          "favorite_count": 15896,
          "handle": "realDonaldTrump",
          "retweet_count": 5470,
          "text": "Lyin’ Ted Cruz steals foreign policy from me, and lines from Michael Douglas— just another dishonest politician.",
          "time": "2016-03-23T19:45:44"
         },
         {
          "favorite_count": 27729,
          "handle": "realDonaldTrump",
          "retweet_count": 9219,
          "text": "There is no longer a Bernie Sanders \"political revolution.\" He is turning out to be a weak and somewhat pathetic figure,wants it all to end!",
          "time": "2016-07-24T13:27:56"
         },
         {
          "favorite_count": 17466,
          "handle": "realDonaldTrump",
          "retweet_count": 5308,
          "text": "I am always on the front page of the failing @nytimes, but when I won the GOP nomination, I'm in the back of the paper. Very dishonest!",
          "time": "2016-05-28T20:28:48"
         },
         {
          "favorite_count": 3097,
          "handle": "HillaryClinton",
          "retweet_count": 1244,
          "text": "Eight-year-old Noah became part of Hillary's Secret Service detail this weekend. Here's how.\nhttps://t.co/YjqXcoBhpW",
          "time": "2016-04-26T00:48:21"
         },
         {
          "favorite_count": 3539,
          "handle": "HillaryClinton",
          "retweet_count": 1245,
          "text": "\"It matters what we do, not just what we say. It didn’t matter what we called bin Laden—it mattered that we got bin Laden.\" —Hillary",
          "time": "2016-06-14T16:36:11"
         },
         {
          "favorite_count": 6243,
          "handle": "HillaryClinton",
          "retweet_count": 2630,
          "text": ".@TimKaine has a big heart and showed it as a civil rights lawyer, a teacher, a mayor, a governor, and a senator. https://t.co/dT4qZ8hwL8",
          "time": "2016-07-23T00:40:05"
         },
         {
          "favorite_count": 5007,
          "handle": "HillaryClinton",
          "retweet_count": 1542,
          "text": "Families shouldn’t have to spend more than 10% of their income on child care. https://t.co/EYR8iWoYfb",
          "time": "2016-06-22T19:05:39"
         },
         {
          "favorite_count": 10047,
          "handle": "realDonaldTrump",
          "retweet_count": 3796,
          "text": "I am growing the Republican Party tremendously - just look at the numbers, way up! Democrats numbers are significantly down from years past.",
          "time": "2016-02-23T15:47:08"
         },
         {
          "favorite_count": 645,
          "handle": "HillaryClinton",
          "retweet_count": 314,
          "text": "Puerto Rico Zika fact-finding mission for @HillaryClinton. WIC clinics educating &amp; providing kits for pregnant women https://t.co/8DEj6HOKhZ",
          "time": "2016-04-23T19:46:54"
         },
         {
          "favorite_count": 9419,
          "handle": "HillaryClinton",
          "retweet_count": 2314,
          "text": "Thank you, @JoeBiden. https://t.co/z1Jb6CrtzH",
          "time": "2016-07-31T18:55:38"
         },
         {
          "favorite_count": 7201,
          "handle": "HillaryClinton",
          "retweet_count": 2744,
          "text": "Making our economy work for everyone starts by making sure those at the top pay their fair share in taxes.\nhttps://t.co/uDdkrzKL9O",
          "time": "2016-08-03T14:38:32"
         },
         {
          "favorite_count": 7615,
          "handle": "HillaryClinton",
          "retweet_count": 2657,
          "text": "Our first task has to be to make sure that the economic uncertainty created by these events does not hurt working families. #BrexitVote",
          "time": "2016-06-24T14:06:32"
         },
         {
          "favorite_count": 2781,
          "handle": "HillaryClinton",
          "retweet_count": 731,
          "text": "Last night, we put the biggest crack yet in that highest, hardest glass ceiling. Here are the highlights: https://t.co/YcfLdrnu56",
          "time": "2016-07-27T20:04:47"
         },
         {
          "favorite_count": 13832,
          "handle": "HillaryClinton",
          "retweet_count": 7324,
          "text": "Donald Trump is more concerned with pandering to the gun lobby than keeping families safe. #DebateNight https://t.co/LspcUJNUc5",
          "time": "2016-09-27T01:56:13"
         },
         {
          "favorite_count": 9460,
          "handle": "HillaryClinton",
          "retweet_count": 2852,
          "text": "\"Hillary is not somebody who fears the future. She believes that it is ours to shape.\" —@POTUS https://t.co/cSAdZFNa4G",
          "time": "2016-07-11T02:48:43"
         },
         {
          "favorite_count": 2761,
          "handle": "HillaryClinton",
          "retweet_count": 839,
          "text": "\"We're going to work to make the biggest investment in new, good-paying jobs since World War II\" —Hillary https://t.co/6v6XcdsZYa",
          "time": "2016-08-04T20:17:18"
         },
         {
          "favorite_count": 62783,
          "handle": "realDonaldTrump",
          "retweet_count": 24978,
          "text": "Why isn't President Obama working instead of campaigning for Hillary Clinton?",
          "time": "2016-09-14T03:09:37"
         },
         {
          "favorite_count": 9341,
          "handle": "realDonaldTrump",
          "retweet_count": 2385,
          "text": "I will be interviewed on @seanhannity tonight at 10pmE on @FoxNews. Enjoy!",
          "time": "2016-05-31T22:51:56"
         },
         {
          "favorite_count": 29738,
          "handle": "realDonaldTrump",
          "retweet_count": 14944,
          "text": "#MakeAmericaSafeAgain https://t.co/5yuLKyh8Q6",
          "time": "2016-08-05T20:03:29"
         },
         {
          "favorite_count": 4782,
          "handle": "realDonaldTrump",
          "retweet_count": 1599,
          "text": "Really disgusting that the failing New York Times allows dishonest writers to totally fabricate stories.",
          "time": "2016-01-19T14:44:43"
         },
         {
          "favorite_count": 10833,
          "handle": "HillaryClinton",
          "retweet_count": 3229,
          "text": ".@timkaine That's what we @Wellesley girls do! And it's so clear @HillaryClinton is the only candidate prepared to be president #debatenight",
          "time": "2016-09-27T03:52:39"
         },
         {
          "favorite_count": 21721,
          "handle": "realDonaldTrump",
          "retweet_count": 4737,
          "text": "Just landed in New York - a one night stay in Scotland. Turnberry came out magnificently. My son, Eric, did a great job - under budget!",
          "time": "2016-06-26T03:32:05"
         },
         {
          "favorite_count": 6892,
          "handle": "HillaryClinton",
          "retweet_count": 2947,
          "text": "If you're a fan of weekends, thank a union member. https://t.co/RUF2UtG2sM",
          "time": "2016-09-05T14:12:02"
         },
         {
          "favorite_count": 6446,
          "handle": "realDonaldTrump",
          "retweet_count": 1737,
          "text": "\"@SkylerDeckard: @realDonaldTrump \"that's because you've never hired anyone to do work before\" favorite line from tonights debate.\"",
          "time": "2016-02-26T12:27:33"
         },
         {
          "favorite_count": 7282,
          "handle": "realDonaldTrump",
          "retweet_count": 2680,
          "text": "Ted Cruz is lying again. Polls are showing that I do beat Hillary Clinton head to head. Check out https://t.co/45g7qpxq7T Poll snd Q Poll.",
          "time": "2016-02-25T02:20:19"
         },
         {
          "favorite_count": 8888,
          "handle": "realDonaldTrump",
          "retweet_count": 3234,
          "text": "\"@VictorConkle: #WIPrimary @realDonaldTrump will defeat ISIS and #MakeAmericaGreatAgain https://t.co/VWIJ7jUTaV\"",
          "time": "2016-03-28T01:36:28"
         },
         {
          "favorite_count": 20137,
          "handle": "realDonaldTrump",
          "retweet_count": 5749,
          "text": "Thank you to the Governor of Florida, Rick Scott, for your endorsement. I greatly appreciate your support!",
          "time": "2016-03-16T17:14:37"
         },
         {
          "favorite_count": 29255,
          "handle": "realDonaldTrump",
          "retweet_count": 11907,
          "text": "Wow, just announced that Lyin' Ted and Kasich are going to collude in order to keep me from getting the Republican nomination. DESPERATION!",
          "time": "2016-04-25T03:39:58"
         },
         {
          "favorite_count": 2935,
          "handle": "HillaryClinton",
          "retweet_count": 1400,
          "text": "Trump asked what the African American community has to lose by voting for him. @MarlonDMarshall's response: https://t.co/ZJtX7d49bM",
          "time": "2016-08-25T21:06:31"
         },
         {
          "favorite_count": 3670,
          "handle": "HillaryClinton",
          "retweet_count": 836,
          "text": "Wish @POTUS a happy birthday. Sign his card: https://t.co/YroKwbRvYX",
          "time": "2016-08-04T21:38:15"
         },
         {
          "favorite_count": 6391,
          "handle": "HillaryClinton",
          "retweet_count": 2293,
          "text": "\"We don’t turn against each other—no, we listen to each other. We lean on each other because we are always stronger together.\" —@FLOTUS",
          "time": "2016-07-26T02:15:11"
         },
         {
          "favorite_count": 2193,
          "handle": "HillaryClinton",
          "retweet_count": 1135,
          "text": "\"We want to bring unity to the Republican party.\" —@realDonaldTrump\n\nGood luck with that.\nhttps://t.co/MPLsSpV8am",
          "time": "2016-05-12T16:42:27"
         },
         {
          "favorite_count": 2283,
          "handle": "HillaryClinton",
          "retweet_count": 611,
          "text": ".@JoeBiden’s hitting the trail with Hillary in Scranton, folks. Tune in now: https://t.co/zFvHUT7UQ2 https://t.co/xbqUILQKGB",
          "time": "2016-08-15T17:05:35"
         },
         {
          "favorite_count": 9000,
          "handle": "HillaryClinton",
          "retweet_count": 4859,
          "text": "We all know Donald Trump says offensive things about women. Here's what he says about policies that benefit women.\nhttps://t.co/YMV0rvwFnf",
          "time": "2016-04-23T02:18:39"
         },
         {
          "favorite_count": 2251,
          "handle": "HillaryClinton",
          "retweet_count": 1189,
          "text": "\"Clinton’s economic policies...will result in a stronger U.S. economy.” —Mark Zandi, John McCain's economic advisor https://t.co/eLL6iQNEWY",
          "time": "2016-08-08T16:22:24"
         },
         {
          "favorite_count": 14147,
          "handle": "realDonaldTrump",
          "retweet_count": 5078,
          "text": "Thank you Georgia! 15,000 amazing supporters tonight! Everyone get out &amp; #VoteTrump tomorrow! #SuperTuesday https://t.co/jNA5YON6hA",
          "time": "2016-03-01T01:43:56"
         },
         {
          "favorite_count": 5454,
          "handle": "realDonaldTrump",
          "retweet_count": 1972,
          "text": "Fox News Poll\nThank you, New Hampshire! #FITN\n#Trump2016 https://t.co/jC1qisBbit",
          "time": "2016-01-24T21:06:22"
         },
         {
          "favorite_count": 6297,
          "handle": "HillaryClinton",
          "retweet_count": 3671,
          "text": "Trump's extreme immigration speech got rave reviews—from white supremacists, the alt-right, and Ann Coulter. https://t.co/TeYcDQeYCg",
          "time": "2016-09-01T12:58:51"
         },
         {
          "favorite_count": 2879,
          "handle": "HillaryClinton",
          "retweet_count": 1079,
          "text": "Eight reasons why you shouldn't need a four-year degree to have a successful career: https://t.co/QhJE8VdLWT",
          "time": "2016-08-30T20:17:43"
         },
         {
          "favorite_count": 13325,
          "handle": "realDonaldTrump",
          "retweet_count": 4145,
          "text": "Join me in Fayetteville, North Carolina tomorrow evening at 6pm. Tickets now available at: https://t.co/Z80d4MYIg8",
          "time": "2016-08-08T13:28:20"
         },
         {
          "favorite_count": 506,
          "handle": "HillaryClinton",
          "retweet_count": 241,
          "text": "EN VIVO: Trump ha estado involucrado en más de 5,500 demandas. Vamos a intentar leerlas todas en 4 horas: https://t.co/zYr4XbPwv2",
          "time": "2016-07-19T18:04:13"
         },
         {
          "favorite_count": 12655,
          "handle": "HillaryClinton",
          "retweet_count": 3002,
          "text": "Yesterday, @ShotDiva made Olympic history with her gold medal in women's shot put (@TeamUSA's first!). https://t.co/ih1HYqnP8U",
          "time": "2016-08-14T23:43:40"
         },
         {
          "favorite_count": 10723,
          "handle": "realDonaldTrump",
          "retweet_count": 4335,
          "text": "Boycott all Apple products  until such time as Apple gives cellphone info to authorities regarding radical Islamic terrorist couple from Cal",
          "time": "2016-02-19T21:38:07"
         },
         {
          "favorite_count": 21376,
          "handle": "realDonaldTrump",
          "retweet_count": 5944,
          "text": "Just heard that crazy and very dumb @morningmika had a mental breakdown while talking about me on the low ratings @Morning_Joe. Joe a mess!",
          "time": "2016-09-02T12:28:58"
         },
         {
          "favorite_count": 8984,
          "handle": "realDonaldTrump",
          "retweet_count": 3190,
          "text": "Lightweight Senator Marco Rubio is polling very poorly in Florida. The people can't stand him for missing so many votes - poor work ethic!",
          "time": "2016-02-28T17:53:29"
         },
         {
          "favorite_count": 7032,
          "handle": "HillaryClinton",
          "retweet_count": 1814,
          "text": "“I married my best friend. I was still in awe of…how smart and strong and loving and caring she was.” —@BillClinton on Hillary",
          "time": "2016-07-27T02:27:14"
         },
         {
          "favorite_count": 5200,
          "handle": "realDonaldTrump",
          "retweet_count": 1390,
          "text": "Just left a great event in Pella. Going to church tomorrow in Muscatine, Iowa.",
          "time": "2016-01-23T23:36:30"
         },
         {
          "favorite_count": 4103,
          "handle": "realDonaldTrump",
          "retweet_count": 1179,
          "text": "\"@Rick_Gobbi: @realDonaldTrump ...Hold up a mirror so the network cameras show how big the crowd is.\"  GREAT IDEA!",
          "time": "2016-01-28T11:44:38"
         },
         {
          "favorite_count": 4568,
          "handle": "HillaryClinton",
          "retweet_count": 1675,
          "text": "Thank you, Connecticut. https://t.co/dEF36fIGyu",
          "time": "2016-04-27T02:37:28"
         },
         {
          "favorite_count": 3291,
          "handle": "realDonaldTrump",
          "retweet_count": 1229,
          "text": "Constitutional law expert  #Laurence Tribe of Harvard says \"wrong to say it (natural born citizen) is a settled matter-it isn't settled).",
          "time": "2016-01-09T15:41:44"
         },
         {
          "favorite_count": 3256,
          "handle": "realDonaldTrump",
          "retweet_count": 1238,
          "text": "VIDEO: @realDonaldTrump announces 'a very powerful endorsement' will be coming today.  https://t.co/cJsMBcVcdY",
          "time": "2016-01-26T12:47:17"
         },
         {
          "favorite_count": 5913,
          "handle": "realDonaldTrump",
          "retweet_count": 1570,
          "text": "My wife Melania will be on @Morning_Joe  tomorrow morning at 8:00. Interviewed by @morningmika - Enjoy!",
          "time": "2016-02-24T01:45:21"
         },
         {
          "favorite_count": 2068,
          "handle": "HillaryClinton",
          "retweet_count": 539,
          "text": "Listen in from Johnstown, PA as Hillary and @TimKaine discuss innovation and manufacturing: https://t.co/ESV9yL7umg",
          "time": "2016-07-30T19:53:25"
         },
         {
          "favorite_count": 4587,
          "handle": "HillaryClinton",
          "retweet_count": 1667,
          "text": "\"He preyed on...people who had fallen on hard times. He’s conned them, he’s defrauded them, and he’s ripped them off.” —Warren on Trump",
          "time": "2016-07-26T02:34:01"
         },
         {
          "favorite_count": 4171,
          "handle": "realDonaldTrump",
          "retweet_count": 1462,
          "text": "#Trump2016 #IACaucus Finder:\nhttps://t.co/ANvTcZqfOq https://t.co/1vjCHYYlzU",
          "time": "2016-01-28T15:50:02"
         },
         {
          "favorite_count": 10505,
          "handle": "realDonaldTrump",
          "retweet_count": 4957,
          "text": "https://t.co/ZQ0osiFEJQ",
          "time": "2016-03-11T17:58:24"
         },
         {
          "favorite_count": 1955,
          "handle": "HillaryClinton",
          "retweet_count": 631,
          "text": "\"Hillary Clinton may be our 1st woman president. But she will not be our last. Once that barrier falls, it will never... be put back up.\"",
          "time": "2016-07-27T22:54:18"
         },
         {
          "favorite_count": 9315,
          "handle": "HillaryClinton",
          "retweet_count": 2817,
          "text": "A note from Hillary. https://t.co/LHSZvl7ODF",
          "time": "2016-06-09T01:01:27"
         },
         {
          "favorite_count": 6242,
          "handle": "HillaryClinton",
          "retweet_count": 2139,
          "text": "“So guess what Donald? It turns out America is pretty great already.” —@EvaLongoria #DemsInPhilly",
          "time": "2016-07-26T01:36:51"
         },
         {
          "favorite_count": 1740,
          "handle": "HillaryClinton",
          "retweet_count": 793,
          "text": "Back when she was New York's senator, @HillaryClinton fought political attacks on access to emergency contraception: https://t.co/YEhvJjyQBP",
          "time": "2016-08-29T15:52:21"
         },
         {
          "favorite_count": 2165,
          "handle": "HillaryClinton",
          "retweet_count": 866,
          "text": "Under @POTUS and @JoeBiden:\n✓ Our businesses created 15 million new jobs.\n✓ 20 million people have health care.\nhttps://t.co/2SCUXK3VAP",
          "time": "2016-08-15T17:16:13"
         },
         {
          "favorite_count": 3923,
          "handle": "HillaryClinton",
          "retweet_count": 2194,
          "text": "Love this.\n\n\"@HillaryClinton has spent her life fighting for children—here are 8 ways she’s changed their lives.\" \n\nhttps://t.co/7goGIa0Ag0",
          "time": "2016-09-15T21:16:27"
         },
         {
          "favorite_count": 13633,
          "handle": "realDonaldTrump",
          "retweet_count": 5213,
          "text": "\"@Trump_Videos: .@Nigel_Farage of the #brexit fame - We CAN do this! We can #MAGA with @realDonaldTrump https://t.co/1qyuc8ZykJ\"",
          "time": "2016-08-25T04:34:00"
         },
         {
          "favorite_count": 13400,
          "handle": "realDonaldTrump",
          "retweet_count": 4295,
          "text": "Thank you Alex!  https://t.co/c2uIa7mndP",
          "time": "2016-08-08T22:06:25"
         },
         {
          "favorite_count": 18734,
          "handle": "realDonaldTrump",
          "retweet_count": 5504,
          "text": "Crazy Maureen Dowd, the wacky columnist for the failing @nytimes, pretends she knows me well--wrong!",
          "time": "2016-09-17T17:29:26"
         },
         {
          "favorite_count": 9560,
          "handle": "HillaryClinton",
          "retweet_count": 6158,
          "text": "\"They have to go.\"\n\nTrump has been perfectly clear about his intentions for millions of immigrants. https://t.co/kZ6hdDWrFt",
          "time": "2016-08-31T17:32:37"
         },
         {
          "favorite_count": 9479,
          "handle": "HillaryClinton",
          "retweet_count": 5088,
          "text": "Watch this before you watch tonight's debate. #DebateNight https://t.co/vnC4bMrS0Q",
          "time": "2016-09-26T20:30:05"
         },
         {
          "favorite_count": 2133,
          "handle": "HillaryClinton",
          "retweet_count": 729,
          "text": "We can be the clean energy superpower of the 21st Century. https://t.co/Zb8w0tLYkS",
          "time": "2016-08-10T19:37:25"
         },
         {
          "favorite_count": 8186,
          "handle": "HillaryClinton",
          "retweet_count": 2410,
          "text": "We launched an all-Spanish Twitter account, @Hillary_esp, because we believe in bringing as many people as possible into this conversation.",
          "time": "2016-08-05T16:49:25"
         },
         {
          "favorite_count": 4884,
          "handle": "HillaryClinton",
          "retweet_count": 1998,
          "text": "Trump says, “I love playing with debt.” Someone should tell him our economy isn’t a game. https://t.co/CoTyTjMvS6",
          "time": "2016-06-22T01:02:13"
         },
         {
          "favorite_count": 6438,
          "handle": "HillaryClinton",
          "retweet_count": 3750,
          "text": "Being president isn't like being on a reality show.\n\nWe can't afford a candidate who treats it like one. https://t.co/48MePwjHh9",
          "time": "2016-05-17T02:07:43"
         },
         {
          "favorite_count": 17916,
          "handle": "HillaryClinton",
          "retweet_count": 8823,
          "text": ".@TimKaine's guiding principle: the belief that you can make a difference through public service. https://t.co/YopSUeMqOX",
          "time": "2016-07-23T00:28:27"
         },
         {
          "favorite_count": 4374,
          "handle": "realDonaldTrump",
          "retweet_count": 1619,
          "text": "Bob Dole Warns of ‘Cataclysmic’ Losses With Ted Cruz, and Says Donald Trump Would Do Better via New York Times: https://t.co/txEaLrZ4uY",
          "time": "2016-01-20T23:40:20"
         },
         {
          "favorite_count": 10162,
          "handle": "HillaryClinton",
          "retweet_count": 2056,
          "text": "Last night, swimmer @KatieLedecky won gold and broke her own world record in the 400m freestyle. Congrats, Katie! https://t.co/db79swBbOr",
          "time": "2016-08-08T20:30:14"
         },
         {
          "favorite_count": 15507,
          "handle": "realDonaldTrump",
          "retweet_count": 6433,
          "text": "#Imwithyou https://t.co/tan8BmAuR8 https://t.co/5EZ7X1ZZKh",
          "time": "2016-06-22T21:39:43"
         },
         {
          "favorite_count": 12568,
          "handle": "realDonaldTrump",
          "retweet_count": 3722,
          "text": "Wow, in the new CBS Poll I went way up into the forties! Thank you!",
          "time": "2016-02-14T21:10:20"
         },
         {
          "favorite_count": 2351,
          "handle": "realDonaldTrump",
          "retweet_count": 801,
          "text": "\"@CyberCiety: #MaryBrigidMcManamon clarified how #CommonLaw is used to interpret meaning of #NaturalBorn #TedCruz https://t.co/5y6SZrTdGr\"",
          "time": "2016-01-22T14:00:47"
         },
         {
          "favorite_count": 2625,
          "handle": "HillaryClinton",
          "retweet_count": 1364,
          "text": "We're facing a candidate with a history of discrimination in his businesses, who retweets white supremacists, and led the birther movement.",
          "time": "2016-09-19T16:52:41"
         },
         {
          "favorite_count": 17763,
          "handle": "realDonaldTrump",
          "retweet_count": 9008,
          "text": "MAKE AMERICA GREAT AGAIN!",
          "time": "2016-02-19T21:51:51"
         },
         {
          "favorite_count": 4524,
          "handle": "HillaryClinton",
          "retweet_count": 2453,
          "text": "Donald Trump's foreign policy is already making Americans less safe, and he's not even president (yet).\nhttps://t.co/JTuxfXlZl8",
          "time": "2016-06-03T01:01:37"
         },
         {
          "favorite_count": 6195,
          "handle": "HillaryClinton",
          "retweet_count": 3653,
          "text": "These headlines on Trump's lies are from just one week of his campaign.\n\nImagine four years of his presidency. https://t.co/FE1hZ7MmR6",
          "time": "2016-09-26T18:04:36"
         },
         {
          "favorite_count": 4343,
          "handle": "HillaryClinton",
          "retweet_count": 2751,
          "text": "New documents confirm Trump \"University\" was a scam that preyed on families to make money. Caution—may cause nausea. https://t.co/d2qYRLKsou",
          "time": "2016-06-01T15:45:50"
         },
         {
          "favorite_count": 3607,
          "handle": "HillaryClinton",
          "retweet_count": 1373,
          "text": "Proud the U.S. is signing the Paris climate deal. What better way to celebrate Earth Day than taking action to help save our planet? -H",
          "time": "2016-04-22T15:12:49"
         },
         {
          "favorite_count": 22634,
          "handle": "realDonaldTrump",
          "retweet_count": 9707,
          "text": ".@HillaryClinton has been part of the rigged DC system for 30 years? Why would we take policy advice from her? #Debates2016",
          "time": "2016-09-27T01:28:50"
         },
         {
          "favorite_count": 16226,
          "handle": "realDonaldTrump",
          "retweet_count": 5977,
          "text": "#LaborDay #AmericaFirst\nVideo: https://t.co/RNl7cfzkmN https://t.co/ZqRtbV4KRI",
          "time": "2016-09-05T14:09:28"
         },
         {
          "favorite_count": 25711,
          "handle": "realDonaldTrump",
          "retweet_count": 10351,
          "text": "Great new poll Iowa - thank you!\n#MakeAmericaGreatAgain #ImWithYou https://t.co/7hupah1RQN",
          "time": "2016-09-02T16:55:57"
         },
         {
          "favorite_count": 36990,
          "handle": "realDonaldTrump",
          "retweet_count": 14388,
          "text": "Mainstream media never covered Hillary’s massive “hacking”\nor coughing attack, yet it is #1 trending. What’s up?",
          "time": "2016-09-06T15:31:09"
         },
         {
          "favorite_count": 7155,
          "handle": "HillaryClinton",
          "retweet_count": 2999,
          "text": "“Patriotism is love of country. But you can’t love your country without loving your countrymen and your countrywomen.” —@CoryBooker",
          "time": "2016-07-26T01:41:56"
         },
         {
          "favorite_count": 21041,
          "handle": "realDonaldTrump",
          "retweet_count": 7196,
          "text": "Crooked Hillary just took a major ad of me playing golf at Turnberry. Shows me hitting shot, but I never did = lie! Was there to support son",
          "time": "2016-06-26T16:06:23"
         },
         {
          "favorite_count": 14227,
          "handle": "realDonaldTrump",
          "retweet_count": 6159,
          "text": "MAKE AMERICA GREAT AGAIN!\nhttps://t.co/0w4ldD7dW3",
          "time": "2016-03-29T19:38:03"
         },
         {
          "favorite_count": 3761,
          "handle": "HillaryClinton",
          "retweet_count": 1283,
          "text": "We must fight for criminal justice reform. Everyone is safer when there is respect for the law and when everyone is respected by the law.",
          "time": "2016-07-18T16:53:44"
         },
         {
          "favorite_count": 3358,
          "handle": "realDonaldTrump",
          "retweet_count": 1158,
          "text": "@montgomeriefdn  Colin, great to have you at Trump Turnberry. So proud of you and your GREAT playing! You made winning MAJORS look easy!",
          "time": "2016-05-20T23:36:17"
         },
         {
          "favorite_count": 1680,
          "handle": "HillaryClinton",
          "retweet_count": 889,
          "text": "Women still face too many barriers—a president shouldn't be part of the problem. Comments like Trump's set us back.",
          "time": "2016-04-27T18:38:55"
         },
         {
          "favorite_count": 1466,
          "handle": "HillaryClinton",
          "retweet_count": 969,
          "text": "So this is kind of scary... https://t.co/8t63MRC9x6 https://t.co/qaCWNBd0bq",
          "time": "2016-07-18T19:50:35"
         },
         {
          "favorite_count": 3046,
          "handle": "HillaryClinton",
          "retweet_count": 823,
          "text": "\"Thank you for loving all people, especially 'the least, the last, and the lost' among us.\" —Hillary to the @nbcusa_inc",
          "time": "2016-09-08T23:05:06"
         },
         {
          "favorite_count": 33162,
          "handle": "realDonaldTrump",
          "retweet_count": 13779,
          "text": "Hillary defrauded America as Secy of State. She used it as a personal hedge fund to get herself rich! Corrupt, dangerous, dishonest.",
          "time": "2016-06-21T17:19:22"
         },
         {
          "favorite_count": 22545,
          "handle": "realDonaldTrump",
          "retweet_count": 6789,
          "text": "I have never liked the media term 'mass deportation' -- but we must enforce the laws of the land!",
          "time": "2016-06-26T02:39:23"
         },
         {
          "favorite_count": 15217,
          "handle": "realDonaldTrump",
          "retweet_count": 4951,
          "text": "Lying Ted Cruz and lightweight choker  Marco Rubio teamed up last night in a last ditch effort to stop our great movement. They failed!",
          "time": "2016-02-26T16:15:06"
         },
         {
          "favorite_count": 2463,
          "handle": "HillaryClinton",
          "retweet_count": 1163,
          "text": "The week after 9/11, George W. Bush went to a mosque and declared for everyone to hear that Muslims 'love America just as much as I do.'",
          "time": "2016-08-25T19:39:42"
         },
         {
          "favorite_count": 7221,
          "handle": "HillaryClinton",
          "retweet_count": 2537,
          "text": "In America, if you can dream it, you should be able to build it.\nhttps://t.co/xduxyCcwj3",
          "time": "2016-08-07T22:30:44"
         },
         {
          "favorite_count": 12284,
          "handle": "realDonaldTrump",
          "retweet_count": 3659,
          "text": "Thank you!  https://t.co/4p0hzpkVWF",
          "time": "2016-08-08T22:12:21"
         },
         {
          "favorite_count": 11686,
          "handle": "realDonaldTrump",
          "retweet_count": 3549,
          "text": "\"@FoxBusiness: .@RepTomMarino: I think @realDonaldTrump can beat HillaryClinton. And I'm looking forward to Trump being president.",
          "time": "2016-03-16T13:34:19"
         },
         {
          "favorite_count": 7230,
          "handle": "realDonaldTrump",
          "retweet_count": 4894,
          "text": ".@NikkiHaley in 2012 w/ Romney on tax returns🤔(political ploy.) Fast forward..2016 w/ Robot Rubio🤖\n#FAIL👎#Politician https://t.co/Kxe5AKaTQD",
          "time": "2016-03-01T19:14:43"
         },
         {
          "favorite_count": 1004,
          "handle": "HillaryClinton",
          "retweet_count": 766,
          "text": "While American families suffered, Donald Trump tried to cash in. \n\nhttps://t.co/BvkHu63H1h",
          "time": "2016-05-24T14:31:23"
         },
         {
          "favorite_count": 24215,
          "handle": "realDonaldTrump",
          "retweet_count": 5219,
          "text": "Congratulations to my son, Eric, on the fantastic job he has done in rebuilding Turnberry, and its great Ailsa Course. Always support kids!",
          "time": "2016-06-24T00:58:06"
         },
         {
          "favorite_count": 10537,
          "handle": "realDonaldTrump",
          "retweet_count": 2698,
          "text": "Will be in South Bend, Indiana in a short while -- big rally! See you soon!",
          "time": "2016-05-02T22:24:06"
         },
         {
          "favorite_count": 8386,
          "handle": "HillaryClinton",
          "retweet_count": 2851,
          "text": "There's only one candidate in this election who's ready to be America's Commander-in-Chief. https://t.co/NarHADLKi2",
          "time": "2016-09-08T12:09:47"
         },
         {
          "favorite_count": 9680,
          "handle": "HillaryClinton",
          "retweet_count": 4515,
          "text": "When we stand together - as white, black and hispanic, gay and straight, women and men - we trump hate. https://t.co/B8aVUwudDc",
          "time": "2016-09-18T18:43:36"
         },
         {
          "favorite_count": 4812,
          "handle": "HillaryClinton",
          "retweet_count": 1416,
          "text": "\"She’s insatiably curious, she’s a natural leader, she’s a good organizer, and she’s the best darn changemaker I’ve seen.” —@BillClinton",
          "time": "2016-07-27T02:36:31"
         },
         {
          "favorite_count": 4326,
          "handle": "HillaryClinton",
          "retweet_count": 1404,
          "text": "“I don’t understand people who trash talk about America…who act as if we are not yet the greatest country that has ever been created.”",
          "time": "2016-07-25T15:51:36"
         },
         {
          "favorite_count": 8944,
          "handle": "HillaryClinton",
          "retweet_count": 4156,
          "text": "A man who talks about our veterans and military families like this doesn't deserve to be Commander-in-Chief. https://t.co/4s6SvAAyNA",
          "time": "2016-09-07T21:00:45"
         },
         {
          "favorite_count": 7312,
          "handle": "realDonaldTrump",
          "retweet_count": 1525,
          "text": "I will be interviewed on @foxandfriends at 7:00 A.M. Enjoy!",
          "time": "2016-04-11T10:45:01"
         },
         {
          "favorite_count": 84089,
          "handle": "realDonaldTrump",
          "retweet_count": 29853,
          "text": "Not one American flag on the massive stage at the Democratic National Convention until people started complaining-then a small one. Pathetic",
          "time": "2016-07-27T13:01:03"
         },
         {
          "favorite_count": 22420,
          "handle": "realDonaldTrump",
          "retweet_count": 8902,
          "text": ".@Franklin_Graham @BillyNungesser @SamaritansPurse- so humbled by my time w/ you. You are in our thoughts &amp; prayers. https://t.co/I6xGsEzlwv",
          "time": "2016-08-20T01:14:08"
         },
         {
          "favorite_count": 25767,
          "handle": "realDonaldTrump",
          "retweet_count": 9254,
          "text": "Have a great Memorial Day and remember that we will soon MAKE AMERICA GREAT AGAIN!",
          "time": "2016-05-30T11:26:47"
         },
         {
          "favorite_count": 17781,
          "handle": "realDonaldTrump",
          "retweet_count": 4813,
          "text": "\"@tweak626: I'm at a biker rally in Perry, Kansas...and everyone is a @realDonaldTrump fan. Love it.\"",
          "time": "2016-09-05T03:58:39"
         },
         {
          "favorite_count": 11125,
          "handle": "realDonaldTrump",
          "retweet_count": 4112,
          "text": "Why would Texans vote for \"liar\" Ted Cruz when he was born in Canada, lived there for 4 years-and remained a Canadian citizen until recently",
          "time": "2016-02-24T23:45:06"
         },
         {
          "favorite_count": 1269,
          "handle": "HillaryClinton",
          "retweet_count": 401,
          "text": "You still have a chance to be a part of history and join Hillary at the #DemsInPhilly on Thursday. Enter here: https://t.co/vWnnKOeGFP",
          "time": "2016-07-26T01:17:31"
         },
         {
          "favorite_count": 27661,
          "handle": "realDonaldTrump",
          "retweet_count": 9124,
          "text": "Thoughts and prayers are with everyone in West Virginia- dealing with the devastating floods. #ImWithYou",
          "time": "2016-06-25T04:29:41"
         },
         {
          "favorite_count": 13822,
          "handle": "realDonaldTrump",
          "retweet_count": 3471,
          "text": "Senator Tom Cotton was great on Meet the Press yesterday. Despite a totally one-sided interview by Chuck Todd, the end result was solid!",
          "time": "2016-07-04T13:56:34"
         },
         {
          "favorite_count": 18322,
          "handle": "HillaryClinton",
          "retweet_count": 9349,
          "text": "This moment is for every little girl who dreams big. #WeMadeHistory\nhttps://t.co/DRAJuUUhOr",
          "time": "2016-07-26T23:15:36"
         },
         {
          "favorite_count": 3218,
          "handle": "HillaryClinton",
          "retweet_count": 1665,
          "text": "Leading charity watchdogs agree: the work of the @ClintonFdn earns the highest marks across the board. https://t.co/wOqMvnnUNS",
          "time": "2016-09-12T17:50:34"
         },
         {
          "favorite_count": 10530,
          "handle": "realDonaldTrump",
          "retweet_count": 3703,
          "text": "New Hampshire vote today -  MAKE AMERICA GREAT AGAIN!",
          "time": "2016-02-09T16:46:17"
         },
         {
          "favorite_count": 7578,
          "handle": "realDonaldTrump",
          "retweet_count": 1739,
          "text": "HAPPY BIRTHDAY to my son, @EricTrump! Very proud of you!\nhttps://t.co/ZHMKIqnUwL https://t.co/IJzW2NDJyA",
          "time": "2016-01-06T15:01:58"
         },
         {
          "favorite_count": 14653,
          "handle": "realDonaldTrump",
          "retweet_count": 4140,
          "text": "Thank you Pittsburgh, Pennsylvania! Will be back soon! #AmericaFirst https://t.co/ttLMgInkdA",
          "time": "2016-06-11T22:10:40"
         },
         {
          "favorite_count": 4134,
          "handle": "HillaryClinton",
          "retweet_count": 2742,
          "text": "As a Mexican-American, I truly fear the consequences of his anti-Mexican rhetoric. This is not funny.  https://t.co/tjAM9VIagw",
          "time": "2016-06-30T23:17:02"
         },
         {
          "favorite_count": 11426,
          "handle": "realDonaldTrump",
          "retweet_count": 3030,
          "text": "I had a great day campaigning in Connecticut. Looking for a big vote on Tuesday!",
          "time": "2016-04-24T01:41:57"
         },
         {
          "favorite_count": 13034,
          "handle": "HillaryClinton",
          "retweet_count": 5283,
          "text": "\"Don’t let anyone ever tell you that this country isn’t great...This, right now, is the greatest country on earth.\" —@FLOTUS #DemsInPhilly",
          "time": "2016-07-26T02:20:08"
         },
         {
          "favorite_count": 3836,
          "handle": "HillaryClinton",
          "retweet_count": 1411,
          "text": "\"We’re siding with students and with every American seeking an affordable college degree.\" —@TimKaine https://t.co/qa9qO4AFxW",
          "time": "2016-09-17T18:38:45"
         },
         {
          "favorite_count": 28028,
          "handle": "realDonaldTrump",
          "retweet_count": 8448,
          "text": "Pocahontas wanted V.P. slot so badly but wasn't chosen because she has done nothing in the Senate. Also, Crooked Hillary hates her!",
          "time": "2016-07-23T10:42:10"
         },
         {
          "favorite_count": 13013,
          "handle": "HillaryClinton",
          "retweet_count": 7454,
          "text": "A man with this much contempt and disrespect for women has no business becoming president. https://t.co/eaOpDVixJD",
          "time": "2016-06-11T01:35:08"
         },
         {
          "favorite_count": 3805,
          "handle": "HillaryClinton",
          "retweet_count": 1391,
          "text": "“We have to decide whether we’re going to work together so we can all rise together.” —Hillary",
          "time": "2016-07-29T02:39:12"
         },
         {
          "favorite_count": 2740,
          "handle": "HillaryClinton",
          "retweet_count": 1272,
          "text": "When we stand together against the other side's hateful words, we all rise.\nhttps://t.co/UagcfYANnR",
          "time": "2016-05-02T20:00:37"
         },
         {
          "favorite_count": 13889,
          "handle": "realDonaldTrump",
          "retweet_count": 5983,
          "text": "Statement on Clinton Foundation:\nhttps://t.co/2twuzrB9om",
          "time": "2016-08-22T12:55:40"
         },
         {
          "favorite_count": 3403,
          "handle": "HillaryClinton",
          "retweet_count": 2498,
          "text": "Trump U is devastating because it's metaphor for his whole campaign: promising hardworking Americans way to get ahead, but all based on lies",
          "time": "2016-06-01T14:40:46"
         },
         {
          "favorite_count": 9710,
          "handle": "HillaryClinton",
          "retweet_count": 4805,
          "text": "Trump says, \"I know more about ISIS than the generals do, believe me.\" \n\nYou know what? We don't.\nhttps://t.co/OynjnrpRbJ",
          "time": "2016-08-15T12:31:18"
         },
         {
          "favorite_count": 5214,
          "handle": "realDonaldTrump",
          "retweet_count": 1298,
          "text": "I will be on Meet the Press with Chuck Todd on NBC this morning. Enjoy! https://t.co/EIYyfFtnPs",
          "time": "2016-02-07T13:46:44"
         },
         {
          "favorite_count": 4821,
          "handle": "realDonaldTrump",
          "retweet_count": 1981,
          "text": "I said this was happening long ago- I will stop this immediately! \nhttps://t.co/IWXGbBVwvT",
          "time": "2016-02-06T03:10:23"
         },
         {
          "favorite_count": 4915,
          "handle": "realDonaldTrump",
          "retweet_count": 1221,
          "text": "\"@LoreWestphal @realDonaldTrump You MUST win the Presidency in 2016 !!!\"",
          "time": "2016-02-02T19:21:24"
         },
         {
          "favorite_count": 11350,
          "handle": "realDonaldTrump",
          "retweet_count": 2648,
          "text": "I am on @FoxNews with @greta doing a town hall, from Wisconsin- now! Enjoy!\n#MakeAmericaGreatAgain #Trump2016",
          "time": "2016-04-04T00:14:13"
         },
         {
          "favorite_count": 14701,
          "handle": "realDonaldTrump",
          "retweet_count": 4560,
          "text": "Thank you Speaker @PRyan!\n#AmericaFirst #Trump2016  https://t.co/PPsyxGPdFc",
          "time": "2016-07-07T20:09:59"
         },
         {
          "favorite_count": 3758,
          "handle": "realDonaldTrump",
          "retweet_count": 1242,
          "text": "\"@ArkaysDesign: @slone @realDonaldTrump Have to get people of all ages out to vote for Donald Trump!\"",
          "time": "2016-01-06T03:55:38"
         },
         {
          "favorite_count": 2912,
          "handle": "HillaryClinton",
          "retweet_count": 1273,
          "text": ".@HillaryClinton is the best choice for president of the United States: https://t.co/PhRr4uzByZ https://t.co/9884WcdFhP",
          "time": "2016-08-18T12:03:17"
         },
         {
          "favorite_count": 14167,
          "handle": "realDonaldTrump",
          "retweet_count": 4489,
          "text": "Just another desperate move by the man who should have easily beaten Barrack Obama. (2/2)",
          "time": "2016-03-02T23:34:13"
         },
         {
          "favorite_count": 14815,
          "handle": "realDonaldTrump",
          "retweet_count": 3553,
          "text": "On my way to see the great people of Maine. Will be landing in Portland in 2 hours. Look forward to it! #Trump2016",
          "time": "2016-03-03T16:09:34"
         },
         {
          "favorite_count": 4164,
          "handle": "HillaryClinton",
          "retweet_count": 2418,
          "text": "15. To what extent are you and your family currently contractually tied to payments from foreign business partners, or governments?",
          "time": "2016-09-14T16:51:39"
         },
         {
          "favorite_count": 22791,
          "handle": "realDonaldTrump",
          "retweet_count": 8507,
          "text": "Cruz said Kasich should leave because he couldn't get to 1237. Now he can't get to 1237. Drop out LYIN' Ted.",
          "time": "2016-04-21T22:16:27"
         },
         {
          "favorite_count": 1282,
          "handle": "HillaryClinton",
          "retweet_count": 750,
          "text": "Uno no se intimida cuando se tienen que denunciar abusos a los derechos humanos.\nhttps://t.co/ULMzosJ2Dr",
          "time": "2016-04-23T23:48:11"
         },
         {
          "favorite_count": 7157,
          "handle": "HillaryClinton",
          "retweet_count": 2041,
          "text": "\"America, you have vindicated that hope these past eight years. And now I’m ready to pass the baton.” —@POTUS",
          "time": "2016-07-28T03:40:42"
         },
         {
          "favorite_count": 3455,
          "handle": "HillaryClinton",
          "retweet_count": 1226,
          "text": "In 2008, John McCain told his own supporters that Barack Obama is an American citizen and \"a decent person.\"",
          "time": "2016-08-25T19:40:24"
         },
         {
          "favorite_count": 38534,
          "handle": "realDonaldTrump",
          "retweet_count": 14204,
          "text": "We must do everything possible to keep this horrible terrorism outside the United States.",
          "time": "2016-06-28T21:10:57"
         },
         {
          "favorite_count": 5295,
          "handle": "HillaryClinton",
          "retweet_count": 1999,
          "text": ".@SenWarren to @Maddow: Donald Trump cannot be the one who leads the United States of America.\nhttps://t.co/qQ2gtzhxmF",
          "time": "2016-06-10T16:02:52"
         },
         {
          "favorite_count": 16845,
          "handle": "realDonaldTrump",
          "retweet_count": 4358,
          "text": "\"@J58golf: @realDonaldTrump been a great week. More of the same will get you in the white house!\"",
          "time": "2016-08-21T00:02:05"
         },
         {
          "favorite_count": 4510,
          "handle": "HillaryClinton",
          "retweet_count": 1467,
          "text": "No matter what Donald Trump says, America is great, and the American Dream is big enough for everyone to share in its promise.",
          "time": "2016-08-15T17:15:16"
         },
         {
          "favorite_count": 17010,
          "handle": "realDonaldTrump",
          "retweet_count": 6478,
          "text": "\"@realbill2016: @realDonaldTrump @Brainykid2010 @shl Trump leading LA Times poll https://t.co/908uLXCIWz\"",
          "time": "2016-08-22T11:06:36"
         },
         {
          "favorite_count": 8511,
          "handle": "realDonaldTrump",
          "retweet_count": 3126,
          "text": "In the just out @FoxNews Poll, I easily beat Hillary Clinton - and I havn't even focused on her yet. On our way: MAKE AMERICA GREAT AGAIN!",
          "time": "2016-01-10T18:28:54"
         },
         {
          "favorite_count": 6690,
          "handle": "realDonaldTrump",
          "retweet_count": 2103,
          "text": ".@RepChrisCollins  Chris, thank you so much for your wonderful endorsement. I will not let you down! @CNN",
          "time": "2016-02-25T01:08:05"
         },
         {
          "favorite_count": 4894,
          "handle": "HillaryClinton",
          "retweet_count": 1630,
          "text": "We reached this moment thanks to the struggle and sacrifice of generations of women and men before us.",
          "time": "2016-06-08T02:28:33"
         },
         {
          "favorite_count": 15119,
          "handle": "HillaryClinton",
          "retweet_count": 11979,
          "text": "There's a reason the most hateful fringe of the right wing is supporting Donald Trump.\nhttps://t.co/AqB3DM2m0N",
          "time": "2016-08-25T14:51:17"
         },
         {
          "favorite_count": 18673,
          "handle": "realDonaldTrump",
          "retweet_count": 5038,
          "text": "I have self funded my winning primary campaign with an approx. $50 million loan. I have totally terminated the loan!",
          "time": "2016-06-30T19:30:20"
         },
         {
          "favorite_count": 6734,
          "handle": "realDonaldTrump",
          "retweet_count": 3422,
          "text": "Iran is going to buy 114 jetliners with a small part of the $150 billion we are giving them...but they won't buy from U.S., rather Airbus!",
          "time": "2016-01-17T15:21:46"
         },
         {
          "favorite_count": 2205,
          "handle": "HillaryClinton",
          "retweet_count": 1226,
          "text": "Trump University's own employees described it as a \"scam.” https://t.co/xDeDI1sPpR https://t.co/qA2MtslUVs",
          "time": "2016-06-01T14:15:10"
         },
         {
          "favorite_count": 28792,
          "handle": "realDonaldTrump",
          "retweet_count": 9397,
          "text": "People will be very surprised by our ground game on Nov. 8. We have an army of volunteers and people with GREAT SPIRIT! They want to #MAGA!",
          "time": "2016-09-02T12:32:31"
         },
         {
          "favorite_count": 11021,
          "handle": "HillaryClinton",
          "retweet_count": 4200,
          "text": "Unions gave us higher wages, weekends, and the largest middle class in the world. That's worth celebrating &amp; protecting. Happy #LaborDay! -H",
          "time": "2016-09-05T19:07:48"
         },
         {
          "favorite_count": 6203,
          "handle": "HillaryClinton",
          "retweet_count": 3637,
          "text": "Donald Trump's pattern of prejudice and discrimination started long before he was a presidential candidate. https://t.co/fTUwCuRkVv",
          "time": "2016-09-03T14:06:22"
         },
         {
          "favorite_count": 56980,
          "handle": "realDonaldTrump",
          "retweet_count": 25114,
          "text": "Another horrific attack, this time in Nice, France. Many dead and injured. When will we learn? It is only getting worse.",
          "time": "2016-07-14T22:40:31"
         },
         {
          "favorite_count": 3701,
          "handle": "HillaryClinton",
          "retweet_count": 1657,
          "text": "\"Once you've paid your debt to society, your voting rights should be returned immediately.\" —Hillary on @GMA\nhttps://t.co/ZlyKOYwsOo",
          "time": "2016-04-21T21:23:19"
         },
         {
          "favorite_count": 2134,
          "handle": "HillaryClinton",
          "retweet_count": 1274,
          "text": "Donald Trump thinks Americans are being paid too much and has hired union-busting firms to break up organizing campaigns on his properties.",
          "time": "2016-05-23T18:13:29"
         },
         {
          "favorite_count": 2421,
          "handle": "HillaryClinton",
          "retweet_count": 1173,
          "text": "We don’t need a president who thinks only married people deserve paid leave and only mothers ever stay home with the kids.",
          "time": "2016-09-15T19:57:51"
         },
         {
          "favorite_count": 13204,
          "handle": "realDonaldTrump",
          "retweet_count": 3930,
          "text": "Honor to have been interviewed by the very wonderful @bishopwtjackson in Detroit last week - tune in at 9pmE. Enjoy! https://t.co/9ahPnfhQ5N",
          "time": "2016-09-15T00:16:21"
         },
         {
          "favorite_count": 7802,
          "handle": "HillaryClinton",
          "retweet_count": 2493,
          "text": "“Here's the sad truth: There is no other Donald Trump. This is it.” —Hillary",
          "time": "2016-07-29T03:24:10"
         },
         {
          "favorite_count": 15712,
          "handle": "realDonaldTrump",
          "retweet_count": 4698,
          "text": "Great meeting with @SenateMajLdr Mitch McConnell and Republican leaders in D.C. #Trump2016 https://t.co/R0NuOrZISX",
          "time": "2016-05-12T19:22:18"
         },
         {
          "favorite_count": 6293,
          "handle": "HillaryClinton",
          "retweet_count": 2316,
          "text": "Looking forward to hitting the campaign trail together, @POTUS. https://t.co/DzKgMFgdmP",
          "time": "2016-07-03T21:55:20"
         },
         {
          "favorite_count": 36015,
          "handle": "realDonaldTrump",
          "retweet_count": 10277,
          "text": "HAPPY 241st BIRTHDAY to the @USArmy! THANK YOU! https://t.co/mXsxkfcstC",
          "time": "2016-06-14T18:09:57"
         },
         {
          "favorite_count": 2078,
          "handle": "HillaryClinton",
          "retweet_count": 946,
          "text": "The last thing we need is a president who brings more name-calling and temper tantrums to Washington.",
          "time": "2016-08-31T17:01:17"
         },
         {
          "favorite_count": 30046,
          "handle": "realDonaldTrump",
          "retweet_count": 10410,
          "text": "Crooked Hillary called it totally wrong on BREXIT - she went with Obama - and now she is saying we need her to lead. She would be a disaster",
          "time": "2016-06-24T21:23:40"
         },
         {
          "favorite_count": 2629,
          "handle": "HillaryClinton",
          "retweet_count": 815,
          "text": "“I had to steer my state through the deepest recession since the 1930s, but hey, tough times don't last—tough people do.” —Tim",
          "time": "2016-07-28T02:17:06"
         },
         {
          "favorite_count": 17915,
          "handle": "realDonaldTrump",
          "retweet_count": 4413,
          "text": "Just landed in Iowa to attend a great event in honor of wonderful Senator @JoniErnst. Look forward to being with all of my friends.",
          "time": "2016-08-27T18:47:50"
         },
         {
          "favorite_count": 16104,
          "handle": "realDonaldTrump",
          "retweet_count": 5522,
          "text": "Just in, big news- I have been declared the winner of the CNMI Rep Caucus with 72.8% of the vote! Thank you! #SuperTuesday #VoteTrump",
          "time": "2016-03-15T12:38:37"
         },
         {
          "favorite_count": 15914,
          "handle": "realDonaldTrump",
          "retweet_count": 7416,
          "text": "More radical Islam attacks today - it never ends! Strengthen the borders, we must be vigilant and smart. No more being politically correct.",
          "time": "2016-01-16T02:47:22"
         },
         {
          "favorite_count": 27258,
          "handle": "realDonaldTrump",
          "retweet_count": 12479,
          "text": "TIME #DebateNight poll - over 800,000 votes. Thank you! \n#AmericaFirst #MAGA https://t.co/bTPX9E0wKu",
          "time": "2016-09-27T05:36:33"
         },
         {
          "favorite_count": 17795,
          "handle": "realDonaldTrump",
          "retweet_count": 5421,
          "text": "Bernie Sanders was right when he said that Crooked Hillary Clinton was not qualified to be president because she suffers from BAD judgement!",
          "time": "2016-06-02T15:10:22"
         },
         {
          "favorite_count": 37631,
          "handle": "realDonaldTrump",
          "retweet_count": 13530,
          "text": "Hillary's wars in the Middle East have unleashed destruction, terrorism and ISIS across the world.",
          "time": "2016-07-29T03:57:06"
         },
         {
          "favorite_count": 10752,
          "handle": "HillaryClinton",
          "retweet_count": 6514,
          "text": "At last night's forum, Trump disrespected our generals, our country, and women in the military—but he praised Putin. https://t.co/I08j5ap1DX",
          "time": "2016-09-08T18:07:19"
         },
         {
          "favorite_count": 5411,
          "handle": "realDonaldTrump",
          "retweet_count": 1896,
          "text": "I'm protesting the @UnionLeader from having anything to do w/ ABC debate. Their unethical record doesn't give them the right to be involved!",
          "time": "2016-01-09T18:01:00"
         },
         {
          "favorite_count": 7373,
          "handle": "realDonaldTrump",
          "retweet_count": 2743,
          "text": "\"Every American needs to say 2 simple words to every Vet they meet: THANK YOU!\" John Wayne Walding \nhttps://t.co/wG8EzPHZt1",
          "time": "2016-01-29T17:23:06"
         },
         {
          "favorite_count": 10472,
          "handle": "realDonaldTrump",
          "retweet_count": 3087,
          "text": "Thank you South Dakota! #Trump2016 \nhttps://t.co/GbRTQdxIj4 https://t.co/pNqwOrY0ZB",
          "time": "2016-06-08T03:32:02"
         },
         {
          "favorite_count": 3624,
          "handle": "realDonaldTrump",
          "retweet_count": 1143,
          "text": "\"@nytimes: Breaking News: Sarah Palin has endorsed Donald Trump in the GOP primary - appeal to Tea Party loyalists https://t.co/9aKuuuD1wE\"",
          "time": "2016-01-20T11:16:00"
         },
         {
          "favorite_count": 3701,
          "handle": "HillaryClinton",
          "retweet_count": 888,
          "text": "Get live updates from Hillary and @TimKaine's bus tour → https://t.co/8kbj5eeWmS https://t.co/Y2NJ43ovA3",
          "time": "2016-07-30T18:16:30"
         },
         {
          "favorite_count": 11664,
          "handle": "realDonaldTrump",
          "retweet_count": 4471,
          "text": "I agree with Marco Rubio that Ted Cruz is a liar!",
          "time": "2016-02-18T14:11:18"
         },
         {
          "favorite_count": 12272,
          "handle": "realDonaldTrump",
          "retweet_count": 4358,
          "text": "\"@metalmom888:  @Theresa_Cali If the GOP screws Trump, his millions will walk from the GOP never to return! They better think long and hard\"",
          "time": "2016-04-10T03:05:28"
         },
         {
          "favorite_count": 2030,
          "handle": "HillaryClinton",
          "retweet_count": 700,
          "text": "We should deploy 5G internet to make sure we have the fastest online connections possible. https://t.co/6CJVBl9j7e",
          "time": "2016-06-29T21:23:46"
         },
         {
          "favorite_count": 10388,
          "handle": "realDonaldTrump",
          "retweet_count": 3312,
          "text": "THANK YOU NEVADA!\n#Trump2016 #MakeAmericaGreatAgain\n@Snapchat! \nUsername: realdonaldtrump \nhttps://t.co/e0HX1zekX8 https://t.co/uVBGpXzICo",
          "time": "2016-02-24T06:25:53"
         },
         {
          "favorite_count": 36309,
          "handle": "realDonaldTrump",
          "retweet_count": 13957,
          "text": "To all the Bernie voters who want to stop bad trade deals &amp; global special interests, we welcome you with open arms. People first.",
          "time": "2016-07-12T17:04:19"
         },
         {
          "favorite_count": 3655,
          "handle": "HillaryClinton",
          "retweet_count": 961,
          "text": ".@TeamUSA at the White House, circa 2000. #TBT\nhttps://t.co/cix9dny7PU",
          "time": "2016-08-12T01:12:39"
         },
         {
          "favorite_count": 35792,
          "handle": "HillaryClinton",
          "retweet_count": 12147,
          "text": "Woke up to hear the devastating news from FL. As we wait for more information, my thoughts are with those affected by this horrific act. -H",
          "time": "2016-06-12T13:20:17"
         },
         {
          "favorite_count": 3460,
          "handle": "HillaryClinton",
          "retweet_count": 2096,
          "text": "✔ Supports nuclear proliferation\n✔ Alienates our allies\n✔ Cozies up to dictators\n\nTrump's foreign policy is...chaos. https://t.co/Sx9s6Nj5uT",
          "time": "2016-06-02T23:11:07"
         },
         {
          "favorite_count": 2813,
          "handle": "HillaryClinton",
          "retweet_count": 775,
          "text": "\"It’s great to be back on the campaign trail.” —Hillary in North Carolina. Watch live: https://t.co/oa4NZ1hEHU",
          "time": "2016-09-15T19:42:34"
         },
         {
          "favorite_count": 8246,
          "handle": "HillaryClinton",
          "retweet_count": 2473,
          "text": "“I believe with all my heart that America is better than this. America is better than Donald Trump.” —Hillary",
          "time": "2016-08-05T16:48:19"
         },
         {
          "favorite_count": 25769,
          "handle": "realDonaldTrump",
          "retweet_count": 11832,
          "text": "If you want to know about Hillary Clinton's honesty &amp; judgment, ask the family of Ambassador Stevens.",
          "time": "2016-06-21T17:17:49"
         },
         {
          "favorite_count": 22707,
          "handle": "HillaryClinton",
          "retweet_count": 11939,
          "text": "Gracias señora @HillaryClinton su respeto a las mujeres y nuestras diferencias la hacen grande! Estoy con usted!",
          "time": "2016-09-27T02:48:53"
         },
         {
          "favorite_count": 2318,
          "handle": "HillaryClinton",
          "retweet_count": 650,
          "text": "Remember Karla, the little girl we heard from on Monday who feared her parents would be deported? She trusts Hillary to keep them together.",
          "time": "2016-07-28T02:25:45"
         },
         {
          "favorite_count": 28293,
          "handle": "realDonaldTrump",
          "retweet_count": 11395,
          "text": "I will defeat Crooked Hillary Clinton on 11/8/2016. #Trump2016\n#MakeAmericaGreatAgain https://t.co/HtwD1FGn9e",
          "time": "2016-05-02T16:16:14"
         },
         {
          "favorite_count": 5098,
          "handle": "HillaryClinton",
          "retweet_count": 2638,
          "text": "\"Donald Trump is a man who dwells in bigotry, bluster and false promises.\" —@NYTimes https://t.co/dGBX93R3PK #DebateNight",
          "time": "2016-09-26T15:40:07"
         },
         {
          "favorite_count": 1838,
          "handle": "HillaryClinton",
          "retweet_count": 740,
          "text": "Join @SarahEMcBride and activists across the country in supporting LGBT rights this November: https://t.co/tTgeqxNqYm",
          "time": "2016-09-09T22:15:33"
         },
         {
          "favorite_count": 14287,
          "handle": "realDonaldTrump",
          "retweet_count": 4958,
          "text": "Kasich just announced that he wants the people of Indiana to vote for him. Typical politician - can't make a deal work.",
          "time": "2016-04-25T16:15:58"
         },
         {
          "favorite_count": 4467,
          "handle": "HillaryClinton",
          "retweet_count": 1054,
          "text": "The vast majority of gun owners agree: we have to prevent gun violence.\n\nIf we’re looking for common ground, this is common ground.",
          "time": "2016-07-13T17:03:53"
         },
         {
          "favorite_count": 6614,
          "handle": "HillaryClinton",
          "retweet_count": 2635,
          "text": "Here's to 240 years of progress. https://t.co/rxZa7Niodt",
          "time": "2016-07-04T14:56:31"
         },
         {
          "favorite_count": 3302,
          "handle": "HillaryClinton",
          "retweet_count": 2046,
          "text": "There's only one word for Trump's approach to foreign policy and national security: chaos.\nhttps://t.co/Sx9s6NAGmr",
          "time": "2016-06-02T17:41:08"
         },
         {
          "favorite_count": 2831,
          "handle": "HillaryClinton",
          "retweet_count": 1506,
          "text": "Trump Institute taught Donald Trump's real business strategy: cheating innocent Americans out of hard-earned money. https://t.co/AuWq0XJ8Zc",
          "time": "2016-07-01T16:08:29"
         },
         {
          "favorite_count": 20132,
          "handle": "realDonaldTrump",
          "retweet_count": 5947,
          "text": "Thank you to Donald Rumsfeld for the endorsement. Very much appreciated. Clinton's conduct has been \"disqualifying.\"",
          "time": "2016-06-23T13:13:22"
         },
         {
          "favorite_count": 5787,
          "handle": "HillaryClinton",
          "retweet_count": 2481,
          "text": "It's a simple idea: Those who have benefited the most from our economy should pay their fair share in taxes. https://t.co/2nSFZtgYFJ",
          "time": "2016-05-13T14:06:46"
         },
         {
          "favorite_count": 3317,
          "handle": "HillaryClinton",
          "retweet_count": 1369,
          "text": "A lot of people are saying Donald Trump is a conspiracy theorist... https://t.co/NFjHuq1ypI",
          "time": "2016-06-15T01:38:48"
         },
         {
          "favorite_count": 9096,
          "handle": "realDonaldTrump",
          "retweet_count": 4123,
          "text": "\"@wh: https://t.co/AZmCErLKCn WOW people are so misinformed on DonaldTrump character! Watch this video! Hillary and Bernie don't come close",
          "time": "2016-03-15T03:44:11"
         },
         {
          "favorite_count": 24455,
          "handle": "realDonaldTrump",
          "retweet_count": 9734,
          "text": "\"In politics, and in life, ignorance is not a virtue.\" This is a primary reason that President Obama is the worst president in U.S. history!",
          "time": "2016-05-17T01:08:17"
         },
         {
          "favorite_count": 28498,
          "handle": "realDonaldTrump",
          "retweet_count": 9644,
          "text": "The situations in Tulsa and Charlotte are tragic. We must come together to make America safe again.",
          "time": "2016-09-21T13:20:15"
         },
         {
          "favorite_count": 3640,
          "handle": "HillaryClinton",
          "retweet_count": 1435,
          "text": ".@SpeakerRyan, want to know a more effective way to end this sit-in? Let us vote our consciences on gun legislation! #NoBillNoBreak",
          "time": "2016-06-23T04:41:34"
         },
         {
          "favorite_count": 38070,
          "handle": "realDonaldTrump",
          "retweet_count": 11605,
          "text": "Our not very bright Vice President, Joe Biden, just stated that I wanted to \"carpet bomb\" the enemy. Sorry Joe, that was Ted Cruz!",
          "time": "2016-07-27T12:57:20"
         },
         {
          "favorite_count": 6072,
          "handle": "realDonaldTrump",
          "retweet_count": 2196,
          "text": "National Review is a failing publication that has lost it's way. It's circulation is way down w its influence being at an all time low. Sad!",
          "time": "2016-01-22T03:56:44"
         },
         {
          "favorite_count": 6012,
          "handle": "HillaryClinton",
          "retweet_count": 2530,
          "text": "Dear Congress,\n\nLet's get this done.\n\nThanks,\n\nThe vast majority of Americans https://t.co/23ND36tFFm",
          "time": "2016-05-20T16:21:13"
         },
         {
          "favorite_count": 1154,
          "handle": "HillaryClinton",
          "retweet_count": 498,
          "text": "\"Cuando Donald Trump habla de deportar a 11 millones de personas, se refiere a\nseparar familias... como la mía y la de Karla\"—@Astrid_NV.",
          "time": "2016-07-26T00:36:33"
         },
         {
          "favorite_count": 6310,
          "handle": "HillaryClinton",
          "retweet_count": 2050,
          "text": "Trump is harkening back to the most shameful chapters of our history and appealing to the ugliest impulses of our society.",
          "time": "2016-08-05T16:47:11"
         },
         {
          "favorite_count": 22973,
          "handle": "realDonaldTrump",
          "retweet_count": 7570,
          "text": "Thank you Travis County, Texas!\n#MakeAmericaGreatAgain https://t.co/ZBnYzNb0eo",
          "time": "2016-08-24T02:56:21"
         },
         {
          "favorite_count": 12162,
          "handle": "realDonaldTrump",
          "retweet_count": 6718,
          "text": "Crooked Hillary Clinton- discussing the #SecondAmendment at a private event. #2A cc: @NRA https://t.co/vV31Pbpkmn",
          "time": "2016-05-20T15:36:44"
         },
         {
          "favorite_count": 10541,
          "handle": "HillaryClinton",
          "retweet_count": 3253,
          "text": "Thank you, @BernieSanders. Proud to fight alongside you. https://t.co/v6GbG89BUk",
          "time": "2016-07-13T02:37:19"
         },
         {
          "favorite_count": 18968,
          "handle": "realDonaldTrump",
          "retweet_count": 6468,
          "text": "My statement on NATO being obsolete and disproportionately too expensive (and unfair) for the U.S. are now, finally, receiving plaudits!",
          "time": "2016-03-27T14:23:51"
         },
         {
          "favorite_count": 8440,
          "handle": "HillaryClinton",
          "retweet_count": 4570,
          "text": "Trump thinks it's too hard to make his products in America, so we went and found 100 US manufacturers he could use. https://t.co/FCUCLJb1nr",
          "time": "2016-08-03T18:58:44"
         },
         {
          "favorite_count": 4129,
          "handle": "HillaryClinton",
          "retweet_count": 1706,
          "text": "When our SEALs took out bin Laden, they brought the terrorists' families to safety first. That's American honor. https://t.co/QV5zDf2iAg",
          "time": "2016-09-07T15:35:22"
         },
         {
          "favorite_count": 15298,
          "handle": "realDonaldTrump",
          "retweet_count": 4936,
          "text": "The statement put out yesterday by @FoxNews was a disgrace to good broadcasting and journalism. Who would ever say something so nasty &amp; dumb",
          "time": "2016-01-27T13:02:52"
         },
         {
          "favorite_count": 8725,
          "handle": "realDonaldTrump",
          "retweet_count": 3301,
          "text": "Ted Cruz is totally unelectable, if he even gets to run (born in Canada). Will loose big to Hillary. Polls show I beat Hillary easily! WIN!",
          "time": "2016-01-31T13:06:25"
         },
         {
          "favorite_count": 2573,
          "handle": "HillaryClinton",
          "retweet_count": 1175,
          "text": ".@lorellapraeli: HFA staffer. DREAMer. U.S. citizen. \n\nFirst time voter.\nhttps://t.co/zrTYJyvm5P",
          "time": "2016-06-04T18:37:19"
         },
         {
          "favorite_count": 5874,
          "handle": "HillaryClinton",
          "retweet_count": 2504,
          "text": "We need comprehensive immigration reform to keep families like Karla's together. #DemsInPhilly\nhttps://t.co/mc29cTNnSu",
          "time": "2016-07-26T00:07:45"
         },
         {
          "favorite_count": 19631,
          "handle": "realDonaldTrump",
          "retweet_count": 6269,
          "text": "Thank you @ScottWalker! #AmericaFirst \n#RNCinCLE https://t.co/k2Poy3gGvQ",
          "time": "2016-07-21T01:56:56"
         },
         {
          "favorite_count": 5930,
          "handle": "HillaryClinton",
          "retweet_count": 2587,
          "text": "This lifelong Republican wrote a letter to his daughter about why he's voting for Hillary this November: https://t.co/iqmnZaR7xN",
          "time": "2016-08-21T13:37:31"
         },
         {
          "favorite_count": 21317,
          "handle": "realDonaldTrump",
          "retweet_count": 5649,
          "text": "On Saturday a great man, Elie Wiesel, passed away.The world is a better place because of him and his belief that good can triumph over evil!",
          "time": "2016-07-03T20:47:51"
         },
         {
          "favorite_count": 4329,
          "handle": "HillaryClinton",
          "retweet_count": 2651,
          "text": "Donald Trump's ties to Russia may conflict with America's interests—but they're great for his bottom line. https://t.co/gYbm5HxfxG",
          "time": "2016-09-22T21:15:43"
         },
         {
          "favorite_count": 1188,
          "handle": "HillaryClinton",
          "retweet_count": 446,
          "text": "It’s Primary Day, Indiana. If you’re a Hoosier for Hillary, vote today: https://t.co/ZP0EculgG0",
          "time": "2016-05-03T20:52:03"
         },
         {
          "favorite_count": 8036,
          "handle": "HillaryClinton",
          "retweet_count": 2920,
          "text": "Donald Trump considers his shuttered casinos a success because HE made millions.\n\nA man who thinks that way has no business being president.",
          "time": "2016-06-12T00:27:13"
         },
         {
          "favorite_count": 991,
          "handle": "HillaryClinton",
          "retweet_count": 381,
          "text": "Mi México, and the world, lost a great singer, songwriter and human being. #RIP #JuanGabriel. #DivoDeJuarez https://t.co/EkZ7eduRfA",
          "time": "2016-08-29T16:40:01"
         },
         {
          "favorite_count": 15046,
          "handle": "realDonaldTrump",
          "retweet_count": 5184,
          "text": "Why would the great people of Florida vote for a guy who, as a Senator, never even shows up to vote - worst record. Marco Rubio is a joke!",
          "time": "2016-03-03T11:40:17"
         },
         {
          "favorite_count": 2456,
          "handle": "HillaryClinton",
          "retweet_count": 1122,
          "text": "\"No more families should have to go through what we have.\" —@EricaSmegs, daughter of Sandy Hook School principal\nhttps://t.co/DCVzc2qV9A",
          "time": "2016-04-20T19:01:59"
         },
         {
          "favorite_count": 22973,
          "handle": "realDonaldTrump",
          "retweet_count": 9570,
          "text": "Just announced that as many as 5000 ISIS fighters have infiltrated Europe. Also, many in U.S.  I TOLD YOU SO! I alone can fix this problem!",
          "time": "2016-03-24T15:52:11"
         },
         {
          "favorite_count": 39808,
          "handle": "realDonaldTrump",
          "retweet_count": 13979,
          "text": "Crooked Hillary Clinton is being protected by the media. She is not a talented person or politician. The dishonest media refuses to expose!",
          "time": "2016-08-14T16:50:51"
         },
         {
          "favorite_count": 10234,
          "handle": "realDonaldTrump",
          "retweet_count": 3548,
          "text": ".@meetthepress and @chucktodd did a 1 hour hit job on me today – totally biased and mostly false. Dishonest media!",
          "time": "2016-03-06T18:19:13"
         },
         {
          "favorite_count": 6578,
          "handle": "realDonaldTrump",
          "retweet_count": 2269,
          "text": "Sad sack @JebBush has just done another ad on me, with special interest money, saying I won't beat Hillary - I WILL. But he can't beat me.",
          "time": "2016-01-21T14:19:26"
         },
         {
          "favorite_count": 4189,
          "handle": "HillaryClinton",
          "retweet_count": 1389,
          "text": "\"I trust Hillary because...I've seen her lifelong devotion to our nation's children.\" —@FLOTUS https://t.co/A0S2FJlsbJ",
          "time": "2016-07-27T20:32:24"
         },
         {
          "favorite_count": 12291,
          "handle": "realDonaldTrump",
          "retweet_count": 3262,
          "text": "Look forward to being in Tampa this afternoon. Wonderful crowds. Thank you, Florida!",
          "time": "2016-03-14T15:24:15"
         }
        ]
       },
       "encoding": {
        "color": {
         "field": "handle",
         "type": "nominal"
        },
        "x": {
         "field": "retweet_count",
         "scale": {
          "type": "log"
         },
         "type": "quantitative"
        },
        "y": {
         "field": "favorite_count",
         "scale": {
          "type": "log"
         },
         "type": "quantitative"
        }
       },
       "mark": "point"
      },
      "image/png": "[encoded data removed]",
      "text/plain": [
       "<altair.VegaLite object>"
      ]
     },
     "execution_count": 25,
     "metadata": {},
     "output_type": "execute_result"
    }
   ],
   "source": [
    "alt.Chart(subset).mark_point().encode(\n",
    "    alt.X(\"retweet_count\", scale = alt.Scale(type = \"log\")),\n",
    "    alt.Y(\"favorite_count\", scale = alt.Scale(type = \"log\")),\n",
    "    alt.Color(\"handle\")\n",
    ")"
   ]
  },
  {
   "cell_type": "markdown",
   "metadata": {},
   "source": [
    "Create a line chart to show  the average `favorite_count` for each candidate over time. Use a time unit of years+months and encode the candidate as color:"
   ]
  },
  {
   "cell_type": "code",
   "execution_count": 26,
   "metadata": {
    "deletable": false,
    "nbgrader": {
     "checksum": "34d999d1373a54cb82cd9924b2f200d4",
     "grade": true,
     "grade_id": "clinton-trump-x",
     "locked": false,
     "points": 2,
     "schema_version": 1,
     "solution": true
    }
   },
   "outputs": [
    {
     "data": {
      "application/vnd.vegalite.v1+json": {
       "$schema": "https://vega.github.io/schema/vega-lite/v1.2.1.json",
       "data": {
        "values": [
         {
          "favorite_count": 9643,
          "handle": "realDonaldTrump",
          "retweet_count": 2684,
          "text": "\"@oasisupernova: @realDonaldTrump UP TO 8.4 MILLION FOLLOWERS. CAN'T STOP THE #TrumpTrain 🚂 #MakeAmericaGreatAgain\"",
          "time": "2016-05-25T05:42:49"
         },
         {
          "favorite_count": 4790,
          "handle": "HillaryClinton",
          "retweet_count": 1399,
          "text": "\"People ask me all the time: How does she do it?…Here’s how: It’s because she never, ever forgets who she’s fighting for.” —@ChelseaClinton",
          "time": "2016-07-29T02:13:01"
         },
         {
          "favorite_count": 24284,
          "handle": "realDonaldTrump",
          "retweet_count": 8771,
          "text": "The media is really on a witch-hunt against me. False reporting, and plenty of it - but we will prevail!",
          "time": "2016-05-15T19:26:45"
         },
         {
          "favorite_count": 1525,
          "handle": "HillaryClinton",
          "retweet_count": 1627,
          "text": "David Duke’s show cheers Trump-Breitbart merger: “We appear to have taken over the Republican Party” https://t.co/uKQglNdX8b via @Salon",
          "time": "2016-08-23T19:36:47"
         },
         {
          "favorite_count": 21203,
          "handle": "realDonaldTrump",
          "retweet_count": 10966,
          "text": "USSS did an excellent job stopping the maniac running to the stage. He has ties to ISIS. Should be in jail! https://t.co/tkzbHg7wyD?ssr=true",
          "time": "2016-03-12T23:41:57"
         },
         {
          "favorite_count": 21338,
          "handle": "realDonaldTrump",
          "retweet_count": 6150,
          "text": "Bernie Sanders is continuing his quest because he believes that Crooked Hillary Clinton will be forced out of the race - e-mail scandal!",
          "time": "2016-05-22T20:32:33"
         },
         {
          "favorite_count": 10776,
          "handle": "realDonaldTrump",
          "retweet_count": 3701,
          "text": "\"@DiamondandSilk: .@DonaldJTrumpJr awesome job on @CNNSotu. DonaldTrump has integrity &amp; he refuses 2 play the game call \"Delegate Bribery\"",
          "time": "2016-04-24T14:05:43"
         },
         {
          "favorite_count": 4093,
          "handle": "HillaryClinton",
          "retweet_count": 1247,
          "text": "The #DemConvention painted a bright picture of America—filled with diversity, love &amp; hope.\n\nThe RNC was...different. https://t.co/Vo71rzElsE",
          "time": "2016-08-02T15:56:41"
         },
         {
          "favorite_count": 16508,
          "handle": "realDonaldTrump",
          "retweet_count": 5950,
          "text": "\"@Gengm7: @jakeda @realDonaldTrump As of April this year, Hillary had spent $264,000,000 on her campaign Mr.Trump $55,000,000. self funding\"",
          "time": "2016-06-30T01:46:50"
         },
         {
          "favorite_count": 11769,
          "handle": "realDonaldTrump",
          "retweet_count": 2635,
          "text": "Great to be on @andersoncooper tonight with my wonderful family. Will be rebroadcast at 12:00 A.M.  (EASTERN).",
          "time": "2016-04-13T03:53:39"
         },
         {
          "favorite_count": 5051,
          "handle": "HillaryClinton",
          "retweet_count": 2539,
          "text": "Trump and his hateful language are affecting our kids. These are some of the heartbreaking things they're saying: https://t.co/DWCluAKJUd",
          "time": "2016-09-02T16:10:28"
         },
         {
          "favorite_count": 3844,
          "handle": "HillaryClinton",
          "retweet_count": 3049,
          "text": "Trump took over $100,000 from emergency 9/11 funds for small businesses—for his swanky Wall Street property. https://t.co/fToO6xAchz",
          "time": "2016-07-19T02:19:33"
         },
         {
          "favorite_count": 2729,
          "handle": "HillaryClinton",
          "retweet_count": 988,
          "text": "Hillary took Donald Trump's reckless economic policy to task in Columbus today.\n\nIt's worth watching: https://t.co/YfLN8kdRvG",
          "time": "2016-06-22T02:01:11"
         },
         {
          "favorite_count": 892,
          "handle": "HillaryClinton",
          "retweet_count": 491,
          "text": "El mantra de Trump: Beneficiarse sin importar a los demás. https://t.co/eeg6hnAJzz",
          "time": "2016-05-29T20:00:20"
         },
         {
          "favorite_count": 2842,
          "handle": "HillaryClinton",
          "retweet_count": 863,
          "text": "Too many kids say bye to their parents every morning, not knowing if mom or dad will be there when they get home.\n\nWe have to fix this.",
          "time": "2016-07-14T15:52:50"
         },
         {
          "favorite_count": 5278,
          "handle": "realDonaldTrump",
          "retweet_count": 1494,
          "text": "Face The Nation's interview of me was the highest rated show that they have had in 15 years. Congratulations and WOW!  @CBSNews @jdickerson",
          "time": "2016-01-12T02:42:49"
         },
         {
          "favorite_count": 6371,
          "handle": "realDonaldTrump",
          "retweet_count": 1423,
          "text": "\"@johnjohnlacca: Donald u have done a terrific job so far on the interview. Cannot wait until u r president #MegynKellyPresents",
          "time": "2016-05-18T00:45:13"
         },
         {
          "favorite_count": 4360,
          "handle": "realDonaldTrump",
          "retweet_count": 1318,
          "text": "\"@splashpoint50: @realDonaldTrump Our ReTrumplican Trump support group of 9500 members say 97% will not watch the debate tonight!\"",
          "time": "2016-01-28T11:34:55"
         },
         {
          "favorite_count": 2435,
          "handle": "HillaryClinton",
          "retweet_count": 725,
          "text": "“There is no reason to feel helpless about the horrifying trajectory of cascading massacres…We can change this.” —@ChrisMurphyCT",
          "time": "2016-07-27T23:57:57"
         },
         {
          "favorite_count": 4789,
          "handle": "HillaryClinton",
          "retweet_count": 1927,
          "text": "\"If you're not registered, and you're eligible as an American citizen, please go sign up.\" —Hillary in Nevada: https://t.co/tTgeqxNqYm",
          "time": "2016-08-04T20:24:24"
         },
         {
          "favorite_count": 11357,
          "handle": "realDonaldTrump",
          "retweet_count": 4254,
          "text": "Why would the people of Texas support Ted Cruz when he has accomplished absolutely nothing for them. He is another all talk, no action pol!",
          "time": "2016-02-28T16:47:13"
         },
         {
          "favorite_count": 13515,
          "handle": "realDonaldTrump",
          "retweet_count": 4098,
          "text": "While Hillary and I both won South Carolina by big margins, Repubs got far more votes with a massive increase from past cycles.GROWING PARTY",
          "time": "2016-02-28T12:20:19"
         },
         {
          "favorite_count": 5410,
          "handle": "realDonaldTrump",
          "retweet_count": 1760,
          "text": "I was referring to a backstop for pre-existing conditions. I will eliminate the law, in its entirety, &amp; replace it w/ something much better.",
          "time": "2016-02-19T20:29:01"
         },
         {
          "favorite_count": 23898,
          "handle": "HillaryClinton",
          "retweet_count": 8125,
          "text": "\"We’ve reached a milestone...the first time that a major party has nominated a woman for president.\" —Hillary https://t.co/WizdsD8vgk",
          "time": "2016-07-29T02:57:59"
         },
         {
          "favorite_count": 5867,
          "handle": "HillaryClinton",
          "retweet_count": 1765,
          "text": "Meet three women who inspired Hillary to become the person she is today: https://t.co/1O4rw3ecBH https://t.co/Df9X0o5E6h",
          "time": "2016-09-25T14:11:28"
         },
         {
          "favorite_count": 5092,
          "handle": "realDonaldTrump",
          "retweet_count": 1410,
          "text": "Joy Behar, who was fired from her last show for lack of ratings, is even worse on @TheView. We love Barbara!",
          "time": "2016-01-07T21:06:19"
         },
         {
          "favorite_count": 8194,
          "handle": "HillaryClinton",
          "retweet_count": 2244,
          "text": "Sarah McBride, the first trans person to speak at a party convention: \"Despite our progress, so much work remains.\" https://t.co/Kkt982nCSM",
          "time": "2016-07-31T16:02:15"
         },
         {
          "favorite_count": 113861,
          "handle": "HillaryClinton",
          "retweet_count": 62341,
          "text": "Gun violence requires more than moments of silence. It requires action. In failing that test, the Senate failed the American people.",
          "time": "2016-06-21T15:16:37"
         },
         {
          "favorite_count": 28160,
          "handle": "realDonaldTrump",
          "retweet_count": 9376,
          "text": "Crooked Hillary has been fighting ISIS, or whatever she has been doing, for years. Now she has new ideas. It is time for change.",
          "time": "2016-09-20T12:02:35"
         },
         {
          "favorite_count": 7947,
          "handle": "realDonaldTrump",
          "retweet_count": 3352,
          "text": "The Club for Growth is a very dishonest group. They represent conservative values terribly &amp; are bad for America. https://t.co/rnGoaprYuA",
          "time": "2016-03-08T02:55:32"
         },
         {
          "favorite_count": 13639,
          "handle": "realDonaldTrump",
          "retweet_count": 4734,
          "text": "THANK YOU - Youngstown, Ohio! I love you! Get out &amp; #VoteTrump tomorrow. #Trump2016 https://t.co/OReGiIS6TF",
          "time": "2016-03-15T00:48:09"
         },
         {
          "favorite_count": 16991,
          "handle": "realDonaldTrump",
          "retweet_count": 5499,
          "text": "\"@TimVincent56:  @LindseyGrahamSC Talkers think about the future, Doers are already building it\" #VoteTrump2016 https://t.co/OoB38jypsD\"",
          "time": "2016-03-24T14:41:46"
         },
         {
          "favorite_count": 31461,
          "handle": "realDonaldTrump",
          "retweet_count": 9420,
          "text": "\"@WandaWalls20: @realDonaldTrump Please make us safe. We cannot have Hillary as president. We will be in so much trouble.",
          "time": "2016-06-12T19:02:42"
         },
         {
          "favorite_count": 6262,
          "handle": "HillaryClinton",
          "retweet_count": 3106,
          "text": "About Tim Kaine: https://t.co/C04INo6nYF https://t.co/CM7Ufgo0TW",
          "time": "2016-07-23T01:42:04"
         },
         {
          "favorite_count": 19660,
          "handle": "realDonaldTrump",
          "retweet_count": 6514,
          "text": "\"Dems warn not to underestimate Trump's potential win\"\nhttps://t.co/X3xHtjhHpB",
          "time": "2016-07-28T21:38:12"
         },
         {
          "favorite_count": 14339,
          "handle": "realDonaldTrump",
          "retweet_count": 3509,
          "text": ".@oreillyfactor  Please correct, I WON Virginia!",
          "time": "2016-05-04T04:00:46"
         },
         {
          "favorite_count": 23682,
          "handle": "realDonaldTrump",
          "retweet_count": 7138,
          "text": "I hope that Crooked Hillary picks Goofy Elizabeth Warren, sometimes referred to as Pocahontas, as her V.P. Then we can litigate her fraud!",
          "time": "2016-07-17T12:14:46"
         },
         {
          "favorite_count": 6628,
          "handle": "HillaryClinton",
          "retweet_count": 2887,
          "text": "In times of crisis, America depends on steady leadership, clear thinking, and calm judgment. https://t.co/Tpo3Sp7Ri1",
          "time": "2016-08-22T20:56:15"
         },
         {
          "favorite_count": 25501,
          "handle": "realDonaldTrump",
          "retweet_count": 7906,
          "text": "The failing @nytimes, which never spoke to me, keeps saying that I am saying to advisers that I will change. False, I am who I am-never said",
          "time": "2016-08-14T12:31:23"
         },
         {
          "favorite_count": 31483,
          "handle": "realDonaldTrump",
          "retweet_count": 12034,
          "text": "Thank you America! #Trump2016 https://t.co/xfINxdRNiQ",
          "time": "2016-05-22T22:54:48"
         },
         {
          "favorite_count": 4358,
          "handle": "HillaryClinton",
          "retweet_count": 1526,
          "text": "It's not complicated: We need our economy to work for everyone, not just the rich or the well-connected.\nhttps://t.co/XIazcMasI4",
          "time": "2016-06-27T21:06:11"
         },
         {
          "favorite_count": 6079,
          "handle": "realDonaldTrump",
          "retweet_count": 1195,
          "text": "Will be interviewed on @Morning_Joe at 7:40. ENJOY!",
          "time": "2016-03-16T11:35:33"
         },
         {
          "favorite_count": 7044,
          "handle": "HillaryClinton",
          "retweet_count": 2861,
          "text": "“America, we will rise.” —@CoryBooker #DemsInPhilly",
          "time": "2016-07-26T01:55:29"
         },
         {
          "favorite_count": 3985,
          "handle": "realDonaldTrump",
          "retweet_count": 1428,
          "text": "\"@Blackan: #SCPrimary @realDonaldTrump is the only one who will protect American interests. #MakeAmericaGreatAgain https://t.co/Hbqjg1fb1t\"",
          "time": "2016-02-20T15:17:17"
         },
         {
          "favorite_count": 26217,
          "handle": "realDonaldTrump",
          "retweet_count": 8060,
          "text": "Thank you for your support! We will MAKE AMERICA SAFE AND GREAT AGAIN! #ImWithYou #AmericaFirst https://t.co/ravfFT5UBE",
          "time": "2016-07-01T17:07:52"
         },
         {
          "favorite_count": 11768,
          "handle": "realDonaldTrump",
          "retweet_count": 5361,
          "text": "#Trump2016 #TrumpInstagram: https://t.co/tzHtny48nQ https://t.co/BpKZcISeKi",
          "time": "2016-02-29T16:16:27"
         },
         {
          "favorite_count": 5962,
          "handle": "realDonaldTrump",
          "retweet_count": 2014,
          "text": "#VoteTrumpHI! #Trump2016\nhttps://t.co/cCCLxnisSO",
          "time": "2016-03-08T17:44:37"
         },
         {
          "favorite_count": 31566,
          "handle": "HillaryClinton",
          "retweet_count": 13300,
          "text": "\"I won't stop calling out bigotry and racist rhetoric in this campaign.\" —Hillary https://t.co/C3Z7GybJ53",
          "time": "2016-09-10T18:09:54"
         },
         {
          "favorite_count": 2762,
          "handle": "HillaryClinton",
          "retweet_count": 1308,
          "text": "Every child in America deserves clean air to breathe, clean water to drink, and a safe and healthy place to live. https://t.co/t0eAF9tXHH",
          "time": "2016-04-23T21:01:37"
         },
         {
          "favorite_count": 5276,
          "handle": "realDonaldTrump",
          "retweet_count": 2207,
          "text": "New Iowa poll. Thank you!\n#MakeAmericaGreatAgain #Trump2016 https://t.co/19sshZ8dSu",
          "time": "2016-01-11T19:43:29"
         },
         {
          "favorite_count": 3176,
          "handle": "HillaryClinton",
          "retweet_count": 1076,
          "text": "\"Tim has led on some of the most important issues facing our country—from voting rights to LGBT equality to criminal justice reform.\"",
          "time": "2016-07-23T17:26:44"
         },
         {
          "favorite_count": 3931,
          "handle": "HillaryClinton",
          "retweet_count": 1398,
          "text": "This is what dauntless leadership looks like. Thank you, @GovernorVA—proud to call you a friend. -H https://t.co/c72c0HUSyw",
          "time": "2016-07-23T14:37:20"
         },
         {
          "favorite_count": 11950,
          "handle": "realDonaldTrump",
          "retweet_count": 4810,
          "text": "Hillary has bad judgment! https://t.co/LhcIU6kmxs",
          "time": "2016-05-10T17:39:34"
         },
         {
          "favorite_count": 14309,
          "handle": "realDonaldTrump",
          "retweet_count": 5302,
          "text": "Thank you Albany, New York!\n#MakeAmericaGreatAgain #Trump2016\nhttps://t.co/IAOuSY5VDC https://t.co/WcItUuxej8",
          "time": "2016-04-12T01:31:23"
         },
         {
          "favorite_count": 26574,
          "handle": "HillaryClinton",
          "retweet_count": 13915,
          "text": "When a man is sued for discriminating against black tenants &amp; pushes birtherism, he's giving you an idea of what kind of president he'd be.",
          "time": "2016-09-27T02:06:51"
         },
         {
          "favorite_count": 5502,
          "handle": "realDonaldTrump",
          "retweet_count": 2168,
          "text": "\"@vivhall3: @realDonaldTrump here your delegate replaced at CO GOP convention. https://t.co/NxYhzdcMS0\" Very sad!",
          "time": "2016-04-10T02:44:11"
         },
         {
          "favorite_count": 1429,
          "handle": "HillaryClinton",
          "retweet_count": 697,
          "text": "We need to come together to turn the tide, stop violence, build trust, and give all our kids the chance to grow up safe and healthy.",
          "time": "2016-09-21T18:45:20"
         },
         {
          "favorite_count": 2478,
          "handle": "HillaryClinton",
          "retweet_count": 1632,
          "text": "\"Applying [Trump's] idea to the United States would destroy the economy.\" —@VoxDotCom\nhttps://t.co/ssVajpFvzF",
          "time": "2016-05-09T19:27:13"
         },
         {
          "favorite_count": 3983,
          "handle": "HillaryClinton",
          "retweet_count": 843,
          "text": "Today is @BillClinton's birthday! It's not too late to sign his card here: https://t.co/30Uxor2066",
          "time": "2016-08-19T20:16:31"
         },
         {
          "favorite_count": 3961,
          "handle": "realDonaldTrump",
          "retweet_count": 1110,
          "text": "Will be on Meet the Press with @ChuckTodd tomorrow morning. Enjoy!",
          "time": "2016-01-10T00:12:43"
         },
         {
          "favorite_count": 10173,
          "handle": "HillaryClinton",
          "retweet_count": 3592,
          "text": "“I’m supporting Hillary Clinton because she’s a fighter, a fighter with guts” —@SenWarren  https://t.co/ia0cfYnD3k",
          "time": "2016-06-10T01:15:45"
         },
         {
          "favorite_count": 8877,
          "handle": "realDonaldTrump",
          "retweet_count": 4668,
          "text": "Ted Cruz Was For Welcoming Syrian Refugees Before He Was Against It\nhttps://t.co/zw4o1DJgfB",
          "time": "2016-03-08T02:47:19"
         },
         {
          "favorite_count": 27792,
          "handle": "realDonaldTrump",
          "retweet_count": 7997,
          "text": "My lawyers want to sue the failing @nytimes so badly for irresponsible intent. I said no (for now), but they are watching. Really disgusting",
          "time": "2016-09-17T22:57:09"
         },
         {
          "favorite_count": 19798,
          "handle": "realDonaldTrump",
          "retweet_count": 7578,
          "text": "Why does the media, with a strong push from Crooked Hillary, keep pushing the false narrative that I want to raise taxes. Exactly opposite!",
          "time": "2016-05-10T12:57:08"
         },
         {
          "favorite_count": 3205,
          "handle": "HillaryClinton",
          "retweet_count": 1197,
          "text": "\"Republican senators...once they've made sure nobody is listening, will tell you how fantastic a senator that Hillary Clinton was.” —Tim",
          "time": "2016-07-28T02:22:24"
         },
         {
          "favorite_count": 6228,
          "handle": "HillaryClinton",
          "retweet_count": 2348,
          "text": "\"I've never heard an American leader...claiming that he's all we need. That's not a democracy, my friends.\" —Hillary",
          "time": "2016-07-22T21:57:44"
         },
         {
          "favorite_count": 50531,
          "handle": "realDonaldTrump",
          "retweet_count": 16936,
          "text": "If the disgusting and corrupt media covered me honestly and didn't put false meaning into the words I say, I would be beating Hillary by 20%",
          "time": "2016-08-14T12:37:37"
         },
         {
          "favorite_count": 5316,
          "handle": "realDonaldTrump",
          "retweet_count": 2353,
          "text": "I don’t cheat at golf but @SamuelLJackson cheats—with his game he has no choice—and stop doing commercials!",
          "time": "2016-01-06T19:22:16"
         },
         {
          "favorite_count": 22643,
          "handle": "realDonaldTrump",
          "retweet_count": 6691,
          "text": "Governor Rick Perry said \"Donald Trump is one of the most talented people running for the Presidency I've ever seen.\" Thank you Rick!",
          "time": "2016-05-06T10:19:08"
         },
         {
          "favorite_count": 3839,
          "handle": "realDonaldTrump",
          "retweet_count": 1657,
          "text": "Nevada: Reminder that today is the LAST day to register to vote in the February 23rd caucus!https://t.co/SDQGGhkyjI https://t.co/qYX7a2VpG9…",
          "time": "2016-02-13T17:21:59"
         },
         {
          "favorite_count": 9544,
          "handle": "realDonaldTrump",
          "retweet_count": 3050,
          "text": "\"@cmichaeld2004: Realistic Trump Poll Numbers translate to the 70 percentile range in a two-man race. Gee, what happened to that 30% ceiling",
          "time": "2016-03-19T06:58:13"
         },
         {
          "favorite_count": 18157,
          "handle": "realDonaldTrump",
          "retweet_count": 6925,
          "text": "\"@FoxNews: @ScottBaio: \"#DonaldTrump is the only guy, I think, that has the will &amp; the nerve to attack &amp; to fight.\" https://t.co/DjkdAzT3WV",
          "time": "2016-04-05T03:16:32"
         },
         {
          "favorite_count": 4314,
          "handle": "HillaryClinton",
          "retweet_count": 1743,
          "text": "\"I believe we have a moral obligation…to stand up against systematic racism.\" —Hillary at the @TTMFoundation dinner",
          "time": "2016-05-22T00:43:03"
         },
         {
          "favorite_count": 12295,
          "handle": "realDonaldTrump",
          "retweet_count": 3726,
          "text": "Do you think Crooked Hillary will finally close the deal? If she can't win Kentucky, she should drop out of race. System rigged!",
          "time": "2016-05-17T23:37:06"
         },
         {
          "favorite_count": 14584,
          "handle": "realDonaldTrump",
          "retweet_count": 5171,
          "text": "Thank you Idaho! I love your potatoes- \nnobody grows them better. As \nPresident, I will protect your market. https://t.co/kqx8un1jnw",
          "time": "2016-03-07T22:48:21"
         },
         {
          "favorite_count": 6434,
          "handle": "realDonaldTrump",
          "retweet_count": 2520,
          "text": "I was asked about healthcare by Anderson Cooper &amp; have been consistent- I will repeal all of #ObamaCare, including the mandate, period.",
          "time": "2016-02-19T20:28:32"
         },
         {
          "favorite_count": 3006,
          "handle": "HillaryClinton",
          "retweet_count": 922,
          "text": "Text CONGRATS to 47246 to tell Hillary you're with her tonight. https://t.co/ZBQ6wKlCPr",
          "time": "2016-04-20T02:47:30"
         },
         {
          "favorite_count": 31729,
          "handle": "realDonaldTrump",
          "retweet_count": 10919,
          "text": "Hillary Clinton is not qualified to be president because her judgement has been proven to be so bad! Would be four more years of stupidity!",
          "time": "2016-05-22T12:47:48"
         },
         {
          "favorite_count": 14895,
          "handle": "realDonaldTrump",
          "retweet_count": 5584,
          "text": "Thank you! #MakeAmericaGreatAgain https://t.co/sVUWI7JoGn",
          "time": "2016-03-29T20:24:25"
         },
         {
          "favorite_count": 12368,
          "handle": "HillaryClinton",
          "retweet_count": 4671,
          "text": "\"Hard to believe they spent so much time talking about me and no time talking about jobs or education or health care.\" —Hillary on the RNC",
          "time": "2016-07-22T21:50:47"
         },
         {
          "favorite_count": 8529,
          "handle": "HillaryClinton",
          "retweet_count": 3502,
          "text": "\"It’s true: I sweat the details of policy...because it’s not just a detail if it’s your kid, if it’s your family. It’s a big deal.\"",
          "time": "2016-07-29T02:54:17"
         },
         {
          "favorite_count": 6468,
          "handle": "realDonaldTrump",
          "retweet_count": 2096,
          "text": "Ted Cruz does not have the right \"temperment\" to be President. Look at the way he totally panicked in firing his director of comm. BAD!",
          "time": "2016-02-23T15:07:26"
         },
         {
          "favorite_count": 4816,
          "handle": "HillaryClinton",
          "retweet_count": 1460,
          "text": "“Tonight, we will shatter that glass ceiling again.” —@RepJohnLewis on nominating Hillary for president #DemsInPhilly",
          "time": "2016-07-26T21:19:28"
         },
         {
          "favorite_count": 5383,
          "handle": "realDonaldTrump",
          "retweet_count": 1934,
          "text": "\"@BirgitOlsen1: @realDonaldTrump @Justice41ca  @Vote_For_Trump EVERYBODY ON TWITTER GET OUT TO VOTE FOR TRUMP TODAY IN SOUTH CAROLINA\"",
          "time": "2016-02-20T15:18:07"
         },
         {
          "favorite_count": 21922,
          "handle": "realDonaldTrump",
          "retweet_count": 5584,
          "text": "I am in Indiana where we just had a great rally. Fantastic people! Staying at a Holiday Inn Express - new and clean, not bad!",
          "time": "2016-04-28T03:17:17"
         },
         {
          "favorite_count": 14724,
          "handle": "realDonaldTrump",
          "retweet_count": 4484,
          "text": "Off to Indiana! #Trump2016 https://t.co/zqUdaaSaXD",
          "time": "2016-04-20T15:03:10"
         },
         {
          "favorite_count": 2926,
          "handle": "HillaryClinton",
          "retweet_count": 1127,
          "text": "Trump is reinforcing harmful stereotypes and offering a dog whistle to his most hateful supporters.",
          "time": "2016-08-25T19:17:26"
         },
         {
          "favorite_count": 14176,
          "handle": "HillaryClinton",
          "retweet_count": 6848,
          "text": "If Trump is serious about \"making America great again,\" he should start by making his products in America.\nhttps://t.co/1VVoUbgAn3",
          "time": "2016-08-03T13:54:08"
         },
         {
          "favorite_count": 5977,
          "handle": "HillaryClinton",
          "retweet_count": 2314,
          "text": "\"Our choice, Hillary Clinton, has a record of service and a raft of pragmatic ideas.\" —@NYTimes endorsing Hillary… https://t.co/7Sus2PxlWC",
          "time": "2016-09-24T22:58:12"
         },
         {
          "favorite_count": 29734,
          "handle": "realDonaldTrump",
          "retweet_count": 11484,
          "text": "Thank you Florida, Ohio, and Pennsylvania! #CrookedHillary is not qualified. #ImWithYou https://t.co/M1yzgyeEdY",
          "time": "2016-07-13T12:50:04"
         },
         {
          "favorite_count": 6815,
          "handle": "realDonaldTrump",
          "retweet_count": 2626,
          "text": "#MakeAmericaGreatAgain #Trump2016 https://t.co/FvIUXMkrjj",
          "time": "2016-02-26T06:52:24"
         },
         {
          "favorite_count": 11791,
          "handle": "realDonaldTrump",
          "retweet_count": 3694,
          "text": "Do you ever notice that @CNN gives me very little proper representation on my policies. Just watched-nobody knew anything about my foreign P",
          "time": "2016-06-02T15:57:14"
         },
         {
          "favorite_count": 19155,
          "handle": "realDonaldTrump",
          "retweet_count": 6043,
          "text": "Crooked Hillary said that I  want guns brought into the school classroom. Wrong!",
          "time": "2016-05-22T03:55:39"
         },
         {
          "favorite_count": 17421,
          "handle": "realDonaldTrump",
          "retweet_count": 4370,
          "text": "I havn't seen @tonyschwartz in many years, he hardly knows me. Never liked his style. Super lib, Crooked H supporter. Irrelevant dope!",
          "time": "2016-09-10T05:57:59"
         },
         {
          "favorite_count": 11197,
          "handle": "realDonaldTrump",
          "retweet_count": 3911,
          "text": "Join me in Carmel, Indiana- tomorrow at 4pm! #INPrimary \nhttps://t.co/tfW6B0eZDm https://t.co/ZiofZ2D6ck",
          "time": "2016-05-01T23:37:17"
         },
         {
          "favorite_count": 23193,
          "handle": "realDonaldTrump",
          "retweet_count": 11029,
          "text": "#ImWithYou #AmericaFirst https://t.co/Ne4pI7FyU7",
          "time": "2016-09-13T22:09:30"
         },
         {
          "favorite_count": 4619,
          "handle": "realDonaldTrump",
          "retweet_count": 2045,
          "text": "Failing @GlennBeck lost all credibility. Not only was he fired @ FOX, he would have voted for Clinton over McCain. https://t.co/dfCOkb7Ex8",
          "time": "2016-01-23T16:54:37"
         },
         {
          "favorite_count": 21738,
          "handle": "realDonaldTrump",
          "retweet_count": 8625,
          "text": "Wow, 30,000 e-mails were deleted by Crooked Hillary Clinton. She said they had to do with a wedding reception. Liar! How can she run?",
          "time": "2016-05-17T11:29:09"
         },
         {
          "favorite_count": 9845,
          "handle": "realDonaldTrump",
          "retweet_count": 3062,
          "text": "Nevada we are on our way! #VoteTrumpNV #Trump2016\nCaucus locator: https://t.co/r8ijPnCsmO https://t.co/kNhQcETaTV",
          "time": "2016-02-21T23:58:17"
         },
         {
          "favorite_count": 10770,
          "handle": "HillaryClinton",
          "retweet_count": 3638,
          "text": "Trump says he won’t tell anyone what he’ll do about ISIS because he wants to keep his plan “secret.”\n\nWell, the secret is he has no plan.",
          "time": "2016-08-15T17:27:08"
         },
         {
          "favorite_count": 8906,
          "handle": "HillaryClinton",
          "retweet_count": 2820,
          "text": "Here’s the sad truth: There is no other Donald Trump. This is it. https://t.co/XNDh0d5csA",
          "time": "2016-08-09T19:13:29"
         },
         {
          "favorite_count": 28653,
          "handle": "realDonaldTrump",
          "retweet_count": 10859,
          "text": "Thank you! #AmericaFirst https://t.co/6v4C8ykDVl",
          "time": "2016-09-06T12:49:02"
         },
         {
          "favorite_count": 7181,
          "handle": "realDonaldTrump",
          "retweet_count": 1828,
          "text": "After @TrumpTurnberry I will be visiting Aberdeen, the oil capital of Europe, to see my great club, @TrumpScotland.",
          "time": "2016-06-03T03:41:05"
         },
         {
          "favorite_count": 3216,
          "handle": "HillaryClinton",
          "retweet_count": 1127,
          "text": "\"What kind of a person would want to root for 9 million families losing their homes?\n\nOne who should never be president.\" —Hillary on Trump",
          "time": "2016-09-27T18:02:54"
         },
         {
          "favorite_count": 6269,
          "handle": "HillaryClinton",
          "retweet_count": 2593,
          "text": "Hillary was the winner of the first presidential debate—and newspapers across America agree. #SheWon… https://t.co/oDiUHd0eXO",
          "time": "2016-09-27T16:54:22"
         },
         {
          "favorite_count": 32936,
          "handle": "realDonaldTrump",
          "retweet_count": 14653,
          "text": "MAKE AMERICA GREAT AGAIN!",
          "time": "2016-03-17T20:30:08"
         },
         {
          "favorite_count": 2446,
          "handle": "HillaryClinton",
          "retweet_count": 1183,
          "text": "“You’ve got to get yourself and everyone you know registered to vote today.” —@FLOTUS: https://t.co/tTgeqxNqYm",
          "time": "2016-09-16T19:22:54"
         },
         {
          "favorite_count": 2098,
          "handle": "HillaryClinton",
          "retweet_count": 692,
          "text": ".@HillaryClinton on how exciting it is to watch @ChelseaClinton raise daughter Charlotte https://t.co/azKpxtLWeP https://t.co/6OSsRVy7ir",
          "time": "2016-05-07T22:24:26"
         },
         {
          "favorite_count": 1325,
          "handle": "HillaryClinton",
          "retweet_count": 800,
          "text": "Major environmental group makes first ever endorsement of Hillary Clinton https://t.co/wWfuVVuuFy",
          "time": "2016-05-31T12:14:04"
         },
         {
          "favorite_count": 3624,
          "handle": "HillaryClinton",
          "retweet_count": 3747,
          "text": "Trump thinks he's \"great for women\" but this is one of the most anti-woman tickets in history. https://t.co/69r3jZajKp",
          "time": "2016-07-16T15:23:30"
         },
         {
          "favorite_count": 10034,
          "handle": "realDonaldTrump",
          "retweet_count": 3695,
          "text": "\"@AprilLaJune: OREGON votes today! Go vote for @realDonaldTrump and kick it BIG TIME! https://t.co/SLYwyM8w1D\"",
          "time": "2016-05-17T04:40:38"
         },
         {
          "favorite_count": 6023,
          "handle": "HillaryClinton",
          "retweet_count": 2679,
          "text": "We can take on the threat of climate change and make America a clean energy superpower.\n\nOr, we can do nothing. https://t.co/JlYmN61epB",
          "time": "2016-09-06T19:58:33"
         },
         {
          "favorite_count": 12716,
          "handle": "realDonaldTrump",
          "retweet_count": 3256,
          "text": "I look forward to meeting @joniernst today in New Jersey. She has done a great job as Senator of Iowa!",
          "time": "2016-07-04T14:19:13"
         },
         {
          "favorite_count": 3023,
          "handle": "HillaryClinton",
          "retweet_count": 1391,
          "text": "What kind of president would Leslie Knope be?\n \n\"Full speed ahead!\"\nhttps://t.co/p3Y7ww5z6i",
          "time": "2016-05-03T16:12:53"
         },
         {
          "favorite_count": 6367,
          "handle": "realDonaldTrump",
          "retweet_count": 2365,
          "text": "Remember, Cruz and Bush gave us Roberts who upheld #ObamaCare twice! I am the only one who will #MAKEAMERICAGREATAGAIN!",
          "time": "2016-02-19T20:30:24"
         },
         {
          "favorite_count": 20950,
          "handle": "realDonaldTrump",
          "retweet_count": 5873,
          "text": "Will be participating in a town hall event- hosted by @SeanHannity tonight at 10pmE on @FoxNews. Enjoy! https://t.co/7nReqYM7FF",
          "time": "2016-08-17T22:25:02"
         },
         {
          "favorite_count": 8584,
          "handle": "HillaryClinton",
          "retweet_count": 2528,
          "text": "Thanks, @VP Biden! Your support is a BIG… deal. -H https://t.co/ShRoVUFocR",
          "time": "2016-06-10T20:30:57"
         },
         {
          "favorite_count": 18302,
          "handle": "realDonaldTrump",
          "retweet_count": 5083,
          "text": "\"@need2knowu:  @willspeakout yes you are my hero I admire you for laying down your glorious luxurious life to get beat up for America!!!\"",
          "time": "2016-08-13T20:03:55"
         },
         {
          "favorite_count": 4369,
          "handle": "realDonaldTrump",
          "retweet_count": 1432,
          "text": "Thank you - Farmington, New Hampshire! #FITN #Trump2016 https://t.co/bJ9Z3qZBQu",
          "time": "2016-01-26T02:28:36"
         },
         {
          "favorite_count": 11272,
          "handle": "realDonaldTrump",
          "retweet_count": 2332,
          "text": "Will be interviewed on @foxandfriends at 8:30 A.M. Eastern. ENJOY!",
          "time": "2016-08-22T12:31:39"
         },
         {
          "favorite_count": 18479,
          "handle": "HillaryClinton",
          "retweet_count": 6706,
          "text": "\"human rights are women’s rights &amp; women’s rights are human rights.\" - @HillaryClinton #WomensEqualityDay 👸🏽👸🏿👸🏻👸🏾👸🏼 https://t.co/gxD9wF8iwt",
          "time": "2016-08-26T17:30:40"
         },
         {
          "favorite_count": 2112,
          "handle": "HillaryClinton",
          "retweet_count": 757,
          "text": ".@HillaryClinton stands by @RealDonaldTrump running a deplorable campaign.  His comments have been bigoted, mean and untrue.",
          "time": "2016-09-15T13:10:42"
         },
         {
          "favorite_count": 9059,
          "handle": "HillaryClinton",
          "retweet_count": 3417,
          "text": "Anyone willing to sink so low, so often should never be allowed to serve as our Commander-in-Chief.",
          "time": "2016-08-11T17:16:51"
         },
         {
          "favorite_count": 13490,
          "handle": "realDonaldTrump",
          "retweet_count": 4525,
          "text": "Join me in Roanoke, Virginia tomorrow at the Berglund Center- Coliseum ~ 6pm! Tickets available at:… https://t.co/bnEE6NX41Z",
          "time": "2016-09-23T20:13:49"
         },
         {
          "favorite_count": 3227,
          "handle": "HillaryClinton",
          "retweet_count": 1363,
          "text": "We will never be silenced or intimidated by the gun lobby. Honored to have @Everytown &amp; @MomsDemand's support. -H https://t.co/R13G7fkffd",
          "time": "2016-06-03T15:55:50"
         },
         {
          "favorite_count": 24173,
          "handle": "realDonaldTrump",
          "retweet_count": 8526,
          "text": "Thank you! #AmericaFirst https://t.co/MYG45LxGmH",
          "time": "2016-07-02T15:23:25"
         },
         {
          "favorite_count": 5243,
          "handle": "HillaryClinton",
          "retweet_count": 1796,
          "text": "You heard @FLOTUS. Here's how you can get involved in this campaign → https://t.co/WVUvFhb6bp https://t.co/mjEJZ01Lq0",
          "time": "2016-07-26T20:27:15"
         },
         {
          "favorite_count": 63732,
          "handle": "realDonaldTrump",
          "retweet_count": 24432,
          "text": "If Russia or any other country or person has Hillary Clinton's 33,000 illegally deleted emails, perhaps they should share them with the FBI!",
          "time": "2016-07-27T16:16:02"
         },
         {
          "favorite_count": 3226,
          "handle": "HillaryClinton",
          "retweet_count": 874,
          "text": "50 days to go. Don't miss Hillary live from @TempleUniv: https://t.co/qg6J7SXrr0",
          "time": "2016-09-19T16:28:29"
         },
         {
          "favorite_count": 5282,
          "handle": "realDonaldTrump",
          "retweet_count": 1826,
          "text": "I have an idea for @JebBush whose campaign is a disaster. Try using your last name and don't be ashamed of it!",
          "time": "2016-01-07T16:26:14"
         },
         {
          "favorite_count": 2727,
          "handle": "HillaryClinton",
          "retweet_count": 1293,
          "text": "On #WomensEqualityDay, celebrate your right to vote by making sure you're ready to exercise it: https://t.co/oQJdlV15S2",
          "time": "2016-08-26T16:36:16"
         },
         {
          "favorite_count": 9334,
          "handle": "HillaryClinton",
          "retweet_count": 2311,
          "text": "“Contrary to Donald Trump, I believe every time we knock down a barrier in America, it liberates everyone in America.” —Hillary",
          "time": "2016-07-29T17:45:13"
         },
         {
          "favorite_count": 57971,
          "handle": "realDonaldTrump",
          "retweet_count": 19836,
          "text": "My team of deplorables will be managing my Twitter account for this evenings debate. Tune in!\n#DebateNight #TrumpPence16",
          "time": "2016-09-26T22:31:53"
         },
         {
          "favorite_count": 23112,
          "handle": "realDonaldTrump",
          "retweet_count": 11310,
          "text": "#AmericasMerkel https://t.co/QFRs4bEUC1",
          "time": "2016-08-15T20:28:30"
         },
         {
          "favorite_count": 10485,
          "handle": "realDonaldTrump",
          "retweet_count": 3667,
          "text": "THANK YOU- Clemson, South Carolina! #MakeAmericaGreatAgain #SCPrimary https://t.co/FgACmaFxxc",
          "time": "2016-02-11T02:12:19"
         },
         {
          "favorite_count": 17062,
          "handle": "realDonaldTrump",
          "retweet_count": 5347,
          "text": "Goofy Elizabeth Warren has been one of the least effective Senators in the entire U.S. Senate. She has done nothing!",
          "time": "2016-05-11T14:18:21"
         },
         {
          "favorite_count": 2253,
          "handle": "HillaryClinton",
          "retweet_count": 800,
          "text": "Taking care of our veterans is part of our solemn duty as Americans: https://t.co/cteQMGWzpE https://t.co/WsnW9E811n",
          "time": "2016-05-31T23:51:42"
         },
         {
          "favorite_count": 15568,
          "handle": "realDonaldTrump",
          "retweet_count": 4940,
          "text": "Gov Mike Pence has just stated that Donald Trump has taken a strong stance on Hoosier jobs, and he thanks me! I will bring back jobs to USA.",
          "time": "2016-05-02T11:21:02"
         },
         {
          "favorite_count": 17668,
          "handle": "realDonaldTrump",
          "retweet_count": 4561,
          "text": "So great to be in New York. Catching up on many things (remember, I am still running a major business while I campaign) and loving it!",
          "time": "2016-04-08T12:03:23"
         },
         {
          "favorite_count": 4236,
          "handle": "HillaryClinton",
          "retweet_count": 2029,
          "text": "Your potential next president on building a wall...\n \nAnd bathrooms.\nhttps://t.co/SRnJ0if63D",
          "time": "2016-07-17T01:03:45"
         },
         {
          "favorite_count": 5553,
          "handle": "HillaryClinton",
          "retweet_count": 2302,
          "text": "\"I'm a feminist because I believe women deserve the same rights as men.\" —Hillary #MSNBCTownhall",
          "time": "2016-04-26T01:52:44"
         },
         {
          "favorite_count": 15681,
          "handle": "realDonaldTrump",
          "retweet_count": 5576,
          "text": "The rally in Cincinnati is ON. Media put out false reports that it was cancelled. Will be great - love you Ohio!",
          "time": "2016-03-12T14:35:09"
         },
         {
          "favorite_count": 3257,
          "handle": "HillaryClinton",
          "retweet_count": 1533,
          "text": "\"Quiero que tú ayudes a elegirla nuestra próxima Presidenta de los Estados Unidos”—Obama. https://t.co/afIzmJR7Jp",
          "time": "2016-07-06T00:18:36"
         },
         {
          "favorite_count": 29731,
          "handle": "realDonaldTrump",
          "retweet_count": 7267,
          "text": "I visited our Trump Tower campaign headquarters last night, after returning from Ohio and Arizona, and it was packed with great pros - WIN!",
          "time": "2016-09-02T12:35:44"
         },
         {
          "favorite_count": 5379,
          "handle": "HillaryClinton",
          "retweet_count": 2039,
          "text": "“@BernieSanders, you’ve put economic and social justice issues front and center where they belong.” —Hillary https://t.co/KZP2ohDTYD",
          "time": "2016-07-29T02:38:29"
         },
         {
          "favorite_count": 5204,
          "handle": "HillaryClinton",
          "retweet_count": 1736,
          "text": "We are not going to let Donald Trump bankrupt America the way he bankrupted his casinos.",
          "time": "2016-06-27T15:21:46"
         },
         {
          "favorite_count": 4267,
          "handle": "HillaryClinton",
          "retweet_count": 2503,
          "text": "16. You've mentioned ~120 foreign deals, including in countries with national security implications. Where and with whom are you working?",
          "time": "2016-09-14T16:52:50"
         },
         {
          "favorite_count": 24025,
          "handle": "realDonaldTrump",
          "retweet_count": 8874,
          "text": "\"@LindaSuhler: Trump voters don't scare or back down. Our numbers are growing &amp; we're taking our country BACK. #Trump2016🇺🇸 #MAGA",
          "time": "2016-06-27T01:33:10"
         },
         {
          "favorite_count": 3055,
          "handle": "HillaryClinton",
          "retweet_count": 1065,
          "text": "Let's listen to families whose loved ones have been killed in police incidents. Alton Sterling. Philando Castile. Sandra Bland—one year ago.",
          "time": "2016-07-13T17:00:41"
         },
         {
          "favorite_count": 6290,
          "handle": "realDonaldTrump",
          "retweet_count": 2571,
          "text": "#MakeAmericaGreatAgain #Trump2016 https://t.co/3HmclWL9GT",
          "time": "2016-01-08T22:36:09"
         },
         {
          "favorite_count": 22609,
          "handle": "realDonaldTrump",
          "retweet_count": 8874,
          "text": "A former Secret Service Agent for President Clinton excoriates Crooked Hillary describing her as ERRATIC &amp; VIOLENT. Bad temperament for pres",
          "time": "2016-06-07T01:51:12"
         },
         {
          "favorite_count": 5049,
          "handle": "HillaryClinton",
          "retweet_count": 2280,
          "text": "\"If the space you’re in doesn’t have room for your voice don’t be afraid to carve out a space of your own.\" —Hillary https://t.co/VQQMyYHyNm",
          "time": "2016-07-01T17:06:38"
         },
         {
          "favorite_count": 4775,
          "handle": "HillaryClinton",
          "retweet_count": 1428,
          "text": "\"I think after the last week...we'd better be ready to go win an election in November.\" —Hillary in Tampa",
          "time": "2016-07-22T21:48:31"
         },
         {
          "favorite_count": 7249,
          "handle": "realDonaldTrump",
          "retweet_count": 1956,
          "text": "\"@GovBrewer: I'll be a guest today on Making Money with @cvpayne on @ Fox Business 6 PM ET / 3 PM PT Discussing @realDonaldTrump. Tune in!\"",
          "time": "2016-06-28T19:20:15"
         },
         {
          "favorite_count": 2593,
          "handle": "HillaryClinton",
          "retweet_count": 1383,
          "text": "\"Even this—the killing of black people by police—is somehow all about him.\" —Hillary on Trump https://t.co/Uwk2oFmIwZ",
          "time": "2016-07-13T17:11:12"
         },
         {
          "favorite_count": 4990,
          "handle": "HillaryClinton",
          "retweet_count": 2232,
          "text": "\"As he goes after women, as he goes after literally every group, I'm going to be their voice.\" —Hillary on Trump\nhttps://t.co/iNUo2EuTYO",
          "time": "2016-05-04T13:00:33"
         },
         {
          "favorite_count": 8716,
          "handle": "realDonaldTrump",
          "retweet_count": 2440,
          "text": "Thanks! https://t.co/5jiSyvQiNj",
          "time": "2016-04-27T17:44:18"
         },
         {
          "favorite_count": 12619,
          "handle": "HillaryClinton",
          "retweet_count": 3965,
          "text": "Monitoring the horrific situation in Munich. We stand with our friends in Germany as they work to bring those responsible to justice. -H",
          "time": "2016-07-22T20:11:43"
         },
         {
          "favorite_count": 10676,
          "handle": "HillaryClinton",
          "retweet_count": 5993,
          "text": "Let's be clear: Nothing—including an audit—is preventing Trump from releasing his tax returns. https://t.co/mpGiRIaPgD",
          "time": "2016-09-17T19:49:56"
         },
         {
          "favorite_count": 30925,
          "handle": "realDonaldTrump",
          "retweet_count": 13018,
          "text": "Bernie sanders has abandoned his supporters by endorsing pro-war pro-TPP pro-Wall Street Crooked Hillary Clinton.",
          "time": "2016-07-12T17:03:44"
         },
         {
          "favorite_count": 5127,
          "handle": "HillaryClinton",
          "retweet_count": 3307,
          "text": "\"He's built his empire on other people's backs.\" —A small business owner who Donald Trump still owes $30,000\nhttps://t.co/i51CBQqWCk",
          "time": "2016-07-19T19:19:57"
         },
         {
          "favorite_count": 10808,
          "handle": "HillaryClinton",
          "retweet_count": 3912,
          "text": "A night we'll never forget.\nhttps://t.co/BOq4CziQsC",
          "time": "2016-07-29T00:33:57"
         },
         {
          "favorite_count": 36501,
          "handle": "realDonaldTrump",
          "retweet_count": 14214,
          "text": "\"@RealJamesWoods:  Without absolutely OWNING the liberal media, HillaryClinton wouldn't stand a chance. #VoterFraud and #MSM her only hope.\"",
          "time": "2016-07-31T20:31:06"
         },
         {
          "favorite_count": 49552,
          "handle": "realDonaldTrump",
          "retweet_count": 16484,
          "text": "President Obama spoke last night about a world that doesn’t exist. 70% of the people think our country is going in the wrong direction. #DNC",
          "time": "2016-07-28T15:09:11"
         },
         {
          "favorite_count": 920,
          "handle": "HillaryClinton",
          "retweet_count": 364,
          "text": "Applaud Senate Dems for their strong proposal to help families fleeing violence and persecution in Central America. https://t.co/OPhFDzFsvS",
          "time": "2016-06-30T20:23:47"
         },
         {
          "favorite_count": 3352,
          "handle": "HillaryClinton",
          "retweet_count": 1455,
          "text": "How will you feel if you wake up on Jan. 20 to President Trump? Chip in now to help keep him out of the White House: https://t.co/SAwvtVUn8U",
          "time": "2016-07-22T04:02:47"
         },
         {
          "favorite_count": 2776,
          "handle": "HillaryClinton",
          "retweet_count": 1101,
          "text": "\"Let’s keep going together.\nLet’s organize and mobilize.\nLet’s make sure that love trumps hate.\" —Hillary",
          "time": "2016-05-02T00:59:57"
         },
         {
          "favorite_count": 8828,
          "handle": "realDonaldTrump",
          "retweet_count": 3020,
          "text": "THANK YOU LAS VEGAS, NEVADA!\n#NevadaCaucus #VoteTrumpNV\nhttps://t.co/cZlNRrFtW3 https://t.co/scdxT24Dye",
          "time": "2016-02-23T05:19:29"
         },
         {
          "favorite_count": 6040,
          "handle": "HillaryClinton",
          "retweet_count": 4348,
          "text": "50 GOP officials sign a letter declaring that Trump “would be the most reckless president in American history” https://t.co/QglcBt9uog",
          "time": "2016-08-08T22:43:21"
         },
         {
          "favorite_count": 4035,
          "handle": "HillaryClinton",
          "retweet_count": 1935,
          "text": "\"I was Capt. Khan’s commander in Iraq. The Khan family is our family.\" https://t.co/Y1myW1WGjN via @PostOpinions",
          "time": "2016-08-03T20:58:58"
         },
         {
          "favorite_count": 8873,
          "handle": "realDonaldTrump",
          "retweet_count": 3152,
          "text": "Great Twitter poll- and I wasn't even there. Thank you! #GOPDebate https://t.co/yLJGkoOeBg",
          "time": "2016-01-29T14:43:21"
         },
         {
          "favorite_count": 2340,
          "handle": "HillaryClinton",
          "retweet_count": 1508,
          "text": "Pence touting Indiana's economy? It's tracked the nation's recovery because of Obama policies (auto rescue!) that Pence opposed. #RNCinCLE",
          "time": "2016-07-21T02:54:10"
         },
         {
          "favorite_count": 5795,
          "handle": "HillaryClinton",
          "retweet_count": 2247,
          "text": "Hate is not welcome in our homes. We shouldn't welcome it into the White House. #StrongerTogether https://t.co/B3sK5KpiQ4",
          "time": "2016-08-28T01:22:48"
         },
         {
          "favorite_count": 3259,
          "handle": "HillaryClinton",
          "retweet_count": 3896,
          "text": "Mike Pence's battle against Planned Parenthood caused an HIV outbreak in Indiana. \n\nhttps://t.co/SNGq4JcENN",
          "time": "2016-07-15T16:50:51"
         },
         {
          "favorite_count": 1592,
          "handle": "HillaryClinton",
          "retweet_count": 857,
          "text": "\"Isn't he supposed to be some kind of amazing businessman? What ... happened here?\" @HillaryClinton https://t.co/n7uCSNeI2w",
          "time": "2016-07-06T16:36:13"
         },
         {
          "favorite_count": 8163,
          "handle": "realDonaldTrump",
          "retweet_count": 2599,
          "text": "Join me tomorrow! #Trump2016\n#MakeAmericaGreatAgain \nhttps://t.co/1Yak4I5B7b",
          "time": "2016-03-18T20:39:05"
         },
         {
          "favorite_count": 2289,
          "handle": "HillaryClinton",
          "retweet_count": 1718,
          "text": "Leading criminologist on Trump's speech: “A good illustration of how to lie with statistics.” https://t.co/QIwd78V7ce",
          "time": "2016-07-22T14:39:42"
         },
         {
          "favorite_count": 5862,
          "handle": "realDonaldTrump",
          "retweet_count": 2153,
          "text": "\"@big_carsonrocks: AMERICA...Stop being duped...WAKE UP Cruz &amp; Rubio establishment phonies. DonaldTrump only truthful &amp; not owned candidate\"",
          "time": "2016-02-06T19:10:45"
         },
         {
          "favorite_count": 10531,
          "handle": "realDonaldTrump",
          "retweet_count": 3557,
          "text": "\"@sandrajeanne48: No way I believe Trump at 70% disapproval with women. Went to 3 rallies. At least 1/2 women. MSM LIES @TheFive\"",
          "time": "2016-05-18T02:40:34"
         },
         {
          "favorite_count": 3970,
          "handle": "realDonaldTrump",
          "retweet_count": 1464,
          "text": "Thank you! #VoteTrump\nhttps://t.co/g7eeySMUdl",
          "time": "2016-01-13T18:22:20"
         },
         {
          "favorite_count": 1995,
          "handle": "HillaryClinton",
          "retweet_count": 798,
          "text": "Now we know what Trump really thinks about us. Sad! https://t.co/o3ohaHfR77 #TrumpYourself https://t.co/rYYXMCLjyr",
          "time": "2016-07-21T16:27:06"
         },
         {
          "favorite_count": 26159,
          "handle": "realDonaldTrump",
          "retweet_count": 7519,
          "text": ".@SanDiegoPD- Fantastic job on handling the thugs who tried to disrupt our very peaceful and well attended rally. Greatly appreciated!",
          "time": "2016-05-28T02:48:22"
         },
         {
          "favorite_count": 8589,
          "handle": "realDonaldTrump",
          "retweet_count": 2445,
          "text": "Just got to listen to Rush Limbaugh - the guy is fantastic!",
          "time": "2016-01-27T19:01:01"
         },
         {
          "favorite_count": 15674,
          "handle": "realDonaldTrump",
          "retweet_count": 6575,
          "text": "The special interests and people who control our politicians (puppets) are spending $25 million on misleading and fraudulent T.V. ads on me.",
          "time": "2016-03-02T17:53:38"
         },
         {
          "favorite_count": 5937,
          "handle": "HillaryClinton",
          "retweet_count": 2127,
          "text": "Stronger Together comes out in Sept—a book on Hillary's policy plans and vision for America: https://t.co/okQWnu725t https://t.co/lzyuvRstpt",
          "time": "2016-08-05T18:29:22"
         },
         {
          "favorite_count": 23956,
          "handle": "realDonaldTrump",
          "retweet_count": 7526,
          "text": "Thank you Jacksonville, Florida!\n#MakeAmericaGreatAgain \nhttps://t.co/xrTQjt9WOC https://t.co/VSnBoQYoZs",
          "time": "2016-08-04T02:27:52"
         },
         {
          "favorite_count": 23259,
          "handle": "realDonaldTrump",
          "retweet_count": 7869,
          "text": "Crooked Hillary Clinton and her team \"were extremely careless in their handling of very sensitive, highly classified information.\" Not fit!",
          "time": "2016-07-06T11:12:45"
         },
         {
          "favorite_count": 3323,
          "handle": "realDonaldTrump",
          "retweet_count": 1098,
          "text": "\"@Bonfiredesigns: Standing with @realDonaldTrump as he defends our sailors and military and Americans in the USA https://t.co/YKvKNsZmih\"",
          "time": "2016-01-14T19:21:11"
         },
         {
          "favorite_count": 5635,
          "handle": "HillaryClinton",
          "retweet_count": 2384,
          "text": "Trump went to Flint to draw attention to the city's lead poisoning crisis—but he just made a spectacle of himself. https://t.co/Dw4KoVgrQ3",
          "time": "2016-09-17T21:12:52"
         },
         {
          "favorite_count": 34299,
          "handle": "realDonaldTrump",
          "retweet_count": 8432,
          "text": "Great job today by the NYPD in protecting the people and saving the climber.",
          "time": "2016-08-11T02:07:07"
         },
         {
          "favorite_count": 1212,
          "handle": "HillaryClinton",
          "retweet_count": 661,
          "text": "\"No nos representas. Tus ideas no nos representan. Tus valores no nos representan\"\nCarta abierta a Trump. Firma hoy: https://t.co/LnuTNGzIvs",
          "time": "2016-07-18T17:55:03"
         },
         {
          "favorite_count": 38835,
          "handle": "HillaryClinton",
          "retweet_count": 18501,
          "text": "We are better than this.",
          "time": "2016-07-22T03:10:09"
         },
         {
          "favorite_count": 5203,
          "handle": "HillaryClinton",
          "retweet_count": 2305,
          "text": "\"It is cruel and terrible that her life was cut short by a violent act of political intolerance\" —Hillary on Jo Cox: https://t.co/FUShBg11it",
          "time": "2016-06-16T23:19:10"
         },
         {
          "favorite_count": 3420,
          "handle": "HillaryClinton",
          "retweet_count": 1125,
          "text": "“Generations of heroic Americans have made our nation more inclusive, more expansive, and more just.” —@CoryBooker #DemsInPhilly",
          "time": "2016-07-26T01:39:39"
         },
         {
          "favorite_count": 7780,
          "handle": "realDonaldTrump",
          "retweet_count": 3031,
          "text": "Nasty Ted Cruz is at it again- same dirty tricks he used w/ @RealBenCarson- saying I may not be on ballot &amp; I hold liberal positions. LIES!",
          "time": "2016-02-14T00:11:36"
         },
         {
          "favorite_count": 2616,
          "handle": "HillaryClinton",
          "retweet_count": 949,
          "text": "\"Let me tell you, my faith in Hillary Clinton has always been rewarded.\" —@POTUS",
          "time": "2016-07-05T19:57:57"
         },
         {
          "favorite_count": 5416,
          "handle": "HillaryClinton",
          "retweet_count": 1771,
          "text": "\"I’m pleased to announce a nationwide drive to get 3 million people to register to vote and commit to vote in this election.\" —Hillary",
          "time": "2016-07-18T17:15:37"
         },
         {
          "favorite_count": 3048,
          "handle": "HillaryClinton",
          "retweet_count": 1281,
          "text": "In 1990, explorer and marine biologist Sylvia Earle became the first woman appointed chief scientist at @NOAA. https://t.co/WSDCF3c2je",
          "time": "2016-04-25T17:15:47"
         },
         {
          "favorite_count": 11649,
          "handle": "realDonaldTrump",
          "retweet_count": 4580,
          "text": "I am self-funding my campaign - putting up my own money, not controlled.  Cruz is spending $millions on ads paid for by his N.Y. bosses.",
          "time": "2016-01-17T21:05:47"
         },
         {
          "favorite_count": 8146,
          "handle": "realDonaldTrump",
          "retweet_count": 2812,
          "text": "Wow! Honored to be chosen by the highly respected + accurate Washington &amp; Lee Mock Convention. I hope you are right - I will make you proud!",
          "time": "2016-02-14T00:00:49"
         },
         {
          "favorite_count": 3314,
          "handle": "realDonaldTrump",
          "retweet_count": 1340,
          "text": "\"@AmericanAsPie:  @glennbeck @SarahPalinUSA Remember when Glenn gave out gifts to ILLEGAL ALIENS at crossing the border? Me too!\"",
          "time": "2016-01-21T13:57:39"
         },
         {
          "favorite_count": 7042,
          "handle": "HillaryClinton",
          "retweet_count": 2535,
          "text": "“Hillary will make us stronger together. You know it because she spent a lifetime doing it.” —@BillClinton https://t.co/MLSDqDUhmf",
          "time": "2016-07-27T02:55:31"
         },
         {
          "favorite_count": 11321,
          "handle": "HillaryClinton",
          "retweet_count": 8124,
          "text": "Hours after the #BrexitVote, Donald Trump was in the U.K.\n\nTalking about how he, personally, would benefit.\nhttps://t.co/YEt5LozDpt",
          "time": "2016-06-24T18:14:04"
         },
         {
          "favorite_count": 48939,
          "handle": "realDonaldTrump",
          "retweet_count": 20208,
          "text": "Our incompetent Secretary of State, Hillary Clinton, was the one who started talks to give 400 million dollars, in cash, to Iran. Scandal!",
          "time": "2016-08-03T10:23:27"
         },
         {
          "favorite_count": 46440,
          "handle": "realDonaldTrump",
          "retweet_count": 21176,
          "text": "Reuters just announced that Secret Service never spoke to me or my campaign. Made up story by @CNN is a hoax. Totally dishonest.",
          "time": "2016-08-10T23:38:15"
         },
         {
          "favorite_count": 27234,
          "handle": "realDonaldTrump",
          "retweet_count": 8564,
          "text": "The reason I put up approximately $50 million for my successful primary campaign is very simple, I want to MAKE AMERICA GREAT AGAIN!",
          "time": "2016-06-30T19:30:54"
         },
         {
          "favorite_count": 6116,
          "handle": "HillaryClinton",
          "retweet_count": 2496,
          "text": "We’ve got to say with one voice that Latinos are a vital part of the American community.\nhttps://t.co/IfxluhqpKQ",
          "time": "2016-07-16T21:43:03"
         },
         {
          "favorite_count": 3179,
          "handle": "HillaryClinton",
          "retweet_count": 1689,
          "text": "The only one to benefit by casting our commitment to NATO in doubt is Russia. #NATO #StandTogether",
          "time": "2016-07-21T21:35:27"
         },
         {
          "favorite_count": 11241,
          "handle": "HillaryClinton",
          "retweet_count": 4218,
          "text": "\"I know how hard this job can be. That’s why I know Hillary will be so good at it.\" —@POTUS\nhttps://t.co/GDhRYAVn0P",
          "time": "2016-06-09T23:53:31"
         },
         {
          "favorite_count": 1271,
          "handle": "HillaryClinton",
          "retweet_count": 434,
          "text": "Live from HQ: @BrynneCraig, @LorellaPraeli, and @JessLivMo introduce our 3 Million Stronger voter registration goal: https://t.co/7jW5sbh6Hp",
          "time": "2016-07-19T21:21:54"
         },
         {
          "favorite_count": 11989,
          "handle": "realDonaldTrump",
          "retweet_count": 4490,
          "text": "THANK YOU!  \n#MakeAmericaGreatAgain #Trump2016\nhttps://t.co/nvgOPoo5qf https://t.co/0JCjfbcpJZ",
          "time": "2016-02-25T22:16:26"
         },
         {
          "favorite_count": 5242,
          "handle": "HillaryClinton",
          "retweet_count": 2212,
          "text": "People of different faiths, backgrounds, sexual orientations, and gender identities are coming together to say: we won’t let hate defeat us.",
          "time": "2016-06-14T16:31:00"
         },
         {
          "favorite_count": 8313,
          "handle": "realDonaldTrump",
          "retweet_count": 2299,
          "text": "My next project is pretty amazing…!\nxx, Ivanka https://t.co/Ucq3dz20sQ https://t.co/f60biSURQ7",
          "time": "2016-06-06T16:34:08"
         },
         {
          "favorite_count": 6556,
          "handle": "HillaryClinton",
          "retweet_count": 1865,
          "text": "The NRA is based in Virginia, but that's never stopped @TimKaine from leading the fight to reduce gun violence. https://t.co/J9F086bQmo",
          "time": "2016-08-07T20:17:42"
         },
         {
          "favorite_count": 16879,
          "handle": "realDonaldTrump",
          "retweet_count": 4430,
          "text": "Dummy writer @tonyschwartz, who wanted to do a second book with me for years (I said no), is now a hostile basket case who feels jilted!",
          "time": "2016-09-10T05:47:11"
         },
         {
          "favorite_count": 29448,
          "handle": "realDonaldTrump",
          "retweet_count": 11103,
          "text": "An analysis showed that Bernie Sanders would have won the Democratic nomination if it were not for the Super Delegates.",
          "time": "2016-07-24T12:30:15"
         },
         {
          "favorite_count": 2583,
          "handle": "HillaryClinton",
          "retweet_count": 1148,
          "text": "Clinton today released a “sweeping agenda” to address America’s mental health problem, per @NickGass. https://t.co/t2ypVgeyfd",
          "time": "2016-08-30T01:20:46"
         },
         {
          "favorite_count": 3526,
          "handle": "realDonaldTrump",
          "retweet_count": 796,
          "text": "Just landed in New Hampshire. Will be at the venue shortly. #FITN",
          "time": "2016-01-25T23:50:56"
         },
         {
          "favorite_count": 11020,
          "handle": "realDonaldTrump",
          "retweet_count": 4416,
          "text": "Mitt Romney,who totally blew an election that should have been won and whose tax returns made him look like a fool, is now playing tough guy",
          "time": "2016-02-24T23:13:15"
         },
         {
          "favorite_count": 7946,
          "handle": "realDonaldTrump",
          "retweet_count": 2728,
          "text": "Great poll! Thank you North Carolina! \n#VoteTrumpNC on 3/15!\nTrump 36%\nCruz 18%\nRubio 18%\nCarson 10%\nKasich 7%\nVia @SurveyUSA",
          "time": "2016-02-23T01:34:44"
         },
         {
          "favorite_count": 28792,
          "handle": "realDonaldTrump",
          "retweet_count": 9719,
          "text": "Don King, and so many other African Americans who know me well and endorsed me, would not have done so if they thought I was a racist!",
          "time": "2016-06-11T12:00:26"
         },
         {
          "favorite_count": 12743,
          "handle": "realDonaldTrump",
          "retweet_count": 4443,
          "text": "THANK YOU AMERICA!\n#MakeAmericaGreatAgain https://t.co/PvhGP2HmbN",
          "time": "2016-05-02T21:50:17"
         },
         {
          "favorite_count": 40449,
          "handle": "realDonaldTrump",
          "retweet_count": 8599,
          "text": "What a great four days in Cleveland. So proud of the great job done by the RNC and all. The police and Secret Service were fantastic!",
          "time": "2016-07-22T13:07:51"
         },
         {
          "favorite_count": 5270,
          "handle": "HillaryClinton",
          "retweet_count": 2567,
          "text": "Trump’s tax plan could give his own family a $4 billion tax break. Here's what we could do with that money instead: https://t.co/89rNgjYcGk",
          "time": "2016-08-20T19:14:54"
         },
         {
          "favorite_count": 2326,
          "handle": "HillaryClinton",
          "retweet_count": 1003,
          "text": "Let’s build a future where love trumps hate. https://t.co/tTgeqxNqYm",
          "time": "2016-09-16T14:05:45"
         },
         {
          "favorite_count": 751,
          "handle": "HillaryClinton",
          "retweet_count": 526,
          "text": "Paul Ryan and Donald Trump just met. Here's why it was probably pretty awkward.\nhttps://t.co/Fxu0td8N78",
          "time": "2016-05-12T14:50:01"
         },
         {
          "favorite_count": 930,
          "handle": "HillaryClinton",
          "retweet_count": 580,
          "text": "Donald Trump named 11 judges he would consider nominating to the Supreme Court.\n\nHere's what's at stake. https://t.co/Ft3TmCeeEA",
          "time": "2016-05-19T15:46:17"
         },
         {
          "favorite_count": 9417,
          "handle": "realDonaldTrump",
          "retweet_count": 3410,
          "text": "THANK YOU to everyone in Little Rock, Arkansas tonight! A record crowd of 12K. #Trump2016\nhttps://t.co/MjtIq2ii0Q https://t.co/I9WkPN3pWm",
          "time": "2016-02-04T02:31:48"
         },
         {
          "favorite_count": 2061,
          "handle": "HillaryClinton",
          "retweet_count": 653,
          "text": "He’s also made clear he’s fully committed to Hillary's policy agenda, which he understands includes repeal of Hyde. https://t.co/lzHg0WpJst",
          "time": "2016-07-31T19:57:26"
         },
         {
          "favorite_count": 9204,
          "handle": "HillaryClinton",
          "retweet_count": 3188,
          "text": ".@SenWarren endorsing Hillary on @maddow: \"She's a fighter.\"\nhttps://t.co/ppzKyKbCaU",
          "time": "2016-06-10T02:43:06"
         },
         {
          "favorite_count": 14762,
          "handle": "realDonaldTrump",
          "retweet_count": 3591,
          "text": "Will be delivering a major speech tonight - live on @oreillyfactor at 8:10pm from Pensacola, Florida.",
          "time": "2016-09-10T00:11:22"
         },
         {
          "favorite_count": 20073,
          "handle": "realDonaldTrump",
          "retweet_count": 5871,
          "text": "The media is on a new phony kick about my management style. I spend much less money &amp; get much better results! What we need as Prez!",
          "time": "2016-05-28T20:28:40"
         },
         {
          "favorite_count": 2421,
          "handle": "HillaryClinton",
          "retweet_count": 738,
          "text": "Let’s fight to make college tuition-free for the middle class and debt-free for everyone: https://t.co/BNZJ6ScplY",
          "time": "2016-08-11T18:01:25"
         },
         {
          "favorite_count": 6460,
          "handle": "realDonaldTrump",
          "retweet_count": 1651,
          "text": ".@AndreBauer  Great job and advice on @CNN  @jaketapper  Thank you!",
          "time": "2016-04-24T13:58:53"
         },
         {
          "favorite_count": 6004,
          "handle": "HillaryClinton",
          "retweet_count": 4722,
          "text": "This small business owner sold Donald Trump pianos for his Atlantic City casino.\n\nTrump stiffed him for the payment. https://t.co/i51CBQ9lKM",
          "time": "2016-07-20T02:04:24"
         },
         {
          "favorite_count": 4783,
          "handle": "realDonaldTrump",
          "retweet_count": 1442,
          "text": "Word is that little Morty Zuckerman’s @NYDailyNews loses more than $50 million per year---can that be possible?",
          "time": "2016-02-13T02:50:03"
         },
         {
          "favorite_count": 3766,
          "handle": "HillaryClinton",
          "retweet_count": 1090,
          "text": "Well said, Coach Auriemma. Keep winning, @USABasketball. https://t.co/1paG3IC51b",
          "time": "2016-08-14T20:26:30"
         },
         {
          "favorite_count": 30089,
          "handle": "realDonaldTrump",
          "retweet_count": 9445,
          "text": "So I raised/gave $5,600,000 for the veterans and the media makes me look bad! They do anything to belittle - totally biased.",
          "time": "2016-06-01T13:17:58"
         },
         {
          "favorite_count": 2106,
          "handle": "HillaryClinton",
          "retweet_count": 552,
          "text": "“As Scranton has always had my back, we—all of us—are going to have your back, Hillary.” —@JoeBiden",
          "time": "2016-08-15T17:32:48"
         },
         {
          "favorite_count": 13655,
          "handle": "realDonaldTrump",
          "retweet_count": 4441,
          "text": "Stuart Stevens, the failed campaign manager of Mitt Romney's historic loss, is now telling the Republican Party what to do with Trump. Sad!",
          "time": "2016-03-17T10:09:00"
         },
         {
          "favorite_count": 3191,
          "handle": "HillaryClinton",
          "retweet_count": 999,
          "text": "“What we heard was a deeply pessimistic vision of a country where we turn against each other.” —@POTUS on last week’s GOP convention",
          "time": "2016-07-28T03:04:23"
         },
         {
          "favorite_count": 25288,
          "handle": "realDonaldTrump",
          "retweet_count": 10252,
          "text": "\"@Don_Vito_08: \"A picture is worth a thousand words\" @realDonaldTrump  #LyingTed #NeverCruz  @MELANIATRUMP https://t.co/5bvVEwMVF8\"",
          "time": "2016-03-24T03:55:00"
         },
         {
          "favorite_count": 2931,
          "handle": "HillaryClinton",
          "retweet_count": 872,
          "text": "Hillary remembers her dad on Father's Day.\nhttps://t.co/0XQPI7FCJw",
          "time": "2016-06-19T18:34:38"
         },
         {
          "favorite_count": 15567,
          "handle": "HillaryClinton",
          "retweet_count": 11973,
          "text": "No legit reason @realDonaldTrump can't release returns while being audited, but if scared, release earlier returns no longer under audit.",
          "time": "2016-09-27T01:34:32"
         },
         {
          "favorite_count": 8013,
          "handle": "HillaryClinton",
          "retweet_count": 3418,
          "text": "Muslims and Mexican immigrants serve with distinction in the U.S. military. Trump could learn something about being an American from them.",
          "time": "2016-06-04T18:04:56"
         },
         {
          "favorite_count": 5012,
          "handle": "HillaryClinton",
          "retweet_count": 2095,
          "text": "Watch Hillary wonk out with a nurse in New Jersey over solving one of the world's most serious problems.\nhttps://t.co/0Ej6gaWzIf",
          "time": "2016-05-29T14:10:44"
         },
         {
          "favorite_count": 6183,
          "handle": "realDonaldTrump",
          "retweet_count": 1430,
          "text": "\"@tcloer11: @realDonaldTrump Great job! Make America Great Again!\"",
          "time": "2016-05-25T05:41:30"
         },
         {
          "favorite_count": 10577,
          "handle": "realDonaldTrump",
          "retweet_count": 4377,
          "text": "BREAKING POLL: Trump Gains 11 Points on Clinton Since March=&gt; Now Leads Crooked Hillary 46-44 https://t.co/y3BGy15Erb via @gatewaypundit",
          "time": "2016-05-22T15:28:44"
         },
         {
          "favorite_count": 24657,
          "handle": "realDonaldTrump",
          "retweet_count": 8524,
          "text": "Crooked Hillary has once again been proven to be a person who is dishonest, incompetent and of very bad judgement.",
          "time": "2016-07-06T11:21:34"
         },
         {
          "favorite_count": 3181,
          "handle": "realDonaldTrump",
          "retweet_count": 855,
          "text": "\"@marybnall01: @realDonaldTrump watched lowell mass speech. Awesome. Great crowd. Make America Great Again!!!!!!\"",
          "time": "2016-01-05T03:44:17"
         },
         {
          "favorite_count": 9106,
          "handle": "realDonaldTrump",
          "retweet_count": 2550,
          "text": "\"@EricTrump: Wishing our father tremendous luck in Michigan, Mississippi, Idaho &amp; Hawaii today! Amazing father! https://t.co/cYpx4eC9W @Q\"",
          "time": "2016-03-08T15:26:54"
         },
         {
          "favorite_count": 1292,
          "handle": "HillaryClinton",
          "retweet_count": 516,
          "text": "\"You are often unsung heroes. And I want you to know this: Your fights are my fights.\" —Hillary to @SEIU members in Detroit",
          "time": "2016-05-23T17:54:43"
         },
         {
          "favorite_count": 17643,
          "handle": "realDonaldTrump",
          "retweet_count": 6233,
          "text": "New national poll released. Join the MOVEMENT &amp; together we will #MakeAmericaGreatAgain! \nhttps://t.co/3KWOl2ibaW https://t.co/rnU1fkn274",
          "time": "2016-08-24T17:24:13"
         },
         {
          "favorite_count": 6706,
          "handle": "HillaryClinton",
          "retweet_count": 2735,
          "text": "\"[Hillary] is one of the most qualified people ever to run for the office, and she easily earns our endorsement.”… https://t.co/AhBE0UuJPO",
          "time": "2016-09-25T19:55:58"
         },
         {
          "favorite_count": 2362,
          "handle": "HillaryClinton",
          "retweet_count": 747,
          "text": "We’re going to make college debt-free for all and help millions of people struggling with existing student debt: https://t.co/l3h7YDCX3d",
          "time": "2016-08-15T17:17:40"
         },
         {
          "favorite_count": 23691,
          "handle": "HillaryClinton",
          "retweet_count": 10441,
          "text": "Stronger together. https://t.co/9x1zuMqFfs",
          "time": "2016-07-26T22:55:17"
         },
         {
          "favorite_count": 1999,
          "handle": "HillaryClinton",
          "retweet_count": 686,
          "text": "A couple of New Yorkers heading to the polls. #PrimaryDay\nhttps://t.co/NWLHCzykyU",
          "time": "2016-04-19T23:52:16"
         },
         {
          "favorite_count": 14338,
          "handle": "realDonaldTrump",
          "retweet_count": 5827,
          "text": "'True blue-collar billionaire Donald Trump shows Hillary Clinton is out of touch' https://t.co/NHO1OicfVm",
          "time": "2016-09-27T13:49:07"
         },
         {
          "favorite_count": 2464,
          "handle": "HillaryClinton",
          "retweet_count": 1095,
          "text": "Terrorists are taking advantage of the loopholes in our gun laws. Here's how we stop them: https://t.co/Tn9OyVShZn",
          "time": "2016-06-28T14:57:33"
         },
         {
          "favorite_count": 7043,
          "handle": "HillaryClinton",
          "retweet_count": 3437,
          "text": "\"The good news is that my pneumonia finally got some Republicans interested in women’s health.” —Hillary",
          "time": "2016-09-16T13:47:40"
         },
         {
          "favorite_count": 12641,
          "handle": "realDonaldTrump",
          "retweet_count": 3874,
          "text": "\"@DumpFoxNews: @FoxNews @megynkelly  If media wasn't so biased against Trump, he would've won all of the delegates.",
          "time": "2016-03-15T23:54:29"
         },
         {
          "favorite_count": 3383,
          "handle": "HillaryClinton",
          "retweet_count": 1079,
          "text": "\"Let's make it easier to vote, not harder. Let’s fight back against attacks on voting rights across the country.” —Hillary",
          "time": "2016-07-12T16:19:07"
         },
         {
          "favorite_count": 28973,
          "handle": "realDonaldTrump",
          "retweet_count": 10397,
          "text": "\"@bfraser747: Watch out HillaryClinton 👿 Support @realDonaldTrump 🇺🇸 🇺🇸 #MakeAmericaGreatAgain 🇺🇸 https://t.co/UTYOLo7wGF\"",
          "time": "2016-06-19T13:17:35"
         },
         {
          "favorite_count": 25932,
          "handle": "realDonaldTrump",
          "retweet_count": 7183,
          "text": "Funny how the failing @nytimes is pushing Dems narrative that Russia is working for me because Putin said \"Trump is a genius.\" America 1st!",
          "time": "2016-07-27T09:43:16"
         },
         {
          "favorite_count": 11185,
          "handle": "realDonaldTrump",
          "retweet_count": 3017,
          "text": "I will be interviewed by @SeanHannity tonight at 10pm on FOX! Enjoy!",
          "time": "2016-06-30T22:41:28"
         },
         {
          "favorite_count": 2494,
          "handle": "HillaryClinton",
          "retweet_count": 923,
          "text": "This is what a comprehensive (not \"secret\") counterterrorism plan looks like. https://t.co/QgVruA4rQA",
          "time": "2016-09-09T16:15:00"
         },
         {
          "favorite_count": 7512,
          "handle": "realDonaldTrump",
          "retweet_count": 3862,
          "text": "CONSTRUCTIVE WINS! 💪 \n@realDonaldTrump @CLewandowski_ @DanScavino @MichaelCohen212 @KatrinaPierson @DefendingtheUSA https://t.co/PZbezqDc0j",
          "time": "2016-02-03T22:22:52"
         },
         {
          "favorite_count": 8103,
          "handle": "realDonaldTrump",
          "retweet_count": 2564,
          "text": "\"@Kids123Nicholas: @gqforbes  @RepTomMarino @realDonaldTrump.Lets get it done Philadelphia Pa.Make Trump your pick for president now.",
          "time": "2016-04-10T03:00:04"
         },
         {
          "favorite_count": 4927,
          "handle": "HillaryClinton",
          "retweet_count": 1510,
          "text": "“She sat with me in the Situation Room and forcefully argued in favor of the mission that took out Osama bin Laden” —@POTUS on Hillary",
          "time": "2016-07-28T03:11:37"
         },
         {
          "favorite_count": 5120,
          "handle": "realDonaldTrump",
          "retweet_count": 2746,
          "text": "NEVADA! Tomorrow is the deadline to register Republican.\n\nVisit: https://t.co/bHZ4JVckOp\n\nMessage from @IvankaTrump: https://t.co/SZTq1QOXEg",
          "time": "2016-02-12T14:48:17"
         },
         {
          "favorite_count": 1173,
          "handle": "HillaryClinton",
          "retweet_count": 632,
          "text": "We can’t cozy up to dictators; we have to stand up to them.\n\nWe can’t contain ISIS; we must defeat it. And we will.",
          "time": "2016-08-31T16:58:49"
         },
         {
          "favorite_count": 5745,
          "handle": "HillaryClinton",
          "retweet_count": 2288,
          "text": "Why the @HoustonChron is urging voters to support Hillary in the “starkest political choice in living memory”: https://t.co/phjf19ybXr",
          "time": "2016-08-06T20:59:02"
         },
         {
          "favorite_count": 9293,
          "handle": "realDonaldTrump",
          "retweet_count": 3513,
          "text": "New South Carolina poll from PPP. Thank you! #VoteTrumpSC https://t.co/6618Oi6vle",
          "time": "2016-02-16T04:18:28"
         },
         {
          "favorite_count": 7254,
          "handle": "realDonaldTrump",
          "retweet_count": 3068,
          "text": "Governor Alejandro García Padilla said presidential hopeful Sen. Marco Rubio “is no friend of Puerto Rico.\" https://t.co/I6mhYnAcZ3",
          "time": "2016-02-29T16:29:11"
         },
         {
          "favorite_count": 6399,
          "handle": "realDonaldTrump",
          "retweet_count": 1957,
          "text": "\"@rkswaney7: @CNN @realDonaldTrump I agree. Great businessman. I like your tone tonight! Keep it up &amp; you'll have this Democrats vote.\"",
          "time": "2016-02-05T01:54:50"
         },
         {
          "favorite_count": 24081,
          "handle": "realDonaldTrump",
          "retweet_count": 7584,
          "text": "THANK YOU Daytona Beach, Florida!\n#MakeAmericaGreatAgain https://t.co/IAcLfXe463",
          "time": "2016-08-03T21:57:07"
         },
         {
          "favorite_count": 29853,
          "handle": "realDonaldTrump",
          "retweet_count": 11634,
          "text": "Obama, and all others, have been so weak, and so politically correct, that terror groups are forming and getting stronger! Shame.",
          "time": "2016-03-22T19:17:41"
         },
         {
          "favorite_count": 1556,
          "handle": "HillaryClinton",
          "retweet_count": 770,
          "text": "\"I’m going to close my campaign the way I began my career...focused on opportunities for kids and fairness for families.\" —Hillary",
          "time": "2016-09-15T19:52:21"
         },
         {
          "favorite_count": 15525,
          "handle": "realDonaldTrump",
          "retweet_count": 4746,
          "text": "Kasich only looks O.K. in polls against Hillary because nobody views him as a threat and therefore have placed ZERO negative ads against him",
          "time": "2016-04-18T11:02:24"
         },
         {
          "favorite_count": 5809,
          "handle": "realDonaldTrump",
          "retweet_count": 2512,
          "text": "We launched a new series of #Trump2016 videos via Facebook. A new topic everyday! Watch: https://t.co/NXWNOcWZgc https://t.co/52E3LU3W77",
          "time": "2016-01-18T19:50:56"
         },
         {
          "favorite_count": 11742,
          "handle": "realDonaldTrump",
          "retweet_count": 2737,
          "text": "\"@TrumpDoonbeg: Great news! We've been nominated for Ireland's Best Golf Hotel 2016.We would appreciate your vote! https://t.co/5uEBphqdG9\"",
          "time": "2016-07-17T03:21:14"
         },
         {
          "favorite_count": 15237,
          "handle": "realDonaldTrump",
          "retweet_count": 5177,
          "text": "The \"dirty\" poll done by @ABC @washingtonpost is a disgrace. Even they admit that many more Democrats were polled. Other polls were good.",
          "time": "2016-06-26T23:13:25"
         },
         {
          "favorite_count": 13300,
          "handle": "HillaryClinton",
          "retweet_count": 2929,
          "text": "1979. https://t.co/VYTglhPyfO",
          "time": "2016-08-11T16:26:12"
         },
         {
          "favorite_count": 17673,
          "handle": "realDonaldTrump",
          "retweet_count": 7178,
          "text": "Last nights winner was clear &amp; it will be proven time &amp; time again - lets #MAGA!! Lets WIN!! #TrumpTrain https://t.co/sGqp9rGmBH",
          "time": "2016-09-08T15:09:13"
         },
         {
          "favorite_count": 5529,
          "handle": "HillaryClinton",
          "retweet_count": 2141,
          "text": "Just like he shouldn’t have his finger on the nuclear button, Trump shouldn’t have his hands on our economy. https://t.co/REhieod2uo",
          "time": "2016-07-02T21:04:31"
         },
         {
          "favorite_count": 3388,
          "handle": "HillaryClinton",
          "retweet_count": 1770,
          "text": "A woman told Hillary she was fired after losing her baby: \"What happened to you was not only wrong—it's illegal.\"\nhttps://t.co/DekJBHSA44",
          "time": "2016-05-10T18:56:25"
         },
         {
          "favorite_count": 24934,
          "handle": "HillaryClinton",
          "retweet_count": 13169,
          "text": "You are not our voice, @realDonaldTrump.",
          "time": "2016-07-22T02:46:58"
         },
         {
          "favorite_count": 2462,
          "handle": "HillaryClinton",
          "retweet_count": 733,
          "text": "\"Americans aren’t just choosing a president, we’re also choosing a Commander-in-Chief.\" —Hillary to the @VFWHQ",
          "time": "2016-07-25T15:41:49"
         },
         {
          "favorite_count": 1825,
          "handle": "HillaryClinton",
          "retweet_count": 881,
          "text": "Kind of assumed Trump's approach would be more RT if by land, like if by sea. https://t.co/ddEI0z9LR9",
          "time": "2016-08-01T15:13:50"
         },
         {
          "favorite_count": 13363,
          "handle": "HillaryClinton",
          "retweet_count": 9943,
          "text": "Here's how the Republican ticket would \"protect\" LGBT Americans. #RNCinCLE https://t.co/bcHNM1EMxL",
          "time": "2016-07-22T02:56:21"
         },
         {
          "favorite_count": 11943,
          "handle": "realDonaldTrump",
          "retweet_count": 4044,
          "text": "Still time to get out and VOTE!\n#WIPrimary #Trump2016 #MAGA\nhttps://t.co/HjnGrR25Vf",
          "time": "2016-04-05T22:47:28"
         },
         {
          "favorite_count": 16767,
          "handle": "realDonaldTrump",
          "retweet_count": 4321,
          "text": "Can't watch Crazy Megyn anymore. Talks about me at 43% but never mentions that there are four people in race. With two people, big &amp; over!",
          "time": "2016-03-16T00:05:04"
         },
         {
          "favorite_count": 38631,
          "handle": "realDonaldTrump",
          "retweet_count": 10299,
          "text": "The dishonest media is fawning over the Democratic Convention. I wonder why, then, my speech had millions of more viewers than Crooked H?",
          "time": "2016-07-31T20:09:00"
         },
         {
          "favorite_count": 20267,
          "handle": "HillaryClinton",
          "retweet_count": 12980,
          "text": "\"That's called business.\" —Donald Trump on the housing crash.\n\nFor millions of Americans it was called \"losing their home.\" #DebateNight",
          "time": "2016-09-27T01:19:02"
         },
         {
          "favorite_count": 1468,
          "handle": "HillaryClinton",
          "retweet_count": 501,
          "text": "Not that long ago, if you had a disability, it defined your entire life. Basic, essential things that others could do, you couldn’t.",
          "time": "2016-09-21T18:55:58"
         },
         {
          "favorite_count": 24412,
          "handle": "realDonaldTrump",
          "retweet_count": 7810,
          "text": "Crooked Hillary Clinton just can't close the deal with Bernie. I had to knock out 16 very good and smart candidates. Hillary doesn't have it",
          "time": "2016-05-25T13:14:58"
         },
         {
          "favorite_count": 12595,
          "handle": "realDonaldTrump",
          "retweet_count": 4076,
          "text": "\"@kirstiealley: HELLO BOYS! this is my formal endorsement of @realDonaldTrump &amp; I'm a woman! (last I checked) And Rudy, U R amazing!",
          "time": "2016-04-09T01:54:31"
         },
         {
          "favorite_count": 11949,
          "handle": "realDonaldTrump",
          "retweet_count": 3966,
          "text": "Join me in Florida on Wednesday! Daytona &amp; Jacksonville:\n\nDaytona | 3pm- https://t.co/rJjYUbwiLL\nJacksonville | 7pm- https://t.co/zfxeNbr1nq",
          "time": "2016-08-01T23:02:59"
         },
         {
          "favorite_count": 2463,
          "handle": "HillaryClinton",
          "retweet_count": 877,
          "text": "\"My opponent has America all wrong. There’s nothing we can’t do when we come together as one nation.\" —Hillary",
          "time": "2016-09-15T20:00:57"
         },
         {
          "favorite_count": 22533,
          "handle": "realDonaldTrump",
          "retweet_count": 7075,
          "text": "Wow - thank you Pensacola, FL. See you Friday at 7pm -- join me!\nhttps://t.co/JCO7Za78tV https://t.co/LYmpRyY0Hq",
          "time": "2016-09-07T20:23:56"
         },
         {
          "favorite_count": 8126,
          "handle": "realDonaldTrump",
          "retweet_count": 2452,
          "text": "\"@Wheels155:@CNN is reviewing the week,but majority of the show about @realDonaldTrump cuz there would be 0.0 ratings if not. Media's a JOKE",
          "time": "2016-04-03T13:37:37"
         },
         {
          "favorite_count": 4481,
          "handle": "HillaryClinton",
          "retweet_count": 2439,
          "text": "Voters in CT, DE, MD, PA, and RI head to the polls today. RT this if you’re voting for Hillary. https://t.co/2TRe1AEgiP",
          "time": "2016-04-26T12:59:23"
         },
         {
          "favorite_count": 12991,
          "handle": "HillaryClinton",
          "retweet_count": 4682,
          "text": "\"Hillary won big time. It was a shut out.\" -- @HardballChris #debatenight",
          "time": "2016-09-27T03:12:31"
         },
         {
          "favorite_count": 21248,
          "handle": "realDonaldTrump",
          "retweet_count": 8085,
          "text": "#MakeAmericaWorkAgain \n#TrumpPence16 #RNCinCLE \nhttps://t.co/bsUp4MSysD https://t.co/mYBjp03XYf",
          "time": "2016-07-19T20:38:20"
         },
         {
          "favorite_count": 17961,
          "handle": "realDonaldTrump",
          "retweet_count": 6033,
          "text": "Thank you Fort Wayne, Indiana!\n#Trump2016 #INPrimary https://t.co/mDGrmMmk5T",
          "time": "2016-05-01T21:31:05"
         },
         {
          "favorite_count": 27672,
          "handle": "realDonaldTrump",
          "retweet_count": 11249,
          "text": "Hillary Clinton raked in money from regimes that horribly oppress women and gays &amp; refuses to speak out against Radical Islam.",
          "time": "2016-08-01T22:52:00"
         },
         {
          "favorite_count": 11497,
          "handle": "HillaryClinton",
          "retweet_count": 7078,
          "text": "History is watching. https://t.co/pdphHQmYCM",
          "time": "2016-07-22T03:31:46"
         },
         {
          "favorite_count": 14027,
          "handle": "realDonaldTrump",
          "retweet_count": 4679,
          "text": "It was great being in Michigan. Remember, I am the only presidential candidate who will bring jobs back to the U.S.and protect car industry!",
          "time": "2016-03-07T21:23:58"
         },
         {
          "favorite_count": 4606,
          "handle": "HillaryClinton",
          "retweet_count": 1057,
          "text": "Road trip: Tag along on Hillary and @TimKaine's bus tour through Ohio and Pennsylvania → https://t.co/oA2spAUmu9 https://t.co/xj3HOYaFBc",
          "time": "2016-08-02T01:17:23"
         },
         {
          "favorite_count": 12037,
          "handle": "HillaryClinton",
          "retweet_count": 4758,
          "text": "“I’m Hillary Clinton and I’ve always approved this message.” https://t.co/GgDeBBfoUm",
          "time": "2016-09-19T16:12:15"
         },
         {
          "favorite_count": 7847,
          "handle": "HillaryClinton",
          "retweet_count": 4535,
          "text": "Trump on releasing detailed medical records: \"I have no problem in doing so!\"\n\nHe still hasn't released them. https://t.co/Zk1AXnWqes",
          "time": "2016-09-15T14:56:09"
         },
         {
          "favorite_count": 9557,
          "handle": "realDonaldTrump",
          "retweet_count": 4152,
          "text": "We Can Do Better, We Must Do Better, We Will Do Better \nBy LTG (R) Keith Kellogg and LTG (R) Michael Flynn @GenFlynn https://t.co/x8g3MdWjln",
          "time": "2016-08-09T01:00:23"
         },
         {
          "favorite_count": 2687,
          "handle": "HillaryClinton",
          "retweet_count": 830,
          "text": "It’s past time for comprehensive immigration reform, and we’re going to do everything we can to get it done: https://t.co/M3doGLY5rL",
          "time": "2016-08-05T16:46:05"
         },
         {
          "favorite_count": 3797,
          "handle": "HillaryClinton",
          "retweet_count": 1126,
          "text": "“We have made too much progress, and we are not going back, we are going forward.\" —@RepJohnLewis #DemsInPhilly",
          "time": "2016-07-26T21:17:03"
         },
         {
          "favorite_count": 14575,
          "handle": "HillaryClinton",
          "retweet_count": 4300,
          "text": "When any barrier falls in America, it clears the way for everyone. https://t.co/nz6Y29DMwP",
          "time": "2016-07-30T16:10:37"
         },
         {
          "favorite_count": 3391,
          "handle": "HillaryClinton",
          "retweet_count": 1428,
          "text": "Donald Trump has built his campaign on prejudice and paranoia. He’s taking hate groups mainstream.",
          "time": "2016-08-25T19:15:55"
         },
         {
          "favorite_count": 9445,
          "handle": "HillaryClinton",
          "retweet_count": 3727,
          "text": "Unions stand up for workers who need someone to have their backs. We need a president who will do the same. https://t.co/0OpO5kCyyg",
          "time": "2016-09-05T16:38:27"
         },
         {
          "favorite_count": 606,
          "handle": "HillaryClinton",
          "retweet_count": 406,
          "text": "Another day, another shameful move by House GOP to roll back anti-discrimination protections for LGBT employees. https://t.co/vHXbM1JFeT",
          "time": "2016-05-20T15:18:57"
         },
         {
          "favorite_count": 9636,
          "handle": "HillaryClinton",
          "retweet_count": 5261,
          "text": "Caught your speech, @realDonaldTrump. About that \"woman's card\"...\nhttps://t.co/kKaHWISchy",
          "time": "2016-04-27T03:54:21"
         },
         {
          "favorite_count": 5641,
          "handle": "HillaryClinton",
          "retweet_count": 2176,
          "text": "What our economy needs: The largest investment in creating good-paying jobs since World War II. https://t.co/uDdkrA2myo",
          "time": "2016-08-04T15:16:04"
         },
         {
          "favorite_count": 6203,
          "handle": "realDonaldTrump",
          "retweet_count": 3129,
          "text": "I told you so. Our country totally lost control of illegal immigration, even with criminals. \nhttps://t.co/IZgZqr6BgB",
          "time": "2016-02-06T02:42:58"
         },
         {
          "favorite_count": 4112,
          "handle": "realDonaldTrump",
          "retweet_count": 1451,
          "text": "Thank you for your strong testimony when welcoming me to Liberty University, yesterday- @JerryJrFalwell. https://t.co/VJgj7AC5tE",
          "time": "2016-01-19T15:47:20"
         },
         {
          "favorite_count": 11488,
          "handle": "realDonaldTrump",
          "retweet_count": 3849,
          "text": "The polls are now showing that I am the best to win the GENERAL ELECTION. States that are never in play for Repubs will be won by me. Great!",
          "time": "2016-02-09T12:23:37"
         },
         {
          "favorite_count": 28591,
          "handle": "realDonaldTrump",
          "retweet_count": 13148,
          "text": "How quickly people forget that Crooked Hillary called African-American youth \"SUPER PREDATORS\" - Has she apologized?",
          "time": "2016-08-26T17:14:09"
         },
         {
          "favorite_count": 7065,
          "handle": "realDonaldTrump",
          "retweet_count": 2152,
          "text": "\"@Janetlarose1: @realDonaldTrump @FaceTheNation @jdickerson WASHINGTON VERSUS TRUMP ❤ &amp;TRUMPS SUPPORTERS ... #TRUMPDOG\"",
          "time": "2016-03-06T23:57:24"
         },
         {
          "favorite_count": 2732,
          "handle": "HillaryClinton",
          "retweet_count": 951,
          "text": "\"Enough is enough. It’s time we make quality child care affordable for all working families.\" —Hillary",
          "time": "2016-05-10T20:19:26"
         },
         {
          "favorite_count": 7570,
          "handle": "HillaryClinton",
          "retweet_count": 4884,
          "text": "\"I don't regret anything.\" —Donald Trump, August 2, 2016\nhttps://t.co/TWj7QwVQMP",
          "time": "2016-08-20T14:37:12"
         },
         {
          "favorite_count": 2625,
          "handle": "realDonaldTrump",
          "retweet_count": 686,
          "text": "\"@pearl_brendan: @dphilbs if @realDonaldTrump doesn't win, I'm leaving this country #Trump4President\"",
          "time": "2016-01-06T02:31:17"
         },
         {
          "favorite_count": 33919,
          "handle": "realDonaldTrump",
          "retweet_count": 10687,
          "text": "I will be making a major speech on ILLEGAL IMMIGRATION on Wednesday in the GREAT State of Arizona. Big crowds, looking for a larger venue.",
          "time": "2016-08-28T23:27:59"
         },
         {
          "favorite_count": 5999,
          "handle": "realDonaldTrump",
          "retweet_count": 2696,
          "text": ".@lindseygraham, who had zero in his presidential run before dropping out in disgrace- saying the most horrible things about me on @FoxNews.",
          "time": "2016-02-17T14:39:52"
         },
         {
          "favorite_count": 4203,
          "handle": "HillaryClinton",
          "retweet_count": 1248,
          "text": "If you dream it, you should be able to build it. https://t.co/uArcPunfFy https://t.co/qKg0MOHVBv",
          "time": "2016-08-20T23:02:28"
         },
         {
          "favorite_count": 9674,
          "handle": "HillaryClinton",
          "retweet_count": 7014,
          "text": "\"President Trump\" is a dangerous proposition.\n\nMitt Romney, Ted Cruz, and Marco Rubio agree.\nhttps://t.co/fUkISvgaXC",
          "time": "2016-05-04T18:46:12"
         },
         {
          "favorite_count": 24029,
          "handle": "realDonaldTrump",
          "retweet_count": 9601,
          "text": "Great new poll- thank you!\n#MakeAmericaGreatAgain #Trump2016 https://t.co/SZyZ8GkF23",
          "time": "2016-05-16T02:23:06"
         },
         {
          "favorite_count": 8721,
          "handle": "realDonaldTrump",
          "retweet_count": 3341,
          "text": "Good morning Ohio! Some additional information from my daughter, @IvankaTrump! #VoteTrump #SuperTuesday https://t.co/H7sBEnSpYq",
          "time": "2016-03-15T12:10:10"
         },
         {
          "favorite_count": 4484,
          "handle": "realDonaldTrump",
          "retweet_count": 1315,
          "text": "Heading now to Pella, Iowa. Big crowd! Remember, Trump is a big buyer of Pella windows. See you soon!",
          "time": "2016-01-23T20:15:59"
         },
         {
          "favorite_count": 12899,
          "handle": "HillaryClinton",
          "retweet_count": 6900,
          "text": "Mike Pence would outlaw abortion.\n\nAnd Donald Trump just made him his running mate. https://t.co/RLOgEFzW7S",
          "time": "2016-07-16T18:17:10"
         },
         {
          "favorite_count": 3461,
          "handle": "HillaryClinton",
          "retweet_count": 1279,
          "text": "Live from Orlando: Watch Hillary share her plan for building an inclusive economy that helps everyone get ahead → https://t.co/IX06FtcZG8",
          "time": "2016-09-21T18:41:31"
         },
         {
          "favorite_count": 13665,
          "handle": "HillaryClinton",
          "retweet_count": 2638,
          "text": "It's great to be back on the campaign trail. https://t.co/vm1KX2uOXt",
          "time": "2016-09-17T00:54:04"
         },
         {
          "favorite_count": 22872,
          "handle": "realDonaldTrump",
          "retweet_count": 9089,
          "text": "Interesting how President Obama so haltingly said I \"would never be president\" - This from perhaps the worst president in U.S. history!",
          "time": "2016-02-17T11:08:15"
         },
         {
          "favorite_count": 1990,
          "handle": "HillaryClinton",
          "retweet_count": 861,
          "text": ".@hillaryclinton announced a new public health fund to fight pandemics like Zika and keep American families safe https://t.co/RGXoMAkLmr",
          "time": "2016-08-24T21:02:26"
         },
         {
          "favorite_count": 4981,
          "handle": "HillaryClinton",
          "retweet_count": 1822,
          "text": "Donald Trump is temperamentally unfit to be president of the United States.",
          "time": "2016-08-25T19:28:07"
         },
         {
          "favorite_count": 43621,
          "handle": "realDonaldTrump",
          "retweet_count": 13402,
          "text": "You have no idea what my strategy on ISIS is, and neither does ISIS (a good thing). Please get your facts straight - thanks. @megynkelly",
          "time": "2016-07-27T01:51:45"
         },
         {
          "favorite_count": 32874,
          "handle": "HillaryClinton",
          "retweet_count": 12738,
          "text": "Just got off the phone with Hillary. I’m honored to be her running mate. Can’t wait to hit the trail tomorrow in Miami!",
          "time": "2016-07-23T00:41:00"
         },
         {
          "favorite_count": 11819,
          "handle": "realDonaldTrump",
          "retweet_count": 4565,
          "text": "Thank you @SenatorSessions!\n#MakeAmericaGreatAgain #Trump2016\nhttps://t.co/Szs0QF88HR https://t.co/UL6t60TTjP",
          "time": "2016-02-29T01:09:46"
         },
         {
          "favorite_count": 2968,
          "handle": "HillaryClinton",
          "retweet_count": 957,
          "text": "\"What we hear from my opponent is dangerously incoherent. It's unclear what he's saying, but words matter.\" —Hillary",
          "time": "2016-09-27T18:06:28"
         },
         {
          "favorite_count": 17455,
          "handle": "realDonaldTrump",
          "retweet_count": 5331,
          "text": "Watching other networks and local news. Really good night! Crazy @megynkelly is unwatchable.",
          "time": "2016-03-16T00:09:08"
         },
         {
          "favorite_count": 1182,
          "handle": "HillaryClinton",
          "retweet_count": 396,
          "text": "You better listen to @RepCleaver — @HillaryClinton won't stay throwed. #DemsInPhilly\nhttps://t.co/QUadl02GPz",
          "time": "2016-07-28T22:59:10"
         },
         {
          "favorite_count": 9675,
          "handle": "realDonaldTrump",
          "retweet_count": 2857,
          "text": "My wife @MELANIATRUMP will be #OnTheRecord w/ @greta tonight at 7pmE on @FoxNews. Enjoy! \nhttps://t.co/yxrRkJJSGG https://t.co/Trv1hj9hRI",
          "time": "2016-03-02T19:54:30"
         },
         {
          "favorite_count": 10729,
          "handle": "realDonaldTrump",
          "retweet_count": 5365,
          "text": "'U.S. Murders Increased 10.8% in 2015' via @WSJ: https://t.co/CIJMQJhLqp",
          "time": "2016-09-27T14:55:57"
         },
         {
          "favorite_count": 2431,
          "handle": "HillaryClinton",
          "retweet_count": 810,
          "text": "\"I will say what Donald Trump won’t: Judge Curiel is as American as I am and as American as Donald Trump.\" —Hillary",
          "time": "2016-07-14T15:59:25"
         },
         {
          "favorite_count": 3470,
          "handle": "HillaryClinton",
          "retweet_count": 1795,
          "text": "...and many of them pay a lower tax rate. https://t.co/fy9pJL976G",
          "time": "2016-06-24T01:28:53"
         },
         {
          "favorite_count": 13925,
          "handle": "HillaryClinton",
          "retweet_count": 3588,
          "text": "Three-time world all-around champion @Simone_Biles is set to make history at the Olympics. Good luck, Simone! https://t.co/JkiQ8hc1Xt",
          "time": "2016-08-07T16:35:53"
         },
         {
          "favorite_count": 12819,
          "handle": "realDonaldTrump",
          "retweet_count": 4937,
          "text": "#MakeAmericaGreatAgain #Trump2016\nhttps://t.co/kXhc2j94YF https://t.co/YZAdAndKXv",
          "time": "2016-05-18T23:14:39"
         },
         {
          "favorite_count": 4985,
          "handle": "realDonaldTrump",
          "retweet_count": 2143,
          "text": "@elizabethforma Goofy Elizabeth Warren, sometimes referred to as Pocahontas because she faked the fact she is native American, is a lowlife!",
          "time": "2016-05-25T05:37:29"
         },
         {
          "favorite_count": 5304,
          "handle": "realDonaldTrump",
          "retweet_count": 1600,
          "text": "\"@realOllieTaylor: @paintonmy: IA caucus hasn't picked nominee in 16 years! Cruz dirty tricks stole it. Trump way ahead in primary states.",
          "time": "2016-02-06T20:04:09"
         },
         {
          "favorite_count": 2262,
          "handle": "HillaryClinton",
          "retweet_count": 971,
          "text": "Hillary’s college plan will bring about a long-awaited transformation of higher education in America. Here's how: https://t.co/YX1niM3brQ",
          "time": "2016-08-19T00:14:50"
         },
         {
          "favorite_count": 9304,
          "handle": "HillaryClinton",
          "retweet_count": 3640,
          "text": "America is stronger when we expand access to the ballot box, not restrict it. It's time to #RestoreTheVRA. https://t.co/uId57oQgUn",
          "time": "2016-08-06T16:05:14"
         },
         {
          "favorite_count": 3793,
          "handle": "HillaryClinton",
          "retweet_count": 768,
          "text": "Enjoying a quiet moment at @GrandTetonNPS back in 1995.\n\nHappy #NPS100! https://t.co/of8cMaj8mR",
          "time": "2016-08-25T23:18:29"
         },
         {
          "favorite_count": 34340,
          "handle": "realDonaldTrump",
          "retweet_count": 12244,
          "text": "Crooked Hillary Clinton will be a disaster on jobs, the economy, trade, healthcare, the military, guns and just about all else. Obama plus!",
          "time": "2016-06-09T12:29:24"
         },
         {
          "favorite_count": 3436,
          "handle": "HillaryClinton",
          "retweet_count": 1115,
          "text": "Excited to be back with a good friend. Watch @TheEllenShow today at 4 pm ET. https://t.co/zfdh2SVaWb",
          "time": "2016-05-25T19:27:36"
         },
         {
          "favorite_count": 12708,
          "handle": "realDonaldTrump",
          "retweet_count": 4005,
          "text": "Failed Presidential Candidate Mitt Romney was campaigning with John Kasich &amp; Marco Rubio, and now he is endorsing Ted Cruz. 1/2",
          "time": "2016-03-18T20:21:17"
         },
         {
          "favorite_count": 27489,
          "handle": "realDonaldTrump",
          "retweet_count": 9899,
          "text": "Crooked Hillary Clinton is a fraud who has put the public and country at risk by her illegal and very stupid use of e-mails. Many missing!",
          "time": "2016-06-01T22:16:36"
         },
         {
          "favorite_count": 2916,
          "handle": "HillaryClinton",
          "retweet_count": 1274,
          "text": "Hillary schooled Donald Trump on foreign policy yesterday. Miss the speech? Catch up on some of the highlights: https://t.co/KSrFV7MnfG",
          "time": "2016-06-03T18:40:04"
         },
         {
          "favorite_count": 17440,
          "handle": "realDonaldTrump",
          "retweet_count": 7381,
          "text": "\"@Genie115: #MakeAmericaGreatAgain we can only do that with @realDonaldTrump RT https://t.co/RViAgxoa4t\"",
          "time": "2016-04-08T02:45:59"
         },
         {
          "favorite_count": 5728,
          "handle": "HillaryClinton",
          "retweet_count": 2049,
          "text": "America has always been a nation of immigrants and refugees. On #WorldRefugeeDay, let's reaffirm our commitment to welcoming them. -H",
          "time": "2016-06-20T21:28:32"
         },
         {
          "favorite_count": 2964,
          "handle": "HillaryClinton",
          "retweet_count": 1504,
          "text": "\"I want more Americans to believe again we are all in this together.\"\nhttps://t.co/VECLFeVoyC",
          "time": "2016-05-05T18:43:25"
         },
         {
          "favorite_count": 7876,
          "handle": "HillaryClinton",
          "retweet_count": 3115,
          "text": "“This is why I do it and this is who I’m in it for—to make life better for children and families.\" —Hillary https://t.co/gkvtA1yQNX",
          "time": "2016-09-15T20:39:33"
         },
         {
          "favorite_count": 28245,
          "handle": "HillaryClinton",
          "retweet_count": 10357,
          "text": "Honored to have you with me, @POTUS. I'm fired up and ready to go! -H",
          "time": "2016-06-09T17:56:36"
         },
         {
          "favorite_count": 11913,
          "handle": "realDonaldTrump",
          "retweet_count": 4296,
          "text": "New York Yankees President, Randy Levine: 'End of the Republican Party' If Donald Trump Not Nominated.  \nhttps://t.co/HEXBZeejBc",
          "time": "2016-04-29T04:08:34"
         },
         {
          "favorite_count": 4769,
          "handle": "realDonaldTrump",
          "retweet_count": 1826,
          "text": "\"@TrumpNewMedia: WHY DOES TED CRUZ LIE SO MUCH? LET'S FACE IT TED NEVER CREATED EVEN 1 JOB HIS ENTIRE LIFE! #WATCH: https://t.co/modgRNn1DJ",
          "time": "2016-02-20T15:15:03"
         },
         {
          "favorite_count": 3839,
          "handle": "HillaryClinton",
          "retweet_count": 1802,
          "text": "A Donald Trump presidency would pull us backward on nearly every issue we care about.\n\nWe can't let that happen.\nhttps://t.co/Ahc2uumjEI",
          "time": "2016-05-23T21:08:34"
         },
         {
          "favorite_count": 1451,
          "handle": "HillaryClinton",
          "retweet_count": 1283,
          "text": "Asked whether he talked to any foreign policy advisors about #Brexit, Trump says “there's nothing to talk about\" https://t.co/bXpscw9w7x",
          "time": "2016-06-24T15:47:26"
         },
         {
          "favorite_count": 7580,
          "handle": "HillaryClinton",
          "retweet_count": 4829,
          "text": "\"She gained a massive amount of weight...it was a real problem.\" —Trump this morning on Alicia Machado https://t.co/LJPlFegSTs",
          "time": "2016-09-27T16:12:28"
         },
         {
          "favorite_count": 8740,
          "handle": "realDonaldTrump",
          "retweet_count": 3584,
          "text": "\"@agentvf: New Jersey Man Joseph Hornick Willing to Go to Jail for Flying Trump Flag - Breitbart https://t.co/zky3vlOJu4  @Q102Philly\"",
          "time": "2016-04-10T11:29:49"
         },
         {
          "favorite_count": 6591,
          "handle": "realDonaldTrump",
          "retweet_count": 2663,
          "text": "Weak JEB getting thrown out by management during speech. Do you think he will be this tough on Putin &amp; others?  https://t.co/Tqej1euLVL",
          "time": "2016-02-12T04:10:52"
         },
         {
          "favorite_count": 14847,
          "handle": "realDonaldTrump",
          "retweet_count": 4296,
          "text": "Thank you @FaithandFreedom Coalition! An honor joining you today- to discuss our shared values.\n#RTM2016 #Trump2016 https://t.co/Ye6IhOW6ZM",
          "time": "2016-06-10T21:24:38"
         },
         {
          "favorite_count": 1658,
          "handle": "HillaryClinton",
          "retweet_count": 910,
          "text": "Fixed it for you. #RNCInCLE https://t.co/2hZP2qRWNj https://t.co/9zZll0Ftr4",
          "time": "2016-07-22T03:11:00"
         },
         {
          "favorite_count": 1111,
          "handle": "HillaryClinton",
          "retweet_count": 516,
          "text": "Hillary's plan to connect debt relief to entrepreneurship is smart https://t.co/WjFV8Tn6tj #makersandtakers start-up rates falling since 70s",
          "time": "2016-07-01T14:22:22"
         },
         {
          "favorite_count": 2794,
          "handle": "realDonaldTrump",
          "retweet_count": 1119,
          "text": "Phyllis Schlafly’s Eagle Forum: ‘National Review Will Be Defunct In The Next Year’ https://t.co/S7QmDkv2sg",
          "time": "2016-01-25T23:32:30"
         },
         {
          "favorite_count": 2536,
          "handle": "HillaryClinton",
          "retweet_count": 562,
          "text": "Hello, Virginia! After an exciting week on the trail with @HillaryClinton, I'm so happy to be home. -TK",
          "time": "2016-08-01T19:34:11"
         },
         {
          "favorite_count": 28750,
          "handle": "realDonaldTrump",
          "retweet_count": 9732,
          "text": "Hillary Clinton's short speech is pandering to the worst instincts in our society. She should be ashamed of herself!",
          "time": "2016-08-25T20:14:20"
         },
         {
          "favorite_count": 16035,
          "handle": "realDonaldTrump",
          "retweet_count": 6015,
          "text": "Full transcript of economic plan- delivered to the Economic Club of New York. #MAGA https://t.co/xiu9AUiSSD https://t.co/Fsy1diPWjU",
          "time": "2016-09-15T17:12:03"
         },
         {
          "favorite_count": 2609,
          "handle": "HillaryClinton",
          "retweet_count": 674,
          "text": "\"We are not going to privatize the V.A., we’re going to reform it.\" —Hillary",
          "time": "2016-07-25T15:57:49"
         },
         {
          "favorite_count": 3464,
          "handle": "HillaryClinton",
          "retweet_count": 1911,
          "text": "\"No one has the right to immigrate to this country.\" —Donald Trump during his rally in Florida today\n\nWe disagree. https://t.co/9gS9q5vQS9",
          "time": "2016-09-20T02:49:28"
         },
         {
          "favorite_count": 3716,
          "handle": "HillaryClinton",
          "retweet_count": 982,
          "text": "\"We gotta make this economy work for everybody, not just those at the top.” —Hillary https://t.co/xUQEFdxnWO",
          "time": "2016-08-03T21:40:49"
         },
         {
          "favorite_count": 6578,
          "handle": "HillaryClinton",
          "retweet_count": 2258,
          "text": "Meet @TimKaine—Hillary's running mate and the next vice president of the United States. https://t.co/igt3AKcMhK",
          "time": "2016-07-23T01:38:30"
         },
         {
          "favorite_count": 12239,
          "handle": "realDonaldTrump",
          "retweet_count": 4285,
          "text": "Thank you Texas! 10,000 amazing \nsupporters! #Trump2016 \n#MakeAmericaGreatAgain https://t.co/T2cBdktPbp",
          "time": "2016-02-26T21:34:21"
         },
         {
          "favorite_count": 7514,
          "handle": "HillaryClinton",
          "retweet_count": 2773,
          "text": "This is one nation under God, indivisible, with liberty and justice for all. Not just for those who look or love or worship one way—for all.",
          "time": "2016-06-14T16:49:32"
         },
         {
          "favorite_count": 4458,
          "handle": "HillaryClinton",
          "retweet_count": 2058,
          "text": "Couldn't agree more. https://t.co/gfk8NWAhIY",
          "time": "2016-05-26T23:12:29"
         },
         {
          "favorite_count": 2535,
          "handle": "HillaryClinton",
          "retweet_count": 1418,
          "text": "\"I can't see him helping anyone but himself.\" —Cheryl Lankford, single mom and Trump University victim #DemsInPhilly\nhttps://t.co/1V2emIoJUs",
          "time": "2016-07-26T02:56:49"
         },
         {
          "favorite_count": 7116,
          "handle": "realDonaldTrump",
          "retweet_count": 2705,
          "text": "Texas, Georgia &amp; many more VOTE EARLY! This is a movement!\n#Trump2016 VOTE VIDEO: https://t.co/LWeckhLWNv https://t.co/o93j0A0BIR",
          "time": "2016-02-25T01:47:30"
         },
         {
          "favorite_count": 1923,
          "handle": "HillaryClinton",
          "retweet_count": 874,
          "text": "The labor movement pioneered the basic bargain that made America great: If you work hard and do your part, you should be able to get ahead.",
          "time": "2016-05-23T17:58:55"
         },
         {
          "favorite_count": 7256,
          "handle": "HillaryClinton",
          "retweet_count": 3504,
          "text": "\"Read up on your history. It matters. We've got to get people to vote.\" —@POTUS: https://t.co/tTgeqy51PU https://t.co/GyveEjARku",
          "time": "2016-09-18T18:22:15"
         },
         {
          "favorite_count": 10455,
          "handle": "realDonaldTrump",
          "retweet_count": 3735,
          "text": ".@FoxNews is the only network that does not even mention my very successful event last night. $6,000,000 raised in one hour for our VETS.",
          "time": "2016-01-30T01:31:51"
         },
         {
          "favorite_count": 7141,
          "handle": "realDonaldTrump",
          "retweet_count": 2973,
          "text": "#WVPrimary #VoteTrump #Trump2016\nhttps://t.co/ihDWRMdy98\nhttps://t.co/VSStoanoDb",
          "time": "2016-05-09T15:13:26"
         },
         {
          "favorite_count": 17893,
          "handle": "realDonaldTrump",
          "retweet_count": 6400,
          "text": "Thank you Illinois! #SuperTuesday \n#MakeAmericaGreatAgain #Trump2016 https://t.co/vcfstc6Wnb",
          "time": "2016-03-16T01:48:52"
         },
         {
          "favorite_count": 2692,
          "handle": "realDonaldTrump",
          "retweet_count": 695,
          "text": "Fantastic job on @CNN  tonight. @kayleighmcenany is a winner! @donlemon",
          "time": "2016-01-12T03:34:17"
         },
         {
          "favorite_count": 4046,
          "handle": "realDonaldTrump",
          "retweet_count": 1332,
          "text": "\"@longtalltexan20 @realDonaldTrump  I love it when TRUMP calls out MSM for what they really are!  Cams starting to show crowds at rallies!\"",
          "time": "2016-01-05T18:05:19"
         },
         {
          "favorite_count": 4977,
          "handle": "HillaryClinton",
          "retweet_count": 1173,
          "text": "Tune in to watch Hillary on @JimmyKimmelLive, 11:35 ET/10:35 CT. https://t.co/drQevoF879",
          "time": "2016-08-23T03:17:35"
         },
         {
          "favorite_count": 4414,
          "handle": "HillaryClinton",
          "retweet_count": 2618,
          "text": "9. Have you or your campaign discussed U.S.-Russian relations with the Russian billionaires with whom you've done business?",
          "time": "2016-09-14T16:42:51"
         },
         {
          "favorite_count": 26933,
          "handle": "realDonaldTrump",
          "retweet_count": 9458,
          "text": "Really bad shooting in Orlando. Police investigating possible terrorism. Many people dead and wounded.",
          "time": "2016-06-12T12:07:22"
         },
         {
          "favorite_count": 47377,
          "handle": "realDonaldTrump",
          "retweet_count": 17837,
          "text": "Why is it that the horrendous protesters, who scream, curse punch, shut down roads/doors during my RALLIES,  are never blamed by media? SAD!",
          "time": "2016-03-20T16:13:50"
         },
         {
          "favorite_count": 8046,
          "handle": "realDonaldTrump",
          "retweet_count": 1679,
          "text": "I will be interviewed on @meetthepress this morning. Enjoy!",
          "time": "2016-05-08T13:28:04"
         },
         {
          "favorite_count": 5148,
          "handle": "HillaryClinton",
          "retweet_count": 3141,
          "text": "The Enquirer editorial board is endorsing Hillary Clinton for president, breaking a nearly century-long tradition of endorsing Republicans.",
          "time": "2016-09-23T21:14:25"
         },
         {
          "favorite_count": 503,
          "handle": "HillaryClinton",
          "retweet_count": 264,
          "text": "\"SCOTUS debería aceptar la petición del DOJ para reconsiderar el caso EE.UU v Texas. Mantengamos las familias inmigrantes juntas\"- Hillary.",
          "time": "2016-07-18T23:26:29"
         },
         {
          "favorite_count": 2256,
          "handle": "HillaryClinton",
          "retweet_count": 1197,
          "text": "Este #HispanicHeritageMonth, honremos las tantas contribuciones que los hispanos y latinos han hecho a este país. https://t.co/3FMgxGxgte",
          "time": "2016-09-17T20:48:57"
         },
         {
          "favorite_count": 9257,
          "handle": "HillaryClinton",
          "retweet_count": 5541,
          "text": "Cheryl's husband died serving our country. \n\nTrump's company scammed her out of money she needed for her family. https://t.co/gfMeiJZ3DW",
          "time": "2016-08-01T21:27:53"
         },
         {
          "favorite_count": 12908,
          "handle": "realDonaldTrump",
          "retweet_count": 3772,
          "text": ".@HeyTammyBruce- Thank you for your nice words on Fox today. They never use my full statements on nuclear, which you would agree with!",
          "time": "2016-04-02T20:30:25"
         },
         {
          "favorite_count": 5433,
          "handle": "realDonaldTrump",
          "retweet_count": 2225,
          "text": "Thank you, New Hampshire! #FITN\n#Trump2016 #NHPolitics https://t.co/3FkMZpaEdR",
          "time": "2016-01-20T22:44:55"
         },
         {
          "favorite_count": 4757,
          "handle": "HillaryClinton",
          "retweet_count": 1851,
          "text": "Appalling behavior from Wells Fargo. This is exactly why we need a strong @CFPB—and can't let Trump dismantle it. https://t.co/tTA2jz7unf",
          "time": "2016-09-09T21:10:47"
         },
         {
          "favorite_count": 23594,
          "handle": "realDonaldTrump",
          "retweet_count": 7502,
          "text": "Will be in Phoenix, Arizona on Wednesday. Changing venue to much larger one. Demand is unreal. Polls looking great! #ImWithYou",
          "time": "2016-08-26T23:54:09"
         },
         {
          "favorite_count": 4404,
          "handle": "HillaryClinton",
          "retweet_count": 1555,
          "text": "\"@Wired sees only one person running for president who can do the job: Hillary Clinton.\" https://t.co/SQ7hsOaHyl",
          "time": "2016-08-18T17:57:03"
         },
         {
          "favorite_count": 8851,
          "handle": "HillaryClinton",
          "retweet_count": 3302,
          "text": "A night to remember.\nhttps://t.co/lJ2M2QtFJD",
          "time": "2016-07-31T01:26:46"
         },
         {
          "favorite_count": 12920,
          "handle": "realDonaldTrump",
          "retweet_count": 4059,
          "text": "While I am in OH &amp; PA - you can also join @Mike_Pence in Nevada on Mon!\n\nCarson City: https://t.co/28G3RVbFsn\n\nReno: https://t.co/4nLjRGyFYw",
          "time": "2016-07-30T14:19:56"
         },
         {
          "favorite_count": 4906,
          "handle": "realDonaldTrump",
          "retweet_count": 1024,
          "text": "\"@xGodfatherxzx: @realDonaldTrump amazing on Megan Kelly\" Thanks.",
          "time": "2016-05-18T00:14:51"
         },
         {
          "favorite_count": 5471,
          "handle": "HillaryClinton",
          "retweet_count": 3687,
          "text": "For anyone shocked by Trump saying depreciation of pound is good for business, this is a person who tried to profit off the housing crisis.",
          "time": "2016-06-24T14:25:56"
         },
         {
          "favorite_count": 4119,
          "handle": "HillaryClinton",
          "retweet_count": 2372,
          "text": "We can't accept this as \"normal.\" #StopGunViolence https://t.co/RGJE1BuGim",
          "time": "2016-05-21T22:07:39"
         },
         {
          "favorite_count": 1827,
          "handle": "HillaryClinton",
          "retweet_count": 948,
          "text": "We have two names to add to a long list of African Americans killed by police officers. It’s unbearable, and it needs to become intolerable.",
          "time": "2016-09-21T18:42:43"
         },
         {
          "favorite_count": 4885,
          "handle": "realDonaldTrump",
          "retweet_count": 1424,
          "text": "\"@rlbenney: @realDonaldTrump You did great and showed courage going to Burlington. No other GOP candidate would do what you did tonight!\"",
          "time": "2016-01-08T03:32:10"
         },
         {
          "favorite_count": 1468,
          "handle": "HillaryClinton",
          "retweet_count": 652,
          "text": "Just a few hours left to vote in the NY primary. Confirm your polling place, then head over: https://t.co/iwiO5B9eal https://t.co/RcH0H3ecRN",
          "time": "2016-04-19T23:10:12"
         },
         {
          "favorite_count": 3864,
          "handle": "HillaryClinton",
          "retweet_count": 1116,
          "text": "The story of Bill and Hillary, in photos: https://t.co/fDNQl66gNU https://t.co/206mlwXnml",
          "time": "2016-07-27T22:16:06"
         },
         {
          "favorite_count": 16619,
          "handle": "realDonaldTrump",
          "retweet_count": 5619,
          "text": "The Club For Growth,which asked me for $1,000,000 in an extortion attempt, just put up a Wisconsin ad with incorrect math.What a dumb group!",
          "time": "2016-04-01T04:23:25"
         },
         {
          "favorite_count": 10500,
          "handle": "realDonaldTrump",
          "retweet_count": 4074,
          "text": "MAKE AMERICA GREAT AGAIN!\nhttps://t.co/xhwhJuV3aa https://t.co/2XWN52IpH2",
          "time": "2016-04-26T12:47:24"
         },
         {
          "favorite_count": 20086,
          "handle": "HillaryClinton",
          "retweet_count": 3274,
          "text": "Incredibly proud of Hillary and so happy to join her and Tim on the trail this week. https://t.co/u8LYZnUejj",
          "time": "2016-07-30T19:21:41"
         },
         {
          "favorite_count": 6576,
          "handle": "realDonaldTrump",
          "retweet_count": 2605,
          "text": "New Fox News Poll\nThank you, Iowa! #Trump2016 \n#IACaucus https://t.co/aCj0Hq20hV",
          "time": "2016-01-24T15:51:44"
         },
         {
          "favorite_count": 14760,
          "handle": "HillaryClinton",
          "retweet_count": 6845,
          "text": "FACT: No major company has filed for Chapter 11 more often in the last 30 years than @realDonaldTrump's casinos. https://t.co/t4n55HQuII",
          "time": "2016-06-22T12:03:45"
         },
         {
          "favorite_count": 2976,
          "handle": "HillaryClinton",
          "retweet_count": 1245,
          "text": "For Donald Trump, it's not about what he can build —it's about how much he can take. https://t.co/WYJGCCVBzu",
          "time": "2016-07-11T00:34:39"
         },
         {
          "favorite_count": 16957,
          "handle": "realDonaldTrump",
          "retweet_count": 4983,
          "text": "If I only had 1 person running against me in the primaries like Hillary Clinton, I would have gotten 10 million more votes than she did!",
          "time": "2016-05-09T16:57:46"
         },
         {
          "favorite_count": 47315,
          "handle": "realDonaldTrump",
          "retweet_count": 15153,
          "text": "In light of the horrible attack in Nice, France, I have postponed tomorrow's news conference concerning my Vice Presidential announcement.",
          "time": "2016-07-14T23:09:57"
         },
         {
          "favorite_count": 1770,
          "handle": "HillaryClinton",
          "retweet_count": 969,
          "text": "The Trump Loophole would let millionaires cut their tax rates in half and do nothing for 99.8% of Americans. https://t.co/xmbflUy84w",
          "time": "2016-08-17T17:51:54"
         },
         {
          "favorite_count": 49182,
          "handle": "realDonaldTrump",
          "retweet_count": 16413,
          "text": "Great job once again by law enforcement! We are proud of them and should embrace them - without them, we don't have a country!",
          "time": "2016-09-19T16:32:32"
         },
         {
          "favorite_count": 5774,
          "handle": "realDonaldTrump",
          "retweet_count": 2175,
          "text": "Sadly, there is no way that Ted Cruz can continue running in the Republican Primary unless he can erase doubt on eligibility. Dems will sue!",
          "time": "2016-01-13T14:26:25"
         },
         {
          "favorite_count": 19401,
          "handle": "realDonaldTrump",
          "retweet_count": 5619,
          "text": "Thank you Anaheim, California!\n#Trump2016 https://t.co/AEShamhNVS",
          "time": "2016-05-25T23:18:54"
         },
         {
          "favorite_count": 10681,
          "handle": "realDonaldTrump",
          "retweet_count": 3729,
          "text": "Friends in #FL #OH #NC #IL &amp; #MO we would be honored to have your #VOTE! #SuperTuesday #LetsDoThis #MakeAmericaGreatAgain #TrumpTrain 🚂💨💨💨🇺🇸",
          "time": "2016-03-15T13:24:01"
         },
         {
          "favorite_count": 1898,
          "handle": "HillaryClinton",
          "retweet_count": 786,
          "text": "Not only is @realDonaldTrump wrong on birtherism, his words and policies are bad for Americans alive now and our children yet to be born.",
          "time": "2016-09-19T15:16:11"
         },
         {
          "favorite_count": 7302,
          "handle": "realDonaldTrump",
          "retweet_count": 2084,
          "text": "To the people of Kentucky, \nRand Paul didn't want you. Now he runs back due to his presidential failure. \n#VoteTrump #MakeAmericaGreatAgain",
          "time": "2016-03-05T16:12:43"
         },
         {
          "favorite_count": 2413,
          "handle": "HillaryClinton",
          "retweet_count": 1053,
          "text": "Once a Girl Scout, always a Girl Scout.\nhttps://t.co/dbNIwsV6Mq",
          "time": "2016-05-07T16:55:29"
         },
         {
          "favorite_count": 19440,
          "handle": "HillaryClinton",
          "retweet_count": 10591,
          "text": "Of COURSE @realDonaldTrump – a guy who calls women fat pigs &amp; bimbos – picked a VP who is famous for trying to control women’s bodies.",
          "time": "2016-07-16T15:30:21"
         },
         {
          "favorite_count": 3008,
          "handle": "realDonaldTrump",
          "retweet_count": 911,
          "text": "\"@realOllieTaylor:  Isn't it time we had a president? Let goofy Glen keep Canada Cruz who can't win. The American people have Trump!\"",
          "time": "2016-01-22T13:36:16"
         },
         {
          "favorite_count": 4973,
          "handle": "realDonaldTrump",
          "retweet_count": 1989,
          "text": "You can find your polling locations at: \nhttps://t.co/BmZyKQOZJJ #FITN #NHPrimary #VoteTrumpNH https://t.co/8lREIqhIuN",
          "time": "2016-02-09T15:20:59"
         },
         {
          "favorite_count": 3310,
          "handle": "HillaryClinton",
          "retweet_count": 1683,
          "text": "\"We're not going to be counted out anymore.\" —Hillary on @realDonaldTrump's disparaging comments toward women\nhttps://t.co/GTP7YmV9Tc",
          "time": "2016-05-03T21:46:39"
         },
         {
          "favorite_count": 3643,
          "handle": "HillaryClinton",
          "retweet_count": 1470,
          "text": "Donald Trump doesn't represent us.\nHis ideas don't represent us.\nAnd his values don't represent us.\nAdd your name: https://t.co/2Lc6JkOXmV",
          "time": "2016-07-22T14:23:08"
         },
         {
          "favorite_count": 23543,
          "handle": "realDonaldTrump",
          "retweet_count": 9687,
          "text": "Thank you America - great #CommanderInChiefForum polls! https://t.co/Rcu6KaRGCB",
          "time": "2016-09-08T09:59:36"
         },
         {
          "favorite_count": 4419,
          "handle": "HillaryClinton",
          "retweet_count": 1754,
          "text": "In times like these, we need a president who can help pull us\ntogether, not split us apart.\n\nAnd that's why Donald Trump is so dangerous.",
          "time": "2016-07-13T17:09:56"
         },
         {
          "favorite_count": 2743,
          "handle": "HillaryClinton",
          "retweet_count": 1184,
          "text": "Imagine if this was our president. https://t.co/DCZLKQAfqx",
          "time": "2016-06-19T20:20:27"
         },
         {
          "favorite_count": 10877,
          "handle": "realDonaldTrump",
          "retweet_count": 2326,
          "text": "COMING UP @GenFlynn @newtgingrich on @foxandfriends",
          "time": "2016-09-08T10:43:12"
         },
         {
          "favorite_count": 2559,
          "handle": "HillaryClinton",
          "retweet_count": 708,
          "text": "\"Americans [are] telling us about their struggles…they want to be given a chance, a fighting chance.\" —Hillary live from Chicago",
          "time": "2016-06-27T19:25:50"
         },
         {
          "favorite_count": 2281,
          "handle": "HillaryClinton",
          "retweet_count": 678,
          "text": "\"Home is where your character is stamped, where it’s stamped into your soul. Where your values are set.” —@JoeBiden",
          "time": "2016-08-15T17:36:04"
         },
         {
          "favorite_count": 18999,
          "handle": "realDonaldTrump",
          "retweet_count": 6380,
          "text": "I am returning to the Pensacola Bay Center in Florida- Friday, 9/9/16 at 7pm. Join me! https://t.co/L8Ui56dcrJ https://t.co/wAePlfS0JL",
          "time": "2016-09-03T20:15:15"
         },
         {
          "favorite_count": 11840,
          "handle": "realDonaldTrump",
          "retweet_count": 3513,
          "text": "\"@DonaldJTrumpJr: Honored to be in #Utah with retired General Robert C. Oaks. We are so thankful for his support and endorsement here in SLC",
          "time": "2016-03-19T12:15:16"
         },
         {
          "favorite_count": 24641,
          "handle": "realDonaldTrump",
          "retweet_count": 7611,
          "text": "I have millions more votes/hundreds more dels than Cruz or Kasich, and yet am not being treated properly by the Republican Party or the RNC.",
          "time": "2016-03-29T14:16:19"
         },
         {
          "favorite_count": 8505,
          "handle": "HillaryClinton",
          "retweet_count": 2572,
          "text": "Thank you, President Carter. https://t.co/zb94pXV95r",
          "time": "2016-07-26T23:59:29"
         },
         {
          "favorite_count": 9056,
          "handle": "HillaryClinton",
          "retweet_count": 3505,
          "text": "Folks, we've got to elect @HillaryClinton and take back the Senate. Let's roll up our sleeves and get to work. -Joe https://t.co/7MyhWs9sAc",
          "time": "2016-09-01T23:58:36"
         },
         {
          "favorite_count": 1461,
          "handle": "HillaryClinton",
          "retweet_count": 665,
          "text": "Para dejarle un mejor futuro a nuestros niños, tenemos que proteger el futuro de nuestro planeta. #DiaDeLaTierra https://t.co/BUdyIdA5lz",
          "time": "2016-04-22T22:01:23"
         },
         {
          "favorite_count": 785,
          "handle": "HillaryClinton",
          "retweet_count": 302,
          "text": "What's @HillaryClinton up to while New Yorkers vote? Check out @HFA's liveblog to find out. https://t.co/2I2PR1UY6x https://t.co/onbOd5rdNf",
          "time": "2016-04-20T00:45:30"
         },
         {
          "favorite_count": 6740,
          "handle": "realDonaldTrump",
          "retweet_count": 2809,
          "text": "Lightweight Senator Marco Rubio features Trump Univ. students in FL. attack ads- who submitted \"excellent\" reviews. https://t.co/JGTD590pKE",
          "time": "2016-03-07T22:34:53"
         },
         {
          "favorite_count": 4446,
          "handle": "HillaryClinton",
          "retweet_count": 1353,
          "text": "\"She is fit and she is ready to be the next Commander-in-Chief.” —@POTUS on Hillary",
          "time": "2016-07-28T03:16:38"
         },
         {
          "favorite_count": 13080,
          "handle": "realDonaldTrump",
          "retweet_count": 3694,
          "text": "Thank you for having me! I enjoyed the tour and spending time with everyone. See you soon. #MAGA https://t.co/eNtS7IBPDo",
          "time": "2016-09-15T14:34:13"
         },
         {
          "favorite_count": 637,
          "handle": "HillaryClinton",
          "retweet_count": 280,
          "text": "Hillary Clinton se ha comprometido a atender la situación del virus del Zika, especialmente en Puerto Rico.\nhttps://t.co/TyhSPcsrDd",
          "time": "2016-04-23T22:57:02"
         },
         {
          "favorite_count": 3004,
          "handle": "realDonaldTrump",
          "retweet_count": 1012,
          "text": "\"@Crusade4Honesty:  @BornToBeGOP @megynkelly  Megan can not contain her bias, it's in every show, Fox owners Saudi Prince agnstT\"",
          "time": "2016-01-26T04:56:32"
         },
         {
          "favorite_count": 13563,
          "handle": "HillaryClinton",
          "retweet_count": 5320,
          "text": "With just 83 days until Election Day, Trump hired one of the most extreme right-wing voices to run his campaign. https://t.co/geausYW6oD",
          "time": "2016-08-17T18:40:09"
         },
         {
          "favorite_count": 12183,
          "handle": "realDonaldTrump",
          "retweet_count": 3222,
          "text": "Crazy @megynkelly says I don't (won't) go on her show and she still gets good ratings. But almost all of her shows are negative hits on me!",
          "time": "2016-03-19T15:14:32"
         },
         {
          "favorite_count": 47723,
          "handle": "realDonaldTrump",
          "retweet_count": 28083,
          "text": "#CrookedHillary #ThrowbackThursday https://t.co/v8J0r64J7h",
          "time": "2016-08-18T20:55:33"
         },
         {
          "favorite_count": 2137,
          "handle": "HillaryClinton",
          "retweet_count": 574,
          "text": "Watch live as Hillary stops in St. Petersburg, Florida, for a campaign rally on the choice we face on the economy: https://t.co/09cW39nHXo",
          "time": "2016-08-08T19:35:33"
         },
         {
          "favorite_count": 9407,
          "handle": "realDonaldTrump",
          "retweet_count": 3203,
          "text": "Thank you West Chester, Pennsylvania!\n#PAPrimary #VoteTrump\nhttps://t.co/Qva1QtmhpS https://t.co/CF9SYBqka7",
          "time": "2016-04-25T22:06:26"
         },
         {
          "favorite_count": 1449,
          "handle": "HillaryClinton",
          "retweet_count": 1264,
          "text": "Donald Trump is going to try to take Mitt Romney's \"etch-a-sketch\" approach to the general election. Don't let him.\nhttps://t.co/Az2A0UQqeq",
          "time": "2016-04-23T18:20:17"
         },
         {
          "favorite_count": 5732,
          "handle": "HillaryClinton",
          "retweet_count": 2279,
          "text": "Discrimination against LGBT people is all too common—and goes against everything we stand for as a country. https://t.co/CnOZdKXG0q",
          "time": "2016-06-26T23:06:00"
         },
         {
          "favorite_count": 7482,
          "handle": "realDonaldTrump",
          "retweet_count": 3133,
          "text": "#NEPrimary #VoteTrump #Trump2016\nhttps://t.co/ygD2z6EnhY\nhttps://t.co/Z2yVlmHl8o",
          "time": "2016-05-09T15:15:28"
         },
         {
          "favorite_count": 8453,
          "handle": "realDonaldTrump",
          "retweet_count": 2805,
          "text": "I want to thank evangelical Christians for the warm embrace I've received on the campaign trail. Video: https://t.co/u6oOcWGePe",
          "time": "2016-01-30T14:05:31"
         },
         {
          "favorite_count": 13118,
          "handle": "HillaryClinton",
          "retweet_count": 5091,
          "text": "Presidential. https://t.co/tlfpcbVqkT",
          "time": "2016-09-18T00:22:15"
         },
         {
          "favorite_count": 6347,
          "handle": "HillaryClinton",
          "retweet_count": 3994,
          "text": "Republicans agree: Donald Trump is reckless, dangerous, and divisive. https://t.co/fUkISvxMmc",
          "time": "2016-05-05T13:03:06"
         },
         {
          "favorite_count": 2030,
          "handle": "HillaryClinton",
          "retweet_count": 736,
          "text": "We need to make college debt-free. You shouldn't have to take out loans (or more drastic measures) to attend college https://t.co/Z1k6gqfg53",
          "time": "2016-09-13T01:05:17"
         },
         {
          "favorite_count": 30782,
          "handle": "realDonaldTrump",
          "retweet_count": 9431,
          "text": "Thank you Michigan. This is a MOVEMENT. We are going to MAKE AMERICA SAFE AND GREAT AGAIN! #TrumpPence16 https://t.co/vP3eqF3Zbb",
          "time": "2016-08-19T22:16:16"
         },
         {
          "favorite_count": 1630,
          "handle": "HillaryClinton",
          "retweet_count": 1044,
          "text": "They say your friends reflect who you really are... https://t.co/aubM6KS0BG",
          "time": "2016-05-05T15:57:53"
         },
         {
          "favorite_count": 4699,
          "handle": "realDonaldTrump",
          "retweet_count": 1932,
          "text": "\"@sprivitor @realDonaldTrump Marco 'Amnesty' Rubio is the front man of Amnesty. https://t.co/D4zXazzbq8 #AlwaysTrump #Trump2016 #TrumpTrain",
          "time": "2016-02-28T10:54:11"
         },
         {
          "favorite_count": 9034,
          "handle": "HillaryClinton",
          "retweet_count": 2713,
          "text": "Every generation of Americans has come together to make our country freer, fairer, and stronger. None of us…can do it alone.” —Hillary",
          "time": "2016-07-29T03:24:59"
         },
         {
          "favorite_count": 10107,
          "handle": "realDonaldTrump",
          "retweet_count": 3818,
          "text": "Remember that Marco Rubio is very weak on illegal immigration. South Carolina needs strength as illegals and Syrians pour in. Don't allow it",
          "time": "2016-02-20T17:02:44"
         },
         {
          "favorite_count": 9143,
          "handle": "HillaryClinton",
          "retweet_count": 5447,
          "text": "Donald Trump's foundation allegedly paid off Florida's attorney general to prevent an investigation into his fraud. https://t.co/tCrtd6ab5h",
          "time": "2016-09-14T11:46:23"
         },
         {
          "favorite_count": 7835,
          "handle": "realDonaldTrump",
          "retweet_count": 4371,
          "text": "Just back from a dinner in West Hollywood: shocked the majority of the table was voting for Trump but they would never admit it publicly.",
          "time": "2016-02-21T18:55:03"
         },
         {
          "favorite_count": 3325,
          "handle": "HillaryClinton",
          "retweet_count": 1326,
          "text": "We can only confront a challenge like Zika when we come together. It's time for Republicans to fund this fight: https://t.co/9jNGrpj5Nt -H",
          "time": "2016-09-09T15:42:30"
         },
         {
          "favorite_count": 6112,
          "handle": "HillaryClinton",
          "retweet_count": 1901,
          "text": "Every child should be able to live up to their God-given potential, no matter where they come from, what they look like, or who they love.",
          "time": "2016-09-08T23:12:48"
         },
         {
          "favorite_count": 27281,
          "handle": "realDonaldTrump",
          "retweet_count": 10105,
          "text": "Tim Kaine is, and always has been, owned by the banks. Bernie supporters are outraged, was their last choice. Bernie fought for nothing!",
          "time": "2016-07-23T10:35:37"
         },
         {
          "favorite_count": 2854,
          "handle": "realDonaldTrump",
          "retweet_count": 757,
          "text": "\"@red77angelluis: @realDonaldTrump @NeilTurner_ @YouTube LET'S GET TRUMP!! GO TRUMP!! USA!USA!\"",
          "time": "2016-01-25T04:07:08"
         },
         {
          "favorite_count": 9631,
          "handle": "realDonaldTrump",
          "retweet_count": 3584,
          "text": "I use both iPhone &amp; Samsung. If Apple doesn't give info to authorities on the terrorists I'll only be using Samsung until they give info.",
          "time": "2016-02-19T21:32:43"
         },
         {
          "favorite_count": 16110,
          "handle": "realDonaldTrump",
          "retweet_count": 5390,
          "text": "Crooked Hillary Clinton said she is used to \"dealing with men who get off the reservation.\" Actually, she has done poorly with such men!",
          "time": "2016-05-02T11:12:40"
         },
         {
          "favorite_count": 1368,
          "handle": "HillaryClinton",
          "retweet_count": 636,
          "text": "Building an inclusive economy is another reason we’ve got to break down systemic racism, including under-investment in communities of color.",
          "time": "2016-09-21T18:50:07"
         },
         {
          "favorite_count": 5531,
          "handle": "HillaryClinton",
          "retweet_count": 2386,
          "text": "Don’t let anyone tell you that America isn’t great. Donald Trump’s got America all wrong.",
          "time": "2016-06-02T19:37:50"
         },
         {
          "favorite_count": 11579,
          "handle": "realDonaldTrump",
          "retweet_count": 2893,
          "text": "Thank you Clive, Iowa!\nhttps://t.co/tuZ35BkD9J",
          "time": "2016-09-13T19:40:53"
         },
         {
          "favorite_count": 21909,
          "handle": "realDonaldTrump",
          "retweet_count": 7099,
          "text": "Thank you, Arizona! #Trump2016\n#WesternTuesday #TrumpTrain https://t.co/VMCzxrryG8",
          "time": "2016-03-23T03:30:10"
         },
         {
          "favorite_count": 5572,
          "handle": "HillaryClinton",
          "retweet_count": 2112,
          "text": "In America, we don’t begrudge people being successful – but we know they shouldn’t do it by destroying other people. https://t.co/lQ1IzXFZrV",
          "time": "2016-06-21T16:55:50"
         },
         {
          "favorite_count": 17722,
          "handle": "realDonaldTrump",
          "retweet_count": 3565,
          "text": "I only wish my wonderful daughter Tiffany could have been with us at \nMar-a-Lago for our great election victory. She is a winner!",
          "time": "2016-03-16T02:33:54"
         },
         {
          "favorite_count": 8292,
          "handle": "HillaryClinton",
          "retweet_count": 5904,
          "text": "Donald Trump may live in his own reality—but we've got his own words right here. Check them out: https://t.co/NLPH8sbAGn #debatenight",
          "time": "2016-09-27T01:27:13"
         },
         {
          "favorite_count": 2446,
          "handle": "HillaryClinton",
          "retweet_count": 1098,
          "text": "The choice is clear: Hillary Clinton is the only candidate who consistently stands with gun safety. #ImWithHer https://t.co/tRcGX529cu",
          "time": "2016-06-03T17:12:34"
         },
         {
          "favorite_count": 30867,
          "handle": "realDonaldTrump",
          "retweet_count": 13048,
          "text": "Is it the same Kaine that took hundreds of thousands of dollars in gifts while Governor of Virginia and didn't get indicted while Bob M did?",
          "time": "2016-07-23T03:23:15"
         },
         {
          "favorite_count": 16055,
          "handle": "HillaryClinton",
          "retweet_count": 12744,
          "text": "Trump hired the head of Breitbart \"News\" to be CEO of his campaign. Here's a sample of their work: https://t.co/y8loOnkbNu",
          "time": "2016-08-25T19:32:25"
         },
         {
          "favorite_count": 8273,
          "handle": "HillaryClinton",
          "retweet_count": 4461,
          "text": "A man you can bait with a tweet is not a man we can trust with nuclear weapons. https://t.co/qZ3Z10cqKN",
          "time": "2016-09-07T22:24:21"
         },
         {
          "favorite_count": 10957,
          "handle": "HillaryClinton",
          "retweet_count": 7764,
          "text": "The man who could be your next president may be deeply indebted to another country. Do you trust him to run ours? https://t.co/5TU9olTqd5",
          "time": "2016-09-22T20:30:07"
         },
         {
          "favorite_count": 26126,
          "handle": "realDonaldTrump",
          "retweet_count": 5793,
          "text": "Being in Detroit today was wonderful. Quick stop in Ohio to meet with some of our great supporters. Just got back home!",
          "time": "2016-08-09T02:45:10"
         },
         {
          "favorite_count": 1561,
          "handle": "HillaryClinton",
          "retweet_count": 528,
          "text": "Hold on to your hats. The #DemConvention is just getting started: https://t.co/5HNjA2kjNP https://t.co/xSDVRj4Q4T",
          "time": "2016-07-25T20:31:30"
         },
         {
          "favorite_count": 25785,
          "handle": "realDonaldTrump",
          "retweet_count": 5681,
          "text": "One of the best produced, including the incredible stage &amp; set, in the history of conventions. Great unity! Big T.V. ratings! @KarlRove",
          "time": "2016-07-22T14:06:01"
         },
         {
          "favorite_count": 14662,
          "handle": "realDonaldTrump",
          "retweet_count": 4922,
          "text": "We will immediately repeal and replace ObamaCare - and nobody can do that like me. We will save $'s and have much better healthcare!",
          "time": "2016-02-09T22:15:34"
         },
         {
          "favorite_count": 18037,
          "handle": "realDonaldTrump",
          "retweet_count": 4805,
          "text": "Heading to D.C. to see and hear ROLLING THUNDER. Amazing people that LOVE OUR COUNTRY. Great spirit!",
          "time": "2016-05-29T16:45:44"
         },
         {
          "favorite_count": 5094,
          "handle": "HillaryClinton",
          "retweet_count": 1692,
          "text": "\"When we are indivisible, we are invincible.\" —@CoryBooker at the @DemConvention last night #DemsInPHL https://t.co/L145Ovu1uZ",
          "time": "2016-07-26T16:18:14"
         },
         {
          "favorite_count": 4793,
          "handle": "realDonaldTrump",
          "retweet_count": 1536,
          "text": "\"@MaryAnn1942: @realDonaldTrump why vote for Trump? Unlike politicians all talk, Trump’s talk materializes! He will make America great again",
          "time": "2016-02-05T23:13:07"
         },
         {
          "favorite_count": 18804,
          "handle": "realDonaldTrump",
          "retweet_count": 7273,
          "text": "THANK YOU California, Maryland, New York, and Pennsylvania! See you soon!\n#MakeAmericaGreatAgain #Trump2016 https://t.co/2lyqnMRIGq",
          "time": "2016-04-12T16:10:23"
         },
         {
          "favorite_count": 13273,
          "handle": "realDonaldTrump",
          "retweet_count": 4466,
          "text": "Join me in Charleston, WV - tomorrow! https://t.co/kv624y9UOm",
          "time": "2016-05-04T16:31:05"
         },
         {
          "favorite_count": 2425,
          "handle": "HillaryClinton",
          "retweet_count": 1080,
          "text": "\"There is no doubt in my mind that...Hillary Clinton is far and away the best candidate to do that.\" —@BernieSanders https://t.co/IvDtsunuWx",
          "time": "2016-07-12T15:32:35"
         },
         {
          "favorite_count": 7096,
          "handle": "realDonaldTrump",
          "retweet_count": 1543,
          "text": "\"@manakoa:DonaldTrump, you are fearless! This interview shows you are the Leader we need. @megynkelly is a tough interview! Respect to both\"",
          "time": "2016-05-18T00:26:43"
         },
         {
          "favorite_count": 5470,
          "handle": "realDonaldTrump",
          "retweet_count": 2551,
          "text": "It never ends!  https://t.co/vdErsfh5H6",
          "time": "2016-02-06T02:51:26"
         },
         {
          "favorite_count": 18998,
          "handle": "realDonaldTrump",
          "retweet_count": 4901,
          "text": "I am making a big speech the night of the @FoxNews debate, but I wish everyone well. Yesterday was a big day for me with 5 wins!",
          "time": "2016-03-16T17:47:07"
         },
         {
          "favorite_count": 7806,
          "handle": "HillaryClinton",
          "retweet_count": 2199,
          "text": "We need a president who understands that none of us has all the answers and no one person can fix our problems alone.",
          "time": "2016-09-08T23:27:18"
         },
         {
          "favorite_count": 13038,
          "handle": "realDonaldTrump",
          "retweet_count": 4726,
          "text": "Get out and vote West Virginia, we will MAKE AMERICA GREAT AGAIN!",
          "time": "2016-05-10T10:20:40"
         },
         {
          "favorite_count": 8291,
          "handle": "HillaryClinton",
          "retweet_count": 4394,
          "text": "CA, MT, NJ, NM, ND, and SD, it's your day to head to the polls. RT this if you’re voting for Hillary. https://t.co/nu3VCKSuBz",
          "time": "2016-06-07T14:00:13"
         },
         {
          "favorite_count": 20607,
          "handle": "realDonaldTrump",
          "retweet_count": 7637,
          "text": "Thank you America! #Trump2016 https://t.co/KL7VZbM1jP",
          "time": "2016-04-26T19:55:15"
         },
         {
          "favorite_count": 633,
          "handle": "HillaryClinton",
          "retweet_count": 387,
          "text": "¡Alza tu voz! Encuentre dónde votar en Nueva York aquí → https://t.co/XFC2bmOTde #EstoyConElla https://t.co/BWBoK3Ex6S",
          "time": "2016-04-19T11:58:33"
         },
         {
          "favorite_count": 19964,
          "handle": "realDonaldTrump",
          "retweet_count": 8836,
          "text": "#CrookedHillary \nhttps://t.co/oHI6xrDJU0",
          "time": "2016-08-01T14:48:22"
         },
         {
          "favorite_count": 21803,
          "handle": "realDonaldTrump",
          "retweet_count": 7146,
          "text": "I am getting great credit for my press conference today. Crooked Hillary should be admonished for not having a press conference in 179 days.",
          "time": "2016-05-31T23:17:33"
         },
         {
          "favorite_count": 1688,
          "handle": "HillaryClinton",
          "retweet_count": 858,
          "text": "Hartford Courant endorses Hillary Clinton in Connecticut Democratic presidential primary. https://t.co/aworWEdNhR https://t.co/BjOwWbwm9H",
          "time": "2016-04-17T22:02:09"
         },
         {
          "favorite_count": 20984,
          "handle": "realDonaldTrump",
          "retweet_count": 7057,
          "text": "I highly recommend the just out book - THE FIELD OF FIGHT - by General Michael Flynn. How to defeat radical Islam.",
          "time": "2016-07-23T03:49:04"
         },
         {
          "favorite_count": 2586,
          "handle": "HillaryClinton",
          "retweet_count": 1229,
          "text": "Donald Trump's plan: a multi-billion dollar tax cut for himself and the wealthiest Americans https://t.co/he2KkNcaMm",
          "time": "2016-08-18T15:56:05"
         },
         {
          "favorite_count": 4382,
          "handle": "HillaryClinton",
          "retweet_count": 1508,
          "text": "Closely monitoring the flooding in Louisiana &amp; Mississippi. The @RedCross is helping displaced families in need: https://t.co/sSYTbQMndP -H",
          "time": "2016-08-16T22:24:26"
         },
         {
          "favorite_count": 3311,
          "handle": "realDonaldTrump",
          "retweet_count": 1041,
          "text": "The failing @UnionLeader newspaper in N.H. just sent The Trump Organization a letter asking that we take ads. How stupid, how desperate!",
          "time": "2016-01-07T11:06:43"
         },
         {
          "favorite_count": 2180,
          "handle": "HillaryClinton",
          "retweet_count": 966,
          "text": "Trump says he “knows more about ISIS than the generals do.”\n\nNot only is that wrong, it's disrespectful to our men and women in uniform.",
          "time": "2016-09-06T18:58:45"
         },
         {
          "favorite_count": 8870,
          "handle": "realDonaldTrump",
          "retweet_count": 2226,
          "text": "On June 22- I will be going to Scotland to celebrate the opening of the newly renovated @TrumpTurnberry Resort, the worlds best.",
          "time": "2016-06-03T03:39:40"
         },
         {
          "favorite_count": 30550,
          "handle": "realDonaldTrump",
          "retweet_count": 9554,
          "text": "Here we go again with another Clinton scandal, and e-mails yet (can you believe). Crooked Hillary knew the fix was in, B never had a chance!",
          "time": "2016-07-25T13:42:55"
         },
         {
          "favorite_count": 17139,
          "handle": "realDonaldTrump",
          "retweet_count": 7677,
          "text": "STATEMENT IN RESPONSE TO PRESIDENT OBAMA'S FAILED LEADERSHIP: https://t.co/SPgFIFuSO7",
          "time": "2016-08-02T17:47:19"
         },
         {
          "favorite_count": 10307,
          "handle": "realDonaldTrump",
          "retweet_count": 3658,
          "text": "\"@LouDobbs: Hillary Just Handed @realDonaldTrump a Huge Gift: Promising to Put Bubba in Charge of the Economy! #MakeAmericaGreatAgain!",
          "time": "2016-05-18T02:41:22"
         },
         {
          "favorite_count": 1710,
          "handle": "HillaryClinton",
          "retweet_count": 833,
          "text": "This fall, USPS will honor joyous Hindu Festival of #Diwali with a Forever® stamp! https://t.co/ahplXrlp5s https://t.co/XadduwKYok",
          "time": "2016-08-23T21:39:54"
         },
         {
          "favorite_count": 20672,
          "handle": "realDonaldTrump",
          "retweet_count": 7818,
          "text": "Happy 4th of July! #Trump2016 #AmericaFirst https://t.co/Ndb3AQrLtY https://t.co/YhHyQjwJW6",
          "time": "2016-07-04T13:32:35"
         },
         {
          "favorite_count": 3910,
          "handle": "HillaryClinton",
          "retweet_count": 2325,
          "text": "Tenemos que unirnos, sentir orgullo juntos. No hay mejor respuesta para los terroristas y a todos aquellos que odian https://t.co/wQVmDQ321o",
          "time": "2016-06-13T21:35:56"
         },
         {
          "favorite_count": 11823,
          "handle": "HillaryClinton",
          "retweet_count": 3561,
          "text": "\"When we come together...we won’t just win in November—we’ll build on the progress we’ve made.\" —@POTUS https://t.co/WJ8rdqShqx",
          "time": "2016-06-10T00:43:07"
         },
         {
          "favorite_count": 8447,
          "handle": "realDonaldTrump",
          "retweet_count": 3987,
          "text": "Ted Cruz was born in Canada and was a Canadian citizen until 15 months ago. Lawsuits have just been filed with more to follow. I told you so",
          "time": "2016-01-16T11:40:13"
         },
         {
          "favorite_count": 6037,
          "handle": "realDonaldTrump",
          "retweet_count": 1815,
          "text": "\"@fivestarr6028: Yes! Hubby and I voted 4 @realDonaldTrump already! https://t.co/h1iHiJNUjm\" Thank you.",
          "time": "2016-06-03T05:24:28"
         },
         {
          "favorite_count": 4146,
          "handle": "HillaryClinton",
          "retweet_count": 1123,
          "text": "\"She launched a team to fight back against terrorists online and built a new global counter-terrorism effort.” —@BillClinton",
          "time": "2016-07-27T02:46:34"
         },
         {
          "favorite_count": 7355,
          "handle": "HillaryClinton",
          "retweet_count": 2809,
          "text": "\"What kind of a man cheats students, cheats investors, cheats workers? ... A man who must never be president\" —Warren on Trump #DemsInPhilly",
          "time": "2016-07-26T02:36:29"
         },
         {
          "favorite_count": 2794,
          "handle": "HillaryClinton",
          "retweet_count": 1374,
          "text": "The Trump Atlantic City business method: Drive a business into the ground, stiff workers, and take home millions. https://t.co/VveL3MKwjU",
          "time": "2016-07-06T22:59:45"
         },
         {
          "favorite_count": 10138,
          "handle": "HillaryClinton",
          "retweet_count": 4297,
          "text": "The most important quality in a president and Commander-in-Chief is steadiness—an absolute, rock solid steadiness. https://t.co/QwQBzZc0xb",
          "time": "2016-09-09T01:49:45"
         },
         {
          "favorite_count": 4165,
          "handle": "realDonaldTrump",
          "retweet_count": 1366,
          "text": ".@bobvanderplaats is a total phony and dishonest guy. Asked me for expensive hotel rooms, free (and more). I said pay and he endorsed Cruz!",
          "time": "2016-01-31T12:31:03"
         },
         {
          "favorite_count": 27640,
          "handle": "realDonaldTrump",
          "retweet_count": 10998,
          "text": "Does President Obama ever discuss the sneak attack on Pearl Harbor while he's in Japan? Thousands of American lives lost. #MDW",
          "time": "2016-05-28T21:34:55"
         },
         {
          "favorite_count": 9837,
          "handle": "realDonaldTrump",
          "retweet_count": 4081,
          "text": "New Government data by the Center for Immigration Studies shows more than 3M new legal &amp; illegal immigrants settled..https://t.co/hMFyZc1kAM",
          "time": "2016-06-24T18:48:50"
         },
         {
          "favorite_count": 2658,
          "handle": "realDonaldTrump",
          "retweet_count": 748,
          "text": "\"@SalRiccobono: @realDonaldTrump @troyconway Donald get big business back and# MAKE AMERICA GREAT AGAIN FOR 2016\"",
          "time": "2016-01-05T03:36:53"
         },
         {
          "favorite_count": 3867,
          "handle": "HillaryClinton",
          "retweet_count": 3758,
          "text": "El plan de Trump sobre inmigración ha sido claro: demonizar inmigrantes, \"construir la muralla\", deportar millones. https://t.co/90NGNvX5RF",
          "time": "2016-08-31T20:56:19"
         },
         {
          "favorite_count": 16777,
          "handle": "realDonaldTrump",
          "retweet_count": 9216,
          "text": "\"@DonaldJTrumpJr: Company Gouging Price Of EpiPens Is A Clinton Foundation Donor And Partner https://t.co/HHlNGnlGMN via dailycaller\"",
          "time": "2016-08-26T02:47:34"
         },
         {
          "favorite_count": 4285,
          "handle": "HillaryClinton",
          "retweet_count": 2616,
          "text": "13. How can we know you won't (again) impulsively damage relationships with crucial allies to preserve your own ego? https://t.co/j1VtaFhA6C",
          "time": "2016-09-14T16:48:08"
         },
         {
          "favorite_count": 5046,
          "handle": "realDonaldTrump",
          "retweet_count": 2203,
          "text": "#ICYMI: @KarlRove &amp; @oreillyfactor discuss what Ted Cruz did to the great people of Iowa- as they went to vote. https://t.co/Tv0FNezxse",
          "time": "2016-02-04T06:35:50"
         },
         {
          "favorite_count": 1185,
          "handle": "HillaryClinton",
          "retweet_count": 594,
          "text": "We're looking for fall interns to join us at our Brooklyn HQ for the final stretch of the campaign. Apply today: https://t.co/I6JzVO4adu",
          "time": "2016-06-23T01:31:01"
         },
         {
          "favorite_count": 2799,
          "handle": "realDonaldTrump",
          "retweet_count": 695,
          "text": "Jusr watched  #HarveyPitt on @TeamCavuto - he was great!",
          "time": "2016-01-15T21:06:40"
         },
         {
          "favorite_count": 16527,
          "handle": "realDonaldTrump",
          "retweet_count": 5638,
          "text": "Thank you Iowa- see you soon!\n#Trump2016 #ImWithYou \nhttps://t.co/gva0MbgnuO https://t.co/PE1jdqZysc",
          "time": "2016-07-12T22:19:52"
         },
         {
          "favorite_count": 13284,
          "handle": "realDonaldTrump",
          "retweet_count": 6301,
          "text": "MY POSITION ON VISAS\n#MakeAmericaGreatAgain #Trump2016\nhttps://t.co/JGmOd5gr5z https://t.co/OLg6N3Ug9U",
          "time": "2016-03-04T05:24:18"
         },
         {
          "favorite_count": 4285,
          "handle": "realDonaldTrump",
          "retweet_count": 1353,
          "text": "Join us in Sparks, Nevada today! \n#NevadaCaucus #VoteTrumpNV \nhttps://t.co/5DyhPftng9",
          "time": "2016-02-23T16:46:06"
         },
         {
          "favorite_count": 20188,
          "handle": "HillaryClinton",
          "retweet_count": 8550,
          "text": "The presidency isn't a reality show—it's as real as it gets. Make sure you're registered to vote:… https://t.co/gBZ42fzFnF",
          "time": "2016-09-27T02:57:56"
         },
         {
          "favorite_count": 30622,
          "handle": "realDonaldTrump",
          "retweet_count": 10420,
          "text": "Crooked's stop in Johnstown, Pennsylvania, where jobs have been absolutely decimated by dumb politicians, drew less than 200 - with Bill, VP",
          "time": "2016-07-30T22:04:14"
         },
         {
          "favorite_count": 5021,
          "handle": "realDonaldTrump",
          "retweet_count": 1811,
          "text": "Cruz lies are almost as bad as Jeb's. These politicians will do anything to stay at the trough!",
          "time": "2016-01-25T22:04:40"
         },
         {
          "favorite_count": 8243,
          "handle": "realDonaldTrump",
          "retweet_count": 2582,
          "text": "Join me on Tuesday- in Greensboro, North Carolina! #Trump2016 #AmericaFirst https://t.co/iaL5IGTfV3",
          "time": "2016-06-11T22:35:53"
         },
         {
          "favorite_count": 1263,
          "handle": "HillaryClinton",
          "retweet_count": 631,
          "text": "Touching @nytimes article on Muslim HS student winning prom queen after friends campaigned for her #LoveTrumpsHate https://t.co/PisacgcVJ3",
          "time": "2016-04-30T17:45:43"
         },
         {
          "favorite_count": 8277,
          "handle": "HillaryClinton",
          "retweet_count": 2604,
          "text": "\"A president should respect the men and women who risk their lives to serve our country.\" —Hillary",
          "time": "2016-07-29T03:17:28"
         },
         {
          "favorite_count": 5247,
          "handle": "realDonaldTrump",
          "retweet_count": 1890,
          "text": "Looking forward to a great weekend in Iowa! #IACaucus #CaucusForTrump \nTickets: https://t.co/nU39QHzxxX https://t.co/xZlwspf6xe",
          "time": "2016-01-30T01:54:16"
         },
         {
          "favorite_count": 3410,
          "handle": "HillaryClinton",
          "retweet_count": 1412,
          "text": "When Donald Trump was asked about anti-Semitic slurs and death threats coming from his supporters, he refused to condemn them.",
          "time": "2016-08-25T19:25:58"
         },
         {
          "favorite_count": 11263,
          "handle": "HillaryClinton",
          "retweet_count": 5550,
          "text": "You're wrong, @realDonaldTrump. We can uphold Second Amendment rights while preventing senseless gun violence. https://t.co/G7g1AdZWCA",
          "time": "2016-05-20T20:31:26"
         },
         {
          "favorite_count": 1287,
          "handle": "HillaryClinton",
          "retweet_count": 816,
          "text": "Millions of families—disproportionately black and Latino families—lost homes, jobs, and savings.\n\nTrump tried to profit at their expense.",
          "time": "2016-05-24T18:41:49"
         },
         {
          "favorite_count": 4632,
          "handle": "HillaryClinton",
          "retweet_count": 2477,
          "text": "If you cite supporting torture and hosting pageants as foreign policy \"qualifications,\" your definition needs work. https://t.co/3JbmzuxEK5",
          "time": "2016-05-20T00:04:29"
         },
         {
          "favorite_count": 1864,
          "handle": "HillaryClinton",
          "retweet_count": 936,
          "text": "Trump or Pence: Who said it worse? It's a close call. https://t.co/1SgYUICguz",
          "time": "2016-07-20T22:17:04"
         },
         {
          "favorite_count": 1383,
          "handle": "HillaryClinton",
          "retweet_count": 472,
          "text": "Live now from North Carolina: Hillary’s plan to make the economy work for everyone. Watch here. https://t.co/byKmrx9XZy",
          "time": "2016-06-22T18:27:33"
         },
         {
          "favorite_count": 10977,
          "handle": "realDonaldTrump",
          "retweet_count": 3107,
          "text": "It is amazing how @LindseyGrahamSC gets on so many T.V. shows talking negatively about me when I beat him so badly (ZERO) in his pres run!",
          "time": "2016-03-24T14:02:27"
         },
         {
          "favorite_count": 25361,
          "handle": "realDonaldTrump",
          "retweet_count": 8455,
          "text": "#CrookedHillary is not fit to be our next president! #TrumpPence16 \nhttps://t.co/I0zJO2sZKk",
          "time": "2016-08-06T20:04:08"
         },
         {
          "favorite_count": 14449,
          "handle": "HillaryClinton",
          "retweet_count": 5206,
          "text": "\"While...Trump is busy insulting one group after another, Hillary...understands that our diversity is one of our greatest strengths\" —Bernie",
          "time": "2016-07-26T03:18:21"
         },
         {
          "favorite_count": 9440,
          "handle": "realDonaldTrump",
          "retweet_count": 3458,
          "text": "Polls close in 3 hours! Everyone get out and VOTE!\n#Trump2016 #MakeAmericaGreatAgain\nhttps://t.co/EuFxefFu0D",
          "time": "2016-04-19T22:00:15"
         },
         {
          "favorite_count": 2439,
          "handle": "HillaryClinton",
          "retweet_count": 1042,
          "text": "\"We cannot take this election for granted. We’ve got to fight for this thing.” —@POTUS: https://t.co/tTgeqxNqYm",
          "time": "2016-09-13T18:14:28"
         },
         {
          "favorite_count": 84385,
          "handle": "realDonaldTrump",
          "retweet_count": 28531,
          "text": "Prayers and condolences to all of the families who are so thoroughly devastated by the horrors we are all watching take place in our country",
          "time": "2016-07-08T11:02:41"
         },
         {
          "favorite_count": 29425,
          "handle": "realDonaldTrump",
          "retweet_count": 10415,
          "text": "Crooked Hillary has ZERO leadership ability. As Bernie Sanders says, she has bad judgement. Constantly playing the women's card - it is sad!",
          "time": "2016-05-06T12:38:38"
         },
         {
          "favorite_count": 31681,
          "handle": "realDonaldTrump",
          "retweet_count": 11104,
          "text": "China wouldn't provide a red carpet stairway from Air Force One and then Philippines President calls Obama \"the son of a whore.\" Terrible!",
          "time": "2016-09-06T11:12:11"
         },
         {
          "favorite_count": 8247,
          "handle": "HillaryClinton",
          "retweet_count": 2825,
          "text": "Thank you to the Orlando Health and Florida Hospital for showing empathy and kindness in the face of hate. -H https://t.co/2RODu7Y5bn",
          "time": "2016-08-25T15:19:57"
         },
         {
          "favorite_count": 2017,
          "handle": "HillaryClinton",
          "retweet_count": 564,
          "text": "All smiles as we count down until @HillaryClinton and Elizabeth Warren take the stage in Cincy! #OHHillYes https://t.co/F02ycgB9N3",
          "time": "2016-06-27T14:32:11"
         },
         {
          "favorite_count": 1153,
          "handle": "HillaryClinton",
          "retweet_count": 479,
          "text": "Estoy indignado por la falta de acción para parar la violencia causada por armas de fuego. Es momento de actuar #HoldTheFloor #NoBillNoBreak",
          "time": "2016-06-23T04:14:55"
         },
         {
          "favorite_count": 10110,
          "handle": "realDonaldTrump",
          "retweet_count": 3114,
          "text": "Michael Barbaro, the author of the now discredited @nytimes hit piece on me with women, has in past tweeted badly about me. He should resign",
          "time": "2016-05-18T02:38:07"
         },
         {
          "favorite_count": 26571,
          "handle": "realDonaldTrump",
          "retweet_count": 9263,
          "text": "Thank you Oklahoma &amp; Virginia! \n#MakeAmericaGreatAgain #ImWithYou https://t.co/WUdY7feRvV",
          "time": "2016-08-01T20:40:27"
         },
         {
          "favorite_count": 7299,
          "handle": "realDonaldTrump",
          "retweet_count": 2066,
          "text": "\"@COWBOYSFORTRUMP: @ChristiChat @Rockprincess818 @realDonaldTrump That man is a pillar of strength and will be perfect as our next president",
          "time": "2016-05-18T01:37:33"
         },
         {
          "favorite_count": 13976,
          "handle": "HillaryClinton",
          "retweet_count": 6195,
          "text": "\"The voice of your vote is the greatest voice we have.\" —@NyleDiMarco\n\nhttps://t.co/tTgeqxNqYm https://t.co/X3oqEoOYsU",
          "time": "2016-09-20T14:03:20"
         },
         {
          "favorite_count": 2911,
          "handle": "HillaryClinton",
          "retweet_count": 1168,
          "text": "\"Hillary Clinton, with her long experience ... will be prepared to lead our country on day one.\" —@JerryBrownGov: https://t.co/NDAUs6a8bp",
          "time": "2016-06-01T02:06:39"
         },
         {
          "favorite_count": 10761,
          "handle": "HillaryClinton",
          "retweet_count": 3839,
          "text": "We just won Kentucky! Thanks to everyone who turned out. We’re always stronger united. https://t.co/8qYPHIje8I https://t.co/elNUP4nFoO",
          "time": "2016-05-18T02:39:06"
         },
         {
          "favorite_count": 6104,
          "handle": "realDonaldTrump",
          "retweet_count": 2058,
          "text": "#VoteTrumpMS! #Trump2016\nhttps://t.co/KaHD0uENla",
          "time": "2016-03-08T17:39:43"
         },
         {
          "favorite_count": 2554,
          "handle": "HillaryClinton",
          "retweet_count": 1369,
          "text": "Clinton and Trump are confirmed to participate in a \"Commander-in-chief\" forum with @IAVA on @MSNBC September 7th https://t.co/jjh1Qxgp88",
          "time": "2016-08-19T14:50:03"
         },
         {
          "favorite_count": 2187,
          "handle": "HillaryClinton",
          "retweet_count": 1045,
          "text": "\"Nobody's going to be left in this country that he's exempted from insults.\" —Hillary on Trump in California: https://t.co/M66GAOEeal",
          "time": "2016-06-06T19:54:28"
         },
         {
          "favorite_count": 3554,
          "handle": "HillaryClinton",
          "retweet_count": 1310,
          "text": "If you were born between 1980 and 2002, Hillary has big plans to help you. https://t.co/4XCf0d3j7R",
          "time": "2016-08-17T01:48:07"
         },
         {
          "favorite_count": 7249,
          "handle": "HillaryClinton",
          "retweet_count": 3934,
          "text": "When Trump insults Muslims or immigrants, he should remember that Muslims and immigrants serve in our armed forces. https://t.co/EkShqvbssC",
          "time": "2016-06-04T00:57:12"
         },
         {
          "favorite_count": 3597,
          "handle": "HillaryClinton",
          "retweet_count": 2281,
          "text": "Donald Trump has never negotiated a ceasefire, but he can throw a mean pageant! https://t.co/VjJzA6AdEi",
          "time": "2016-06-02T23:36:32"
         },
         {
          "favorite_count": 14783,
          "handle": "realDonaldTrump",
          "retweet_count": 5421,
          "text": "I want all Americans to succeed together. President Obama's illegal executive amnesty undermines job prospects for...https://t.co/dpIDejXzJw",
          "time": "2016-06-24T18:50:57"
         },
         {
          "favorite_count": 5167,
          "handle": "HillaryClinton",
          "retweet_count": 1747,
          "text": "Our open, diverse society is an asset in the struggle against terrorism, not a liability. It makes us stronger.",
          "time": "2016-06-13T17:39:05"
         },
         {
          "favorite_count": 31212,
          "handle": "realDonaldTrump",
          "retweet_count": 8533,
          "text": "Looking forward to my meeting with Benjamin Netanyahu in Trump Tower at 10:00 A.M.",
          "time": "2016-09-25T13:20:56"
         },
         {
          "favorite_count": 12254,
          "handle": "HillaryClinton",
          "retweet_count": 10552,
          "text": "A big, beautiful list of literally every tweet Donald Trump has sent about Mexico over the last two years. https://t.co/WCKL7oNdpg",
          "time": "2016-08-31T12:22:18"
         },
         {
          "favorite_count": 3681,
          "handle": "realDonaldTrump",
          "retweet_count": 1102,
          "text": "\"@CarolBurnett3:  @AnnCoulter I just love the way Ann Coulter remembers your acts of kindness Donald Trump....GO Trump we love you\"",
          "time": "2016-01-24T08:48:39"
         },
         {
          "favorite_count": 6927,
          "handle": "HillaryClinton",
          "retweet_count": 2951,
          "text": "\"Simply caring is not enough. To drive real progress, you have to change both hearts and laws.\" —Hillary",
          "time": "2016-07-29T02:52:43"
         },
         {
          "favorite_count": 5876,
          "handle": "HillaryClinton",
          "retweet_count": 2395,
          "text": "You never know what you'll see at a Hillary rally.\nhttps://t.co/lDJ8DSSdaU",
          "time": "2016-06-01T00:58:41"
         },
         {
          "favorite_count": 564,
          "handle": "HillaryClinton",
          "retweet_count": 344,
          "text": "Encuentre dónde votar en Nueva York aquí →  https://t.co/S0VaGHnceD #EstoyConElla https://t.co/f9bPIpE2uo",
          "time": "2016-04-18T19:26:43"
         },
         {
          "favorite_count": 4369,
          "handle": "HillaryClinton",
          "retweet_count": 1772,
          "text": "This election is too important for anyone to sit on the sidelines.\n\nMake sure your friends are registered to vote. https://t.co/tTgeqy51PU",
          "time": "2016-09-08T23:17:35"
         },
         {
          "favorite_count": 18616,
          "handle": "HillaryClinton",
          "retweet_count": 11112,
          "text": "Four years ago today. https://t.co/WPM1I9PPN3",
          "time": "2016-08-06T19:12:34"
         },
         {
          "favorite_count": 1456,
          "handle": "HillaryClinton",
          "retweet_count": 875,
          "text": "The U.S. has 5% of the world's women but nearly 30% of its women prisoners. The consequences are devastating. https://t.co/9GPztYdNlF",
          "time": "2016-04-27T22:59:28"
         },
         {
          "favorite_count": 10948,
          "handle": "realDonaldTrump",
          "retweet_count": 4236,
          "text": "'CNBC, Time magazine online polls say Donald Trump won the first presidential debate' via @WashTimes. #MAGA\nhttps://t.co/PGimqYKPoJ",
          "time": "2016-09-27T20:06:25"
         },
         {
          "favorite_count": 4468,
          "handle": "HillaryClinton",
          "retweet_count": 1967,
          "text": "Just a few of the ways @realDonaldTrump has proven that he's unfit for the presidency:\nhttps://t.co/dp65Gh93JC",
          "time": "2016-07-17T21:34:18"
         },
         {
          "favorite_count": 6030,
          "handle": "HillaryClinton",
          "retweet_count": 3263,
          "text": "There is no other Donald Trump. This is it. https://t.co/oQJdlUJv0u",
          "time": "2016-09-01T02:10:18"
         },
         {
          "favorite_count": 2267,
          "handle": "HillaryClinton",
          "retweet_count": 994,
          "text": "Young people face tough challenges, but they have the ability to do something about it: Vote. https://t.co/dm98k71nf1",
          "time": "2016-08-10T22:12:11"
         },
         {
          "favorite_count": 3022,
          "handle": "HillaryClinton",
          "retweet_count": 1263,
          "text": "\"America is not about ‘yes, he will.' It's about ‘yes, we can.'\" —@POTUS: https://t.co/tTgeqxNqYm",
          "time": "2016-09-13T18:20:38"
         },
         {
          "favorite_count": 3233,
          "handle": "HillaryClinton",
          "retweet_count": 1432,
          "text": "It isn't enough to just say we support equal pay for women. We have to do everything we can to make it a reality.\nhttps://t.co/okNk0RDPmi",
          "time": "2016-04-21T23:08:26"
         },
         {
          "favorite_count": 4427,
          "handle": "HillaryClinton",
          "retweet_count": 2258,
          "text": "If you see a bully, stand up to him. https://t.co/qLDbRhK1W2",
          "time": "2016-04-30T14:19:32"
         },
         {
          "favorite_count": 21962,
          "handle": "realDonaldTrump",
          "retweet_count": 7621,
          "text": "Crooked Hillary Clinton, who called BREXIT 100% wrong (along with Obama), is now spending Wall Street money on an ad on my correct call.",
          "time": "2016-06-26T11:33:17"
         },
         {
          "favorite_count": 1074,
          "handle": "HillaryClinton",
          "retweet_count": 478,
          "text": "Conoce cómo Hillary ha luchado durante varias décadas por las familias, mujeres y niños. https://t.co/UsOmgcNCJa https://t.co/OqKQnk6EYv",
          "time": "2016-05-17T00:40:26"
         },
         {
          "favorite_count": 33760,
          "handle": "realDonaldTrump",
          "retweet_count": 12781,
          "text": "President Obama refuses to answer question about Iran terror funding.  I won't dodge questions as your President. https://t.co/jsAMGO3s4P",
          "time": "2016-08-05T02:19:22"
         },
         {
          "favorite_count": 7882,
          "handle": "realDonaldTrump",
          "retweet_count": 2273,
          "text": "We are ALREADY LIVE in Everett, WA for the Trump Rally. Come join us- our cameras tonight! #TrumpinEverett \n\nhttps://t.co/RQdUpI6mnw",
          "time": "2016-08-31T02:17:40"
         },
         {
          "favorite_count": 6375,
          "handle": "realDonaldTrump",
          "retweet_count": 2022,
          "text": "\"@jojo2foxy: TRUMP IS UNSTOPPABLE....HE IS WHAT COMMON SENSE AMERICANS WANT WHETHER REPUBLICAN, INDEPENDENT OR A REAGAN DEMOCRAT.",
          "time": "2016-02-23T15:38:24"
         },
         {
          "favorite_count": 4706,
          "handle": "HillaryClinton",
          "retweet_count": 1390,
          "text": "We need a Commander-in-Chief who can grapple with our challenges in all their complexity, with real plans that actually address them.",
          "time": "2016-06-14T16:42:21"
         },
         {
          "favorite_count": 3049,
          "handle": "HillaryClinton",
          "retweet_count": 1205,
          "text": "It's important that people are held accountable for water poisoning in Flint, but Congress needs to act now to help Flint families. -H",
          "time": "2016-04-20T21:04:55"
         },
         {
          "favorite_count": 2235,
          "handle": "HillaryClinton",
          "retweet_count": 658,
          "text": "Watch live: Hillary’s speaking in Cleveland about building an economy that works for everyone → https://t.co/EsqAmcnrnC",
          "time": "2016-08-17T17:34:40"
         },
         {
          "favorite_count": 11905,
          "handle": "realDonaldTrump",
          "retweet_count": 4010,
          "text": "Thank you Miss Katie's Diner!\n#MakeAmericaGreatAgain #Trump2016\nhttps://t.co/oYpUYJmpKI https://t.co/uTSIiVqPkT",
          "time": "2016-04-03T18:05:32"
         },
         {
          "favorite_count": 13879,
          "handle": "realDonaldTrump",
          "retweet_count": 4613,
          "text": "Our Native American Senator, goofy Elizabeth Warren, couldn’t care less about the American worker…does nothing to help!",
          "time": "2016-05-11T20:03:35"
         },
         {
          "favorite_count": 22110,
          "handle": "realDonaldTrump",
          "retweet_count": 8061,
          "text": "In just out book, Secret Service Agent Gary Byrne doesn't believe that Crooked Hillary has the temperament or integrity to be the president!",
          "time": "2016-06-07T02:21:08"
         },
         {
          "favorite_count": 14402,
          "handle": "realDonaldTrump",
          "retweet_count": 6771,
          "text": "\"Trump right: Illegal families crossing border set to double, 51,152 so far\"\nhttps://t.co/1noCe9W6Ru",
          "time": "2016-07-27T18:23:14"
         },
         {
          "favorite_count": 5869,
          "handle": "HillaryClinton",
          "retweet_count": 1571,
          "text": "No family should have to spend more than 10% of its income on quality child care. https://t.co/ReC2DZCjlM https://t.co/TFYDN6VYJj",
          "time": "2016-08-15T01:19:51"
         },
         {
          "favorite_count": 3800,
          "handle": "HillaryClinton",
          "retweet_count": 1808,
          "text": "Middle-class Americans thought Trump Institute would help them. In reality, it was yet another giant scam. https://t.co/zYAJ0hiq0v",
          "time": "2016-07-04T02:40:09"
         },
         {
          "favorite_count": 4875,
          "handle": "realDonaldTrump",
          "retweet_count": 2482,
          "text": "Join us tomorrow night in Charleston, South Carolina! #SCPrimary #Trump2016 https://t.co/VauoRmgcVz",
          "time": "2016-02-18T20:14:22"
         },
         {
          "favorite_count": 1110,
          "handle": "HillaryClinton",
          "retweet_count": 599,
          "text": "Your Sunday afternoon read: \"In a word, Clinton\" —@PhillyInquirer endorses @HillaryClinton: https://t.co/RxAFwgxuES #HRC4PA",
          "time": "2016-04-17T16:39:42"
         },
         {
          "favorite_count": 39414,
          "handle": "realDonaldTrump",
          "retweet_count": 11762,
          "text": "Thank you Indiana, we were just projected to be the winner. We have won in every category. You are very special people-I will never forget!",
          "time": "2016-05-03T23:38:34"
         },
         {
          "favorite_count": 5382,
          "handle": "realDonaldTrump",
          "retweet_count": 2119,
          "text": "The failing @NRO National Review Magazine has just been informed by the Republican National Committee that they cannot participate in debate",
          "time": "2016-01-22T14:24:15"
         },
         {
          "favorite_count": 4522,
          "handle": "realDonaldTrump",
          "retweet_count": 1302,
          "text": "Congratulations to @jdickerson of Face the Nation on his highest ratings in 15 years. 4.6 million people watched my interview! Thank you!",
          "time": "2016-01-11T19:10:00"
         },
         {
          "favorite_count": 2280,
          "handle": "HillaryClinton",
          "retweet_count": 1166,
          "text": "It’s about lifting each other up, not tearing each other down. https://t.co/mmmDVx0qZC",
          "time": "2016-04-20T02:31:47"
         },
         {
          "favorite_count": 3522,
          "handle": "HillaryClinton",
          "retweet_count": 1450,
          "text": "In the spirit of the #Charleston9, let’s bridge our divides, fight for change, and remember that love never fails. https://t.co/VL9HAhzoTY",
          "time": "2016-06-17T21:09:57"
         },
         {
          "favorite_count": 1830,
          "handle": "HillaryClinton",
          "retweet_count": 752,
          "text": "\"I want to be a president for all Americans, not just for some Americans; Democrats, Republicans, Independents.\" —Hillary",
          "time": "2016-09-06T18:40:14"
         },
         {
          "favorite_count": 8650,
          "handle": "realDonaldTrump",
          "retweet_count": 3249,
          "text": "Join me in Oklahoma tomorrow night!\n#MakeYoutubeGreatAgain #Trump2016\nhttps://t.co/sUTcDoip3C",
          "time": "2016-02-25T17:41:26"
         },
         {
          "favorite_count": 8562,
          "handle": "HillaryClinton",
          "retweet_count": 3953,
          "text": "\"America is already great. America is already strong &amp; I promise you, our strength, our greatness, does not depend on Donald Trump.” —@POTUS",
          "time": "2016-07-28T03:18:19"
         },
         {
          "favorite_count": 14047,
          "handle": "realDonaldTrump",
          "retweet_count": 4289,
          "text": "Thank you Arizona! See you soon!\n#MakeAmericaGreatAgain https://t.co/IC3pe5lRAS",
          "time": "2016-05-18T17:38:20"
         },
         {
          "favorite_count": 16075,
          "handle": "realDonaldTrump",
          "retweet_count": 5084,
          "text": "FMR PRES of Mexico, Vicente Fox horribly used the F word when discussing the wall. He must apologize! If I did that there would be a uproar!",
          "time": "2016-02-25T20:27:15"
         },
         {
          "favorite_count": 31043,
          "handle": "realDonaldTrump",
          "retweet_count": 16770,
          "text": "Why isn't Hillary Clinton 50 points ahead?\n#DebateNight https://t.co/iux7icIkaT",
          "time": "2016-09-27T00:47:05"
         },
         {
          "favorite_count": 962,
          "handle": "HillaryClinton",
          "retweet_count": 801,
          "text": "Mientras 5 millones de personas perdían sus hogares, Trump esperaba enriquecerse de este desplome a costa de ellos.\nhttps://t.co/9trerS1rdR",
          "time": "2016-05-25T14:24:10"
         },
         {
          "favorite_count": 32456,
          "handle": "realDonaldTrump",
          "retweet_count": 10894,
          "text": "My thoughts and prayers are with the two police officers shot in Sebastian County, Arkansas. #LESM",
          "time": "2016-08-10T17:43:26"
         },
         {
          "favorite_count": 15534,
          "handle": "realDonaldTrump",
          "retweet_count": 5032,
          "text": "After raising, w/ no obligation, almost $6M for Vets, I couldn't believe protesters formed @ Trump Tower. JUST OUT- SENT BY CROOKED HILLARY!",
          "time": "2016-05-25T00:32:47"
         },
         {
          "favorite_count": 17771,
          "handle": "HillaryClinton",
          "retweet_count": 3102,
          "text": "Happy Father's Day, @BillClinton! https://t.co/3C2RFFuIAr",
          "time": "2016-06-19T14:09:59"
         },
         {
          "favorite_count": 4091,
          "handle": "HillaryClinton",
          "retweet_count": 2512,
          "text": "Donald Trump thinks climate change is a “hoax.”\n\nPresident Trump would destroy our ability to combat it.\nhttps://t.co/8TeARR4FUL",
          "time": "2016-05-27T20:50:44"
         },
         {
          "favorite_count": 5315,
          "handle": "realDonaldTrump",
          "retweet_count": 1517,
          "text": "\"@HARyder: Which is it @realDonaldTrump ?Are you planning on getting rid of Common Core or keeping it?  Get rid of it fast.",
          "time": "2016-02-11T01:37:51"
         },
         {
          "favorite_count": 1543,
          "handle": "HillaryClinton",
          "retweet_count": 452,
          "text": "Want to be in the room where it happens? Here's your shot: Win tickets to see @HamiltonMusical with Hillary: https://t.co/sef18uLjSd",
          "time": "2016-06-26T17:47:49"
         },
         {
          "favorite_count": 9045,
          "handle": "realDonaldTrump",
          "retweet_count": 3208,
          "text": "Join me in Sacramento, California-tomorrow evening @ 7pm! #Trump2016\nhttps://t.co/W7xy7eXcii https://t.co/km0rRYSDnO",
          "time": "2016-05-31T21:12:07"
         },
         {
          "favorite_count": 9975,
          "handle": "HillaryClinton",
          "retweet_count": 3375,
          "text": "\"If we’re serious about keeping our country safe, we also can’t afford to have a president who’s in the pocket of the gun lobby.\" —Hillary",
          "time": "2016-07-29T03:19:27"
         },
         {
          "favorite_count": 1183,
          "handle": "HillaryClinton",
          "retweet_count": 475,
          "text": "“There’s no question that the workers of Appalachia made America more prosperous and secure, and that legacy should be honored.” —Hillary",
          "time": "2016-05-03T19:02:15"
         },
         {
          "favorite_count": 22397,
          "handle": "realDonaldTrump",
          "retweet_count": 8110,
          "text": "Mitt Romney, who was one of the dumbest and worst candidates in the history of Republican politics, is now pushing me on tax returns. Dope!",
          "time": "2016-02-25T12:34:11"
         },
         {
          "favorite_count": 2516,
          "handle": "HillaryClinton",
          "retweet_count": 1042,
          "text": "In which Hillary reacts to @NBCSNL Hillary skits on @GMA.\nhttps://t.co/6Hcc0V8u3q",
          "time": "2016-04-21T15:44:47"
         },
         {
          "favorite_count": 11325,
          "handle": "realDonaldTrump",
          "retweet_count": 3366,
          "text": "Unlike the other Republican candidates, I will be in Nevada all day and night - I won't be fleeing, in and out. I love &amp; invest in Nevada!",
          "time": "2016-02-23T17:11:30"
         },
         {
          "favorite_count": 5976,
          "handle": "HillaryClinton",
          "retweet_count": 2289,
          "text": "\"She gives us hope for the future. She's our girl.\"  —Roxie, co-owner of @MercersDairy, on Hillary https://t.co/s5zyaOBLXB",
          "time": "2016-09-23T16:49:24"
         },
         {
          "favorite_count": 7484,
          "handle": "HillaryClinton",
          "retweet_count": 2801,
          "text": ".@GovChristie, vetoing a minimum wage increase is a blow to working families. No one who works full-time should have to live in poverty. -H",
          "time": "2016-08-31T15:28:05"
         },
         {
          "favorite_count": 1891,
          "handle": "HillaryClinton",
          "retweet_count": 928,
          "text": "\"What he did here in Atlantic City is exactly what he’ll do if he wins in November.\" —Hillary on @realDonaldTrump: https://t.co/d03oF9Ur0W",
          "time": "2016-07-06T16:45:44"
         },
         {
          "favorite_count": 5995,
          "handle": "realDonaldTrump",
          "retweet_count": 1634,
          "text": "\"@SirHatchporch: Mary Kissel is an SNL character, right? She's not a real person, right? #MorningJoe\"  She is a major loser - no clue!",
          "time": "2016-03-04T12:29:12"
         },
         {
          "favorite_count": 18864,
          "handle": "realDonaldTrump",
          "retweet_count": 7667,
          "text": "MAKE AMERICA GREAT AGAIN!\n#AmericaFirst #Trump2016 \nhttps://t.co/42OpVsjXjp",
          "time": "2016-06-08T20:27:28"
         },
         {
          "favorite_count": 18821,
          "handle": "realDonaldTrump",
          "retweet_count": 7285,
          "text": "We cannot let the failing REPUBLICAN ESTABLISHMENT, who could not stop Obama (twice), ruin the MOVEMENT with millions of  $'s in false ads!",
          "time": "2016-03-07T13:03:16"
         },
         {
          "favorite_count": 4373,
          "handle": "HillaryClinton",
          "retweet_count": 2155,
          "text": "Watch out, fog machine rental company. Trump isn't great at paying his invoices. https://t.co/kkyMEEzhKp",
          "time": "2016-07-19T02:52:53"
         },
         {
          "favorite_count": 34229,
          "handle": "realDonaldTrump",
          "retweet_count": 13479,
          "text": "Many people are saying that the Iranians killed the scientist who helped the U.S. because of Hillary Clinton's hacked emails.",
          "time": "2016-08-08T22:45:33"
         },
         {
          "favorite_count": 5145,
          "handle": "HillaryClinton",
          "retweet_count": 2839,
          "text": "Yeah, Donald Trump has been a real gem to working women. #RNCinCLE https://t.co/LmUZI1J8KQ",
          "time": "2016-07-20T02:54:40"
         },
         {
          "favorite_count": 19123,
          "handle": "realDonaldTrump",
          "retweet_count": 6530,
          "text": "Thank you Nebraska!\n#MakeAmericaGreatAgain #Trump2016 https://t.co/RRma61oisz",
          "time": "2016-05-11T01:04:26"
         },
         {
          "favorite_count": 17802,
          "handle": "realDonaldTrump",
          "retweet_count": 5564,
          "text": "I will have set the all time record in primary votes in the Republican party --despite having to compete against 17 other people!",
          "time": "2016-05-09T16:59:00"
         },
         {
          "favorite_count": 4541,
          "handle": "HillaryClinton",
          "retweet_count": 2658,
          "text": "Turning away Muslims, pitting Americans against each other, inciting violence and chaos—these aren't our values.\nhttps://t.co/6bJfM4KlzY",
          "time": "2016-04-28T00:14:28"
         },
         {
          "favorite_count": 27446,
          "handle": "HillaryClinton",
          "retweet_count": 7944,
          "text": "@Lesdoggg, no one deserves this—least of all someone who brings us so much joy. I'm with you. -H",
          "time": "2016-08-25T20:38:47"
         },
         {
          "favorite_count": 660,
          "handle": "HillaryClinton",
          "retweet_count": 540,
          "text": "Trump sees no need for a federal floor for the minimum wage. That's only a problem if you live in these states: https://t.co/fnqThC8zWA",
          "time": "2016-05-11T14:22:19"
         },
         {
          "favorite_count": 3512,
          "handle": "HillaryClinton",
          "retweet_count": 1119,
          "text": "Tonight, Trump is going to try and claim he's ready to be Commander-in-Chief. The facts say otherwise. \n\nFollow @TheBriefing2016 to see why.",
          "time": "2016-09-08T00:31:54"
         },
         {
          "favorite_count": 688,
          "handle": "HillaryClinton",
          "retweet_count": 410,
          "text": "Under Donald Trump, the pay gap would remain yuge. https://t.co/vyWOykLtZf",
          "time": "2016-04-22T17:40:26"
         },
         {
          "favorite_count": 9762,
          "handle": "realDonaldTrump",
          "retweet_count": 3560,
          "text": "Ted Cruz is a cheater! He holds the Bible high and then lies and misrepresents the facts!",
          "time": "2016-02-14T00:13:10"
         },
         {
          "favorite_count": 3496,
          "handle": "HillaryClinton",
          "retweet_count": 843,
          "text": "\"Maybe one day she'll look back and say, 'I was there...when we nominated our first female president.'\" —Janet, NMI https://t.co/9Q2cfCwNR1",
          "time": "2016-07-27T23:09:28"
         },
         {
          "favorite_count": 10106,
          "handle": "HillaryClinton",
          "retweet_count": 4036,
          "text": "EpiPens can be the difference between life and death. There's no justification for these price hikes. https://t.co/O6RbVR6Qim -H",
          "time": "2016-08-24T18:02:14"
         },
         {
          "favorite_count": 2572,
          "handle": "realDonaldTrump",
          "retweet_count": 828,
          "text": "\"@HaloOneForTrump: @foxnews takes #YUGE hit on advertising revenues by screwing with @realDonaldTrump ROFL! https://t.co/ndyHNiUdks\"",
          "time": "2016-01-28T11:39:14"
         },
         {
          "favorite_count": 23350,
          "handle": "realDonaldTrump",
          "retweet_count": 7147,
          "text": "Very sad that a person who has made so many mistakes, Crooked Hillary Clinton, can put out such false and vicious ads with her phony money!",
          "time": "2016-07-16T13:19:11"
         },
         {
          "favorite_count": 10773,
          "handle": "realDonaldTrump",
          "retweet_count": 3238,
          "text": "When Ted Cruz quits the race and the field begins to clear, I will get most of his votes - no problem!",
          "time": "2016-02-24T23:49:15"
         },
         {
          "favorite_count": 3711,
          "handle": "HillaryClinton",
          "retweet_count": 2161,
          "text": "Donald Trump's foreign policy team: one \"very good brain\" with very thin skin.\nhttps://t.co/ctG62mBG9k",
          "time": "2016-06-03T12:15:21"
         },
         {
          "favorite_count": 3423,
          "handle": "realDonaldTrump",
          "retweet_count": 972,
          "text": "\"@JackBurtonReflx:  @jdenino1 @DavidWohl @ss I listen to Glenn Beck and literally nothing he says makes any sense. Same with The View.\"",
          "time": "2016-01-26T04:27:32"
         },
         {
          "favorite_count": 19216,
          "handle": "realDonaldTrump",
          "retweet_count": 6326,
          "text": "Thank you for your support &amp; \nfriendship- Governor @ChrisChristie!\n#MakeAmericaGreatAgain #Trump2016 https://t.co/jVI6Q6JH18",
          "time": "2016-02-26T21:07:16"
         },
         {
          "favorite_count": 4068,
          "handle": "HillaryClinton",
          "retweet_count": 1747,
          "text": "\"That is how progress gets made: We have to be both dreamers and doers.\" —Hillary last night in PA https://t.co/F03zCH304S",
          "time": "2016-04-27T13:03:43"
         },
         {
          "favorite_count": 5950,
          "handle": "HillaryClinton",
          "retweet_count": 2408,
          "text": "With the first local transmission of Zika in FL, it’s even more critical for Republicans to stop blocking action: https://t.co/KjmWMDOgDl",
          "time": "2016-07-29T22:31:44"
         },
         {
          "favorite_count": 30816,
          "handle": "realDonaldTrump",
          "retweet_count": 10705,
          "text": "Bernie Sanders, who has lost most of his leverage, has totally sold out to Crooked Hillary Clinton. He will endorse her today - fans angry!",
          "time": "2016-07-12T13:36:47"
         },
         {
          "favorite_count": 16641,
          "handle": "realDonaldTrump",
          "retweet_count": 4143,
          "text": "Will be on @SeanHannity tonight at 10pmE - delivering an important speech live from Wisconsin. #MakeAmericaGreatAgain",
          "time": "2016-08-17T01:48:16"
         },
         {
          "favorite_count": 3363,
          "handle": "HillaryClinton",
          "retweet_count": 1259,
          "text": "Thousands of Trump University students believed Donald Trump when he said he would help them succeed.  \n\nThey all got stiffed.",
          "time": "2016-07-28T02:31:50"
         },
         {
          "favorite_count": 7516,
          "handle": "HillaryClinton",
          "retweet_count": 2672,
          "text": "You don't have to be LGBT to stand with the LGBT community. We all have a stake in equality. Thank you, Michael. https://t.co/EfEMVugWCp",
          "time": "2016-06-17T18:15:12"
         },
         {
          "favorite_count": 21259,
          "handle": "realDonaldTrump",
          "retweet_count": 10848,
          "text": "During the GOP convention, CNN cut away from the victims of illegal immigrant violence. They don’t want them heard. https://t.co/EHRiLkQDWD",
          "time": "2016-08-01T22:54:27"
         },
         {
          "favorite_count": 1495,
          "handle": "HillaryClinton",
          "retweet_count": 670,
          "text": "¡Esta victoria es de todos ustedes Nueva York! Muchas gracias por su apoyo. Unete a la campaña aquí → https://t.co/29hAgCxpQM",
          "time": "2016-04-20T02:58:22"
         },
         {
          "favorite_count": 2564,
          "handle": "realDonaldTrump",
          "retweet_count": 1155,
          "text": "Explosive Trump attack on HRC, Bill, Monica, Cosby, and Weiner. Trump camp just upped the ante on \"women's rights\" https://t.co/tTBhyX4EDJ",
          "time": "2016-01-07T18:08:59"
         },
         {
          "favorite_count": 4531,
          "handle": "HillaryClinton",
          "retweet_count": 1704,
          "text": "\"You don't grade the presidency on a curve.\" —@POTUS https://t.co/gbywfNfrQq",
          "time": "2016-09-14T02:57:51"
         },
         {
          "favorite_count": 9448,
          "handle": "HillaryClinton",
          "retweet_count": 3883,
          "text": "“If you believe that your working mother, wife, sister, or daughter deserve equal pay, join us!” —Hillary",
          "time": "2016-07-29T03:06:57"
         },
         {
          "favorite_count": 4119,
          "handle": "HillaryClinton",
          "retweet_count": 2000,
          "text": "We have some questions about this letter from Donald Trump's doctor. https://t.co/0wd7ZSAUxw",
          "time": "2016-08-29T12:50:10"
         },
         {
          "favorite_count": 8156,
          "handle": "HillaryClinton",
          "retweet_count": 3980,
          "text": "45 reasons why Trump should never be president—just from this week alone. https://t.co/0cJ6fQeepR",
          "time": "2016-08-07T00:02:56"
         },
         {
          "favorite_count": 19574,
          "handle": "realDonaldTrump",
          "retweet_count": 6718,
          "text": "The rules DID CHANGE in Colorado shortly after I entered the race in June because the pols and their bosses knew I would win with the voters",
          "time": "2016-04-14T03:53:59"
         },
         {
          "favorite_count": 1458,
          "handle": "HillaryClinton",
          "retweet_count": 414,
          "text": "“When they have student debt, we’ll put a three year moratory on that so they can start their own businesses!”—@HillaryClinton",
          "time": "2016-08-10T19:40:06"
         },
         {
          "favorite_count": 6393,
          "handle": "realDonaldTrump",
          "retweet_count": 1927,
          "text": "Great even in SC tonight! Fire Marshall would not let everyone in-- 5,000 turned away. Thank you for coming!",
          "time": "2016-01-09T02:08:42"
         },
         {
          "favorite_count": 6413,
          "handle": "realDonaldTrump",
          "retweet_count": 2090,
          "text": "\"@creta_r: @realDonaldTrump Looking forward to watching Donald Trump rally Thursday night on CNN!!\"",
          "time": "2016-01-28T04:26:38"
         },
         {
          "favorite_count": 1197,
          "handle": "HillaryClinton",
          "retweet_count": 538,
          "text": "What's your volunteer personality type? Take our quiz for personalized recommendations on how to help elect Hillary: https://t.co/c09Vh2rnFd",
          "time": "2016-08-25T00:21:48"
         },
         {
          "favorite_count": 1517,
          "handle": "HillaryClinton",
          "retweet_count": 1010,
          "text": "Attention lawyers &amp; law students: Help @HillaryClinton protect the right to vote. Sign up &amp; share with your friends: https://t.co/FPdlNX35BF",
          "time": "2016-09-14T19:52:13"
         },
         {
          "favorite_count": 13882,
          "handle": "realDonaldTrump",
          "retweet_count": 4670,
          "text": "Wow, Rowanne Brewer, the most prominently depicted woman in the failing @nytimes story yesterday, was on @foxandfriends saying Times lied",
          "time": "2016-05-16T13:12:38"
         },
         {
          "favorite_count": 2949,
          "handle": "HillaryClinton",
          "retweet_count": 1075,
          "text": "\"When kids are scared by political candidates and policy debates, it’s a sign something has gone badly wrong.\" —Hillary",
          "time": "2016-07-13T17:12:19"
         },
         {
          "favorite_count": 17312,
          "handle": "realDonaldTrump",
          "retweet_count": 5298,
          "text": "\"@adhd_fa:Kudos to @PARISDENNARD for standing up to CNN's attempt to bully you and shout you down for defending @realDonaldTrump #media bias",
          "time": "2016-09-07T04:22:37"
         },
         {
          "favorite_count": 2363,
          "handle": "realDonaldTrump",
          "retweet_count": 703,
          "text": "\"@jdenino1: @DavidWohl  @realDonaldTrump https://t.co/RqMSSbfB0J   BECK wanted to commit suicide after @ss surgery, clearly is unbalanced!\"",
          "time": "2016-01-26T04:15:12"
         },
         {
          "favorite_count": 12505,
          "handle": "realDonaldTrump",
          "retweet_count": 3893,
          "text": "I will be making a big surprise announcement to the massive crowd assembled in Huntsville/Madison Alabama! Landing now! #Trump2016",
          "time": "2016-02-28T21:56:49"
         },
         {
          "favorite_count": 20145,
          "handle": "realDonaldTrump",
          "retweet_count": 6971,
          "text": "Crooked Hillary Clinton overregulates, overtaxes and doesn't care about jobs. Most importantly, she suffers from plain old bad judgement!",
          "time": "2016-05-24T11:42:35"
         },
         {
          "favorite_count": 4874,
          "handle": "realDonaldTrump",
          "retweet_count": 1135,
          "text": "\"@hofmannken: DonaldTrump, wish I could attend one of your rallies, none are close enough. Make America Great Again for my Kids.Thank you",
          "time": "2016-01-08T03:12:06"
         },
         {
          "favorite_count": 24962,
          "handle": "realDonaldTrump",
          "retweet_count": 10001,
          "text": "\"@KellyannePolls: Trump is headed for a win, says professor who has predicted 30 years of presidential outcomes   https://t.co/68WEMcuHSO\"",
          "time": "2016-09-24T12:43:52"
         },
         {
          "favorite_count": 2469,
          "handle": "HillaryClinton",
          "retweet_count": 1741,
          "text": "\"I am the king of debt, I do love debt, I love playing with it.\" —@RealDonaldTrump https://t.co/ssVajpX6Yf",
          "time": "2016-05-12T02:28:07"
         },
         {
          "favorite_count": 6567,
          "handle": "realDonaldTrump",
          "retweet_count": 2635,
          "text": "The New Hampshire drug epidemic must stop. If elected POTUS- I will create borders &amp; the drugs will stop pouring in. https://t.co/YdEnhqdTbS",
          "time": "2016-02-06T15:18:18"
         },
         {
          "favorite_count": 1091,
          "handle": "HillaryClinton",
          "retweet_count": 899,
          "text": "Trump bet against American families in the housing crash. Now he says its the \"kind of thinking our country needs.\" https://t.co/FqdpntvDDc",
          "time": "2016-05-25T15:17:32"
         },
         {
          "favorite_count": 2413,
          "handle": "HillaryClinton",
          "retweet_count": 2040,
          "text": "Last night, Trump stood by his plans to ban Muslims from entering the U.S. and deport millions of immigrants. https://t.co/8KYse7wy4P",
          "time": "2016-05-05T22:11:40"
         },
         {
          "favorite_count": 10647,
          "handle": "HillaryClinton",
          "retweet_count": 5403,
          "text": "FACT: The @ClintonFdn helps 11.5 million people with HIV/AIDS worldwide get their medication. https://t.co/wMAHC4u5RB",
          "time": "2016-08-24T22:03:08"
         },
         {
          "favorite_count": 10989,
          "handle": "realDonaldTrump",
          "retweet_count": 4335,
          "text": "Wow! I am speechless! Thank you to my sidekick @LynnePatton who keeps me &amp; the @EricTrumpFdn in line! https://t.co/L7Y2pjIl6p via @youtube",
          "time": "2016-05-03T02:09:00"
         },
         {
          "favorite_count": 4730,
          "handle": "HillaryClinton",
          "retweet_count": 4105,
          "text": "\"Everything I say, I'm going to do, folks.\" —Trump\n\nHere's what the presumptive @GOP nominee would do as president.\nhttps://t.co/SG6qjpzJ8E",
          "time": "2016-05-04T16:50:59"
         },
         {
          "favorite_count": 3612,
          "handle": "HillaryClinton",
          "retweet_count": 1983,
          "text": "“I have a very good brain.” —Donald Trump on his foreign policy advisors\n\n(Himself.) https://t.co/48MePwjHh9",
          "time": "2016-09-08T00:41:50"
         },
         {
          "favorite_count": 14644,
          "handle": "realDonaldTrump",
          "retweet_count": 5759,
          "text": "Ted Cruz attacked New Yorkers and New York values- we don't forget! https://t.co/83ur9C1qhB",
          "time": "2016-04-07T19:31:50"
         },
         {
          "favorite_count": 18611,
          "handle": "realDonaldTrump",
          "retweet_count": 7172,
          "text": "CHILD CARE REFORMS THAT WILL MAKE AMERICA GREAT AGAIN!\nTranscript: https://t.co/rntyxBSb9J\nhttps://t.co/5SWmxfVfto https://t.co/j389Quo4bg",
          "time": "2016-09-14T02:24:59"
         },
         {
          "favorite_count": 29965,
          "handle": "realDonaldTrump",
          "retweet_count": 8941,
          "text": "\"A rough night for Hillary Clinton\"  ABC News.",
          "time": "2016-09-08T12:10:13"
         },
         {
          "favorite_count": 4084,
          "handle": "HillaryClinton",
          "retweet_count": 1662,
          "text": "Two words: free WiFi.\n\nIn train stations, airports and other public spaces. https://t.co/6CJVBl9j7e",
          "time": "2016-06-29T16:03:43"
         },
         {
          "favorite_count": 35744,
          "handle": "HillaryClinton",
          "retweet_count": 8242,
          "text": "When you have a really, really good night. #SheWon https://t.co/FVeGqhYxRZ",
          "time": "2016-09-27T15:54:07"
         },
         {
          "favorite_count": 3380,
          "handle": "HillaryClinton",
          "retweet_count": 1054,
          "text": "\"She exposes [Trump] for what he is: temperamentally unfit and totally unqualified to be president.\" —Hillary on @elizabethforma",
          "time": "2016-06-27T14:55:38"
         },
         {
          "favorite_count": 5344,
          "handle": "HillaryClinton",
          "retweet_count": 1791,
          "text": "Hillary heard you: College costs are too high in America. It's time to fix it. https://t.co/HFcBczvyPH",
          "time": "2016-07-06T15:53:57"
         },
         {
          "favorite_count": 76454,
          "handle": "HillaryClinton",
          "retweet_count": 39107,
          "text": "To every little girl who dreams big: Yes, you can be anything you want—even president. Tonight is for you. -H https://t.co/jq7fKlfwGV",
          "time": "2016-06-08T01:08:58"
         },
         {
          "favorite_count": 9352,
          "handle": "realDonaldTrump",
          "retweet_count": 2704,
          "text": "\"@AlexNightrasor: @realDonaldTrump @lilrachiepoo Trump will be our best president since Reagan!",
          "time": "2016-04-09T02:52:33"
         },
         {
          "favorite_count": 12215,
          "handle": "realDonaldTrump",
          "retweet_count": 4990,
          "text": "How can Ted Cruz be an Evangelical Christian when he lies so much and is so dishonest?",
          "time": "2016-02-12T12:03:41"
         },
         {
          "favorite_count": 19577,
          "handle": "realDonaldTrump",
          "retweet_count": 7203,
          "text": "The National Border Patrol Council (NBPC) said that our open border is the biggest physical &amp; economic threat facing the American people!",
          "time": "2016-04-01T14:24:46"
         },
         {
          "favorite_count": 13160,
          "handle": "realDonaldTrump",
          "retweet_count": 3953,
          "text": "\"@theAgeofLeo: Your instincts on foreign policy &amp; terrorism have been better than all of these so called experienced politicians combined.\"",
          "time": "2016-03-26T02:47:47"
         },
         {
          "favorite_count": 16468,
          "handle": "HillaryClinton",
          "retweet_count": 6680,
          "text": "LGBT kids are perfect the way they are. They deserve love and acceptance—not bullying and violence. https://t.co/3ICu66ozzV",
          "time": "2016-06-24T22:54:33"
         },
         {
          "favorite_count": 1047,
          "handle": "HillaryClinton",
          "retweet_count": 413,
          "text": "\"Seremos compañeros de alma en esta gran lucha por venir\"—dijo @TimKaine sobre @HillaryClinton.",
          "time": "2016-07-23T17:36:10"
         },
         {
          "favorite_count": 35330,
          "handle": "realDonaldTrump",
          "retweet_count": 10377,
          "text": "Thank you to the amazing law enforcement officers today- in Daytona Beach, Florida! #LESM #MAGA https://t.co/QoxJf4Xzbc",
          "time": "2016-08-03T22:10:11"
         },
         {
          "favorite_count": 17911,
          "handle": "HillaryClinton",
          "retweet_count": 5105,
          "text": "There is so much more that unites us than divides us. That's why we're the greatest country on Earth. https://t.co/6uZVP0tjK9",
          "time": "2016-08-21T14:21:58"
         },
         {
          "favorite_count": 2594,
          "handle": "HillaryClinton",
          "retweet_count": 1046,
          "text": "\"Every day, Donald Trump proves that he’s not in this for the American people. He’s in it for himself.\" —Hillary https://t.co/4NIRN69Xp6",
          "time": "2016-06-27T19:29:15"
         },
         {
          "favorite_count": 13269,
          "handle": "realDonaldTrump",
          "retweet_count": 5249,
          "text": "It is my great honor to support our Veterans with you! You can join me now. Thank you! #Trump4Vets\nhttps://t.co/UVn3kUd2DV",
          "time": "2016-01-28T17:32:06"
         },
         {
          "favorite_count": 2244,
          "handle": "HillaryClinton",
          "retweet_count": 937,
          "text": "Donald Trump is about to become the @GOP nominee for president. Add your name if you won't let him win: https://t.co/Mt3d0p6MCa",
          "time": "2016-07-18T14:33:00"
         },
         {
          "favorite_count": 2256,
          "handle": "HillaryClinton",
          "retweet_count": 1087,
          "text": "Clinton announces plan to address 'unjustified' price hikes on life-saving drugs https://t.co/rRmEOlqYNF",
          "time": "2016-09-02T12:10:31"
         },
         {
          "favorite_count": 6903,
          "handle": "HillaryClinton",
          "retweet_count": 3270,
          "text": "Trump's habit of projecting his actions onto someone else is what 6-year-olds call \"I know you are, but what am I?\" https://t.co/FIhZYLmy1l",
          "time": "2016-09-16T22:17:15"
         },
         {
          "favorite_count": 10925,
          "handle": "HillaryClinton",
          "retweet_count": 3260,
          "text": "Glad to see that the Justice Department is ending the use of private prisons. This is the right step forward. -H https://t.co/5IxHvGULtR",
          "time": "2016-08-18T22:36:26"
         },
         {
          "favorite_count": 11421,
          "handle": "realDonaldTrump",
          "retweet_count": 3167,
          "text": "I am in Las Vegas, at the best hotel (by far), Trump International. I will be working with my wonderful teams and volunteers to WIN Nevada!",
          "time": "2016-02-22T12:48:30"
         },
         {
          "favorite_count": 18175,
          "handle": "realDonaldTrump",
          "retweet_count": 5470,
          "text": "Thank you to the people of  New Hampshire, I love you! Now, off to South Carolina.",
          "time": "2016-02-10T03:38:27"
         },
         {
          "favorite_count": 24864,
          "handle": "realDonaldTrump",
          "retweet_count": 8131,
          "text": "Thank you Kenansville, North Carolina! Remember- on November 8th, that special interest gravy train is coming to a… https://t.co/AysJRMzvKw",
          "time": "2016-09-21T00:07:51"
         },
         {
          "favorite_count": 9840,
          "handle": "realDonaldTrump",
          "retweet_count": 3833,
          "text": "Hillary Clinton's Campaign Continues To Make False Claims About Foundation Disclosure: \nhttps://t.co/zhkEfUouHH",
          "time": "2016-09-27T20:14:33"
         },
         {
          "favorite_count": 4047,
          "handle": "HillaryClinton",
          "retweet_count": 1480,
          "text": "With five million lives on the line, SCOTUS should grant DOJ's petition to rehear U.S. v. Texas. Let's keep immigrant families together. -H",
          "time": "2016-07-18T22:56:16"
         },
         {
          "favorite_count": 6328,
          "handle": "HillaryClinton",
          "retweet_count": 2473,
          "text": "Front pages from around the country on a big day. https://t.co/bNrJXn967S https://t.co/JA2R2R9drQ",
          "time": "2016-06-08T17:54:05"
         },
         {
          "favorite_count": 22562,
          "handle": "realDonaldTrump",
          "retweet_count": 7458,
          "text": "I am honored that the great men and women of the @Teamsters have created a movement from within called Teamsters for Trump! Thank you.",
          "time": "2016-05-07T15:53:38"
         },
         {
          "favorite_count": 1414,
          "handle": "HillaryClinton",
          "retweet_count": 694,
          "text": "“I have this old-fashioned notion that if you’re running for president, you should say what you’re going to do.” https://t.co/IOJAboxXfh",
          "time": "2016-09-15T19:54:36"
         },
         {
          "favorite_count": 4688,
          "handle": "HillaryClinton",
          "retweet_count": 1709,
          "text": "Anyone who you can provoke with a tweet should not be anywhere near nuclear weapons: https://t.co/NLP0SRnuYt",
          "time": "2016-08-04T20:23:17"
         },
         {
          "favorite_count": 49885,
          "handle": "realDonaldTrump",
          "retweet_count": 21210,
          "text": "It was just announced-by sources-that no charges will be brought against Crooked Hillary Clinton. Like I said, the system is totally rigged!",
          "time": "2016-07-02T21:13:02"
         },
         {
          "favorite_count": 7818,
          "handle": "HillaryClinton",
          "retweet_count": 1832,
          "text": "When the IOC introduced women's wrestling in 2004, @Helen_Maroulis dreamed of gold. Yesterday that dream came true. https://t.co/ZvyuQYK36v",
          "time": "2016-08-19T22:01:52"
         },
         {
          "favorite_count": 4314,
          "handle": "realDonaldTrump",
          "retweet_count": 1448,
          "text": "Dope Frank Bruni said I called many people, including Karl Rove, losers-true! I never called my friend @HowardStern a loser- he’s a winner!",
          "time": "2016-01-19T14:44:25"
         },
         {
          "favorite_count": 6138,
          "handle": "realDonaldTrump",
          "retweet_count": 2089,
          "text": "I don't think Ted Cruz can even run for President until he can assure Republican voters that being born in Canada is not a problem. Doubt!",
          "time": "2016-01-19T01:57:26"
         },
         {
          "favorite_count": 10327,
          "handle": "realDonaldTrump",
          "retweet_count": 3395,
          "text": "\"@southpaw816: @SenSanders fans, greatest way to get even with her Highness - vote for @realDonaldTrump, at least you'll have a job.",
          "time": "2016-06-08T12:00:55"
         },
         {
          "favorite_count": 14280,
          "handle": "realDonaldTrump",
          "retweet_count": 3696,
          "text": "I heard that @Morning_Joe was very nice on Friday but that little Donny D, a big failure in TV (&amp; someone I helped), was nasty. Irrelevant!",
          "time": "2016-08-22T01:08:08"
         },
         {
          "favorite_count": 12024,
          "handle": "realDonaldTrump",
          "retweet_count": 3515,
          "text": "On the way to the great state of Rhode Island- big rally. Then to Pennsylvania for rest of day and night!",
          "time": "2016-04-25T16:16:27"
         },
         {
          "favorite_count": 51955,
          "handle": "realDonaldTrump",
          "retweet_count": 18058,
          "text": "Thank you to the LGBT community! I will fight for you while Hillary brings in more people that will threaten your freedoms and beliefs.",
          "time": "2016-06-14T17:31:58"
         },
         {
          "favorite_count": 102655,
          "handle": "HillaryClinton",
          "retweet_count": 51681,
          "text": "\"Trump just criticized me for preparing for this debate. You know what else I prepared for? Being president.\" #DebateNight",
          "time": "2016-09-27T02:01:59"
         },
         {
          "favorite_count": 2861,
          "handle": "HillaryClinton",
          "retweet_count": 769,
          "text": "Let’s make sure that Wall Street and the wealthy pay their fair share of taxes.\n\nLet’s put our families first.",
          "time": "2016-06-27T15:06:33"
         },
         {
          "favorite_count": 27108,
          "handle": "realDonaldTrump",
          "retweet_count": 8269,
          "text": "The documentary of me that @CNN just aired is a total waste of time. I don't even know many of the people who spoke about me. A joke!",
          "time": "2016-09-09T04:10:49"
         },
         {
          "favorite_count": 2072,
          "handle": "HillaryClinton",
          "retweet_count": 1179,
          "text": "Mike Pence introduced himself to America last night. Here's what we learned—and what he forgot to mention: https://t.co/vPZq24FSJh",
          "time": "2016-07-21T20:21:09"
         },
         {
          "favorite_count": 9976,
          "handle": "HillaryClinton",
          "retweet_count": 4953,
          "text": "Trump's idea for a new immigration test: \"Those who...support bigotry and hatred will not be admitted.\"\n\nAwkward. https://t.co/LZoCq7U8NZ",
          "time": "2016-08-16T23:00:00"
         },
         {
          "favorite_count": 3446,
          "handle": "HillaryClinton",
          "retweet_count": 1810,
          "text": "Donald Trump's plan to ban Muslims from entering the United States will make defeating terrorists more difficult.\nhttps://t.co/4RoN9gJiKq",
          "time": "2016-05-20T02:19:12"
         },
         {
          "favorite_count": 307,
          "handle": "HillaryClinton",
          "retweet_count": 169,
          "text": "“Hora de encaminar la ciudadanía plena e igualitaria y arreglar por fin nuestro quebrado sistema migratorio #FightForFamilies” dice Hillary",
          "time": "2016-04-18T22:05:58"
         },
         {
          "favorite_count": 1206,
          "handle": "HillaryClinton",
          "retweet_count": 368,
          "text": "Tune in to watch Hillary speak live with the @NABJ and the @NAHJ: https://t.co/nNYrAM60IC",
          "time": "2016-08-05T16:37:36"
         },
         {
          "favorite_count": 1934,
          "handle": "HillaryClinton",
          "retweet_count": 835,
          "text": "President Trump?\n\nNope: https://t.co/LFfa59OaHX",
          "time": "2016-05-05T03:14:40"
         },
         {
          "favorite_count": 5966,
          "handle": "realDonaldTrump",
          "retweet_count": 1934,
          "text": "Thank you for your interest &amp; support during last nights #GOPDebate! #IACaucus finder: https://t.co/ANvTcZqfOq https://t.co/yadQiPC49g",
          "time": "2016-01-29T13:00:06"
         },
         {
          "favorite_count": 15896,
          "handle": "realDonaldTrump",
          "retweet_count": 5470,
          "text": "Lyin’ Ted Cruz steals foreign policy from me, and lines from Michael Douglas— just another dishonest politician.",
          "time": "2016-03-23T19:45:44"
         },
         {
          "favorite_count": 27729,
          "handle": "realDonaldTrump",
          "retweet_count": 9219,
          "text": "There is no longer a Bernie Sanders \"political revolution.\" He is turning out to be a weak and somewhat pathetic figure,wants it all to end!",
          "time": "2016-07-24T13:27:56"
         },
         {
          "favorite_count": 17466,
          "handle": "realDonaldTrump",
          "retweet_count": 5308,
          "text": "I am always on the front page of the failing @nytimes, but when I won the GOP nomination, I'm in the back of the paper. Very dishonest!",
          "time": "2016-05-28T20:28:48"
         },
         {
          "favorite_count": 3097,
          "handle": "HillaryClinton",
          "retweet_count": 1244,
          "text": "Eight-year-old Noah became part of Hillary's Secret Service detail this weekend. Here's how.\nhttps://t.co/YjqXcoBhpW",
          "time": "2016-04-26T00:48:21"
         },
         {
          "favorite_count": 3539,
          "handle": "HillaryClinton",
          "retweet_count": 1245,
          "text": "\"It matters what we do, not just what we say. It didn’t matter what we called bin Laden—it mattered that we got bin Laden.\" —Hillary",
          "time": "2016-06-14T16:36:11"
         },
         {
          "favorite_count": 6243,
          "handle": "HillaryClinton",
          "retweet_count": 2630,
          "text": ".@TimKaine has a big heart and showed it as a civil rights lawyer, a teacher, a mayor, a governor, and a senator. https://t.co/dT4qZ8hwL8",
          "time": "2016-07-23T00:40:05"
         },
         {
          "favorite_count": 5007,
          "handle": "HillaryClinton",
          "retweet_count": 1542,
          "text": "Families shouldn’t have to spend more than 10% of their income on child care. https://t.co/EYR8iWoYfb",
          "time": "2016-06-22T19:05:39"
         },
         {
          "favorite_count": 10047,
          "handle": "realDonaldTrump",
          "retweet_count": 3796,
          "text": "I am growing the Republican Party tremendously - just look at the numbers, way up! Democrats numbers are significantly down from years past.",
          "time": "2016-02-23T15:47:08"
         },
         {
          "favorite_count": 645,
          "handle": "HillaryClinton",
          "retweet_count": 314,
          "text": "Puerto Rico Zika fact-finding mission for @HillaryClinton. WIC clinics educating &amp; providing kits for pregnant women https://t.co/8DEj6HOKhZ",
          "time": "2016-04-23T19:46:54"
         },
         {
          "favorite_count": 9419,
          "handle": "HillaryClinton",
          "retweet_count": 2314,
          "text": "Thank you, @JoeBiden. https://t.co/z1Jb6CrtzH",
          "time": "2016-07-31T18:55:38"
         },
         {
          "favorite_count": 7201,
          "handle": "HillaryClinton",
          "retweet_count": 2744,
          "text": "Making our economy work for everyone starts by making sure those at the top pay their fair share in taxes.\nhttps://t.co/uDdkrzKL9O",
          "time": "2016-08-03T14:38:32"
         },
         {
          "favorite_count": 7615,
          "handle": "HillaryClinton",
          "retweet_count": 2657,
          "text": "Our first task has to be to make sure that the economic uncertainty created by these events does not hurt working families. #BrexitVote",
          "time": "2016-06-24T14:06:32"
         },
         {
          "favorite_count": 2781,
          "handle": "HillaryClinton",
          "retweet_count": 731,
          "text": "Last night, we put the biggest crack yet in that highest, hardest glass ceiling. Here are the highlights: https://t.co/YcfLdrnu56",
          "time": "2016-07-27T20:04:47"
         },
         {
          "favorite_count": 13832,
          "handle": "HillaryClinton",
          "retweet_count": 7324,
          "text": "Donald Trump is more concerned with pandering to the gun lobby than keeping families safe. #DebateNight https://t.co/LspcUJNUc5",
          "time": "2016-09-27T01:56:13"
         },
         {
          "favorite_count": 9460,
          "handle": "HillaryClinton",
          "retweet_count": 2852,
          "text": "\"Hillary is not somebody who fears the future. She believes that it is ours to shape.\" —@POTUS https://t.co/cSAdZFNa4G",
          "time": "2016-07-11T02:48:43"
         },
         {
          "favorite_count": 2761,
          "handle": "HillaryClinton",
          "retweet_count": 839,
          "text": "\"We're going to work to make the biggest investment in new, good-paying jobs since World War II\" —Hillary https://t.co/6v6XcdsZYa",
          "time": "2016-08-04T20:17:18"
         },
         {
          "favorite_count": 62783,
          "handle": "realDonaldTrump",
          "retweet_count": 24978,
          "text": "Why isn't President Obama working instead of campaigning for Hillary Clinton?",
          "time": "2016-09-14T03:09:37"
         },
         {
          "favorite_count": 9341,
          "handle": "realDonaldTrump",
          "retweet_count": 2385,
          "text": "I will be interviewed on @seanhannity tonight at 10pmE on @FoxNews. Enjoy!",
          "time": "2016-05-31T22:51:56"
         },
         {
          "favorite_count": 29738,
          "handle": "realDonaldTrump",
          "retweet_count": 14944,
          "text": "#MakeAmericaSafeAgain https://t.co/5yuLKyh8Q6",
          "time": "2016-08-05T20:03:29"
         },
         {
          "favorite_count": 4782,
          "handle": "realDonaldTrump",
          "retweet_count": 1599,
          "text": "Really disgusting that the failing New York Times allows dishonest writers to totally fabricate stories.",
          "time": "2016-01-19T14:44:43"
         },
         {
          "favorite_count": 10833,
          "handle": "HillaryClinton",
          "retweet_count": 3229,
          "text": ".@timkaine That's what we @Wellesley girls do! And it's so clear @HillaryClinton is the only candidate prepared to be president #debatenight",
          "time": "2016-09-27T03:52:39"
         },
         {
          "favorite_count": 21721,
          "handle": "realDonaldTrump",
          "retweet_count": 4737,
          "text": "Just landed in New York - a one night stay in Scotland. Turnberry came out magnificently. My son, Eric, did a great job - under budget!",
          "time": "2016-06-26T03:32:05"
         },
         {
          "favorite_count": 6892,
          "handle": "HillaryClinton",
          "retweet_count": 2947,
          "text": "If you're a fan of weekends, thank a union member. https://t.co/RUF2UtG2sM",
          "time": "2016-09-05T14:12:02"
         },
         {
          "favorite_count": 6446,
          "handle": "realDonaldTrump",
          "retweet_count": 1737,
          "text": "\"@SkylerDeckard: @realDonaldTrump \"that's because you've never hired anyone to do work before\" favorite line from tonights debate.\"",
          "time": "2016-02-26T12:27:33"
         },
         {
          "favorite_count": 7282,
          "handle": "realDonaldTrump",
          "retweet_count": 2680,
          "text": "Ted Cruz is lying again. Polls are showing that I do beat Hillary Clinton head to head. Check out https://t.co/45g7qpxq7T Poll snd Q Poll.",
          "time": "2016-02-25T02:20:19"
         },
         {
          "favorite_count": 8888,
          "handle": "realDonaldTrump",
          "retweet_count": 3234,
          "text": "\"@VictorConkle: #WIPrimary @realDonaldTrump will defeat ISIS and #MakeAmericaGreatAgain https://t.co/VWIJ7jUTaV\"",
          "time": "2016-03-28T01:36:28"
         },
         {
          "favorite_count": 20137,
          "handle": "realDonaldTrump",
          "retweet_count": 5749,
          "text": "Thank you to the Governor of Florida, Rick Scott, for your endorsement. I greatly appreciate your support!",
          "time": "2016-03-16T17:14:37"
         },
         {
          "favorite_count": 29255,
          "handle": "realDonaldTrump",
          "retweet_count": 11907,
          "text": "Wow, just announced that Lyin' Ted and Kasich are going to collude in order to keep me from getting the Republican nomination. DESPERATION!",
          "time": "2016-04-25T03:39:58"
         },
         {
          "favorite_count": 2935,
          "handle": "HillaryClinton",
          "retweet_count": 1400,
          "text": "Trump asked what the African American community has to lose by voting for him. @MarlonDMarshall's response: https://t.co/ZJtX7d49bM",
          "time": "2016-08-25T21:06:31"
         },
         {
          "favorite_count": 3670,
          "handle": "HillaryClinton",
          "retweet_count": 836,
          "text": "Wish @POTUS a happy birthday. Sign his card: https://t.co/YroKwbRvYX",
          "time": "2016-08-04T21:38:15"
         },
         {
          "favorite_count": 6391,
          "handle": "HillaryClinton",
          "retweet_count": 2293,
          "text": "\"We don’t turn against each other—no, we listen to each other. We lean on each other because we are always stronger together.\" —@FLOTUS",
          "time": "2016-07-26T02:15:11"
         },
         {
          "favorite_count": 2193,
          "handle": "HillaryClinton",
          "retweet_count": 1135,
          "text": "\"We want to bring unity to the Republican party.\" —@realDonaldTrump\n\nGood luck with that.\nhttps://t.co/MPLsSpV8am",
          "time": "2016-05-12T16:42:27"
         },
         {
          "favorite_count": 2283,
          "handle": "HillaryClinton",
          "retweet_count": 611,
          "text": ".@JoeBiden’s hitting the trail with Hillary in Scranton, folks. Tune in now: https://t.co/zFvHUT7UQ2 https://t.co/xbqUILQKGB",
          "time": "2016-08-15T17:05:35"
         },
         {
          "favorite_count": 9000,
          "handle": "HillaryClinton",
          "retweet_count": 4859,
          "text": "We all know Donald Trump says offensive things about women. Here's what he says about policies that benefit women.\nhttps://t.co/YMV0rvwFnf",
          "time": "2016-04-23T02:18:39"
         },
         {
          "favorite_count": 2251,
          "handle": "HillaryClinton",
          "retweet_count": 1189,
          "text": "\"Clinton’s economic policies...will result in a stronger U.S. economy.” —Mark Zandi, John McCain's economic advisor https://t.co/eLL6iQNEWY",
          "time": "2016-08-08T16:22:24"
         },
         {
          "favorite_count": 14147,
          "handle": "realDonaldTrump",
          "retweet_count": 5078,
          "text": "Thank you Georgia! 15,000 amazing supporters tonight! Everyone get out &amp; #VoteTrump tomorrow! #SuperTuesday https://t.co/jNA5YON6hA",
          "time": "2016-03-01T01:43:56"
         },
         {
          "favorite_count": 5454,
          "handle": "realDonaldTrump",
          "retweet_count": 1972,
          "text": "Fox News Poll\nThank you, New Hampshire! #FITN\n#Trump2016 https://t.co/jC1qisBbit",
          "time": "2016-01-24T21:06:22"
         },
         {
          "favorite_count": 6297,
          "handle": "HillaryClinton",
          "retweet_count": 3671,
          "text": "Trump's extreme immigration speech got rave reviews—from white supremacists, the alt-right, and Ann Coulter. https://t.co/TeYcDQeYCg",
          "time": "2016-09-01T12:58:51"
         },
         {
          "favorite_count": 2879,
          "handle": "HillaryClinton",
          "retweet_count": 1079,
          "text": "Eight reasons why you shouldn't need a four-year degree to have a successful career: https://t.co/QhJE8VdLWT",
          "time": "2016-08-30T20:17:43"
         },
         {
          "favorite_count": 13325,
          "handle": "realDonaldTrump",
          "retweet_count": 4145,
          "text": "Join me in Fayetteville, North Carolina tomorrow evening at 6pm. Tickets now available at: https://t.co/Z80d4MYIg8",
          "time": "2016-08-08T13:28:20"
         },
         {
          "favorite_count": 506,
          "handle": "HillaryClinton",
          "retweet_count": 241,
          "text": "EN VIVO: Trump ha estado involucrado en más de 5,500 demandas. Vamos a intentar leerlas todas en 4 horas: https://t.co/zYr4XbPwv2",
          "time": "2016-07-19T18:04:13"
         },
         {
          "favorite_count": 12655,
          "handle": "HillaryClinton",
          "retweet_count": 3002,
          "text": "Yesterday, @ShotDiva made Olympic history with her gold medal in women's shot put (@TeamUSA's first!). https://t.co/ih1HYqnP8U",
          "time": "2016-08-14T23:43:40"
         },
         {
          "favorite_count": 10723,
          "handle": "realDonaldTrump",
          "retweet_count": 4335,
          "text": "Boycott all Apple products  until such time as Apple gives cellphone info to authorities regarding radical Islamic terrorist couple from Cal",
          "time": "2016-02-19T21:38:07"
         },
         {
          "favorite_count": 21376,
          "handle": "realDonaldTrump",
          "retweet_count": 5944,
          "text": "Just heard that crazy and very dumb @morningmika had a mental breakdown while talking about me on the low ratings @Morning_Joe. Joe a mess!",
          "time": "2016-09-02T12:28:58"
         },
         {
          "favorite_count": 8984,
          "handle": "realDonaldTrump",
          "retweet_count": 3190,
          "text": "Lightweight Senator Marco Rubio is polling very poorly in Florida. The people can't stand him for missing so many votes - poor work ethic!",
          "time": "2016-02-28T17:53:29"
         },
         {
          "favorite_count": 7032,
          "handle": "HillaryClinton",
          "retweet_count": 1814,
          "text": "“I married my best friend. I was still in awe of…how smart and strong and loving and caring she was.” —@BillClinton on Hillary",
          "time": "2016-07-27T02:27:14"
         },
         {
          "favorite_count": 5200,
          "handle": "realDonaldTrump",
          "retweet_count": 1390,
          "text": "Just left a great event in Pella. Going to church tomorrow in Muscatine, Iowa.",
          "time": "2016-01-23T23:36:30"
         },
         {
          "favorite_count": 4103,
          "handle": "realDonaldTrump",
          "retweet_count": 1179,
          "text": "\"@Rick_Gobbi: @realDonaldTrump ...Hold up a mirror so the network cameras show how big the crowd is.\"  GREAT IDEA!",
          "time": "2016-01-28T11:44:38"
         },
         {
          "favorite_count": 4568,
          "handle": "HillaryClinton",
          "retweet_count": 1675,
          "text": "Thank you, Connecticut. https://t.co/dEF36fIGyu",
          "time": "2016-04-27T02:37:28"
         },
         {
          "favorite_count": 3291,
          "handle": "realDonaldTrump",
          "retweet_count": 1229,
          "text": "Constitutional law expert  #Laurence Tribe of Harvard says \"wrong to say it (natural born citizen) is a settled matter-it isn't settled).",
          "time": "2016-01-09T15:41:44"
         },
         {
          "favorite_count": 3256,
          "handle": "realDonaldTrump",
          "retweet_count": 1238,
          "text": "VIDEO: @realDonaldTrump announces 'a very powerful endorsement' will be coming today.  https://t.co/cJsMBcVcdY",
          "time": "2016-01-26T12:47:17"
         },
         {
          "favorite_count": 5913,
          "handle": "realDonaldTrump",
          "retweet_count": 1570,
          "text": "My wife Melania will be on @Morning_Joe  tomorrow morning at 8:00. Interviewed by @morningmika - Enjoy!",
          "time": "2016-02-24T01:45:21"
         },
         {
          "favorite_count": 2068,
          "handle": "HillaryClinton",
          "retweet_count": 539,
          "text": "Listen in from Johnstown, PA as Hillary and @TimKaine discuss innovation and manufacturing: https://t.co/ESV9yL7umg",
          "time": "2016-07-30T19:53:25"
         },
         {
          "favorite_count": 4587,
          "handle": "HillaryClinton",
          "retweet_count": 1667,
          "text": "\"He preyed on...people who had fallen on hard times. He’s conned them, he’s defrauded them, and he’s ripped them off.” —Warren on Trump",
          "time": "2016-07-26T02:34:01"
         },
         {
          "favorite_count": 4171,
          "handle": "realDonaldTrump",
          "retweet_count": 1462,
          "text": "#Trump2016 #IACaucus Finder:\nhttps://t.co/ANvTcZqfOq https://t.co/1vjCHYYlzU",
          "time": "2016-01-28T15:50:02"
         },
         {
          "favorite_count": 10505,
          "handle": "realDonaldTrump",
          "retweet_count": 4957,
          "text": "https://t.co/ZQ0osiFEJQ",
          "time": "2016-03-11T17:58:24"
         },
         {
          "favorite_count": 1955,
          "handle": "HillaryClinton",
          "retweet_count": 631,
          "text": "\"Hillary Clinton may be our 1st woman president. But she will not be our last. Once that barrier falls, it will never... be put back up.\"",
          "time": "2016-07-27T22:54:18"
         },
         {
          "favorite_count": 9315,
          "handle": "HillaryClinton",
          "retweet_count": 2817,
          "text": "A note from Hillary. https://t.co/LHSZvl7ODF",
          "time": "2016-06-09T01:01:27"
         },
         {
          "favorite_count": 6242,
          "handle": "HillaryClinton",
          "retweet_count": 2139,
          "text": "“So guess what Donald? It turns out America is pretty great already.” —@EvaLongoria #DemsInPhilly",
          "time": "2016-07-26T01:36:51"
         },
         {
          "favorite_count": 1740,
          "handle": "HillaryClinton",
          "retweet_count": 793,
          "text": "Back when she was New York's senator, @HillaryClinton fought political attacks on access to emergency contraception: https://t.co/YEhvJjyQBP",
          "time": "2016-08-29T15:52:21"
         },
         {
          "favorite_count": 2165,
          "handle": "HillaryClinton",
          "retweet_count": 866,
          "text": "Under @POTUS and @JoeBiden:\n✓ Our businesses created 15 million new jobs.\n✓ 20 million people have health care.\nhttps://t.co/2SCUXK3VAP",
          "time": "2016-08-15T17:16:13"
         },
         {
          "favorite_count": 3923,
          "handle": "HillaryClinton",
          "retweet_count": 2194,
          "text": "Love this.\n\n\"@HillaryClinton has spent her life fighting for children—here are 8 ways she’s changed their lives.\" \n\nhttps://t.co/7goGIa0Ag0",
          "time": "2016-09-15T21:16:27"
         },
         {
          "favorite_count": 13633,
          "handle": "realDonaldTrump",
          "retweet_count": 5213,
          "text": "\"@Trump_Videos: .@Nigel_Farage of the #brexit fame - We CAN do this! We can #MAGA with @realDonaldTrump https://t.co/1qyuc8ZykJ\"",
          "time": "2016-08-25T04:34:00"
         },
         {
          "favorite_count": 13400,
          "handle": "realDonaldTrump",
          "retweet_count": 4295,
          "text": "Thank you Alex!  https://t.co/c2uIa7mndP",
          "time": "2016-08-08T22:06:25"
         },
         {
          "favorite_count": 18734,
          "handle": "realDonaldTrump",
          "retweet_count": 5504,
          "text": "Crazy Maureen Dowd, the wacky columnist for the failing @nytimes, pretends she knows me well--wrong!",
          "time": "2016-09-17T17:29:26"
         },
         {
          "favorite_count": 9560,
          "handle": "HillaryClinton",
          "retweet_count": 6158,
          "text": "\"They have to go.\"\n\nTrump has been perfectly clear about his intentions for millions of immigrants. https://t.co/kZ6hdDWrFt",
          "time": "2016-08-31T17:32:37"
         },
         {
          "favorite_count": 9479,
          "handle": "HillaryClinton",
          "retweet_count": 5088,
          "text": "Watch this before you watch tonight's debate. #DebateNight https://t.co/vnC4bMrS0Q",
          "time": "2016-09-26T20:30:05"
         },
         {
          "favorite_count": 2133,
          "handle": "HillaryClinton",
          "retweet_count": 729,
          "text": "We can be the clean energy superpower of the 21st Century. https://t.co/Zb8w0tLYkS",
          "time": "2016-08-10T19:37:25"
         },
         {
          "favorite_count": 8186,
          "handle": "HillaryClinton",
          "retweet_count": 2410,
          "text": "We launched an all-Spanish Twitter account, @Hillary_esp, because we believe in bringing as many people as possible into this conversation.",
          "time": "2016-08-05T16:49:25"
         },
         {
          "favorite_count": 4884,
          "handle": "HillaryClinton",
          "retweet_count": 1998,
          "text": "Trump says, “I love playing with debt.” Someone should tell him our economy isn’t a game. https://t.co/CoTyTjMvS6",
          "time": "2016-06-22T01:02:13"
         },
         {
          "favorite_count": 6438,
          "handle": "HillaryClinton",
          "retweet_count": 3750,
          "text": "Being president isn't like being on a reality show.\n\nWe can't afford a candidate who treats it like one. https://t.co/48MePwjHh9",
          "time": "2016-05-17T02:07:43"
         },
         {
          "favorite_count": 17916,
          "handle": "HillaryClinton",
          "retweet_count": 8823,
          "text": ".@TimKaine's guiding principle: the belief that you can make a difference through public service. https://t.co/YopSUeMqOX",
          "time": "2016-07-23T00:28:27"
         },
         {
          "favorite_count": 4374,
          "handle": "realDonaldTrump",
          "retweet_count": 1619,
          "text": "Bob Dole Warns of ‘Cataclysmic’ Losses With Ted Cruz, and Says Donald Trump Would Do Better via New York Times: https://t.co/txEaLrZ4uY",
          "time": "2016-01-20T23:40:20"
         },
         {
          "favorite_count": 10162,
          "handle": "HillaryClinton",
          "retweet_count": 2056,
          "text": "Last night, swimmer @KatieLedecky won gold and broke her own world record in the 400m freestyle. Congrats, Katie! https://t.co/db79swBbOr",
          "time": "2016-08-08T20:30:14"
         },
         {
          "favorite_count": 15507,
          "handle": "realDonaldTrump",
          "retweet_count": 6433,
          "text": "#Imwithyou https://t.co/tan8BmAuR8 https://t.co/5EZ7X1ZZKh",
          "time": "2016-06-22T21:39:43"
         },
         {
          "favorite_count": 12568,
          "handle": "realDonaldTrump",
          "retweet_count": 3722,
          "text": "Wow, in the new CBS Poll I went way up into the forties! Thank you!",
          "time": "2016-02-14T21:10:20"
         },
         {
          "favorite_count": 2351,
          "handle": "realDonaldTrump",
          "retweet_count": 801,
          "text": "\"@CyberCiety: #MaryBrigidMcManamon clarified how #CommonLaw is used to interpret meaning of #NaturalBorn #TedCruz https://t.co/5y6SZrTdGr\"",
          "time": "2016-01-22T14:00:47"
         },
         {
          "favorite_count": 2625,
          "handle": "HillaryClinton",
          "retweet_count": 1364,
          "text": "We're facing a candidate with a history of discrimination in his businesses, who retweets white supremacists, and led the birther movement.",
          "time": "2016-09-19T16:52:41"
         },
         {
          "favorite_count": 17763,
          "handle": "realDonaldTrump",
          "retweet_count": 9008,
          "text": "MAKE AMERICA GREAT AGAIN!",
          "time": "2016-02-19T21:51:51"
         },
         {
          "favorite_count": 4524,
          "handle": "HillaryClinton",
          "retweet_count": 2453,
          "text": "Donald Trump's foreign policy is already making Americans less safe, and he's not even president (yet).\nhttps://t.co/JTuxfXlZl8",
          "time": "2016-06-03T01:01:37"
         },
         {
          "favorite_count": 6195,
          "handle": "HillaryClinton",
          "retweet_count": 3653,
          "text": "These headlines on Trump's lies are from just one week of his campaign.\n\nImagine four years of his presidency. https://t.co/FE1hZ7MmR6",
          "time": "2016-09-26T18:04:36"
         },
         {
          "favorite_count": 4343,
          "handle": "HillaryClinton",
          "retweet_count": 2751,
          "text": "New documents confirm Trump \"University\" was a scam that preyed on families to make money. Caution—may cause nausea. https://t.co/d2qYRLKsou",
          "time": "2016-06-01T15:45:50"
         },
         {
          "favorite_count": 3607,
          "handle": "HillaryClinton",
          "retweet_count": 1373,
          "text": "Proud the U.S. is signing the Paris climate deal. What better way to celebrate Earth Day than taking action to help save our planet? -H",
          "time": "2016-04-22T15:12:49"
         },
         {
          "favorite_count": 22634,
          "handle": "realDonaldTrump",
          "retweet_count": 9707,
          "text": ".@HillaryClinton has been part of the rigged DC system for 30 years? Why would we take policy advice from her? #Debates2016",
          "time": "2016-09-27T01:28:50"
         },
         {
          "favorite_count": 16226,
          "handle": "realDonaldTrump",
          "retweet_count": 5977,
          "text": "#LaborDay #AmericaFirst\nVideo: https://t.co/RNl7cfzkmN https://t.co/ZqRtbV4KRI",
          "time": "2016-09-05T14:09:28"
         },
         {
          "favorite_count": 25711,
          "handle": "realDonaldTrump",
          "retweet_count": 10351,
          "text": "Great new poll Iowa - thank you!\n#MakeAmericaGreatAgain #ImWithYou https://t.co/7hupah1RQN",
          "time": "2016-09-02T16:55:57"
         },
         {
          "favorite_count": 36990,
          "handle": "realDonaldTrump",
          "retweet_count": 14388,
          "text": "Mainstream media never covered Hillary’s massive “hacking”\nor coughing attack, yet it is #1 trending. What’s up?",
          "time": "2016-09-06T15:31:09"
         },
         {
          "favorite_count": 7155,
          "handle": "HillaryClinton",
          "retweet_count": 2999,
          "text": "“Patriotism is love of country. But you can’t love your country without loving your countrymen and your countrywomen.” —@CoryBooker",
          "time": "2016-07-26T01:41:56"
         },
         {
          "favorite_count": 21041,
          "handle": "realDonaldTrump",
          "retweet_count": 7196,
          "text": "Crooked Hillary just took a major ad of me playing golf at Turnberry. Shows me hitting shot, but I never did = lie! Was there to support son",
          "time": "2016-06-26T16:06:23"
         },
         {
          "favorite_count": 14227,
          "handle": "realDonaldTrump",
          "retweet_count": 6159,
          "text": "MAKE AMERICA GREAT AGAIN!\nhttps://t.co/0w4ldD7dW3",
          "time": "2016-03-29T19:38:03"
         },
         {
          "favorite_count": 3761,
          "handle": "HillaryClinton",
          "retweet_count": 1283,
          "text": "We must fight for criminal justice reform. Everyone is safer when there is respect for the law and when everyone is respected by the law.",
          "time": "2016-07-18T16:53:44"
         },
         {
          "favorite_count": 3358,
          "handle": "realDonaldTrump",
          "retweet_count": 1158,
          "text": "@montgomeriefdn  Colin, great to have you at Trump Turnberry. So proud of you and your GREAT playing! You made winning MAJORS look easy!",
          "time": "2016-05-20T23:36:17"
         },
         {
          "favorite_count": 1680,
          "handle": "HillaryClinton",
          "retweet_count": 889,
          "text": "Women still face too many barriers—a president shouldn't be part of the problem. Comments like Trump's set us back.",
          "time": "2016-04-27T18:38:55"
         },
         {
          "favorite_count": 1466,
          "handle": "HillaryClinton",
          "retweet_count": 969,
          "text": "So this is kind of scary... https://t.co/8t63MRC9x6 https://t.co/qaCWNBd0bq",
          "time": "2016-07-18T19:50:35"
         },
         {
          "favorite_count": 3046,
          "handle": "HillaryClinton",
          "retweet_count": 823,
          "text": "\"Thank you for loving all people, especially 'the least, the last, and the lost' among us.\" —Hillary to the @nbcusa_inc",
          "time": "2016-09-08T23:05:06"
         },
         {
          "favorite_count": 33162,
          "handle": "realDonaldTrump",
          "retweet_count": 13779,
          "text": "Hillary defrauded America as Secy of State. She used it as a personal hedge fund to get herself rich! Corrupt, dangerous, dishonest.",
          "time": "2016-06-21T17:19:22"
         },
         {
          "favorite_count": 22545,
          "handle": "realDonaldTrump",
          "retweet_count": 6789,
          "text": "I have never liked the media term 'mass deportation' -- but we must enforce the laws of the land!",
          "time": "2016-06-26T02:39:23"
         },
         {
          "favorite_count": 15217,
          "handle": "realDonaldTrump",
          "retweet_count": 4951,
          "text": "Lying Ted Cruz and lightweight choker  Marco Rubio teamed up last night in a last ditch effort to stop our great movement. They failed!",
          "time": "2016-02-26T16:15:06"
         },
         {
          "favorite_count": 2463,
          "handle": "HillaryClinton",
          "retweet_count": 1163,
          "text": "The week after 9/11, George W. Bush went to a mosque and declared for everyone to hear that Muslims 'love America just as much as I do.'",
          "time": "2016-08-25T19:39:42"
         },
         {
          "favorite_count": 7221,
          "handle": "HillaryClinton",
          "retweet_count": 2537,
          "text": "In America, if you can dream it, you should be able to build it.\nhttps://t.co/xduxyCcwj3",
          "time": "2016-08-07T22:30:44"
         },
         {
          "favorite_count": 12284,
          "handle": "realDonaldTrump",
          "retweet_count": 3659,
          "text": "Thank you!  https://t.co/4p0hzpkVWF",
          "time": "2016-08-08T22:12:21"
         },
         {
          "favorite_count": 11686,
          "handle": "realDonaldTrump",
          "retweet_count": 3549,
          "text": "\"@FoxBusiness: .@RepTomMarino: I think @realDonaldTrump can beat HillaryClinton. And I'm looking forward to Trump being president.",
          "time": "2016-03-16T13:34:19"
         },
         {
          "favorite_count": 7230,
          "handle": "realDonaldTrump",
          "retweet_count": 4894,
          "text": ".@NikkiHaley in 2012 w/ Romney on tax returns🤔(political ploy.) Fast forward..2016 w/ Robot Rubio🤖\n#FAIL👎#Politician https://t.co/Kxe5AKaTQD",
          "time": "2016-03-01T19:14:43"
         },
         {
          "favorite_count": 1004,
          "handle": "HillaryClinton",
          "retweet_count": 766,
          "text": "While American families suffered, Donald Trump tried to cash in. \n\nhttps://t.co/BvkHu63H1h",
          "time": "2016-05-24T14:31:23"
         },
         {
          "favorite_count": 24215,
          "handle": "realDonaldTrump",
          "retweet_count": 5219,
          "text": "Congratulations to my son, Eric, on the fantastic job he has done in rebuilding Turnberry, and its great Ailsa Course. Always support kids!",
          "time": "2016-06-24T00:58:06"
         },
         {
          "favorite_count": 10537,
          "handle": "realDonaldTrump",
          "retweet_count": 2698,
          "text": "Will be in South Bend, Indiana in a short while -- big rally! See you soon!",
          "time": "2016-05-02T22:24:06"
         },
         {
          "favorite_count": 8386,
          "handle": "HillaryClinton",
          "retweet_count": 2851,
          "text": "There's only one candidate in this election who's ready to be America's Commander-in-Chief. https://t.co/NarHADLKi2",
          "time": "2016-09-08T12:09:47"
         },
         {
          "favorite_count": 9680,
          "handle": "HillaryClinton",
          "retweet_count": 4515,
          "text": "When we stand together - as white, black and hispanic, gay and straight, women and men - we trump hate. https://t.co/B8aVUwudDc",
          "time": "2016-09-18T18:43:36"
         },
         {
          "favorite_count": 4812,
          "handle": "HillaryClinton",
          "retweet_count": 1416,
          "text": "\"She’s insatiably curious, she’s a natural leader, she’s a good organizer, and she’s the best darn changemaker I’ve seen.” —@BillClinton",
          "time": "2016-07-27T02:36:31"
         },
         {
          "favorite_count": 4326,
          "handle": "HillaryClinton",
          "retweet_count": 1404,
          "text": "“I don’t understand people who trash talk about America…who act as if we are not yet the greatest country that has ever been created.”",
          "time": "2016-07-25T15:51:36"
         },
         {
          "favorite_count": 8944,
          "handle": "HillaryClinton",
          "retweet_count": 4156,
          "text": "A man who talks about our veterans and military families like this doesn't deserve to be Commander-in-Chief. https://t.co/4s6SvAAyNA",
          "time": "2016-09-07T21:00:45"
         },
         {
          "favorite_count": 7312,
          "handle": "realDonaldTrump",
          "retweet_count": 1525,
          "text": "I will be interviewed on @foxandfriends at 7:00 A.M. Enjoy!",
          "time": "2016-04-11T10:45:01"
         },
         {
          "favorite_count": 84089,
          "handle": "realDonaldTrump",
          "retweet_count": 29853,
          "text": "Not one American flag on the massive stage at the Democratic National Convention until people started complaining-then a small one. Pathetic",
          "time": "2016-07-27T13:01:03"
         },
         {
          "favorite_count": 22420,
          "handle": "realDonaldTrump",
          "retweet_count": 8902,
          "text": ".@Franklin_Graham @BillyNungesser @SamaritansPurse- so humbled by my time w/ you. You are in our thoughts &amp; prayers. https://t.co/I6xGsEzlwv",
          "time": "2016-08-20T01:14:08"
         },
         {
          "favorite_count": 25767,
          "handle": "realDonaldTrump",
          "retweet_count": 9254,
          "text": "Have a great Memorial Day and remember that we will soon MAKE AMERICA GREAT AGAIN!",
          "time": "2016-05-30T11:26:47"
         },
         {
          "favorite_count": 17781,
          "handle": "realDonaldTrump",
          "retweet_count": 4813,
          "text": "\"@tweak626: I'm at a biker rally in Perry, Kansas...and everyone is a @realDonaldTrump fan. Love it.\"",
          "time": "2016-09-05T03:58:39"
         },
         {
          "favorite_count": 11125,
          "handle": "realDonaldTrump",
          "retweet_count": 4112,
          "text": "Why would Texans vote for \"liar\" Ted Cruz when he was born in Canada, lived there for 4 years-and remained a Canadian citizen until recently",
          "time": "2016-02-24T23:45:06"
         },
         {
          "favorite_count": 1269,
          "handle": "HillaryClinton",
          "retweet_count": 401,
          "text": "You still have a chance to be a part of history and join Hillary at the #DemsInPhilly on Thursday. Enter here: https://t.co/vWnnKOeGFP",
          "time": "2016-07-26T01:17:31"
         },
         {
          "favorite_count": 27661,
          "handle": "realDonaldTrump",
          "retweet_count": 9124,
          "text": "Thoughts and prayers are with everyone in West Virginia- dealing with the devastating floods. #ImWithYou",
          "time": "2016-06-25T04:29:41"
         },
         {
          "favorite_count": 13822,
          "handle": "realDonaldTrump",
          "retweet_count": 3471,
          "text": "Senator Tom Cotton was great on Meet the Press yesterday. Despite a totally one-sided interview by Chuck Todd, the end result was solid!",
          "time": "2016-07-04T13:56:34"
         },
         {
          "favorite_count": 18322,
          "handle": "HillaryClinton",
          "retweet_count": 9349,
          "text": "This moment is for every little girl who dreams big. #WeMadeHistory\nhttps://t.co/DRAJuUUhOr",
          "time": "2016-07-26T23:15:36"
         },
         {
          "favorite_count": 3218,
          "handle": "HillaryClinton",
          "retweet_count": 1665,
          "text": "Leading charity watchdogs agree: the work of the @ClintonFdn earns the highest marks across the board. https://t.co/wOqMvnnUNS",
          "time": "2016-09-12T17:50:34"
         },
         {
          "favorite_count": 10530,
          "handle": "realDonaldTrump",
          "retweet_count": 3703,
          "text": "New Hampshire vote today -  MAKE AMERICA GREAT AGAIN!",
          "time": "2016-02-09T16:46:17"
         },
         {
          "favorite_count": 7578,
          "handle": "realDonaldTrump",
          "retweet_count": 1739,
          "text": "HAPPY BIRTHDAY to my son, @EricTrump! Very proud of you!\nhttps://t.co/ZHMKIqnUwL https://t.co/IJzW2NDJyA",
          "time": "2016-01-06T15:01:58"
         },
         {
          "favorite_count": 14653,
          "handle": "realDonaldTrump",
          "retweet_count": 4140,
          "text": "Thank you Pittsburgh, Pennsylvania! Will be back soon! #AmericaFirst https://t.co/ttLMgInkdA",
          "time": "2016-06-11T22:10:40"
         },
         {
          "favorite_count": 4134,
          "handle": "HillaryClinton",
          "retweet_count": 2742,
          "text": "As a Mexican-American, I truly fear the consequences of his anti-Mexican rhetoric. This is not funny.  https://t.co/tjAM9VIagw",
          "time": "2016-06-30T23:17:02"
         },
         {
          "favorite_count": 11426,
          "handle": "realDonaldTrump",
          "retweet_count": 3030,
          "text": "I had a great day campaigning in Connecticut. Looking for a big vote on Tuesday!",
          "time": "2016-04-24T01:41:57"
         },
         {
          "favorite_count": 13034,
          "handle": "HillaryClinton",
          "retweet_count": 5283,
          "text": "\"Don’t let anyone ever tell you that this country isn’t great...This, right now, is the greatest country on earth.\" —@FLOTUS #DemsInPhilly",
          "time": "2016-07-26T02:20:08"
         },
         {
          "favorite_count": 3836,
          "handle": "HillaryClinton",
          "retweet_count": 1411,
          "text": "\"We’re siding with students and with every American seeking an affordable college degree.\" —@TimKaine https://t.co/qa9qO4AFxW",
          "time": "2016-09-17T18:38:45"
         },
         {
          "favorite_count": 28028,
          "handle": "realDonaldTrump",
          "retweet_count": 8448,
          "text": "Pocahontas wanted V.P. slot so badly but wasn't chosen because she has done nothing in the Senate. Also, Crooked Hillary hates her!",
          "time": "2016-07-23T10:42:10"
         },
         {
          "favorite_count": 13013,
          "handle": "HillaryClinton",
          "retweet_count": 7454,
          "text": "A man with this much contempt and disrespect for women has no business becoming president. https://t.co/eaOpDVixJD",
          "time": "2016-06-11T01:35:08"
         },
         {
          "favorite_count": 3805,
          "handle": "HillaryClinton",
          "retweet_count": 1391,
          "text": "“We have to decide whether we’re going to work together so we can all rise together.” —Hillary",
          "time": "2016-07-29T02:39:12"
         },
         {
          "favorite_count": 2740,
          "handle": "HillaryClinton",
          "retweet_count": 1272,
          "text": "When we stand together against the other side's hateful words, we all rise.\nhttps://t.co/UagcfYANnR",
          "time": "2016-05-02T20:00:37"
         },
         {
          "favorite_count": 13889,
          "handle": "realDonaldTrump",
          "retweet_count": 5983,
          "text": "Statement on Clinton Foundation:\nhttps://t.co/2twuzrB9om",
          "time": "2016-08-22T12:55:40"
         },
         {
          "favorite_count": 3403,
          "handle": "HillaryClinton",
          "retweet_count": 2498,
          "text": "Trump U is devastating because it's metaphor for his whole campaign: promising hardworking Americans way to get ahead, but all based on lies",
          "time": "2016-06-01T14:40:46"
         },
         {
          "favorite_count": 9710,
          "handle": "HillaryClinton",
          "retweet_count": 4805,
          "text": "Trump says, \"I know more about ISIS than the generals do, believe me.\" \n\nYou know what? We don't.\nhttps://t.co/OynjnrpRbJ",
          "time": "2016-08-15T12:31:18"
         },
         {
          "favorite_count": 5214,
          "handle": "realDonaldTrump",
          "retweet_count": 1298,
          "text": "I will be on Meet the Press with Chuck Todd on NBC this morning. Enjoy! https://t.co/EIYyfFtnPs",
          "time": "2016-02-07T13:46:44"
         },
         {
          "favorite_count": 4821,
          "handle": "realDonaldTrump",
          "retweet_count": 1981,
          "text": "I said this was happening long ago- I will stop this immediately! \nhttps://t.co/IWXGbBVwvT",
          "time": "2016-02-06T03:10:23"
         },
         {
          "favorite_count": 4915,
          "handle": "realDonaldTrump",
          "retweet_count": 1221,
          "text": "\"@LoreWestphal @realDonaldTrump You MUST win the Presidency in 2016 !!!\"",
          "time": "2016-02-02T19:21:24"
         },
         {
          "favorite_count": 11350,
          "handle": "realDonaldTrump",
          "retweet_count": 2648,
          "text": "I am on @FoxNews with @greta doing a town hall, from Wisconsin- now! Enjoy!\n#MakeAmericaGreatAgain #Trump2016",
          "time": "2016-04-04T00:14:13"
         },
         {
          "favorite_count": 14701,
          "handle": "realDonaldTrump",
          "retweet_count": 4560,
          "text": "Thank you Speaker @PRyan!\n#AmericaFirst #Trump2016  https://t.co/PPsyxGPdFc",
          "time": "2016-07-07T20:09:59"
         },
         {
          "favorite_count": 3758,
          "handle": "realDonaldTrump",
          "retweet_count": 1242,
          "text": "\"@ArkaysDesign: @slone @realDonaldTrump Have to get people of all ages out to vote for Donald Trump!\"",
          "time": "2016-01-06T03:55:38"
         },
         {
          "favorite_count": 2912,
          "handle": "HillaryClinton",
          "retweet_count": 1273,
          "text": ".@HillaryClinton is the best choice for president of the United States: https://t.co/PhRr4uzByZ https://t.co/9884WcdFhP",
          "time": "2016-08-18T12:03:17"
         },
         {
          "favorite_count": 14167,
          "handle": "realDonaldTrump",
          "retweet_count": 4489,
          "text": "Just another desperate move by the man who should have easily beaten Barrack Obama. (2/2)",
          "time": "2016-03-02T23:34:13"
         },
         {
          "favorite_count": 14815,
          "handle": "realDonaldTrump",
          "retweet_count": 3553,
          "text": "On my way to see the great people of Maine. Will be landing in Portland in 2 hours. Look forward to it! #Trump2016",
          "time": "2016-03-03T16:09:34"
         },
         {
          "favorite_count": 4164,
          "handle": "HillaryClinton",
          "retweet_count": 2418,
          "text": "15. To what extent are you and your family currently contractually tied to payments from foreign business partners, or governments?",
          "time": "2016-09-14T16:51:39"
         },
         {
          "favorite_count": 22791,
          "handle": "realDonaldTrump",
          "retweet_count": 8507,
          "text": "Cruz said Kasich should leave because he couldn't get to 1237. Now he can't get to 1237. Drop out LYIN' Ted.",
          "time": "2016-04-21T22:16:27"
         },
         {
          "favorite_count": 1282,
          "handle": "HillaryClinton",
          "retweet_count": 750,
          "text": "Uno no se intimida cuando se tienen que denunciar abusos a los derechos humanos.\nhttps://t.co/ULMzosJ2Dr",
          "time": "2016-04-23T23:48:11"
         },
         {
          "favorite_count": 7157,
          "handle": "HillaryClinton",
          "retweet_count": 2041,
          "text": "\"America, you have vindicated that hope these past eight years. And now I’m ready to pass the baton.” —@POTUS",
          "time": "2016-07-28T03:40:42"
         },
         {
          "favorite_count": 3455,
          "handle": "HillaryClinton",
          "retweet_count": 1226,
          "text": "In 2008, John McCain told his own supporters that Barack Obama is an American citizen and \"a decent person.\"",
          "time": "2016-08-25T19:40:24"
         },
         {
          "favorite_count": 38534,
          "handle": "realDonaldTrump",
          "retweet_count": 14204,
          "text": "We must do everything possible to keep this horrible terrorism outside the United States.",
          "time": "2016-06-28T21:10:57"
         },
         {
          "favorite_count": 5295,
          "handle": "HillaryClinton",
          "retweet_count": 1999,
          "text": ".@SenWarren to @Maddow: Donald Trump cannot be the one who leads the United States of America.\nhttps://t.co/qQ2gtzhxmF",
          "time": "2016-06-10T16:02:52"
         },
         {
          "favorite_count": 16845,
          "handle": "realDonaldTrump",
          "retweet_count": 4358,
          "text": "\"@J58golf: @realDonaldTrump been a great week. More of the same will get you in the white house!\"",
          "time": "2016-08-21T00:02:05"
         },
         {
          "favorite_count": 4510,
          "handle": "HillaryClinton",
          "retweet_count": 1467,
          "text": "No matter what Donald Trump says, America is great, and the American Dream is big enough for everyone to share in its promise.",
          "time": "2016-08-15T17:15:16"
         },
         {
          "favorite_count": 17010,
          "handle": "realDonaldTrump",
          "retweet_count": 6478,
          "text": "\"@realbill2016: @realDonaldTrump @Brainykid2010 @shl Trump leading LA Times poll https://t.co/908uLXCIWz\"",
          "time": "2016-08-22T11:06:36"
         },
         {
          "favorite_count": 8511,
          "handle": "realDonaldTrump",
          "retweet_count": 3126,
          "text": "In the just out @FoxNews Poll, I easily beat Hillary Clinton - and I havn't even focused on her yet. On our way: MAKE AMERICA GREAT AGAIN!",
          "time": "2016-01-10T18:28:54"
         },
         {
          "favorite_count": 6690,
          "handle": "realDonaldTrump",
          "retweet_count": 2103,
          "text": ".@RepChrisCollins  Chris, thank you so much for your wonderful endorsement. I will not let you down! @CNN",
          "time": "2016-02-25T01:08:05"
         },
         {
          "favorite_count": 4894,
          "handle": "HillaryClinton",
          "retweet_count": 1630,
          "text": "We reached this moment thanks to the struggle and sacrifice of generations of women and men before us.",
          "time": "2016-06-08T02:28:33"
         },
         {
          "favorite_count": 15119,
          "handle": "HillaryClinton",
          "retweet_count": 11979,
          "text": "There's a reason the most hateful fringe of the right wing is supporting Donald Trump.\nhttps://t.co/AqB3DM2m0N",
          "time": "2016-08-25T14:51:17"
         },
         {
          "favorite_count": 18673,
          "handle": "realDonaldTrump",
          "retweet_count": 5038,
          "text": "I have self funded my winning primary campaign with an approx. $50 million loan. I have totally terminated the loan!",
          "time": "2016-06-30T19:30:20"
         },
         {
          "favorite_count": 6734,
          "handle": "realDonaldTrump",
          "retweet_count": 3422,
          "text": "Iran is going to buy 114 jetliners with a small part of the $150 billion we are giving them...but they won't buy from U.S., rather Airbus!",
          "time": "2016-01-17T15:21:46"
         },
         {
          "favorite_count": 2205,
          "handle": "HillaryClinton",
          "retweet_count": 1226,
          "text": "Trump University's own employees described it as a \"scam.” https://t.co/xDeDI1sPpR https://t.co/qA2MtslUVs",
          "time": "2016-06-01T14:15:10"
         },
         {
          "favorite_count": 28792,
          "handle": "realDonaldTrump",
          "retweet_count": 9397,
          "text": "People will be very surprised by our ground game on Nov. 8. We have an army of volunteers and people with GREAT SPIRIT! They want to #MAGA!",
          "time": "2016-09-02T12:32:31"
         },
         {
          "favorite_count": 11021,
          "handle": "HillaryClinton",
          "retweet_count": 4200,
          "text": "Unions gave us higher wages, weekends, and the largest middle class in the world. That's worth celebrating &amp; protecting. Happy #LaborDay! -H",
          "time": "2016-09-05T19:07:48"
         },
         {
          "favorite_count": 6203,
          "handle": "HillaryClinton",
          "retweet_count": 3637,
          "text": "Donald Trump's pattern of prejudice and discrimination started long before he was a presidential candidate. https://t.co/fTUwCuRkVv",
          "time": "2016-09-03T14:06:22"
         },
         {
          "favorite_count": 56980,
          "handle": "realDonaldTrump",
          "retweet_count": 25114,
          "text": "Another horrific attack, this time in Nice, France. Many dead and injured. When will we learn? It is only getting worse.",
          "time": "2016-07-14T22:40:31"
         },
         {
          "favorite_count": 3701,
          "handle": "HillaryClinton",
          "retweet_count": 1657,
          "text": "\"Once you've paid your debt to society, your voting rights should be returned immediately.\" —Hillary on @GMA\nhttps://t.co/ZlyKOYwsOo",
          "time": "2016-04-21T21:23:19"
         },
         {
          "favorite_count": 2134,
          "handle": "HillaryClinton",
          "retweet_count": 1274,
          "text": "Donald Trump thinks Americans are being paid too much and has hired union-busting firms to break up organizing campaigns on his properties.",
          "time": "2016-05-23T18:13:29"
         },
         {
          "favorite_count": 2421,
          "handle": "HillaryClinton",
          "retweet_count": 1173,
          "text": "We don’t need a president who thinks only married people deserve paid leave and only mothers ever stay home with the kids.",
          "time": "2016-09-15T19:57:51"
         },
         {
          "favorite_count": 13204,
          "handle": "realDonaldTrump",
          "retweet_count": 3930,
          "text": "Honor to have been interviewed by the very wonderful @bishopwtjackson in Detroit last week - tune in at 9pmE. Enjoy! https://t.co/9ahPnfhQ5N",
          "time": "2016-09-15T00:16:21"
         },
         {
          "favorite_count": 7802,
          "handle": "HillaryClinton",
          "retweet_count": 2493,
          "text": "“Here's the sad truth: There is no other Donald Trump. This is it.” —Hillary",
          "time": "2016-07-29T03:24:10"
         },
         {
          "favorite_count": 15712,
          "handle": "realDonaldTrump",
          "retweet_count": 4698,
          "text": "Great meeting with @SenateMajLdr Mitch McConnell and Republican leaders in D.C. #Trump2016 https://t.co/R0NuOrZISX",
          "time": "2016-05-12T19:22:18"
         },
         {
          "favorite_count": 6293,
          "handle": "HillaryClinton",
          "retweet_count": 2316,
          "text": "Looking forward to hitting the campaign trail together, @POTUS. https://t.co/DzKgMFgdmP",
          "time": "2016-07-03T21:55:20"
         },
         {
          "favorite_count": 36015,
          "handle": "realDonaldTrump",
          "retweet_count": 10277,
          "text": "HAPPY 241st BIRTHDAY to the @USArmy! THANK YOU! https://t.co/mXsxkfcstC",
          "time": "2016-06-14T18:09:57"
         },
         {
          "favorite_count": 2078,
          "handle": "HillaryClinton",
          "retweet_count": 946,
          "text": "The last thing we need is a president who brings more name-calling and temper tantrums to Washington.",
          "time": "2016-08-31T17:01:17"
         },
         {
          "favorite_count": 30046,
          "handle": "realDonaldTrump",
          "retweet_count": 10410,
          "text": "Crooked Hillary called it totally wrong on BREXIT - she went with Obama - and now she is saying we need her to lead. She would be a disaster",
          "time": "2016-06-24T21:23:40"
         },
         {
          "favorite_count": 2629,
          "handle": "HillaryClinton",
          "retweet_count": 815,
          "text": "“I had to steer my state through the deepest recession since the 1930s, but hey, tough times don't last—tough people do.” —Tim",
          "time": "2016-07-28T02:17:06"
         },
         {
          "favorite_count": 17915,
          "handle": "realDonaldTrump",
          "retweet_count": 4413,
          "text": "Just landed in Iowa to attend a great event in honor of wonderful Senator @JoniErnst. Look forward to being with all of my friends.",
          "time": "2016-08-27T18:47:50"
         },
         {
          "favorite_count": 16104,
          "handle": "realDonaldTrump",
          "retweet_count": 5522,
          "text": "Just in, big news- I have been declared the winner of the CNMI Rep Caucus with 72.8% of the vote! Thank you! #SuperTuesday #VoteTrump",
          "time": "2016-03-15T12:38:37"
         },
         {
          "favorite_count": 15914,
          "handle": "realDonaldTrump",
          "retweet_count": 7416,
          "text": "More radical Islam attacks today - it never ends! Strengthen the borders, we must be vigilant and smart. No more being politically correct.",
          "time": "2016-01-16T02:47:22"
         },
         {
          "favorite_count": 27258,
          "handle": "realDonaldTrump",
          "retweet_count": 12479,
          "text": "TIME #DebateNight poll - over 800,000 votes. Thank you! \n#AmericaFirst #MAGA https://t.co/bTPX9E0wKu",
          "time": "2016-09-27T05:36:33"
         },
         {
          "favorite_count": 17795,
          "handle": "realDonaldTrump",
          "retweet_count": 5421,
          "text": "Bernie Sanders was right when he said that Crooked Hillary Clinton was not qualified to be president because she suffers from BAD judgement!",
          "time": "2016-06-02T15:10:22"
         },
         {
          "favorite_count": 37631,
          "handle": "realDonaldTrump",
          "retweet_count": 13530,
          "text": "Hillary's wars in the Middle East have unleashed destruction, terrorism and ISIS across the world.",
          "time": "2016-07-29T03:57:06"
         },
         {
          "favorite_count": 10752,
          "handle": "HillaryClinton",
          "retweet_count": 6514,
          "text": "At last night's forum, Trump disrespected our generals, our country, and women in the military—but he praised Putin. https://t.co/I08j5ap1DX",
          "time": "2016-09-08T18:07:19"
         },
         {
          "favorite_count": 5411,
          "handle": "realDonaldTrump",
          "retweet_count": 1896,
          "text": "I'm protesting the @UnionLeader from having anything to do w/ ABC debate. Their unethical record doesn't give them the right to be involved!",
          "time": "2016-01-09T18:01:00"
         },
         {
          "favorite_count": 7373,
          "handle": "realDonaldTrump",
          "retweet_count": 2743,
          "text": "\"Every American needs to say 2 simple words to every Vet they meet: THANK YOU!\" John Wayne Walding \nhttps://t.co/wG8EzPHZt1",
          "time": "2016-01-29T17:23:06"
         },
         {
          "favorite_count": 10472,
          "handle": "realDonaldTrump",
          "retweet_count": 3087,
          "text": "Thank you South Dakota! #Trump2016 \nhttps://t.co/GbRTQdxIj4 https://t.co/pNqwOrY0ZB",
          "time": "2016-06-08T03:32:02"
         },
         {
          "favorite_count": 3624,
          "handle": "realDonaldTrump",
          "retweet_count": 1143,
          "text": "\"@nytimes: Breaking News: Sarah Palin has endorsed Donald Trump in the GOP primary - appeal to Tea Party loyalists https://t.co/9aKuuuD1wE\"",
          "time": "2016-01-20T11:16:00"
         },
         {
          "favorite_count": 3701,
          "handle": "HillaryClinton",
          "retweet_count": 888,
          "text": "Get live updates from Hillary and @TimKaine's bus tour → https://t.co/8kbj5eeWmS https://t.co/Y2NJ43ovA3",
          "time": "2016-07-30T18:16:30"
         },
         {
          "favorite_count": 11664,
          "handle": "realDonaldTrump",
          "retweet_count": 4471,
          "text": "I agree with Marco Rubio that Ted Cruz is a liar!",
          "time": "2016-02-18T14:11:18"
         },
         {
          "favorite_count": 12272,
          "handle": "realDonaldTrump",
          "retweet_count": 4358,
          "text": "\"@metalmom888:  @Theresa_Cali If the GOP screws Trump, his millions will walk from the GOP never to return! They better think long and hard\"",
          "time": "2016-04-10T03:05:28"
         },
         {
          "favorite_count": 2030,
          "handle": "HillaryClinton",
          "retweet_count": 700,
          "text": "We should deploy 5G internet to make sure we have the fastest online connections possible. https://t.co/6CJVBl9j7e",
          "time": "2016-06-29T21:23:46"
         },
         {
          "favorite_count": 10388,
          "handle": "realDonaldTrump",
          "retweet_count": 3312,
          "text": "THANK YOU NEVADA!\n#Trump2016 #MakeAmericaGreatAgain\n@Snapchat! \nUsername: realdonaldtrump \nhttps://t.co/e0HX1zekX8 https://t.co/uVBGpXzICo",
          "time": "2016-02-24T06:25:53"
         },
         {
          "favorite_count": 36309,
          "handle": "realDonaldTrump",
          "retweet_count": 13957,
          "text": "To all the Bernie voters who want to stop bad trade deals &amp; global special interests, we welcome you with open arms. People first.",
          "time": "2016-07-12T17:04:19"
         },
         {
          "favorite_count": 3655,
          "handle": "HillaryClinton",
          "retweet_count": 961,
          "text": ".@TeamUSA at the White House, circa 2000. #TBT\nhttps://t.co/cix9dny7PU",
          "time": "2016-08-12T01:12:39"
         },
         {
          "favorite_count": 35792,
          "handle": "HillaryClinton",
          "retweet_count": 12147,
          "text": "Woke up to hear the devastating news from FL. As we wait for more information, my thoughts are with those affected by this horrific act. -H",
          "time": "2016-06-12T13:20:17"
         },
         {
          "favorite_count": 3460,
          "handle": "HillaryClinton",
          "retweet_count": 2096,
          "text": "✔ Supports nuclear proliferation\n✔ Alienates our allies\n✔ Cozies up to dictators\n\nTrump's foreign policy is...chaos. https://t.co/Sx9s6Nj5uT",
          "time": "2016-06-02T23:11:07"
         },
         {
          "favorite_count": 2813,
          "handle": "HillaryClinton",
          "retweet_count": 775,
          "text": "\"It’s great to be back on the campaign trail.” —Hillary in North Carolina. Watch live: https://t.co/oa4NZ1hEHU",
          "time": "2016-09-15T19:42:34"
         },
         {
          "favorite_count": 8246,
          "handle": "HillaryClinton",
          "retweet_count": 2473,
          "text": "“I believe with all my heart that America is better than this. America is better than Donald Trump.” —Hillary",
          "time": "2016-08-05T16:48:19"
         },
         {
          "favorite_count": 25769,
          "handle": "realDonaldTrump",
          "retweet_count": 11832,
          "text": "If you want to know about Hillary Clinton's honesty &amp; judgment, ask the family of Ambassador Stevens.",
          "time": "2016-06-21T17:17:49"
         },
         {
          "favorite_count": 22707,
          "handle": "HillaryClinton",
          "retweet_count": 11939,
          "text": "Gracias señora @HillaryClinton su respeto a las mujeres y nuestras diferencias la hacen grande! Estoy con usted!",
          "time": "2016-09-27T02:48:53"
         },
         {
          "favorite_count": 2318,
          "handle": "HillaryClinton",
          "retweet_count": 650,
          "text": "Remember Karla, the little girl we heard from on Monday who feared her parents would be deported? She trusts Hillary to keep them together.",
          "time": "2016-07-28T02:25:45"
         },
         {
          "favorite_count": 28293,
          "handle": "realDonaldTrump",
          "retweet_count": 11395,
          "text": "I will defeat Crooked Hillary Clinton on 11/8/2016. #Trump2016\n#MakeAmericaGreatAgain https://t.co/HtwD1FGn9e",
          "time": "2016-05-02T16:16:14"
         },
         {
          "favorite_count": 5098,
          "handle": "HillaryClinton",
          "retweet_count": 2638,
          "text": "\"Donald Trump is a man who dwells in bigotry, bluster and false promises.\" —@NYTimes https://t.co/dGBX93R3PK #DebateNight",
          "time": "2016-09-26T15:40:07"
         },
         {
          "favorite_count": 1838,
          "handle": "HillaryClinton",
          "retweet_count": 740,
          "text": "Join @SarahEMcBride and activists across the country in supporting LGBT rights this November: https://t.co/tTgeqxNqYm",
          "time": "2016-09-09T22:15:33"
         },
         {
          "favorite_count": 14287,
          "handle": "realDonaldTrump",
          "retweet_count": 4958,
          "text": "Kasich just announced that he wants the people of Indiana to vote for him. Typical politician - can't make a deal work.",
          "time": "2016-04-25T16:15:58"
         },
         {
          "favorite_count": 4467,
          "handle": "HillaryClinton",
          "retweet_count": 1054,
          "text": "The vast majority of gun owners agree: we have to prevent gun violence.\n\nIf we’re looking for common ground, this is common ground.",
          "time": "2016-07-13T17:03:53"
         },
         {
          "favorite_count": 6614,
          "handle": "HillaryClinton",
          "retweet_count": 2635,
          "text": "Here's to 240 years of progress. https://t.co/rxZa7Niodt",
          "time": "2016-07-04T14:56:31"
         },
         {
          "favorite_count": 3302,
          "handle": "HillaryClinton",
          "retweet_count": 2046,
          "text": "There's only one word for Trump's approach to foreign policy and national security: chaos.\nhttps://t.co/Sx9s6NAGmr",
          "time": "2016-06-02T17:41:08"
         },
         {
          "favorite_count": 2831,
          "handle": "HillaryClinton",
          "retweet_count": 1506,
          "text": "Trump Institute taught Donald Trump's real business strategy: cheating innocent Americans out of hard-earned money. https://t.co/AuWq0XJ8Zc",
          "time": "2016-07-01T16:08:29"
         },
         {
          "favorite_count": 20132,
          "handle": "realDonaldTrump",
          "retweet_count": 5947,
          "text": "Thank you to Donald Rumsfeld for the endorsement. Very much appreciated. Clinton's conduct has been \"disqualifying.\"",
          "time": "2016-06-23T13:13:22"
         },
         {
          "favorite_count": 5787,
          "handle": "HillaryClinton",
          "retweet_count": 2481,
          "text": "It's a simple idea: Those who have benefited the most from our economy should pay their fair share in taxes. https://t.co/2nSFZtgYFJ",
          "time": "2016-05-13T14:06:46"
         },
         {
          "favorite_count": 3317,
          "handle": "HillaryClinton",
          "retweet_count": 1369,
          "text": "A lot of people are saying Donald Trump is a conspiracy theorist... https://t.co/NFjHuq1ypI",
          "time": "2016-06-15T01:38:48"
         },
         {
          "favorite_count": 9096,
          "handle": "realDonaldTrump",
          "retweet_count": 4123,
          "text": "\"@wh: https://t.co/AZmCErLKCn WOW people are so misinformed on DonaldTrump character! Watch this video! Hillary and Bernie don't come close",
          "time": "2016-03-15T03:44:11"
         },
         {
          "favorite_count": 24455,
          "handle": "realDonaldTrump",
          "retweet_count": 9734,
          "text": "\"In politics, and in life, ignorance is not a virtue.\" This is a primary reason that President Obama is the worst president in U.S. history!",
          "time": "2016-05-17T01:08:17"
         },
         {
          "favorite_count": 28498,
          "handle": "realDonaldTrump",
          "retweet_count": 9644,
          "text": "The situations in Tulsa and Charlotte are tragic. We must come together to make America safe again.",
          "time": "2016-09-21T13:20:15"
         },
         {
          "favorite_count": 3640,
          "handle": "HillaryClinton",
          "retweet_count": 1435,
          "text": ".@SpeakerRyan, want to know a more effective way to end this sit-in? Let us vote our consciences on gun legislation! #NoBillNoBreak",
          "time": "2016-06-23T04:41:34"
         },
         {
          "favorite_count": 38070,
          "handle": "realDonaldTrump",
          "retweet_count": 11605,
          "text": "Our not very bright Vice President, Joe Biden, just stated that I wanted to \"carpet bomb\" the enemy. Sorry Joe, that was Ted Cruz!",
          "time": "2016-07-27T12:57:20"
         },
         {
          "favorite_count": 6072,
          "handle": "realDonaldTrump",
          "retweet_count": 2196,
          "text": "National Review is a failing publication that has lost it's way. It's circulation is way down w its influence being at an all time low. Sad!",
          "time": "2016-01-22T03:56:44"
         },
         {
          "favorite_count": 6012,
          "handle": "HillaryClinton",
          "retweet_count": 2530,
          "text": "Dear Congress,\n\nLet's get this done.\n\nThanks,\n\nThe vast majority of Americans https://t.co/23ND36tFFm",
          "time": "2016-05-20T16:21:13"
         },
         {
          "favorite_count": 1154,
          "handle": "HillaryClinton",
          "retweet_count": 498,
          "text": "\"Cuando Donald Trump habla de deportar a 11 millones de personas, se refiere a\nseparar familias... como la mía y la de Karla\"—@Astrid_NV.",
          "time": "2016-07-26T00:36:33"
         },
         {
          "favorite_count": 6310,
          "handle": "HillaryClinton",
          "retweet_count": 2050,
          "text": "Trump is harkening back to the most shameful chapters of our history and appealing to the ugliest impulses of our society.",
          "time": "2016-08-05T16:47:11"
         },
         {
          "favorite_count": 22973,
          "handle": "realDonaldTrump",
          "retweet_count": 7570,
          "text": "Thank you Travis County, Texas!\n#MakeAmericaGreatAgain https://t.co/ZBnYzNb0eo",
          "time": "2016-08-24T02:56:21"
         },
         {
          "favorite_count": 12162,
          "handle": "realDonaldTrump",
          "retweet_count": 6718,
          "text": "Crooked Hillary Clinton- discussing the #SecondAmendment at a private event. #2A cc: @NRA https://t.co/vV31Pbpkmn",
          "time": "2016-05-20T15:36:44"
         },
         {
          "favorite_count": 10541,
          "handle": "HillaryClinton",
          "retweet_count": 3253,
          "text": "Thank you, @BernieSanders. Proud to fight alongside you. https://t.co/v6GbG89BUk",
          "time": "2016-07-13T02:37:19"
         },
         {
          "favorite_count": 18968,
          "handle": "realDonaldTrump",
          "retweet_count": 6468,
          "text": "My statement on NATO being obsolete and disproportionately too expensive (and unfair) for the U.S. are now, finally, receiving plaudits!",
          "time": "2016-03-27T14:23:51"
         },
         {
          "favorite_count": 8440,
          "handle": "HillaryClinton",
          "retweet_count": 4570,
          "text": "Trump thinks it's too hard to make his products in America, so we went and found 100 US manufacturers he could use. https://t.co/FCUCLJb1nr",
          "time": "2016-08-03T18:58:44"
         },
         {
          "favorite_count": 4129,
          "handle": "HillaryClinton",
          "retweet_count": 1706,
          "text": "When our SEALs took out bin Laden, they brought the terrorists' families to safety first. That's American honor. https://t.co/QV5zDf2iAg",
          "time": "2016-09-07T15:35:22"
         },
         {
          "favorite_count": 15298,
          "handle": "realDonaldTrump",
          "retweet_count": 4936,
          "text": "The statement put out yesterday by @FoxNews was a disgrace to good broadcasting and journalism. Who would ever say something so nasty &amp; dumb",
          "time": "2016-01-27T13:02:52"
         },
         {
          "favorite_count": 8725,
          "handle": "realDonaldTrump",
          "retweet_count": 3301,
          "text": "Ted Cruz is totally unelectable, if he even gets to run (born in Canada). Will loose big to Hillary. Polls show I beat Hillary easily! WIN!",
          "time": "2016-01-31T13:06:25"
         },
         {
          "favorite_count": 2573,
          "handle": "HillaryClinton",
          "retweet_count": 1175,
          "text": ".@lorellapraeli: HFA staffer. DREAMer. U.S. citizen. \n\nFirst time voter.\nhttps://t.co/zrTYJyvm5P",
          "time": "2016-06-04T18:37:19"
         },
         {
          "favorite_count": 5874,
          "handle": "HillaryClinton",
          "retweet_count": 2504,
          "text": "We need comprehensive immigration reform to keep families like Karla's together. #DemsInPhilly\nhttps://t.co/mc29cTNnSu",
          "time": "2016-07-26T00:07:45"
         },
         {
          "favorite_count": 19631,
          "handle": "realDonaldTrump",
          "retweet_count": 6269,
          "text": "Thank you @ScottWalker! #AmericaFirst \n#RNCinCLE https://t.co/k2Poy3gGvQ",
          "time": "2016-07-21T01:56:56"
         },
         {
          "favorite_count": 5930,
          "handle": "HillaryClinton",
          "retweet_count": 2587,
          "text": "This lifelong Republican wrote a letter to his daughter about why he's voting for Hillary this November: https://t.co/iqmnZaR7xN",
          "time": "2016-08-21T13:37:31"
         },
         {
          "favorite_count": 21317,
          "handle": "realDonaldTrump",
          "retweet_count": 5649,
          "text": "On Saturday a great man, Elie Wiesel, passed away.The world is a better place because of him and his belief that good can triumph over evil!",
          "time": "2016-07-03T20:47:51"
         },
         {
          "favorite_count": 4329,
          "handle": "HillaryClinton",
          "retweet_count": 2651,
          "text": "Donald Trump's ties to Russia may conflict with America's interests—but they're great for his bottom line. https://t.co/gYbm5HxfxG",
          "time": "2016-09-22T21:15:43"
         },
         {
          "favorite_count": 1188,
          "handle": "HillaryClinton",
          "retweet_count": 446,
          "text": "It’s Primary Day, Indiana. If you’re a Hoosier for Hillary, vote today: https://t.co/ZP0EculgG0",
          "time": "2016-05-03T20:52:03"
         },
         {
          "favorite_count": 8036,
          "handle": "HillaryClinton",
          "retweet_count": 2920,
          "text": "Donald Trump considers his shuttered casinos a success because HE made millions.\n\nA man who thinks that way has no business being president.",
          "time": "2016-06-12T00:27:13"
         },
         {
          "favorite_count": 991,
          "handle": "HillaryClinton",
          "retweet_count": 381,
          "text": "Mi México, and the world, lost a great singer, songwriter and human being. #RIP #JuanGabriel. #DivoDeJuarez https://t.co/EkZ7eduRfA",
          "time": "2016-08-29T16:40:01"
         },
         {
          "favorite_count": 15046,
          "handle": "realDonaldTrump",
          "retweet_count": 5184,
          "text": "Why would the great people of Florida vote for a guy who, as a Senator, never even shows up to vote - worst record. Marco Rubio is a joke!",
          "time": "2016-03-03T11:40:17"
         },
         {
          "favorite_count": 2456,
          "handle": "HillaryClinton",
          "retweet_count": 1122,
          "text": "\"No more families should have to go through what we have.\" —@EricaSmegs, daughter of Sandy Hook School principal\nhttps://t.co/DCVzc2qV9A",
          "time": "2016-04-20T19:01:59"
         },
         {
          "favorite_count": 22973,
          "handle": "realDonaldTrump",
          "retweet_count": 9570,
          "text": "Just announced that as many as 5000 ISIS fighters have infiltrated Europe. Also, many in U.S.  I TOLD YOU SO! I alone can fix this problem!",
          "time": "2016-03-24T15:52:11"
         },
         {
          "favorite_count": 39808,
          "handle": "realDonaldTrump",
          "retweet_count": 13979,
          "text": "Crooked Hillary Clinton is being protected by the media. She is not a talented person or politician. The dishonest media refuses to expose!",
          "time": "2016-08-14T16:50:51"
         },
         {
          "favorite_count": 10234,
          "handle": "realDonaldTrump",
          "retweet_count": 3548,
          "text": ".@meetthepress and @chucktodd did a 1 hour hit job on me today – totally biased and mostly false. Dishonest media!",
          "time": "2016-03-06T18:19:13"
         },
         {
          "favorite_count": 6578,
          "handle": "realDonaldTrump",
          "retweet_count": 2269,
          "text": "Sad sack @JebBush has just done another ad on me, with special interest money, saying I won't beat Hillary - I WILL. But he can't beat me.",
          "time": "2016-01-21T14:19:26"
         },
         {
          "favorite_count": 4189,
          "handle": "HillaryClinton",
          "retweet_count": 1389,
          "text": "\"I trust Hillary because...I've seen her lifelong devotion to our nation's children.\" —@FLOTUS https://t.co/A0S2FJlsbJ",
          "time": "2016-07-27T20:32:24"
         },
         {
          "favorite_count": 12291,
          "handle": "realDonaldTrump",
          "retweet_count": 3262,
          "text": "Look forward to being in Tampa this afternoon. Wonderful crowds. Thank you, Florida!",
          "time": "2016-03-14T15:24:15"
         }
        ]
       },
       "encoding": {
        "color": {
         "field": "handle",
         "type": "nominal"
        },
        "x": {
         "field": "time",
         "timeUnit": "yearmonth",
         "type": "temporal"
        },
        "y": {
         "aggregate": "mean",
         "field": "favorite_count",
         "type": "quantitative"
        }
       },
       "mark": "line"
      },
      "image/png": "[encoded data removed]",
      "text/plain": [
       "<altair.VegaLite object>"
      ]
     },
     "execution_count": 26,
     "metadata": {},
     "output_type": "execute_result"
    }
   ],
   "source": [
    "alt.Chart(subset).mark_line().encode(\n",
    "    alt.X(\"time:T\", timeUnit = \"yearmonth\"),\n",
    "    alt.Y(\"favorite_count\", aggregate = \"mean\"),\n",
    "    alt.Color(\"handle\")\n",
    ")"
   ]
  },
  {
   "cell_type": "markdown",
   "metadata": {},
   "source": [
    "## Word counting"
   ]
  },
  {
   "cell_type": "markdown",
   "metadata": {},
   "source": [
    "Create a new `DataFrame` named `counts_df` that has just the `handle` and `text` columns."
   ]
  },
  {
   "cell_type": "code",
   "execution_count": 27,
   "metadata": {
    "deletable": false,
    "nbgrader": {
     "checksum": "48d5ac8b2a17f21a69d029dbafee2964",
     "grade": false,
     "grade_id": "cell-c40d20d0ce6221e4",
     "locked": false,
     "schema_version": 1,
     "solution": true
    }
   },
   "outputs": [],
   "source": [
    "# YOUR CODE HERE\n",
    "counts_df = data[[\"handle\", \"text\"]]"
   ]
  },
  {
   "cell_type": "code",
   "execution_count": 28,
   "metadata": {
    "deletable": false,
    "editable": false,
    "nbgrader": {
     "checksum": "10686d9ee6b25793e76b3e29a3a2afaa",
     "grade": true,
     "grade_id": "cell-73854906221a2846",
     "locked": true,
     "points": 2,
     "schema_version": 1,
     "solution": false
    }
   },
   "outputs": [],
   "source": [
    "assert list(counts_df.columns)==['handle','text']\n",
    "assert len(counts_df)==6444"
   ]
  },
  {
   "cell_type": "markdown",
   "metadata": {},
   "source": [
    "Now run a word count on all of Trump's tweets using the `counts_df` `DataFrame`. Save the resulting word count `dict` in a variable named `trump_counts`:"
   ]
  },
  {
   "cell_type": "code",
   "execution_count": 29,
   "metadata": {
    "deletable": false,
    "nbgrader": {
     "checksum": "e9a8ed5030c1553b91aab723f985b1f0",
     "grade": false,
     "grade_id": "clinton-trump-y",
     "locked": false,
     "schema_version": 1,
     "solution": true
    }
   },
   "outputs": [],
   "source": [
    "trump_tweets = counts_df[counts_df[\"handle\"] == \"realDonaldTrump\"]\n",
    "trump_counts = {}\n",
    "for tweet in trump_tweets[\"text\"]:\n",
    "    count_words(yield_words(tweet), counts = trump_counts)"
   ]
  },
  {
   "cell_type": "code",
   "execution_count": 30,
   "metadata": {
    "deletable": false,
    "editable": false,
    "nbgrader": {
     "checksum": "cc37ab356527119d06cae4e37b70d15d",
     "grade": true,
     "grade_id": "clinton-trump-z",
     "locked": true,
     "points": 2,
     "schema_version": 1,
     "solution": false
    }
   },
   "outputs": [],
   "source": [
    "assert type(trump_counts)==dict\n",
    "assert abs(len(trump_counts)-6316) < 50"
   ]
  },
  {
   "cell_type": "markdown",
   "metadata": {},
   "source": [
    "Do the same for Clinton's tweets, saving the word counts in a variable named `clinton_counts`:"
   ]
  },
  {
   "cell_type": "code",
   "execution_count": 31,
   "metadata": {
    "deletable": false,
    "nbgrader": {
     "checksum": "82b4ade78fd635c7073f1d24a3251a5d",
     "grade": false,
     "grade_id": "clinton-trump-aa",
     "locked": false,
     "schema_version": 1,
     "solution": true
    }
   },
   "outputs": [],
   "source": [
    "# YOUR CODE HERE\n",
    "clinton_tweets = counts_df[counts_df[\"handle\"] == \"HillaryClinton\"]\n",
    "clinton_counts = {}\n",
    "for tweet in clinton_tweets[\"text\"]:\n",
    "    count_words(yield_words(tweet), counts = clinton_counts)"
   ]
  },
  {
   "cell_type": "code",
   "execution_count": 32,
   "metadata": {
    "deletable": false,
    "editable": false,
    "nbgrader": {
     "checksum": "b665237e5376b2bad56fbe24bd8dc66d",
     "grade": true,
     "grade_id": "clinton-trump-bb",
     "locked": true,
     "points": 2,
     "schema_version": 1,
     "solution": false
    }
   },
   "outputs": [],
   "source": [
    "assert type(clinton_counts)==dict\n",
    "assert abs(len(clinton_counts)-6039) < 50"
   ]
  },
  {
   "cell_type": "markdown",
   "metadata": {},
   "source": [
    "## Counts as DataFrames"
   ]
  },
  {
   "cell_type": "markdown",
   "metadata": {},
   "source": [
    "Let's convert the word count `dict`s to `DataFrame`s. Create two `DataFrames`, one for Trump (`trump_df`) and one for Clinton (`clinton_df`). In each `DataFrame` put the words in the first column and the `count` in the second. First create the `DataFrame` for Trump. Sort the rows by count with the largest count at the top:"
   ]
  },
  {
   "cell_type": "code",
   "execution_count": 33,
   "metadata": {
    "deletable": false,
    "nbgrader": {
     "checksum": "0f6bac6a9c4ba186ea81450a82ba6cfc",
     "grade": false,
     "grade_id": "clinton-trump-cc",
     "locked": false,
     "schema_version": 1,
     "solution": true
    }
   },
   "outputs": [],
   "source": [
    "# YOUR CODE HERE\n",
    "trump_df = pd.DataFrame({\"word\": list(trump_counts.keys()), \"count\": list(trump_counts.values())}, columns = [\"word\", \"count\"])\n",
    "trump_df = trump_df.sort_values(by = [\"count\"], ascending = False)\n",
    "trump_df = trump_df.reset_index()\n",
    "trump_df = trump_df.drop([\"index\"], axis = 1)\n"
   ]
  },
  {
   "cell_type": "code",
   "execution_count": 34,
   "metadata": {
    "deletable": false,
    "editable": false,
    "nbgrader": {
     "checksum": "f1f680d2e64b364fbdcef5296bb257cc",
     "grade": false,
     "grade_id": "clinton-trump-dd",
     "locked": true,
     "schema_version": 1,
     "solution": false
    }
   },
   "outputs": [
    {
     "data": {
      "text/html": [
       "<div>\n",
       "<style scoped>\n",
       "    .dataframe tbody tr th:only-of-type {\n",
       "        vertical-align: middle;\n",
       "    }\n",
       "\n",
       "    .dataframe tbody tr th {\n",
       "        vertical-align: top;\n",
       "    }\n",
       "\n",
       "    .dataframe thead th {\n",
       "        text-align: right;\n",
       "    }\n",
       "</style>\n",
       "<table border=\"1\" class=\"dataframe\">\n",
       "  <thead>\n",
       "    <tr style=\"text-align: right;\">\n",
       "      <th></th>\n",
       "      <th>word</th>\n",
       "      <th>count</th>\n",
       "    </tr>\n",
       "  </thead>\n",
       "  <tbody>\n",
       "    <tr>\n",
       "      <th>0</th>\n",
       "      <td>i</td>\n",
       "      <td>887</td>\n",
       "    </tr>\n",
       "    <tr>\n",
       "      <th>1</th>\n",
       "      <td>thank</td>\n",
       "      <td>522</td>\n",
       "    </tr>\n",
       "    <tr>\n",
       "      <th>2</th>\n",
       "      <td>great</td>\n",
       "      <td>466</td>\n",
       "    </tr>\n",
       "    <tr>\n",
       "      <th>3</th>\n",
       "      <td>trump</td>\n",
       "      <td>388</td>\n",
       "    </tr>\n",
       "    <tr>\n",
       "      <th>4</th>\n",
       "      <td>hillary</td>\n",
       "      <td>363</td>\n",
       "    </tr>\n",
       "  </tbody>\n",
       "</table>\n",
       "</div>"
      ],
      "text/plain": [
       "      word  count\n",
       "0        i    887\n",
       "1    thank    522\n",
       "2    great    466\n",
       "3    trump    388\n",
       "4  hillary    363"
      ]
     },
     "execution_count": 34,
     "metadata": {},
     "output_type": "execute_result"
    }
   ],
   "source": [
    "trump_df.head()"
   ]
  },
  {
   "cell_type": "code",
   "execution_count": 35,
   "metadata": {
    "deletable": false,
    "editable": false,
    "nbgrader": {
     "checksum": "fe90353b732c8b275df3c06e2b618944",
     "grade": false,
     "grade_id": "clinton-trump-ee",
     "locked": true,
     "schema_version": 1,
     "solution": false
    }
   },
   "outputs": [
    {
     "data": {
      "text/plain": [
       "6315"
      ]
     },
     "execution_count": 35,
     "metadata": {},
     "output_type": "execute_result"
    }
   ],
   "source": [
    "len(trump_df)"
   ]
  },
  {
   "cell_type": "code",
   "execution_count": 36,
   "metadata": {
    "deletable": false,
    "editable": false,
    "nbgrader": {
     "checksum": "f733e07a7b17ae4e503f70036f60c19a",
     "grade": true,
     "grade_id": "clinton-trump-ff",
     "locked": true,
     "points": 2,
     "schema_version": 1,
     "solution": false
    }
   },
   "outputs": [],
   "source": [
    "assert list(trump_df.columns)==['word', 'count']\n",
    "assert trump_df.word.dtype.name=='object'\n",
    "assert trump_df['count'].dtype.name=='int64'\n",
    "assert trump_df.iloc[0,1]==887\n",
    "assert trump_df.iloc[2,0]=='great'"
   ]
  },
  {
   "cell_type": "markdown",
   "metadata": {},
   "source": [
    "Now create the `DataFrame` for Clinton, sorting the rows in the same manner:"
   ]
  },
  {
   "cell_type": "code",
   "execution_count": 37,
   "metadata": {
    "deletable": false,
    "nbgrader": {
     "checksum": "5643b7aa13272dad86dffd51f8802bfa",
     "grade": false,
     "grade_id": "clinton-trump-gg",
     "locked": false,
     "schema_version": 1,
     "solution": true
    }
   },
   "outputs": [],
   "source": [
    "clinton_df = pd.DataFrame({\"word\": list(clinton_counts.keys()), \"count\": list(clinton_counts.values())}, columns = [\"word\", \"count\"])\n",
    "clinton_df = clinton_df.sort_values(by = [\"count\"], ascending = False)\n",
    "clinton_df = clinton_df.reset_index()\n",
    "clinton_df = clinton_df.drop([\"index\"], axis = 1)"
   ]
  },
  {
   "cell_type": "code",
   "execution_count": 38,
   "metadata": {
    "deletable": false,
    "editable": false,
    "nbgrader": {
     "checksum": "bdfdbebccebe2f01fadd610697c2e57f",
     "grade": false,
     "grade_id": "clinton-trump-hh",
     "locked": true,
     "schema_version": 1,
     "solution": false
    }
   },
   "outputs": [
    {
     "data": {
      "text/html": [
       "<div>\n",
       "<style scoped>\n",
       "    .dataframe tbody tr th:only-of-type {\n",
       "        vertical-align: middle;\n",
       "    }\n",
       "\n",
       "    .dataframe tbody tr th {\n",
       "        vertical-align: top;\n",
       "    }\n",
       "\n",
       "    .dataframe thead th {\n",
       "        text-align: right;\n",
       "    }\n",
       "</style>\n",
       "<table border=\"1\" class=\"dataframe\">\n",
       "  <thead>\n",
       "    <tr style=\"text-align: right;\">\n",
       "      <th></th>\n",
       "      <th>word</th>\n",
       "      <th>count</th>\n",
       "    </tr>\n",
       "  </thead>\n",
       "  <tbody>\n",
       "    <tr>\n",
       "      <th>0</th>\n",
       "      <td>trump</td>\n",
       "      <td>916</td>\n",
       "    </tr>\n",
       "    <tr>\n",
       "      <th>1</th>\n",
       "      <td>'s</td>\n",
       "      <td>808</td>\n",
       "    </tr>\n",
       "    <tr>\n",
       "      <th>2</th>\n",
       "      <td>hillary</td>\n",
       "      <td>454</td>\n",
       "    </tr>\n",
       "    <tr>\n",
       "      <th>3</th>\n",
       "      <td>i</td>\n",
       "      <td>437</td>\n",
       "    </tr>\n",
       "    <tr>\n",
       "      <th>4</th>\n",
       "      <td>we</td>\n",
       "      <td>433</td>\n",
       "    </tr>\n",
       "  </tbody>\n",
       "</table>\n",
       "</div>"
      ],
      "text/plain": [
       "      word  count\n",
       "0    trump    916\n",
       "1       's    808\n",
       "2  hillary    454\n",
       "3        i    437\n",
       "4       we    433"
      ]
     },
     "execution_count": 38,
     "metadata": {},
     "output_type": "execute_result"
    }
   ],
   "source": [
    "clinton_df.head()"
   ]
  },
  {
   "cell_type": "code",
   "execution_count": 39,
   "metadata": {
    "deletable": false,
    "editable": false,
    "nbgrader": {
     "checksum": "90f7129a96702c60a2579c109b5302bb",
     "grade": false,
     "grade_id": "clinton-trump-ii",
     "locked": true,
     "schema_version": 1,
     "solution": false
    }
   },
   "outputs": [
    {
     "data": {
      "text/plain": [
       "6038"
      ]
     },
     "execution_count": 39,
     "metadata": {},
     "output_type": "execute_result"
    }
   ],
   "source": [
    "len(clinton_df)"
   ]
  },
  {
   "cell_type": "code",
   "execution_count": 40,
   "metadata": {
    "deletable": false,
    "editable": false,
    "nbgrader": {
     "checksum": "799491158e2923562fcf6316d4fc03aa",
     "grade": true,
     "grade_id": "clinton-trump-jj",
     "locked": true,
     "points": 2,
     "schema_version": 1,
     "solution": false
    }
   },
   "outputs": [],
   "source": [
    "assert list(clinton_df.columns)==['word', 'count']\n",
    "assert clinton_df.word.dtype.name=='object'\n",
    "assert clinton_df['count'].dtype.name=='int64'\n",
    "assert clinton_df.iloc[0,1]==916\n",
    "assert clinton_df.iloc[0,0]=='trump'"
   ]
  },
  {
   "cell_type": "markdown",
   "metadata": {},
   "source": [
    "## Visualizing counts"
   ]
  },
  {
   "cell_type": "markdown",
   "metadata": {},
   "source": [
    "Use the `trump_df` `DataFrame` to visualize the counts of the top 20 words (use `iloc` to extract the top 20 words), with:\n",
    "\n",
    "* 'count` for x;\n",
    "* `word` for y; and\n",
    "* Bar marks"
   ]
  },
  {
   "cell_type": "code",
   "execution_count": 41,
   "metadata": {
    "deletable": false,
    "nbgrader": {
     "checksum": "f81aad1a4b1c2fad44ffe9f1d84ca312",
     "grade": true,
     "grade_id": "clinton-trump-kk",
     "locked": false,
     "points": 2,
     "schema_version": 1,
     "solution": true
    }
   },
   "outputs": [
    {
     "data": {
      "application/vnd.vegalite.v1+json": {
       "$schema": "https://vega.github.io/schema/vega-lite/v1.2.1.json",
       "data": {
        "values": [
         {
          "count": 887,
          "word": "i"
         },
         {
          "count": 522,
          "word": "thank"
         },
         {
          "count": 466,
          "word": "great"
         },
         {
          "count": 388,
          "word": "trump"
         },
         {
          "count": 363,
          "word": "hillary"
         },
         {
          "count": 350,
          "word": "trump2016"
         },
         {
          "count": 323,
          "word": "@realdonaldtrump"
         },
         {
          "count": 265,
          "word": "the"
         },
         {
          "count": 260,
          "word": "amp"
         },
         {
          "count": 255,
          "word": "makeamericagreatagain"
         },
         {
          "count": 250,
          "word": "'s"
         },
         {
          "count": 236,
          "word": "n't"
         },
         {
          "count": 224,
          "word": "people"
         },
         {
          "count": 217,
          "word": "america"
         },
         {
          "count": 209,
          "word": "clinton"
         },
         {
          "count": 199,
          "word": "cruz"
         },
         {
          "count": 190,
          "word": "new"
         },
         {
          "count": 186,
          "word": "crooked"
         },
         {
          "count": 163,
          "word": "we"
         },
         {
          "count": 136,
          "word": "big"
         }
        ]
       },
       "encoding": {
        "x": {
         "field": "count",
         "type": "quantitative"
        },
        "y": {
         "field": "word",
         "sort": {
          "field": "count",
          "op": "sum",
          "order": "descending"
         },
         "type": "nominal"
        }
       },
       "mark": "bar"
      },
      "image/png": "[encoded data removed]",
      "text/plain": [
       "<altair.VegaLite object>"
      ]
     },
     "execution_count": 41,
     "metadata": {},
     "output_type": "execute_result"
    }
   ],
   "source": [
    "top_20_DT = trump_df.iloc[0:20]\n",
    "alt.Chart(top_20_DT).mark_bar().encode(\n",
    "    alt.X(\"count\"),\n",
    "    alt.Y(\"word\", sort = alt.SortField(field = \"count\", op = \"sum\", order = \"descending\"))\n",
    ")"
   ]
  },
  {
   "cell_type": "markdown",
   "metadata": {},
   "source": [
    "Use the `clinton_df` `DataFrame` to visualize the counts of the top 20 words (use `iloc` to extract the top 20 words), with::\n",
    "\n",
    "* 'count` for x;\n",
    "* `word` for y; and\n",
    "* Bar marks"
   ]
  },
  {
   "cell_type": "code",
   "execution_count": 42,
   "metadata": {
    "deletable": false,
    "nbgrader": {
     "checksum": "b8289a27af417548f803de655b583765",
     "grade": true,
     "grade_id": "clinton-trump-ll",
     "locked": false,
     "points": 2,
     "schema_version": 1,
     "solution": true
    }
   },
   "outputs": [
    {
     "data": {
      "application/vnd.vegalite.v1+json": {
       "$schema": "https://vega.github.io/schema/vega-lite/v1.2.1.json",
       "data": {
        "values": [
         {
          "count": 916,
          "word": "trump"
         },
         {
          "count": 808,
          "word": "'s"
         },
         {
          "count": 454,
          "word": "hillary"
         },
         {
          "count": 437,
          "word": "i"
         },
         {
          "count": 433,
          "word": "we"
         },
         {
          "count": 408,
          "word": "donald"
         },
         {
          "count": 398,
          "word": "’s"
         },
         {
          "count": 308,
          "word": "—hillary"
         },
         {
          "count": 279,
          "word": "president"
         },
         {
          "count": 238,
          "word": "n't"
         },
         {
          "count": 214,
          "word": "america"
         },
         {
          "count": 199,
          "word": "people"
         },
         {
          "count": 193,
          "word": "n’t"
         },
         {
          "count": 189,
          "word": "let"
         },
         {
          "count": 178,
          "word": "the"
         },
         {
          "count": 162,
          "word": "it"
         },
         {
          "count": 142,
          "word": "families"
         },
         {
          "count": 140,
          "word": "women"
         },
         {
          "count": 130,
          "word": "need"
         },
         {
          "count": 129,
          "word": "americans"
         }
        ]
       },
       "encoding": {
        "x": {
         "field": "count",
         "type": "quantitative"
        },
        "y": {
         "field": "word",
         "sort": {
          "field": "count",
          "op": "sum",
          "order": "descending"
         },
         "type": "nominal"
        }
       },
       "mark": "bar"
      },
      "image/png": "[encoded data removed]",
      "text/plain": [
       "<altair.VegaLite object>"
      ]
     },
     "execution_count": 42,
     "metadata": {},
     "output_type": "execute_result"
    }
   ],
   "source": [
    "top_20_HRC = clinton_df.iloc[0:20]\n",
    "alt.Chart(top_20_HRC).mark_bar().encode(\n",
    "    alt.X(\"count\"),\n",
    "    alt.Y(\"word\", sort = alt.SortField(field = \"count\", op = \"sum\", order = \"descending\"))\n",
    ")"
   ]
  }
 ],
 "metadata": {
  "kernelspec": {
   "display_name": "Python 3",
   "language": "python",
   "name": "python3"
  },
  "language_info": {
   "codemirror_mode": {
    "name": "ipython",
    "version": 3
   },
   "file_extension": ".py",
   "mimetype": "text/x-python",
   "name": "python",
   "nbconvert_exporter": "python",
   "pygments_lexer": "ipython3",
   "version": "3.6.3"
  }
 },
 "nbformat": 4,
 "nbformat_minor": 2
}
