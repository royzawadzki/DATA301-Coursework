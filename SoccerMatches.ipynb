{
 "cells": [
  {
   "cell_type": "markdown",
   "metadata": {},
   "source": [
    "# Simulating Soccer Matches"
   ]
  },
  {
   "cell_type": "markdown",
   "metadata": {},
   "source": [
    "In this notebook, you will near to simulate soccer matches using the Poisson distribution. This is a very simple, model but shows how simple generative models can simulate real word situations."
   ]
  },
  {
   "cell_type": "markdown",
   "metadata": {},
   "source": [
    "## Imports"
   ]
  },
  {
   "cell_type": "code",
   "execution_count": 1,
   "metadata": {},
   "outputs": [],
   "source": [
    "import numpy as np\n",
    "from matplotlib import pyplot as plt\n",
    "%matplotlib inline"
   ]
  },
  {
   "cell_type": "markdown",
   "metadata": {},
   "source": [
    "## Model"
   ]
  },
  {
   "cell_type": "markdown",
   "metadata": {},
   "source": [
    "Here is the basic model we are going to work with:\n",
    "\n",
    "* There are two teams (1 and 2) that are going to meet in the finals of the world cup.\n",
    "* All we know about those teams is the average number of goals that have scored in each past game.\n",
    "* You are going to model the number of goals they score per game using a Poisson distribution.\n",
    "* By drawing samples from the appropriate Poisson distribution for each team, you will simulate the point spread.\n",
    "* Using the point spread, you will calculate the probability of each team winning or a tie.\n",
    "\n",
    "Here are the parameters of the model:"
   ]
  },
  {
   "cell_type": "code",
   "execution_count": 2,
   "metadata": {
    "deletable": false,
    "editable": false,
    "nbgrader": {
     "checksum": "7e9e5656280b13485b84b2f4145a7b49",
     "grade": false,
     "grade_id": "soccer-matches-a",
     "locked": true,
     "schema_version": 1,
     "solution": false
    }
   },
   "outputs": [],
   "source": [
    "t1_avg = 3 # team 1 average goals per game\n",
    "t2_avg = 2 # team 2 average goals per game\n",
    "n = 500    # number of simulated games"
   ]
  },
  {
   "cell_type": "markdown",
   "metadata": {},
   "source": [
    "Simulate `n` games for each team using a Poisson distribution $Pois(\\lambda)$ with $\\lambda$ chosen appropriately for the team. Store the number of goals for each team in a NumPy array named `sim1` and `sim2`:"
   ]
  },
  {
   "cell_type": "code",
   "execution_count": 3,
   "metadata": {
    "deletable": false,
    "nbgrader": {
     "checksum": "90c0a1197758ea898838d29fea665ad5",
     "grade": false,
     "grade_id": "soccer-matches-b",
     "locked": false,
     "schema_version": 1,
     "solution": true
    }
   },
   "outputs": [],
   "source": [
    "np.random.seed(0) # keep this line to reset the random number generator\n",
    "sim1 = np.random.poisson(t1_avg, n)\n",
    "sim2 = np.random.poisson(t2_avg, n)"
   ]
  },
  {
   "cell_type": "code",
   "execution_count": 4,
   "metadata": {
    "deletable": false,
    "editable": false,
    "nbgrader": {
     "checksum": "88f60060b57e08da291aea81f1befc0c",
     "grade": true,
     "grade_id": "soccer-matches-c",
     "locked": true,
     "points": 2,
     "schema_version": 1,
     "solution": false
    }
   },
   "outputs": [],
   "source": [
    "assert len(sim1)==n\n",
    "assert len(sim2)==n\n",
    "assert sim1.dtype==np.dtype(int)\n",
    "assert sim2.dtype==np.dtype(int)\n",
    "assert np.abs(sim1.mean()-t1_avg) < 0.05\n",
    "assert np.abs(sim2.mean()-t2_avg) < 0.05"
   ]
  },
  {
   "cell_type": "markdown",
   "metadata": {},
   "source": [
    "Calculate an array of point spreads ($Team_2-Team_1$) for the `n` games. Save your array as the variable `spread`."
   ]
  },
  {
   "cell_type": "code",
   "execution_count": 5,
   "metadata": {
    "deletable": false,
    "nbgrader": {
     "checksum": "4029f2780f3f394fd1cef8babc506305",
     "grade": false,
     "grade_id": "soccer-matches-d",
     "locked": false,
     "schema_version": 1,
     "solution": true
    }
   },
   "outputs": [],
   "source": [
    "spread = np.subtract(sim2,sim1)"
   ]
  },
  {
   "cell_type": "code",
   "execution_count": 6,
   "metadata": {
    "deletable": false,
    "editable": false,
    "nbgrader": {
     "checksum": "16c7afde045540e430044cd31f426bd3",
     "grade": true,
     "grade_id": "soccer-matches-e",
     "locked": true,
     "points": 2,
     "schema_version": 1,
     "solution": false
    }
   },
   "outputs": [],
   "source": [
    "assert len(spread)==n\n",
    "assert spread.dtype==np.dtype(int)\n",
    "assert np.allclose(spread,np.subtract(sim2, sim1))"
   ]
  },
  {
   "cell_type": "markdown",
   "metadata": {},
   "source": [
    "Visualize the point spread by making a histogram using Matplotlib. Label your axes, use a grid and customize the bins so that each bin shows a particular integer valued point spread."
   ]
  },
  {
   "cell_type": "code",
   "execution_count": 7,
   "metadata": {
    "deletable": false,
    "nbgrader": {
     "checksum": "ad2fceb9dc74888bd599d880186ba2a6",
     "grade": true,
     "grade_id": "soccer-matches-f",
     "locked": false,
     "points": 2,
     "schema_version": 1,
     "solution": true
    }
   },
   "outputs": [
    {
     "data": {
      "text/plain": [
       "Text(0,0.5,'count')"
      ]
     },
     "execution_count": 7,
     "metadata": {},
     "output_type": "execute_result"
    },
    {
     "data": {
      "image/png": "[encoded data removed]",
      "text/plain": [
       "<matplotlib.figure.Figure at 0x7fcef44e8cc0>"
      ]
     },
     "metadata": {},
     "output_type": "display_data"
    }
   ],
   "source": [
    "plt.hist(spread, bins=30)\n",
    "plt.grid(True)\n",
    "plt.title(\"Point Spread of Team2 - Team1\")\n",
    "plt.xlabel(\"point spread\")\n",
    "plt.ylabel(\"count\")"
   ]
  },
  {
   "cell_type": "markdown",
   "metadata": {},
   "source": [
    "Use the array of simulated point spreads to calculate the probabilities that each team will win or reach a tie. Print these probabilities, along with the team numbers."
   ]
  },
  {
   "cell_type": "code",
   "execution_count": 8,
   "metadata": {
    "deletable": false,
    "nbgrader": {
     "checksum": "7d853b0edcaaf9b3cc1b2fac4fc854b4",
     "grade": true,
     "grade_id": "soccer-matches-g",
     "locked": false,
     "points": 4,
     "schema_version": 1,
     "solution": true
    }
   },
   "outputs": [
    {
     "name": "stdout",
     "output_type": "stream",
     "text": [
      "Probability Team 2 will win:  0.254\n",
      "Probability Team 1 and Team 2 will tie:  0.188\n",
      "Probability Team 1 will win:  0.558\n"
     ]
    }
   ],
   "source": [
    "print(\"Probability Team 2 will win: \", len(spread[spread > 0])/len(spread))\n",
    "print(\"Probability Team 1 and Team 2 will tie: \", len(spread[spread == 0])/len(spread))\n",
    "print(\"Probability Team 1 will win: \", len(spread[spread < 0])/len(spread))"
   ]
  }
 ],
 "metadata": {
  "kernelspec": {
   "display_name": "Python 3",
   "language": "python",
   "name": "python3"
  },
  "language_info": {
   "codemirror_mode": {
    "name": "ipython",
    "version": 3
   },
   "file_extension": ".py",
   "mimetype": "text/x-python",
   "name": "python",
   "nbconvert_exporter": "python",
   "pygments_lexer": "ipython3",
   "version": "3.6.3"
  }
 },
 "nbformat": 4,
 "nbformat_minor": 2
}
