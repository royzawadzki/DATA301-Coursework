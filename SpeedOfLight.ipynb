{
 "cells": [
  {
   "cell_type": "markdown",
   "metadata": {},
   "source": [
    "# Measuring the Speed of Light"
   ]
  },
  {
   "cell_type": "markdown",
   "metadata": {},
   "source": [
    "In the late 1800s, Simon Newcomb performed a series of measurements of the speed of light. In this notebook, you will take his raw data and perform some simple analysis and visualization of this data using Pandas."
   ]
  },
  {
   "cell_type": "code",
   "execution_count": 1,
   "metadata": {},
   "outputs": [],
   "source": [
    "import numpy as np\n",
    "import pandas as pd\n",
    "from matplotlib import pyplot as plt\n",
    "%matplotlib inline"
   ]
  },
  {
   "cell_type": "markdown",
   "metadata": {},
   "source": [
    "## Raw data"
   ]
  },
  {
   "cell_type": "markdown",
   "metadata": {},
   "source": [
    "Newcomb measured how long it took (in nanoseconds) for light to travel $7442$ meters. His raw measurements are reported as deviations from $24,800$ nanoseconds. Here is a file with the raw data. This comes from Stigler (1977)."
   ]
  },
  {
   "cell_type": "code",
   "execution_count": 2,
   "metadata": {
    "deletable": false,
    "editable": false,
    "nbgrader": {
     "checksum": "b63dc14170d701f5f031a79c2fc4de77",
     "grade": false,
     "grade_id": "speedoflight-a",
     "locked": true,
     "schema_version": 1,
     "solution": false
    }
   },
   "outputs": [],
   "source": [
    "offset = 24800 # add this to raw data to get times in nanoseconds\n",
    "distance = 7442 # distance in meters traveled"
   ]
  },
  {
   "cell_type": "code",
   "execution_count": 3,
   "metadata": {
    "deletable": false,
    "editable": false,
    "nbgrader": {
     "checksum": "1c891ef3f746a854c726bd34f47aac03",
     "grade": false,
     "grade_id": "speedoflight-b",
     "locked": true,
     "schema_version": 1,
     "solution": false
    }
   },
   "outputs": [
    {
     "name": "stdout",
     "output_type": "stream",
     "text": [
      "Overwriting speed_of_light.txt\n"
     ]
    }
   ],
   "source": [
    "%%writefile speed_of_light.txt\n",
    "28 26 33 24 34 -44 27 16 40 -2\n",
    "29 22 24 21 25 30 23 29 31 19\n",
    "24 20 36 32 36 28 25 21 28 29\n",
    "37 25 28 26 30 32 36 26 30 22\n",
    "36 23 27 27 28 27 31 27 26 33\n",
    "26 32 32 24 39 28 24 25 32 25\n",
    "29 27 28 29 16 23"
   ]
  },
  {
   "cell_type": "markdown",
   "metadata": {},
   "source": [
    "## Reading the data"
   ]
  },
  {
   "cell_type": "markdown",
   "metadata": {},
   "source": [
    "Read the raw data in as a Pandas `DataFrame`:\n",
    "\n",
    "* Create a column named `raw` with integer valued deviations.\n",
    "* Name the `DataFrame` `data`."
   ]
  },
  {
   "cell_type": "code",
   "execution_count": 4,
   "metadata": {
    "deletable": false,
    "nbgrader": {
     "checksum": "5f711d3ff18d445a3cba45117284356a",
     "grade": false,
     "grade_id": "speedoflight-c",
     "locked": false,
     "schema_version": 1,
     "solution": true
    }
   },
   "outputs": [],
   "source": [
    "with open(\"speed_of_light.txt\") as f:\n",
    "    lines = f.readlines()\n",
    "\n",
    "lines = [x.strip() for x in lines]\n",
    "data_array = []\n",
    "\n",
    "for line in lines:\n",
    "    line = line.split()\n",
    "    for number in line:\n",
    "        data_array.append(number)\n",
    "    \n",
    "\n",
    "data = pd.DataFrame(data_array, columns = [\"raw\"],dtype = int)"
   ]
  },
  {
   "cell_type": "code",
   "execution_count": 5,
   "metadata": {
    "deletable": false,
    "editable": false,
    "nbgrader": {
     "checksum": "cd37fb6cc709a442e086acfb93e190dc",
     "grade": true,
     "grade_id": "speedoflight-d",
     "locked": true,
     "points": 2,
     "schema_version": 1,
     "solution": false
    }
   },
   "outputs": [],
   "source": [
    "assert list(data.columns)==['raw']\n",
    "assert len(data)==66\n",
    "assert data.raw.dtype==np.dtype(int)"
   ]
  },
  {
   "cell_type": "markdown",
   "metadata": {},
   "source": [
    "## Transforming the data"
   ]
  },
  {
   "cell_type": "markdown",
   "metadata": {},
   "source": [
    "Create two new columns in the `DataFrame`:\n",
    "\n",
    "* A column named `time` that has the times in nanoseconds.\n",
    "* A column named `speed` that has the speeds in meters/nanosecond."
   ]
  },
  {
   "cell_type": "code",
   "execution_count": 6,
   "metadata": {
    "deletable": false,
    "nbgrader": {
     "checksum": "da9cc978fe2e3b53868f09ece6492588",
     "grade": false,
     "grade_id": "speedoflight-e",
     "locked": false,
     "schema_version": 1,
     "solution": true
    }
   },
   "outputs": [],
   "source": [
    "data[\"time\"] = data[\"raw\"] + offset\n",
    "data[\"speed\"] = distance / data[\"time\"]"
   ]
  },
  {
   "cell_type": "code",
   "execution_count": 7,
   "metadata": {
    "deletable": false,
    "editable": false,
    "nbgrader": {
     "checksum": "b32f8233916263928eb543462727e9e1",
     "grade": true,
     "grade_id": "speedoflight-f",
     "locked": true,
     "points": 2,
     "schema_version": 1,
     "solution": false
    }
   },
   "outputs": [],
   "source": [
    "assert list(data.columns)==['raw', 'time', 'speed']\n",
    "assert abs(data.time.mean()-24826.0)<1.0\n",
    "assert abs(data.speed.mean()-0.3)<0.1\n",
    "assert data.time.dtype==np.dtype(int)\n",
    "assert data.speed.dtype==np.dtype(float)"
   ]
  },
  {
   "cell_type": "markdown",
   "metadata": {},
   "source": [
    "## Visualization and outlier removal"
   ]
  },
  {
   "cell_type": "markdown",
   "metadata": {},
   "source": [
    "Make an appropriately labeled (with units) histogram of the `time` data."
   ]
  },
  {
   "cell_type": "code",
   "execution_count": 8,
   "metadata": {
    "deletable": false,
    "nbgrader": {
     "checksum": "20d4d6d4ed0e425a7a93d2a047708f7b",
     "grade": true,
     "grade_id": "speedoflight-g",
     "locked": false,
     "points": 2,
     "schema_version": 1,
     "solution": true
    }
   },
   "outputs": [
    {
     "data": {
      "image/png": "[encoded data removed]",
      "text/plain": [
       "<matplotlib.figure.Figure at 0x7f3f76270588>"
      ]
     },
     "metadata": {},
     "output_type": "display_data"
    }
   ],
   "source": [
    "plt.hist(\"time\", bins = 30, data = data)\n",
    "plt.title(\"Time to Travel 7442 meters\")\n",
    "plt.xlabel(\"Time (nanoseconds)\")\n",
    "plt.ylabel(\"Count\")\n",
    "ax = plt.gca()\n",
    "ax.grid(axis = \"y\")"
   ]
  },
  {
   "cell_type": "markdown",
   "metadata": {},
   "source": [
    "Make an appropriately labeled (with units) histogram of the speed data:"
   ]
  },
  {
   "cell_type": "code",
   "execution_count": 9,
   "metadata": {
    "deletable": false,
    "nbgrader": {
     "checksum": "e98f8789956754a7ed9d56e47cc544c0",
     "grade": true,
     "grade_id": "speedoflight-h",
     "locked": false,
     "points": 2,
     "schema_version": 1,
     "solution": true
    }
   },
   "outputs": [
    {
     "data": {
      "image/png": "[encoded data removed]",
      "text/plain": [
       "<matplotlib.figure.Figure at 0x7f3fa748b908>"
      ]
     },
     "metadata": {},
     "output_type": "display_data"
    }
   ],
   "source": [
    "plt.hist(\"speed\", bins = 30, data = data)\n",
    "plt.title(\"Observed Speed of Light\")\n",
    "plt.xlabel(\"Speed (meters/nanoseconds)\")\n",
    "plt.ylabel(\"Count\")\n",
    "ax = plt.gca()\n",
    "ax.grid(axis = \"y\")"
   ]
  },
  {
   "cell_type": "markdown",
   "metadata": {},
   "source": [
    "Create a new `DataFrame` named `data2` that has the outliers removed:"
   ]
  },
  {
   "cell_type": "code",
   "execution_count": 10,
   "metadata": {
    "deletable": false,
    "nbgrader": {
     "checksum": "d696a54f918ab654de611246cf480a19",
     "grade": true,
     "grade_id": "speedoflight-i",
     "locked": false,
     "points": 2,
     "schema_version": 1,
     "solution": true
    }
   },
   "outputs": [],
   "source": [
    "data2 = data[(data[\"time\"] > 24805) & (data[\"speed\"] < .3)]"
   ]
  },
  {
   "cell_type": "markdown",
   "metadata": {},
   "source": [
    "Make an appropriately labeled (with units) histogram of the speed data with outliers removed:"
   ]
  },
  {
   "cell_type": "code",
   "execution_count": 11,
   "metadata": {
    "deletable": false,
    "nbgrader": {
     "checksum": "426892eec998e61af6b92ff90cd75c2d",
     "grade": true,
     "grade_id": "speedoflight-j",
     "locked": false,
     "points": 2,
     "schema_version": 1,
     "solution": true
    }
   },
   "outputs": [
    {
     "data": {
      "image/png": "[encoded data removed]",
      "text/plain": [
       "<matplotlib.figure.Figure at 0x7f3fa742ceb8>"
      ]
     },
     "metadata": {},
     "output_type": "display_data"
    }
   ],
   "source": [
    "plt.hist(\"speed\", bins = 20, data = data2)\n",
    "plt.title(\"Observed Speed of Light (Outliers Removed)\")\n",
    "plt.xlabel(\"Speed (meters/nanoseconds)\")\n",
    "plt.ylabel(\"Count\")\n",
    "ax = plt.gca()\n",
    "ax.grid(axis = \"y\")"
   ]
  },
  {
   "cell_type": "markdown",
   "metadata": {},
   "source": [
    "## Bootstrapped mean"
   ]
  },
  {
   "cell_type": "markdown",
   "metadata": {},
   "source": [
    "Here is the actual speed of light in meters/nanoseconds:"
   ]
  },
  {
   "cell_type": "code",
   "execution_count": 12,
   "metadata": {},
   "outputs": [],
   "source": [
    "actual = 299792458.0*1e-9"
   ]
  },
  {
   "cell_type": "markdown",
   "metadata": {},
   "source": [
    "Compute the (`n=500`) bootstrapped distribution of the mean speed of light as a NumPy array named `means`. Use the `sample` method of the Pandas `Series/DataFrame` object to do this."
   ]
  },
  {
   "cell_type": "code",
   "execution_count": 13,
   "metadata": {
    "deletable": false,
    "nbgrader": {
     "checksum": "468c481bac4f4cefabe91e3df60e25cd",
     "grade": true,
     "grade_id": "speedoflight-k",
     "locked": false,
     "points": 2,
     "schema_version": 1,
     "solution": true
    }
   },
   "outputs": [],
   "source": [
    "result = []\n",
    "for i in range(500):\n",
    "    sample = data2[\"speed\"].sample(len(data2[\"speed\"]), replace = True)\n",
    "    result.append(sample.mean())"
   ]
  },
  {
   "cell_type": "markdown",
   "metadata": {},
   "source": [
    "Make an appropriately labeled histogram of the mean distribution that includes a vertical line where the actual speed of light is. Print the mean and 95% confidence interval of this distribution. Does this experiment agree with the actual speed of light?"
   ]
  },
  {
   "cell_type": "code",
   "execution_count": 14,
   "metadata": {
    "deletable": false,
    "nbgrader": {
     "checksum": "13098b87787b45b54159feb2137c5347",
     "grade": true,
     "grade_id": "speedoflight-l",
     "locked": false,
     "points": 2,
     "schema_version": 1,
     "solution": true
    }
   },
   "outputs": [
    {
     "data": {
      "text/plain": [
       "<matplotlib.lines.Line2D at 0x7f3fa72b2940>"
      ]
     },
     "execution_count": 14,
     "metadata": {},
     "output_type": "execute_result"
    },
    {
     "data": {
      "image/png": "[encoded data removed]",
      "text/plain": [
       "<matplotlib.figure.Figure at 0x7f3fa7341c18>"
      ]
     },
     "metadata": {},
     "output_type": "display_data"
    }
   ],
   "source": [
    "fig = plt.figure(figsize = (9,5))\n",
    "plt.hist(result)\n",
    "plt.title(\"Bootstrap of Average Speed of Light\")\n",
    "plt.xlabel(\"Mean Speed of Light\")\n",
    "plt.ylabel(\"Count\")\n",
    "plt.axvline(x= actual, color = \"red\")\n",
    "#plt.xticks((0, len(result)), (min(result), max(result)))"
   ]
  },
  {
   "cell_type": "code",
   "execution_count": 15,
   "metadata": {},
   "outputs": [
    {
     "name": "stdout",
     "output_type": "stream",
     "text": [
      "Mean:  0.299745947445\n",
      "95% confidence interval: [ 0.29973092  0.29976064]\n"
     ]
    }
   ],
   "source": [
    "print(\"Mean: \", np.array(result).mean())\n",
    "print(\"95% confidence interval:\", np.percentile(result, (2.5,97.5)))"
   ]
  },
  {
   "cell_type": "markdown",
   "metadata": {},
   "source": [
    "Our 95% confidence interval is centered at a mean .29976 which is a bit off from the actual speed of light. Furthermore, the lower and upper bounds of the confidence interval do not contain the actual speed of light. It seems like the experiment disagrees."
   ]
  }
 ],
 "metadata": {
  "kernelspec": {
   "display_name": "Python 3",
   "language": "python",
   "name": "python3"
  },
  "language_info": {
   "codemirror_mode": {
    "name": "ipython",
    "version": 3
   },
   "file_extension": ".py",
   "mimetype": "text/x-python",
   "name": "python",
   "nbconvert_exporter": "python",
   "pygments_lexer": "ipython3",
   "version": "3.6.3"
  }
 },
 "nbformat": 4,
 "nbformat_minor": 2
}
