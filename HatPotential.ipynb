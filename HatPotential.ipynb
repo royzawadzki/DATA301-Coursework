{
 "cells": [
  {
   "cell_type": "markdown",
   "metadata": {},
   "source": [
    "# Optimization and the Hat Potential"
   ]
  },
  {
   "cell_type": "markdown",
   "metadata": {},
   "source": [
    "## Imports"
   ]
  },
  {
   "cell_type": "code",
   "execution_count": 1,
   "metadata": {},
   "outputs": [],
   "source": [
    "%matplotlib inline\n",
    "import matplotlib.pyplot as plt\n",
    "import numpy as np\n",
    "import scipy.optimize as opt"
   ]
  },
  {
   "cell_type": "markdown",
   "metadata": {},
   "source": [
    "## Hat potential"
   ]
  },
  {
   "cell_type": "markdown",
   "metadata": {},
   "source": [
    "The following potential is often used in Physics and other fields to describe symmetry breaking and is often known as the \"hat potential\":\n",
    "\n",
    "$$ V(x) = -a x^2 + b x^4 $$\n",
    "\n",
    "Write a function `hat(x,a,b)` that returns the value of this function:"
   ]
  },
  {
   "cell_type": "code",
   "execution_count": 2,
   "metadata": {
    "deletable": false,
    "nbgrader": {
     "checksum": "2cbcf41ff21636aea90ae28548cf047f",
     "grade": false,
     "grade_id": "hatpotential-a",
     "locked": false,
     "schema_version": 1,
     "solution": true
    }
   },
   "outputs": [],
   "source": [
    "def hat(x,a,b):\n",
    "    return -a*x**2+b*x**4"
   ]
  },
  {
   "cell_type": "code",
   "execution_count": 3,
   "metadata": {
    "deletable": false,
    "editable": false,
    "nbgrader": {
     "checksum": "d90952b60036776b62cf244051c905be",
     "grade": true,
     "grade_id": "hatpotential-b",
     "locked": false,
     "points": 2,
     "schema_version": 1,
     "solution": false
    }
   },
   "outputs": [],
   "source": [
    "assert hat(0.0, 1.0, 1.0)==0.0\n",
    "assert hat(0.0, 1.0, 1.0)==0.0\n",
    "assert hat(1.0, 10.0, 1.0)==-9.0"
   ]
  },
  {
   "cell_type": "markdown",
   "metadata": {},
   "source": [
    "Plot this function over the range $x\\in\\left[-3,3\\right]$ with $b=1.0$ and $a=5.0$:"
   ]
  },
  {
   "cell_type": "code",
   "execution_count": 4,
   "metadata": {},
   "outputs": [],
   "source": [
    "a = 5.0\n",
    "b = 1.0"
   ]
  },
  {
   "cell_type": "code",
   "execution_count": 5,
   "metadata": {
    "deletable": false,
    "nbgrader": {
     "checksum": "71c081d03c2a22475ae9fffd06dfe802",
     "grade": true,
     "grade_id": "hatpotential-c",
     "locked": false,
     "points": 2,
     "schema_version": 1,
     "solution": true
    }
   },
   "outputs": [
    {
     "data": {
      "text/plain": [
       "Text(0,0.5,'hat potential')"
      ]
     },
     "execution_count": 5,
     "metadata": {},
     "output_type": "execute_result"
    },
    {
     "data": {
      "image/png": "[encoded data removed]",
      "text/plain": [
       "<matplotlib.figure.Figure at 0x7f62fe3d15f8>"
      ]
     },
     "metadata": {},
     "output_type": "display_data"
    }
   ],
   "source": [
    "x_vals = np.arange(-3,4, step = .1)\n",
    "plt.plot(x_vals, hat(x_vals,a,b))\n",
    "plt.xlabel('x')\n",
    "plt.ylabel('hat potential')"
   ]
  },
  {
   "cell_type": "markdown",
   "metadata": {},
   "source": [
    "Write code that finds the two local minima of this function for $b=1.0$ and $a=5.0$.\n",
    "\n",
    "* Use `scipy.optimize.minimize` to find the minima. You will have to think carefully about how to get this function to find both minima.\n",
    "* Print the x values of the minima.\n",
    "* Plot the function as a blue line.\n",
    "* On the same axes, show the minima as red circles.\n",
    "* Customize and label your visualization to make it effective."
   ]
  },
  {
   "cell_type": "code",
   "execution_count": 6,
   "metadata": {
    "deletable": false,
    "nbgrader": {
     "checksum": "ebdebdd266e88049eed55c3b2f45b010",
     "grade": true,
     "grade_id": "hatpotential-d",
     "locked": false,
     "points": 2,
     "schema_version": 1,
     "solution": true
    }
   },
   "outputs": [
    {
     "name": "stdout",
     "output_type": "stream",
     "text": [
      "Minima:1.581138809638241, -1.5811388200969334\n"
     ]
    },
    {
     "data": {
      "text/plain": [
       "Text(0.5,1,'Graph of hat potential from $x \\\\in [-3,3]$ with minima')"
      ]
     },
     "execution_count": 6,
     "metadata": {},
     "output_type": "execute_result"
    },
    {
     "data": {
      "image/png": "[encoded data removed]",
      "text/plain": [
       "<matplotlib.figure.Figure at 0x7f62fc3a59e8>"
      ]
     },
     "metadata": {},
     "output_type": "display_data"
    }
   ],
   "source": [
    "fit1 = opt.minimize(hat, [1.5], args=(a,b))\n",
    "point1 = fit1[\"x\"][0]\n",
    "\n",
    "fit2 = opt.minimize(hat, [-1.5], args=(a,b))\n",
    "point2 = fit2[\"x\"][0]\n",
    "\n",
    "print(\"Minima:{0}, {1}\".format(point1, point2))\n",
    "\n",
    "x_vals = np.arange(-3,4, step = .1)\n",
    "plt.plot(point1,hat(point1,a,b), \"ro\")\n",
    "plt.plot(point2, hat(point2, a,b), \"ro\")\n",
    "plt.plot(x_vals, hat(x_vals,a,b))\n",
    "plt.xlabel('x')\n",
    "plt.ylabel('hat potential')\n",
    "plt.title(\"Graph of hat potential from $x \\in [-3,3]$ with minima\")"
   ]
  },
  {
   "cell_type": "markdown",
   "metadata": {},
   "source": [
    "To check your numerical results, find the locations of the minima analytically. Show and describe the steps in your derivation using LaTeX equations. Evaluate the location of the minima using the above parameters."
   ]
  },
  {
   "cell_type": "markdown",
   "metadata": {
    "deletable": false,
    "nbgrader": {
     "checksum": "0e9553a5cc6e5ad26549307ecf2076db",
     "grade": true,
     "grade_id": "hatpotential-e",
     "locked": false,
     "points": 2,
     "schema_version": 1,
     "solution": true
    }
   },
   "source": [
    "$$ V(x) = -5x^2 + x^4 $$\n",
    "$$ \\frac{d}{dx} V(x) = -10x + 4x^3 $$\n",
    "$$ 4x^3 - 10x = 0 $$\n",
    "$$ x(4x^2 - 10) = 0 $$\n",
    "$$ x = 0, 1.5811, -1.5811 $$\n",
    "$$ \\frac{d^2}{d^2x} V(x) = 12x^2 - 10 $$\n",
    "The second derivative is 0 is negitive so it is a local max.\n",
    "\n",
    "The second derivative of 1.5811 and -1.5811 is positive, indicating a local min. Furthemore, the y-value of each point is equal and each y-value is less than the endpoints of the function given the domain. Therefore, these are the minima."
   ]
  }
 ],
 "metadata": {
  "kernelspec": {
   "display_name": "Python 3",
   "language": "python",
   "name": "python3"
  },
  "language_info": {
   "codemirror_mode": {
    "name": "ipython",
    "version": 3
   },
   "file_extension": ".py",
   "mimetype": "text/x-python",
   "name": "python",
   "nbconvert_exporter": "python",
   "pygments_lexer": "ipython3",
   "version": "3.6.3"
  }
 },
 "nbformat": 4,
 "nbformat_minor": 2
}
