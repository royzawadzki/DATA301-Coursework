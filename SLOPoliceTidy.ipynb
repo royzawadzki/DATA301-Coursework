{
 "cells": [
  {
   "cell_type": "markdown",
   "metadata": {},
   "source": [
    "# SLO Police Logs: Tidy"
   ]
  },
  {
   "cell_type": "code",
   "execution_count": 1,
   "metadata": {},
   "outputs": [],
   "source": [
    "import pandas as pd"
   ]
  },
  {
   "cell_type": "markdown",
   "metadata": {},
   "source": [
    "In this exercise, you will parse police log data from the [City of San Luis Obispo](http://www.slocity.org) in California. Each day, the police department posts a text log file of all the incidents for that day:\n",
    "\n",
    "http://www.slocity.org/government/department-directory/police-department/police-log\n",
    "\n",
    "A dataset of these log files is available in the data directory. You will parse these files into a tidy `DataFrame`."
   ]
  },
  {
   "cell_type": "markdown",
   "metadata": {},
   "source": [
    "## Parse a single incident entry"
   ]
  },
  {
   "cell_type": "markdown",
   "metadata": {},
   "source": [
    "First, you will write a series of functions that parse a single incident entry. You may find the following `MARKER` text to be helpful:"
   ]
  },
  {
   "cell_type": "code",
   "execution_count": 2,
   "metadata": {
    "deletable": false,
    "editable": false,
    "nbgrader": {
     "checksum": "403bf5e5a51a57cfebca208b2692169a",
     "grade": false,
     "grade_id": "cell-e4fa707a404b16ac",
     "locked": true,
     "schema_version": 1,
     "solution": false
    }
   },
   "outputs": [],
   "source": [
    "MARKER = '====='"
   ]
  },
  {
   "cell_type": "markdown",
   "metadata": {},
   "source": [
    "A single text file consists of a series of incident entries, where each entry looks something like this:"
   ]
  },
  {
   "cell_type": "code",
   "execution_count": 3,
   "metadata": {
    "deletable": false,
    "editable": false,
    "nbgrader": {
     "checksum": "db1bc921183ed8f466b0770c2ad2278c",
     "grade": false,
     "grade_id": "cell-28da5e4f0da3d887",
     "locked": true,
     "schema_version": 1,
     "solution": false
    }
   },
   "outputs": [],
   "source": [
    "entry = \"\"\"===============================================================================\n",
    "160728012 07/28/16 Received:07:11 Dispatched:07:13 Arrived:      Cleared:07:15\n",
    "===============================================================================\n",
    "Type: Alarm Audible                                           Location:PN13\n",
    "As Observed:\n",
    "\n",
    "\n",
    "Addr: 12318 LOS OSOS VALLEY; ENTERPRISE RENT A   Clearance Code:Call Cancelled\n",
    "\n",
    "Responsible Officer: Benson, G\n",
    "Units: 4245  ,4231\n",
    " Des: incid#=160728012 Completed call disp:CAN clr:CAN call=18l\n",
    "CALL COMMENTS: FRONT DOOR, REAR MOTION\n",
    "\"\"\""
   ]
  },
  {
   "cell_type": "markdown",
   "metadata": {},
   "source": [
    "It is important to note that the exact format of the entries varies widely. To get a better sense of what you are up against, you should `cat` some of the data files before starting this exercise.\n",
    "\n",
    "First, write a function that takes the header line of an entry (the line between the two `MARKER` lines), and returns a Python `dict` for the values in the header. See the tests below for the exact fields you should extract. You will likely have to deal with the possibility of missing values."
   ]
  },
  {
   "cell_type": "code",
   "execution_count": 4,
   "metadata": {
    "deletable": false,
    "nbgrader": {
     "checksum": "c18789dbaed840022ded017f097cf7f0",
     "grade": false,
     "grade_id": "cell-c7de05ce32d21f31",
     "locked": false,
     "schema_version": 1,
     "solution": true
    }
   },
   "outputs": [],
   "source": [
    "def parse_header(text):\n",
    "    \"\"\"Parse the incident header line as text and return a python dict.\"\"\"\n",
    "    # YOUR CODE HERE\n",
    "    text = text.lower().strip()\n",
    "    text = text.split()\n",
    "    text = [x.split(\":\",1) for x in text]\n",
    "    header = {\"arrived\": \"\", \"cleared\": \"\", \"date\": \"\", \"dispatched\": \"\", \"id\": \"\", \"received\": \"\"}\n",
    "    header[\"id\"] = text[0][0]\n",
    "    header[\"date\"] = text[1][0]\n",
    "    categories = [\"received\", \"dispatched\", \"arrived\", \"cleared\"]\n",
    "    for i in range(2, len(text)):\n",
    "        if text[i][0] in categories and text[i][1] != \"\":\n",
    "            header[text[i][0]] = text[i][1]\n",
    "    return header"
   ]
  },
  {
   "cell_type": "code",
   "execution_count": 5,
   "metadata": {
    "deletable": false,
    "editable": false,
    "nbgrader": {
     "checksum": "26d8235496fc380fbb01306a4f21f022",
     "grade": true,
     "grade_id": "cell-3b0dbf73ca0c63be",
     "locked": true,
     "points": 2,
     "schema_version": 1,
     "solution": false
    }
   },
   "outputs": [],
   "source": [
    "h = parse_header(entry.splitlines()[1])\n",
    "assert h == \\\n",
    "    {'arrived': '',\n",
    "     'cleared': '07:15',\n",
    "     'date': '07/28/16',\n",
    "     'dispatched': '07:13',\n",
    "     'id': '160728012',\n",
    "     'received': '07:11'}"
   ]
  },
  {
   "cell_type": "markdown",
   "metadata": {},
   "source": [
    "Not write a function that takes takes the line of text containing the `Type` and `Location` and return a `dict` of those fields. Again, you will have to deal with the possibility of missing values."
   ]
  },
  {
   "cell_type": "code",
   "execution_count": 6,
   "metadata": {
    "deletable": false,
    "nbgrader": {
     "checksum": "498f8a513d919ec544d783726d6849ef",
     "grade": false,
     "grade_id": "cell-237e145caebab328",
     "locked": false,
     "schema_version": 1,
     "solution": true
    }
   },
   "outputs": [],
   "source": [
    "def parse_type_location(text):\n",
    "    \"\"\"Parse the type/location line of text into a dict.\"\"\"\n",
    "    # YOUR CODE HERE\n",
    "    text = text.strip().lower()\n",
    "    text = text.split()\n",
    "    type_location = {\"location\" : \"\", \"type\" : \"\"}\n",
    "    for i in range(len(text)):\n",
    "        if text[i] == \"type:\":\n",
    "            next_word_index = i + 1\n",
    "            insert_string = \"\"\n",
    "            while \"location\" not in text[next_word_index]:\n",
    "                if len(insert_string) > 1:\n",
    "                    insert_string += \" \"\n",
    "                insert_string += text[next_word_index]\n",
    "                next_word_index += 1\n",
    "            type_location[\"type\"] = insert_string\n",
    "        \n",
    "        elif \"location\" in text[i]:\n",
    "            info = text[i].split(\":\")\n",
    "            if len(info) == 2:\n",
    "                type_location[\"location\"] = info[1]\n",
    "    return type_location "
   ]
  },
  {
   "cell_type": "code",
   "execution_count": 7,
   "metadata": {
    "deletable": false,
    "editable": false,
    "nbgrader": {
     "checksum": "803bd6533b9d10f2a657cbc0105a8332",
     "grade": true,
     "grade_id": "cell-0d2aa771338fd182",
     "locked": true,
     "points": 4,
     "schema_version": 1,
     "solution": false
    }
   },
   "outputs": [],
   "source": [
    "type_location = parse_type_location(entry.splitlines()[3])\n",
    "assert type_location=={'location': 'pn13', 'type': 'alarm audible'}\n",
    "type_location = parse_type_location('Type: this that Location:')\n",
    "assert type_location == {'location': '', 'type': 'this that'}"
   ]
  },
  {
   "cell_type": "markdown",
   "metadata": {},
   "source": [
    "Write a function to parse the line with `Units` into a `dict`:"
   ]
  },
  {
   "cell_type": "code",
   "execution_count": 8,
   "metadata": {
    "deletable": false,
    "nbgrader": {
     "checksum": "6220f1e6c04294b5f842d17a013564bc",
     "grade": false,
     "grade_id": "cell-10a6cdb06fa3ab4c",
     "locked": false,
     "schema_version": 1,
     "solution": true
    }
   },
   "outputs": [],
   "source": [
    "def parse_units(text):\n",
    "    \"\"\"Parse the line containing `Units:` into a dict.\"\"\"\n",
    "    text = text.strip().lower()\n",
    "    text = text.split()\n",
    "    units = {\"units\": []}\n",
    "    if len(text) == 1:\n",
    "        return units\n",
    "    for i in range(1, len(text)):\n",
    "        num = text[i].split(\",\")\n",
    "        if len(num) == 1:\n",
    "            units[\"units\"].append(num[0])\n",
    "        else:\n",
    "            for entry in num:\n",
    "                if entry != \"\":\n",
    "                    units[\"units\"].append(entry)\n",
    "    return units"
   ]
  },
  {
   "cell_type": "code",
   "execution_count": 9,
   "metadata": {
    "deletable": false,
    "editable": false,
    "nbgrader": {
     "checksum": "68ef4de4e74f44bd612d0e862a043e77",
     "grade": true,
     "grade_id": "cell-73b24c8dc28352af",
     "locked": true,
     "points": 2,
     "schema_version": 1,
     "solution": false
    }
   },
   "outputs": [],
   "source": [
    "units = parse_units(entry.splitlines()[-3])\n",
    "assert units=={'units': ['4245', '4231']}\n",
    "units = parse_units('Units:')\n",
    "assert units=={'units': []}"
   ]
  },
  {
   "cell_type": "markdown",
   "metadata": {},
   "source": [
    "Write a function that parses an entire incident entry. Handle the following lines of the entry:\n",
    "\n",
    "* The header line\n",
    "* The type/location line\n",
    "* The units line\n",
    "\n",
    "Your function should call the above functions that parse each of these lines; other lines should be ignored."
   ]
  },
  {
   "cell_type": "code",
   "execution_count": 10,
   "metadata": {
    "deletable": false,
    "nbgrader": {
     "checksum": "ea9b345158ae49dcaf74d8866990b75d",
     "grade": false,
     "grade_id": "cell-d019e6c0cdb37061",
     "locked": false,
     "schema_version": 1,
     "solution": true
    }
   },
   "outputs": [],
   "source": [
    "def parse_incident(text):\n",
    "    \"\"\"Parse an indicent entry into a python dict.\"\"\"\n",
    "    # making sure the line actually contains the thing we want\n",
    "    lines = text.splitlines()\n",
    "    dictionary = {}\n",
    "    for line in lines: \n",
    "        if \"Arrived\" in line:\n",
    "            dictionary.update(parse_header(line))\n",
    "        if \"Type\" in line:\n",
    "            dictionary.update(parse_type_location(line))\n",
    "        if \"Unit\" in line:\n",
    "            dictionary.update(parse_units(line))\n",
    "    return dictionary\n",
    "\n",
    "    "
   ]
  },
  {
   "cell_type": "code",
   "execution_count": 11,
   "metadata": {
    "deletable": false,
    "editable": false,
    "nbgrader": {
     "checksum": "367f2147539820c21f102ff1a7d3ef87",
     "grade": true,
     "grade_id": "cell-9d00e8a1a0ebeec3",
     "locked": true,
     "points": 2,
     "schema_version": 1,
     "solution": false
    }
   },
   "outputs": [],
   "source": [
    "incident = parse_incident(entry)\n",
    "assert incident == \\\n",
    "    {'arrived': '',\n",
    "     'cleared': '07:15',\n",
    "     'date': '07/28/16',\n",
    "     'dispatched': '07:13',\n",
    "     'id': '160728012',\n",
    "     'location': 'pn13',\n",
    "     'received': '07:11',\n",
    "     'type': 'alarm audible',\n",
    "     'units': ['4245', '4231']}"
   ]
  },
  {
   "cell_type": "markdown",
   "metadata": {},
   "source": [
    "## Read all files and parse the entries"
   ]
  },
  {
   "cell_type": "code",
   "execution_count": 12,
   "metadata": {
    "deletable": false,
    "editable": false,
    "nbgrader": {
     "checksum": "e11cafc31ecd7b8c69da96427002d24f",
     "grade": false,
     "grade_id": "cell-302554d3d3ae336a",
     "locked": true,
     "schema_version": 1,
     "solution": false
    }
   },
   "outputs": [
    {
     "data": {
      "text/plain": [
       "['/data/slo_police_logs_2017-02/SLOPolice_TDGAcq2016-08-05-1901.txt',\n",
       " '/data/slo_police_logs_2017-02/SLOPolice_TDGAcq2016-08-03-1700.txt',\n",
       " '/data/slo_police_logs_2017-02/SLOPolice_TDGAcq2016-08-22-1700.txt',\n",
       " '/data/slo_police_logs_2017-02/SLOPolice_TDGAcq2016-08-15-1700.txt',\n",
       " '/data/slo_police_logs_2017-02/SLOPolice_TDGAcq2016-08-29-1700.txt',\n",
       " '/data/slo_police_logs_2017-02/SLOPolice_TDGAcq2016-08-19-1700.txt',\n",
       " '/data/slo_police_logs_2017-02/SLOPolice_TDGAcq2016-08-18-1700.txt',\n",
       " '/data/slo_police_logs_2017-02/SLOPolice_TDGAcq2016-08-10-2052.txt',\n",
       " '/data/slo_police_logs_2017-02/SLOPolice_TDGAcq2016-08-02-1200.txt',\n",
       " '/data/slo_police_logs_2017-02/SLOPolice_TDGAcq2016-08-31-1700.txt',\n",
       " '/data/slo_police_logs_2017-02/SLOPolice_TDGAcq2016-08-10-2050.txt',\n",
       " '/data/slo_police_logs_2017-02/SLOPolice_TDGAcq2016-08-23-1700.txt',\n",
       " '/data/slo_police_logs_2017-02/SLOPolice_TDGAcq2016-08-24-1700.txt',\n",
       " '/data/slo_police_logs_2017-02/SLOPolice_TDGAcq2016-08-11-1920.txt',\n",
       " '/data/slo_police_logs_2017-02/SLOPolice_TDGAcq2016-08-25-1700.txt',\n",
       " '/data/slo_police_logs_2017-02/SLOPolice_TDGAcq2016-08-17-1700.txt',\n",
       " '/data/slo_police_logs_2017-02/SLOPolice_TDGAcq2016-08-03-1200.txt',\n",
       " '/data/slo_police_logs_2017-02/SLOPolice_TDGAcq2016-08-01-1200.txt',\n",
       " '/data/slo_police_logs_2017-02/SLOPolice_TDGAcq2016-08-16-1700.txt',\n",
       " '/data/slo_police_logs_2017-02/SLOPolice_TDGAcq2016-08-12-1700.txt',\n",
       " '/data/slo_police_logs_2017-02/SLOPolice_TDGAcq2016-08-26-1700.txt',\n",
       " '/data/slo_police_logs_2017-02/SLOPolice_TDGAcq2016-08-04-1700.txt']"
      ]
     },
     "execution_count": 12,
     "metadata": {},
     "output_type": "execute_result"
    }
   ],
   "source": [
    "import glob\n",
    "files = glob.glob('/data/slo_police_logs_2017-02/*2016-08*.txt')\n",
    "files"
   ]
  },
  {
   "cell_type": "markdown",
   "metadata": {},
   "source": [
    "Write a generator function that takes a list of filenames and yields the lines of the files:"
   ]
  },
  {
   "cell_type": "code",
   "execution_count": 13,
   "metadata": {
    "deletable": false,
    "nbgrader": {
     "checksum": "65e623a167861f4955a8ec3855fd4ffa",
     "grade": false,
     "grade_id": "cell-ce47cada736c170d",
     "locked": false,
     "schema_version": 1,
     "solution": true
    }
   },
   "outputs": [],
   "source": [
    "def files_to_lines(files):\n",
    "    \"\"\"Take a list of files and yield their lines.\"\"\"\n",
    "    for file in files:\n",
    "        with open(file) as f:\n",
    "            lines = f.readlines()\n",
    "            for line in lines:\n",
    "                yield line.strip()"
   ]
  },
  {
   "cell_type": "code",
   "execution_count": 14,
   "metadata": {
    "deletable": false,
    "editable": false,
    "nbgrader": {
     "checksum": "1bd557b7f936e89fda8b1b27609e10e9",
     "grade": true,
     "grade_id": "cell-5f34b3cb797d2a9a",
     "locked": true,
     "points": 2,
     "schema_version": 1,
     "solution": false
    }
   },
   "outputs": [],
   "source": [
    "import hashlib, types\n",
    "lines_hash = hashlib.md5()\n",
    "for line in files_to_lines(files):\n",
    "    lines_hash.update(line.encode())\n",
    "assert lines_hash.hexdigest()=='5aec19b16d5457832d5ccc4ba02930a2'\n",
    "assert type(files_to_lines(files)) == types.GeneratorType"
   ]
  },
  {
   "cell_type": "markdown",
   "metadata": {},
   "source": [
    "Write a generator function that consumes an iterator of lines from the incident files, and yields a sequence of text based incident entries. Each entry that is yielded should be a single string, with embedded newlines."
   ]
  },
  {
   "cell_type": "code",
   "execution_count": 15,
   "metadata": {
    "deletable": false,
    "nbgrader": {
     "checksum": "1ae8c1a715767be079e7f7cd692841b6",
     "grade": false,
     "grade_id": "cell-4e5e6943f11474f1",
     "locked": false,
     "schema_version": 1,
     "solution": true
    }
   },
   "outputs": [],
   "source": [
    "def lines_to_indicents(lines):\n",
    "    \"\"\"Consume an iterator of lines, yield text blocks of for each incident.\"\"\"\n",
    "    return_string = \"\"\n",
    "    marker_count = 0\n",
    "    end = \"--------------------------------------------------------------------------------\\n\"\n",
    "    for line in lines:\n",
    "        if MARKER in line:\n",
    "            marker_count += 1\n",
    "        if marker_count >= 3:\n",
    "            marker_count = 1\n",
    "            yield return_string \n",
    "            return_string = \"\"\n",
    "        if line == end:\n",
    "            yield return_string \n",
    "            break\n",
    "        if marker_count != 0:\n",
    "            return_string += line + \"\\n\"\n"
   ]
  },
  {
   "cell_type": "markdown",
   "metadata": {},
   "source": [
    "Using the functions you have defined above, iterate through the filenames in the variable `files`, parse all the incident entries into Python `dict` objects and return a list of those objects named `incidents`:"
   ]
  },
  {
   "cell_type": "code",
   "execution_count": 16,
   "metadata": {
    "deletable": false,
    "nbgrader": {
     "checksum": "d21f175d2795a40d0b183d08f75c5ec8",
     "grade": false,
     "grade_id": "cell-c8d761b7652523ae",
     "locked": false,
     "schema_version": 1,
     "solution": true
    }
   },
   "outputs": [],
   "source": [
    "incidents = []\n",
    "\n",
    "lines = files_to_lines(files)\n",
    "incidents_dicts = lines_to_indicents(lines)\n",
    "for incident in incidents_dicts:\n",
    "    incident = incident.strip()\n",
    "    incidents.append(parse_incident(incident))\n",
    "\n"
   ]
  },
  {
   "cell_type": "code",
   "execution_count": 17,
   "metadata": {
    "deletable": false,
    "editable": false,
    "nbgrader": {
     "checksum": "0f8836b5f1de6cef146bebfbb3903f6d",
     "grade": false,
     "grade_id": "cell-b079d0d17ceb5cf1",
     "locked": true,
     "schema_version": 1,
     "solution": false
    }
   },
   "outputs": [
    {
     "data": {
      "text/plain": [
       "{'arrived': '11:01',\n",
       " 'cleared': '11:25',\n",
       " 'date': '08/19/16',\n",
       " 'dispatched': '10:58',\n",
       " 'id': '160819036',\n",
       " 'location': 'pn5',\n",
       " 'received': '10:57',\n",
       " 'type': 'disorderly',\n",
       " 'units': ['4268', '4231']}"
      ]
     },
     "execution_count": 17,
     "metadata": {},
     "output_type": "execute_result"
    }
   ],
   "source": [
    "incidents[200]"
   ]
  },
  {
   "cell_type": "code",
   "execution_count": 18,
   "metadata": {},
   "outputs": [
    {
     "data": {
      "text/plain": [
       "{'arrived': '06:33',\n",
       " 'cleared': '06:34',\n",
       " 'date': '08/05/16',\n",
       " 'dispatched': '06:18',\n",
       " 'id': '160805013',\n",
       " 'location': 'pn11',\n",
       " 'received': '06:16',\n",
       " 'type': 'alarm audible',\n",
       " 'units': ['4266', '4266', '4265']}"
      ]
     },
     "execution_count": 18,
     "metadata": {},
     "output_type": "execute_result"
    }
   ],
   "source": [
    "incidents[100]"
   ]
  },
  {
   "cell_type": "code",
   "execution_count": 19,
   "metadata": {
    "deletable": false,
    "editable": false,
    "nbgrader": {
     "checksum": "20c84f2c7d775766760321d0ec48c187",
     "grade": true,
     "grade_id": "cell-cabbf9527e1af387",
     "locked": true,
     "points": 4,
     "schema_version": 1,
     "solution": false
    }
   },
   "outputs": [],
   "source": [
    "assert len(incidents) == 2616\n",
    "assert type(incidents) == list\n",
    "assert incidents[100] == \\\n",
    "    {'arrived': '06:33',\n",
    "     'cleared': '06:34',\n",
    "     'date': '08/05/16',\n",
    "     'dispatched': '06:18',\n",
    "     'id': '160805013',\n",
    "     'location': 'pn11',\n",
    "     'received': '06:16',\n",
    "     'type': 'alarm audible',\n",
    "     'units': ['4266', '4266', '4265']}\n",
    "assert incidents[200] == \\\n",
    "    {'arrived': '11:01',\n",
    "     'cleared': '11:25',\n",
    "     'date': '08/19/16',\n",
    "     'dispatched': '10:58',\n",
    "     'id': '160819036',\n",
    "     'location': 'pn5',\n",
    "     'received': '10:57',\n",
    "     'type': 'disorderly',\n",
    "     'units': ['4268', '4231']}"
   ]
  },
  {
   "cell_type": "markdown",
   "metadata": {},
   "source": [
    "## Create the incident DataFrame"
   ]
  },
  {
   "cell_type": "markdown",
   "metadata": {},
   "source": [
    "Convert the `incidents` list-of-dicts to a Pandas `DataFrame` named `incidents_df` with a format given by the tests below."
   ]
  },
  {
   "cell_type": "code",
   "execution_count": 20,
   "metadata": {
    "deletable": false,
    "nbgrader": {
     "checksum": "f7d2e74a51e121c102ede1fe5fe1d137",
     "grade": false,
     "grade_id": "cell-5c58f74eb9b71d4b",
     "locked": false,
     "schema_version": 1,
     "solution": true
    }
   },
   "outputs": [],
   "source": [
    "# YOUR CODE HERE\n",
    "incidents_df = pd.DataFrame(incidents)\n",
    "incidents_df = incidents_df[[\"arrived\", \"cleared\", \"date\", \"dispatched\", \"id\", \"location\", \"received\", \"type\"]]"
   ]
  },
  {
   "cell_type": "code",
   "execution_count": 21,
   "metadata": {
    "deletable": false,
    "editable": false,
    "nbgrader": {
     "checksum": "f634fcd33e1f0726fbf438c84d766595",
     "grade": false,
     "grade_id": "cell-31e97820b3aa9d0c",
     "locked": true,
     "schema_version": 1,
     "solution": false
    }
   },
   "outputs": [
    {
     "data": {
      "text/html": [
       "<div>\n",
       "<style scoped>\n",
       "    .dataframe tbody tr th:only-of-type {\n",
       "        vertical-align: middle;\n",
       "    }\n",
       "\n",
       "    .dataframe tbody tr th {\n",
       "        vertical-align: top;\n",
       "    }\n",
       "\n",
       "    .dataframe thead th {\n",
       "        text-align: right;\n",
       "    }\n",
       "</style>\n",
       "<table border=\"1\" class=\"dataframe\">\n",
       "  <thead>\n",
       "    <tr style=\"text-align: right;\">\n",
       "      <th></th>\n",
       "      <th>arrived</th>\n",
       "      <th>cleared</th>\n",
       "      <th>date</th>\n",
       "      <th>dispatched</th>\n",
       "      <th>id</th>\n",
       "      <th>location</th>\n",
       "      <th>received</th>\n",
       "      <th>type</th>\n",
       "    </tr>\n",
       "  </thead>\n",
       "  <tbody>\n",
       "    <tr>\n",
       "      <th>0</th>\n",
       "      <td>07:37</td>\n",
       "      <td>07:48</td>\n",
       "      <td>08/04/16</td>\n",
       "      <td>07:26</td>\n",
       "      <td>160804007</td>\n",
       "      <td>pn7</td>\n",
       "      <td>07:23</td>\n",
       "      <td>traffic hazard</td>\n",
       "    </tr>\n",
       "    <tr>\n",
       "      <th>1</th>\n",
       "      <td>07:52</td>\n",
       "      <td>08:01</td>\n",
       "      <td>08/04/16</td>\n",
       "      <td>07:42</td>\n",
       "      <td>160804008</td>\n",
       "      <td>pn5</td>\n",
       "      <td>07:40</td>\n",
       "      <td>loitering</td>\n",
       "    </tr>\n",
       "    <tr>\n",
       "      <th>2</th>\n",
       "      <td></td>\n",
       "      <td></td>\n",
       "      <td>08/04/16</td>\n",
       "      <td></td>\n",
       "      <td>160804009</td>\n",
       "      <td>pn8</td>\n",
       "      <td>08:02</td>\n",
       "      <td>muni code viol</td>\n",
       "    </tr>\n",
       "    <tr>\n",
       "      <th>3</th>\n",
       "      <td></td>\n",
       "      <td>08:07</td>\n",
       "      <td>08/04/16</td>\n",
       "      <td>08:07</td>\n",
       "      <td>160804010</td>\n",
       "      <td>pn1</td>\n",
       "      <td>08:03</td>\n",
       "      <td>aband vehicle</td>\n",
       "    </tr>\n",
       "    <tr>\n",
       "      <th>4</th>\n",
       "      <td>08:22</td>\n",
       "      <td>08:28</td>\n",
       "      <td>08/04/16</td>\n",
       "      <td></td>\n",
       "      <td>160804011</td>\n",
       "      <td>pn5</td>\n",
       "      <td>08:14</td>\n",
       "      <td>mc-panhandling</td>\n",
       "    </tr>\n",
       "  </tbody>\n",
       "</table>\n",
       "</div>"
      ],
      "text/plain": [
       "  arrived cleared      date dispatched         id location received  \\\n",
       "0   07:37   07:48  08/04/16      07:26  160804007      pn7    07:23   \n",
       "1   07:52   08:01  08/04/16      07:42  160804008      pn5    07:40   \n",
       "2                  08/04/16             160804009      pn8    08:02   \n",
       "3           08:07  08/04/16      08:07  160804010      pn1    08:03   \n",
       "4   08:22   08:28  08/04/16             160804011      pn5    08:14   \n",
       "\n",
       "             type  \n",
       "0  traffic hazard  \n",
       "1       loitering  \n",
       "2  muni code viol  \n",
       "3   aband vehicle  \n",
       "4  mc-panhandling  "
      ]
     },
     "execution_count": 21,
     "metadata": {},
     "output_type": "execute_result"
    }
   ],
   "source": [
    "incidents_df.head()"
   ]
  },
  {
   "cell_type": "code",
   "execution_count": 22,
   "metadata": {
    "deletable": false,
    "editable": false,
    "nbgrader": {
     "checksum": "bfac1b171132b4e8d68834a7e823c9a3",
     "grade": true,
     "grade_id": "cell-1c829a6806eb322b",
     "locked": true,
     "points": 0,
     "schema_version": 1,
     "solution": false
    }
   },
   "outputs": [],
   "source": [
    "assert list(incidents_df.location.unique()) == \\\n",
    "    ['pn7', 'pn5', 'pn8', 'pn1', 'pn13', 'pn10', 'pn2', 'pn9', 'pn12',\n",
    "    'pn11', 'pn6', 'pn3', 'lz0', 'pn4', '']\n",
    "assert len(incidents_df['type'].unique()) == 81\n",
    "assert list(incidents_df.columns) == \\\n",
    "    ['arrived', 'cleared', 'date', 'dispatched', 'id', 'location',\n",
    "     'received', 'type']"
   ]
  },
  {
   "cell_type": "markdown",
   "metadata": {},
   "source": [
    "Create a second `DataFrame`, named `units_df` with two columns:\n",
    "\n",
    "* The `id` of the incident\n",
    "* The `unit` that handled the call.\n",
    "\n",
    "If there are multiple units for an id, insert multiple rows for that id (one for each unit). This is needed to make this `DataFrame` tidy."
   ]
  },
  {
   "cell_type": "code",
   "execution_count": 23,
   "metadata": {
    "deletable": false,
    "nbgrader": {
     "checksum": "c0f9f9f71f4a709cebc67b5baa7862ed",
     "grade": false,
     "grade_id": "cell-a519559ee8d92add",
     "locked": false,
     "schema_version": 1,
     "solution": true
    }
   },
   "outputs": [],
   "source": [
    "# YOUR CODE HERE\n",
    "incidents_df_new = pd.DataFrame(incidents)\n",
    "new_dataframe = []\n",
    "for idx, row in incidents_df_new.iterrows():\n",
    "    if len(row.loc[\"units\"]) == 1:\n",
    "        if row.loc[\"units\"][0] == \"\":\n",
    "            continue\n",
    "        temp_dict = {\"id\": row.loc[\"id\"], \"unit\": row.loc[\"units\"][0]}\n",
    "        new_dataframe.append(temp_dict)\n",
    "    else:\n",
    "        for i in range(len(row.loc[\"units\"])):\n",
    "            if row.loc[\"units\"][i] == \"\":\n",
    "                continue\n",
    "            temp_dict = {\"id\": row.loc[\"id\"], \"unit\": row.loc[\"units\"][i]}\n",
    "            new_dataframe.append(temp_dict)\n",
    "units_df = pd.DataFrame(new_dataframe)\n"
   ]
  },
  {
   "cell_type": "code",
   "execution_count": 24,
   "metadata": {
    "deletable": false,
    "editable": false,
    "nbgrader": {
     "checksum": "2efa484185e192df0fdc05bcffd22f72",
     "grade": false,
     "grade_id": "cell-f7b9171349ac28e8",
     "locked": true,
     "schema_version": 1,
     "solution": false
    }
   },
   "outputs": [
    {
     "data": {
      "text/html": [
       "<div>\n",
       "<style scoped>\n",
       "    .dataframe tbody tr th:only-of-type {\n",
       "        vertical-align: middle;\n",
       "    }\n",
       "\n",
       "    .dataframe tbody tr th {\n",
       "        vertical-align: top;\n",
       "    }\n",
       "\n",
       "    .dataframe thead th {\n",
       "        text-align: right;\n",
       "    }\n",
       "</style>\n",
       "<table border=\"1\" class=\"dataframe\">\n",
       "  <thead>\n",
       "    <tr style=\"text-align: right;\">\n",
       "      <th></th>\n",
       "      <th>id</th>\n",
       "      <th>unit</th>\n",
       "    </tr>\n",
       "  </thead>\n",
       "  <tbody>\n",
       "    <tr>\n",
       "      <th>0</th>\n",
       "      <td>160804007</td>\n",
       "      <td>42k4</td>\n",
       "    </tr>\n",
       "    <tr>\n",
       "      <th>1</th>\n",
       "      <td>160804007</td>\n",
       "      <td>4202</td>\n",
       "    </tr>\n",
       "    <tr>\n",
       "      <th>2</th>\n",
       "      <td>160804008</td>\n",
       "      <td>4226</td>\n",
       "    </tr>\n",
       "    <tr>\n",
       "      <th>3</th>\n",
       "      <td>160804008</td>\n",
       "      <td>4218</td>\n",
       "    </tr>\n",
       "    <tr>\n",
       "      <th>4</th>\n",
       "      <td>160804009</td>\n",
       "      <td>set</td>\n",
       "    </tr>\n",
       "  </tbody>\n",
       "</table>\n",
       "</div>"
      ],
      "text/plain": [
       "          id  unit\n",
       "0  160804007  42k4\n",
       "1  160804007  4202\n",
       "2  160804008  4226\n",
       "3  160804008  4218\n",
       "4  160804009   set"
      ]
     },
     "execution_count": 24,
     "metadata": {},
     "output_type": "execute_result"
    }
   ],
   "source": [
    "units_df.head()"
   ]
  },
  {
   "cell_type": "code",
   "execution_count": 25,
   "metadata": {},
   "outputs": [],
   "source": [
    "#units_df.groupby(by = \"unit\").agg(\"total\")"
   ]
  },
  {
   "cell_type": "code",
   "execution_count": 26,
   "metadata": {
    "deletable": false,
    "editable": false,
    "nbgrader": {
     "checksum": "996af2472a5405d95f3b12bf492e5507",
     "grade": true,
     "grade_id": "cell-b5d3234b36530109",
     "locked": true,
     "points": 2,
     "schema_version": 1,
     "solution": false
    }
   },
   "outputs": [],
   "source": [
    "assert len(units_df) == 4617\n",
    "assert list(units_df.columns) == ['id', 'unit']"
   ]
  },
  {
   "cell_type": "markdown",
   "metadata": {},
   "source": [
    "## Visualize"
   ]
  },
  {
   "cell_type": "code",
   "execution_count": 27,
   "metadata": {
    "deletable": false,
    "editable": false,
    "nbgrader": {
     "checksum": "ab35bc57d6b3161d5486df8ff1a83ab3",
     "grade": false,
     "grade_id": "cell-c8f76ae3348da3c6",
     "locked": true,
     "schema_version": 1,
     "solution": false
    }
   },
   "outputs": [],
   "source": [
    "import altair as alt\n",
    "alt.enable_mime_rendering()"
   ]
  },
  {
   "cell_type": "markdown",
   "metadata": {},
   "source": [
    "Create a single visualization using Altair that explores this dataset visually and begins to provide a high level overview of the information in the dataset."
   ]
  },
  {
   "cell_type": "code",
   "execution_count": 28,
   "metadata": {
    "deletable": false,
    "nbgrader": {
     "checksum": "86dfb9acdbee2fb4d99f69b36a630521",
     "grade": true,
     "grade_id": "cell-fef4805a7e513fc6",
     "locked": false,
     "points": 2,
     "schema_version": 1,
     "solution": true
    }
   },
   "outputs": [
    {
     "data": {
      "application/vnd.vegalite.v1+json": {
       "$schema": "https://vega.github.io/schema/vega-lite/v1.2.1.json",
       "data": {
        "values": [
         {
          "arrived": "07:37",
          "cleared": "07:48",
          "date": "08/04/16",
          "dispatched": "07:26",
          "id": "160804007",
          "location": "pn7",
          "received": "07:23",
          "type": "traffic hazard"
         },
         {
          "arrived": "07:52",
          "cleared": "08:01",
          "date": "08/04/16",
          "dispatched": "07:42",
          "id": "160804008",
          "location": "pn5",
          "received": "07:40",
          "type": "loitering"
         },
         {
          "arrived": "",
          "cleared": "",
          "date": "08/04/16",
          "dispatched": "",
          "id": "160804009",
          "location": "pn8",
          "received": "08:02",
          "type": "muni code viol"
         },
         {
          "arrived": "",
          "cleared": "08:07",
          "date": "08/04/16",
          "dispatched": "08:07",
          "id": "160804010",
          "location": "pn1",
          "received": "08:03",
          "type": "aband vehicle"
         },
         {
          "arrived": "08:22",
          "cleared": "08:28",
          "date": "08/04/16",
          "dispatched": "",
          "id": "160804011",
          "location": "pn5",
          "received": "08:14",
          "type": "mc-panhandling"
         },
         {
          "arrived": "08:28",
          "cleared": "08:56",
          "date": "08/04/16",
          "dispatched": "08:17",
          "id": "160804012",
          "location": "pn8",
          "received": "08:14",
          "type": "trespassing"
         },
         {
          "arrived": "",
          "cleared": "09:08",
          "date": "08/04/16",
          "dispatched": "08:26",
          "id": "160804013",
          "location": "pn5",
          "received": "08:23",
          "type": "attempt-locate"
         },
         {
          "arrived": "08:50",
          "cleared": "10:42",
          "date": "08/04/16",
          "dispatched": "",
          "id": "160804014",
          "location": "pn13",
          "received": "08:49",
          "type": "mc-camping"
         },
         {
          "arrived": "08:59",
          "cleared": "09:15",
          "date": "08/04/16",
          "dispatched": "08:56",
          "id": "160804015",
          "location": "pn5",
          "received": "08:50",
          "type": "suspicious"
         },
         {
          "arrived": "",
          "cleared": "09:15",
          "date": "08/04/16",
          "dispatched": "09:05",
          "id": "160804016",
          "location": "pn7",
          "received": "09:02",
          "type": "aband vehicle"
         },
         {
          "arrived": "09:13",
          "cleared": "09:30",
          "date": "08/04/16",
          "dispatched": "09:07",
          "id": "160804017",
          "location": "pn10",
          "received": "09:06",
          "type": "posting vehs"
         },
         {
          "arrived": "",
          "cleared": "09:25",
          "date": "08/04/16",
          "dispatched": "09:25",
          "id": "160804018",
          "location": "pn8",
          "received": "09:22",
          "type": "aband vehicle"
         },
         {
          "arrived": "",
          "cleared": "09:41",
          "date": "08/04/16",
          "dispatched": "09:41",
          "id": "160804019",
          "location": "pn7",
          "received": "09:40",
          "type": "fire structure"
         },
         {
          "arrived": "",
          "cleared": "09:55",
          "date": "08/04/16",
          "dispatched": "09:54",
          "id": "160804020",
          "location": "pn2",
          "received": "09:54",
          "type": "9-1-1 abandon"
         },
         {
          "arrived": "10:11",
          "cleared": "10:13",
          "date": "08/04/16",
          "dispatched": "09:59",
          "id": "160804021",
          "location": "pn5",
          "received": "09:58",
          "type": "posting vehs"
         },
         {
          "arrived": "10:11",
          "cleared": "10:51",
          "date": "08/04/16",
          "dispatched": "10:05",
          "id": "160804022",
          "location": "pn9",
          "received": "10:04",
          "type": "suicide attempt"
         },
         {
          "arrived": "10:12",
          "cleared": "10:14",
          "date": "08/04/16",
          "dispatched": "",
          "id": "160804023",
          "location": "pn5",
          "received": "10:12",
          "type": "towed vehicle"
         },
         {
          "arrived": "10:16",
          "cleared": "10:18",
          "date": "08/04/16",
          "dispatched": "",
          "id": "160804024",
          "location": "pn5",
          "received": "10:15",
          "type": "alcohol offense"
         },
         {
          "arrived": "10:49",
          "cleared": "10:51",
          "date": "08/04/16",
          "dispatched": "",
          "id": "160804025",
          "location": "pn1",
          "received": "10:49",
          "type": "aband vehicle"
         },
         {
          "arrived": "10:50",
          "cleared": "10:52",
          "date": "08/04/16",
          "dispatched": "",
          "id": "160804026",
          "location": "pn2",
          "received": "10:50",
          "type": "suspicious"
         },
         {
          "arrived": "10:51",
          "cleared": "11:07",
          "date": "08/04/16",
          "dispatched": "",
          "id": "160804027",
          "location": "pn10",
          "received": "10:51",
          "type": "aband vehicle"
         },
         {
          "arrived": "10:57",
          "cleared": "11:08",
          "date": "08/04/16",
          "dispatched": "",
          "id": "160804028",
          "location": "pn2",
          "received": "10:57",
          "type": "controlled narc"
         },
         {
          "arrived": "11:06",
          "cleared": "11:12",
          "date": "08/04/16",
          "dispatched": "11:00",
          "id": "160804029",
          "location": "pn12",
          "received": "10:57",
          "type": "suspicious"
         },
         {
          "arrived": "",
          "cleared": "11:18",
          "date": "08/04/16",
          "dispatched": "11:16",
          "id": "160804030",
          "location": "pn7",
          "received": "11:15",
          "type": "assist req"
         },
         {
          "arrived": "11:25",
          "cleared": "11:32",
          "date": "08/04/16",
          "dispatched": "",
          "id": "160804031",
          "location": "pn11",
          "received": "11:18",
          "type": "coll non inj"
         },
         {
          "arrived": "11:53",
          "cleared": "12:37",
          "date": "08/04/16",
          "dispatched": "11:27",
          "id": "160804032",
          "location": "pn11",
          "received": "11:23",
          "type": "fraud"
         },
         {
          "arrived": "11:25",
          "cleared": "11:33",
          "date": "08/04/16",
          "dispatched": "",
          "id": "160804033",
          "location": "pn11",
          "received": "11:24",
          "type": "suspicious"
         },
         {
          "arrived": "11:41",
          "cleared": "11:53",
          "date": "08/04/16",
          "dispatched": "11:29",
          "id": "160804034",
          "location": "pn12",
          "received": "11:27",
          "type": "fraud"
         },
         {
          "arrived": "12:06",
          "cleared": "12:21",
          "date": "08/04/16",
          "dispatched": "11:59",
          "id": "160804035",
          "location": "pn11",
          "received": "11:57",
          "type": "welfare check"
         },
         {
          "arrived": "12:09",
          "cleared": "12:09",
          "date": "08/04/16",
          "dispatched": "",
          "id": "160804036",
          "location": "pn6",
          "received": "12:08",
          "type": "alcohol offense"
         },
         {
          "arrived": "12:31",
          "cleared": "12:41",
          "date": "08/04/16",
          "dispatched": "",
          "id": "160804037",
          "location": "pn5",
          "received": "12:25",
          "type": "welfare check"
         },
         {
          "arrived": "12:47",
          "cleared": "13:28",
          "date": "08/04/16",
          "dispatched": "12:36",
          "id": "160804038",
          "location": "pn8",
          "received": "12:33",
          "type": "fraud"
         },
         {
          "arrived": "12:47",
          "cleared": "14:01",
          "date": "08/04/16",
          "dispatched": "12:47",
          "id": "160804039",
          "location": "pn2",
          "received": "12:43",
          "type": "welfare check"
         },
         {
          "arrived": "13:13",
          "cleared": "13:24",
          "date": "08/04/16",
          "dispatched": "13:08",
          "id": "160804040",
          "location": "pn12",
          "received": "12:57",
          "type": "coll non inj"
         },
         {
          "arrived": "13:37",
          "cleared": "13:40",
          "date": "08/04/16",
          "dispatched": "13:26",
          "id": "160804041",
          "location": "pn10",
          "received": "13:02",
          "type": "loitering"
         },
         {
          "arrived": "",
          "cleared": "",
          "date": "08/04/16",
          "dispatched": "",
          "id": "160804042",
          "location": "pn2",
          "received": "13:05",
          "type": "coll hit and ru"
         },
         {
          "arrived": "14:23",
          "cleared": "15:02",
          "date": "08/04/16",
          "dispatched": "",
          "id": "160804043",
          "location": "pn6",
          "received": "13:10",
          "type": "found property"
         },
         {
          "arrived": "13:48",
          "cleared": "14:07",
          "date": "08/04/16",
          "dispatched": "13:43",
          "id": "160804044",
          "location": "pn2",
          "received": "13:41",
          "type": "coll non inj"
         },
         {
          "arrived": "",
          "cleared": "13:45",
          "date": "08/04/16",
          "dispatched": "13:45",
          "id": "160804045",
          "location": "pn10",
          "received": "13:42",
          "type": "traffic offense"
         },
         {
          "arrived": "14:01",
          "cleared": "14:08",
          "date": "08/04/16",
          "dispatched": "13:54",
          "id": "160804046",
          "location": "pn10",
          "received": "13:48",
          "type": "custodial int."
         },
         {
          "arrived": "13:57",
          "cleared": "14:05",
          "date": "08/04/16",
          "dispatched": "",
          "id": "160804047",
          "location": "pn13",
          "received": "13:57",
          "type": "trespassing"
         },
         {
          "arrived": "14:09",
          "cleared": "14:23",
          "date": "08/04/16",
          "dispatched": "",
          "id": "160804048",
          "location": "pn6",
          "received": "14:08",
          "type": "towed vehicle"
         },
         {
          "arrived": "14:16",
          "cleared": "14:19",
          "date": "08/04/16",
          "dispatched": "14:10",
          "id": "160804049",
          "location": "pn5",
          "received": "14:10",
          "type": "assist req"
         },
         {
          "arrived": "14:37",
          "cleared": "15:31",
          "date": "08/04/16",
          "dispatched": "14:15",
          "id": "160804050",
          "location": "pn5",
          "received": "14:13",
          "type": "assist req"
         },
         {
          "arrived": "14:30",
          "cleared": "14:58",
          "date": "08/04/16",
          "dispatched": "14:26",
          "id": "160804051",
          "location": "pn8",
          "received": "14:13",
          "type": "suspicious"
         },
         {
          "arrived": "14:41",
          "cleared": "14:57",
          "date": "08/04/16",
          "dispatched": "",
          "id": "160804052",
          "location": "pn13",
          "received": "14:41",
          "type": "coll non inj"
         },
         {
          "arrived": "14:48",
          "cleared": "14:59",
          "date": "08/04/16",
          "dispatched": "14:46",
          "id": "160804053",
          "location": "pn10",
          "received": "14:42",
          "type": "9-1-1 abandon"
         },
         {
          "arrived": "15:15",
          "cleared": "15:47",
          "date": "08/04/16",
          "dispatched": "15:15",
          "id": "160804054",
          "location": "pn3",
          "received": "14:55",
          "type": "vandalism"
         },
         {
          "arrived": "15:19",
          "cleared": "15:19",
          "date": "08/04/16",
          "dispatched": "15:19",
          "id": "160804055",
          "location": "pn5",
          "received": "15:14",
          "type": "traffic hazard"
         },
         {
          "arrived": "15:26",
          "cleared": "16:05",
          "date": "08/04/16",
          "dispatched": "15:25",
          "id": "160804056",
          "location": "pn5",
          "received": "15:24",
          "type": "robbery"
         },
         {
          "arrived": "15:52",
          "cleared": "16:21",
          "date": "08/04/16",
          "dispatched": "15:47",
          "id": "160804057",
          "location": "pn2",
          "received": "15:21",
          "type": "suspicious"
         },
         {
          "arrived": "15:58",
          "cleared": "16:13",
          "date": "08/04/16",
          "dispatched": "15:56",
          "id": "160804058",
          "location": "pn6",
          "received": "15:28",
          "type": "suspicious"
         },
         {
          "arrived": "15:58",
          "cleared": "16:05",
          "date": "08/04/16",
          "dispatched": "15:53",
          "id": "160804059",
          "location": "pn10",
          "received": "15:37",
          "type": "suspicious"
         },
         {
          "arrived": "16:20",
          "cleared": "16:46",
          "date": "08/04/16",
          "dispatched": "16:15",
          "id": "160804060",
          "location": "pn7",
          "received": "15:58",
          "type": "citizen dispute"
         },
         {
          "arrived": "",
          "cleared": "16:13",
          "date": "08/04/16",
          "dispatched": "16:11",
          "id": "160804061",
          "location": "pn8",
          "received": "16:06",
          "type": "traffic hazard"
         },
         {
          "arrived": "16:27",
          "cleared": "16:49",
          "date": "08/04/16",
          "dispatched": "16:17",
          "id": "160804062",
          "location": "pn9",
          "received": "16:06",
          "type": "threatening"
         },
         {
          "arrived": "16:57",
          "cleared": "17:45",
          "date": "08/04/16",
          "dispatched": "16:46",
          "id": "160804063",
          "location": "pn13",
          "received": "16:25",
          "type": "assault"
         },
         {
          "arrived": "17:06",
          "cleared": "17:27",
          "date": "08/04/16",
          "dispatched": "17:01",
          "id": "160804064",
          "location": "pn7",
          "received": "16:58",
          "type": "mental subj"
         },
         {
          "arrived": "17:28",
          "cleared": "17:57",
          "date": "08/04/16",
          "dispatched": "17:26",
          "id": "160804065",
          "location": "pn6",
          "received": "16:57",
          "type": "assist o police"
         },
         {
          "arrived": "17:42",
          "cleared": "18:12",
          "date": "08/04/16",
          "dispatched": "17:23",
          "id": "160804066",
          "location": "pn7",
          "received": "17:10",
          "type": "threatening"
         },
         {
          "arrived": "",
          "cleared": "17:22",
          "date": "08/04/16",
          "dispatched": "17:21",
          "id": "160804067",
          "location": "pn9",
          "received": "17:19",
          "type": "public works"
         },
         {
          "arrived": "",
          "cleared": "17:28",
          "date": "08/04/16",
          "dispatched": "17:28",
          "id": "160804068",
          "location": "pn11",
          "received": "17:25",
          "type": "traffic offense"
         },
         {
          "arrived": "17:30",
          "cleared": "17:32",
          "date": "08/04/16",
          "dispatched": "",
          "id": "160804069",
          "location": "pn7",
          "received": "17:30",
          "type": "assist req"
         },
         {
          "arrived": "18:02",
          "cleared": "18:29",
          "date": "08/04/16",
          "dispatched": "17:54",
          "id": "160804070",
          "location": "pn7",
          "received": "17:27",
          "type": "weapon offense"
         },
         {
          "arrived": "17:34",
          "cleared": "17:42",
          "date": "08/04/16",
          "dispatched": "",
          "id": "160804071",
          "location": "pn5",
          "received": "17:34",
          "type": "towed vehicle"
         },
         {
          "arrived": "17:45",
          "cleared": "17:59",
          "date": "08/04/16",
          "dispatched": "17:37",
          "id": "160804072",
          "location": "pn2",
          "received": "17:36",
          "type": "vandalism"
         },
         {
          "arrived": "",
          "cleared": "17:53",
          "date": "08/04/16",
          "dispatched": "17:53",
          "id": "160804073",
          "location": "pn2",
          "received": "17:51",
          "type": "traffic offense"
         },
         {
          "arrived": "18:10",
          "cleared": "18:15",
          "date": "08/04/16",
          "dispatched": "18:09",
          "id": "160804074",
          "location": "pn11",
          "received": "18:04",
          "type": "alarm silent"
         },
         {
          "arrived": "19:28",
          "cleared": "19:47",
          "date": "08/04/16",
          "dispatched": "18:52",
          "id": "160804075",
          "location": "pn1",
          "received": "18:24",
          "type": "assault"
         },
         {
          "arrived": "19:28",
          "cleared": "19:36",
          "date": "08/04/16",
          "dispatched": "18:53",
          "id": "160804076",
          "location": "pn7",
          "received": "18:37",
          "type": "suspicious"
         },
         {
          "arrived": "19:35",
          "cleared": "20:10",
          "date": "08/04/16",
          "dispatched": "18:52",
          "id": "160804077",
          "location": "pn8",
          "received": "18:40",
          "type": "trespassing"
         },
         {
          "arrived": "18:54",
          "cleared": "19:09",
          "date": "08/04/16",
          "dispatched": "18:47",
          "id": "160804078",
          "location": "pn5",
          "received": "18:41",
          "type": "public works"
         },
         {
          "arrived": "19:31",
          "cleared": "19:34",
          "date": "08/04/16",
          "dispatched": "19:02",
          "id": "160804079",
          "location": "pn8",
          "received": "18:58",
          "type": "suspicious"
         },
         {
          "arrived": "19:22",
          "cleared": "20:01",
          "date": "08/04/16",
          "dispatched": "19:08",
          "id": "160804080",
          "location": "pn10",
          "received": "19:02",
          "type": "suspicious"
         },
         {
          "arrived": "19:26",
          "cleared": "19:31",
          "date": "08/04/16",
          "dispatched": "19:24",
          "id": "160804081",
          "location": "pn5",
          "received": "19:22",
          "type": "parking problem"
         },
         {
          "arrived": "20:00",
          "cleared": "20:10",
          "date": "08/04/16",
          "dispatched": "19:53",
          "id": "160804082",
          "location": "pn11",
          "received": "19:49",
          "type": "mc-camping"
         },
         {
          "arrived": "19:55",
          "cleared": "19:57",
          "date": "08/04/16",
          "dispatched": "",
          "id": "160804083",
          "location": "pn8",
          "received": "19:54",
          "type": "aband vehicle"
         },
         {
          "arrived": "20:00",
          "cleared": "20:01",
          "date": "08/04/16",
          "dispatched": "",
          "id": "160804084",
          "location": "pn8",
          "received": "20:00",
          "type": "aband vehicle"
         },
         {
          "arrived": "20:07",
          "cleared": "20:08",
          "date": "08/04/16",
          "dispatched": "",
          "id": "160804085",
          "location": "pn8",
          "received": "20:07",
          "type": "aband vehicle"
         },
         {
          "arrived": "20:17",
          "cleared": "20:24",
          "date": "08/04/16",
          "dispatched": "20:15",
          "id": "160804086",
          "location": "pn2",
          "received": "20:14",
          "type": "coll non inj"
         },
         {
          "arrived": "20:44",
          "cleared": "21:26",
          "date": "08/04/16",
          "dispatched": "20:40",
          "id": "160804087",
          "location": "pn13",
          "received": "20:33",
          "type": "assist req"
         },
         {
          "arrived": "21:10",
          "cleared": "21:15",
          "date": "08/04/16",
          "dispatched": "20:58",
          "id": "160804088",
          "location": "pn8",
          "received": "20:54",
          "type": "suspicious"
         },
         {
          "arrived": "22:05",
          "cleared": "22:07",
          "date": "08/04/16",
          "dispatched": "21:41",
          "id": "160804089",
          "location": "pn1",
          "received": "21:32",
          "type": "suspicious"
         },
         {
          "arrived": "21:51",
          "cleared": "21:57",
          "date": "08/04/16",
          "dispatched": "21:44",
          "id": "160804090",
          "location": "pn10",
          "received": "21:39",
          "type": "trespassing"
         },
         {
          "arrived": "23:09",
          "cleared": "00:48",
          "date": "08/04/16",
          "dispatched": "23:06",
          "id": "160804091",
          "location": "pn6",
          "received": "23:04",
          "type": "disorderly"
         },
         {
          "arrived": "23:07",
          "cleared": "23:17",
          "date": "08/04/16",
          "dispatched": "",
          "id": "160804092",
          "location": "pn10",
          "received": "23:07",
          "type": "suspicious"
         },
         {
          "arrived": "00:13",
          "cleared": "00:13",
          "date": "08/04/16",
          "dispatched": "23:28",
          "id": "160804093",
          "location": "pn5",
          "received": "23:24",
          "type": "animal problem"
         },
         {
          "arrived": "23:39",
          "cleared": "23:52",
          "date": "08/04/16",
          "dispatched": "23:33",
          "id": "160804094",
          "location": "pn8",
          "received": "23:27",
          "type": "suspicious"
         },
         {
          "arrived": "00:06",
          "cleared": "00:20",
          "date": "08/05/16",
          "dispatched": "00:04",
          "id": "160805001",
          "location": "pn2",
          "received": "00:03",
          "type": "suspicious"
         },
         {
          "arrived": "00:20",
          "cleared": "00:29",
          "date": "08/05/16",
          "dispatched": "",
          "id": "160805002",
          "location": "pn2",
          "received": "00:19",
          "type": "noise party"
         },
         {
          "arrived": "00:36",
          "cleared": "00:45",
          "date": "08/05/16",
          "dispatched": "00:32",
          "id": "160805003",
          "location": "pn6",
          "received": "00:31",
          "type": "alarm audible"
         },
         {
          "arrived": "00:45",
          "cleared": "00:54",
          "date": "08/05/16",
          "dispatched": "00:40",
          "id": "160805004",
          "location": "pn8",
          "received": "00:38",
          "type": "noise party"
         },
         {
          "arrived": "00:51",
          "cleared": "01:07",
          "date": "08/05/16",
          "dispatched": "00:49",
          "id": "160805005",
          "location": "pn11",
          "received": "00:44",
          "type": "suspicious"
         },
         {
          "arrived": "00:58",
          "cleared": "01:05",
          "date": "08/05/16",
          "dispatched": "00:50",
          "id": "160805006",
          "location": "pn11",
          "received": "00:48",
          "type": "fireworks"
         },
         {
          "arrived": "00:58",
          "cleared": "01:09",
          "date": "08/05/16",
          "dispatched": "00:54",
          "id": "160805007",
          "location": "pn13",
          "received": "00:51",
          "type": "loitering"
         },
         {
          "arrived": "01:06",
          "cleared": "02:43",
          "date": "08/05/16",
          "dispatched": "",
          "id": "160805008",
          "location": "pn5",
          "received": "01:06",
          "type": "alcohol offense"
         },
         {
          "arrived": "01:11",
          "cleared": "01:13",
          "date": "08/05/16",
          "dispatched": "01:08",
          "id": "160805009",
          "location": "pn1",
          "received": "01:07",
          "type": "alarm audible"
         },
         {
          "arrived": "01:20",
          "cleared": "01:22",
          "date": "08/05/16",
          "dispatched": "01:12",
          "id": "160805010",
          "location": "pn12",
          "received": "01:08",
          "type": "suspicious"
         },
         {
          "arrived": "01:55",
          "cleared": "02:15",
          "date": "08/05/16",
          "dispatched": "01:51",
          "id": "160805011",
          "location": "pn13",
          "received": "01:50",
          "type": "alarm audible"
         },
         {
          "arrived": "03:08",
          "cleared": "03:53",
          "date": "08/05/16",
          "dispatched": "03:03",
          "id": "160805012",
          "location": "pn6",
          "received": "03:01",
          "type": "disorderly"
         },
         {
          "arrived": "06:33",
          "cleared": "06:34",
          "date": "08/05/16",
          "dispatched": "06:18",
          "id": "160805013",
          "location": "pn11",
          "received": "06:16",
          "type": "alarm audible"
         },
         {
          "arrived": "06:40",
          "cleared": "07:02",
          "date": "08/05/16",
          "dispatched": "06:34",
          "id": "160805014",
          "location": "pn9",
          "received": "06:28",
          "type": "found property"
         },
         {
          "arrived": "",
          "cleared": "06:36",
          "date": "08/05/16",
          "dispatched": "06:34",
          "id": "160805015",
          "location": "pn7",
          "received": "06:34",
          "type": "public works"
         },
         {
          "arrived": "07:48",
          "cleared": "07:35",
          "date": "08/02/16",
          "dispatched": "07:27",
          "id": "160802008",
          "location": "pn3",
          "received": "07:25",
          "type": "parking problem"
         },
         {
          "arrived": "07:31",
          "cleared": "07:31",
          "date": "08/02/16",
          "dispatched": "",
          "id": "160802009",
          "location": "pn8",
          "received": "07:27",
          "type": "alarm audible"
         },
         {
          "arrived": "07:41",
          "cleared": "07:42",
          "date": "08/02/16",
          "dispatched": "07:35",
          "id": "160802010",
          "location": "pn6",
          "received": "07:31",
          "type": "traffic hazard"
         },
         {
          "arrived": "07:37",
          "cleared": "07:43",
          "date": "08/02/16",
          "dispatched": "",
          "id": "160802011",
          "location": "pn8",
          "received": "07:33",
          "type": "aband vehicle"
         },
         {
          "arrived": "",
          "cleared": "08:31",
          "date": "08/02/16",
          "dispatched": "08:31",
          "id": "160802012",
          "location": "pn13",
          "received": "08:26",
          "type": "mc-camping"
         },
         {
          "arrived": "09:35",
          "cleared": "09:39",
          "date": "08/02/16",
          "dispatched": "09:28",
          "id": "160802013",
          "location": "pn6",
          "received": "08:34",
          "type": "posting vehs"
         },
         {
          "arrived": "",
          "cleared": "08:38",
          "date": "08/02/16",
          "dispatched": "08:37",
          "id": "160802014",
          "location": "pn11",
          "received": "08:35",
          "type": "aband vehicle"
         },
         {
          "arrived": "08:54",
          "cleared": "09:28",
          "date": "08/02/16",
          "dispatched": "08:42",
          "id": "160802015",
          "location": "pn3",
          "received": "08:39",
          "type": "coll non inj"
         },
         {
          "arrived": "08:53",
          "cleared": "08:56",
          "date": "08/02/16",
          "dispatched": "08:42",
          "id": "160802016",
          "location": "pn5",
          "received": "08:40",
          "type": "alarm audible"
         },
         {
          "arrived": "09:15",
          "cleared": "09:35",
          "date": "08/02/16",
          "dispatched": "",
          "id": "160802017",
          "location": "pn5",
          "received": "09:14",
          "type": "medical"
         },
         {
          "arrived": "09:25",
          "cleared": "09:25",
          "date": "08/02/16",
          "dispatched": "",
          "id": "160802018",
          "location": "pn10",
          "received": "09:23",
          "type": "aband vehicle"
         },
         {
          "arrived": "09:47",
          "cleared": "09:51",
          "date": "08/02/16",
          "dispatched": "09:39",
          "id": "160802019",
          "location": "pn1",
          "received": "09:38",
          "type": "alarm silent"
         },
         {
          "arrived": "10:04",
          "cleared": "10:14",
          "date": "08/02/16",
          "dispatched": "10:00",
          "id": "160802020",
          "location": "pn1",
          "received": "09:56",
          "type": "noise other"
         },
         {
          "arrived": "10:20",
          "cleared": "10:28",
          "date": "08/02/16",
          "dispatched": "",
          "id": "160802021",
          "location": "pn5",
          "received": "10:20",
          "type": "assist req"
         },
         {
          "arrived": "10:30",
          "cleared": "11:27",
          "date": "08/02/16",
          "dispatched": "10:27",
          "id": "160802022",
          "location": "pn2",
          "received": "10:26",
          "type": "graffiti"
         },
         {
          "arrived": "10:46",
          "cleared": "11:07",
          "date": "08/02/16",
          "dispatched": "10:46",
          "id": "160802023",
          "location": "pn5",
          "received": "10:42",
          "type": "medical"
         },
         {
          "arrived": "",
          "cleared": "10:56",
          "date": "08/02/16",
          "dispatched": "10:56",
          "id": "160802024",
          "location": "pn8",
          "received": "10:47",
          "type": "traffic offense"
         },
         {
          "arrived": "11:13",
          "cleared": "12:28",
          "date": "08/02/16",
          "dispatched": "11:08",
          "id": "160802025",
          "location": "pn6",
          "received": "10:50",
          "type": "welfare check"
         },
         {
          "arrived": "11:06",
          "cleared": "11:10",
          "date": "08/02/16",
          "dispatched": "",
          "id": "160802026",
          "location": "pn6",
          "received": "11:03",
          "type": "aband vehicle"
         },
         {
          "arrived": "11:59",
          "cleared": "12:00",
          "date": "08/02/16",
          "dispatched": "11:58",
          "id": "160802027",
          "location": "pn1",
          "received": "11:53",
          "type": "theft"
         },
         {
          "arrived": "11:58",
          "cleared": "11:59",
          "date": "08/02/16",
          "dispatched": "",
          "id": "160802028",
          "location": "pn6",
          "received": "11:56",
          "type": "aband vehicle"
         },
         {
          "arrived": "12:29",
          "cleared": "12:32",
          "date": "08/02/16",
          "dispatched": "",
          "id": "160802029",
          "location": "pn5",
          "received": "12:25",
          "type": "parking problem"
         },
         {
          "arrived": "13:46",
          "cleared": "15:45",
          "date": "08/02/16",
          "dispatched": "",
          "id": "160802030",
          "location": "pn13",
          "received": "12:53",
          "type": "found property"
         },
         {
          "arrived": "13:34",
          "cleared": "14:09",
          "date": "08/02/16",
          "dispatched": "13:15",
          "id": "160802031",
          "location": "pn5",
          "received": "13:13",
          "type": "assist req"
         },
         {
          "arrived": "14:17",
          "cleared": "14:19",
          "date": "08/02/16",
          "dispatched": "14:12",
          "id": "160802032",
          "location": "pn6",
          "received": "13:59",
          "type": "animal problem"
         },
         {
          "arrived": "14:15",
          "cleared": "16:23",
          "date": "08/02/16",
          "dispatched": "14:07",
          "id": "160802033",
          "location": "pn1",
          "received": "14:01",
          "type": "assist req"
         },
         {
          "arrived": "14:45",
          "cleared": "14:49",
          "date": "08/02/16",
          "dispatched": "14:37",
          "id": "160802034",
          "location": "pn7",
          "received": "14:36",
          "type": "coll non inj"
         },
         {
          "arrived": "14:48",
          "cleared": "16:35",
          "date": "08/02/16",
          "dispatched": "14:44",
          "id": "160802035",
          "location": "pn5",
          "received": "14:34",
          "type": "embezzlement"
         },
         {
          "arrived": "14:54",
          "cleared": "15:13",
          "date": "08/02/16",
          "dispatched": "14:51",
          "id": "160802036",
          "location": "pn7",
          "received": "14:43",
          "type": "threatening"
         },
         {
          "arrived": "15:13",
          "cleared": "15:45",
          "date": "08/02/16",
          "dispatched": "15:08",
          "id": "160802037",
          "location": "pn5",
          "received": "15:04",
          "type": "muni code viol"
         },
         {
          "arrived": "15:07",
          "cleared": "15:15",
          "date": "08/02/16",
          "dispatched": "",
          "id": "160802038",
          "location": "pn5",
          "received": "15:07",
          "type": "sex offense"
         },
         {
          "arrived": "15:47",
          "cleared": "16:07",
          "date": "08/02/16",
          "dispatched": "15:40",
          "id": "160802039",
          "location": "pn13",
          "received": "15:30",
          "type": "disorderly"
         },
         {
          "arrived": "16:24",
          "cleared": "17:13",
          "date": "08/02/16",
          "dispatched": "16:19",
          "id": "160802040",
          "location": "pn7",
          "received": "16:18",
          "type": "assist o police"
         },
         {
          "arrived": "16:32",
          "cleared": "16:53",
          "date": "08/02/16",
          "dispatched": "16:24",
          "id": "160802041",
          "location": "pn5",
          "received": "16:16",
          "type": "theft"
         },
         {
          "arrived": "",
          "cleared": "17:08",
          "date": "08/02/16",
          "dispatched": "17:06",
          "id": "160802042",
          "location": "pn6",
          "received": "17:05",
          "type": "alarm audible"
         },
         {
          "arrived": "17:15",
          "cleared": "18:43",
          "date": "08/02/16",
          "dispatched": "17:13",
          "id": "160802043",
          "location": "pn5",
          "received": "17:09",
          "type": "public works"
         },
         {
          "arrived": "17:19",
          "cleared": "17:26",
          "date": "08/02/16",
          "dispatched": "",
          "id": "160802044",
          "location": "pn13",
          "received": "17:14",
          "type": "information"
         },
         {
          "arrived": "",
          "cleared": "17:26",
          "date": "08/02/16",
          "dispatched": "17:23",
          "id": "160802045",
          "location": "pn9",
          "received": "17:22",
          "type": "alarm audible"
         },
         {
          "arrived": "17:31",
          "cleared": "17:32",
          "date": "08/02/16",
          "dispatched": "17:26",
          "id": "160802046",
          "location": "pn5",
          "received": "17:21",
          "type": "posting vehs"
         },
         {
          "arrived": "17:53",
          "cleared": "18:08",
          "date": "08/02/16",
          "dispatched": "17:50",
          "id": "160802047",
          "location": "pn5",
          "received": "17:48",
          "type": "suspicious"
         },
         {
          "arrived": "18:04",
          "cleared": "18:15",
          "date": "08/02/16",
          "dispatched": "",
          "id": "160802048",
          "location": "pn11",
          "received": "18:00",
          "type": "assist req"
         },
         {
          "arrived": "18:20",
          "cleared": "18:22",
          "date": "08/02/16",
          "dispatched": "18:11",
          "id": "160802049",
          "location": "pn8",
          "received": "18:10",
          "type": "welfare check"
         },
         {
          "arrived": "21:04",
          "cleared": "21:58",
          "date": "08/02/16",
          "dispatched": "20:54",
          "id": "160802050",
          "location": "pn7",
          "received": "18:26",
          "type": "disorderly"
         },
         {
          "arrived": "18:57",
          "cleared": "18:57",
          "date": "08/02/16",
          "dispatched": "18:57",
          "id": "160802051",
          "location": "pn13",
          "received": "18:54",
          "type": "9-1-1 abandon"
         },
         {
          "arrived": "19:17",
          "cleared": "19:17",
          "date": "08/02/16",
          "dispatched": "",
          "id": "160802052",
          "location": "pn12",
          "received": "19:06",
          "type": "traffic offense"
         },
         {
          "arrived": "19:53",
          "cleared": "20:02",
          "date": "08/02/16",
          "dispatched": "19:24",
          "id": "160802053",
          "location": "pn7",
          "received": "19:18",
          "type": "noise police"
         },
         {
          "arrived": "20:17",
          "cleared": "20:26",
          "date": "08/02/16",
          "dispatched": "20:12",
          "id": "160802054",
          "location": "pn6",
          "received": "20:08",
          "type": "noise party"
         },
         {
          "arrived": "20:47",
          "cleared": "21:07",
          "date": "08/02/16",
          "dispatched": "20:36",
          "id": "160802055",
          "location": "pn10",
          "received": "20:35",
          "type": "found property"
         },
         {
          "arrived": "21:04",
          "cleared": "21:08",
          "date": "08/02/16",
          "dispatched": "20:55",
          "id": "160802056",
          "location": "pn7",
          "received": "20:49",
          "type": "suspicious"
         },
         {
          "arrived": "21:42",
          "cleared": "21:45",
          "date": "08/02/16",
          "dispatched": "21:33",
          "id": "160802057",
          "location": "pn7",
          "received": "20:53",
          "type": "controlled narc"
         },
         {
          "arrived": "21:35",
          "cleared": "21:37",
          "date": "08/02/16",
          "dispatched": "21:33",
          "id": "160802058",
          "location": "pn6",
          "received": "20:54",
          "type": "alcohol offense"
         },
         {
          "arrived": "21:14",
          "cleared": "21:32",
          "date": "08/02/16",
          "dispatched": "21:10",
          "id": "160802059",
          "location": "pn6",
          "received": "21:07",
          "type": "welfare check"
         },
         {
          "arrived": "21:26",
          "cleared": "21:32",
          "date": "08/02/16",
          "dispatched": "21:25",
          "id": "160802060",
          "location": "pn2",
          "received": "21:19",
          "type": "assist req"
         },
         {
          "arrived": "",
          "cleared": "21:32",
          "date": "08/02/16",
          "dispatched": "21:32",
          "id": "160802061",
          "location": "pn11",
          "received": "21:29",
          "type": "alarm audible"
         },
         {
          "arrived": "21:58",
          "cleared": "23:22",
          "date": "08/02/16",
          "dispatched": "21:48",
          "id": "160802062",
          "location": "pn6",
          "received": "21:47",
          "type": "coll inj"
         },
         {
          "arrived": "21:58",
          "cleared": "22:08",
          "date": "08/02/16",
          "dispatched": "21:52",
          "id": "160802063",
          "location": "pn1",
          "received": "21:47",
          "type": "noise party"
         },
         {
          "arrived": "21:50",
          "cleared": "21:57",
          "date": "08/02/16",
          "dispatched": "21:47",
          "id": "160802064",
          "location": "lz0",
          "received": "21:44",
          "type": "assist o police"
         },
         {
          "arrived": "22:02",
          "cleared": "22:10",
          "date": "08/02/16",
          "dispatched": "21:59",
          "id": "160802065",
          "location": "pn10",
          "received": "21:58",
          "type": "alarm audible"
         },
         {
          "arrived": "22:08",
          "cleared": "22:13",
          "date": "08/02/16",
          "dispatched": "",
          "id": "160802066",
          "location": "pn11",
          "received": "22:06",
          "type": "public works"
         },
         {
          "arrived": "22:22",
          "cleared": "22:31",
          "date": "08/02/16",
          "dispatched": "22:15",
          "id": "160802067",
          "location": "pn8",
          "received": "22:10",
          "type": "mc-camping"
         },
         {
          "arrived": "22:31",
          "cleared": "22:40",
          "date": "08/02/16",
          "dispatched": "",
          "id": "160802068",
          "location": "pn13",
          "received": "22:25",
          "type": "alarm silent"
         },
         {
          "arrived": "22:52",
          "cleared": "22:56",
          "date": "08/02/16",
          "dispatched": "22:42",
          "id": "160802069",
          "location": "pn6",
          "received": "22:34",
          "type": "noise party"
         },
         {
          "arrived": "22:45",
          "cleared": "22:53",
          "date": "08/02/16",
          "dispatched": "22:41",
          "id": "160802070",
          "location": "pn10",
          "received": "22:36",
          "type": "noise party"
         },
         {
          "arrived": "23:02",
          "cleared": "23:19",
          "date": "08/02/16",
          "dispatched": "22:57",
          "id": "160802071",
          "location": "pn10",
          "received": "22:52",
          "type": "welfare check"
         },
         {
          "arrived": "23:06",
          "cleared": "23:21",
          "date": "08/02/16",
          "dispatched": "22:58",
          "id": "160802072",
          "location": "pn5",
          "received": "22:57",
          "type": "noise party"
         },
         {
          "arrived": "23:31",
          "cleared": "23:35",
          "date": "08/02/16",
          "dispatched": "23:21",
          "id": "160802073",
          "location": "pn8",
          "received": "23:15",
          "type": "noise party"
         },
         {
          "arrived": "00:08",
          "cleared": "00:15",
          "date": "08/03/16",
          "dispatched": "00:06",
          "id": "160803001",
          "location": "pn6",
          "received": "00:04",
          "type": "welfare check"
         },
         {
          "arrived": "00:28",
          "cleared": "00:30",
          "date": "08/03/16",
          "dispatched": "",
          "id": "160803002",
          "location": "pn6",
          "received": "00:24",
          "type": "information"
         },
         {
          "arrived": "00:56",
          "cleared": "01:17",
          "date": "08/03/16",
          "dispatched": "00:46",
          "id": "160803003",
          "location": "pn7",
          "received": "00:41",
          "type": "assist req"
         },
         {
          "arrived": "01:11",
          "cleared": "01:17",
          "date": "08/03/16",
          "dispatched": "01:07",
          "id": "160803004",
          "location": "pn6",
          "received": "00:56",
          "type": "noise party"
         },
         {
          "arrived": "01:49",
          "cleared": "02:04",
          "date": "08/03/16",
          "dispatched": "01:41",
          "id": "160803005",
          "location": "pn8",
          "received": "01:40",
          "type": "suspicious"
         },
         {
          "arrived": "01:49",
          "cleared": "02:43",
          "date": "08/03/16",
          "dispatched": "01:45",
          "id": "160803006",
          "location": "pn2",
          "received": "01:43",
          "type": "assist req"
         },
         {
          "arrived": "02:19",
          "cleared": "02:35",
          "date": "08/03/16",
          "dispatched": "02:16",
          "id": "160803007",
          "location": "pn8",
          "received": "02:15",
          "type": "suspicious"
         },
         {
          "arrived": "06:35",
          "cleared": "06:52",
          "date": "08/03/16",
          "dispatched": "06:34",
          "id": "160803008",
          "location": "pn2",
          "received": "04:02",
          "type": "noise other"
         },
         {
          "arrived": "",
          "cleared": "04:22",
          "date": "08/03/16",
          "dispatched": "04:13",
          "id": "160803009",
          "location": "pn9",
          "received": "04:12",
          "type": "public works"
         },
         {
          "arrived": "06:05",
          "cleared": "06:28",
          "date": "08/03/16",
          "dispatched": "06:01",
          "id": "160803010",
          "location": "pn5",
          "received": "05:59",
          "type": "welfare check"
         },
         {
          "arrived": "06:17",
          "cleared": "06:39",
          "date": "08/03/16",
          "dispatched": "06:10",
          "id": "160803011",
          "location": "pn1",
          "received": "06:07",
          "type": "welfare check"
         },
         {
          "arrived": "06:33",
          "cleared": "06:37",
          "date": "08/03/16",
          "dispatched": "06:30",
          "id": "160803012",
          "location": "pn5",
          "received": "06:29",
          "type": "alarm audible"
         },
         {
          "arrived": "08:04",
          "cleared": "08:20",
          "date": "08/19/16",
          "dispatched": "07:55",
          "id": "160819017",
          "location": "pn9",
          "received": "07:49",
          "type": "theft"
         },
         {
          "arrived": "08:02",
          "cleared": "08:45",
          "date": "08/19/16",
          "dispatched": "08:02",
          "id": "160819018",
          "location": "pn12",
          "received": "07:43",
          "type": "medical"
         },
         {
          "arrived": "",
          "cleared": "08:20",
          "date": "08/19/16",
          "dispatched": "08:20",
          "id": "160819019",
          "location": "pn8",
          "received": "08:08",
          "type": "aband vehicle"
         },
         {
          "arrived": "08:17",
          "cleared": "09:29",
          "date": "08/19/16",
          "dispatched": "",
          "id": "160819020",
          "location": "pn6",
          "received": "08:17",
          "type": "warrant"
         },
         {
          "arrived": "05:17",
          "cleared": "05:18",
          "date": "08/19/16",
          "dispatched": "05:10",
          "id": "160819021",
          "location": "pn2",
          "received": "08:18",
          "type": "posting vehs"
         },
         {
          "arrived": "08:23",
          "cleared": "08:24",
          "date": "08/19/16",
          "dispatched": "",
          "id": "160819022",
          "location": "pn5",
          "received": "08:23",
          "type": "alcohol offense"
         },
         {
          "arrived": "08:35",
          "cleared": "08:45",
          "date": "08/19/16",
          "dispatched": "",
          "id": "160819023",
          "location": "pn5",
          "received": "08:35",
          "type": "trespassing"
         },
         {
          "arrived": "08:45",
          "cleared": "08:52",
          "date": "08/19/16",
          "dispatched": "08:36",
          "id": "160819024",
          "location": "pn4",
          "received": "08:35",
          "type": "9-1-1 abandon"
         },
         {
          "arrived": "",
          "cleared": "08:40",
          "date": "08/19/16",
          "dispatched": "08:40",
          "id": "160819025",
          "location": "pn6",
          "received": "08:38",
          "type": "alarm audible"
         },
         {
          "arrived": "08:52",
          "cleared": "08:58",
          "date": "08/19/16",
          "dispatched": "08:49",
          "id": "160819026",
          "location": "pn10",
          "received": "08:45",
          "type": "loitering"
         },
         {
          "arrived": "05:11",
          "cleared": "05:11",
          "date": "08/19/16",
          "dispatched": "05:10",
          "id": "160819027",
          "location": "pn5",
          "received": "08:51",
          "type": "posting vehs"
         },
         {
          "arrived": "",
          "cleared": "09:00",
          "date": "08/19/16",
          "dispatched": "08:58",
          "id": "160819028",
          "location": "pn1",
          "received": "08:57",
          "type": "parking problem"
         },
         {
          "arrived": "09:19",
          "cleared": "09:33",
          "date": "08/19/16",
          "dispatched": "",
          "id": "160819029",
          "location": "pn5",
          "received": "09:12",
          "type": "suspicious"
         },
         {
          "arrived": "09:26",
          "cleared": "09:35",
          "date": "08/19/16",
          "dispatched": "",
          "id": "160819030",
          "location": "pn2",
          "received": "09:26",
          "type": "suspicious"
         },
         {
          "arrived": "10:23",
          "cleared": "10:55",
          "date": "08/19/16",
          "dispatched": "",
          "id": "160819031",
          "location": "pn5",
          "received": "10:23",
          "type": "alcohol offense"
         },
         {
          "arrived": "10:32",
          "cleared": "10:53",
          "date": "08/19/16",
          "dispatched": "10:27",
          "id": "160819032",
          "location": "pn11",
          "received": "10:25",
          "type": "mc-alcohol"
         },
         {
          "arrived": "10:46",
          "cleared": "10:50",
          "date": "08/19/16",
          "dispatched": "10:45",
          "id": "160819033",
          "location": "pn1",
          "received": "10:41",
          "type": "theft"
         },
         {
          "arrived": "10:55",
          "cleared": "11:03",
          "date": "08/19/16",
          "dispatched": "10:50",
          "id": "160819034",
          "location": "pn2",
          "received": "10:43",
          "type": "loitering"
         },
         {
          "arrived": "10:55",
          "cleared": "10:55",
          "date": "08/19/16",
          "dispatched": "",
          "id": "160819035",
          "location": "pn5",
          "received": "10:54",
          "type": "controlled narc"
         },
         {
          "arrived": "11:01",
          "cleared": "11:25",
          "date": "08/19/16",
          "dispatched": "10:58",
          "id": "160819036",
          "location": "pn5",
          "received": "10:57",
          "type": "disorderly"
         },
         {
          "arrived": "",
          "cleared": "11:12",
          "date": "08/19/16",
          "dispatched": "11:04",
          "id": "160819037",
          "location": "pn8",
          "received": "11:01",
          "type": "aband vehicle"
         },
         {
          "arrived": "11:42",
          "cleared": "11:59",
          "date": "08/19/16",
          "dispatched": "11:33",
          "id": "160819038",
          "location": "pn1",
          "received": "11:26",
          "type": "theft"
         },
         {
          "arrived": "",
          "cleared": "11:44",
          "date": "08/19/16",
          "dispatched": "11:44",
          "id": "160819039",
          "location": "pn3",
          "received": "11:43",
          "type": "9-1-1 abandon"
         },
         {
          "arrived": "11:52",
          "cleared": "12:02",
          "date": "08/19/16",
          "dispatched": "11:47",
          "id": "160819040",
          "location": "pn13",
          "received": "11:45",
          "type": "suspicious"
         },
         {
          "arrived": "12:22",
          "cleared": "12:31",
          "date": "08/19/16",
          "dispatched": "12:09",
          "id": "160819041",
          "location": "pn5",
          "received": "12:08",
          "type": "vandalism"
         },
         {
          "arrived": "13:03",
          "cleared": "13:08",
          "date": "08/19/16",
          "dispatched": "12:48",
          "id": "160819042",
          "location": "pn3",
          "received": "12:32",
          "type": "suspicious"
         },
         {
          "arrived": "12:39",
          "cleared": "12:44",
          "date": "08/19/16",
          "dispatched": "",
          "id": "160819043",
          "location": "pn9",
          "received": "12:39",
          "type": "suspicious"
         },
         {
          "arrived": "12:55",
          "cleared": "13:05",
          "date": "08/19/16",
          "dispatched": "12:50",
          "id": "160819044",
          "location": "pn6",
          "received": "12:48",
          "type": "disorderly"
         },
         {
          "arrived": "",
          "cleared": "13:00",
          "date": "08/19/16",
          "dispatched": "12:58",
          "id": "160819045",
          "location": "pn11",
          "received": "12:53",
          "type": "assist req"
         },
         {
          "arrived": "13:25",
          "cleared": "13:34",
          "date": "08/19/16",
          "dispatched": "13:18",
          "id": "160819046",
          "location": "pn11",
          "received": "13:16",
          "type": "coll non inj"
         },
         {
          "arrived": "14:06",
          "cleared": "14:11",
          "date": "08/19/16",
          "dispatched": "",
          "id": "160819047",
          "location": "pn5",
          "received": "14:06",
          "type": "alcohol offense"
         },
         {
          "arrived": "14:27",
          "cleared": "14:54",
          "date": "08/19/16",
          "dispatched": "14:22",
          "id": "160819048",
          "location": "pn9",
          "received": "14:17",
          "type": "citizen dispute"
         },
         {
          "arrived": "14:27",
          "cleared": "14:44",
          "date": "08/19/16",
          "dispatched": "14:23",
          "id": "160819049",
          "location": "pn6",
          "received": "14:22",
          "type": "disorderly"
         },
         {
          "arrived": "16:35",
          "cleared": "16:59",
          "date": "08/19/16",
          "dispatched": "16:25",
          "id": "160819050",
          "location": "pn8",
          "received": "14:21",
          "type": "citizen dispute"
         },
         {
          "arrived": "14:44",
          "cleared": "14:47",
          "date": "08/19/16",
          "dispatched": "",
          "id": "160819051",
          "location": "pn9",
          "received": "14:37",
          "type": "traffic hazard"
         },
         {
          "arrived": "14:52",
          "cleared": "15:00",
          "date": "08/19/16",
          "dispatched": "14:51",
          "id": "160819052",
          "location": "pn2",
          "received": "14:41",
          "type": "theft"
         },
         {
          "arrived": "15:15",
          "cleared": "15:26",
          "date": "08/19/16",
          "dispatched": "15:08",
          "id": "160819053",
          "location": "pn11",
          "received": "15:06",
          "type": "9-1-1 abandon"
         },
         {
          "arrived": "15:23",
          "cleared": "15:28",
          "date": "08/19/16",
          "dispatched": "15:17",
          "id": "160819054",
          "location": "pn2",
          "received": "15:12",
          "type": "alarm audible"
         },
         {
          "arrived": "15:31",
          "cleared": "16:00",
          "date": "08/19/16",
          "dispatched": "15:25",
          "id": "160819055",
          "location": "pn5",
          "received": "15:14",
          "type": "found property"
         },
         {
          "arrived": "15:24",
          "cleared": "15:30",
          "date": "08/19/16",
          "dispatched": "15:34",
          "id": "160819056",
          "location": "pn2",
          "received": "15:16",
          "type": "suspicious"
         },
         {
          "arrived": "15:38",
          "cleared": "15:38",
          "date": "08/19/16",
          "dispatched": "15:25",
          "id": "160819057",
          "location": "pn5",
          "received": "15:17",
          "type": "theft"
         },
         {
          "arrived": "",
          "cleared": "15:56",
          "date": "08/19/16",
          "dispatched": "15:41",
          "id": "160819058",
          "location": "pn5",
          "received": "15:27",
          "type": "trespassing"
         },
         {
          "arrived": "15:58",
          "cleared": "16:36",
          "date": "08/19/16",
          "dispatched": "15:54",
          "id": "160819059",
          "location": "pn7",
          "received": "15:52",
          "type": "coll inj"
         },
         {
          "arrived": "16:08",
          "cleared": "19:10",
          "date": "08/19/16",
          "dispatched": "15:59",
          "id": "160819060",
          "location": "pn6",
          "received": "15:50",
          "type": "burg res"
         },
         {
          "arrived": "16:09",
          "cleared": "16:24",
          "date": "08/19/16",
          "dispatched": "",
          "id": "160819061",
          "location": "pn6",
          "received": "16:01",
          "type": "suspicious"
         },
         {
          "arrived": "16:19",
          "cleared": "16:22",
          "date": "08/19/16",
          "dispatched": "16:11",
          "id": "160819062",
          "location": "pn8",
          "received": "16:07",
          "type": "disorderly"
         },
         {
          "arrived": "16:37",
          "cleared": "16:42",
          "date": "08/19/16",
          "dispatched": "16:34",
          "id": "160819063",
          "location": "pn7",
          "received": "16:09",
          "type": "citizen dispute"
         },
         {
          "arrived": "16:31",
          "cleared": "16:34",
          "date": "08/19/16",
          "dispatched": "16:23",
          "id": "160819064",
          "location": "pn10",
          "received": "16:19",
          "type": "suspicious"
         },
         {
          "arrived": "16:53",
          "cleared": "16:59",
          "date": "08/19/16",
          "dispatched": "16:39",
          "id": "160819065",
          "location": "pn8",
          "received": "16:37",
          "type": "alarm audible"
         },
         {
          "arrived": "17:16",
          "cleared": "17:17",
          "date": "08/19/16",
          "dispatched": "17:06",
          "id": "160819066",
          "location": "pn10",
          "received": "16:34",
          "type": "traffic hazard"
         },
         {
          "arrived": "",
          "cleared": "17:26",
          "date": "08/19/16",
          "dispatched": "",
          "id": "160819067",
          "location": "pn10",
          "received": "16:53",
          "type": "towed vehicle"
         },
         {
          "arrived": "",
          "cleared": "17:07",
          "date": "08/19/16",
          "dispatched": "17:06",
          "id": "160819068",
          "location": "pn12",
          "received": "17:03",
          "type": "alarm audible"
         },
         {
          "arrived": "",
          "cleared": "17:31",
          "date": "08/19/16",
          "dispatched": "17:31",
          "id": "160819069",
          "location": "pn11",
          "received": "17:29",
          "type": "alarm audible"
         },
         {
          "arrived": "17:40",
          "cleared": "17:46",
          "date": "08/19/16",
          "dispatched": "17:38",
          "id": "160819070",
          "location": "pn13",
          "received": "17:34",
          "type": "trespassing"
         },
         {
          "arrived": "17:55",
          "cleared": "18:49",
          "date": "08/19/16",
          "dispatched": "17:46",
          "id": "160819071",
          "location": "pn13",
          "received": "17:44",
          "type": "traffic hazard"
         },
         {
          "arrived": "18:01",
          "cleared": "18:01",
          "date": "08/19/16",
          "dispatched": "",
          "id": "160819072",
          "location": "pn5",
          "received": "18:00",
          "type": "warrant"
         },
         {
          "arrived": "18:01",
          "cleared": "18:13",
          "date": "08/19/16",
          "dispatched": "",
          "id": "160819073",
          "location": "pn5",
          "received": "18:01",
          "type": "alcohol offense"
         },
         {
          "arrived": "18:08",
          "cleared": "18:17",
          "date": "08/19/16",
          "dispatched": "18:04",
          "id": "160819074",
          "location": "pn2",
          "received": "18:00",
          "type": "noise party"
         },
         {
          "arrived": "18:18",
          "cleared": "18:22",
          "date": "08/19/16",
          "dispatched": "18:03",
          "id": "160819075",
          "location": "pn8",
          "received": "18:02",
          "type": "traffic hazard"
         },
         {
          "arrived": "18:23",
          "cleared": "18:45",
          "date": "08/19/16",
          "dispatched": "18:19",
          "id": "160819076",
          "location": "pn11",
          "received": "18:13",
          "type": "coll hit and ru"
         },
         {
          "arrived": "18:49",
          "cleared": "18:51",
          "date": "08/19/16",
          "dispatched": "18:33",
          "id": "160819077",
          "location": "pn6",
          "received": "18:26",
          "type": "suspicious"
         },
         {
          "arrived": "19:26",
          "cleared": "19:31",
          "date": "08/19/16",
          "dispatched": "18:57",
          "id": "160819078",
          "location": "pn7",
          "received": "18:44",
          "type": "suspicious"
         },
         {
          "arrived": "19:05",
          "cleared": "19:12",
          "date": "08/19/16",
          "dispatched": "18:54",
          "id": "160819079",
          "location": "pn13",
          "received": "18:51",
          "type": "suspicious"
         },
         {
          "arrived": "",
          "cleared": "19:09",
          "date": "08/19/16",
          "dispatched": "",
          "id": "160819080",
          "location": "pn9",
          "received": "19:00",
          "type": "trespassing"
         },
         {
          "arrived": "",
          "cleared": "19:17",
          "date": "08/19/16",
          "dispatched": "19:17",
          "id": "160819081",
          "location": "pn12",
          "received": "19:13",
          "type": "traffic offense"
         },
         {
          "arrived": "",
          "cleared": "19:26",
          "date": "08/19/16",
          "dispatched": "19:24",
          "id": "160819082",
          "location": "pn5",
          "received": "19:23",
          "type": "public works"
         },
         {
          "arrived": "20:14",
          "cleared": "20:22",
          "date": "08/19/16",
          "dispatched": "",
          "id": "160819083",
          "location": "pn5",
          "received": "20:14",
          "type": "suspicious"
         },
         {
          "arrived": "20:43",
          "cleared": "20:46",
          "date": "08/19/16",
          "dispatched": "20:41",
          "id": "160819084",
          "location": "pn5",
          "received": "20:32",
          "type": "lost property"
         },
         {
          "arrived": "21:09",
          "cleared": "21:26",
          "date": "08/19/16",
          "dispatched": "21:03",
          "id": "160819085",
          "location": "pn13",
          "received": "20:59",
          "type": "trespassing"
         },
         {
          "arrived": "21:08",
          "cleared": "21:25",
          "date": "08/19/16",
          "dispatched": "21:04",
          "id": "160819086",
          "location": "pn13",
          "received": "21:03",
          "type": "coll non inj"
         },
         {
          "arrived": "21:20",
          "cleared": "21:23",
          "date": "08/19/16",
          "dispatched": "21:19",
          "id": "160819087",
          "location": "pn5",
          "received": "21:10",
          "type": "muni code viol"
         },
         {
          "arrived": "21:47",
          "cleared": "21:55",
          "date": "08/19/16",
          "dispatched": "21:39",
          "id": "160819088",
          "location": "pn1",
          "received": "21:33",
          "type": "noise other"
         },
         {
          "arrived": "22:24",
          "cleared": "22:28",
          "date": "08/19/16",
          "dispatched": "22:22",
          "id": "160819089",
          "location": "pn3",
          "received": "21:39",
          "type": "communications"
         },
         {
          "arrived": "21:59",
          "cleared": "22:19",
          "date": "08/19/16",
          "dispatched": "21:57",
          "id": "160819090",
          "location": "pn6",
          "received": "21:52",
          "type": "controlled narc"
         },
         {
          "arrived": "22:17",
          "cleared": "22:24",
          "date": "08/19/16",
          "dispatched": "",
          "id": "160819091",
          "location": "pn5",
          "received": "22:17",
          "type": "alcohol offense"
         },
         {
          "arrived": "22:32",
          "cleared": "22:38",
          "date": "08/19/16",
          "dispatched": "",
          "id": "160819092",
          "location": "pn5",
          "received": "22:32",
          "type": "assist req"
         },
         {
          "arrived": "22:42",
          "cleared": "22:53",
          "date": "08/19/16",
          "dispatched": "22:38",
          "id": "160819093",
          "location": "pn8",
          "received": "22:35",
          "type": "noise party"
         },
         {
          "arrived": "22:59",
          "cleared": "23:09",
          "date": "08/19/16",
          "dispatched": "",
          "id": "160819094",
          "location": "pn1",
          "received": "22:39",
          "type": "noise party"
         },
         {
          "arrived": "22:49",
          "cleared": "22:50",
          "date": "08/19/16",
          "dispatched": "22:43",
          "id": "160819095",
          "location": "pn11",
          "received": "22:41",
          "type": "fireworks"
         },
         {
          "arrived": "23:14",
          "cleared": "23:19",
          "date": "08/19/16",
          "dispatched": "",
          "id": "160819096",
          "location": "pn2",
          "received": "22:55",
          "type": "noise party"
         },
         {
          "arrived": "23:02",
          "cleared": "23:12",
          "date": "08/19/16",
          "dispatched": "23:02",
          "id": "160819097",
          "location": "pn5",
          "received": "22:54",
          "type": "assist req"
         },
         {
          "arrived": "23:29",
          "cleared": "23:40",
          "date": "08/19/16",
          "dispatched": "",
          "id": "160819098",
          "location": "pn10",
          "received": "23:05",
          "type": "noise party"
         },
         {
          "arrived": "23:27",
          "cleared": "23:32",
          "date": "08/19/16",
          "dispatched": "23:24",
          "id": "160819099",
          "location": "pn1",
          "received": "23:23",
          "type": "suspicious"
         },
         {
          "arrived": "23:52",
          "cleared": "01:46",
          "date": "08/19/16",
          "dispatched": "23:40",
          "id": "160819100",
          "location": "pn1",
          "received": "23:27",
          "type": "sex offense"
         },
         {
          "arrived": "23:37",
          "cleared": "23:41",
          "date": "08/19/16",
          "dispatched": "23:34",
          "id": "160819101",
          "location": "pn8",
          "received": "23:32",
          "type": "traffic offense"
         },
         {
          "arrived": "23:42",
          "cleared": "00:03",
          "date": "08/19/16",
          "dispatched": "23:35",
          "id": "160819102",
          "location": "pn1",
          "received": "23:33",
          "type": "alcohol offense"
         },
         {
          "arrived": "23:57",
          "cleared": "00:09",
          "date": "08/19/16",
          "dispatched": "",
          "id": "160819103",
          "location": "pn1",
          "received": "23:45",
          "type": "noise party"
         },
         {
          "arrived": "23:55",
          "cleared": "01:33",
          "date": "08/19/16",
          "dispatched": "23:48",
          "id": "160819104",
          "location": "pn7",
          "received": "23:47",
          "type": "weapon offense"
         },
         {
          "arrived": "00:16",
          "cleared": "00:43",
          "date": "08/19/16",
          "dispatched": "00:04",
          "id": "160820001",
          "location": "pn10",
          "received": "23:59",
          "type": "trespassing"
         },
         {
          "arrived": "00:53",
          "cleared": "01:04",
          "date": "08/20/16",
          "dispatched": "00:45",
          "id": "160820002",
          "location": "pn10",
          "received": "00:01",
          "type": "noise 2nd resp"
         },
         {
          "arrived": "00:41",
          "cleared": "00:41",
          "date": "08/20/16",
          "dispatched": "00:29",
          "id": "160820003",
          "location": "pn6",
          "received": "00:28",
          "type": "noise party"
         },
         {
          "arrived": "01:08",
          "cleared": "01:18",
          "date": "08/20/16",
          "dispatched": "01:05",
          "id": "160820004",
          "location": "pn5",
          "received": "00:56",
          "type": "alcohol offense"
         },
         {
          "arrived": "01:06",
          "cleared": "01:59",
          "date": "08/20/16",
          "dispatched": "",
          "id": "160820005",
          "location": "pn5",
          "received": "01:06",
          "type": "controlled narc"
         },
         {
          "arrived": "01:30",
          "cleared": "02:24",
          "date": "08/20/16",
          "dispatched": "",
          "id": "160820006",
          "location": "pn6",
          "received": "01:30",
          "type": "dui"
         },
         {
          "arrived": "02:07",
          "cleared": "02:08",
          "date": "08/20/16",
          "dispatched": "02:06",
          "id": "160820007",
          "location": "pn2",
          "received": "02:04",
          "type": "suspicious"
         },
         {
          "arrived": "02:19",
          "cleared": "02:27",
          "date": "08/20/16",
          "dispatched": "",
          "id": "160820008",
          "location": "pn5",
          "received": "02:18",
          "type": "alcohol offense"
         },
         {
          "arrived": "02:34",
          "cleared": "02:39",
          "date": "08/20/16",
          "dispatched": "02:32",
          "id": "160820009",
          "location": "pn3",
          "received": "02:29",
          "type": "suspicious"
         },
         {
          "arrived": "02:34",
          "cleared": "03:02",
          "date": "08/20/16",
          "dispatched": "",
          "id": "160820010",
          "location": "pn5",
          "received": "02:34",
          "type": "alcohol offense"
         },
         {
          "arrived": "03:23",
          "cleared": "03:42",
          "date": "08/20/16",
          "dispatched": "03:19",
          "id": "160820011",
          "location": "pn6",
          "received": "03:16",
          "type": "suspicious"
         },
         {
          "arrived": "03:24",
          "cleared": "04:07",
          "date": "08/20/16",
          "dispatched": "",
          "id": "160820012",
          "location": "pn2",
          "received": "03:24",
          "type": "dui"
         },
         {
          "arrived": "03:39",
          "cleared": "04:07",
          "date": "08/20/16",
          "dispatched": "",
          "id": "160820013",
          "location": "pn2",
          "received": "03:39",
          "type": "alcohol offense"
         },
         {
          "arrived": "06:10",
          "cleared": "06:12",
          "date": "08/20/16",
          "dispatched": "06:05",
          "id": "160820014",
          "location": "pn5",
          "received": "05:34",
          "type": "loitering"
         },
         {
          "arrived": "07:42",
          "cleared": "07:43",
          "date": "08/20/16",
          "dispatched": "07:04",
          "id": "160820015",
          "location": "pn5",
          "received": "07:02",
          "type": "loitering"
         },
         {
          "arrived": "07:42",
          "cleared": "07:47",
          "date": "08/20/16",
          "dispatched": "07:40",
          "id": "160820016",
          "location": "pn6",
          "received": "07:39",
          "type": "welfare check"
         },
         {
          "arrived": "07:59",
          "cleared": "08:00",
          "date": "08/20/16",
          "dispatched": "07:49",
          "id": "160820017",
          "location": "pn5",
          "received": "07:45",
          "type": "trespassing"
         },
         {
          "arrived": "08:23",
          "cleared": "08:31",
          "date": "08/20/16",
          "dispatched": "",
          "id": "160820018",
          "location": "pn11",
          "received": "08:23",
          "type": "traffic offense"
         },
         {
          "arrived": "08:31",
          "cleared": "10:42",
          "date": "08/20/16",
          "dispatched": "",
          "id": "160820019",
          "location": "pn13",
          "received": "08:31",
          "type": "dui"
         },
         {
          "arrived": "08:59",
          "cleared": "09:06",
          "date": "08/20/16",
          "dispatched": "08:55",
          "id": "160820020",
          "location": "pn10",
          "received": "08:50",
          "type": "parking problem"
         },
         {
          "arrived": "09:08",
          "cleared": "10:42",
          "date": "08/20/16",
          "dispatched": "09:07",
          "id": "160820021",
          "location": "pn6",
          "received": "09:05",
          "type": "suspicious"
         },
         {
          "arrived": "09:52",
          "cleared": "09:56",
          "date": "08/20/16",
          "dispatched": "",
          "id": "160820022",
          "location": "pn6",
          "received": "09:52",
          "type": "alcohol offense"
         },
         {
          "arrived": "10:07",
          "cleared": "10:23",
          "date": "08/20/16",
          "dispatched": "09:58",
          "id": "160820023",
          "location": "pn7",
          "received": "09:54",
          "type": "trespassing"
         },
         {
          "arrived": "10:00",
          "cleared": "10:09",
          "date": "08/20/16",
          "dispatched": "",
          "id": "160820024",
          "location": "pn5",
          "received": "10:00",
          "type": "suspicious"
         },
         {
          "arrived": "10:29",
          "cleared": "10:31",
          "date": "08/20/16",
          "dispatched": "10:26",
          "id": "160820025",
          "location": "pn2",
          "received": "10:06",
          "type": "mc-smoking"
         },
         {
          "arrived": "10:58",
          "cleared": "11:22",
          "date": "08/20/16",
          "dispatched": "10:57",
          "id": "160820026",
          "location": "pn7",
          "received": "10:46",
          "type": "vandalism"
         },
         {
          "arrived": "11:14",
          "cleared": "11:14",
          "date": "08/20/16",
          "dispatched": "11:13",
          "id": "160820027",
          "location": "pn6",
          "received": "10:52",
          "type": "theft"
         },
         {
          "arrived": "11:29",
          "cleared": "11:39",
          "date": "08/20/16",
          "dispatched": "",
          "id": "160820028",
          "location": "pn7",
          "received": "10:54",
          "type": "citizen dispute"
         },
         {
          "arrived": "",
          "cleared": "11:33",
          "date": "08/20/16",
          "dispatched": "11:31",
          "id": "160820029",
          "location": "pn6",
          "received": "11:30",
          "type": "public works"
         },
         {
          "arrived": "11:42",
          "cleared": "11:57",
          "date": "08/20/16",
          "dispatched": "11:39",
          "id": "160820030",
          "location": "pn5",
          "received": "11:37",
          "type": "loitering"
         },
         {
          "arrived": "12:18",
          "cleared": "12:48",
          "date": "08/20/16",
          "dispatched": "12:08",
          "id": "160820031",
          "location": "pn8",
          "received": "12:03",
          "type": "controlled narc"
         },
         {
          "arrived": "12:54",
          "cleared": "12:57",
          "date": "08/20/16",
          "dispatched": "12:53",
          "id": "160820032",
          "location": "pn13",
          "received": "12:49",
          "type": "welfare check"
         },
         {
          "arrived": "13:21",
          "cleared": "13:22",
          "date": "08/20/16",
          "dispatched": "",
          "id": "160820033",
          "location": "pn6",
          "received": "12:49",
          "type": "posting vehs"
         },
         {
          "arrived": "13:00",
          "cleared": "13:47",
          "date": "08/20/16",
          "dispatched": "",
          "id": "160820034",
          "location": "pn13",
          "received": "13:00",
          "type": "warrant"
         },
         {
          "arrived": "13:25",
          "cleared": "13:52",
          "date": "08/20/16",
          "dispatched": "",
          "id": "160820035",
          "location": "pn9",
          "received": "13:18",
          "type": "trespassing"
         },
         {
          "arrived": "13:47",
          "cleared": "14:06",
          "date": "08/20/16",
          "dispatched": "13:36",
          "id": "160820036",
          "location": "pn2",
          "received": "13:20",
          "type": "missing person"
         },
         {
          "arrived": "14:06",
          "cleared": "14:31",
          "date": "08/20/16",
          "dispatched": "13:56",
          "id": "160820037",
          "location": "pn11",
          "received": "13:50",
          "type": "mc-camping"
         },
         {
          "arrived": "",
          "cleared": "14:07",
          "date": "08/20/16",
          "dispatched": "",
          "id": "160820038",
          "location": "pn8",
          "received": "14:01",
          "type": "aband vehicle"
         },
         {
          "arrived": "14:21",
          "cleared": "14:31",
          "date": "08/20/16",
          "dispatched": "",
          "id": "160820039",
          "location": "pn5",
          "received": "14:20",
          "type": "littering"
         },
         {
          "arrived": "14:57",
          "cleared": "18:33",
          "date": "08/20/16",
          "dispatched": "14:52",
          "id": "160820040",
          "location": "pn3",
          "received": "14:38",
          "type": "threatening"
         },
         {
          "arrived": "14:55",
          "cleared": "15:11",
          "date": "08/20/16",
          "dispatched": "",
          "id": "160820041",
          "location": "pn8",
          "received": "14:55",
          "type": "suspicious"
         },
         {
          "arrived": "15:09",
          "cleared": "15:21",
          "date": "08/20/16",
          "dispatched": "15:01",
          "id": "160820042",
          "location": "pn7",
          "received": "14:59",
          "type": "coll non inj"
         },
         {
          "arrived": "15:23",
          "cleared": "15:50",
          "date": "08/20/16",
          "dispatched": "15:13",
          "id": "160820043",
          "location": "pn8",
          "received": "15:12",
          "type": "welfare check"
         },
         {
          "arrived": "17:55",
          "cleared": "18:12",
          "date": "08/20/16",
          "dispatched": "17:47",
          "id": "160820044",
          "location": "pn9",
          "received": "15:26",
          "type": "found property"
         },
         {
          "arrived": "15:57",
          "cleared": "16:25",
          "date": "08/20/16",
          "dispatched": "15:50",
          "id": "160820045",
          "location": "pn5",
          "received": "15:43",
          "type": "posting vehs"
         },
         {
          "arrived": "16:18",
          "cleared": "17:11",
          "date": "08/20/16",
          "dispatched": "16:09",
          "id": "160820046",
          "location": "pn11",
          "received": "15:48",
          "type": "mc-camping"
         },
         {
          "arrived": "16:16",
          "cleared": "16:18",
          "date": "08/20/16",
          "dispatched": "15:58",
          "id": "160820047",
          "location": "pn7",
          "received": "15:54",
          "type": "animal problem"
         },
         {
          "arrived": "16:06",
          "cleared": "16:14",
          "date": "08/20/16",
          "dispatched": "16:01",
          "id": "160820048",
          "location": "pn10",
          "received": "16:00",
          "type": "welfare check"
         },
         {
          "arrived": "16:28",
          "cleared": "16:26",
          "date": "08/20/16",
          "dispatched": "16:24",
          "id": "160820049",
          "location": "pn3",
          "received": "16:23",
          "type": "assist o police"
         },
         {
          "arrived": "16:27",
          "cleared": "16:40",
          "date": "08/20/16",
          "dispatched": "",
          "id": "160820050",
          "location": "pn5",
          "received": "16:27",
          "type": "coll non inj"
         },
         {
          "arrived": "",
          "cleared": "17:26",
          "date": "08/20/16",
          "dispatched": "17:13",
          "id": "160820051",
          "location": "pn10",
          "received": "16:25",
          "type": "suspicious"
         },
         {
          "arrived": "17:19",
          "cleared": "17:28",
          "date": "08/20/16",
          "dispatched": "17:13",
          "id": "160820052",
          "location": "pn13",
          "received": "16:26",
          "type": "trespassing"
         },
         {
          "arrived": "16:34",
          "cleared": "17:31",
          "date": "08/20/16",
          "dispatched": "",
          "id": "160820053",
          "location": "pn3",
          "received": "16:33",
          "type": "burg res"
         },
         {
          "arrived": "16:44",
          "cleared": "16:47",
          "date": "08/20/16",
          "dispatched": "",
          "id": "160820054",
          "location": "pn6",
          "received": "16:34",
          "type": "suspicious"
         },
         {
          "arrived": "16:43",
          "cleared": "17:45",
          "date": "08/20/16",
          "dispatched": "16:39",
          "id": "160820055",
          "location": "pn8",
          "received": "16:35",
          "type": "disorderly"
         },
         {
          "arrived": "18:08",
          "cleared": "18:26",
          "date": "08/20/16",
          "dispatched": "18:01",
          "id": "160820056",
          "location": "pn13",
          "received": "17:17",
          "type": "assist req"
         },
         {
          "arrived": "17:51",
          "cleared": "18:01",
          "date": "08/20/16",
          "dispatched": "17:44",
          "id": "160820057",
          "location": "pn2",
          "received": "17:12",
          "type": "threatening"
         },
         {
          "arrived": "17:37",
          "cleared": "17:41",
          "date": "08/20/16",
          "dispatched": "",
          "id": "160820058",
          "location": "pn13",
          "received": "17:37",
          "type": "assist o police"
         },
         {
          "arrived": "17:50",
          "cleared": "19:11",
          "date": "08/20/16",
          "dispatched": "17:39",
          "id": "160820059",
          "location": "pn11",
          "received": "17:36",
          "type": "suspicious"
         },
         {
          "arrived": "17:43",
          "cleared": "17:43",
          "date": "08/20/16",
          "dispatched": "",
          "id": "160820060",
          "location": "pn7",
          "received": "17:39",
          "type": "assist o police"
         },
         {
          "arrived": "17:43",
          "cleared": "18:29",
          "date": "08/20/16",
          "dispatched": "",
          "id": "160820061",
          "location": "pn9",
          "received": "17:43",
          "type": "suspicious"
         },
         {
          "arrived": "18:02",
          "cleared": "18:06",
          "date": "08/20/16",
          "dispatched": "17:53",
          "id": "160820062",
          "location": "pn5",
          "received": "17:49",
          "type": "trespassing"
         },
         {
          "arrived": "18:10",
          "cleared": "18:43",
          "date": "08/20/16",
          "dispatched": "",
          "id": "160820063",
          "location": "pn5",
          "received": "18:06",
          "type": "trespassing"
         },
         {
          "arrived": "18:38",
          "cleared": "18:42",
          "date": "08/20/16",
          "dispatched": "18:34",
          "id": "160820064",
          "location": "pn5",
          "received": "18:16",
          "type": "trespassing"
         },
         {
          "arrived": "18:38",
          "cleared": "19:33",
          "date": "08/20/16",
          "dispatched": "18:34",
          "id": "160820065",
          "location": "pn13",
          "received": "18:28",
          "type": "trespassing"
         },
         {
          "arrived": "19:15",
          "cleared": "19:43",
          "date": "08/20/16",
          "dispatched": "18:54",
          "id": "160820066",
          "location": "pn12",
          "received": "18:39",
          "type": "trespassing"
         },
         {
          "arrived": "19:19",
          "cleared": "20:13",
          "date": "08/20/16",
          "dispatched": "18:54",
          "id": "160820067",
          "location": "pn2",
          "received": "18:46",
          "type": "burg res"
         },
         {
          "arrived": "19:05",
          "cleared": "19:13",
          "date": "08/20/16",
          "dispatched": "",
          "id": "160820068",
          "location": "pn6",
          "received": "19:04",
          "type": "towed vehicle"
         },
         {
          "arrived": "19:25",
          "cleared": "20:49",
          "date": "08/20/16",
          "dispatched": "19:07",
          "id": "160820069",
          "location": "pn10",
          "received": "19:04",
          "type": "welfare check"
         },
         {
          "arrived": "19:36",
          "cleared": "19:40",
          "date": "08/20/16",
          "dispatched": "19:30",
          "id": "160820070",
          "location": "pn6",
          "received": "19:15",
          "type": "attempt-locate"
         },
         {
          "arrived": "",
          "cleared": "20:12",
          "date": "08/20/16",
          "dispatched": "20:12",
          "id": "160820071",
          "location": "pn6",
          "received": "19:45",
          "type": "public works"
         },
         {
          "arrived": "20:16",
          "cleared": "21:54",
          "date": "08/20/16",
          "dispatched": "20:03",
          "id": "160820072",
          "location": "pn7",
          "received": "19:48",
          "type": "burg res"
         },
         {
          "arrived": "19:56",
          "cleared": "20:02",
          "date": "08/20/16",
          "dispatched": "",
          "id": "160820073",
          "location": "pn12",
          "received": "19:56",
          "type": "assist req"
         },
         {
          "arrived": "20:20",
          "cleared": "20:31",
          "date": "08/20/16",
          "dispatched": "20:04",
          "id": "160820074",
          "location": "pn1",
          "received": "19:56",
          "type": "attempt theft"
         },
         {
          "arrived": "20:12",
          "cleared": "20:12",
          "date": "08/20/16",
          "dispatched": "20:11",
          "id": "160820075",
          "location": "pn1",
          "received": "20:03",
          "type": "suspicious"
         },
         {
          "arrived": "20:43",
          "cleared": "20:45",
          "date": "08/20/16",
          "dispatched": "20:31",
          "id": "160820076",
          "location": "pn1",
          "received": "20:29",
          "type": "suspicious"
         },
         {
          "arrived": "21:15",
          "cleared": "21:20",
          "date": "08/20/16",
          "dispatched": "21:02",
          "id": "160820077",
          "location": "pn1",
          "received": "21:00",
          "type": "noise other"
         },
         {
          "arrived": "",
          "cleared": "21:23",
          "date": "08/20/16",
          "dispatched": "21:17",
          "id": "160820078",
          "location": "pn1",
          "received": "21:14",
          "type": "dui"
         },
         {
          "arrived": "22:05",
          "cleared": "22:26",
          "date": "08/20/16",
          "dispatched": "21:32",
          "id": "160820079",
          "location": "pn7",
          "received": "21:30",
          "type": "noise party"
         },
         {
          "arrived": "22:05",
          "cleared": "22:06",
          "date": "08/20/16",
          "dispatched": "22:00",
          "id": "160820080",
          "location": "pn5",
          "received": "21:57",
          "type": "suspicious"
         },
         {
          "arrived": "23:09",
          "cleared": "22:47",
          "date": "08/20/16",
          "dispatched": "",
          "id": "160820081",
          "location": "pn11",
          "received": "22:01",
          "type": "noise party"
         },
         {
          "arrived": "22:36",
          "cleared": "22:44",
          "date": "08/20/16",
          "dispatched": "",
          "id": "160820082",
          "location": "pn1",
          "received": "22:02",
          "type": "noise party"
         },
         {
          "arrived": "22:15",
          "cleared": "22:15",
          "date": "08/20/16",
          "dispatched": "",
          "id": "160820083",
          "location": "pn5",
          "received": "22:15",
          "type": "suspicious"
         },
         {
          "arrived": "22:16",
          "cleared": "22:17",
          "date": "08/20/16",
          "dispatched": "",
          "id": "160820084",
          "location": "pn5",
          "received": "22:16",
          "type": "trespassing"
         },
         {
          "arrived": "22:16",
          "cleared": "22:16",
          "date": "08/20/16",
          "dispatched": "",
          "id": "160820085",
          "location": "pn10",
          "received": "22:15",
          "type": "graffiti"
         },
         {
          "arrived": "22:18",
          "cleared": "22:19",
          "date": "08/20/16",
          "dispatched": "",
          "id": "160820086",
          "location": "pn2",
          "received": "22:17",
          "type": "graffiti"
         },
         {
          "arrived": "22:20",
          "cleared": "22:20",
          "date": "08/20/16",
          "dispatched": "",
          "id": "160820087",
          "location": "pn1",
          "received": "22:19",
          "type": "graffiti"
         },
         {
          "arrived": "22:23",
          "cleared": "22:36",
          "date": "08/20/16",
          "dispatched": "22:21",
          "id": "160820088",
          "location": "pn5",
          "received": "22:20",
          "type": "dui"
         },
         {
          "arrived": "22:21",
          "cleared": "22:21",
          "date": "08/20/16",
          "dispatched": "",
          "id": "160820089",
          "location": "pn11",
          "received": "22:20",
          "type": "graffiti"
         },
         {
          "arrived": "",
          "cleared": "22:47",
          "date": "08/20/16",
          "dispatched": "",
          "id": "160820090",
          "location": "pn10",
          "received": "22:22",
          "type": "noise party"
         },
         {
          "arrived": "22:24",
          "cleared": "22:25",
          "date": "08/20/16",
          "dispatched": "",
          "id": "160820091",
          "location": "pn6",
          "received": "22:24",
          "type": "graffiti"
         },
         {
          "arrived": "22:26",
          "cleared": "22:26",
          "date": "08/20/16",
          "dispatched": "",
          "id": "160820092",
          "location": "pn13",
          "received": "22:25",
          "type": "graffiti"
         },
         {
          "arrived": "22:44",
          "cleared": "22:50",
          "date": "08/20/16",
          "dispatched": "22:36",
          "id": "160820093",
          "location": "pn6",
          "received": "22:33",
          "type": "assist req"
         },
         {
          "arrived": "23:01",
          "cleared": "23:08",
          "date": "08/20/16",
          "dispatched": "22:51",
          "id": "160820094",
          "location": "pn8",
          "received": "22:48",
          "type": "noise police"
         },
         {
          "arrived": "23:48",
          "cleared": "23:49",
          "date": "08/20/16",
          "dispatched": "",
          "id": "160820095",
          "location": "pn2",
          "received": "22:47",
          "type": "noise police"
         },
         {
          "arrived": "22:55",
          "cleared": "22:56",
          "date": "08/20/16",
          "dispatched": "",
          "id": "160820096",
          "location": "pn5",
          "received": "22:55",
          "type": "found property"
         },
         {
          "arrived": "00:17",
          "cleared": "00:20",
          "date": "08/20/16",
          "dispatched": "",
          "id": "160820097",
          "location": "pn7",
          "received": "22:57",
          "type": "noise police"
         },
         {
          "arrived": "23:00",
          "cleared": "23:38",
          "date": "08/20/16",
          "dispatched": "",
          "id": "160820098",
          "location": "pn6",
          "received": "23:00",
          "type": "dui"
         },
         {
          "arrived": "23:11",
          "cleared": "00:55",
          "date": "08/20/16",
          "dispatched": "23:07",
          "id": "160820099",
          "location": "pn10",
          "received": "23:06",
          "type": "weapon offense"
         },
         {
          "arrived": "23:59",
          "cleared": "00:08",
          "date": "08/20/16",
          "dispatched": "23:59",
          "id": "160820100",
          "location": "pn13",
          "received": "23:09",
          "type": "alcohol offense"
         },
         {
          "arrived": "",
          "cleared": "00:10",
          "date": "08/20/16",
          "dispatched": "00:10",
          "id": "160820101",
          "location": "pn3",
          "received": "23:21",
          "type": "noise police"
         },
         {
          "arrived": "23:30",
          "cleared": "23:55",
          "date": "08/20/16",
          "dispatched": "23:43",
          "id": "160820102",
          "location": "pn10",
          "received": "23:30",
          "type": "controlled narc"
         },
         {
          "arrived": "23:54",
          "cleared": "23:58",
          "date": "08/20/16",
          "dispatched": "23:43",
          "id": "160820103",
          "location": "pn1",
          "received": "23:35",
          "type": "suspicious"
         },
         {
          "arrived": "23:54",
          "cleared": "00:00",
          "date": "08/20/16",
          "dispatched": "",
          "id": "160820104",
          "location": "pn2",
          "received": "23:41",
          "type": "noise party"
         },
         {
          "arrived": "00:25",
          "cleared": "00:39",
          "date": "08/20/16",
          "dispatched": "00:25",
          "id": "160820105",
          "location": "pn11",
          "received": "23:48",
          "type": "noise 2nd resp"
         },
         {
          "arrived": "00:16",
          "cleared": "00:24",
          "date": "08/20/16",
          "dispatched": "00:06",
          "id": "160820106",
          "location": "pn2",
          "received": "23:53",
          "type": "coll hit and ru"
         },
         {
          "arrived": "00:11",
          "cleared": "02:00",
          "date": "08/21/16",
          "dispatched": "00:06",
          "id": "160821001",
          "location": "pn13",
          "received": "00:02",
          "type": "assault"
         },
         {
          "arrived": "00:25",
          "cleared": "00:57",
          "date": "08/21/16",
          "dispatched": "00:20",
          "id": "160821002",
          "location": "pn2",
          "received": "00:10",
          "type": "parking problem"
         },
         {
          "arrived": "00:42",
          "cleared": "01:02",
          "date": "08/21/16",
          "dispatched": "00:33",
          "id": "160821003",
          "location": "pn1",
          "received": "00:27",
          "type": "disorderly"
         },
         {
          "arrived": "00:39",
          "cleared": "00:49",
          "date": "08/21/16",
          "dispatched": "",
          "id": "160821004",
          "location": "pn11",
          "received": "00:39",
          "type": "alcohol offense"
         },
         {
          "arrived": "01:02",
          "cleared": "01:02",
          "date": "08/21/16",
          "dispatched": "01:00",
          "id": "160821005",
          "location": "pn5",
          "received": "00:59",
          "type": "9-1-1 abandon"
         },
         {
          "arrived": "01:13",
          "cleared": "02:45",
          "date": "08/21/16",
          "dispatched": "",
          "id": "160821006",
          "location": "pn11",
          "received": "01:13",
          "type": "assist req"
         },
         {
          "arrived": "01:40",
          "cleared": "01:46",
          "date": "08/21/16",
          "dispatched": "01:29",
          "id": "160821007",
          "location": "pn11",
          "received": "01:28",
          "type": "noise party"
         },
         {
          "arrived": "01:37",
          "cleared": "02:36",
          "date": "08/21/16",
          "dispatched": "",
          "id": "160821008",
          "location": "pn6",
          "received": "01:36",
          "type": "dui"
         },
         {
          "arrived": "01:46",
          "cleared": "01:48",
          "date": "08/21/16",
          "dispatched": "01:42",
          "id": "160821009",
          "location": "pn6",
          "received": "01:39",
          "type": "dui"
         },
         {
          "arrived": "01:52",
          "cleared": "02:04",
          "date": "08/21/16",
          "dispatched": "",
          "id": "160821010",
          "location": "pn5",
          "received": "01:50",
          "type": "disorderly"
         },
         {
          "arrived": "02:05",
          "cleared": "02:08",
          "date": "08/21/16",
          "dispatched": "",
          "id": "160821011",
          "location": "pn5",
          "received": "02:03",
          "type": "disorderly"
         },
         {
          "arrived": "02:34",
          "cleared": "02:45",
          "date": "08/21/16",
          "dispatched": "02:26",
          "id": "160821012",
          "location": "pn8",
          "received": "02:26",
          "type": "alarm audible"
         },
         {
          "arrived": "02:42",
          "cleared": "02:53",
          "date": "08/21/16",
          "dispatched": "02:33",
          "id": "160821013",
          "location": "pn8",
          "received": "02:30",
          "type": "noise police"
         },
         {
          "arrived": "02:34",
          "cleared": "03:25",
          "date": "08/21/16",
          "dispatched": "",
          "id": "160821014",
          "location": "pn5",
          "received": "02:34",
          "type": "dui"
         },
         {
          "arrived": "03:04",
          "cleared": "03:41",
          "date": "08/21/16",
          "dispatched": "03:01",
          "id": "160821015",
          "location": "pn2",
          "received": "03:00",
          "type": "assist o police"
         },
         {
          "arrived": "",
          "cleared": "03:26",
          "date": "08/21/16",
          "dispatched": "03:14",
          "id": "160821016",
          "location": "pn10",
          "received": "03:12",
          "type": "suspicious"
         },
         {
          "arrived": "03:45",
          "cleared": "04:02",
          "date": "08/21/16",
          "dispatched": "03:39",
          "id": "160821017",
          "location": "pn9",
          "received": "03:37",
          "type": "welfare check"
         },
         {
          "arrived": "03:55",
          "cleared": "04:00",
          "date": "08/21/16",
          "dispatched": "03:49",
          "id": "160821018",
          "location": "pn13",
          "received": "03:47",
          "type": "disorderly"
         },
         {
          "arrived": "04:03",
          "cleared": "04:06",
          "date": "08/21/16",
          "dispatched": "03:58",
          "id": "160821019",
          "location": "pn1",
          "received": "03:57",
          "type": "alcohol offense"
         },
         {
          "arrived": "05:13",
          "cleared": "04:50",
          "date": "08/21/16",
          "dispatched": "04:47",
          "id": "160821020",
          "location": "pn1",
          "received": "04:45",
          "type": "assist req"
         },
         {
          "arrived": "05:45",
          "cleared": "05:50",
          "date": "08/21/16",
          "dispatched": "05:36",
          "id": "160821021",
          "location": "pn8",
          "received": "05:34",
          "type": "noise other"
         },
         {
          "arrived": "05:43",
          "cleared": "08:01",
          "date": "08/21/16",
          "dispatched": "",
          "id": "160821022",
          "location": "pn1",
          "received": "05:43",
          "type": "dui"
         },
         {
          "arrived": "06:02",
          "cleared": "06:07",
          "date": "08/21/16",
          "dispatched": "05:57",
          "id": "160821023",
          "location": "pn6",
          "received": "05:55",
          "type": "disorderly"
         },
         {
          "arrived": "06:12",
          "cleared": "06:17",
          "date": "08/21/16",
          "dispatched": "06:07",
          "id": "160821024",
          "location": "pn13",
          "received": "06:03",
          "type": "trespassing"
         },
         {
          "arrived": "",
          "cleared": "07:43",
          "date": "08/21/16",
          "dispatched": "07:34",
          "id": "160821025",
          "location": "pn6",
          "received": "07:33",
          "type": "9-1-1 abandon"
         },
         {
          "arrived": "07:54",
          "cleared": "08:17",
          "date": "08/21/16",
          "dispatched": "07:53",
          "id": "160821026",
          "location": "pn5",
          "received": "07:50",
          "type": "assist req"
         },
         {
          "arrived": "08:20",
          "cleared": "08:22",
          "date": "08/21/16",
          "dispatched": "",
          "id": "160821027",
          "location": "pn6",
          "received": "07:53",
          "type": "posting vehs"
         },
         {
          "arrived": "08:49",
          "cleared": "08:54",
          "date": "08/21/16",
          "dispatched": "08:32",
          "id": "160821028",
          "location": "pn13",
          "received": "08:26",
          "type": "citizen dispute"
         },
         {
          "arrived": "09:05",
          "cleared": "09:22",
          "date": "08/21/16",
          "dispatched": "08:56",
          "id": "160821029",
          "location": "pn6",
          "received": "08:41",
          "type": "lost property"
         },
         {
          "arrived": "09:03",
          "cleared": "09:04",
          "date": "08/21/16",
          "dispatched": "",
          "id": "160821030",
          "location": "pn5",
          "received": "08:59",
          "type": "assist req"
         },
         {
          "arrived": "09:55",
          "cleared": "10:06",
          "date": "08/21/16",
          "dispatched": "09:45",
          "id": "160821031",
          "location": "pn9",
          "received": "09:41",
          "type": "loitering"
         },
         {
          "arrived": "10:02",
          "cleared": "10:12",
          "date": "08/21/16",
          "dispatched": "09:57",
          "id": "160821032",
          "location": "pn1",
          "received": "09:50",
          "type": "disorderly"
         },
         {
          "arrived": "10:12",
          "cleared": "10:24",
          "date": "08/21/16",
          "dispatched": "",
          "id": "160821033",
          "location": "pn1",
          "received": "10:12",
          "type": "controlled narc"
         },
         {
          "arrived": "10:17",
          "cleared": "10:17",
          "date": "08/21/16",
          "dispatched": "",
          "id": "160821034",
          "location": "pn13",
          "received": "10:13",
          "type": "information"
         },
         {
          "arrived": "10:29",
          "cleared": "11:24",
          "date": "08/21/16",
          "dispatched": "",
          "id": "160821035",
          "location": "pn1",
          "received": "10:29",
          "type": "theft"
         },
         {
          "arrived": "",
          "cleared": "10:34",
          "date": "08/21/16",
          "dispatched": "10:33",
          "id": "160821036",
          "location": "pn7",
          "received": "10:31",
          "type": "alarm audible"
         },
         {
          "arrived": "10:39",
          "cleared": "11:09",
          "date": "08/21/16",
          "dispatched": "10:36",
          "id": "160821037",
          "location": "pn9",
          "received": "10:36",
          "type": "coll inj"
         },
         {
          "arrived": "10:54",
          "cleared": "11:25",
          "date": "08/21/16",
          "dispatched": "10:54",
          "id": "160821038",
          "location": "pn8",
          "received": "10:33",
          "type": "theft"
         },
         {
          "arrived": "10:44",
          "cleared": "10:44",
          "date": "08/21/16",
          "dispatched": "",
          "id": "160821039",
          "location": "pn2",
          "received": "10:42",
          "type": "traffic offense"
         },
         {
          "arrived": "11:24",
          "cleared": "11:24",
          "date": "08/21/16",
          "dispatched": "",
          "id": "160821040",
          "location": "pn10",
          "received": "11:23",
          "type": "information"
         },
         {
          "arrived": "11:45",
          "cleared": "12:08",
          "date": "08/21/16",
          "dispatched": "11:39",
          "id": "160821041",
          "location": "pn8",
          "received": "11:35",
          "type": "welfare check"
         },
         {
          "arrived": "11:52",
          "cleared": "11:53",
          "date": "08/21/16",
          "dispatched": "",
          "id": "160821042",
          "location": "pn7",
          "received": "11:50",
          "type": "alarm audible"
         },
         {
          "arrived": "12:17",
          "cleared": "12:21",
          "date": "08/21/16",
          "dispatched": "12:13",
          "id": "160821043",
          "location": "pn6",
          "received": "12:07",
          "type": "suspicious"
         },
         {
          "arrived": "12:28",
          "cleared": "12:30",
          "date": "08/21/16",
          "dispatched": "12:23",
          "id": "160821044",
          "location": "pn6",
          "received": "12:20",
          "type": "parking problem"
         },
         {
          "arrived": "12:50",
          "cleared": "13:16",
          "date": "08/21/16",
          "dispatched": "12:47",
          "id": "160821045",
          "location": "pn5",
          "received": "12:45",
          "type": "assist req"
         },
         {
          "arrived": "13:14",
          "cleared": "13:31",
          "date": "08/21/16",
          "dispatched": "13:08",
          "id": "160821046",
          "location": "pn9",
          "received": "13:07",
          "type": "disorderly"
         },
         {
          "arrived": "13:19",
          "cleared": "13:19",
          "date": "08/21/16",
          "dispatched": "13:19",
          "id": "160821047",
          "location": "pn2",
          "received": "13:14",
          "type": "theft"
         },
         {
          "arrived": "13:42",
          "cleared": "14:10",
          "date": "08/21/16",
          "dispatched": "13:32",
          "id": "160821048",
          "location": "pn7",
          "received": "13:29",
          "type": "disorderly"
         },
         {
          "arrived": "14:19",
          "cleared": "14:34",
          "date": "08/21/16",
          "dispatched": "14:13",
          "id": "160821049",
          "location": "pn5",
          "received": "14:03",
          "type": "mc-panhandling"
         },
         {
          "arrived": "14:16",
          "cleared": "14:22",
          "date": "08/21/16",
          "dispatched": "14:06",
          "id": "160821050",
          "location": "pn6",
          "received": "14:05",
          "type": "alarm audible"
         },
         {
          "arrived": "14:18",
          "cleared": "15:44",
          "date": "08/21/16",
          "dispatched": "14:11",
          "id": "160821051",
          "location": "pn8",
          "received": "14:08",
          "type": "suspicious"
         },
         {
          "arrived": "15:02",
          "cleared": "15:04",
          "date": "08/21/16",
          "dispatched": "14:49",
          "id": "160821052",
          "location": "pn10",
          "received": "14:37",
          "type": "welfare check"
         },
         {
          "arrived": "14:41",
          "cleared": "14:42",
          "date": "08/21/16",
          "dispatched": "",
          "id": "160821053",
          "location": "pn5",
          "received": "14:41",
          "type": "parking problem"
         },
         {
          "arrived": "14:41",
          "cleared": "14:54",
          "date": "08/21/16",
          "dispatched": "",
          "id": "160821054",
          "location": "pn11",
          "received": "14:41",
          "type": "trespassing"
         },
         {
          "arrived": "14:48",
          "cleared": "15:02",
          "date": "08/21/16",
          "dispatched": "14:43",
          "id": "160821055",
          "location": "pn10",
          "received": "14:38",
          "type": "welfare check"
         },
         {
          "arrived": "15:56",
          "cleared": "15:58",
          "date": "08/21/16",
          "dispatched": "15:47",
          "id": "160821056",
          "location": "pn2",
          "received": "15:43",
          "type": "juvenile prob"
         },
         {
          "arrived": "15:47",
          "cleared": "16:01",
          "date": "08/21/16",
          "dispatched": "15:47",
          "id": "160821057",
          "location": "pn6",
          "received": "15:46",
          "type": "loitering"
         },
         {
          "arrived": "15:55",
          "cleared": "15:56",
          "date": "08/21/16",
          "dispatched": "",
          "id": "160821058",
          "location": "pn8",
          "received": "15:53",
          "type": "aband vehicle"
         },
         {
          "arrived": "16:03",
          "cleared": "16:11",
          "date": "08/21/16",
          "dispatched": "",
          "id": "160821059",
          "location": "pn10",
          "received": "16:03",
          "type": "traffic offense"
         },
         {
          "arrived": "16:08",
          "cleared": "16:17",
          "date": "08/21/16",
          "dispatched": "",
          "id": "160821060",
          "location": "pn6",
          "received": "16:04",
          "type": "alarm audible"
         },
         {
          "arrived": "16:36",
          "cleared": "17:00",
          "date": "08/21/16",
          "dispatched": "16:32",
          "id": "160821061",
          "location": "pn6",
          "received": "16:31",
          "type": "mc-camping"
         },
         {
          "arrived": "16:59",
          "cleared": "17:10",
          "date": "08/21/16",
          "dispatched": "16:54",
          "id": "160821062",
          "location": "pn10",
          "received": "16:52",
          "type": "alarm audible"
         },
         {
          "arrived": "17:16",
          "cleared": "17:37",
          "date": "08/21/16",
          "dispatched": "17:08",
          "id": "160821063",
          "location": "pn13",
          "received": "16:50",
          "type": "welfare check"
         },
         {
          "arrived": "17:17",
          "cleared": "17:24",
          "date": "08/21/16",
          "dispatched": "17:11",
          "id": "160821064",
          "location": "pn12",
          "received": "17:06",
          "type": "disorderly"
         },
         {
          "arrived": "17:34",
          "cleared": "17:51",
          "date": "08/21/16",
          "dispatched": "17:25",
          "id": "160821065",
          "location": "pn2",
          "received": "17:15",
          "type": "noise police"
         },
         {
          "arrived": "17:33",
          "cleared": "17:40",
          "date": "08/21/16",
          "dispatched": "17:24",
          "id": "160821066",
          "location": "pn8",
          "received": "17:20",
          "type": "animal problem"
         },
         {
          "arrived": "17:45",
          "cleared": "17:56",
          "date": "08/21/16",
          "dispatched": "17:37",
          "id": "160821067",
          "location": "lz0",
          "received": "17:31",
          "type": "assist o police"
         },
         {
          "arrived": "18:01",
          "cleared": "18:05",
          "date": "08/21/16",
          "dispatched": "18:01",
          "id": "160821068",
          "location": "pn2",
          "received": "17:58",
          "type": "noise party"
         },
         {
          "arrived": "18:10",
          "cleared": "18:35",
          "date": "08/21/16",
          "dispatched": "18:04",
          "id": "160821069",
          "location": "pn3",
          "received": "18:01",
          "type": "suspicious"
         },
         {
          "arrived": "18:22",
          "cleared": "19:14",
          "date": "08/21/16",
          "dispatched": "",
          "id": "160821070",
          "location": "pn6",
          "received": "18:22",
          "type": "theft"
         },
         {
          "arrived": "",
          "cleared": "18:35",
          "date": "08/21/16",
          "dispatched": "18:30",
          "id": "160821071",
          "location": "pn10",
          "received": "18:29",
          "type": "fire structure"
         },
         {
          "arrived": "19:56",
          "cleared": "20:03",
          "date": "08/21/16",
          "dispatched": "19:25",
          "id": "160821072",
          "location": "pn10",
          "received": "19:19",
          "type": "loitering"
         },
         {
          "arrived": "20:22",
          "cleared": "20:28",
          "date": "08/21/16",
          "dispatched": "20:02",
          "id": "160821073",
          "location": "pn1",
          "received": "19:59",
          "type": "animal problem"
         },
         {
          "arrived": "20:34",
          "cleared": "21:01",
          "date": "08/21/16",
          "dispatched": "20:10",
          "id": "160821074",
          "location": "pn6",
          "received": "20:02",
          "type": "suspicious"
         },
         {
          "arrived": "20:25",
          "cleared": "20:30",
          "date": "08/21/16",
          "dispatched": "",
          "id": "160821075",
          "location": "pn12",
          "received": "20:25",
          "type": "suspicious"
         },
         {
          "arrived": "20:50",
          "cleared": "20:59",
          "date": "08/21/16",
          "dispatched": "20:41",
          "id": "160821076",
          "location": "pn8",
          "received": "20:33",
          "type": "juvenile prob"
         },
         {
          "arrived": "22:48",
          "cleared": "23:08",
          "date": "08/21/16",
          "dispatched": "22:43",
          "id": "160821077",
          "location": "pn2",
          "received": "22:42",
          "type": "alarm audible"
         },
         {
          "arrived": "23:20",
          "cleared": "23:27",
          "date": "08/21/16",
          "dispatched": "23:10",
          "id": "160821078",
          "location": "pn3",
          "received": "23:07",
          "type": "noise police"
         },
         {
          "arrived": "",
          "cleared": "23:43",
          "date": "08/21/16",
          "dispatched": "23:43",
          "id": "160821079",
          "location": "pn7",
          "received": "23:37",
          "type": "traffic offense"
         },
         {
          "arrived": "23:42",
          "cleared": "23:48",
          "date": "08/21/16",
          "dispatched": "",
          "id": "160821080",
          "location": "pn5",
          "received": "23:42",
          "type": "found property"
         },
         {
          "arrived": "00:56",
          "cleared": "01:29",
          "date": "08/22/16",
          "dispatched": "",
          "id": "160822001",
          "location": "pn11",
          "received": "00:56",
          "type": "suspicious"
         },
         {
          "arrived": "01:26",
          "cleared": "01:29",
          "date": "08/22/16",
          "dispatched": "01:21",
          "id": "160822002",
          "location": "pn2",
          "received": "00:58",
          "type": "suspicious"
         },
         {
          "arrived": "01:14",
          "cleared": "02:16",
          "date": "08/22/16",
          "dispatched": "",
          "id": "160822003",
          "location": "pn10",
          "received": "01:14",
          "type": "warrant"
         },
         {
          "arrived": "01:58",
          "cleared": "03:13",
          "date": "08/22/16",
          "dispatched": "01:52",
          "id": "160822004",
          "location": "pn2",
          "received": "01:45",
          "type": "assist req"
         },
         {
          "arrived": "01:58",
          "cleared": "02:09",
          "date": "08/22/16",
          "dispatched": "01:55",
          "id": "160822005",
          "location": "pn5",
          "received": "01:52",
          "type": "noise party"
         },
         {
          "arrived": "01:59",
          "cleared": "02:08",
          "date": "08/22/16",
          "dispatched": "",
          "id": "160822006",
          "location": "pn13",
          "received": "01:59",
          "type": "trespassing"
         },
         {
          "arrived": "02:09",
          "cleared": "02:17",
          "date": "08/22/16",
          "dispatched": "",
          "id": "160822007",
          "location": "pn13",
          "received": "02:08",
          "type": "trespassing"
         },
         {
          "arrived": "02:48",
          "cleared": "02:51",
          "date": "08/22/16",
          "dispatched": "",
          "id": "160822008",
          "location": "pn13",
          "received": "02:46",
          "type": "9-1-1 abandon"
         },
         {
          "arrived": "03:22",
          "cleared": "03:56",
          "date": "08/22/16",
          "dispatched": "03:12",
          "id": "160822009",
          "location": "pn10",
          "received": "03:09",
          "type": "suspicious"
         },
         {
          "arrived": "03:53",
          "cleared": "03:58",
          "date": "08/22/16",
          "dispatched": "03:44",
          "id": "160822010",
          "location": "pn13",
          "received": "03:40",
          "type": "trespassing"
         },
         {
          "arrived": "03:56",
          "cleared": "05:22",
          "date": "08/22/16",
          "dispatched": "",
          "id": "160822011",
          "location": "pn10",
          "received": "03:56",
          "type": "warrant"
         },
         {
          "arrived": "04:36",
          "cleared": "04:48",
          "date": "08/22/16",
          "dispatched": "",
          "id": "160822012",
          "location": "pn10",
          "received": "04:24",
          "type": "controlled narc"
         },
         {
          "arrived": "05:32",
          "cleared": "05:35",
          "date": "08/22/16",
          "dispatched": "05:26",
          "id": "160822013",
          "location": "pn12",
          "received": "05:25",
          "type": "trespassing"
         },
         {
          "arrived": "",
          "cleared": "07:28",
          "date": "08/22/16",
          "dispatched": "07:03",
          "id": "160822014",
          "location": "pn7",
          "received": "06:54",
          "type": "trespassing"
         },
         {
          "arrived": "07:30",
          "cleared": "07:41",
          "date": "08/12/16",
          "dispatched": "07:27",
          "id": "160812018",
          "location": "pn6",
          "received": "07:21",
          "type": "theft"
         },
         {
          "arrived": "07:44",
          "cleared": "07:46",
          "date": "08/12/16",
          "dispatched": "07:36",
          "id": "160812019",
          "location": "pn2",
          "received": "07:35",
          "type": "traffic hazard"
         },
         {
          "arrived": "",
          "cleared": "07:50",
          "date": "08/12/16",
          "dispatched": "07:50",
          "id": "160812020",
          "location": "pn9",
          "received": "07:47",
          "type": "aband vehicle"
         },
         {
          "arrived": "08:02",
          "cleared": "08:14",
          "date": "08/12/16",
          "dispatched": "07:55",
          "id": "160812021",
          "location": "pn8",
          "received": "07:51",
          "type": "loitering"
         },
         {
          "arrived": "08:17",
          "cleared": "08:20",
          "date": "08/12/16",
          "dispatched": "08:15",
          "id": "160812022",
          "location": "pn6",
          "received": "08:08",
          "type": "theft"
         },
         {
          "arrived": "08:58",
          "cleared": "08:58",
          "date": "08/12/16",
          "dispatched": "08:47",
          "id": "160812023",
          "location": "pn6",
          "received": "08:36",
          "type": "burg res"
         },
         {
          "arrived": "09:06",
          "cleared": "09:13",
          "date": "08/12/16",
          "dispatched": "08:58",
          "id": "160812024",
          "location": "pn8",
          "received": "08:46",
          "type": "burg com"
         },
         {
          "arrived": "08:57",
          "cleared": "09:11",
          "date": "08/12/16",
          "dispatched": "",
          "id": "160812025",
          "location": "pn2",
          "received": "08:56",
          "type": "traffic offense"
         },
         {
          "arrived": "09:02",
          "cleared": "09:10",
          "date": "08/12/16",
          "dispatched": "09:00",
          "id": "160812026",
          "location": "pn9",
          "received": "08:53",
          "type": "theft"
         },
         {
          "arrived": "09:12",
          "cleared": "09:28",
          "date": "08/12/16",
          "dispatched": "09:06",
          "id": "160812027",
          "location": "pn13",
          "received": "09:01",
          "type": "fraud"
         },
         {
          "arrived": "09:35",
          "cleared": "09:35",
          "date": "08/12/16",
          "dispatched": "09:34",
          "id": "160812028",
          "location": "pn1",
          "received": "09:24",
          "type": "theft"
         },
         {
          "arrived": "09:32",
          "cleared": "09:56",
          "date": "08/12/16",
          "dispatched": "",
          "id": "160812029",
          "location": "pn10",
          "received": "09:31",
          "type": "controlled narc"
         },
         {
          "arrived": "09:51",
          "cleared": "09:54",
          "date": "08/12/16",
          "dispatched": "09:43",
          "id": "160812030",
          "location": "pn13",
          "received": "09:41",
          "type": "coll non inj"
         },
         {
          "arrived": "09:46",
          "cleared": "10:26",
          "date": "08/12/16",
          "dispatched": "",
          "id": "160812031",
          "location": "pn5",
          "received": "09:46",
          "type": "muni code viol"
         },
         {
          "arrived": "10:01",
          "cleared": "09:56",
          "date": "08/12/16",
          "dispatched": "09:54",
          "id": "160812032",
          "location": "pn8",
          "received": "09:46",
          "type": "theft-vehicle"
         },
         {
          "arrived": "",
          "cleared": "",
          "date": "08/12/16",
          "dispatched": "",
          "id": "160812033",
          "location": "pn10",
          "received": "10:03",
          "type": "posting vehs"
         },
         {
          "arrived": "05:40",
          "cleared": "05:42",
          "date": "08/12/16",
          "dispatched": "05:30",
          "id": "160812034",
          "location": "pn6",
          "received": "10:04",
          "type": "posting vehs"
         },
         {
          "arrived": "",
          "cleared": "10:08",
          "date": "08/12/16",
          "dispatched": "10:08",
          "id": "160812035",
          "location": "pn7",
          "received": "10:06",
          "type": "aband vehicle"
         },
         {
          "arrived": "",
          "cleared": "10:23",
          "date": "08/12/16",
          "dispatched": "10:23",
          "id": "160812036",
          "location": "pn6",
          "received": "10:22",
          "type": "aband vehicle"
         },
         {
          "arrived": "",
          "cleared": "10:33",
          "date": "08/12/16",
          "dispatched": "10:33",
          "id": "160812037",
          "location": "pn11",
          "received": "10:31",
          "type": "traffic offense"
         },
         {
          "arrived": "10:39",
          "cleared": "10:46",
          "date": "08/12/16",
          "dispatched": "",
          "id": "160812038",
          "location": "pn9",
          "received": "10:39",
          "type": "suspicious"
         },
         {
          "arrived": "11:04",
          "cleared": "11:23",
          "date": "08/12/16",
          "dispatched": "10:54",
          "id": "160812039",
          "location": "pn6",
          "received": "10:52",
          "type": "coll non inj"
         },
         {
          "arrived": "11:24",
          "cleared": "11:25",
          "date": "08/12/16",
          "dispatched": "",
          "id": "160812040",
          "location": "pn5",
          "received": "10:54",
          "type": "lost property"
         },
         {
          "arrived": "11:24",
          "cleared": "11:45",
          "date": "08/12/16",
          "dispatched": "11:11",
          "id": "160812041",
          "location": "pn9",
          "received": "11:04",
          "type": "trespassing"
         },
         {
          "arrived": "11:17",
          "cleared": "11:25",
          "date": "08/12/16",
          "dispatched": "11:08",
          "id": "160812042",
          "location": "pn7",
          "received": "11:07",
          "type": "suspicious"
         },
         {
          "arrived": "12:06",
          "cleared": "12:15",
          "date": "08/12/16",
          "dispatched": "",
          "id": "160812043",
          "location": "pn8",
          "received": "12:06",
          "type": "suspicious"
         },
         {
          "arrived": "12:16",
          "cleared": "12:17",
          "date": "08/12/16",
          "dispatched": "",
          "id": "160812044",
          "location": "pn5",
          "received": "12:09",
          "type": "lost property"
         },
         {
          "arrived": "",
          "cleared": "12:15",
          "date": "08/12/16",
          "dispatched": "12:13",
          "id": "160812045",
          "location": "pn6",
          "received": "12:12",
          "type": "animal problem"
         },
         {
          "arrived": "12:31",
          "cleared": "13:11",
          "date": "08/12/16",
          "dispatched": "",
          "id": "160812046",
          "location": "pn13",
          "received": "12:31",
          "type": "warrant"
         },
         {
          "arrived": "12:38",
          "cleared": "12:43",
          "date": "08/12/16",
          "dispatched": "12:34",
          "id": "160812047",
          "location": "pn2",
          "received": "12:30",
          "type": "parking problem"
         },
         {
          "arrived": "12:41",
          "cleared": "12:54",
          "date": "08/12/16",
          "dispatched": "",
          "id": "160812048",
          "location": "pn10",
          "received": "12:41",
          "type": "parking problem"
         },
         {
          "arrived": "12:51",
          "cleared": "12:51",
          "date": "08/12/16",
          "dispatched": "12:44",
          "id": "160812049",
          "location": "pn7",
          "received": "12:41",
          "type": "welfare check"
         },
         {
          "arrived": "12:43",
          "cleared": "12:56",
          "date": "08/12/16",
          "dispatched": "",
          "id": "160812050",
          "location": "pn5",
          "received": "12:43",
          "type": "towed vehicle"
         },
         {
          "arrived": "12:45",
          "cleared": "12:58",
          "date": "08/12/16",
          "dispatched": "",
          "id": "160812051",
          "location": "pn5",
          "received": "12:45",
          "type": "mc-alcohol"
         },
         {
          "arrived": "13:50",
          "cleared": "14:11",
          "date": "08/12/16",
          "dispatched": "13:48",
          "id": "160812052",
          "location": "pn6",
          "received": "13:37",
          "type": "welfare check"
         },
         {
          "arrived": "14:26",
          "cleared": "15:03",
          "date": "08/12/16",
          "dispatched": "14:19",
          "id": "160812053",
          "location": "pn9",
          "received": "14:10",
          "type": "disorderly"
         },
         {
          "arrived": "14:17",
          "cleared": "14:59",
          "date": "08/12/16",
          "dispatched": "14:15",
          "id": "160812054",
          "location": "pn6",
          "received": "14:14",
          "type": "fire structure"
         },
         {
          "arrived": "14:33",
          "cleared": "14:38",
          "date": "08/12/16",
          "dispatched": "14:32",
          "id": "160812055",
          "location": "pn10",
          "received": "14:26",
          "type": "suspicious"
         },
         {
          "arrived": "14:47",
          "cleared": "15:44",
          "date": "08/12/16",
          "dispatched": "",
          "id": "160812056",
          "location": "pn1",
          "received": "14:33",
          "type": "coll hit and ru"
         },
         {
          "arrived": "15:05",
          "cleared": "15:12",
          "date": "08/12/16",
          "dispatched": "15:01",
          "id": "160812057",
          "location": "pn5",
          "received": "14:49",
          "type": "assist req"
         },
         {
          "arrived": "15:15",
          "cleared": "15:35",
          "date": "08/12/16",
          "dispatched": "15:13",
          "id": "160812058",
          "location": "pn2",
          "received": "15:06",
          "type": "controlled narc"
         },
         {
          "arrived": "",
          "cleared": "15:25",
          "date": "08/12/16",
          "dispatched": "15:24",
          "id": "160812059",
          "location": "pn8",
          "received": "15:11",
          "type": "found property"
         },
         {
          "arrived": "15:42",
          "cleared": "16:22",
          "date": "08/12/16",
          "dispatched": "15:38",
          "id": "160812060",
          "location": "pn13",
          "received": "15:27",
          "type": "sex offense"
         },
         {
          "arrived": "15:47",
          "cleared": "15:58",
          "date": "08/12/16",
          "dispatched": "15:43",
          "id": "160812061",
          "location": "pn1",
          "received": "15:40",
          "type": "suspicious"
         },
         {
          "arrived": "05:22",
          "cleared": "05:24",
          "date": "08/12/16",
          "dispatched": "05:13",
          "id": "160812062",
          "location": "pn6",
          "received": "15:46",
          "type": "posting vehs"
         },
         {
          "arrived": "",
          "cleared": "15:51",
          "date": "08/12/16",
          "dispatched": "15:51",
          "id": "160812063",
          "location": "pn10",
          "received": "15:48",
          "type": "suspicious"
         },
         {
          "arrived": "16:38",
          "cleared": "16:41",
          "date": "08/12/16",
          "dispatched": "15:55",
          "id": "160812064",
          "location": "pn3",
          "received": "15:41",
          "type": "trespassing"
         },
         {
          "arrived": "15:52",
          "cleared": "16:15",
          "date": "08/12/16",
          "dispatched": "",
          "id": "160812065",
          "location": "pn5",
          "received": "15:52",
          "type": "theft"
         },
         {
          "arrived": "16:47",
          "cleared": "16:53",
          "date": "08/12/16",
          "dispatched": "16:41",
          "id": "160812066",
          "location": "pn13",
          "received": "16:19",
          "type": "suspicious"
         },
         {
          "arrived": "16:32",
          "cleared": "17:07",
          "date": "08/12/16",
          "dispatched": "16:24",
          "id": "160812067",
          "location": "pn13",
          "received": "16:21",
          "type": "coll inj"
         },
         {
          "arrived": "16:29",
          "cleared": "16:40",
          "date": "08/12/16",
          "dispatched": "16:26",
          "id": "160812068",
          "location": "pn12",
          "received": "16:23",
          "type": "disorderly"
         },
         {
          "arrived": "16:58",
          "cleared": "17:19",
          "date": "08/12/16",
          "dispatched": "16:50",
          "id": "160812069",
          "location": "pn10",
          "received": "16:45",
          "type": "parking problem"
         },
         {
          "arrived": "17:04",
          "cleared": "17:05",
          "date": "08/12/16",
          "dispatched": "16:57",
          "id": "160812070",
          "location": "pn3",
          "received": "16:55",
          "type": "traffic hazard"
         },
         {
          "arrived": "",
          "cleared": "17:41",
          "date": "08/12/16",
          "dispatched": "17:41",
          "id": "160812071",
          "location": "pn10",
          "received": "17:37",
          "type": "traffic offense"
         },
         {
          "arrived": "17:59",
          "cleared": "18:05",
          "date": "08/12/16",
          "dispatched": "17:57",
          "id": "160812072",
          "location": "pn5",
          "received": "17:48",
          "type": "loitering"
         },
         {
          "arrived": "18:09",
          "cleared": "18:10",
          "date": "08/12/16",
          "dispatched": "",
          "id": "160812073",
          "location": "pn13",
          "received": "18:05",
          "type": "public works"
         },
         {
          "arrived": "",
          "cleared": "18:17",
          "date": "08/12/16",
          "dispatched": "18:16",
          "id": "160812074",
          "location": "pn2",
          "received": "18:11",
          "type": "public works"
         },
         {
          "arrived": "",
          "cleared": "18:28",
          "date": "08/12/16",
          "dispatched": "18:27",
          "id": "160812075",
          "location": "pn6",
          "received": "18:20",
          "type": "aband vehicle"
         },
         {
          "arrived": "19:31",
          "cleared": "19:48",
          "date": "08/12/16",
          "dispatched": "19:00",
          "id": "160812076",
          "location": "pn13",
          "received": "18:51",
          "type": "theft"
         },
         {
          "arrived": "19:26",
          "cleared": "19:32",
          "date": "08/12/16",
          "dispatched": "19:19",
          "id": "160812077",
          "location": "pn6",
          "received": "19:06",
          "type": "trespassing"
         },
         {
          "arrived": "19:30",
          "cleared": "19:31",
          "date": "08/12/16",
          "dispatched": "",
          "id": "160812078",
          "location": "pn6",
          "received": "19:27",
          "type": "public works"
         },
         {
          "arrived": "20:04",
          "cleared": "20:18",
          "date": "08/12/16",
          "dispatched": "20:03",
          "id": "160812079",
          "location": "pn5",
          "received": "19:59",
          "type": "mental subj"
         },
         {
          "arrived": "20:26",
          "cleared": "20:27",
          "date": "08/12/16",
          "dispatched": "20:19",
          "id": "160812080",
          "location": "pn8",
          "received": "19:50",
          "type": "custodial int."
         },
         {
          "arrived": "20:34",
          "cleared": "21:05",
          "date": "08/12/16",
          "dispatched": "20:30",
          "id": "160812081",
          "location": "pn13",
          "received": "20:07",
          "type": "suspicious"
         },
         {
          "arrived": "20:14",
          "cleared": "20:39",
          "date": "08/12/16",
          "dispatched": "20:11",
          "id": "160812082",
          "location": "pn13",
          "received": "20:08",
          "type": "disorderly"
         },
         {
          "arrived": "20:27",
          "cleared": "20:30",
          "date": "08/12/16",
          "dispatched": "20:25",
          "id": "160812083",
          "location": "pn8",
          "received": "20:09",
          "type": "suspicious"
         },
         {
          "arrived": "20:48",
          "cleared": "21:07",
          "date": "08/12/16",
          "dispatched": "20:41",
          "id": "160812084",
          "location": "pn1",
          "received": "20:31",
          "type": "welfare check"
         },
         {
          "arrived": "20:54",
          "cleared": "20:56",
          "date": "08/12/16",
          "dispatched": "20:44",
          "id": "160812085",
          "location": "pn6",
          "received": "20:42",
          "type": "disorderly"
         },
         {
          "arrived": "21:37",
          "cleared": "21:42",
          "date": "08/12/16",
          "dispatched": "21:29",
          "id": "160812086",
          "location": "pn6",
          "received": "21:28",
          "type": "alarm audible"
         },
         {
          "arrived": "21:45",
          "cleared": "21:57",
          "date": "08/12/16",
          "dispatched": "21:44",
          "id": "160812087",
          "location": "pn5",
          "received": "21:42",
          "type": "animal problem"
         },
         {
          "arrived": "21:58",
          "cleared": "22:05",
          "date": "08/12/16",
          "dispatched": "",
          "id": "160812088",
          "location": "pn5",
          "received": "21:53",
          "type": "suspicious"
         },
         {
          "arrived": "22:12",
          "cleared": "22:23",
          "date": "08/12/16",
          "dispatched": "22:08",
          "id": "160812089",
          "location": "pn8",
          "received": "22:06",
          "type": "suspicious"
         },
         {
          "arrived": "22:58",
          "cleared": "23:13",
          "date": "08/12/16",
          "dispatched": "22:57",
          "id": "160812090",
          "location": "pn5",
          "received": "22:54",
          "type": "trespassing"
         },
         {
          "arrived": "23:20",
          "cleared": "23:22",
          "date": "08/12/16",
          "dispatched": "23:14",
          "id": "160812091",
          "location": "pn5",
          "received": "22:55",
          "type": "found property"
         },
         {
          "arrived": "23:17",
          "cleared": "23:21",
          "date": "08/12/16",
          "dispatched": "23:12",
          "id": "160812092",
          "location": "pn1",
          "received": "23:00",
          "type": "assist req"
         },
         {
          "arrived": "23:29",
          "cleared": "23:43",
          "date": "08/12/16",
          "dispatched": "23:22",
          "id": "160812093",
          "location": "pn2",
          "received": "23:21",
          "type": "noise party"
         },
         {
          "arrived": "23:36",
          "cleared": "00:05",
          "date": "08/12/16",
          "dispatched": "23:32",
          "id": "160812094",
          "location": "pn3",
          "received": "23:29",
          "type": "noise police"
         },
         {
          "arrived": "00:15",
          "cleared": "00:47",
          "date": "08/12/16",
          "dispatched": "00:05",
          "id": "160812095",
          "location": "pn9",
          "received": "23:43",
          "type": "missing person"
         },
         {
          "arrived": "00:28",
          "cleared": "01:52",
          "date": "08/13/16",
          "dispatched": "",
          "id": "160813001",
          "location": "pn5",
          "received": "00:28",
          "type": "dui"
         },
         {
          "arrived": "00:33",
          "cleared": "00:47",
          "date": "08/13/16",
          "dispatched": "00:31",
          "id": "160813002",
          "location": "pn2",
          "received": "00:24",
          "type": "disorderly"
         },
         {
          "arrived": "00:36",
          "cleared": "01:11",
          "date": "08/13/16",
          "dispatched": "",
          "id": "160813003",
          "location": "pn5",
          "received": "00:36",
          "type": "dui"
         },
         {
          "arrived": "00:49",
          "cleared": "00:54",
          "date": "08/13/16",
          "dispatched": "",
          "id": "160813004",
          "location": "pn2",
          "received": "00:38",
          "type": "noise other"
         },
         {
          "arrived": "00:52",
          "cleared": "01:02",
          "date": "08/13/16",
          "dispatched": "00:47",
          "id": "160813005",
          "location": "pn10",
          "received": "00:42",
          "type": "suspicious"
         },
         {
          "arrived": "",
          "cleared": "01:03",
          "date": "08/13/16",
          "dispatched": "01:03",
          "id": "160813006",
          "location": "pn8",
          "received": "00:58",
          "type": "dui"
         },
         {
          "arrived": "01:29",
          "cleared": "01:36",
          "date": "08/13/16",
          "dispatched": "01:26",
          "id": "160813007",
          "location": "pn5",
          "received": "01:18",
          "type": "suspicious"
         },
         {
          "arrived": "01:26",
          "cleared": "01:34",
          "date": "08/13/16",
          "dispatched": "",
          "id": "160813008",
          "location": "pn10",
          "received": "01:22",
          "type": "suspicious"
         },
         {
          "arrived": "02:02",
          "cleared": "02:04",
          "date": "08/13/16",
          "dispatched": "",
          "id": "160813009",
          "location": "pn5",
          "received": "02:01",
          "type": "suspicious"
         },
         {
          "arrived": "02:11",
          "cleared": "02:28",
          "date": "08/13/16",
          "dispatched": "02:09",
          "id": "160813010",
          "location": "pn5",
          "received": "02:09",
          "type": "disorderly"
         },
         {
          "arrived": "02:33",
          "cleared": "02:36",
          "date": "08/13/16",
          "dispatched": "02:30",
          "id": "160813011",
          "location": "pn1",
          "received": "02:29",
          "type": "disorderly"
         },
         {
          "arrived": "02:37",
          "cleared": "04:45",
          "date": "08/13/16",
          "dispatched": "02:35",
          "id": "160813012",
          "location": "pn6",
          "received": "02:28",
          "type": "suspicious"
         },
         {
          "arrived": "02:47",
          "cleared": "02:50",
          "date": "08/13/16",
          "dispatched": "",
          "id": "160813013",
          "location": "pn1",
          "received": "02:37",
          "type": "noise party"
         },
         {
          "arrived": "03:21",
          "cleared": "03:26",
          "date": "08/13/16",
          "dispatched": "03:11",
          "id": "160813014",
          "location": "pn8",
          "received": "03:09",
          "type": "noise police"
         },
         {
          "arrived": "03:30",
          "cleared": "03:46",
          "date": "08/13/16",
          "dispatched": "03:27",
          "id": "160813015",
          "location": "pn10",
          "received": "03:27",
          "type": "alarm audible"
         },
         {
          "arrived": "04:14",
          "cleared": "04:14",
          "date": "08/13/16",
          "dispatched": "",
          "id": "160813016",
          "location": "pn12",
          "received": "04:12",
          "type": "information"
         },
         {
          "arrived": "05:25",
          "cleared": "05:54",
          "date": "08/13/16",
          "dispatched": "05:22",
          "id": "160813017",
          "location": "pn10",
          "received": "05:16",
          "type": "suspicious"
         },
         {
          "arrived": "07:09",
          "cleared": "07:17",
          "date": "08/13/16",
          "dispatched": "06:55",
          "id": "160813018",
          "location": "pn11",
          "received": "06:54",
          "type": "suspicious"
         },
         {
          "arrived": "",
          "cleared": "07:02",
          "date": "08/13/16",
          "dispatched": "07:02",
          "id": "160813019",
          "location": "pn11",
          "received": "07:00",
          "type": "graffiti"
         },
         {
          "arrived": "07:55",
          "cleared": "08:11",
          "date": "08/13/16",
          "dispatched": "07:16",
          "id": "160813020",
          "location": "pn10",
          "received": "07:13",
          "type": "trespassing"
         },
         {
          "arrived": "07:43",
          "cleared": "07:47",
          "date": "08/13/16",
          "dispatched": "07:23",
          "id": "160813021",
          "location": "pn5",
          "received": "07:21",
          "type": "suspicious"
         },
         {
          "arrived": "07:37",
          "cleared": "07:52",
          "date": "08/13/16",
          "dispatched": "07:32",
          "id": "160813022",
          "location": "pn5",
          "received": "07:30",
          "type": "trespassing"
         },
         {
          "arrived": "07:56",
          "cleared": "09:30",
          "date": "08/13/16",
          "dispatched": "07:48",
          "id": "160813023",
          "location": "pn1",
          "received": "07:41",
          "type": "burg res"
         },
         {
          "arrived": "08:13",
          "cleared": "08:58",
          "date": "08/13/16",
          "dispatched": "08:10",
          "id": "160813024",
          "location": "pn1",
          "received": "08:05",
          "type": "theft"
         },
         {
          "arrived": "08:25",
          "cleared": "08:31",
          "date": "08/13/16",
          "dispatched": "08:24",
          "id": "160813025",
          "location": "pn6",
          "received": "08:21",
          "type": "welfare check"
         },
         {
          "arrived": "08:51",
          "cleared": "09:28",
          "date": "08/13/16",
          "dispatched": "08:43",
          "id": "160813026",
          "location": "pn6",
          "received": "08:36",
          "type": "citizen dispute"
         },
         {
          "arrived": "09:28",
          "cleared": "10:23",
          "date": "08/13/16",
          "dispatched": "",
          "id": "160813027",
          "location": "pn6",
          "received": "08:55",
          "type": "vandalism"
         },
         {
          "arrived": "09:05",
          "cleared": "09:19",
          "date": "08/13/16",
          "dispatched": "08:59",
          "id": "160813028",
          "location": "pn13",
          "received": "08:53",
          "type": "disorderly"
         },
         {
          "arrived": "09:39",
          "cleared": "10:06",
          "date": "08/13/16",
          "dispatched": "09:35",
          "id": "160813029",
          "location": "pn13",
          "received": "09:07",
          "type": "suspicious"
         },
         {
          "arrived": "09:39",
          "cleared": "10:10",
          "date": "08/13/16",
          "dispatched": "09:31",
          "id": "160813030",
          "location": "pn11",
          "received": "09:10",
          "type": "vandalism"
         },
         {
          "arrived": "09:22",
          "cleared": "11:25",
          "date": "08/13/16",
          "dispatched": "09:17",
          "id": "160813031",
          "location": "pn11",
          "received": "09:16",
          "type": "suspicious"
         },
         {
          "arrived": "09:28",
          "cleared": "09:31",
          "date": "08/13/16",
          "dispatched": "09:21",
          "id": "160813032",
          "location": "pn6",
          "received": "09:20",
          "type": "assist req"
         },
         {
          "arrived": "09:43",
          "cleared": "09:46",
          "date": "08/13/16",
          "dispatched": "09:37",
          "id": "160813033",
          "location": "pn1",
          "received": "09:35",
          "type": "welfare check"
         },
         {
          "arrived": "10:15",
          "cleared": "10:19",
          "date": "08/13/16",
          "dispatched": "10:07",
          "id": "160813034",
          "location": "pn1",
          "received": "10:04",
          "type": "suspicious"
         },
         {
          "arrived": "10:33",
          "cleared": "10:36",
          "date": "08/13/16",
          "dispatched": "10:30",
          "id": "160813035",
          "location": "pn3",
          "received": "10:27",
          "type": "coll hit and ru"
         },
         {
          "arrived": "10:45",
          "cleared": "11:23",
          "date": "08/13/16",
          "dispatched": "10:44",
          "id": "160813036",
          "location": "pn5",
          "received": "10:42",
          "type": "alarm audible"
         },
         {
          "arrived": "11:20",
          "cleared": "11:39",
          "date": "08/13/16",
          "dispatched": "11:08",
          "id": "160813037",
          "location": "pn1",
          "received": "11:00",
          "type": "suspicious"
         },
         {
          "arrived": "11:17",
          "cleared": "14:13",
          "date": "08/13/16",
          "dispatched": "11:08",
          "id": "160813038",
          "location": "pn12",
          "received": "11:08",
          "type": "assault"
         },
         {
          "arrived": "11:50",
          "cleared": "11:55",
          "date": "08/13/16",
          "dispatched": "11:47",
          "id": "160813039",
          "location": "pn5",
          "received": "11:44",
          "type": "welfare check"
         },
         {
          "arrived": "",
          "cleared": "11:57",
          "date": "08/13/16",
          "dispatched": "11:55",
          "id": "160813040",
          "location": "pn2",
          "received": "11:54",
          "type": "public works"
         },
         {
          "arrived": "12:36",
          "cleared": "13:01",
          "date": "08/13/16",
          "dispatched": "12:28",
          "id": "160813041",
          "location": "pn10",
          "received": "12:26",
          "type": "disorderly"
         },
         {
          "arrived": "12:59",
          "cleared": "14:02",
          "date": "08/13/16",
          "dispatched": "12:46",
          "id": "160813042",
          "location": "pn9",
          "received": "12:42",
          "type": "theft"
         },
         {
          "arrived": "13:13",
          "cleared": "13:39",
          "date": "08/13/16",
          "dispatched": "13:04",
          "id": "160813043",
          "location": "pn12",
          "received": "13:01",
          "type": "traffic offense"
         },
         {
          "arrived": "13:15",
          "cleared": "13:19",
          "date": "08/13/16",
          "dispatched": "13:15",
          "id": "160813044",
          "location": "pn5",
          "received": "13:14",
          "type": "disorderly"
         },
         {
          "arrived": "13:59",
          "cleared": "14:26",
          "date": "08/13/16",
          "dispatched": "13:47",
          "id": "160813045",
          "location": "pn10",
          "received": "13:42",
          "type": "welfare check"
         },
         {
          "arrived": "",
          "cleared": "14:08",
          "date": "08/13/16",
          "dispatched": "14:02",
          "id": "160813046",
          "location": "pn13",
          "received": "13:59",
          "type": "traffic offense"
         },
         {
          "arrived": "14:06",
          "cleared": "14:21",
          "date": "08/13/16",
          "dispatched": "14:04",
          "id": "160813047",
          "location": "pn6",
          "received": "13:58",
          "type": "loitering"
         },
         {
          "arrived": "14:21",
          "cleared": "14:21",
          "date": "08/13/16",
          "dispatched": "14:20",
          "id": "160813048",
          "location": "pn1",
          "received": "14:07",
          "type": "alcohol offense"
         },
         {
          "arrived": "15:21",
          "cleared": "16:02",
          "date": "08/13/16",
          "dispatched": "15:13",
          "id": "160813049",
          "location": "pn9",
          "received": "15:07",
          "type": "fraud"
         },
         {
          "arrived": "15:17",
          "cleared": "15:25",
          "date": "08/13/16",
          "dispatched": "",
          "id": "160813050",
          "location": "pn10",
          "received": "15:17",
          "type": "threatening"
         },
         {
          "arrived": "15:57",
          "cleared": "16:19",
          "date": "08/13/16",
          "dispatched": "15:28",
          "id": "160813051",
          "location": "pn13",
          "received": "15:18",
          "type": "lost property"
         },
         {
          "arrived": "",
          "cleared": "16:28",
          "date": "08/13/16",
          "dispatched": "16:17",
          "id": "160813052",
          "location": "pn9",
          "received": "16:13",
          "type": "trespassing"
         },
         {
          "arrived": "16:50",
          "cleared": "16:59",
          "date": "08/13/16",
          "dispatched": "16:47",
          "id": "160813053",
          "location": "pn10",
          "received": "16:44",
          "type": "animal problem"
         },
         {
          "arrived": "17:09",
          "cleared": "17:19",
          "date": "08/13/16",
          "dispatched": "16:59",
          "id": "160813054",
          "location": "pn5",
          "received": "16:51",
          "type": "threatening"
         },
         {
          "arrived": "",
          "cleared": "17:07",
          "date": "08/13/16",
          "dispatched": "17:07",
          "id": "160813055",
          "location": "pn8",
          "received": "17:00",
          "type": "traffic offense"
         },
         {
          "arrived": "17:16",
          "cleared": "17:25",
          "date": "08/13/16",
          "dispatched": "",
          "id": "160813056",
          "location": "pn5",
          "received": "17:12",
          "type": "dui"
         },
         {
          "arrived": "18:02",
          "cleared": "18:15",
          "date": "08/13/16",
          "dispatched": "17:57",
          "id": "160813057",
          "location": "pn13",
          "received": "17:56",
          "type": "disorderly"
         },
         {
          "arrived": "18:18",
          "cleared": "18:38",
          "date": "08/13/16",
          "dispatched": "18:10",
          "id": "160813058",
          "location": "pn10",
          "received": "18:09",
          "type": "disorderly"
         },
         {
          "arrived": "",
          "cleared": "18:44",
          "date": "08/13/16",
          "dispatched": "18:44",
          "id": "160813059",
          "location": "pn1",
          "received": "18:35",
          "type": "public works"
         },
         {
          "arrived": "18:54",
          "cleared": "19:06",
          "date": "08/13/16",
          "dispatched": "18:48",
          "id": "160813060",
          "location": "pn3",
          "received": "18:42",
          "type": "traffic offense"
         },
         {
          "arrived": "19:49",
          "cleared": "19:53",
          "date": "08/13/16",
          "dispatched": "19:22",
          "id": "160813061",
          "location": "pn5",
          "received": "19:18",
          "type": "found property"
         },
         {
          "arrived": "20:02",
          "cleared": "20:08",
          "date": "08/13/16",
          "dispatched": "19:56",
          "id": "160813062",
          "location": "pn7",
          "received": "19:55",
          "type": "animal problem"
         },
         {
          "arrived": "20:07",
          "cleared": "20:30",
          "date": "08/13/16",
          "dispatched": "20:01",
          "id": "160813063",
          "location": "pn8",
          "received": "19:48",
          "type": "missing person"
         },
         {
          "arrived": "20:18",
          "cleared": "20:22",
          "date": "08/13/16",
          "dispatched": "",
          "id": "160813064",
          "location": "pn12",
          "received": "20:12",
          "type": "traffic offense"
         },
         {
          "arrived": "20:22",
          "cleared": "20:22",
          "date": "08/13/16",
          "dispatched": "",
          "id": "160813065",
          "location": "pn6",
          "received": "20:15",
          "type": "traffic offense"
         },
         {
          "arrived": "20:32",
          "cleared": "20:54",
          "date": "08/13/16",
          "dispatched": "20:25",
          "id": "160813066",
          "location": "pn12",
          "received": "20:19",
          "type": "mc-sleeping"
         },
         {
          "arrived": "20:37",
          "cleared": "21:00",
          "date": "08/13/16",
          "dispatched": "20:34",
          "id": "160813067",
          "location": "pn3",
          "received": "20:24",
          "type": "theft"
         },
         {
          "arrived": "20:59",
          "cleared": "21:01",
          "date": "08/13/16",
          "dispatched": "20:52",
          "id": "160813068",
          "location": "pn2",
          "received": "20:34",
          "type": "noise other"
         },
         {
          "arrived": "21:10",
          "cleared": "21:11",
          "date": "08/13/16",
          "dispatched": "",
          "id": "160813069",
          "location": "lz0",
          "received": "20:58",
          "type": "dui"
         },
         {
          "arrived": "21:11",
          "cleared": "21:17",
          "date": "08/13/16",
          "dispatched": "21:08",
          "id": "160813070",
          "location": "pn13",
          "received": "21:03",
          "type": "suspicious"
         },
         {
          "arrived": "21:33",
          "cleared": "21:57",
          "date": "08/13/16",
          "dispatched": "21:25",
          "id": "160813071",
          "location": "pn1",
          "received": "21:23",
          "type": "animal problem"
         },
         {
          "arrived": "21:39",
          "cleared": "21:52",
          "date": "08/13/16",
          "dispatched": "21:36",
          "id": "160813072",
          "location": "pn7",
          "received": "21:34",
          "type": "noise party"
         },
         {
          "arrived": "21:58",
          "cleared": "22:04",
          "date": "08/13/16",
          "dispatched": "21:54",
          "id": "160813073",
          "location": "pn7",
          "received": "21:51",
          "type": "animal problem"
         },
         {
          "arrived": "22:11",
          "cleared": "22:53",
          "date": "08/13/16",
          "dispatched": "22:04",
          "id": "160813074",
          "location": "pn5",
          "received": "22:02",
          "type": "disorderly"
         },
         {
          "arrived": "22:26",
          "cleared": "22:33",
          "date": "08/13/16",
          "dispatched": "22:15",
          "id": "160813075",
          "location": "pn1",
          "received": "22:06",
          "type": "noise party"
         },
         {
          "arrived": "22:12",
          "cleared": "22:15",
          "date": "08/13/16",
          "dispatched": "22:10",
          "id": "160813076",
          "location": "pn1",
          "received": "22:05",
          "type": "suspicious"
         },
         {
          "arrived": "22:39",
          "cleared": "22:52",
          "date": "08/13/16",
          "dispatched": "22:35",
          "id": "160813077",
          "location": "pn6",
          "received": "22:14",
          "type": "noise party"
         },
         {
          "arrived": "22:47",
          "cleared": "22:50",
          "date": "08/13/16",
          "dispatched": "",
          "id": "160813078",
          "location": "pn2",
          "received": "22:32",
          "type": "noise party"
         },
         {
          "arrived": "22:42",
          "cleared": "22:47",
          "date": "08/13/16",
          "dispatched": "",
          "id": "160813079",
          "location": "pn8",
          "received": "22:39",
          "type": "traffic offense"
         },
         {
          "arrived": "23:14",
          "cleared": "23:26",
          "date": "08/13/16",
          "dispatched": "",
          "id": "160813080",
          "location": "pn6",
          "received": "23:13",
          "type": "controlled narc"
         },
         {
          "arrived": "23:28",
          "cleared": "23:49",
          "date": "08/13/16",
          "dispatched": "23:22",
          "id": "160813081",
          "location": "pn1",
          "received": "23:11",
          "type": "noise party"
         },
         {
          "arrived": "23:26",
          "cleared": "00:39",
          "date": "08/13/16",
          "dispatched": "23:23",
          "id": "160813082",
          "location": "pn5",
          "received": "23:21",
          "type": "dui"
         },
         {
          "arrived": "23:24",
          "cleared": "23:25",
          "date": "08/13/16",
          "dispatched": "",
          "id": "160813083",
          "location": "pn6",
          "received": "23:24",
          "type": "suspicious"
         },
         {
          "arrived": "23:55",
          "cleared": "00:08",
          "date": "08/13/16",
          "dispatched": "",
          "id": "160813084",
          "location": "pn6",
          "received": "23:55",
          "type": "suspicious"
         },
         {
          "arrived": "00:36",
          "cleared": "00:43",
          "date": "08/14/16",
          "dispatched": "00:31",
          "id": "160814001",
          "location": "pn7",
          "received": "00:29",
          "type": "traffic offense"
         },
         {
          "arrived": "01:54",
          "cleared": "02:21",
          "date": "08/14/16",
          "dispatched": "",
          "id": "160814002",
          "location": "pn5",
          "received": "01:54",
          "type": "resisting"
         },
         {
          "arrived": "02:32",
          "cleared": "02:35",
          "date": "08/14/16",
          "dispatched": "02:29",
          "id": "160814003",
          "location": "pn7",
          "received": "02:27",
          "type": "noise police"
         },
         {
          "arrived": "02:43",
          "cleared": "03:06",
          "date": "08/14/16",
          "dispatched": "02:41",
          "id": "160814004",
          "location": "pn5",
          "received": "02:38",
          "type": "alcohol offense"
         },
         {
          "arrived": "03:38",
          "cleared": "04:02",
          "date": "08/14/16",
          "dispatched": "03:34",
          "id": "160814005",
          "location": "pn2",
          "received": "03:29",
          "type": "assist req"
         },
         {
          "arrived": "03:49",
          "cleared": "03:56",
          "date": "08/14/16",
          "dispatched": "03:47",
          "id": "160814006",
          "location": "pn12",
          "received": "03:44",
          "type": "alarm audible"
         },
         {
          "arrived": "04:45",
          "cleared": "04:54",
          "date": "08/14/16",
          "dispatched": "04:29",
          "id": "160814007",
          "location": "pn7",
          "received": "04:26",
          "type": "assist req"
         },
         {
          "arrived": "04:32",
          "cleared": "04:47",
          "date": "08/14/16",
          "dispatched": "04:29",
          "id": "160814008",
          "location": "pn6",
          "received": "04:27",
          "type": "suspicious"
         },
         {
          "arrived": "05:45",
          "cleared": "05:54",
          "date": "08/14/16",
          "dispatched": "05:43",
          "id": "160814009",
          "location": "pn2",
          "received": "05:34",
          "type": "noise party"
         },
         {
          "arrived": "06:06",
          "cleared": "06:17",
          "date": "08/14/16",
          "dispatched": "06:05",
          "id": "160814010",
          "location": "pn5",
          "received": "06:02",
          "type": "trespassing"
         },
         {
          "arrived": "07:38",
          "cleared": "07:38",
          "date": "08/14/16",
          "dispatched": "07:23",
          "id": "160814011",
          "location": "pn5",
          "received": "07:09",
          "type": "suspicious"
         },
         {
          "arrived": "07:56",
          "cleared": "08:01",
          "date": "08/14/16",
          "dispatched": "07:52",
          "id": "160814012",
          "location": "pn13",
          "received": "07:49",
          "type": "trespassing"
         },
         {
          "arrived": "08:18",
          "cleared": "10:01",
          "date": "08/14/16",
          "dispatched": "",
          "id": "160814013",
          "location": "pn1",
          "received": "08:18",
          "type": "controlled narc"
         },
         {
          "arrived": "09:35",
          "cleared": "10:30",
          "date": "08/14/16",
          "dispatched": "09:32",
          "id": "160814014",
          "location": "pn7",
          "received": "09:28",
          "type": "suspicious"
         },
         {
          "arrived": "10:01",
          "cleared": "10:19",
          "date": "08/14/16",
          "dispatched": "09:54",
          "id": "160814015",
          "location": "pn10",
          "received": "09:50",
          "type": "loitering"
         },
         {
          "arrived": "10:03",
          "cleared": "10:10",
          "date": "08/14/16",
          "dispatched": "",
          "id": "160814016",
          "location": "pn2",
          "received": "09:57",
          "type": "welfare check"
         },
         {
          "arrived": "10:38",
          "cleared": "10:40",
          "date": "08/14/16",
          "dispatched": "",
          "id": "160814017",
          "location": "pn2",
          "received": "10:27",
          "type": "coll non inj"
         },
         {
          "arrived": "11:17",
          "cleared": "11:17",
          "date": "08/14/16",
          "dispatched": "11:17",
          "id": "160814018",
          "location": "pn1",
          "received": "11:11",
          "type": "vandalism"
         },
         {
          "arrived": "11:32",
          "cleared": "11:36",
          "date": "08/14/16",
          "dispatched": "11:32",
          "id": "160814019",
          "location": "pn5",
          "received": "11:31",
          "type": "assist req"
         },
         {
          "arrived": "11:48",
          "cleared": "11:56",
          "date": "08/14/16",
          "dispatched": "11:47",
          "id": "160814020",
          "location": "pn11",
          "received": "11:45",
          "type": "suspicious"
         },
         {
          "arrived": "12:04",
          "cleared": "12:06",
          "date": "08/14/16",
          "dispatched": "12:02",
          "id": "160814021",
          "location": "pn6",
          "received": "12:00",
          "type": "animal problem"
         },
         {
          "arrived": "12:23",
          "cleared": "12:26",
          "date": "08/14/16",
          "dispatched": "12:11",
          "id": "160814022",
          "location": "pn1",
          "received": "12:07",
          "type": "trespassing"
         },
         {
          "arrived": "12:15",
          "cleared": "12:38",
          "date": "08/14/16",
          "dispatched": "12:15",
          "id": "160814023",
          "location": "pn5",
          "received": "12:11",
          "type": "assist req"
         },
         {
          "arrived": "12:20",
          "cleared": "12:22",
          "date": "08/14/16",
          "dispatched": "12:20",
          "id": "160814024",
          "location": "pn2",
          "received": "12:16",
          "type": "vandalism"
         },
         {
          "arrived": "12:28",
          "cleared": "12:32",
          "date": "08/14/16",
          "dispatched": "12:27",
          "id": "160814025",
          "location": "pn1",
          "received": "12:22",
          "type": "theft"
         },
         {
          "arrived": "12:45",
          "cleared": "12:45",
          "date": "08/14/16",
          "dispatched": "",
          "id": "160814026",
          "location": "pn5",
          "received": "12:45",
          "type": "alcohol offense"
         },
         {
          "arrived": "13:02",
          "cleared": "13:24",
          "date": "08/14/16",
          "dispatched": "12:57",
          "id": "160814027",
          "location": "pn11",
          "received": "12:47",
          "type": "assist req"
         },
         {
          "arrived": "13:04",
          "cleared": "13:29",
          "date": "08/14/16",
          "dispatched": "13:00",
          "id": "160814028",
          "location": "pn12",
          "received": "12:56",
          "type": "threatening"
         },
         {
          "arrived": "13:12",
          "cleared": "13:30",
          "date": "08/14/16",
          "dispatched": "13:07",
          "id": "160814029",
          "location": "pn1",
          "received": "13:03",
          "type": "trespassing"
         },
         {
          "arrived": "13:17",
          "cleared": "13:18",
          "date": "08/14/16",
          "dispatched": "",
          "id": "160814030",
          "location": "pn10",
          "received": "13:15",
          "type": "aband vehicle"
         },
         {
          "arrived": "13:27",
          "cleared": "13:52",
          "date": "08/14/16",
          "dispatched": "",
          "id": "160814031",
          "location": "pn5",
          "received": "13:27",
          "type": "theft"
         },
         {
          "arrived": "13:55",
          "cleared": "13:57",
          "date": "08/14/16",
          "dispatched": "13:49",
          "id": "160814032",
          "location": "pn2",
          "received": "13:48",
          "type": "noise other"
         },
         {
          "arrived": "14:35",
          "cleared": "14:56",
          "date": "08/14/16",
          "dispatched": "14:26",
          "id": "160814033",
          "location": "pn6",
          "received": "14:25",
          "type": "alarm audible"
         },
         {
          "arrived": "15:10",
          "cleared": "15:20",
          "date": "08/14/16",
          "dispatched": "15:06",
          "id": "160814034",
          "location": "pn2",
          "received": "14:31",
          "type": "theft"
         },
         {
          "arrived": "14:42",
          "cleared": "14:48",
          "date": "08/14/16",
          "dispatched": "",
          "id": "160814035",
          "location": "pn13",
          "received": "14:41",
          "type": "traffic hazard"
         },
         {
          "arrived": "16:02",
          "cleared": "16:16",
          "date": "08/14/16",
          "dispatched": "15:47",
          "id": "160814036",
          "location": "pn8",
          "received": "14:42",
          "type": "theft"
         },
         {
          "arrived": "14:50",
          "cleared": "15:49",
          "date": "08/14/16",
          "dispatched": "",
          "id": "160814037",
          "location": "pn10",
          "received": "14:50",
          "type": "suspicious"
         },
         {
          "arrived": "15:03",
          "cleared": "16:01",
          "date": "08/14/16",
          "dispatched": "",
          "id": "160814038",
          "location": "pn12",
          "received": "15:00",
          "type": "resisting"
         },
         {
          "arrived": "15:12",
          "cleared": "15:15",
          "date": "08/14/16",
          "dispatched": "15:11",
          "id": "160814039",
          "location": "pn9",
          "received": "15:05",
          "type": "noise other"
         },
         {
          "arrived": "15:16",
          "cleared": "15:26",
          "date": "08/14/16",
          "dispatched": "",
          "id": "160814040",
          "location": "pn6",
          "received": "15:06",
          "type": "trespassing"
         },
         {
          "arrived": "15:20",
          "cleared": "15:43",
          "date": "08/14/16",
          "dispatched": "15:16",
          "id": "160814041",
          "location": "pn5",
          "received": "15:07",
          "type": "disorderly"
         },
         {
          "arrived": "15:38",
          "cleared": "16:04",
          "date": "08/14/16",
          "dispatched": "15:28",
          "id": "160814042",
          "location": "pn8",
          "received": "15:13",
          "type": "suspicious"
         },
         {
          "arrived": "15:42",
          "cleared": "15:42",
          "date": "08/14/16",
          "dispatched": "",
          "id": "160814043",
          "location": "pn5",
          "received": "15:18",
          "type": "assist req"
         },
         {
          "arrived": "16:02",
          "cleared": "16:12",
          "date": "08/14/16",
          "dispatched": "",
          "id": "160814044",
          "location": "pn2",
          "received": "15:55",
          "type": "suspicious"
         },
         {
          "arrived": "",
          "cleared": "16:03",
          "date": "08/14/16",
          "dispatched": "16:03",
          "id": "160814045",
          "location": "pn10",
          "received": "15:58",
          "type": "traffic offense"
         },
         {
          "arrived": "16:11",
          "cleared": "16:11",
          "date": "08/14/16",
          "dispatched": "",
          "id": "160814046",
          "location": "pn11",
          "received": "16:07",
          "type": "alarm audible"
         },
         {
          "arrived": "16:21",
          "cleared": "16:25",
          "date": "08/14/16",
          "dispatched": "16:15",
          "id": "160814047",
          "location": "pn7",
          "received": "16:14",
          "type": "9-1-1 abandon"
         },
         {
          "arrived": "16:15",
          "cleared": "16:18",
          "date": "08/14/16",
          "dispatched": "",
          "id": "160814048",
          "location": "pn8",
          "received": "16:15",
          "type": "trespassing"
         },
         {
          "arrived": "18:09",
          "cleared": "18:09",
          "date": "08/14/16",
          "dispatched": "",
          "id": "160814049",
          "location": "pn6",
          "received": "18:09",
          "type": "alarm audible"
         },
         {
          "arrived": "23:05",
          "cleared": "23:22",
          "date": "08/14/16",
          "dispatched": "23:03",
          "id": "160814050",
          "location": "pn7",
          "received": "18:30",
          "type": "assist req"
         },
         {
          "arrived": "19:50",
          "cleared": "20:32",
          "date": "08/14/16",
          "dispatched": "19:12",
          "id": "160814051",
          "location": "pn1",
          "received": "18:59",
          "type": "suspicious"
         },
         {
          "arrived": "",
          "cleared": "19:43",
          "date": "08/14/16",
          "dispatched": "19:27",
          "id": "160814052",
          "location": "pn6",
          "received": "19:19",
          "type": "loitering"
         },
         {
          "arrived": "20:07",
          "cleared": "20:15",
          "date": "08/14/16",
          "dispatched": "19:27",
          "id": "160814053",
          "location": "pn2",
          "received": "19:22",
          "type": "theft"
         },
         {
          "arrived": "21:42",
          "cleared": "21:51",
          "date": "08/14/16",
          "dispatched": "21:32",
          "id": "160814054",
          "location": "pn1",
          "received": "21:30",
          "type": "suspicious"
         },
         {
          "arrived": "22:56",
          "cleared": "23:09",
          "date": "08/14/16",
          "dispatched": "22:52",
          "id": "160814055",
          "location": "pn7",
          "received": "22:50",
          "type": "suspicious"
         },
         {
          "arrived": "23:27",
          "cleared": "23:35",
          "date": "08/14/16",
          "dispatched": "23:24",
          "id": "160814056",
          "location": "pn5",
          "received": "23:09",
          "type": "alarm audible"
         },
         {
          "arrived": "23:45",
          "cleared": "23:57",
          "date": "08/14/16",
          "dispatched": "23:38",
          "id": "160814057",
          "location": "pn2",
          "received": "23:13",
          "type": "noise party"
         },
         {
          "arrived": "23:58",
          "cleared": "00:02",
          "date": "08/14/16",
          "dispatched": "",
          "id": "160814058",
          "location": "pn6",
          "received": "23:58",
          "type": "suspicious"
         },
         {
          "arrived": "00:12",
          "cleared": "00:15",
          "date": "08/15/16",
          "dispatched": "00:01",
          "id": "160815001",
          "location": "pn1",
          "received": "00:00",
          "type": "noise party"
         },
         {
          "arrived": "00:48",
          "cleared": "01:28",
          "date": "08/15/16",
          "dispatched": "00:09",
          "id": "160815002",
          "location": "pn5",
          "received": "00:02",
          "type": "welfare check"
         },
         {
          "arrived": "00:54",
          "cleared": "01:21",
          "date": "08/15/16",
          "dispatched": "00:35",
          "id": "160815003",
          "location": "pn6",
          "received": "00:29",
          "type": "missing person"
         },
         {
          "arrived": "01:40",
          "cleared": "01:41",
          "date": "08/15/16",
          "dispatched": "01:33",
          "id": "160815004",
          "location": "pn10",
          "received": "01:00",
          "type": "suspicious"
         },
         {
          "arrived": "02:12",
          "cleared": "02:27",
          "date": "08/15/16",
          "dispatched": "02:05",
          "id": "160815005",
          "location": "pn11",
          "received": "02:02",
          "type": "disorderly"
         },
         {
          "arrived": "02:35",
          "cleared": "02:39",
          "date": "08/15/16",
          "dispatched": "02:26",
          "id": "160815006",
          "location": "pn1",
          "received": "02:15",
          "type": "alarm audible"
         },
         {
          "arrived": "02:26",
          "cleared": "02:38",
          "date": "08/15/16",
          "dispatched": "02:20",
          "id": "160815007",
          "location": "pn8",
          "received": "02:18",
          "type": "disorderly"
         },
         {
          "arrived": "02:40",
          "cleared": "02:48",
          "date": "08/15/16",
          "dispatched": "02:39",
          "id": "160815008",
          "location": "pn5",
          "received": "02:24",
          "type": "alcohol offense"
         },
         {
          "arrived": "06:17",
          "cleared": "06:28",
          "date": "08/15/16",
          "dispatched": "06:13",
          "id": "160815009",
          "location": "pn8",
          "received": "06:10",
          "type": "suspicious"
         },
         {
          "arrived": "",
          "cleared": "06:28",
          "date": "08/15/16",
          "dispatched": "06:27",
          "id": "160815010",
          "location": "pn7",
          "received": "06:25",
          "type": "suspicious"
         },
         {
          "arrived": "",
          "cleared": "07:28",
          "date": "08/26/16",
          "dispatched": "07:26",
          "id": "160826016",
          "location": "pn13",
          "received": "07:25",
          "type": "traffic offense"
         },
         {
          "arrived": "07:59",
          "cleared": "08:02",
          "date": "08/26/16",
          "dispatched": "07:55",
          "id": "160826017",
          "location": "pn6",
          "received": "07:47",
          "type": "suspicious"
         },
         {
          "arrived": "",
          "cleared": "08:05",
          "date": "08/26/16",
          "dispatched": "08:03",
          "id": "160826018",
          "location": "pn10",
          "received": "08:00",
          "type": "assist req"
         },
         {
          "arrived": "",
          "cleared": "08:23",
          "date": "08/26/16",
          "dispatched": "08:23",
          "id": "160826019",
          "location": "pn8",
          "received": "08:20",
          "type": "parking problem"
         },
         {
          "arrived": "",
          "cleared": "08:50",
          "date": "08/26/16",
          "dispatched": "08:49",
          "id": "160826020",
          "location": "pn5",
          "received": "08:48",
          "type": "towed vehicle"
         },
         {
          "arrived": "",
          "cleared": "08:53",
          "date": "08/26/16",
          "dispatched": "08:50",
          "id": "160826021",
          "location": "pn2",
          "received": "08:49",
          "type": "9-1-1 abandon"
         },
         {
          "arrived": "09:19",
          "cleared": "09:23",
          "date": "08/26/16",
          "dispatched": "08:59",
          "id": "160826022",
          "location": "pn8",
          "received": "08:55",
          "type": "disorderly"
         },
         {
          "arrived": "09:40",
          "cleared": "10:03",
          "date": "08/26/16",
          "dispatched": "09:30",
          "id": "160826023",
          "location": "pn6",
          "received": "09:28",
          "type": "trespassing"
         },
         {
          "arrived": "09:39",
          "cleared": "09:42",
          "date": "08/26/16",
          "dispatched": "09:35",
          "id": "160826024",
          "location": "pn2",
          "received": "09:31",
          "type": "alarm audible"
         },
         {
          "arrived": "09:43",
          "cleared": "10:30",
          "date": "08/26/16",
          "dispatched": "09:42",
          "id": "160826025",
          "location": "pn6",
          "received": "09:36",
          "type": "graffiti"
         },
         {
          "arrived": "10:04",
          "cleared": "10:17",
          "date": "08/26/16",
          "dispatched": "10:03",
          "id": "160826026",
          "location": "pn13",
          "received": "09:53",
          "type": "assist req"
         },
         {
          "arrived": "10:03",
          "cleared": "10:22",
          "date": "08/26/16",
          "dispatched": "",
          "id": "160826027",
          "location": "pn6",
          "received": "10:03",
          "type": "trespassing"
         },
         {
          "arrived": "10:08",
          "cleared": "10:23",
          "date": "08/26/16",
          "dispatched": "",
          "id": "160826028",
          "location": "pn6",
          "received": "10:08",
          "type": "graffiti"
         },
         {
          "arrived": "10:12",
          "cleared": "10:12",
          "date": "08/26/16",
          "dispatched": "",
          "id": "160826029",
          "location": "pn2",
          "received": "10:08",
          "type": "traffic hazard"
         },
         {
          "arrived": "",
          "cleared": "10:13",
          "date": "08/26/16",
          "dispatched": "10:12",
          "id": "160826030",
          "location": "pn6",
          "received": "09:55",
          "type": "aband vehicle"
         },
         {
          "arrived": "",
          "cleared": "10:17",
          "date": "08/26/16",
          "dispatched": "10:16",
          "id": "160826031",
          "location": "pn7",
          "received": "10:15",
          "type": "parking problem"
         },
         {
          "arrived": "10:32",
          "cleared": "10:33",
          "date": "08/26/16",
          "dispatched": "10:30",
          "id": "160826032",
          "location": "pn1",
          "received": "10:26",
          "type": "theft"
         },
         {
          "arrived": "",
          "cleared": "10:30",
          "date": "08/26/16",
          "dispatched": "10:29",
          "id": "160826033",
          "location": "pn13",
          "received": "10:27",
          "type": "traffic offense"
         },
         {
          "arrived": "10:46",
          "cleared": "10:53",
          "date": "08/26/16",
          "dispatched": "10:43",
          "id": "160826034",
          "location": "pn6",
          "received": "10:41",
          "type": "suspicious"
         },
         {
          "arrived": "",
          "cleared": "11:10",
          "date": "08/26/16",
          "dispatched": "10:58",
          "id": "160826035",
          "location": "pn13",
          "received": "10:58",
          "type": "towed vehicle"
         },
         {
          "arrived": "11:10",
          "cleared": "11:59",
          "date": "08/26/16",
          "dispatched": "11:03",
          "id": "160826036",
          "location": "pn7",
          "received": "11:02",
          "type": "welfare check"
         },
         {
          "arrived": "11:37",
          "cleared": "11:39",
          "date": "08/26/16",
          "dispatched": "11:31",
          "id": "160826037",
          "location": "pn13",
          "received": "11:21",
          "type": "traffic hazard"
         },
         {
          "arrived": "11:40",
          "cleared": "11:43",
          "date": "08/26/16",
          "dispatched": "11:24",
          "id": "160826038",
          "location": "pn13",
          "received": "11:20",
          "type": "welfare check"
         },
         {
          "arrived": "11:52",
          "cleared": "11:59",
          "date": "08/26/16",
          "dispatched": "",
          "id": "160826039",
          "location": "pn11",
          "received": "11:52",
          "type": "suspicious"
         },
         {
          "arrived": "11:58",
          "cleared": "12:52",
          "date": "08/26/16",
          "dispatched": "11:57",
          "id": "160826040",
          "location": "pn1",
          "received": "11:54",
          "type": "trespassing"
         },
         {
          "arrived": "12:01",
          "cleared": "12:02",
          "date": "08/26/16",
          "dispatched": "11:59",
          "id": "160826041",
          "location": "pn5",
          "received": "11:57",
          "type": "mc-panhandling"
         },
         {
          "arrived": "12:11",
          "cleared": "12:18",
          "date": "08/26/16",
          "dispatched": "12:01",
          "id": "160826042",
          "location": "pn1",
          "received": "11:59",
          "type": "suspicious"
         },
         {
          "arrived": "12:41",
          "cleared": "13:04",
          "date": "08/26/16",
          "dispatched": "12:33",
          "id": "160826043",
          "location": "pn1",
          "received": "12:30",
          "type": "alcohol offense"
         },
         {
          "arrived": "12:50",
          "cleared": "13:04",
          "date": "08/26/16",
          "dispatched": "",
          "id": "160826044",
          "location": "pn7",
          "received": "12:32",
          "type": "9-1-1 abandon"
         },
         {
          "arrived": "12:37",
          "cleared": "12:37",
          "date": "08/26/16",
          "dispatched": "",
          "id": "160826045",
          "location": "pn5",
          "received": "12:36",
          "type": "suspicious"
         },
         {
          "arrived": "12:59",
          "cleared": "13:16",
          "date": "08/26/16",
          "dispatched": "12:53",
          "id": "160826046",
          "location": "pn6",
          "received": "12:45",
          "type": "assist req"
         },
         {
          "arrived": "13:11",
          "cleared": "13:11",
          "date": "08/26/16",
          "dispatched": "13:04",
          "id": "160826047",
          "location": "pn10",
          "received": "12:53",
          "type": "suspicious"
         },
         {
          "arrived": "12:59",
          "cleared": "13:02",
          "date": "08/26/16",
          "dispatched": "",
          "id": "160826048",
          "location": "pn1",
          "received": "12:59",
          "type": "traffic hazard"
         },
         {
          "arrived": "13:10",
          "cleared": "13:56",
          "date": "08/26/16",
          "dispatched": "13:06",
          "id": "160826049",
          "location": "pn2",
          "received": "13:05",
          "type": "welfare check"
         },
         {
          "arrived": "13:50",
          "cleared": "15:18",
          "date": "08/26/16",
          "dispatched": "",
          "id": "160826050",
          "location": "pn6",
          "received": "13:50",
          "type": "found property"
         },
         {
          "arrived": "14:11",
          "cleared": "14:15",
          "date": "08/26/16",
          "dispatched": "14:07",
          "id": "160826051",
          "location": "pn7",
          "received": "13:59",
          "type": "medical"
         },
         {
          "arrived": "14:18",
          "cleared": "14:39",
          "date": "08/26/16",
          "dispatched": "14:16",
          "id": "160826052",
          "location": "pn5",
          "received": "14:15",
          "type": "medical"
         },
         {
          "arrived": "14:18",
          "cleared": "14:18",
          "date": "08/26/16",
          "dispatched": "",
          "id": "160826053",
          "location": "pn7",
          "received": "14:17",
          "type": "traffic hazard"
         },
         {
          "arrived": "14:36",
          "cleared": "15:00",
          "date": "08/26/16",
          "dispatched": "14:32",
          "id": "160826054",
          "location": "pn10",
          "received": "14:27",
          "type": "keep the peace"
         },
         {
          "arrived": "",
          "cleared": "14:58",
          "date": "08/26/16",
          "dispatched": "14:38",
          "id": "160826055",
          "location": "pn8",
          "received": "14:33",
          "type": "aband vehicle"
         },
         {
          "arrived": "15:06",
          "cleared": "15:39",
          "date": "08/26/16",
          "dispatched": "14:55",
          "id": "160826056",
          "location": "pn1",
          "received": "14:53",
          "type": "keep the peace"
         },
         {
          "arrived": "05:05",
          "cleared": "05:12",
          "date": "08/26/16",
          "dispatched": "",
          "id": "160826057",
          "location": "pn2",
          "received": "14:52",
          "type": "posting vehs"
         },
         {
          "arrived": "15:42",
          "cleared": "15:46",
          "date": "08/26/16",
          "dispatched": "15:33",
          "id": "160826058",
          "location": "pn6",
          "received": "15:20",
          "type": "mc-smoking"
         },
         {
          "arrived": "15:59",
          "cleared": "16:17",
          "date": "08/26/16",
          "dispatched": "15:50",
          "id": "160826059",
          "location": "pn10",
          "received": "15:46",
          "type": "found property"
         },
         {
          "arrived": "15:49",
          "cleared": "16:49",
          "date": "08/26/16",
          "dispatched": "",
          "id": "160826060",
          "location": "pn10",
          "received": "15:49",
          "type": "warrant"
         },
         {
          "arrived": "",
          "cleared": "15:52",
          "date": "08/26/16",
          "dispatched": "15:52",
          "id": "160826061",
          "location": "pn7",
          "received": "15:51",
          "type": "aband vehicle"
         },
         {
          "arrived": "16:41",
          "cleared": "16:45",
          "date": "08/26/16",
          "dispatched": "",
          "id": "160826062",
          "location": "pn11",
          "received": "15:53",
          "type": "mc-panhandling"
         },
         {
          "arrived": "",
          "cleared": "16:04",
          "date": "08/26/16",
          "dispatched": "16:04",
          "id": "160826063",
          "location": "pn5",
          "received": "15:56",
          "type": "mc-panhandling"
         },
         {
          "arrived": "16:27",
          "cleared": "16:30",
          "date": "08/26/16",
          "dispatched": "16:20",
          "id": "160826064",
          "location": "pn8",
          "received": "16:02",
          "type": "fraud"
         },
         {
          "arrived": "16:26",
          "cleared": "17:19",
          "date": "08/26/16",
          "dispatched": "16:21",
          "id": "160826065",
          "location": "pn5",
          "received": "16:07",
          "type": "found property"
         },
         {
          "arrived": "05:13",
          "cleared": "05:14",
          "date": "08/26/16",
          "dispatched": "",
          "id": "160826066",
          "location": "pn5",
          "received": "16:26",
          "type": "posting vehs"
         },
         {
          "arrived": "05:13",
          "cleared": "05:13",
          "date": "08/26/16",
          "dispatched": "",
          "id": "160826067",
          "location": "pn5",
          "received": "16:30",
          "type": "posting vehs"
         },
         {
          "arrived": "17:01",
          "cleared": "17:34",
          "date": "08/26/16",
          "dispatched": "16:54",
          "id": "160826068",
          "location": "pn1",
          "received": "16:50",
          "type": "disorderly"
         },
         {
          "arrived": "17:37",
          "cleared": "17:37",
          "date": "08/26/16",
          "dispatched": "17:36",
          "id": "160826069",
          "location": "pn2",
          "received": "16:59",
          "type": "vandalism"
         },
         {
          "arrived": "17:11",
          "cleared": "17:30",
          "date": "08/26/16",
          "dispatched": "17:08",
          "id": "160826070",
          "location": "pn5",
          "received": "17:07",
          "type": "assault"
         },
         {
          "arrived": "17:37",
          "cleared": "17:56",
          "date": "08/26/16",
          "dispatched": "17:30",
          "id": "160826071",
          "location": "pn6",
          "received": "17:22",
          "type": "trespassing"
         },
         {
          "arrived": "17:40",
          "cleared": "18:26",
          "date": "08/26/16",
          "dispatched": "17:36",
          "id": "160826072",
          "location": "pn5",
          "received": "17:30",
          "type": "assist req"
         },
         {
          "arrived": "18:03",
          "cleared": "18:39",
          "date": "08/26/16",
          "dispatched": "17:54",
          "id": "160826073",
          "location": "pn1",
          "received": "17:36",
          "type": "theft"
         },
         {
          "arrived": "17:44",
          "cleared": "17:56",
          "date": "08/26/16",
          "dispatched": "",
          "id": "160826074",
          "location": "pn7",
          "received": "17:29",
          "type": "attempt-locate"
         },
         {
          "arrived": "17:52",
          "cleared": "17:56",
          "date": "08/26/16",
          "dispatched": "17:47",
          "id": "160826075",
          "location": "pn5",
          "received": "17:42",
          "type": "traffic hazard"
         },
         {
          "arrived": "",
          "cleared": "00:39",
          "date": "08/26/16",
          "dispatched": "18:49",
          "id": "160826076",
          "location": "pn7",
          "received": "18:08",
          "type": "assist o police"
         },
         {
          "arrived": "",
          "cleared": "",
          "date": "08/26/16",
          "dispatched": "18:49",
          "id": "160826077",
          "location": "pn1",
          "received": "18:36",
          "type": "mental subj"
         },
         {
          "arrived": "",
          "cleared": "18:57",
          "date": "08/26/16",
          "dispatched": "18:53",
          "id": "160826078",
          "location": "pn9",
          "received": "18:50",
          "type": "alarm audible"
         },
         {
          "arrived": "19:08",
          "cleared": "22:57",
          "date": "08/26/16",
          "dispatched": "19:03",
          "id": "160826079",
          "location": "pn7",
          "received": "19:00",
          "type": "assist req"
         },
         {
          "arrived": "19:39",
          "cleared": "19:43",
          "date": "08/26/16",
          "dispatched": "19:33",
          "id": "160826080",
          "location": "pn10",
          "received": "19:28",
          "type": "suspicious"
         },
         {
          "arrived": "20:01",
          "cleared": "20:48",
          "date": "08/26/16",
          "dispatched": "19:54",
          "id": "160826081",
          "location": "pn1",
          "received": "19:47",
          "type": "traffic offense"
         },
         {
          "arrived": "21:20",
          "cleared": "21:45",
          "date": "08/26/16",
          "dispatched": "21:15",
          "id": "160826082",
          "location": "pn3",
          "received": "21:12",
          "type": "disorderly"
         },
         {
          "arrived": "21:48",
          "cleared": "21:52",
          "date": "08/26/16",
          "dispatched": "21:37",
          "id": "160826083",
          "location": "pn7",
          "received": "21:30",
          "type": "suspicious"
         },
         {
          "arrived": "21:58",
          "cleared": "22:04",
          "date": "08/26/16",
          "dispatched": "21:55",
          "id": "160826084",
          "location": "pn2",
          "received": "21:51",
          "type": "noise party"
         },
         {
          "arrived": "22:08",
          "cleared": "22:21",
          "date": "08/26/16",
          "dispatched": "22:05",
          "id": "160826085",
          "location": "pn6",
          "received": "22:01",
          "type": "noise party"
         },
         {
          "arrived": "22:33",
          "cleared": "22:37",
          "date": "08/26/16",
          "dispatched": "22:22",
          "id": "160826086",
          "location": "pn7",
          "received": "22:12",
          "type": "noise party"
         },
         {
          "arrived": "22:48",
          "cleared": "22:55",
          "date": "08/26/16",
          "dispatched": "22:40",
          "id": "160826087",
          "location": "pn7",
          "received": "22:38",
          "type": "noise party"
         },
         {
          "arrived": "23:06",
          "cleared": "23:11",
          "date": "08/26/16",
          "dispatched": "",
          "id": "160826088",
          "location": "pn2",
          "received": "22:59",
          "type": "muni code viol"
         },
         {
          "arrived": "23:17",
          "cleared": "23:24",
          "date": "08/26/16",
          "dispatched": "23:10",
          "id": "160826089",
          "location": "pn8",
          "received": "23:07",
          "type": "noise party"
         },
         {
          "arrived": "23:33",
          "cleared": "23:50",
          "date": "08/26/16",
          "dispatched": "23:28",
          "id": "160826090",
          "location": "pn2",
          "received": "23:15",
          "type": "noise party"
         },
         {
          "arrived": "23:26",
          "cleared": "23:30",
          "date": "08/26/16",
          "dispatched": "23:18",
          "id": "160826091",
          "location": "pn9",
          "received": "23:10",
          "type": "attempt-locate"
         },
         {
          "arrived": "23:34",
          "cleared": "23:34",
          "date": "08/26/16",
          "dispatched": "23:31",
          "id": "160826092",
          "location": "pn5",
          "received": "23:29",
          "type": "alarm audible"
         },
         {
          "arrived": "23:47",
          "cleared": "23:52",
          "date": "08/26/16",
          "dispatched": "23:46",
          "id": "160826093",
          "location": "pn5",
          "received": "23:41",
          "type": "citizen dispute"
         },
         {
          "arrived": "23:55",
          "cleared": "00:22",
          "date": "08/26/16",
          "dispatched": "",
          "id": "160826094",
          "location": "pn5",
          "received": "23:55",
          "type": "suspicious"
         },
         {
          "arrived": "00:13",
          "cleared": "00:18",
          "date": "08/27/16",
          "dispatched": "00:05",
          "id": "160827001",
          "location": "pn6",
          "received": "00:02",
          "type": "welfare check"
         },
         {
          "arrived": "00:19",
          "cleared": "00:25",
          "date": "08/27/16",
          "dispatched": "",
          "id": "160827002",
          "location": "pn6",
          "received": "00:13",
          "type": "suspicious"
         },
         {
          "arrived": "00:28",
          "cleared": "00:30",
          "date": "08/27/16",
          "dispatched": "00:26",
          "id": "160827003",
          "location": "pn2",
          "received": "00:18",
          "type": "suspicious"
         },
         {
          "arrived": "00:55",
          "cleared": "00:56",
          "date": "08/27/16",
          "dispatched": "00:50",
          "id": "160827004",
          "location": "pn2",
          "received": "00:47",
          "type": "disorderly"
         },
         {
          "arrived": "00:55",
          "cleared": "01:08",
          "date": "08/27/16",
          "dispatched": "00:52",
          "id": "160827005",
          "location": "pn9",
          "received": "00:50",
          "type": "alarm audible"
         },
         {
          "arrived": "01:06",
          "cleared": "01:15",
          "date": "08/27/16",
          "dispatched": "01:03",
          "id": "160827006",
          "location": "pn1",
          "received": "00:54",
          "type": "9-1-1 abandon"
         },
         {
          "arrived": "01:05",
          "cleared": "01:11",
          "date": "08/27/16",
          "dispatched": "",
          "id": "160827007",
          "location": "pn6",
          "received": "01:05",
          "type": "traffic offense"
         },
         {
          "arrived": "01:22",
          "cleared": "01:50",
          "date": "08/27/16",
          "dispatched": "01:20",
          "id": "160827008",
          "location": "pn5",
          "received": "01:17",
          "type": "disorderly"
         },
         {
          "arrived": "01:48",
          "cleared": "01:53",
          "date": "08/27/16",
          "dispatched": "01:45",
          "id": "160827009",
          "location": "pn5",
          "received": "01:18",
          "type": "theft"
         },
         {
          "arrived": "01:59",
          "cleared": "02:32",
          "date": "08/27/16",
          "dispatched": "",
          "id": "160827010",
          "location": "pn6",
          "received": "01:59",
          "type": "dui"
         },
         {
          "arrived": "02:20",
          "cleared": "03:35",
          "date": "08/27/16",
          "dispatched": "02:14",
          "id": "160827011",
          "location": "pn1",
          "received": "02:14",
          "type": "suspicious"
         },
         {
          "arrived": "02:23",
          "cleared": "04:08",
          "date": "08/27/16",
          "dispatched": "",
          "id": "160827012",
          "location": "pn2",
          "received": "02:23",
          "type": "dui"
         },
         {
          "arrived": "02:35",
          "cleared": "02:38",
          "date": "08/27/16",
          "dispatched": "02:35",
          "id": "160827013",
          "location": "pn3",
          "received": "02:30",
          "type": "alcohol offense"
         },
         {
          "arrived": "02:56",
          "cleared": "03:03",
          "date": "08/27/16",
          "dispatched": "02:54",
          "id": "160827014",
          "location": "pn2",
          "received": "02:47",
          "type": "disorderly"
         },
         {
          "arrived": "03:22",
          "cleared": "03:45",
          "date": "08/27/16",
          "dispatched": "03:20",
          "id": "160827015",
          "location": "pn1",
          "received": "03:19",
          "type": "alarm audible"
         },
         {
          "arrived": "03:47",
          "cleared": "05:31",
          "date": "08/27/16",
          "dispatched": "03:45",
          "id": "160827016",
          "location": "pn2",
          "received": "03:43",
          "type": "disorderly"
         },
         {
          "arrived": "05:14",
          "cleared": "05:02",
          "date": "08/27/16",
          "dispatched": "04:58",
          "id": "160827017",
          "location": "pn11",
          "received": "04:28",
          "type": "mc-camping"
         },
         {
          "arrived": "04:36",
          "cleared": "04:38",
          "date": "08/27/16",
          "dispatched": "04:32",
          "id": "160827018",
          "location": "pn5",
          "received": "04:29",
          "type": "found property"
         },
         {
          "arrived": "",
          "cleared": "05:04",
          "date": "08/27/16",
          "dispatched": "05:02",
          "id": "160827019",
          "location": "pn12",
          "received": "04:59",
          "type": "alarm audible"
         },
         {
          "arrived": "05:41",
          "cleared": "05:47",
          "date": "08/27/16",
          "dispatched": "05:36",
          "id": "160827020",
          "location": "pn13",
          "received": "05:22",
          "type": "alarm audible"
         },
         {
          "arrived": "07:07",
          "cleared": "07:11",
          "date": "08/27/16",
          "dispatched": "07:00",
          "id": "160827021",
          "location": "pn5",
          "received": "07:00",
          "type": "disorderly"
         },
         {
          "arrived": "08:01",
          "cleared": "08:14",
          "date": "08/27/16",
          "dispatched": "07:56",
          "id": "160827022",
          "location": "pn6",
          "received": "07:53",
          "type": "mental subj"
         },
         {
          "arrived": "",
          "cleared": "08:50",
          "date": "08/27/16",
          "dispatched": "08:34",
          "id": "160827023",
          "location": "pn11",
          "received": "08:30",
          "type": "trespassing"
         },
         {
          "arrived": "08:48",
          "cleared": "08:48",
          "date": "08/27/16",
          "dispatched": "",
          "id": "160827024",
          "location": "pn5",
          "received": "08:30",
          "type": "theft"
         },
         {
          "arrived": "08:48",
          "cleared": "08:53",
          "date": "08/27/16",
          "dispatched": "08:45",
          "id": "160827025",
          "location": "pn9",
          "received": "08:44",
          "type": "suspicious"
         },
         {
          "arrived": "08:59",
          "cleared": "08:59",
          "date": "08/27/16",
          "dispatched": "",
          "id": "160827026",
          "location": "pn6",
          "received": "08:56",
          "type": "assist req"
         },
         {
          "arrived": "09:02",
          "cleared": "09:25",
          "date": "08/27/16",
          "dispatched": "",
          "id": "160827027",
          "location": "pn5",
          "received": "09:02",
          "type": "suspicious"
         },
         {
          "arrived": "09:31",
          "cleared": "09:45",
          "date": "08/27/16",
          "dispatched": "09:24",
          "id": "160827028",
          "location": "pn10",
          "received": "09:21",
          "type": "alarm audible"
         },
         {
          "arrived": "09:54",
          "cleared": "10:02",
          "date": "08/27/16",
          "dispatched": "09:50",
          "id": "160827029",
          "location": "pn6",
          "received": "09:48",
          "type": "alcohol offense"
         },
         {
          "arrived": "10:14",
          "cleared": "10:23",
          "date": "08/27/16",
          "dispatched": "10:05",
          "id": "160827030",
          "location": "pn5",
          "received": "09:57",
          "type": "mc-camping"
         },
         {
          "arrived": "",
          "cleared": "10:28",
          "date": "08/27/16",
          "dispatched": "10:26",
          "id": "160827031",
          "location": "pn4",
          "received": "10:25",
          "type": "public works"
         },
         {
          "arrived": "10:36",
          "cleared": "10:41",
          "date": "08/27/16",
          "dispatched": "10:28",
          "id": "160827032",
          "location": "pn8",
          "received": "10:27",
          "type": "trespassing"
         },
         {
          "arrived": "10:41",
          "cleared": "11:00",
          "date": "08/27/16",
          "dispatched": "10:36",
          "id": "160827033",
          "location": "pn12",
          "received": "10:32",
          "type": "coll hit and ru"
         },
         {
          "arrived": "11:22",
          "cleared": "11:28",
          "date": "08/27/16",
          "dispatched": "11:06",
          "id": "160827034",
          "location": "pn6",
          "received": "11:03",
          "type": "welfare check"
         },
         {
          "arrived": "",
          "cleared": "11:12",
          "date": "08/27/16",
          "dispatched": "11:09",
          "id": "160827035",
          "location": "pn2",
          "received": "11:07",
          "type": "alarm audible"
         },
         {
          "arrived": "11:40",
          "cleared": "12:36",
          "date": "08/27/16",
          "dispatched": "",
          "id": "160827036",
          "location": "pn13",
          "received": "11:07",
          "type": "burg com"
         },
         {
          "arrived": "11:29",
          "cleared": "11:31",
          "date": "08/27/16",
          "dispatched": "11:22",
          "id": "160827037",
          "location": "pn5",
          "received": "11:21",
          "type": "alarm audible"
         },
         {
          "arrived": "12:50",
          "cleared": "14:15",
          "date": "08/27/16",
          "dispatched": "12:42",
          "id": "160827038",
          "location": "pn2",
          "received": "12:39",
          "type": "suspicious"
         },
         {
          "arrived": "12:49",
          "cleared": "13:09",
          "date": "08/27/16",
          "dispatched": "12:41",
          "id": "160827039",
          "location": "pn5",
          "received": "12:39",
          "type": "disorderly"
         },
         {
          "arrived": "",
          "cleared": "12:43",
          "date": "08/27/16",
          "dispatched": "12:43",
          "id": "160827040",
          "location": "pn13",
          "received": "12:41",
          "type": "traffic hazard"
         },
         {
          "arrived": "13:14",
          "cleared": "13:38",
          "date": "08/27/16",
          "dispatched": "13:10",
          "id": "160827041",
          "location": "pn2",
          "received": "12:41",
          "type": "vandalism"
         },
         {
          "arrived": "",
          "cleared": "12:50",
          "date": "08/27/16",
          "dispatched": "12:48",
          "id": "160827042",
          "location": "pn7",
          "received": "12:46",
          "type": "public works"
         },
         {
          "arrived": "13:20",
          "cleared": "13:35",
          "date": "08/27/16",
          "dispatched": "13:10",
          "id": "160827043",
          "location": "pn3",
          "received": "12:51",
          "type": "citizen dispute"
         },
         {
          "arrived": "13:22",
          "cleared": "13:25",
          "date": "08/27/16",
          "dispatched": "13:18",
          "id": "160827044",
          "location": "pn10",
          "received": "13:15",
          "type": "found property"
         },
         {
          "arrived": "",
          "cleared": "14:33",
          "date": "08/27/16",
          "dispatched": "14:31",
          "id": "160827045",
          "location": "pn8",
          "received": "14:27",
          "type": "suspicious"
         },
         {
          "arrived": "14:48",
          "cleared": "15:07",
          "date": "08/27/16",
          "dispatched": "14:38",
          "id": "160827046",
          "location": "pn13",
          "received": "14:33",
          "type": "theft"
         },
         {
          "arrived": "15:08",
          "cleared": "15:11",
          "date": "08/27/16",
          "dispatched": "14:45",
          "id": "160827047",
          "location": "pn8",
          "received": "14:40",
          "type": "citizen dispute"
         },
         {
          "arrived": "15:25",
          "cleared": "15:57",
          "date": "08/27/16",
          "dispatched": "",
          "id": "160827048",
          "location": "pn8",
          "received": "15:25",
          "type": "resisting"
         },
         {
          "arrived": "15:37",
          "cleared": "15:38",
          "date": "08/27/16",
          "dispatched": "",
          "id": "160827049",
          "location": "",
          "received": "15:37",
          "type": "assist o police"
         },
         {
          "arrived": "15:54",
          "cleared": "15:59",
          "date": "08/27/16",
          "dispatched": "15:54",
          "id": "160827050",
          "location": "pn2",
          "received": "15:41",
          "type": "loitering"
         },
         {
          "arrived": "15:59",
          "cleared": "16:20",
          "date": "08/27/16",
          "dispatched": "15:54",
          "id": "160827051",
          "location": "pn3",
          "received": "15:40",
          "type": "coll hit and ru"
         },
         {
          "arrived": "16:22",
          "cleared": "16:51",
          "date": "08/27/16",
          "dispatched": "16:13",
          "id": "160827052",
          "location": "pn1",
          "received": "16:11",
          "type": "coll non inj"
         },
         {
          "arrived": "16:29",
          "cleared": "16:34",
          "date": "08/27/16",
          "dispatched": "16:17",
          "id": "160827053",
          "location": "pn10",
          "received": "16:15",
          "type": "parking problem"
         },
         {
          "arrived": "17:24",
          "cleared": "17:44",
          "date": "08/27/16",
          "dispatched": "17:19",
          "id": "160827054",
          "location": "pn6",
          "received": "17:14",
          "type": "coll non inj"
         },
         {
          "arrived": "17:29",
          "cleared": "17:29",
          "date": "08/27/16",
          "dispatched": "17:26",
          "id": "160827055",
          "location": "pn7",
          "received": "17:24",
          "type": "alarm audible"
         },
         {
          "arrived": "05:12",
          "cleared": "05:13",
          "date": "08/27/16",
          "dispatched": "",
          "id": "160827056",
          "location": "pn5",
          "received": "17:23",
          "type": "posting vehs"
         },
         {
          "arrived": "17:34",
          "cleared": "17:36",
          "date": "08/27/16",
          "dispatched": "",
          "id": "160827057",
          "location": "pn9",
          "received": "17:27",
          "type": "animal problem"
         },
         {
          "arrived": "17:41",
          "cleared": "17:53",
          "date": "08/27/16",
          "dispatched": "17:39",
          "id": "160827058",
          "location": "pn5",
          "received": "17:35",
          "type": "welfare check"
         },
         {
          "arrived": "17:58",
          "cleared": "18:05",
          "date": "08/27/16",
          "dispatched": "17:50",
          "id": "160827059",
          "location": "pn12",
          "received": "17:38",
          "type": "alarm audible"
         },
         {
          "arrived": "18:02",
          "cleared": "18:17",
          "date": "08/27/16",
          "dispatched": "17:58",
          "id": "160827060",
          "location": "pn10",
          "received": "17:55",
          "type": "suspicious"
         },
         {
          "arrived": "19:46",
          "cleared": "20:07",
          "date": "08/27/16",
          "dispatched": "",
          "id": "160827061",
          "location": "pn2",
          "received": "19:43",
          "type": "suspicious"
         },
         {
          "arrived": "20:03",
          "cleared": "20:11",
          "date": "08/27/16",
          "dispatched": "19:55",
          "id": "160827062",
          "location": "pn1",
          "received": "19:46",
          "type": "alcohol offense"
         },
         {
          "arrived": "",
          "cleared": "19:58",
          "date": "08/27/16",
          "dispatched": "19:57",
          "id": "160827063",
          "location": "pn13",
          "received": "19:49",
          "type": "public works"
         },
         {
          "arrived": "20:43",
          "cleared": "21:23",
          "date": "08/27/16",
          "dispatched": "20:38",
          "id": "160827064",
          "location": "pn2",
          "received": "20:32",
          "type": "juvenile prob"
         },
         {
          "arrived": "21:04",
          "cleared": "21:09",
          "date": "08/27/16",
          "dispatched": "20:53",
          "id": "160827065",
          "location": "pn10",
          "received": "20:51",
          "type": "welfare check"
         },
         {
          "arrived": "21:26",
          "cleared": "21:30",
          "date": "08/27/16",
          "dispatched": "21:22",
          "id": "160827066",
          "location": "pn5",
          "received": "21:21",
          "type": "9-1-1 abandon"
         },
         {
          "arrived": "22:17",
          "cleared": "22:22",
          "date": "08/27/16",
          "dispatched": "22:13",
          "id": "160827067",
          "location": "pn8",
          "received": "22:09",
          "type": "noise other"
         },
         {
          "arrived": "22:34",
          "cleared": "22:42",
          "date": "08/27/16",
          "dispatched": "22:24",
          "id": "160827068",
          "location": "pn6",
          "received": "22:21",
          "type": "noise party"
         },
         {
          "arrived": "22:47",
          "cleared": "23:49",
          "date": "08/27/16",
          "dispatched": "22:34",
          "id": "160827069",
          "location": "pn6",
          "received": "22:27",
          "type": "missing person"
         },
         {
          "arrived": "22:43",
          "cleared": "23:28",
          "date": "08/27/16",
          "dispatched": "22:39",
          "id": "160827070",
          "location": "pn12",
          "received": "22:37",
          "type": "disorderly"
         },
         {
          "arrived": "22:49",
          "cleared": "22:59",
          "date": "08/27/16",
          "dispatched": "",
          "id": "160827071",
          "location": "pn2",
          "received": "22:49",
          "type": "alcohol offense"
         },
         {
          "arrived": "23:10",
          "cleared": "23:21",
          "date": "08/27/16",
          "dispatched": "23:03",
          "id": "160827072",
          "location": "pn3",
          "received": "22:49",
          "type": "noise police"
         },
         {
          "arrived": "23:17",
          "cleared": "23:11",
          "date": "08/27/16",
          "dispatched": "22:57",
          "id": "160827073",
          "location": "pn7",
          "received": "22:46",
          "type": "missing person"
         },
         {
          "arrived": "23:04",
          "cleared": "23:19",
          "date": "08/27/16",
          "dispatched": "",
          "id": "160827074",
          "location": "pn2",
          "received": "23:01",
          "type": "alarm audible"
         },
         {
          "arrived": "23:28",
          "cleared": "23:35",
          "date": "08/27/16",
          "dispatched": "23:25",
          "id": "160827075",
          "location": "pn5",
          "received": "23:22",
          "type": "mc-camping"
         },
         {
          "arrived": "23:34",
          "cleared": "23:58",
          "date": "08/27/16",
          "dispatched": "",
          "id": "160827076",
          "location": "pn3",
          "received": "23:34",
          "type": "alcohol offense"
         },
         {
          "arrived": "00:02",
          "cleared": "00:12",
          "date": "08/27/16",
          "dispatched": "23:57",
          "id": "160827077",
          "location": "pn1",
          "received": "23:51",
          "type": "noise police"
         },
         {
          "arrived": "00:19",
          "cleared": "00:28",
          "date": "08/28/16",
          "dispatched": "00:12",
          "id": "160828001",
          "location": "pn1",
          "received": "00:10",
          "type": "noise party"
         },
         {
          "arrived": "00:19",
          "cleared": "00:24",
          "date": "08/28/16",
          "dispatched": "00:12",
          "id": "160828002",
          "location": "pn8",
          "received": "00:10",
          "type": "disorderly"
         },
         {
          "arrived": "00:41",
          "cleared": "00:51",
          "date": "08/28/16",
          "dispatched": "00:38",
          "id": "160828003",
          "location": "pn1",
          "received": "00:37",
          "type": "assist o police"
         },
         {
          "arrived": "00:49",
          "cleared": "01:01",
          "date": "08/28/16",
          "dispatched": "00:39",
          "id": "160828004",
          "location": "pn1",
          "received": "00:36",
          "type": "noise party"
         },
         {
          "arrived": "00:41",
          "cleared": "00:49",
          "date": "08/28/16",
          "dispatched": "",
          "id": "160828005",
          "location": "pn2",
          "received": "00:40",
          "type": "miscellaneous"
         },
         {
          "arrived": "01:04",
          "cleared": "01:05",
          "date": "08/28/16",
          "dispatched": "00:56",
          "id": "160828006",
          "location": "pn3",
          "received": "00:41",
          "type": "coll hit and ru"
         },
         {
          "arrived": "01:02",
          "cleared": "01:05",
          "date": "08/28/16",
          "dispatched": "00:57",
          "id": "160828007",
          "location": "pn7",
          "received": "00:49",
          "type": "noise other"
         },
         {
          "arrived": "01:02",
          "cleared": "02:55",
          "date": "08/28/16",
          "dispatched": "",
          "id": "160828008",
          "location": "pn5",
          "received": "01:02",
          "type": "dui"
         },
         {
          "arrived": "01:41",
          "cleared": "01:43",
          "date": "08/28/16",
          "dispatched": "01:40",
          "id": "160828009",
          "location": "pn5",
          "received": "01:34",
          "type": "suspicious"
         },
         {
          "arrived": "01:47",
          "cleared": "02:53",
          "date": "08/28/16",
          "dispatched": "01:47",
          "id": "160828010",
          "location": "pn5",
          "received": "01:45",
          "type": "disorderly"
         },
         {
          "arrived": "",
          "cleared": "03:05",
          "date": "08/28/16",
          "dispatched": "",
          "id": "160828011",
          "location": "pn5",
          "received": "01:45",
          "type": "alarm audible"
         },
         {
          "arrived": "02:02",
          "cleared": "03:01",
          "date": "08/28/16",
          "dispatched": "",
          "id": "160828012",
          "location": "pn10",
          "received": "01:54",
          "type": "welfare check"
         },
         {
          "arrived": "02:00",
          "cleared": "02:30",
          "date": "08/28/16",
          "dispatched": "",
          "id": "160828013",
          "location": "pn6",
          "received": "02:00",
          "type": "alcohol offense"
         },
         {
          "arrived": "02:04",
          "cleared": "02:12",
          "date": "08/28/16",
          "dispatched": "02:03",
          "id": "160828014",
          "location": "pn5",
          "received": "02:02",
          "type": "welfare check"
         },
         {
          "arrived": "02:23",
          "cleared": "02:37",
          "date": "08/28/16",
          "dispatched": "",
          "id": "160828015",
          "location": "pn6",
          "received": "02:20",
          "type": "fire structure"
         },
         {
          "arrived": "03:21",
          "cleared": "04:01",
          "date": "08/28/16",
          "dispatched": "",
          "id": "160828016",
          "location": "pn9",
          "received": "03:21",
          "type": "warrant"
         },
         {
          "arrived": "04:18",
          "cleared": "04:26",
          "date": "08/28/16",
          "dispatched": "",
          "id": "160828017",
          "location": "pn2",
          "received": "03:34",
          "type": "noise party"
         },
         {
          "arrived": "06:28",
          "cleared": "06:49",
          "date": "08/28/16",
          "dispatched": "06:23",
          "id": "160828018",
          "location": "pn13",
          "received": "06:19",
          "type": "theft"
         },
         {
          "arrived": "07:52",
          "cleared": "07:55",
          "date": "08/28/16",
          "dispatched": "07:43",
          "id": "160828019",
          "location": "pn6",
          "received": "07:41",
          "type": "suspicious"
         },
         {
          "arrived": "",
          "cleared": "08:32",
          "date": "08/28/16",
          "dispatched": "08:32",
          "id": "160828020",
          "location": "pn12",
          "received": "08:31",
          "type": "9-1-1 abandon"
         },
         {
          "arrived": "09:18",
          "cleared": "09:37",
          "date": "08/28/16",
          "dispatched": "09:16",
          "id": "160828021",
          "location": "pn13",
          "received": "09:13",
          "type": "welfare check"
         },
         {
          "arrived": "10:05",
          "cleared": "10:31",
          "date": "08/28/16",
          "dispatched": "09:59",
          "id": "160828022",
          "location": "pn2",
          "received": "09:54",
          "type": "theft"
         },
         {
          "arrived": "10:02",
          "cleared": "10:39",
          "date": "08/28/16",
          "dispatched": "10:00",
          "id": "160828023",
          "location": "pn5",
          "received": "09:59",
          "type": "theft"
         },
         {
          "arrived": "10:07",
          "cleared": "10:13",
          "date": "08/28/16",
          "dispatched": "10:02",
          "id": "160828024",
          "location": "pn2",
          "received": "10:00",
          "type": "animal problem"
         },
         {
          "arrived": "10:28",
          "cleared": "10:48",
          "date": "08/28/16",
          "dispatched": "10:21",
          "id": "160828025",
          "location": "pn8",
          "received": "10:12",
          "type": "burg res"
         },
         {
          "arrived": "10:35",
          "cleared": "10:50",
          "date": "08/28/16",
          "dispatched": "10:32",
          "id": "160828026",
          "location": "pn7",
          "received": "10:22",
          "type": "assist req"
         },
         {
          "arrived": "10:46",
          "cleared": "10:48",
          "date": "08/28/16",
          "dispatched": "10:44",
          "id": "160828027",
          "location": "pn6",
          "received": "10:41",
          "type": "suspicious"
         },
         {
          "arrived": "11:29",
          "cleared": "11:37",
          "date": "08/28/16",
          "dispatched": "11:29",
          "id": "160828028",
          "location": "pn6",
          "received": "11:26",
          "type": "loitering"
         },
         {
          "arrived": "11:36",
          "cleared": "12:02",
          "date": "08/28/16",
          "dispatched": "11:35",
          "id": "160828029",
          "location": "pn7",
          "received": "11:26",
          "type": "assist req"
         },
         {
          "arrived": "11:37",
          "cleared": "11:39",
          "date": "08/28/16",
          "dispatched": "11:35",
          "id": "160828030",
          "location": "pn5",
          "received": "11:30",
          "type": "theft"
         },
         {
          "arrived": "11:54",
          "cleared": "12:20",
          "date": "08/28/16",
          "dispatched": "11:52",
          "id": "160828031",
          "location": "pn5",
          "received": "11:50",
          "type": "theft"
         },
         {
          "arrived": "13:12",
          "cleared": "14:20",
          "date": "08/28/16",
          "dispatched": "",
          "id": "160828032",
          "location": "pn8",
          "received": "13:12",
          "type": "warrant"
         },
         {
          "arrived": "",
          "cleared": "13:17",
          "date": "08/28/16",
          "dispatched": "13:14",
          "id": "160828033",
          "location": "pn5",
          "received": "13:13",
          "type": "public works"
         },
         {
          "arrived": "13:16",
          "cleared": "13:17",
          "date": "08/28/16",
          "dispatched": "",
          "id": "160828034",
          "location": "pn3",
          "received": "13:14",
          "type": "traffic offense"
         },
         {
          "arrived": "",
          "cleared": "14:01",
          "date": "08/28/16",
          "dispatched": "14:01",
          "id": "160828035",
          "location": "pn10",
          "received": "13:59",
          "type": "coll non inj"
         },
         {
          "arrived": "",
          "cleared": "14:12",
          "date": "08/28/16",
          "dispatched": "14:10",
          "id": "160828036",
          "location": "pn5",
          "received": "14:10",
          "type": "public works"
         },
         {
          "arrived": "14:28",
          "cleared": "14:41",
          "date": "08/28/16",
          "dispatched": "14:18",
          "id": "160828037",
          "location": "pn13",
          "received": "14:12",
          "type": "assist req"
         },
         {
          "arrived": "14:27",
          "cleared": "14:37",
          "date": "08/28/16",
          "dispatched": "14:18",
          "id": "160828038",
          "location": "pn13",
          "received": "14:14",
          "type": "animal problem"
         },
         {
          "arrived": "14:58",
          "cleared": "15:28",
          "date": "08/28/16",
          "dispatched": "14:56",
          "id": "160828039",
          "location": "pn1",
          "received": "14:55",
          "type": "medical"
         },
         {
          "arrived": "15:01",
          "cleared": "15:06",
          "date": "08/28/16",
          "dispatched": "",
          "id": "160828040",
          "location": "pn11",
          "received": "15:01",
          "type": "trespassing"
         },
         {
          "arrived": "15:38",
          "cleared": "15:44",
          "date": "08/28/16",
          "dispatched": "15:36",
          "id": "160828041",
          "location": "pn6",
          "received": "15:33",
          "type": "disorderly"
         },
         {
          "arrived": "16:08",
          "cleared": "16:12",
          "date": "08/28/16",
          "dispatched": "15:50",
          "id": "160828042",
          "location": "pn13",
          "received": "15:47",
          "type": "suspicious"
         },
         {
          "arrived": "",
          "cleared": "15:56",
          "date": "08/28/16",
          "dispatched": "15:56",
          "id": "160828043",
          "location": "pn6",
          "received": "15:55",
          "type": "alarm audible"
         },
         {
          "arrived": "15:59",
          "cleared": "16:11",
          "date": "08/28/16",
          "dispatched": "15:59",
          "id": "160828044",
          "location": "pn6",
          "received": "15:57",
          "type": "trespassing"
         },
         {
          "arrived": "16:18",
          "cleared": "16:18",
          "date": "08/28/16",
          "dispatched": "",
          "id": "160828045",
          "location": "pn1",
          "received": "16:14",
          "type": "traffic offense"
         },
         {
          "arrived": "16:21",
          "cleared": "17:01",
          "date": "08/28/16",
          "dispatched": "16:19",
          "id": "160828046",
          "location": "pn13",
          "received": "16:18",
          "type": "disorderly"
         },
         {
          "arrived": "16:20",
          "cleared": "16:20",
          "date": "08/28/16",
          "dispatched": "",
          "id": "160828047",
          "location": "pn5",
          "received": "16:20",
          "type": "trespassing"
         },
         {
          "arrived": "16:27",
          "cleared": "16:30",
          "date": "08/28/16",
          "dispatched": "",
          "id": "160828048",
          "location": "pn13",
          "received": "16:27",
          "type": "suspicious"
         },
         {
          "arrived": "16:47",
          "cleared": "16:51",
          "date": "08/28/16",
          "dispatched": "16:43",
          "id": "160828049",
          "location": "pn5",
          "received": "16:29",
          "type": "welfare check"
         },
         {
          "arrived": "16:54",
          "cleared": "17:02",
          "date": "08/28/16",
          "dispatched": "16:52",
          "id": "160828050",
          "location": "pn2",
          "received": "16:38",
          "type": "loitering"
         },
         {
          "arrived": "",
          "cleared": "17:04",
          "date": "08/28/16",
          "dispatched": "",
          "id": "160828051",
          "location": "pn7",
          "received": "17:02",
          "type": "assist req"
         },
         {
          "arrived": "17:13",
          "cleared": "17:16",
          "date": "08/28/16",
          "dispatched": "17:11",
          "id": "160828052",
          "location": "pn6",
          "received": "17:04",
          "type": "theft"
         },
         {
          "arrived": "17:10",
          "cleared": "17:21",
          "date": "08/28/16",
          "dispatched": "",
          "id": "160828053",
          "location": "pn6",
          "received": "17:10",
          "type": "controlled narc"
         },
         {
          "arrived": "17:29",
          "cleared": "17:34",
          "date": "08/28/16",
          "dispatched": "17:27",
          "id": "160828054",
          "location": "pn6",
          "received": "17:26",
          "type": "alarm audible"
         },
         {
          "arrived": "17:47",
          "cleared": "18:00",
          "date": "08/28/16",
          "dispatched": "17:46",
          "id": "160828055",
          "location": "pn6",
          "received": "17:39",
          "type": "suspicious"
         },
         {
          "arrived": "18:01",
          "cleared": "18:13",
          "date": "08/28/16",
          "dispatched": "17:53",
          "id": "160828056",
          "location": "pn8",
          "received": "17:45",
          "type": "fraud"
         },
         {
          "arrived": "18:33",
          "cleared": "18:38",
          "date": "08/28/16",
          "dispatched": "18:30",
          "id": "160828057",
          "location": "pn2",
          "received": "18:24",
          "type": "trespassing"
         },
         {
          "arrived": "19:25",
          "cleared": "19:33",
          "date": "08/28/16",
          "dispatched": "19:12",
          "id": "160828058",
          "location": "pn1",
          "received": "19:10",
          "type": "disorderly"
         },
         {
          "arrived": "19:55",
          "cleared": "20:07",
          "date": "08/28/16",
          "dispatched": "19:48",
          "id": "160828059",
          "location": "pn6",
          "received": "19:46",
          "type": "juvenile prob"
         },
         {
          "arrived": "21:09",
          "cleared": "21:14",
          "date": "08/28/16",
          "dispatched": "20:56",
          "id": "160828060",
          "location": "pn11",
          "received": "20:50",
          "type": "attempt-locate"
         },
         {
          "arrived": "21:32",
          "cleared": "21:38",
          "date": "08/28/16",
          "dispatched": "21:26",
          "id": "160828061",
          "location": "pn7",
          "received": "21:25",
          "type": "suspicious"
         },
         {
          "arrived": "21:30",
          "cleared": "21:31",
          "date": "08/28/16",
          "dispatched": "21:27",
          "id": "160828062",
          "location": "pn8",
          "received": "21:22",
          "type": "vandalism"
         },
         {
          "arrived": "",
          "cleared": "21:39",
          "date": "08/28/16",
          "dispatched": "21:38",
          "id": "160828063",
          "location": "pn7",
          "received": "21:35",
          "type": "noise party"
         },
         {
          "arrived": "21:49",
          "cleared": "22:17",
          "date": "08/28/16",
          "dispatched": "21:47",
          "id": "160828064",
          "location": "pn10",
          "received": "21:46",
          "type": "suspicious"
         },
         {
          "arrived": "22:02",
          "cleared": "22:12",
          "date": "08/28/16",
          "dispatched": "21:57",
          "id": "160828065",
          "location": "pn5",
          "received": "21:57",
          "type": "disorderly"
         },
         {
          "arrived": "",
          "cleared": "22:40",
          "date": "08/28/16",
          "dispatched": "22:38",
          "id": "160828066",
          "location": "lz0",
          "received": "22:36",
          "type": "traffic offense"
         },
         {
          "arrived": "",
          "cleared": "22:41",
          "date": "08/28/16",
          "dispatched": "22:40",
          "id": "160828067",
          "location": "pn11",
          "received": "22:38",
          "type": "traffic offense"
         },
         {
          "arrived": "23:49",
          "cleared": "23:55",
          "date": "08/28/16",
          "dispatched": "",
          "id": "160828068",
          "location": "pn5",
          "received": "23:49",
          "type": "suspicious"
         },
         {
          "arrived": "00:05",
          "cleared": "00:15",
          "date": "08/29/16",
          "dispatched": "",
          "id": "160829001",
          "location": "pn5",
          "received": "00:05",
          "type": "trespassing"
         },
         {
          "arrived": "01:04",
          "cleared": "01:35",
          "date": "08/29/16",
          "dispatched": "",
          "id": "160829002",
          "location": "pn10",
          "received": "01:04",
          "type": "warrant"
         },
         {
          "arrived": "01:22",
          "cleared": "01:22",
          "date": "08/29/16",
          "dispatched": "",
          "id": "160829003",
          "location": "pn8",
          "received": "01:19",
          "type": "information"
         },
         {
          "arrived": "01:48",
          "cleared": "01:55",
          "date": "08/29/16",
          "dispatched": "01:44",
          "id": "160829004",
          "location": "pn13",
          "received": "01:41",
          "type": "suspicious"
         },
         {
          "arrived": "02:11",
          "cleared": "02:14",
          "date": "08/29/16",
          "dispatched": "02:10",
          "id": "160829005",
          "location": "pn13",
          "received": "02:10",
          "type": "alarm audible"
         },
         {
          "arrived": "02:36",
          "cleared": "02:40",
          "date": "08/29/16",
          "dispatched": "02:22",
          "id": "160829006",
          "location": "pn5",
          "received": "02:18",
          "type": "suspicious"
         },
         {
          "arrived": "02:35",
          "cleared": "03:12",
          "date": "08/29/16",
          "dispatched": "02:34",
          "id": "160829007",
          "location": "pn5",
          "received": "02:32",
          "type": "mc-alcohol"
         },
         {
          "arrived": "02:44",
          "cleared": "02:52",
          "date": "08/29/16",
          "dispatched": "02:41",
          "id": "160829008",
          "location": "pn5",
          "received": "02:39",
          "type": "suspicious"
         },
         {
          "arrived": "03:01",
          "cleared": "03:27",
          "date": "08/29/16",
          "dispatched": "02:59",
          "id": "160829009",
          "location": "pn1",
          "received": "02:56",
          "type": "disorderly"
         },
         {
          "arrived": "03:24",
          "cleared": "03:30",
          "date": "08/29/16",
          "dispatched": "03:22",
          "id": "160829010",
          "location": "pn1",
          "received": "03:00",
          "type": "trespassing"
         },
         {
          "arrived": "03:20",
          "cleared": "03:22",
          "date": "08/29/16",
          "dispatched": "03:17",
          "id": "160829011",
          "location": "pn5",
          "received": "03:12",
          "type": "disorderly"
         },
         {
          "arrived": "04:01",
          "cleared": "03:32",
          "date": "08/29/16",
          "dispatched": "03:28",
          "id": "160829012",
          "location": "pn10",
          "received": "03:18",
          "type": "muni code viol"
         },
         {
          "arrived": "03:37",
          "cleared": "03:56",
          "date": "08/29/16",
          "dispatched": "03:32",
          "id": "160829013",
          "location": "pn10",
          "received": "03:32",
          "type": "alarm audible"
         },
         {
          "arrived": "",
          "cleared": "04:40",
          "date": "08/29/16",
          "dispatched": "04:38",
          "id": "160829014",
          "location": "pn11",
          "received": "04:35",
          "type": "traffic offense"
         },
         {
          "arrived": "07:23",
          "cleared": "08:01",
          "date": "08/29/16",
          "dispatched": "07:06",
          "id": "160829015",
          "location": "pn8",
          "received": "06:54",
          "type": "vandalism"
         },
         {
          "arrived": "07:54",
          "cleared": "08:07",
          "date": "08/18/16",
          "dispatched": "07:27",
          "id": "160818006",
          "location": "pn13",
          "received": "07:22",
          "type": "theft"
         },
         {
          "arrived": "07:55",
          "cleared": "08:36",
          "date": "08/18/16",
          "dispatched": "07:40",
          "id": "160818007",
          "location": "pn10",
          "received": "07:35",
          "type": "trespassing"
         },
         {
          "arrived": "07:51",
          "cleared": "10:05",
          "date": "08/18/16",
          "dispatched": "",
          "id": "160818008",
          "location": "pn8",
          "received": "07:50",
          "type": "sex offense"
         },
         {
          "arrived": "",
          "cleared": "08:01",
          "date": "08/18/16",
          "dispatched": "07:59",
          "id": "160818009",
          "location": "pn8",
          "received": "07:58",
          "type": "aband vehicle"
         },
         {
          "arrived": "08:31",
          "cleared": "08:44",
          "date": "08/18/16",
          "dispatched": "08:27",
          "id": "160818010",
          "location": "pn6",
          "received": "08:24",
          "type": "suspicious"
         },
         {
          "arrived": "08:45",
          "cleared": "08:46",
          "date": "08/18/16",
          "dispatched": "08:33",
          "id": "160818011",
          "location": "pn1",
          "received": "08:28",
          "type": "lost property"
         },
         {
          "arrived": "08:47",
          "cleared": "09:34",
          "date": "08/18/16",
          "dispatched": "08:41",
          "id": "160818012",
          "location": "pn12",
          "received": "08:36",
          "type": "trespassing"
         },
         {
          "arrived": "09:20",
          "cleared": "09:33",
          "date": "08/18/16",
          "dispatched": "09:12",
          "id": "160818013",
          "location": "pn10",
          "received": "09:08",
          "type": "controlled narc"
         },
         {
          "arrived": "09:38",
          "cleared": "09:59",
          "date": "08/18/16",
          "dispatched": "09:31",
          "id": "160818014",
          "location": "pn12",
          "received": "09:14",
          "type": "suspicious"
         },
         {
          "arrived": "10:15",
          "cleared": "10:17",
          "date": "08/18/16",
          "dispatched": "",
          "id": "160818015",
          "location": "pn5",
          "received": "09:20",
          "type": "posting vehs"
         },
         {
          "arrived": "10:05",
          "cleared": "10:26",
          "date": "08/18/16",
          "dispatched": "09:59",
          "id": "160818016",
          "location": "pn11",
          "received": "09:51",
          "type": "trespassing"
         },
         {
          "arrived": "",
          "cleared": "10:04",
          "date": "08/18/16",
          "dispatched": "09:54",
          "id": "160818017",
          "location": "pn6",
          "received": "09:52",
          "type": "assist req"
         },
         {
          "arrived": "",
          "cleared": "10:04",
          "date": "08/18/16",
          "dispatched": "",
          "id": "160818018",
          "location": "pn6",
          "received": "09:54",
          "type": "assist req"
         },
         {
          "arrived": "10:28",
          "cleared": "11:36",
          "date": "08/18/16",
          "dispatched": "",
          "id": "160818019",
          "location": "pn2",
          "received": "10:06",
          "type": "found property"
         },
         {
          "arrived": "10:13",
          "cleared": "10:17",
          "date": "08/18/16",
          "dispatched": "10:10",
          "id": "160818020",
          "location": "pn6",
          "received": "10:07",
          "type": "suspicious"
         },
         {
          "arrived": "10:32",
          "cleared": "10:37",
          "date": "08/18/16",
          "dispatched": "10:26",
          "id": "160818021",
          "location": "pn12",
          "received": "10:22",
          "type": "traffic hazard"
         },
         {
          "arrived": "10:45",
          "cleared": "10:42",
          "date": "08/18/16",
          "dispatched": "10:27",
          "id": "160818022",
          "location": "pn1",
          "received": "10:22",
          "type": "suspicious"
         },
         {
          "arrived": "10:31",
          "cleared": "10:45",
          "date": "08/18/16",
          "dispatched": "10:29",
          "id": "160818023",
          "location": "pn8",
          "received": "10:25",
          "type": "disorderly"
         },
         {
          "arrived": "",
          "cleared": "10:42",
          "date": "08/18/16",
          "dispatched": "10:40",
          "id": "160818024",
          "location": "pn2",
          "received": "10:35",
          "type": "traffic hazard"
         },
         {
          "arrived": "11:00",
          "cleared": "11:01",
          "date": "08/18/16",
          "dispatched": "10:53",
          "id": "160818025",
          "location": "pn6",
          "received": "10:44",
          "type": "theft"
         },
         {
          "arrived": "",
          "cleared": "11:13",
          "date": "08/18/16",
          "dispatched": "11:13",
          "id": "160818026",
          "location": "pn5",
          "received": "11:12",
          "type": "elder abuse/neg"
         },
         {
          "arrived": "11:33",
          "cleared": "11:34",
          "date": "08/18/16",
          "dispatched": "11:17",
          "id": "160818027",
          "location": "pn5",
          "received": "11:11",
          "type": "loitering"
         },
         {
          "arrived": "",
          "cleared": "11:15",
          "date": "08/18/16",
          "dispatched": "11:15",
          "id": "160818028",
          "location": "pn5",
          "received": "11:13",
          "type": "child abuse"
         },
         {
          "arrived": "",
          "cleared": "11:16",
          "date": "08/18/16",
          "dispatched": "11:16",
          "id": "160818029",
          "location": "pn5",
          "received": "11:15",
          "type": "child abuse"
         },
         {
          "arrived": "",
          "cleared": "11:18",
          "date": "08/18/16",
          "dispatched": "11:17",
          "id": "160818030",
          "location": "pn5",
          "received": "11:16",
          "type": "child abuse"
         },
         {
          "arrived": "11:34",
          "cleared": "11:53",
          "date": "08/18/16",
          "dispatched": "11:31",
          "id": "160818031",
          "location": "pn6",
          "received": "11:23",
          "type": "coll inj"
         },
         {
          "arrived": "11:31",
          "cleared": "11:47",
          "date": "08/18/16",
          "dispatched": "11:26",
          "id": "160818032",
          "location": "pn5",
          "received": "11:24",
          "type": "assist req"
         },
         {
          "arrived": "",
          "cleared": "11:33",
          "date": "08/18/16",
          "dispatched": "11:30",
          "id": "160818033",
          "location": "pn5",
          "received": "11:27",
          "type": "disorderly"
         },
         {
          "arrived": "",
          "cleared": "11:45",
          "date": "08/18/16",
          "dispatched": "11:37",
          "id": "160818034",
          "location": "pn13",
          "received": "11:28",
          "type": "suspicious"
         },
         {
          "arrived": "11:54",
          "cleared": "13:06",
          "date": "08/18/16",
          "dispatched": "11:46",
          "id": "160818035",
          "location": "pn13",
          "received": "11:38",
          "type": "assist req"
         },
         {
          "arrived": "",
          "cleared": "11:45",
          "date": "08/18/16",
          "dispatched": "11:45",
          "id": "160818036",
          "location": "pn7",
          "received": "11:42",
          "type": "traffic offense"
         },
         {
          "arrived": "",
          "cleared": "12:28",
          "date": "08/18/16",
          "dispatched": "12:27",
          "id": "160818037",
          "location": "pn13",
          "received": "12:26",
          "type": "traffic offense"
         },
         {
          "arrived": "12:58",
          "cleared": "13:00",
          "date": "08/18/16",
          "dispatched": "12:41",
          "id": "160818038",
          "location": "pn11",
          "received": "12:30",
          "type": "animal problem"
         },
         {
          "arrived": "12:43",
          "cleared": "12:57",
          "date": "08/18/16",
          "dispatched": "",
          "id": "160818039",
          "location": "pn5",
          "received": "12:42",
          "type": "traffic offense"
         },
         {
          "arrived": "12:55",
          "cleared": "13:03",
          "date": "08/18/16",
          "dispatched": "12:46",
          "id": "160818040",
          "location": "pn5",
          "received": "12:45",
          "type": "disorderly"
         },
         {
          "arrived": "12:54",
          "cleared": "13:00",
          "date": "08/18/16",
          "dispatched": "12:49",
          "id": "160818041",
          "location": "pn2",
          "received": "12:45",
          "type": "suspicious"
         },
         {
          "arrived": "13:18",
          "cleared": "13:52",
          "date": "08/18/16",
          "dispatched": "13:11",
          "id": "160818042",
          "location": "pn1",
          "received": "12:53",
          "type": "assist req"
         },
         {
          "arrived": "13:31",
          "cleared": "13:47",
          "date": "08/18/16",
          "dispatched": "13:10",
          "id": "160818043",
          "location": "pn3",
          "received": "12:59",
          "type": "littering"
         },
         {
          "arrived": "13:24",
          "cleared": "13:33",
          "date": "08/18/16",
          "dispatched": "13:09",
          "id": "160818044",
          "location": "pn6",
          "received": "13:05",
          "type": "coll non inj"
         },
         {
          "arrived": "14:01",
          "cleared": "16:53",
          "date": "08/18/16",
          "dispatched": "13:52",
          "id": "160818045",
          "location": "pn9",
          "received": "13:45",
          "type": "disorderly"
         },
         {
          "arrived": "14:25",
          "cleared": "14:46",
          "date": "08/18/16",
          "dispatched": "14:21",
          "id": "160818046",
          "location": "pn10",
          "received": "13:48",
          "type": "trespassing"
         },
         {
          "arrived": "14:13",
          "cleared": "14:34",
          "date": "08/18/16",
          "dispatched": "13:56",
          "id": "160818047",
          "location": "pn1",
          "received": "13:50",
          "type": "lost property"
         },
         {
          "arrived": "14:03",
          "cleared": "15:20",
          "date": "08/18/16",
          "dispatched": "13:59",
          "id": "160818048",
          "location": "pn10",
          "received": "13:57",
          "type": "welfare check"
         },
         {
          "arrived": "14:05",
          "cleared": "14:18",
          "date": "08/18/16",
          "dispatched": "14:00",
          "id": "160818049",
          "location": "pn2",
          "received": "13:56",
          "type": "welfare check"
         },
         {
          "arrived": "14:21",
          "cleared": "14:24",
          "date": "08/18/16",
          "dispatched": "14:12",
          "id": "160818050",
          "location": "pn3",
          "received": "14:07",
          "type": "traffic offense"
         },
         {
          "arrived": "14:19",
          "cleared": "14:33",
          "date": "08/18/16",
          "dispatched": "",
          "id": "160818051",
          "location": "pn5",
          "received": "14:19",
          "type": "controlled narc"
         },
         {
          "arrived": "",
          "cleared": "14:34",
          "date": "08/18/16",
          "dispatched": "14:22",
          "id": "160818052",
          "location": "pn6",
          "received": "14:18",
          "type": "traffic hazard"
         },
         {
          "arrived": "",
          "cleared": "15:04",
          "date": "08/18/16",
          "dispatched": "",
          "id": "160818053",
          "location": "pn8",
          "received": "15:02",
          "type": "aband vehicle"
         },
         {
          "arrived": "15:09",
          "cleared": "15:34",
          "date": "08/18/16",
          "dispatched": "15:05",
          "id": "160818054",
          "location": "pn1",
          "received": "15:01",
          "type": "theft"
         },
         {
          "arrived": "15:18",
          "cleared": "15:28",
          "date": "08/18/16",
          "dispatched": "15:15",
          "id": "160818055",
          "location": "pn11",
          "received": "15:12",
          "type": "trespassing"
         },
         {
          "arrived": "15:28",
          "cleared": "15:32",
          "date": "08/18/16",
          "dispatched": "",
          "id": "160818056",
          "location": "pn5",
          "received": "15:28",
          "type": "alcohol offense"
         },
         {
          "arrived": "16:12",
          "cleared": "16:30",
          "date": "08/18/16",
          "dispatched": "16:06",
          "id": "160818057",
          "location": "pn9",
          "received": "16:04",
          "type": "suspicious"
         },
         {
          "arrived": "16:30",
          "cleared": "16:49",
          "date": "08/18/16",
          "dispatched": "16:22",
          "id": "160818058",
          "location": "pn5",
          "received": "16:13",
          "type": "theft"
         },
         {
          "arrived": "16:39",
          "cleared": "17:09",
          "date": "08/18/16",
          "dispatched": "16:32",
          "id": "160818059",
          "location": "pn1",
          "received": "16:31",
          "type": "attempt theft"
         },
         {
          "arrived": "16:43",
          "cleared": "18:26",
          "date": "08/18/16",
          "dispatched": "16:38",
          "id": "160818060",
          "location": "pn13",
          "received": "16:30",
          "type": "suspicious"
         },
         {
          "arrived": "17:29",
          "cleared": "17:31",
          "date": "08/18/16",
          "dispatched": "17:14",
          "id": "160818061",
          "location": "pn8",
          "received": "16:36",
          "type": "noise other"
         },
         {
          "arrived": "",
          "cleared": "16:45",
          "date": "08/18/16",
          "dispatched": "16:44",
          "id": "160818062",
          "location": "pn4",
          "received": "16:28",
          "type": "public works"
         },
         {
          "arrived": "17:03",
          "cleared": "17:09",
          "date": "08/18/16",
          "dispatched": "17:01",
          "id": "160818063",
          "location": "pn5",
          "received": "16:55",
          "type": "loitering"
         },
         {
          "arrived": "17:32",
          "cleared": "18:06",
          "date": "08/18/16",
          "dispatched": "17:27",
          "id": "160818064",
          "location": "pn3",
          "received": "17:25",
          "type": "alarm audible"
         },
         {
          "arrived": "17:52",
          "cleared": "17:56",
          "date": "08/18/16",
          "dispatched": "17:44",
          "id": "160818065",
          "location": "pn6",
          "received": "17:23",
          "type": "welfare check"
         },
         {
          "arrived": "18:07",
          "cleared": "18:09",
          "date": "08/18/16",
          "dispatched": "18:06",
          "id": "160818066",
          "location": "pn1",
          "received": "17:47",
          "type": "trespassing"
         },
         {
          "arrived": "18:04",
          "cleared": "18:31",
          "date": "08/18/16",
          "dispatched": "17:57",
          "id": "160818067",
          "location": "pn9",
          "received": "17:50",
          "type": "disorderly"
         },
         {
          "arrived": "18:50",
          "cleared": "19:04",
          "date": "08/18/16",
          "dispatched": "18:38",
          "id": "160818068",
          "location": "pn11",
          "received": "18:28",
          "type": "threatening"
         },
         {
          "arrived": "18:45",
          "cleared": "19:57",
          "date": "08/18/16",
          "dispatched": "18:38",
          "id": "160818069",
          "location": "pn13",
          "received": "18:35",
          "type": "alcohol offense"
         },
         {
          "arrived": "19:14",
          "cleared": "19:38",
          "date": "08/18/16",
          "dispatched": "19:00",
          "id": "160818070",
          "location": "pn8",
          "received": "18:56",
          "type": "juvenile prob"
         },
         {
          "arrived": "19:39",
          "cleared": "21:20",
          "date": "08/18/16",
          "dispatched": "19:21",
          "id": "160818071",
          "location": "pn13",
          "received": "19:13",
          "type": "assist req"
         },
         {
          "arrived": "19:33",
          "cleared": "19:37",
          "date": "08/18/16",
          "dispatched": "",
          "id": "160818072",
          "location": "pn5",
          "received": "19:30",
          "type": "assist req"
         },
         {
          "arrived": "19:52",
          "cleared": "20:08",
          "date": "08/18/16",
          "dispatched": "19:46",
          "id": "160818073",
          "location": "pn13",
          "received": "19:43",
          "type": "attempt theft"
         },
         {
          "arrived": "19:51",
          "cleared": "19:52",
          "date": "08/18/16",
          "dispatched": "",
          "id": "160818074",
          "location": "pn6",
          "received": "19:47",
          "type": "suspicious"
         },
         {
          "arrived": "19:53",
          "cleared": "20:07",
          "date": "08/18/16",
          "dispatched": "19:52",
          "id": "160818075",
          "location": "pn5",
          "received": "19:50",
          "type": "welfare check"
         },
         {
          "arrived": "20:24",
          "cleared": "20:32",
          "date": "08/18/16",
          "dispatched": "20:12",
          "id": "160818076",
          "location": "pn1",
          "received": "19:51",
          "type": "noise party"
         },
         {
          "arrived": "20:24",
          "cleared": "20:38",
          "date": "08/18/16",
          "dispatched": "20:22",
          "id": "160818077",
          "location": "pn5",
          "received": "20:12",
          "type": "trespassing"
         },
         {
          "arrived": "20:49",
          "cleared": "20:58",
          "date": "08/18/16",
          "dispatched": "20:35",
          "id": "160818078",
          "location": "pn8",
          "received": "20:35",
          "type": "disorderly"
         },
         {
          "arrived": "21:02",
          "cleared": "21:30",
          "date": "08/18/16",
          "dispatched": "20:59",
          "id": "160818079",
          "location": "pn1",
          "received": "20:56",
          "type": "suspicious"
         },
         {
          "arrived": "21:30",
          "cleared": "21:30",
          "date": "08/18/16",
          "dispatched": "21:12",
          "id": "160818080",
          "location": "pn12",
          "received": "21:06",
          "type": "animal problem"
         },
         {
          "arrived": "21:25",
          "cleared": "21:35",
          "date": "08/18/16",
          "dispatched": "21:21",
          "id": "160818081",
          "location": "pn6",
          "received": "21:18",
          "type": "disorderly"
         },
         {
          "arrived": "21:33",
          "cleared": "00:35",
          "date": "08/18/16",
          "dispatched": "21:31",
          "id": "160818082",
          "location": "pn11",
          "received": "21:21",
          "type": "suspicious"
         },
         {
          "arrived": "21:58",
          "cleared": "23:33",
          "date": "08/18/16",
          "dispatched": "21:57",
          "id": "160818083",
          "location": "pn5",
          "received": "21:50",
          "type": "suspicious"
         },
         {
          "arrived": "",
          "cleared": "22:26",
          "date": "08/18/16",
          "dispatched": "",
          "id": "160818084",
          "location": "pn13",
          "received": "22:03",
          "type": "controlled narc"
         },
         {
          "arrived": "22:24",
          "cleared": "22:31",
          "date": "08/18/16",
          "dispatched": "22:15",
          "id": "160818085",
          "location": "pn1",
          "received": "22:08",
          "type": "disorderly"
         },
         {
          "arrived": "23:45",
          "cleared": "23:53",
          "date": "08/18/16",
          "dispatched": "23:41",
          "id": "160818086",
          "location": "pn3",
          "received": "22:14",
          "type": "noise police"
         },
         {
          "arrived": "22:36",
          "cleared": "23:27",
          "date": "08/18/16",
          "dispatched": "",
          "id": "160818087",
          "location": "pn1",
          "received": "22:36",
          "type": "dui"
         },
         {
          "arrived": "22:54",
          "cleared": "00:23",
          "date": "08/18/16",
          "dispatched": "22:48",
          "id": "160818088",
          "location": "pn5",
          "received": "22:46",
          "type": "alcohol offense"
         },
         {
          "arrived": "23:26",
          "cleared": "00:29",
          "date": "08/18/16",
          "dispatched": "23:22",
          "id": "160818089",
          "location": "pn10",
          "received": "22:53",
          "type": "fraud"
         },
         {
          "arrived": "22:58",
          "cleared": "23:06",
          "date": "08/18/16",
          "dispatched": "22:56",
          "id": "160818090",
          "location": "pn2",
          "received": "22:55",
          "type": "assist o police"
         },
         {
          "arrived": "23:47",
          "cleared": "23:52",
          "date": "08/18/16",
          "dispatched": "23:41",
          "id": "160818091",
          "location": "pn8",
          "received": "22:59",
          "type": "noise police"
         },
         {
          "arrived": "23:13",
          "cleared": "23:29",
          "date": "08/18/16",
          "dispatched": "23:06",
          "id": "160818092",
          "location": "pn12",
          "received": "23:04",
          "type": "weapon offense"
         },
         {
          "arrived": "00:18",
          "cleared": "00:23",
          "date": "08/18/16",
          "dispatched": "23:54",
          "id": "160818093",
          "location": "pn8",
          "received": "23:08",
          "type": "noise police"
         },
         {
          "arrived": "23:33",
          "cleared": "23:40",
          "date": "08/18/16",
          "dispatched": "23:29",
          "id": "160818094",
          "location": "pn5",
          "received": "23:14",
          "type": "trespassing"
         },
         {
          "arrived": "23:56",
          "cleared": "00:11",
          "date": "08/18/16",
          "dispatched": "23:51",
          "id": "160818095",
          "location": "pn1",
          "received": "23:38",
          "type": "noise party"
         },
         {
          "arrived": "00:11",
          "cleared": "00:17",
          "date": "08/19/16",
          "dispatched": "00:07",
          "id": "160819001",
          "location": "pn6",
          "received": "00:05",
          "type": "alcohol offense"
         },
         {
          "arrived": "00:15",
          "cleared": "00:51",
          "date": "08/19/16",
          "dispatched": "00:12",
          "id": "160819002",
          "location": "pn5",
          "received": "00:11",
          "type": "suspicious"
         },
         {
          "arrived": "00:32",
          "cleared": "00:34",
          "date": "08/19/16",
          "dispatched": "00:29",
          "id": "160819003",
          "location": "pn5",
          "received": "00:23",
          "type": "assist req"
         },
         {
          "arrived": "00:51",
          "cleared": "01:05",
          "date": "08/19/16",
          "dispatched": "00:38",
          "id": "160819004",
          "location": "pn13",
          "received": "00:29",
          "type": "theft-vehicle"
         },
         {
          "arrived": "00:52",
          "cleared": "00:55",
          "date": "08/19/16",
          "dispatched": "00:51",
          "id": "160819005",
          "location": "pn2",
          "received": "00:38",
          "type": "noise other"
         },
         {
          "arrived": "",
          "cleared": "00:55",
          "date": "08/19/16",
          "dispatched": "00:48",
          "id": "160819006",
          "location": "pn7",
          "received": "00:39",
          "type": "public works"
         },
         {
          "arrived": "00:48",
          "cleared": "00:51",
          "date": "08/19/16",
          "dispatched": "",
          "id": "160819007",
          "location": "pn5",
          "received": "00:41",
          "type": "alcohol offense"
         },
         {
          "arrived": "01:36",
          "cleared": "02:30",
          "date": "08/19/16",
          "dispatched": "01:23",
          "id": "160819008",
          "location": "pn3",
          "received": "01:22",
          "type": "disorderly"
         },
         {
          "arrived": "01:35",
          "cleared": "02:41",
          "date": "08/19/16",
          "dispatched": "",
          "id": "160819009",
          "location": "pn2",
          "received": "01:35",
          "type": "dui"
         },
         {
          "arrived": "01:51",
          "cleared": "01:54",
          "date": "08/19/16",
          "dispatched": "01:47",
          "id": "160819010",
          "location": "pn6",
          "received": "01:45",
          "type": "welfare check"
         },
         {
          "arrived": "02:15",
          "cleared": "02:41",
          "date": "08/19/16",
          "dispatched": "02:09",
          "id": "160819011",
          "location": "pn1",
          "received": "02:06",
          "type": "alcohol offense"
         },
         {
          "arrived": "02:10",
          "cleared": "02:28",
          "date": "08/19/16",
          "dispatched": "",
          "id": "160819012",
          "location": "pn5",
          "received": "02:10",
          "type": "alcohol offense"
         },
         {
          "arrived": "03:04",
          "cleared": "03:12",
          "date": "08/19/16",
          "dispatched": "02:55",
          "id": "160819013",
          "location": "pn6",
          "received": "02:52",
          "type": "suspicious"
         },
         {
          "arrived": "03:42",
          "cleared": "04:09",
          "date": "08/19/16",
          "dispatched": "03:31",
          "id": "160819014",
          "location": "pn5",
          "received": "03:30",
          "type": "assist req"
         },
         {
          "arrived": "04:47",
          "cleared": "04:52",
          "date": "08/19/16",
          "dispatched": "04:44",
          "id": "160819015",
          "location": "pn6",
          "received": "04:40",
          "type": "noise other"
         },
         {
          "arrived": "07:14",
          "cleared": "07:35",
          "date": "08/19/16",
          "dispatched": "06:56",
          "id": "160819016",
          "location": "pn9",
          "received": "06:54",
          "type": "fire ill burn"
         },
         {
          "arrived": "07:36",
          "cleared": "07:41",
          "date": "08/17/16",
          "dispatched": "07:06",
          "id": "160817015",
          "location": "pn6",
          "received": "07:00",
          "type": "trespassing"
         },
         {
          "arrived": "08:19",
          "cleared": "08:39",
          "date": "08/17/16",
          "dispatched": "08:09",
          "id": "160817016",
          "location": "pn7",
          "received": "08:04",
          "type": "theft"
         },
         {
          "arrived": "08:29",
          "cleared": "08:38",
          "date": "08/17/16",
          "dispatched": "08:15",
          "id": "160817017",
          "location": "pn7",
          "received": "08:09",
          "type": "theft"
         },
         {
          "arrived": "08:52",
          "cleared": "09:00",
          "date": "08/17/16",
          "dispatched": "",
          "id": "160817018",
          "location": "pn8",
          "received": "08:33",
          "type": "parking problem"
         },
         {
          "arrived": "08:45",
          "cleared": "08:50",
          "date": "08/17/16",
          "dispatched": "08:39",
          "id": "160817019",
          "location": "pn9",
          "received": "08:37",
          "type": "alarm audible"
         },
         {
          "arrived": "09:03",
          "cleared": "09:05",
          "date": "08/17/16",
          "dispatched": "08:59",
          "id": "160817020",
          "location": "pn5",
          "received": "08:53",
          "type": "lost property"
         },
         {
          "arrived": "09:13",
          "cleared": "09:19",
          "date": "08/17/16",
          "dispatched": "09:04",
          "id": "160817021",
          "location": "pn7",
          "received": "09:02",
          "type": "noise other"
         },
         {
          "arrived": "09:08",
          "cleared": "09:08",
          "date": "08/17/16",
          "dispatched": "",
          "id": "160817022",
          "location": "pn9",
          "received": "09:07",
          "type": "assist req"
         },
         {
          "arrived": "09:42",
          "cleared": "10:20",
          "date": "08/17/16",
          "dispatched": "09:30",
          "id": "160817023",
          "location": "pn8",
          "received": "09:18",
          "type": "citizen dispute"
         },
         {
          "arrived": "09:38",
          "cleared": "09:39",
          "date": "08/17/16",
          "dispatched": "09:34",
          "id": "160817024",
          "location": "pn6",
          "received": "09:29",
          "type": "loitering"
         },
         {
          "arrived": "10:16",
          "cleared": "11:02",
          "date": "08/17/16",
          "dispatched": "",
          "id": "160817025",
          "location": "pn2",
          "received": "10:16",
          "type": "towed vehicle"
         },
         {
          "arrived": "10:41",
          "cleared": "10:53",
          "date": "08/17/16",
          "dispatched": "10:26",
          "id": "160817026",
          "location": "pn1",
          "received": "10:14",
          "type": "burg com"
         },
         {
          "arrived": "11:08",
          "cleared": "11:13",
          "date": "08/17/16",
          "dispatched": "11:00",
          "id": "160817027",
          "location": "pn3",
          "received": "10:58",
          "type": "found property"
         },
         {
          "arrived": "11:12",
          "cleared": "11:44",
          "date": "08/17/16",
          "dispatched": "",
          "id": "160817028",
          "location": "pn2",
          "received": "11:12",
          "type": "towed vehicle"
         },
         {
          "arrived": "11:49",
          "cleared": "11:58",
          "date": "08/17/16",
          "dispatched": "",
          "id": "160817029",
          "location": "pn5",
          "received": "11:49",
          "type": "alcohol offense"
         },
         {
          "arrived": "12:20",
          "cleared": "12:30",
          "date": "08/17/16",
          "dispatched": "12:18",
          "id": "160817030",
          "location": "pn5",
          "received": "12:11",
          "type": "assist req"
         },
         {
          "arrived": "12:13",
          "cleared": "12:17",
          "date": "08/17/16",
          "dispatched": "",
          "id": "160817031",
          "location": "pn5",
          "received": "12:13",
          "type": "muni code viol"
         },
         {
          "arrived": "12:17",
          "cleared": "12:17",
          "date": "08/17/16",
          "dispatched": "",
          "id": "160817032",
          "location": "pn5",
          "received": "12:17",
          "type": "warrant"
         },
         {
          "arrived": "12:39",
          "cleared": "12:40",
          "date": "08/17/16",
          "dispatched": "12:31",
          "id": "160817033",
          "location": "pn12",
          "received": "12:22",
          "type": "assist o fire"
         },
         {
          "arrived": "12:47",
          "cleared": "12:56",
          "date": "08/17/16",
          "dispatched": "12:42",
          "id": "160817034",
          "location": "pn10",
          "received": "12:34",
          "type": "suspicious"
         },
         {
          "arrived": "13:46",
          "cleared": "13:54",
          "date": "08/17/16",
          "dispatched": "",
          "id": "160817035",
          "location": "pn6",
          "received": "13:03",
          "type": "posting vehs"
         },
         {
          "arrived": "13:13",
          "cleared": "13:27",
          "date": "08/17/16",
          "dispatched": "13:08",
          "id": "160817036",
          "location": "pn9",
          "received": "13:01",
          "type": "welfare check"
         },
         {
          "arrived": "13:34",
          "cleared": "13:35",
          "date": "08/17/16",
          "dispatched": "",
          "id": "160817037",
          "location": "pn2",
          "received": "13:05",
          "type": "posting vehs"
         },
         {
          "arrived": "13:25",
          "cleared": "13:29",
          "date": "08/17/16",
          "dispatched": "",
          "id": "160817038",
          "location": "pn2",
          "received": "13:07",
          "type": "posting vehs"
         },
         {
          "arrived": "13:21",
          "cleared": "13:27",
          "date": "08/17/16",
          "dispatched": "",
          "id": "160817039",
          "location": "pn5",
          "received": "13:09",
          "type": "loitering"
         },
         {
          "arrived": "13:22",
          "cleared": "13:23",
          "date": "08/17/16",
          "dispatched": "",
          "id": "160817040",
          "location": "pn2",
          "received": "13:18",
          "type": "9-1-1 abandon"
         },
         {
          "arrived": "13:59",
          "cleared": "14:05",
          "date": "08/17/16",
          "dispatched": "",
          "id": "160817041",
          "location": "pn6",
          "received": "13:21",
          "type": "posting vehs"
         },
         {
          "arrived": "13:41",
          "cleared": "13:49",
          "date": "08/17/16",
          "dispatched": "13:33",
          "id": "160817042",
          "location": "pn11",
          "received": "13:32",
          "type": "alarm silent"
         },
         {
          "arrived": "13:46",
          "cleared": "18:04",
          "date": "08/17/16",
          "dispatched": "",
          "id": "160817043",
          "location": "pn5",
          "received": "13:46",
          "type": "warrant"
         },
         {
          "arrived": "13:59",
          "cleared": "14:01",
          "date": "08/17/16",
          "dispatched": "",
          "id": "160817044",
          "location": "pn9",
          "received": "13:55",
          "type": "9-1-1 abandon"
         },
         {
          "arrived": "14:54",
          "cleared": "15:02",
          "date": "08/17/16",
          "dispatched": "14:39",
          "id": "160817045",
          "location": "pn11",
          "received": "14:26",
          "type": "9-1-1 abandon"
         },
         {
          "arrived": "14:55",
          "cleared": "15:05",
          "date": "08/17/16",
          "dispatched": "",
          "id": "160817046",
          "location": "pn5",
          "received": "14:40",
          "type": "loitering"
         },
         {
          "arrived": "",
          "cleared": "15:02",
          "date": "08/17/16",
          "dispatched": "15:01",
          "id": "160817047",
          "location": "pn4",
          "received": "15:00",
          "type": "trespassing"
         },
         {
          "arrived": "",
          "cleared": "15:16",
          "date": "08/17/16",
          "dispatched": "15:14",
          "id": "160817048",
          "location": "pn5",
          "received": "15:12",
          "type": "aband vehicle"
         },
         {
          "arrived": "",
          "cleared": "15:19",
          "date": "08/17/16",
          "dispatched": "15:17",
          "id": "160817049",
          "location": "pn1",
          "received": "15:16",
          "type": "aband vehicle"
         },
         {
          "arrived": "15:19",
          "cleared": "15:19",
          "date": "08/17/16",
          "dispatched": "",
          "id": "160817050",
          "location": "pn5",
          "received": "15:19",
          "type": "fraud"
         },
         {
          "arrived": "15:19",
          "cleared": "15:49",
          "date": "08/17/16",
          "dispatched": "",
          "id": "160817051",
          "location": "pn5",
          "received": "15:19",
          "type": "fraud"
         },
         {
          "arrived": "",
          "cleared": "15:22",
          "date": "08/17/16",
          "dispatched": "15:20",
          "id": "160817052",
          "location": "pn5",
          "received": "15:19",
          "type": "aband vehicle"
         },
         {
          "arrived": "15:28",
          "cleared": "15:41",
          "date": "08/17/16",
          "dispatched": "15:28",
          "id": "160817053",
          "location": "pn2",
          "received": "15:24",
          "type": "loitering"
         },
         {
          "arrived": "",
          "cleared": "15:33",
          "date": "08/17/16",
          "dispatched": "15:33",
          "id": "160817054",
          "location": "pn1",
          "received": "15:32",
          "type": "aband vehicle"
         },
         {
          "arrived": "15:53",
          "cleared": "16:07",
          "date": "08/17/16",
          "dispatched": "15:46",
          "id": "160817055",
          "location": "pn7",
          "received": "15:36",
          "type": "attempt theft"
         },
         {
          "arrived": "15:40",
          "cleared": "15:51",
          "date": "08/17/16",
          "dispatched": "",
          "id": "160817056",
          "location": "pn10",
          "received": "15:40",
          "type": "suspicious"
         },
         {
          "arrived": "15:54",
          "cleared": "16:46",
          "date": "08/17/16",
          "dispatched": "15:53",
          "id": "160817057",
          "location": "pn5",
          "received": "15:47",
          "type": "welfare check"
         },
         {
          "arrived": "16:24",
          "cleared": "17:46",
          "date": "08/17/16",
          "dispatched": "16:18",
          "id": "160817058",
          "location": "pn6",
          "received": "16:16",
          "type": "public works"
         },
         {
          "arrived": "16:31",
          "cleared": "16:49",
          "date": "08/17/16",
          "dispatched": "16:29",
          "id": "160817059",
          "location": "pn1",
          "received": "16:25",
          "type": "disorderly"
         },
         {
          "arrived": "17:14",
          "cleared": "16:48",
          "date": "08/17/16",
          "dispatched": "16:46",
          "id": "160817060",
          "location": "pn11",
          "received": "16:34",
          "type": "loitering"
         },
         {
          "arrived": "17:25",
          "cleared": "17:31",
          "date": "08/17/16",
          "dispatched": "",
          "id": "160817061",
          "location": "pn10",
          "received": "16:37",
          "type": "mc-smoking"
         },
         {
          "arrived": "17:55",
          "cleared": "18:18",
          "date": "08/17/16",
          "dispatched": "",
          "id": "160817062",
          "location": "pn9",
          "received": "16:48",
          "type": "coll hit and ru"
         },
         {
          "arrived": "16:57",
          "cleared": "17:24",
          "date": "08/17/16",
          "dispatched": "16:53",
          "id": "160817063",
          "location": "pn13",
          "received": "16:46",
          "type": "suspicious"
         },
         {
          "arrived": "17:09",
          "cleared": "17:09",
          "date": "08/17/16",
          "dispatched": "",
          "id": "160817064",
          "location": "pn5",
          "received": "16:56",
          "type": "trespassing"
         },
         {
          "arrived": "17:35",
          "cleared": "17:39",
          "date": "08/17/16",
          "dispatched": "17:18",
          "id": "160817065",
          "location": "pn1",
          "received": "17:15",
          "type": "assault"
         },
         {
          "arrived": "",
          "cleared": "17:28",
          "date": "08/17/16",
          "dispatched": "17:22",
          "id": "160817066",
          "location": "pn8",
          "received": "17:20",
          "type": "9-1-1 abandon"
         },
         {
          "arrived": "17:49",
          "cleared": "18:07",
          "date": "08/17/16",
          "dispatched": "17:41",
          "id": "160817067",
          "location": "pn8",
          "received": "17:39",
          "type": "disorderly"
         },
         {
          "arrived": "18:02",
          "cleared": "18:05",
          "date": "08/17/16",
          "dispatched": "17:57",
          "id": "160817068",
          "location": "pn13",
          "received": "17:49",
          "type": "trespassing"
         },
         {
          "arrived": "18:02",
          "cleared": "18:06",
          "date": "08/17/16",
          "dispatched": "17:57",
          "id": "160817069",
          "location": "pn5",
          "received": "17:54",
          "type": "traffic offense"
         },
         {
          "arrived": "18:12",
          "cleared": "18:19",
          "date": "08/17/16",
          "dispatched": "",
          "id": "160817070",
          "location": "pn6",
          "received": "18:11",
          "type": "alcohol offense"
         },
         {
          "arrived": "19:25",
          "cleared": "19:31",
          "date": "08/17/16",
          "dispatched": "19:06",
          "id": "160817071",
          "location": "pn11",
          "received": "18:23",
          "type": "found property"
         },
         {
          "arrived": "18:34",
          "cleared": "18:38",
          "date": "08/17/16",
          "dispatched": "18:34",
          "id": "160817072",
          "location": "pn5",
          "received": "18:32",
          "type": "loitering"
         },
         {
          "arrived": "",
          "cleared": "18:53",
          "date": "08/17/16",
          "dispatched": "18:49",
          "id": "160817073",
          "location": "pn1",
          "received": "18:47",
          "type": "public works"
         },
         {
          "arrived": "01:35",
          "cleared": "02:48",
          "date": "08/17/16",
          "dispatched": "",
          "id": "160817074",
          "location": "pn5",
          "received": "19:01",
          "type": "alcohol offense"
         },
         {
          "arrived": "19:22",
          "cleared": "20:19",
          "date": "08/17/16",
          "dispatched": "19:16",
          "id": "160817075",
          "location": "pn1",
          "received": "19:11",
          "type": "mental subj"
         },
         {
          "arrived": "20:24",
          "cleared": "20:28",
          "date": "08/17/16",
          "dispatched": "20:07",
          "id": "160817076",
          "location": "pn10",
          "received": "20:02",
          "type": "animal problem"
         },
         {
          "arrived": "20:12",
          "cleared": "20:17",
          "date": "08/17/16",
          "dispatched": "20:09",
          "id": "160817077",
          "location": "pn5",
          "received": "20:05",
          "type": "loitering"
         },
         {
          "arrived": "20:19",
          "cleared": "20:23",
          "date": "08/17/16",
          "dispatched": "20:14",
          "id": "160817078",
          "location": "pn10",
          "received": "20:12",
          "type": "trespassing"
         },
         {
          "arrived": "20:40",
          "cleared": "21:00",
          "date": "08/17/16",
          "dispatched": "20:33",
          "id": "160817079",
          "location": "pn9",
          "received": "20:32",
          "type": "suspicious"
         },
         {
          "arrived": "21:03",
          "cleared": "21:30",
          "date": "08/17/16",
          "dispatched": "20:54",
          "id": "160817080",
          "location": "pn9",
          "received": "20:52",
          "type": "coll non inj"
         },
         {
          "arrived": "21:31",
          "cleared": "21:37",
          "date": "08/17/16",
          "dispatched": "21:23",
          "id": "160817081",
          "location": "",
          "received": "21:18",
          "type": "assist o police"
         },
         {
          "arrived": "21:54",
          "cleared": "22:02",
          "date": "08/17/16",
          "dispatched": "21:32",
          "id": "160817082",
          "location": "pn7",
          "received": "21:26",
          "type": "trespassing"
         },
         {
          "arrived": "22:10",
          "cleared": "22:28",
          "date": "08/17/16",
          "dispatched": "22:08",
          "id": "160817083",
          "location": "pn5",
          "received": "22:04",
          "type": "alarm audible"
         },
         {
          "arrived": "22:14",
          "cleared": "22:49",
          "date": "08/17/16",
          "dispatched": "22:11",
          "id": "160817084",
          "location": "pn2",
          "received": "22:08",
          "type": "coll non inj"
         },
         {
          "arrived": "22:10",
          "cleared": "00:47",
          "date": "08/17/16",
          "dispatched": "",
          "id": "160817085",
          "location": "pn10",
          "received": "22:10",
          "type": "warrant"
         },
         {
          "arrived": "22:35",
          "cleared": "22:55",
          "date": "08/17/16",
          "dispatched": "22:33",
          "id": "160817086",
          "location": "pn7",
          "received": "22:32",
          "type": "disorderly"
         },
         {
          "arrived": "22:56",
          "cleared": "23:04",
          "date": "08/17/16",
          "dispatched": "22:46",
          "id": "160817087",
          "location": "pn3",
          "received": "22:40",
          "type": "noise police"
         },
         {
          "arrived": "",
          "cleared": "23:08",
          "date": "08/17/16",
          "dispatched": "23:03",
          "id": "160817088",
          "location": "pn1",
          "received": "23:02",
          "type": "9-1-1 abandon"
         },
         {
          "arrived": "23:14",
          "cleared": "00:13",
          "date": "08/17/16",
          "dispatched": "23:08",
          "id": "160817089",
          "location": "pn10",
          "received": "23:07",
          "type": "prowler"
         },
         {
          "arrived": "23:39",
          "cleared": "23:44",
          "date": "08/17/16",
          "dispatched": "23:32",
          "id": "160817090",
          "location": "pn2",
          "received": "23:28",
          "type": "noise party"
         },
         {
          "arrived": "00:25",
          "cleared": "00:46",
          "date": "08/18/16",
          "dispatched": "",
          "id": "160818001",
          "location": "pn5",
          "received": "00:25",
          "type": "alcohol offense"
         },
         {
          "arrived": "00:57",
          "cleared": "01:04",
          "date": "08/18/16",
          "dispatched": "00:55",
          "id": "160818002",
          "location": "pn3",
          "received": "00:53",
          "type": "disorderly"
         },
         {
          "arrived": "01:55",
          "cleared": "02:34",
          "date": "08/18/16",
          "dispatched": "",
          "id": "160818003",
          "location": "pn3",
          "received": "01:55",
          "type": "dui"
         },
         {
          "arrived": "02:44",
          "cleared": "02:53",
          "date": "08/18/16",
          "dispatched": "",
          "id": "160818004",
          "location": "pn5",
          "received": "02:44",
          "type": "alcohol offense"
         },
         {
          "arrived": "04:13",
          "cleared": "04:27",
          "date": "08/18/16",
          "dispatched": "04:09",
          "id": "160818005",
          "location": "pn5",
          "received": "04:01",
          "type": "mental subj"
         },
         {
          "arrived": "08:23",
          "cleared": "08:23",
          "date": "08/09/16",
          "dispatched": "08:17",
          "id": "160809016",
          "location": "pn5",
          "received": "08:16",
          "type": "assist req"
         },
         {
          "arrived": "08:30",
          "cleared": "08:36",
          "date": "08/09/16",
          "dispatched": "08:24",
          "id": "160809017",
          "location": "pn10",
          "received": "08:22",
          "type": "alarm audible"
         },
         {
          "arrived": "09:09",
          "cleared": "09:53",
          "date": "08/09/16",
          "dispatched": "09:01",
          "id": "160809018",
          "location": "pn6",
          "received": "08:56",
          "type": "assist req"
         },
         {
          "arrived": "09:31",
          "cleared": "09:43",
          "date": "08/09/16",
          "dispatched": "09:20",
          "id": "160809019",
          "location": "pn11",
          "received": "09:14",
          "type": "coll non inj"
         },
         {
          "arrived": "09:28",
          "cleared": "10:05",
          "date": "08/09/16",
          "dispatched": "09:22",
          "id": "160809020",
          "location": "pn5",
          "received": "09:20",
          "type": "parking problem"
         },
         {
          "arrived": "10:07",
          "cleared": "10:28",
          "date": "08/09/16",
          "dispatched": "",
          "id": "160809021",
          "location": "pn2",
          "received": "10:06",
          "type": "warrant"
         },
         {
          "arrived": "10:28",
          "cleared": "11:06",
          "date": "08/09/16",
          "dispatched": "10:27",
          "id": "160809022",
          "location": "pn6",
          "received": "10:18",
          "type": "keep the peace"
         },
         {
          "arrived": "14:20",
          "cleared": "14:25",
          "date": "08/09/16",
          "dispatched": "10:31",
          "id": "160809023",
          "location": "pn7",
          "received": "10:16",
          "type": "posting vehs"
         },
         {
          "arrived": "14:34",
          "cleared": "14:27",
          "date": "08/09/16",
          "dispatched": "",
          "id": "160809024",
          "location": "pn7",
          "received": "10:21",
          "type": "posting vehs"
         },
         {
          "arrived": "14:29",
          "cleared": "14:32",
          "date": "08/09/16",
          "dispatched": "",
          "id": "160809025",
          "location": "pn7",
          "received": "10:22",
          "type": "posting vehs"
         },
         {
          "arrived": "13:47",
          "cleared": "13:49",
          "date": "08/09/16",
          "dispatched": "13:31",
          "id": "160809026",
          "location": "pn6",
          "received": "10:22",
          "type": "posting vehs"
         },
         {
          "arrived": "13:51",
          "cleared": "13:56",
          "date": "08/09/16",
          "dispatched": "",
          "id": "160809027",
          "location": "pn6",
          "received": "10:23",
          "type": "posting vehs"
         },
         {
          "arrived": "13:57",
          "cleared": "13:58",
          "date": "08/09/16",
          "dispatched": "",
          "id": "160809028",
          "location": "pn6",
          "received": "10:23",
          "type": "posting vehs"
         },
         {
          "arrived": "10:55",
          "cleared": "10:58",
          "date": "08/09/16",
          "dispatched": "10:42",
          "id": "160809029",
          "location": "pn6",
          "received": "10:24",
          "type": "posting vehs"
         },
         {
          "arrived": "11:16",
          "cleared": "11:45",
          "date": "08/09/16",
          "dispatched": "11:06",
          "id": "160809030",
          "location": "pn8",
          "received": "10:21",
          "type": "assault"
         },
         {
          "arrived": "10:35",
          "cleared": "10:40",
          "date": "08/09/16",
          "dispatched": "",
          "id": "160809031",
          "location": "pn12",
          "received": "10:35",
          "type": "towed vehicle"
         },
         {
          "arrived": "10:58",
          "cleared": "11:03",
          "date": "08/09/16",
          "dispatched": "10:56",
          "id": "160809032",
          "location": "pn5",
          "received": "10:51",
          "type": "mc-alcohol"
         },
         {
          "arrived": "11:05",
          "cleared": "12:25",
          "date": "08/09/16",
          "dispatched": "11:04",
          "id": "160809033",
          "location": "pn3",
          "received": "10:57",
          "type": "welfare check"
         },
         {
          "arrived": "11:31",
          "cleared": "11:33",
          "date": "08/09/16",
          "dispatched": "",
          "id": "160809034",
          "location": "pn5",
          "received": "11:30",
          "type": "aband vehicle"
         },
         {
          "arrived": "11:40",
          "cleared": "11:43",
          "date": "08/09/16",
          "dispatched": "",
          "id": "160809035",
          "location": "pn2",
          "received": "11:37",
          "type": "traffic offense"
         },
         {
          "arrived": "11:43",
          "cleared": "11:46",
          "date": "08/09/16",
          "dispatched": "",
          "id": "160809036",
          "location": "pn12",
          "received": "11:43",
          "type": "towed vehicle"
         },
         {
          "arrived": "11:57",
          "cleared": "11:58",
          "date": "08/09/16",
          "dispatched": "",
          "id": "160809037",
          "location": "pn6",
          "received": "11:57",
          "type": "aband vehicle"
         },
         {
          "arrived": "12:41",
          "cleared": "13:16",
          "date": "08/09/16",
          "dispatched": "12:32",
          "id": "160809038",
          "location": "pn6",
          "received": "11:50",
          "type": "burg com"
         },
         {
          "arrived": "",
          "cleared": "12:39",
          "date": "08/09/16",
          "dispatched": "12:33",
          "id": "160809039",
          "location": "pn11",
          "received": "12:30",
          "type": "traffic hazard"
         },
         {
          "arrived": "12:40",
          "cleared": "12:42",
          "date": "08/09/16",
          "dispatched": "",
          "id": "160809040",
          "location": "pn5",
          "received": "12:39",
          "type": "trespassing"
         },
         {
          "arrived": "13:17",
          "cleared": "14:11",
          "date": "08/09/16",
          "dispatched": "13:17",
          "id": "160809041",
          "location": "pn9",
          "received": "13:14",
          "type": "disorderly"
         },
         {
          "arrived": "13:49",
          "cleared": "13:49",
          "date": "08/09/16",
          "dispatched": "13:23",
          "id": "160809042",
          "location": "pn6",
          "received": "13:18",
          "type": "lost property"
         },
         {
          "arrived": "13:44",
          "cleared": "14:26",
          "date": "08/09/16",
          "dispatched": "",
          "id": "160809043",
          "location": "pn11",
          "received": "13:44",
          "type": "trespassing"
         },
         {
          "arrived": "13:58",
          "cleared": "14:05",
          "date": "08/09/16",
          "dispatched": "13:52",
          "id": "160809044",
          "location": "pn6",
          "received": "13:47",
          "type": "trespassing"
         },
         {
          "arrived": "14:05",
          "cleared": "14:37",
          "date": "08/09/16",
          "dispatched": "13:57",
          "id": "160809045",
          "location": "pn1",
          "received": "13:54",
          "type": "alarm audible"
         },
         {
          "arrived": "14:12",
          "cleared": "14:18",
          "date": "08/09/16",
          "dispatched": "",
          "id": "160809046",
          "location": "pn6",
          "received": "13:51",
          "type": "welfare check"
         },
         {
          "arrived": "14:20",
          "cleared": "14:26",
          "date": "08/09/16",
          "dispatched": "",
          "id": "160809047",
          "location": "pn10",
          "received": "14:19",
          "type": "traffic offense"
         },
         {
          "arrived": "14:40",
          "cleared": "14:58",
          "date": "08/09/16",
          "dispatched": "",
          "id": "160809048",
          "location": "pn10",
          "received": "14:40",
          "type": "warrant"
         },
         {
          "arrived": "15:03",
          "cleared": "15:45",
          "date": "08/09/16",
          "dispatched": "14:51",
          "id": "160809049",
          "location": "pn9",
          "received": "14:37",
          "type": "welfare check"
         },
         {
          "arrived": "15:00",
          "cleared": "15:04",
          "date": "08/09/16",
          "dispatched": "",
          "id": "160809050",
          "location": "pn2",
          "received": "14:50",
          "type": "traffic offense"
         },
         {
          "arrived": "15:03",
          "cleared": "15:29",
          "date": "08/09/16",
          "dispatched": "14:54",
          "id": "160809051",
          "location": "pn8",
          "received": "14:52",
          "type": "traffic offense"
         },
         {
          "arrived": "15:00",
          "cleared": "16:14",
          "date": "08/09/16",
          "dispatched": "",
          "id": "160809052",
          "location": "pn6",
          "received": "15:00",
          "type": "attempt-locate"
         },
         {
          "arrived": "15:06",
          "cleared": "15:07",
          "date": "08/09/16",
          "dispatched": "",
          "id": "160809053",
          "location": "pn10",
          "received": "15:06",
          "type": "aband vehicle"
         },
         {
          "arrived": "15:24",
          "cleared": "15:38",
          "date": "08/09/16",
          "dispatched": "",
          "id": "160809054",
          "location": "pn5",
          "received": "15:23",
          "type": "assist o police"
         },
         {
          "arrived": "15:26",
          "cleared": "15:27",
          "date": "08/09/16",
          "dispatched": "",
          "id": "160809055",
          "location": "pn10",
          "received": "15:25",
          "type": "aband vehicle"
         },
         {
          "arrived": "15:39",
          "cleared": "16:14",
          "date": "08/09/16",
          "dispatched": "15:32",
          "id": "160809056",
          "location": "pn8",
          "received": "15:29",
          "type": "fireworks"
         },
         {
          "arrived": "16:13",
          "cleared": "16:31",
          "date": "08/09/16",
          "dispatched": "16:04",
          "id": "160809057",
          "location": "pn6",
          "received": "15:59",
          "type": "found property"
         },
         {
          "arrived": "16:17",
          "cleared": "16:33",
          "date": "08/09/16",
          "dispatched": "16:10",
          "id": "160809058",
          "location": "pn12",
          "received": "16:07",
          "type": "assist o police"
         },
         {
          "arrived": "17:10",
          "cleared": "17:27",
          "date": "08/09/16",
          "dispatched": "17:00",
          "id": "160809059",
          "location": "pn1",
          "received": "16:56",
          "type": "public assist"
         },
         {
          "arrived": "16:58",
          "cleared": "17:18",
          "date": "08/09/16",
          "dispatched": "",
          "id": "160809060",
          "location": "pn5",
          "received": "16:57",
          "type": "towed vehicle"
         },
         {
          "arrived": "17:16",
          "cleared": "17:23",
          "date": "08/09/16",
          "dispatched": "17:10",
          "id": "160809061",
          "location": "pn5",
          "received": "16:56",
          "type": "welfare check"
         },
         {
          "arrived": "17:16",
          "cleared": "19:24",
          "date": "08/09/16",
          "dispatched": "17:08",
          "id": "160809062",
          "location": "pn5",
          "received": "17:01",
          "type": "theft"
         },
         {
          "arrived": "17:22",
          "cleared": "17:41",
          "date": "08/09/16",
          "dispatched": "",
          "id": "160809063",
          "location": "pn6",
          "received": "17:21",
          "type": "theft"
         },
         {
          "arrived": "17:41",
          "cleared": "17:43",
          "date": "08/09/16",
          "dispatched": "",
          "id": "160809064",
          "location": "pn6",
          "received": "17:40",
          "type": "suspicious"
         },
         {
          "arrived": "18:19",
          "cleared": "18:35",
          "date": "08/09/16",
          "dispatched": "",
          "id": "160809065",
          "location": "pn2",
          "received": "18:14",
          "type": "muni code viol"
         },
         {
          "arrived": "18:24",
          "cleared": "18:24",
          "date": "08/09/16",
          "dispatched": "18:16",
          "id": "160809066",
          "location": "pn5",
          "received": "18:16",
          "type": "assist req"
         },
         {
          "arrived": "18:38",
          "cleared": "20:08",
          "date": "08/09/16",
          "dispatched": "18:30",
          "id": "160809067",
          "location": "pn2",
          "received": "18:28",
          "type": "coll hit and ru"
         },
         {
          "arrived": "19:23",
          "cleared": "19:59",
          "date": "08/09/16",
          "dispatched": "18:58",
          "id": "160809068",
          "location": "pn2",
          "received": "18:49",
          "type": "vandalism"
         },
         {
          "arrived": "19:34",
          "cleared": "20:00",
          "date": "08/09/16",
          "dispatched": "19:09",
          "id": "160809069",
          "location": "pn8",
          "received": "18:58",
          "type": "welfare check"
         },
         {
          "arrived": "19:41",
          "cleared": "19:52",
          "date": "08/09/16",
          "dispatched": "19:33",
          "id": "160809070",
          "location": "pn11",
          "received": "19:02",
          "type": "found property"
         },
         {
          "arrived": "19:25",
          "cleared": "19:25",
          "date": "08/09/16",
          "dispatched": "19:07",
          "id": "160809071",
          "location": "pn11",
          "received": "19:04",
          "type": "theft"
         },
         {
          "arrived": "19:36",
          "cleared": "19:45",
          "date": "08/09/16",
          "dispatched": "19:32",
          "id": "160809072",
          "location": "pn1",
          "received": "19:15",
          "type": "theft"
         },
         {
          "arrived": "",
          "cleared": "19:41",
          "date": "08/09/16",
          "dispatched": "19:35",
          "id": "160809073",
          "location": "lz0",
          "received": "19:32",
          "type": "dui"
         },
         {
          "arrived": "05:18",
          "cleared": "05:19",
          "date": "08/09/16",
          "dispatched": "05:15",
          "id": "160809074",
          "location": "pn6",
          "received": "19:43",
          "type": "posting vehs"
         },
         {
          "arrived": "05:07",
          "cleared": "05:11",
          "date": "08/09/16",
          "dispatched": "05:04",
          "id": "160809075",
          "location": "pn7",
          "received": "19:44",
          "type": "posting vehs"
         },
         {
          "arrived": "05:22",
          "cleared": "05:22",
          "date": "08/09/16",
          "dispatched": "",
          "id": "160809076",
          "location": "pn2",
          "received": "19:44",
          "type": "posting vehs"
         },
         {
          "arrived": "05:22",
          "cleared": "05:23",
          "date": "08/09/16",
          "dispatched": "",
          "id": "160809077",
          "location": "pn2",
          "received": "19:44",
          "type": "posting vehs"
         },
         {
          "arrived": "05:25",
          "cleared": "05:25",
          "date": "08/09/16",
          "dispatched": "05:24",
          "id": "160809078",
          "location": "pn3",
          "received": "19:45",
          "type": "posting vehs"
         },
         {
          "arrived": "05:23",
          "cleared": "05:17",
          "date": "08/09/16",
          "dispatched": "05:17",
          "id": "160809079",
          "location": "pn3",
          "received": "19:45",
          "type": "posting vehs"
         },
         {
          "arrived": "05:26",
          "cleared": "05:27",
          "date": "08/09/16",
          "dispatched": "05:24",
          "id": "160809080",
          "location": "pn2",
          "received": "19:46",
          "type": "posting vehs"
         },
         {
          "arrived": "",
          "cleared": "",
          "date": "08/09/16",
          "dispatched": "",
          "id": "160809081",
          "location": "pn1",
          "received": "19:46",
          "type": "posting vehs"
         },
         {
          "arrived": "05:28",
          "cleared": "05:31",
          "date": "08/09/16",
          "dispatched": "05:19",
          "id": "160809082",
          "location": "pn1",
          "received": "19:46",
          "type": "posting vehs"
         },
         {
          "arrived": "05:14",
          "cleared": "05:15",
          "date": "08/09/16",
          "dispatched": "05:11",
          "id": "160809083",
          "location": "pn6",
          "received": "19:47",
          "type": "posting vehs"
         },
         {
          "arrived": "20:05",
          "cleared": "20:14",
          "date": "08/09/16",
          "dispatched": "20:00",
          "id": "160809084",
          "location": "pn12",
          "received": "19:56",
          "type": "loitering"
         },
         {
          "arrived": "20:06",
          "cleared": "20:44",
          "date": "08/09/16",
          "dispatched": "20:02",
          "id": "160809085",
          "location": "pn10",
          "received": "19:59",
          "type": "suspicious"
         },
         {
          "arrived": "20:16",
          "cleared": "20:21",
          "date": "08/09/16",
          "dispatched": "20:07",
          "id": "160809086",
          "location": "pn5",
          "received": "20:02",
          "type": "welfare check"
         },
         {
          "arrived": "20:26",
          "cleared": "20:35",
          "date": "08/09/16",
          "dispatched": "20:21",
          "id": "160809087",
          "location": "pn13",
          "received": "20:10",
          "type": "suspicious"
         },
         {
          "arrived": "20:51",
          "cleared": "21:02",
          "date": "08/09/16",
          "dispatched": "20:41",
          "id": "160809088",
          "location": "pn6",
          "received": "20:38",
          "type": "suspicious"
         },
         {
          "arrived": "21:17",
          "cleared": "21:26",
          "date": "08/09/16",
          "dispatched": "",
          "id": "160809089",
          "location": "pn13",
          "received": "21:16",
          "type": "9-1-1 abandon"
         },
         {
          "arrived": "21:40",
          "cleared": "22:52",
          "date": "08/09/16",
          "dispatched": "21:35",
          "id": "160809090",
          "location": "pn6",
          "received": "21:32",
          "type": "suspicious"
         },
         {
          "arrived": "21:48",
          "cleared": "22:16",
          "date": "08/09/16",
          "dispatched": "21:42",
          "id": "160809091",
          "location": "pn6",
          "received": "21:37",
          "type": "theft-vehicle"
         },
         {
          "arrived": "22:50",
          "cleared": "22:56",
          "date": "08/09/16",
          "dispatched": "22:46",
          "id": "160809092",
          "location": "pn6",
          "received": "22:45",
          "type": "disorderly"
         },
         {
          "arrived": "23:02",
          "cleared": "23:17",
          "date": "08/09/16",
          "dispatched": "",
          "id": "160809093",
          "location": "pn6",
          "received": "23:02",
          "type": "mc-camping"
         },
         {
          "arrived": "00:09",
          "cleared": "00:35",
          "date": "08/10/16",
          "dispatched": "00:04",
          "id": "160810001",
          "location": "pn9",
          "received": "00:00",
          "type": "noise other"
         },
         {
          "arrived": "00:30",
          "cleared": "00:36",
          "date": "08/10/16",
          "dispatched": "00:28",
          "id": "160810002",
          "location": "pn5",
          "received": "00:27",
          "type": "trespassing"
         },
         {
          "arrived": "",
          "cleared": "01:21",
          "date": "08/10/16",
          "dispatched": "01:18",
          "id": "160810003",
          "location": "pn5",
          "received": "01:17",
          "type": "assist req"
         },
         {
          "arrived": "02:02",
          "cleared": "02:24",
          "date": "08/10/16",
          "dispatched": "",
          "id": "160810004",
          "location": "pn6",
          "received": "02:02",
          "type": "suspicious"
         },
         {
          "arrived": "02:46",
          "cleared": "03:31",
          "date": "08/10/16",
          "dispatched": "",
          "id": "160810005",
          "location": "pn6",
          "received": "02:46",
          "type": "dui"
         },
         {
          "arrived": "03:27",
          "cleared": "03:35",
          "date": "08/10/16",
          "dispatched": "03:14",
          "id": "160810006",
          "location": "pn7",
          "received": "03:12",
          "type": "noise other"
         },
         {
          "arrived": "03:39",
          "cleared": "05:04",
          "date": "08/10/16",
          "dispatched": "03:36",
          "id": "160810007",
          "location": "pn10",
          "received": "03:34",
          "type": "suspicious"
         },
         {
          "arrived": "04:49",
          "cleared": "04:52",
          "date": "08/10/16",
          "dispatched": "04:44",
          "id": "160810008",
          "location": "pn7",
          "received": "04:43",
          "type": "noise other"
         },
         {
          "arrived": "05:08",
          "cleared": "05:16",
          "date": "08/10/16",
          "dispatched": "05:02",
          "id": "160810009",
          "location": "pn3",
          "received": "05:01",
          "type": "alarm audible"
         },
         {
          "arrived": "",
          "cleared": "",
          "date": "08/10/16",
          "dispatched": "06:51",
          "id": "160810010",
          "location": "pn5",
          "received": "06:35",
          "type": "found property"
         },
         {
          "arrived": "",
          "cleared": "07:25",
          "date": "08/01/16",
          "dispatched": "07:25",
          "id": "160801019",
          "location": "pn5",
          "received": "07:24",
          "type": "child abuse"
         },
         {
          "arrived": "",
          "cleared": "07:27",
          "date": "08/01/16",
          "dispatched": "07:27",
          "id": "160801020",
          "location": "pn5",
          "received": "07:26",
          "type": "child abuse"
         },
         {
          "arrived": "08:02",
          "cleared": "08:14",
          "date": "08/01/16",
          "dispatched": "07:44",
          "id": "160801021",
          "location": "pn12",
          "received": "07:37",
          "type": "theft"
         },
         {
          "arrived": "08:14",
          "cleared": "08:44",
          "date": "08/01/16",
          "dispatched": "07:55",
          "id": "160801022",
          "location": "pn10",
          "received": "07:48",
          "type": "burg vehicle"
         },
         {
          "arrived": "08:18",
          "cleared": "08:18",
          "date": "08/01/16",
          "dispatched": "08:04",
          "id": "160801023",
          "location": "pn10",
          "received": "07:53",
          "type": "suspicious"
         },
         {
          "arrived": "08:27",
          "cleared": "08:35",
          "date": "08/01/16",
          "dispatched": "08:18",
          "id": "160801024",
          "location": "pn7",
          "received": "08:06",
          "type": "suspicious"
         },
         {
          "arrived": "",
          "cleared": "08:15",
          "date": "08/01/16",
          "dispatched": "08:15",
          "id": "160801025",
          "location": "pn5",
          "received": "08:14",
          "type": "child abuse"
         },
         {
          "arrived": "08:16",
          "cleared": "08:17",
          "date": "08/01/16",
          "dispatched": "",
          "id": "160801026",
          "location": "pn2",
          "received": "08:15",
          "type": "public works"
         },
         {
          "arrived": "",
          "cleared": "08:17",
          "date": "08/01/16",
          "dispatched": "08:16",
          "id": "160801027",
          "location": "pn5",
          "received": "08:16",
          "type": "child abuse"
         },
         {
          "arrived": "",
          "cleared": "08:27",
          "date": "08/01/16",
          "dispatched": "08:23",
          "id": "160801028",
          "location": "pn2",
          "received": "08:22",
          "type": "public works"
         },
         {
          "arrived": "08:40",
          "cleared": "09:17",
          "date": "08/01/16",
          "dispatched": "08:36",
          "id": "160801029",
          "location": "pn6",
          "received": "08:24",
          "type": "theft"
         },
         {
          "arrived": "",
          "cleared": "08:38",
          "date": "08/01/16",
          "dispatched": "08:38",
          "id": "160801030",
          "location": "pn13",
          "received": "08:37",
          "type": "9-1-1 abandon"
         },
         {
          "arrived": "09:01",
          "cleared": "09:13",
          "date": "08/01/16",
          "dispatched": "09:01",
          "id": "160801031",
          "location": "pn5",
          "received": "08:57",
          "type": "loitering"
         },
         {
          "arrived": "",
          "cleared": "09:30",
          "date": "08/01/16",
          "dispatched": "09:27",
          "id": "160801032",
          "location": "pn8",
          "received": "09:25",
          "type": "public works"
         },
         {
          "arrived": "09:33",
          "cleared": "09:35",
          "date": "08/01/16",
          "dispatched": "09:28",
          "id": "160801033",
          "location": "pn5",
          "received": "09:28",
          "type": "assist req"
         },
         {
          "arrived": "09:40",
          "cleared": "09:50",
          "date": "08/01/16",
          "dispatched": "09:39",
          "id": "160801034",
          "location": "pn6",
          "received": "09:37",
          "type": "disorderly"
         },
         {
          "arrived": "",
          "cleared": "10:00",
          "date": "08/01/16",
          "dispatched": "09:59",
          "id": "160801035",
          "location": "pn6",
          "received": "09:53",
          "type": "9-1-1 abandon"
         },
         {
          "arrived": "",
          "cleared": "10:01",
          "date": "08/01/16",
          "dispatched": "10:01",
          "id": "160801036",
          "location": "pn10",
          "received": "10:00",
          "type": "aband vehicle"
         },
         {
          "arrived": "10:10",
          "cleared": "11:52",
          "date": "08/01/16",
          "dispatched": "10:02",
          "id": "160801037",
          "location": "pn3",
          "received": "09:59",
          "type": "welfare check"
         },
         {
          "arrived": "10:16",
          "cleared": "10:19",
          "date": "08/01/16",
          "dispatched": "",
          "id": "160801038",
          "location": "pn1",
          "received": "10:16",
          "type": "aband vehicle"
         },
         {
          "arrived": "",
          "cleared": "10:23",
          "date": "08/01/16",
          "dispatched": "10:17",
          "id": "160801039",
          "location": "pn8",
          "received": "10:15",
          "type": "traffic hazard"
         },
         {
          "arrived": "10:36",
          "cleared": "11:34",
          "date": "08/01/16",
          "dispatched": "10:35",
          "id": "160801040",
          "location": "pn11",
          "received": "10:31",
          "type": "fraud"
         },
         {
          "arrived": "11:37",
          "cleared": "11:40",
          "date": "08/01/16",
          "dispatched": "11:16",
          "id": "160801041",
          "location": "pn11",
          "received": "11:02",
          "type": "traffic offense"
         },
         {
          "arrived": "11:36",
          "cleared": "12:01",
          "date": "08/01/16",
          "dispatched": "11:30",
          "id": "160801042",
          "location": "pn5",
          "received": "11:27",
          "type": "loitering"
         },
         {
          "arrived": "11:51",
          "cleared": "12:04",
          "date": "08/01/16",
          "dispatched": "11:47",
          "id": "160801043",
          "location": "pn5",
          "received": "11:43",
          "type": "assist req"
         },
         {
          "arrived": "12:27",
          "cleared": "12:40",
          "date": "08/01/16",
          "dispatched": "12:20",
          "id": "160801044",
          "location": "pn6",
          "received": "12:11",
          "type": "suspicious"
         },
         {
          "arrived": "13:29",
          "cleared": "13:30",
          "date": "08/01/16",
          "dispatched": "12:20",
          "id": "160801045",
          "location": "pn7",
          "received": "12:13",
          "type": "citizen dispute"
         },
         {
          "arrived": "12:42",
          "cleared": "12:49",
          "date": "08/01/16",
          "dispatched": "12:39",
          "id": "160801046",
          "location": "pn9",
          "received": "12:28",
          "type": "welfare check"
         },
         {
          "arrived": "12:53",
          "cleared": "13:24",
          "date": "08/01/16",
          "dispatched": "12:42",
          "id": "160801047",
          "location": "pn6",
          "received": "12:37",
          "type": "burg res"
         },
         {
          "arrived": "",
          "cleared": "12:45",
          "date": "08/01/16",
          "dispatched": "12:45",
          "id": "160801048",
          "location": "pn3",
          "received": "12:43",
          "type": "aband vehicle"
         },
         {
          "arrived": "",
          "cleared": "13:07",
          "date": "08/01/16",
          "dispatched": "13:07",
          "id": "160801049",
          "location": "pn2",
          "received": "13:04",
          "type": "9-1-1 abandon"
         },
         {
          "arrived": "13:39",
          "cleared": "13:40",
          "date": "08/01/16",
          "dispatched": "13:37",
          "id": "160801050",
          "location": "pn5",
          "received": "13:30",
          "type": "9-1-1 abandon"
         },
         {
          "arrived": "13:47",
          "cleared": "13:55",
          "date": "08/01/16",
          "dispatched": "",
          "id": "160801051",
          "location": "pn6",
          "received": "13:47",
          "type": "muni code viol"
         },
         {
          "arrived": "",
          "cleared": "13:55",
          "date": "08/01/16",
          "dispatched": "13:48",
          "id": "160801052",
          "location": "pn8",
          "received": "13:46",
          "type": "aband vehicle"
         },
         {
          "arrived": "14:14",
          "cleared": "14:25",
          "date": "08/01/16",
          "dispatched": "",
          "id": "160801053",
          "location": "pn5",
          "received": "14:08",
          "type": "suspicious"
         },
         {
          "arrived": "",
          "cleared": "14:23",
          "date": "08/01/16",
          "dispatched": "14:13",
          "id": "160801054",
          "location": "pn13",
          "received": "14:12",
          "type": "towed vehicle"
         },
         {
          "arrived": "14:27",
          "cleared": "14:28",
          "date": "08/01/16",
          "dispatched": "",
          "id": "160801055",
          "location": "pn5",
          "received": "14:19",
          "type": "9-1-1 abandon"
         },
         {
          "arrived": "14:36",
          "cleared": "14:41",
          "date": "08/01/16",
          "dispatched": "14:29",
          "id": "160801056",
          "location": "pn10",
          "received": "14:28",
          "type": "assist o police"
         },
         {
          "arrived": "15:10",
          "cleared": "15:21",
          "date": "08/01/16",
          "dispatched": "14:56",
          "id": "160801057",
          "location": "pn5",
          "received": "14:40",
          "type": "traffic hazard"
         },
         {
          "arrived": "14:56",
          "cleared": "15:01",
          "date": "08/01/16",
          "dispatched": "14:51",
          "id": "160801058",
          "location": "pn5",
          "received": "14:44",
          "type": "9-1-1 abandon"
         },
         {
          "arrived": "14:54",
          "cleared": "14:57",
          "date": "08/01/16",
          "dispatched": "",
          "id": "160801059",
          "location": "pn5",
          "received": "14:54",
          "type": "found property"
         },
         {
          "arrived": "15:55",
          "cleared": "16:18",
          "date": "08/01/16",
          "dispatched": "15:49",
          "id": "160801060",
          "location": "pn11",
          "received": "14:59",
          "type": "attempt theft"
         },
         {
          "arrived": "15:10",
          "cleared": "15:48",
          "date": "08/01/16",
          "dispatched": "15:05",
          "id": "160801061",
          "location": "pn11",
          "received": "15:03",
          "type": "loitering"
         },
         {
          "arrived": "15:40",
          "cleared": "15:43",
          "date": "08/01/16",
          "dispatched": "",
          "id": "160801062",
          "location": "pn10",
          "received": "15:37",
          "type": "dui"
         },
         {
          "arrived": "15:51",
          "cleared": "16:37",
          "date": "08/01/16",
          "dispatched": "15:44",
          "id": "160801063",
          "location": "pn2",
          "received": "15:43",
          "type": "coll non inj"
         },
         {
          "arrived": "",
          "cleared": "15:55",
          "date": "08/01/16",
          "dispatched": "15:54",
          "id": "160801064",
          "location": "pn8",
          "received": "15:51",
          "type": "aband vehicle"
         },
         {
          "arrived": "16:06",
          "cleared": "16:29",
          "date": "08/01/16",
          "dispatched": "16:05",
          "id": "160801065",
          "location": "pn5",
          "received": "16:02",
          "type": "theft"
         },
         {
          "arrived": "",
          "cleared": "16:19",
          "date": "08/01/16",
          "dispatched": "16:13",
          "id": "160801066",
          "location": "pn5",
          "received": "16:13",
          "type": "towed vehicle"
         },
         {
          "arrived": "16:45",
          "cleared": "16:49",
          "date": "08/01/16",
          "dispatched": "16:28",
          "id": "160801067",
          "location": "pn13",
          "received": "16:21",
          "type": "welfare check"
         },
         {
          "arrived": "16:16",
          "cleared": "17:10",
          "date": "08/01/16",
          "dispatched": "",
          "id": "160801068",
          "location": "pn5",
          "received": "16:29",
          "type": "probation viol"
         },
         {
          "arrived": "16:44",
          "cleared": "16:49",
          "date": "08/01/16",
          "dispatched": "",
          "id": "160801069",
          "location": "pn5",
          "received": "16:40",
          "type": "public works"
         },
         {
          "arrived": "16:48",
          "cleared": "16:55",
          "date": "08/01/16",
          "dispatched": "",
          "id": "160801070",
          "location": "pn5",
          "received": "16:45",
          "type": "assist req"
         },
         {
          "arrived": "",
          "cleared": "17:54",
          "date": "08/01/16",
          "dispatched": "17:49",
          "id": "160801071",
          "location": "pn5",
          "received": "17:48",
          "type": "towed vehicle"
         },
         {
          "arrived": "",
          "cleared": "18:16",
          "date": "08/01/16",
          "dispatched": "18:15",
          "id": "160801072",
          "location": "pn11",
          "received": "18:13",
          "type": "aband vehicle"
         },
         {
          "arrived": "18:52",
          "cleared": "18:52",
          "date": "08/01/16",
          "dispatched": "",
          "id": "160801073",
          "location": "pn1",
          "received": "18:50",
          "type": "aband vehicle"
         },
         {
          "arrived": "19:32",
          "cleared": "20:00",
          "date": "08/01/16",
          "dispatched": "19:21",
          "id": "160801074",
          "location": "pn5",
          "received": "19:09",
          "type": "assist req"
         },
         {
          "arrived": "19:40",
          "cleared": "20:19",
          "date": "08/01/16",
          "dispatched": "19:21",
          "id": "160801075",
          "location": "pn13",
          "received": "19:14",
          "type": "coll hit and ru"
         },
         {
          "arrived": "",
          "cleared": "19:25",
          "date": "08/01/16",
          "dispatched": "19:21",
          "id": "160801076",
          "location": "pn3",
          "received": "19:20",
          "type": "alarm audible"
         },
         {
          "arrived": "19:25",
          "cleared": "19:27",
          "date": "08/01/16",
          "dispatched": "",
          "id": "160801077",
          "location": "pn11",
          "received": "19:23",
          "type": "public works"
         },
         {
          "arrived": "20:07",
          "cleared": "20:22",
          "date": "08/01/16",
          "dispatched": "20:03",
          "id": "160801078",
          "location": "pn5",
          "received": "20:02",
          "type": "welfare check"
         },
         {
          "arrived": "21:29",
          "cleared": "22:05",
          "date": "08/01/16",
          "dispatched": "21:28",
          "id": "160801079",
          "location": "pn6",
          "received": "21:24",
          "type": "assist req"
         },
         {
          "arrived": "21:39",
          "cleared": "22:20",
          "date": "08/01/16",
          "dispatched": "21:32",
          "id": "160801080",
          "location": "pn13",
          "received": "21:30",
          "type": "suspicious"
         },
         {
          "arrived": "21:46",
          "cleared": "21:52",
          "date": "08/01/16",
          "dispatched": "21:38",
          "id": "160801081",
          "location": "pn10",
          "received": "21:28",
          "type": "suspicious"
         },
         {
          "arrived": "22:09",
          "cleared": "22:17",
          "date": "08/01/16",
          "dispatched": "22:05",
          "id": "160801082",
          "location": "pn6",
          "received": "21:59",
          "type": "suspicious"
         },
         {
          "arrived": "22:42",
          "cleared": "22:47",
          "date": "08/01/16",
          "dispatched": "22:37",
          "id": "160801083",
          "location": "pn5",
          "received": "22:32",
          "type": "suspicious"
         },
         {
          "arrived": "22:43",
          "cleared": "23:16",
          "date": "08/01/16",
          "dispatched": "",
          "id": "160801084",
          "location": "pn8",
          "received": "22:43",
          "type": "controlled narc"
         },
         {
          "arrived": "23:16",
          "cleared": "23:16",
          "date": "08/01/16",
          "dispatched": "",
          "id": "160801085",
          "location": "pn8",
          "received": "22:58",
          "type": "controlled narc"
         },
         {
          "arrived": "",
          "cleared": "23:10",
          "date": "08/01/16",
          "dispatched": "23:10",
          "id": "160801086",
          "location": "pn5",
          "received": "23:08",
          "type": "public works"
         },
         {
          "arrived": "23:12",
          "cleared": "23:13",
          "date": "08/01/16",
          "dispatched": "",
          "id": "160801087",
          "location": "pn6",
          "received": "23:07",
          "type": "information"
         },
         {
          "arrived": "23:12",
          "cleared": "23:32",
          "date": "08/01/16",
          "dispatched": "",
          "id": "160801088",
          "location": "pn7",
          "received": "23:12",
          "type": "suspicious"
         },
         {
          "arrived": "23:40",
          "cleared": "23:52",
          "date": "08/01/16",
          "dispatched": "23:33",
          "id": "160801089",
          "location": "pn1",
          "received": "23:30",
          "type": "suspicious"
         },
         {
          "arrived": "23:37",
          "cleared": "23:40",
          "date": "08/01/16",
          "dispatched": "",
          "id": "160801090",
          "location": "pn2",
          "received": "23:30",
          "type": "assist req"
         },
         {
          "arrived": "00:29",
          "cleared": "00:51",
          "date": "08/02/16",
          "dispatched": "00:27",
          "id": "160802001",
          "location": "pn10",
          "received": "00:26",
          "type": "suspicious"
         },
         {
          "arrived": "01:21",
          "cleared": "01:25",
          "date": "08/02/16",
          "dispatched": "01:19",
          "id": "160802002",
          "location": "pn2",
          "received": "01:19",
          "type": "alarm audible"
         },
         {
          "arrived": "02:02",
          "cleared": "02:12",
          "date": "08/02/16",
          "dispatched": "01:57",
          "id": "160802003",
          "location": "pn7",
          "received": "01:55",
          "type": "noise party"
         },
         {
          "arrived": "02:36",
          "cleared": "02:42",
          "date": "08/02/16",
          "dispatched": "02:33",
          "id": "160802004",
          "location": "pn11",
          "received": "02:32",
          "type": "alarm audible"
         },
         {
          "arrived": "03:25",
          "cleared": "03:53",
          "date": "08/02/16",
          "dispatched": "03:20",
          "id": "160802005",
          "location": "pn6",
          "received": "03:18",
          "type": "found property"
         },
         {
          "arrived": "04:40",
          "cleared": "04:49",
          "date": "08/02/16",
          "dispatched": "04:35",
          "id": "160802006",
          "location": "pn10",
          "received": "04:35",
          "type": "alarm audible"
         },
         {
          "arrived": "07:02",
          "cleared": "07:09",
          "date": "08/02/16",
          "dispatched": "",
          "id": "160802007",
          "location": "pn10",
          "received": "06:52",
          "type": "suspicious"
         },
         {
          "arrived": "07:35",
          "cleared": "07:55",
          "date": "08/30/16",
          "dispatched": "",
          "id": "160830013",
          "location": "pn6",
          "received": "07:06",
          "type": "posting vehs"
         },
         {
          "arrived": "07:29",
          "cleared": "07:32",
          "date": "08/30/16",
          "dispatched": "07:21",
          "id": "160830014",
          "location": "pn6",
          "received": "07:20",
          "type": "trespassing"
         },
         {
          "arrived": "07:46",
          "cleared": "07:49",
          "date": "08/30/16",
          "dispatched": "07:40",
          "id": "160830015",
          "location": "pn5",
          "received": "07:37",
          "type": "welfare check"
         },
         {
          "arrived": "08:30",
          "cleared": "08:38",
          "date": "08/30/16",
          "dispatched": "08:18",
          "id": "160830016",
          "location": "pn10",
          "received": "07:57",
          "type": "found property"
         },
         {
          "arrived": "08:13",
          "cleared": "08:32",
          "date": "08/30/16",
          "dispatched": "08:05",
          "id": "160830017",
          "location": "pn2",
          "received": "07:57",
          "type": "suspicious"
         },
         {
          "arrived": "08:10",
          "cleared": "08:17",
          "date": "08/30/16",
          "dispatched": "08:07",
          "id": "160830018",
          "location": "pn5",
          "received": "08:06",
          "type": "alarm audible"
         },
         {
          "arrived": "08:17",
          "cleared": "08:20",
          "date": "08/30/16",
          "dispatched": "08:09",
          "id": "160830019",
          "location": "pn2",
          "received": "08:07",
          "type": "welfare check"
         },
         {
          "arrived": "08:18",
          "cleared": "08:29",
          "date": "08/30/16",
          "dispatched": "",
          "id": "160830020",
          "location": "pn2",
          "received": "08:10",
          "type": "traffic hazard"
         },
         {
          "arrived": "08:30",
          "cleared": "08:30",
          "date": "08/30/16",
          "dispatched": "",
          "id": "160830021",
          "location": "pn6",
          "received": "08:15",
          "type": "lost property"
         },
         {
          "arrived": "08:59",
          "cleared": "08:59",
          "date": "08/30/16",
          "dispatched": "08:42",
          "id": "160830022",
          "location": "pn2",
          "received": "08:28",
          "type": "theft"
         },
         {
          "arrived": "",
          "cleared": "08:52",
          "date": "08/30/16",
          "dispatched": "08:52",
          "id": "160830023",
          "location": "pn3",
          "received": "08:49",
          "type": "aband vehicle"
         },
         {
          "arrived": "09:15",
          "cleared": "09:19",
          "date": "08/30/16",
          "dispatched": "09:15",
          "id": "160830024",
          "location": "pn2",
          "received": "09:10",
          "type": "trespassing"
         },
         {
          "arrived": "",
          "cleared": "09:19",
          "date": "08/30/16",
          "dispatched": "09:18",
          "id": "160830025",
          "location": "pn7",
          "received": "09:16",
          "type": "aband vehicle"
         },
         {
          "arrived": "",
          "cleared": "09:24",
          "date": "08/30/16",
          "dispatched": "09:23",
          "id": "160830026",
          "location": "pn10",
          "received": "09:22",
          "type": "aband vehicle"
         },
         {
          "arrived": "",
          "cleared": "09:26",
          "date": "08/30/16",
          "dispatched": "09:24",
          "id": "160830027",
          "location": "pn5",
          "received": "09:23",
          "type": "public works"
         },
         {
          "arrived": "09:39",
          "cleared": "10:11",
          "date": "08/30/16",
          "dispatched": "09:34",
          "id": "160830028",
          "location": "pn1",
          "received": "09:29",
          "type": "noise other"
         },
         {
          "arrived": "09:48",
          "cleared": "10:23",
          "date": "08/30/16",
          "dispatched": "",
          "id": "160830029",
          "location": "pn5",
          "received": "09:44",
          "type": "coll non inj"
         },
         {
          "arrived": "10:03",
          "cleared": "10:16",
          "date": "08/30/16",
          "dispatched": "09:53",
          "id": "160830030",
          "location": "pn7",
          "received": "09:52",
          "type": "assist req"
         },
         {
          "arrived": "11:01",
          "cleared": "11:04",
          "date": "08/30/16",
          "dispatched": "10:36",
          "id": "160830031",
          "location": "pn6",
          "received": "10:13",
          "type": "theft"
         },
         {
          "arrived": "10:26",
          "cleared": "11:43",
          "date": "08/30/16",
          "dispatched": "10:17",
          "id": "160830032",
          "location": "pn9",
          "received": "10:16",
          "type": "disorderly"
         },
         {
          "arrived": "10:26",
          "cleared": "10:30",
          "date": "08/30/16",
          "dispatched": "",
          "id": "160830033",
          "location": "pn10",
          "received": "10:25",
          "type": "towed vehicle"
         },
         {
          "arrived": "11:04",
          "cleared": "11:08",
          "date": "08/30/16",
          "dispatched": "11:02",
          "id": "160830034",
          "location": "pn5",
          "received": "10:48",
          "type": "loitering"
         },
         {
          "arrived": "11:54",
          "cleared": "12:13",
          "date": "08/30/16",
          "dispatched": "",
          "id": "160830035",
          "location": "pn11",
          "received": "10:58",
          "type": "mc-camping"
         },
         {
          "arrived": "11:11",
          "cleared": "11:33",
          "date": "08/30/16",
          "dispatched": "",
          "id": "160830036",
          "location": "pn10",
          "received": "11:08",
          "type": "citizen dispute"
         },
         {
          "arrived": "11:40",
          "cleared": "11:51",
          "date": "08/30/16",
          "dispatched": "11:34",
          "id": "160830037",
          "location": "pn8",
          "received": "11:26",
          "type": "theft"
         },
         {
          "arrived": "11:39",
          "cleared": "11:45",
          "date": "08/30/16",
          "dispatched": "11:34",
          "id": "160830038",
          "location": "pn2",
          "received": "11:33",
          "type": "alarm audible"
         },
         {
          "arrived": "12:18",
          "cleared": "12:20",
          "date": "08/30/16",
          "dispatched": "",
          "id": "160830039",
          "location": "pn5",
          "received": "12:18",
          "type": "suspicious"
         },
         {
          "arrived": "12:33",
          "cleared": "15:52",
          "date": "08/30/16",
          "dispatched": "",
          "id": "160830040",
          "location": "pn11",
          "received": "12:33",
          "type": "search warrant"
         },
         {
          "arrived": "12:41",
          "cleared": "12:55",
          "date": "08/30/16",
          "dispatched": "",
          "id": "160830041",
          "location": "pn13",
          "received": "12:36",
          "type": "suspicious"
         },
         {
          "arrived": "13:08",
          "cleared": "13:13",
          "date": "08/30/16",
          "dispatched": "13:04",
          "id": "160830042",
          "location": "pn5",
          "received": "13:02",
          "type": "suspicious"
         },
         {
          "arrived": "",
          "cleared": "13:41",
          "date": "08/30/16",
          "dispatched": "13:37",
          "id": "160830043",
          "location": "pn8",
          "received": "13:34",
          "type": "aband vehicle"
         },
         {
          "arrived": "13:45",
          "cleared": "13:47",
          "date": "08/30/16",
          "dispatched": "",
          "id": "160830044",
          "location": "pn10",
          "received": "13:45",
          "type": "test"
         },
         {
          "arrived": "13:57",
          "cleared": "14:35",
          "date": "08/30/16",
          "dispatched": "",
          "id": "160830045",
          "location": "pn5",
          "received": "13:57",
          "type": "suspicious"
         },
         {
          "arrived": "14:12",
          "cleared": "14:43",
          "date": "08/30/16",
          "dispatched": "14:06",
          "id": "160830046",
          "location": "pn2",
          "received": "14:03",
          "type": "fraud"
         },
         {
          "arrived": "14:13",
          "cleared": "14:25",
          "date": "08/30/16",
          "dispatched": "14:09",
          "id": "160830047",
          "location": "pn5",
          "received": "14:08",
          "type": "welfare check"
         },
         {
          "arrived": "14:31",
          "cleared": "14:34",
          "date": "08/30/16",
          "dispatched": "14:22",
          "id": "160830048",
          "location": "pn5",
          "received": "14:16",
          "type": "welfare check"
         },
         {
          "arrived": "14:23",
          "cleared": "14:36",
          "date": "08/30/16",
          "dispatched": "",
          "id": "160830049",
          "location": "pn1",
          "received": "14:23",
          "type": "towed vehicle"
         },
         {
          "arrived": "",
          "cleared": "14:37",
          "date": "08/30/16",
          "dispatched": "14:29",
          "id": "160830050",
          "location": "pn6",
          "received": "14:19",
          "type": "theft"
         },
         {
          "arrived": "14:33",
          "cleared": "14:47",
          "date": "08/30/16",
          "dispatched": "",
          "id": "160830051",
          "location": "pn6",
          "received": "14:26",
          "type": "suspicious"
         },
         {
          "arrived": "14:54",
          "cleared": "15:11",
          "date": "08/30/16",
          "dispatched": "14:49",
          "id": "160830052",
          "location": "pn13",
          "received": "14:44",
          "type": "disorderly"
         },
         {
          "arrived": "15:07",
          "cleared": "15:19",
          "date": "08/30/16",
          "dispatched": "15:02",
          "id": "160830053",
          "location": "pn7",
          "received": "15:00",
          "type": "disorderly"
         },
         {
          "arrived": "15:10",
          "cleared": "15:11",
          "date": "08/30/16",
          "dispatched": "",
          "id": "160830054",
          "location": "pn6",
          "received": "15:10",
          "type": "aband vehicle"
         },
         {
          "arrived": "",
          "cleared": "16:05",
          "date": "08/30/16",
          "dispatched": "16:02",
          "id": "160830055",
          "location": "pn6",
          "received": "16:01",
          "type": "alarm audible"
         },
         {
          "arrived": "",
          "cleared": "16:22",
          "date": "08/30/16",
          "dispatched": "16:13",
          "id": "160830056",
          "location": "pn13",
          "received": "16:08",
          "type": "mc-panhandling"
         },
         {
          "arrived": "16:25",
          "cleared": "16:26",
          "date": "08/30/16",
          "dispatched": "16:19",
          "id": "160830057",
          "location": "pn5",
          "received": "16:17",
          "type": "animal problem"
         },
         {
          "arrived": "16:32",
          "cleared": "16:38",
          "date": "08/30/16",
          "dispatched": "16:29",
          "id": "160830058",
          "location": "pn6",
          "received": "16:26",
          "type": "suspicious"
         },
         {
          "arrived": "16:39",
          "cleared": "16:52",
          "date": "08/30/16",
          "dispatched": "16:35",
          "id": "160830059",
          "location": "pn10",
          "received": "16:34",
          "type": "juvenile prob"
         },
         {
          "arrived": "16:50",
          "cleared": "16:54",
          "date": "08/30/16",
          "dispatched": "16:46",
          "id": "160830060",
          "location": "pn5",
          "received": "16:34",
          "type": "mc-smoking"
         },
         {
          "arrived": "17:09",
          "cleared": "17:09",
          "date": "08/30/16",
          "dispatched": "17:07",
          "id": "160830061",
          "location": "pn5",
          "received": "16:51",
          "type": "lost property"
         },
         {
          "arrived": "17:01",
          "cleared": "17:07",
          "date": "08/30/16",
          "dispatched": "17:01",
          "id": "160830062",
          "location": "pn6",
          "received": "16:53",
          "type": "assist req"
         },
         {
          "arrived": "17:06",
          "cleared": "17:35",
          "date": "08/30/16",
          "dispatched": "17:00",
          "id": "160830063",
          "location": "pn7",
          "received": "16:58",
          "type": "alarm audible"
         },
         {
          "arrived": "17:48",
          "cleared": "19:57",
          "date": "08/30/16",
          "dispatched": "17:36",
          "id": "160830064",
          "location": "pn8",
          "received": "17:24",
          "type": "attempt-locate"
         },
         {
          "arrived": "17:33",
          "cleared": "17:51",
          "date": "08/30/16",
          "dispatched": "",
          "id": "160830065",
          "location": "pn5",
          "received": "17:29",
          "type": "disorderly"
         },
         {
          "arrived": "17:58",
          "cleared": "18:03",
          "date": "08/30/16",
          "dispatched": "",
          "id": "160830066",
          "location": "pn12",
          "received": "17:54",
          "type": "alarm audible"
         },
         {
          "arrived": "18:02",
          "cleared": "18:10",
          "date": "08/30/16",
          "dispatched": "",
          "id": "160830067",
          "location": "pn5",
          "received": "18:02",
          "type": "suspicious"
         },
         {
          "arrived": "",
          "cleared": "18:21",
          "date": "08/30/16",
          "dispatched": "18:20",
          "id": "160830068",
          "location": "pn5",
          "received": "18:17",
          "type": "disorderly"
         },
         {
          "arrived": "18:20",
          "cleared": "18:20",
          "date": "08/30/16",
          "dispatched": "",
          "id": "160830069",
          "location": "pn13",
          "received": "18:17",
          "type": "traffic offense"
         },
         {
          "arrived": "18:31",
          "cleared": "18:46",
          "date": "08/30/16",
          "dispatched": "18:30",
          "id": "160830070",
          "location": "pn5",
          "received": "18:25",
          "type": "found property"
         },
         {
          "arrived": "20:17",
          "cleared": "20:34",
          "date": "08/30/16",
          "dispatched": "20:08",
          "id": "160830071",
          "location": "pn5",
          "received": "18:38",
          "type": "mc-panhandling"
         },
         {
          "arrived": "21:24",
          "cleared": "19:18",
          "date": "08/30/16",
          "dispatched": "19:14",
          "id": "160830072",
          "location": "pn5",
          "received": "18:50",
          "type": "found property"
         },
         {
          "arrived": "21:00",
          "cleared": "21:00",
          "date": "08/30/16",
          "dispatched": "20:34",
          "id": "160830073",
          "location": "pn11",
          "received": "18:57",
          "type": "mc-camping"
         },
         {
          "arrived": "21:01",
          "cleared": "19:18",
          "date": "08/30/16",
          "dispatched": "19:14",
          "id": "160830074",
          "location": "pn5",
          "received": "18:58",
          "type": "lost property"
         },
         {
          "arrived": "19:18",
          "cleared": "19:22",
          "date": "08/30/16",
          "dispatched": "19:06",
          "id": "160830075",
          "location": "pn1",
          "received": "19:02",
          "type": "suspicious"
         },
         {
          "arrived": "19:36",
          "cleared": "20:13",
          "date": "08/30/16",
          "dispatched": "19:16",
          "id": "160830076",
          "location": "pn10",
          "received": "19:07",
          "type": "juvenile prob"
         },
         {
          "arrived": "20:52",
          "cleared": "21:00",
          "date": "08/30/16",
          "dispatched": "20:42",
          "id": "160830077",
          "location": "pn8",
          "received": "19:11",
          "type": "animal problem"
         },
         {
          "arrived": "19:30",
          "cleared": "19:51",
          "date": "08/30/16",
          "dispatched": "19:18",
          "id": "160830078",
          "location": "pn10",
          "received": "19:17",
          "type": "disorderly"
         },
         {
          "arrived": "19:46",
          "cleared": "20:41",
          "date": "08/30/16",
          "dispatched": "19:34",
          "id": "160830079",
          "location": "pn8",
          "received": "19:32",
          "type": "disorderly"
         },
         {
          "arrived": "19:59",
          "cleared": "20:39",
          "date": "08/30/16",
          "dispatched": "19:51",
          "id": "160830080",
          "location": "pn13",
          "received": "19:40",
          "type": "fraud"
         },
         {
          "arrived": "20:02",
          "cleared": "20:10",
          "date": "08/30/16",
          "dispatched": "19:59",
          "id": "160830081",
          "location": "pn5",
          "received": "19:47",
          "type": "animal problem"
         },
         {
          "arrived": "",
          "cleared": "20:22",
          "date": "08/30/16",
          "dispatched": "20:14",
          "id": "160830082",
          "location": "pn5",
          "received": "20:02",
          "type": "trespassing"
         },
         {
          "arrived": "20:48",
          "cleared": "21:18",
          "date": "08/30/16",
          "dispatched": "20:41",
          "id": "160830083",
          "location": "pn2",
          "received": "20:35",
          "type": "welfare check"
         },
         {
          "arrived": "21:02",
          "cleared": "21:02",
          "date": "08/30/16",
          "dispatched": "20:48",
          "id": "160830084",
          "location": "pn5",
          "received": "20:46",
          "type": "suspicious"
         },
         {
          "arrived": "21:08",
          "cleared": "21:11",
          "date": "08/30/16",
          "dispatched": "21:01",
          "id": "160830085",
          "location": "pn13",
          "received": "20:54",
          "type": "traffic hazard"
         },
         {
          "arrived": "21:26",
          "cleared": "21:42",
          "date": "08/30/16",
          "dispatched": "21:22",
          "id": "160830086",
          "location": "pn5",
          "received": "21:20",
          "type": "fire sm trash"
         },
         {
          "arrived": "22:16",
          "cleared": "22:20",
          "date": "08/30/16",
          "dispatched": "22:10",
          "id": "160830087",
          "location": "pn8",
          "received": "22:08",
          "type": "trespassing"
         },
         {
          "arrived": "22:45",
          "cleared": "22:57",
          "date": "08/30/16",
          "dispatched": "22:38",
          "id": "160830088",
          "location": "pn7",
          "received": "22:34",
          "type": "trespassing"
         },
         {
          "arrived": "22:47",
          "cleared": "22:55",
          "date": "08/30/16",
          "dispatched": "",
          "id": "160830089",
          "location": "pn2",
          "received": "22:47",
          "type": "muni code viol"
         },
         {
          "arrived": "23:35",
          "cleared": "23:58",
          "date": "08/30/16",
          "dispatched": "23:30",
          "id": "160830090",
          "location": "pn11",
          "received": "23:26",
          "type": "welfare check"
         },
         {
          "arrived": "23:47",
          "cleared": "23:51",
          "date": "08/30/16",
          "dispatched": "23:41",
          "id": "160830091",
          "location": "pn2",
          "received": "23:40",
          "type": "noise party"
         },
         {
          "arrived": "23:44",
          "cleared": "23:51",
          "date": "08/30/16",
          "dispatched": "",
          "id": "160830092",
          "location": "pn5",
          "received": "23:44",
          "type": "suspicious"
         },
         {
          "arrived": "00:10",
          "cleared": "00:16",
          "date": "08/31/16",
          "dispatched": "00:07",
          "id": "160831001",
          "location": "pn6",
          "received": "00:04",
          "type": "loitering"
         },
         {
          "arrived": "00:44",
          "cleared": "02:43",
          "date": "08/31/16",
          "dispatched": "00:42",
          "id": "160831002",
          "location": "pn8",
          "received": "00:41",
          "type": "suspicious"
         },
         {
          "arrived": "01:29",
          "cleared": "01:38",
          "date": "08/31/16",
          "dispatched": "",
          "id": "160831003",
          "location": "pn13",
          "received": "01:29",
          "type": "suspicious"
         },
         {
          "arrived": "01:33",
          "cleared": "01:44",
          "date": "08/31/16",
          "dispatched": "",
          "id": "160831004",
          "location": "pn5",
          "received": "01:31",
          "type": "assist req"
         },
         {
          "arrived": "01:44",
          "cleared": "01:47",
          "date": "08/31/16",
          "dispatched": "01:42",
          "id": "160831005",
          "location": "pn5",
          "received": "01:41",
          "type": "disorderly"
         },
         {
          "arrived": "02:20",
          "cleared": "02:23",
          "date": "08/31/16",
          "dispatched": "02:14",
          "id": "160831006",
          "location": "pn8",
          "received": "02:00",
          "type": "muni code viol"
         },
         {
          "arrived": "02:12",
          "cleared": "02:13",
          "date": "08/31/16",
          "dispatched": "02:06",
          "id": "160831007",
          "location": "pn3",
          "received": "02:04",
          "type": "traffic hazard"
         },
         {
          "arrived": "02:22",
          "cleared": "02:25",
          "date": "08/31/16",
          "dispatched": "",
          "id": "160831008",
          "location": "pn5",
          "received": "02:15",
          "type": "dui"
         },
         {
          "arrived": "03:02",
          "cleared": "03:27",
          "date": "08/31/16",
          "dispatched": "02:55",
          "id": "160831009",
          "location": "pn7",
          "received": "02:52",
          "type": "found property"
         },
         {
          "arrived": "03:34",
          "cleared": "03:41",
          "date": "08/31/16",
          "dispatched": "",
          "id": "160831010",
          "location": "pn13",
          "received": "03:34",
          "type": "found property"
         },
         {
          "arrived": "04:47",
          "cleared": "04:50",
          "date": "08/31/16",
          "dispatched": "",
          "id": "160831011",
          "location": "pn5",
          "received": "04:44",
          "type": "public works"
         },
         {
          "arrived": "05:17",
          "cleared": "05:23",
          "date": "08/31/16",
          "dispatched": "05:13",
          "id": "160831012",
          "location": "pn5",
          "received": "05:12",
          "type": "alarm silent"
         },
         {
          "arrived": "05:49",
          "cleared": "05:51",
          "date": "08/31/16",
          "dispatched": "05:45",
          "id": "160831013",
          "location": "pn11",
          "received": "05:39",
          "type": "parking problem"
         },
         {
          "arrived": "06:39",
          "cleared": "06:47",
          "date": "08/31/16",
          "dispatched": "06:27",
          "id": "160831014",
          "location": "pn9",
          "received": "06:23",
          "type": "attempt theft"
         },
         {
          "arrived": "06:59",
          "cleared": "07:06",
          "date": "08/31/16",
          "dispatched": "06:52",
          "id": "160831015",
          "location": "pn6",
          "received": "06:42",
          "type": "trespassing"
         },
         {
          "arrived": "08:23",
          "cleared": "08:23",
          "date": "08/09/16",
          "dispatched": "08:17",
          "id": "160809016",
          "location": "pn5",
          "received": "08:16",
          "type": "assist req"
         },
         {
          "arrived": "08:30",
          "cleared": "08:36",
          "date": "08/09/16",
          "dispatched": "08:24",
          "id": "160809017",
          "location": "pn10",
          "received": "08:22",
          "type": "alarm audible"
         },
         {
          "arrived": "09:09",
          "cleared": "09:53",
          "date": "08/09/16",
          "dispatched": "09:01",
          "id": "160809018",
          "location": "pn6",
          "received": "08:56",
          "type": "assist req"
         },
         {
          "arrived": "09:31",
          "cleared": "09:43",
          "date": "08/09/16",
          "dispatched": "09:20",
          "id": "160809019",
          "location": "pn11",
          "received": "09:14",
          "type": "coll non inj"
         },
         {
          "arrived": "09:28",
          "cleared": "10:05",
          "date": "08/09/16",
          "dispatched": "09:22",
          "id": "160809020",
          "location": "pn5",
          "received": "09:20",
          "type": "parking problem"
         },
         {
          "arrived": "10:07",
          "cleared": "10:28",
          "date": "08/09/16",
          "dispatched": "",
          "id": "160809021",
          "location": "pn2",
          "received": "10:06",
          "type": "warrant"
         },
         {
          "arrived": "10:28",
          "cleared": "11:06",
          "date": "08/09/16",
          "dispatched": "10:27",
          "id": "160809022",
          "location": "pn6",
          "received": "10:18",
          "type": "keep the peace"
         },
         {
          "arrived": "14:20",
          "cleared": "14:25",
          "date": "08/09/16",
          "dispatched": "10:31",
          "id": "160809023",
          "location": "pn7",
          "received": "10:16",
          "type": "posting vehs"
         },
         {
          "arrived": "14:34",
          "cleared": "14:27",
          "date": "08/09/16",
          "dispatched": "",
          "id": "160809024",
          "location": "pn7",
          "received": "10:21",
          "type": "posting vehs"
         },
         {
          "arrived": "14:29",
          "cleared": "14:32",
          "date": "08/09/16",
          "dispatched": "",
          "id": "160809025",
          "location": "pn7",
          "received": "10:22",
          "type": "posting vehs"
         },
         {
          "arrived": "13:47",
          "cleared": "13:49",
          "date": "08/09/16",
          "dispatched": "13:31",
          "id": "160809026",
          "location": "pn6",
          "received": "10:22",
          "type": "posting vehs"
         },
         {
          "arrived": "13:51",
          "cleared": "13:56",
          "date": "08/09/16",
          "dispatched": "",
          "id": "160809027",
          "location": "pn6",
          "received": "10:23",
          "type": "posting vehs"
         },
         {
          "arrived": "13:57",
          "cleared": "13:58",
          "date": "08/09/16",
          "dispatched": "",
          "id": "160809028",
          "location": "pn6",
          "received": "10:23",
          "type": "posting vehs"
         },
         {
          "arrived": "10:55",
          "cleared": "10:58",
          "date": "08/09/16",
          "dispatched": "10:42",
          "id": "160809029",
          "location": "pn6",
          "received": "10:24",
          "type": "posting vehs"
         },
         {
          "arrived": "11:16",
          "cleared": "11:45",
          "date": "08/09/16",
          "dispatched": "11:06",
          "id": "160809030",
          "location": "pn8",
          "received": "10:21",
          "type": "assault"
         },
         {
          "arrived": "10:35",
          "cleared": "10:40",
          "date": "08/09/16",
          "dispatched": "",
          "id": "160809031",
          "location": "pn12",
          "received": "10:35",
          "type": "towed vehicle"
         },
         {
          "arrived": "10:58",
          "cleared": "11:03",
          "date": "08/09/16",
          "dispatched": "10:56",
          "id": "160809032",
          "location": "pn5",
          "received": "10:51",
          "type": "mc-alcohol"
         },
         {
          "arrived": "11:05",
          "cleared": "12:25",
          "date": "08/09/16",
          "dispatched": "11:04",
          "id": "160809033",
          "location": "pn3",
          "received": "10:57",
          "type": "welfare check"
         },
         {
          "arrived": "11:31",
          "cleared": "11:33",
          "date": "08/09/16",
          "dispatched": "",
          "id": "160809034",
          "location": "pn5",
          "received": "11:30",
          "type": "aband vehicle"
         },
         {
          "arrived": "11:40",
          "cleared": "11:43",
          "date": "08/09/16",
          "dispatched": "",
          "id": "160809035",
          "location": "pn2",
          "received": "11:37",
          "type": "traffic offense"
         },
         {
          "arrived": "11:43",
          "cleared": "11:46",
          "date": "08/09/16",
          "dispatched": "",
          "id": "160809036",
          "location": "pn12",
          "received": "11:43",
          "type": "towed vehicle"
         },
         {
          "arrived": "11:57",
          "cleared": "11:58",
          "date": "08/09/16",
          "dispatched": "",
          "id": "160809037",
          "location": "pn6",
          "received": "11:57",
          "type": "aband vehicle"
         },
         {
          "arrived": "12:41",
          "cleared": "13:16",
          "date": "08/09/16",
          "dispatched": "12:32",
          "id": "160809038",
          "location": "pn6",
          "received": "11:50",
          "type": "burg com"
         },
         {
          "arrived": "",
          "cleared": "12:39",
          "date": "08/09/16",
          "dispatched": "12:33",
          "id": "160809039",
          "location": "pn11",
          "received": "12:30",
          "type": "traffic hazard"
         },
         {
          "arrived": "12:40",
          "cleared": "12:42",
          "date": "08/09/16",
          "dispatched": "",
          "id": "160809040",
          "location": "pn5",
          "received": "12:39",
          "type": "trespassing"
         },
         {
          "arrived": "13:17",
          "cleared": "14:11",
          "date": "08/09/16",
          "dispatched": "13:17",
          "id": "160809041",
          "location": "pn9",
          "received": "13:14",
          "type": "disorderly"
         },
         {
          "arrived": "13:49",
          "cleared": "13:49",
          "date": "08/09/16",
          "dispatched": "13:23",
          "id": "160809042",
          "location": "pn6",
          "received": "13:18",
          "type": "lost property"
         },
         {
          "arrived": "13:44",
          "cleared": "14:26",
          "date": "08/09/16",
          "dispatched": "",
          "id": "160809043",
          "location": "pn11",
          "received": "13:44",
          "type": "trespassing"
         },
         {
          "arrived": "13:58",
          "cleared": "14:05",
          "date": "08/09/16",
          "dispatched": "13:52",
          "id": "160809044",
          "location": "pn6",
          "received": "13:47",
          "type": "trespassing"
         },
         {
          "arrived": "14:05",
          "cleared": "14:37",
          "date": "08/09/16",
          "dispatched": "13:57",
          "id": "160809045",
          "location": "pn1",
          "received": "13:54",
          "type": "alarm audible"
         },
         {
          "arrived": "14:12",
          "cleared": "14:18",
          "date": "08/09/16",
          "dispatched": "",
          "id": "160809046",
          "location": "pn6",
          "received": "13:51",
          "type": "welfare check"
         },
         {
          "arrived": "14:20",
          "cleared": "14:26",
          "date": "08/09/16",
          "dispatched": "",
          "id": "160809047",
          "location": "pn10",
          "received": "14:19",
          "type": "traffic offense"
         },
         {
          "arrived": "14:40",
          "cleared": "14:58",
          "date": "08/09/16",
          "dispatched": "",
          "id": "160809048",
          "location": "pn10",
          "received": "14:40",
          "type": "warrant"
         },
         {
          "arrived": "15:03",
          "cleared": "15:45",
          "date": "08/09/16",
          "dispatched": "14:51",
          "id": "160809049",
          "location": "pn9",
          "received": "14:37",
          "type": "welfare check"
         },
         {
          "arrived": "15:00",
          "cleared": "15:04",
          "date": "08/09/16",
          "dispatched": "",
          "id": "160809050",
          "location": "pn2",
          "received": "14:50",
          "type": "traffic offense"
         },
         {
          "arrived": "15:03",
          "cleared": "15:29",
          "date": "08/09/16",
          "dispatched": "14:54",
          "id": "160809051",
          "location": "pn8",
          "received": "14:52",
          "type": "traffic offense"
         },
         {
          "arrived": "15:00",
          "cleared": "16:14",
          "date": "08/09/16",
          "dispatched": "",
          "id": "160809052",
          "location": "pn6",
          "received": "15:00",
          "type": "attempt-locate"
         },
         {
          "arrived": "15:06",
          "cleared": "15:07",
          "date": "08/09/16",
          "dispatched": "",
          "id": "160809053",
          "location": "pn10",
          "received": "15:06",
          "type": "aband vehicle"
         },
         {
          "arrived": "15:24",
          "cleared": "15:38",
          "date": "08/09/16",
          "dispatched": "",
          "id": "160809054",
          "location": "pn5",
          "received": "15:23",
          "type": "assist o police"
         },
         {
          "arrived": "15:26",
          "cleared": "15:27",
          "date": "08/09/16",
          "dispatched": "",
          "id": "160809055",
          "location": "pn10",
          "received": "15:25",
          "type": "aband vehicle"
         },
         {
          "arrived": "15:39",
          "cleared": "16:14",
          "date": "08/09/16",
          "dispatched": "15:32",
          "id": "160809056",
          "location": "pn8",
          "received": "15:29",
          "type": "fireworks"
         },
         {
          "arrived": "16:13",
          "cleared": "16:31",
          "date": "08/09/16",
          "dispatched": "16:04",
          "id": "160809057",
          "location": "pn6",
          "received": "15:59",
          "type": "found property"
         },
         {
          "arrived": "16:17",
          "cleared": "16:33",
          "date": "08/09/16",
          "dispatched": "16:10",
          "id": "160809058",
          "location": "pn12",
          "received": "16:07",
          "type": "assist o police"
         },
         {
          "arrived": "17:10",
          "cleared": "17:27",
          "date": "08/09/16",
          "dispatched": "17:00",
          "id": "160809059",
          "location": "pn1",
          "received": "16:56",
          "type": "public assist"
         },
         {
          "arrived": "16:58",
          "cleared": "17:18",
          "date": "08/09/16",
          "dispatched": "",
          "id": "160809060",
          "location": "pn5",
          "received": "16:57",
          "type": "towed vehicle"
         },
         {
          "arrived": "17:16",
          "cleared": "17:23",
          "date": "08/09/16",
          "dispatched": "17:10",
          "id": "160809061",
          "location": "pn5",
          "received": "16:56",
          "type": "welfare check"
         },
         {
          "arrived": "17:16",
          "cleared": "19:24",
          "date": "08/09/16",
          "dispatched": "17:08",
          "id": "160809062",
          "location": "pn5",
          "received": "17:01",
          "type": "theft"
         },
         {
          "arrived": "17:22",
          "cleared": "17:41",
          "date": "08/09/16",
          "dispatched": "",
          "id": "160809063",
          "location": "pn6",
          "received": "17:21",
          "type": "theft"
         },
         {
          "arrived": "17:41",
          "cleared": "17:43",
          "date": "08/09/16",
          "dispatched": "",
          "id": "160809064",
          "location": "pn6",
          "received": "17:40",
          "type": "suspicious"
         },
         {
          "arrived": "18:19",
          "cleared": "18:35",
          "date": "08/09/16",
          "dispatched": "",
          "id": "160809065",
          "location": "pn2",
          "received": "18:14",
          "type": "muni code viol"
         },
         {
          "arrived": "18:24",
          "cleared": "18:24",
          "date": "08/09/16",
          "dispatched": "18:16",
          "id": "160809066",
          "location": "pn5",
          "received": "18:16",
          "type": "assist req"
         },
         {
          "arrived": "18:38",
          "cleared": "20:08",
          "date": "08/09/16",
          "dispatched": "18:30",
          "id": "160809067",
          "location": "pn2",
          "received": "18:28",
          "type": "coll hit and ru"
         },
         {
          "arrived": "19:23",
          "cleared": "19:59",
          "date": "08/09/16",
          "dispatched": "18:58",
          "id": "160809068",
          "location": "pn2",
          "received": "18:49",
          "type": "vandalism"
         },
         {
          "arrived": "19:34",
          "cleared": "20:00",
          "date": "08/09/16",
          "dispatched": "19:09",
          "id": "160809069",
          "location": "pn8",
          "received": "18:58",
          "type": "welfare check"
         },
         {
          "arrived": "19:41",
          "cleared": "19:52",
          "date": "08/09/16",
          "dispatched": "19:33",
          "id": "160809070",
          "location": "pn11",
          "received": "19:02",
          "type": "found property"
         },
         {
          "arrived": "19:25",
          "cleared": "19:25",
          "date": "08/09/16",
          "dispatched": "19:07",
          "id": "160809071",
          "location": "pn11",
          "received": "19:04",
          "type": "theft"
         },
         {
          "arrived": "19:36",
          "cleared": "19:45",
          "date": "08/09/16",
          "dispatched": "19:32",
          "id": "160809072",
          "location": "pn1",
          "received": "19:15",
          "type": "theft"
         },
         {
          "arrived": "",
          "cleared": "19:41",
          "date": "08/09/16",
          "dispatched": "19:35",
          "id": "160809073",
          "location": "lz0",
          "received": "19:32",
          "type": "dui"
         },
         {
          "arrived": "05:18",
          "cleared": "05:19",
          "date": "08/09/16",
          "dispatched": "05:15",
          "id": "160809074",
          "location": "pn6",
          "received": "19:43",
          "type": "posting vehs"
         },
         {
          "arrived": "05:07",
          "cleared": "05:11",
          "date": "08/09/16",
          "dispatched": "05:04",
          "id": "160809075",
          "location": "pn7",
          "received": "19:44",
          "type": "posting vehs"
         },
         {
          "arrived": "05:22",
          "cleared": "05:22",
          "date": "08/09/16",
          "dispatched": "",
          "id": "160809076",
          "location": "pn2",
          "received": "19:44",
          "type": "posting vehs"
         },
         {
          "arrived": "05:22",
          "cleared": "05:23",
          "date": "08/09/16",
          "dispatched": "",
          "id": "160809077",
          "location": "pn2",
          "received": "19:44",
          "type": "posting vehs"
         },
         {
          "arrived": "05:25",
          "cleared": "05:25",
          "date": "08/09/16",
          "dispatched": "05:24",
          "id": "160809078",
          "location": "pn3",
          "received": "19:45",
          "type": "posting vehs"
         },
         {
          "arrived": "05:23",
          "cleared": "05:17",
          "date": "08/09/16",
          "dispatched": "05:17",
          "id": "160809079",
          "location": "pn3",
          "received": "19:45",
          "type": "posting vehs"
         },
         {
          "arrived": "05:26",
          "cleared": "05:27",
          "date": "08/09/16",
          "dispatched": "05:24",
          "id": "160809080",
          "location": "pn2",
          "received": "19:46",
          "type": "posting vehs"
         },
         {
          "arrived": "",
          "cleared": "",
          "date": "08/09/16",
          "dispatched": "",
          "id": "160809081",
          "location": "pn1",
          "received": "19:46",
          "type": "posting vehs"
         },
         {
          "arrived": "05:28",
          "cleared": "05:31",
          "date": "08/09/16",
          "dispatched": "05:19",
          "id": "160809082",
          "location": "pn1",
          "received": "19:46",
          "type": "posting vehs"
         },
         {
          "arrived": "05:14",
          "cleared": "05:15",
          "date": "08/09/16",
          "dispatched": "05:11",
          "id": "160809083",
          "location": "pn6",
          "received": "19:47",
          "type": "posting vehs"
         },
         {
          "arrived": "20:05",
          "cleared": "20:14",
          "date": "08/09/16",
          "dispatched": "20:00",
          "id": "160809084",
          "location": "pn12",
          "received": "19:56",
          "type": "loitering"
         },
         {
          "arrived": "20:06",
          "cleared": "20:44",
          "date": "08/09/16",
          "dispatched": "20:02",
          "id": "160809085",
          "location": "pn10",
          "received": "19:59",
          "type": "suspicious"
         },
         {
          "arrived": "20:16",
          "cleared": "20:21",
          "date": "08/09/16",
          "dispatched": "20:07",
          "id": "160809086",
          "location": "pn5",
          "received": "20:02",
          "type": "welfare check"
         },
         {
          "arrived": "20:26",
          "cleared": "20:35",
          "date": "08/09/16",
          "dispatched": "20:21",
          "id": "160809087",
          "location": "pn13",
          "received": "20:10",
          "type": "suspicious"
         },
         {
          "arrived": "20:51",
          "cleared": "21:02",
          "date": "08/09/16",
          "dispatched": "20:41",
          "id": "160809088",
          "location": "pn6",
          "received": "20:38",
          "type": "suspicious"
         },
         {
          "arrived": "21:17",
          "cleared": "21:26",
          "date": "08/09/16",
          "dispatched": "",
          "id": "160809089",
          "location": "pn13",
          "received": "21:16",
          "type": "9-1-1 abandon"
         },
         {
          "arrived": "21:40",
          "cleared": "22:52",
          "date": "08/09/16",
          "dispatched": "21:35",
          "id": "160809090",
          "location": "pn6",
          "received": "21:32",
          "type": "suspicious"
         },
         {
          "arrived": "21:48",
          "cleared": "22:16",
          "date": "08/09/16",
          "dispatched": "21:42",
          "id": "160809091",
          "location": "pn6",
          "received": "21:37",
          "type": "theft-vehicle"
         },
         {
          "arrived": "22:50",
          "cleared": "22:56",
          "date": "08/09/16",
          "dispatched": "22:46",
          "id": "160809092",
          "location": "pn6",
          "received": "22:45",
          "type": "disorderly"
         },
         {
          "arrived": "23:02",
          "cleared": "23:17",
          "date": "08/09/16",
          "dispatched": "",
          "id": "160809093",
          "location": "pn6",
          "received": "23:02",
          "type": "mc-camping"
         },
         {
          "arrived": "00:09",
          "cleared": "00:35",
          "date": "08/10/16",
          "dispatched": "00:04",
          "id": "160810001",
          "location": "pn9",
          "received": "00:00",
          "type": "noise other"
         },
         {
          "arrived": "00:30",
          "cleared": "00:36",
          "date": "08/10/16",
          "dispatched": "00:28",
          "id": "160810002",
          "location": "pn5",
          "received": "00:27",
          "type": "trespassing"
         },
         {
          "arrived": "",
          "cleared": "01:21",
          "date": "08/10/16",
          "dispatched": "01:18",
          "id": "160810003",
          "location": "pn5",
          "received": "01:17",
          "type": "assist req"
         },
         {
          "arrived": "02:02",
          "cleared": "02:24",
          "date": "08/10/16",
          "dispatched": "",
          "id": "160810004",
          "location": "pn6",
          "received": "02:02",
          "type": "suspicious"
         },
         {
          "arrived": "02:46",
          "cleared": "03:31",
          "date": "08/10/16",
          "dispatched": "",
          "id": "160810005",
          "location": "pn6",
          "received": "02:46",
          "type": "dui"
         },
         {
          "arrived": "03:27",
          "cleared": "03:35",
          "date": "08/10/16",
          "dispatched": "03:14",
          "id": "160810006",
          "location": "pn7",
          "received": "03:12",
          "type": "noise other"
         },
         {
          "arrived": "03:39",
          "cleared": "05:04",
          "date": "08/10/16",
          "dispatched": "03:36",
          "id": "160810007",
          "location": "pn10",
          "received": "03:34",
          "type": "suspicious"
         },
         {
          "arrived": "04:49",
          "cleared": "04:52",
          "date": "08/10/16",
          "dispatched": "04:44",
          "id": "160810008",
          "location": "pn7",
          "received": "04:43",
          "type": "noise other"
         },
         {
          "arrived": "05:08",
          "cleared": "05:16",
          "date": "08/10/16",
          "dispatched": "05:02",
          "id": "160810009",
          "location": "pn3",
          "received": "05:01",
          "type": "alarm audible"
         },
         {
          "arrived": "",
          "cleared": "",
          "date": "08/10/16",
          "dispatched": "06:51",
          "id": "160810010",
          "location": "pn5",
          "received": "06:35",
          "type": "found property"
         },
         {
          "arrived": "07:18",
          "cleared": "07:28",
          "date": "08/22/16",
          "dispatched": "",
          "id": "160822015",
          "location": "pn5",
          "received": "07:18",
          "type": "fraud"
         },
         {
          "arrived": "08:12",
          "cleared": "08:25",
          "date": "08/22/16",
          "dispatched": "08:00",
          "id": "160822016",
          "location": "pn5",
          "received": "07:59",
          "type": "traffic hazard"
         },
         {
          "arrived": "08:30",
          "cleared": "10:07",
          "date": "08/22/16",
          "dispatched": "08:05",
          "id": "160822017",
          "location": "pn10",
          "received": "08:01",
          "type": "suspicious"
         },
         {
          "arrived": "08:41",
          "cleared": "09:32",
          "date": "08/22/16",
          "dispatched": "08:32",
          "id": "160822018",
          "location": "pn8",
          "received": "08:29",
          "type": "suspicious"
         },
         {
          "arrived": "09:00",
          "cleared": "09:09",
          "date": "08/22/16",
          "dispatched": "",
          "id": "160822019",
          "location": "pn5",
          "received": "08:44",
          "type": "loitering"
         },
         {
          "arrived": "08:51",
          "cleared": "08:56",
          "date": "08/22/16",
          "dispatched": "08:49",
          "id": "160822020",
          "location": "pn5",
          "received": "08:46",
          "type": "disorderly"
         },
         {
          "arrived": "08:56",
          "cleared": "08:57",
          "date": "08/22/16",
          "dispatched": "",
          "id": "160822021",
          "location": "pn5",
          "received": "08:48",
          "type": "trespassing"
         },
         {
          "arrived": "",
          "cleared": "10:07",
          "date": "08/22/16",
          "dispatched": "",
          "id": "160822022",
          "location": "pn1",
          "received": "09:06",
          "type": "theft-vehicle"
         },
         {
          "arrived": "09:25",
          "cleared": "09:29",
          "date": "08/22/16",
          "dispatched": "",
          "id": "160822023",
          "location": "pn8",
          "received": "09:25",
          "type": "parking problem"
         },
         {
          "arrived": "",
          "cleared": "09:40",
          "date": "08/22/16",
          "dispatched": "",
          "id": "160822024",
          "location": "pn6",
          "received": "09:28",
          "type": "parking problem"
         },
         {
          "arrived": "09:31",
          "cleared": "10:01",
          "date": "08/22/16",
          "dispatched": "",
          "id": "160822025",
          "location": "pn6",
          "received": "09:31",
          "type": "warrant"
         },
         {
          "arrived": "09:39",
          "cleared": "09:46",
          "date": "08/22/16",
          "dispatched": "",
          "id": "160822026",
          "location": "pn5",
          "received": "09:31",
          "type": "disorderly"
         },
         {
          "arrived": "09:53",
          "cleared": "10:18",
          "date": "08/22/16",
          "dispatched": "09:47",
          "id": "160822027",
          "location": "pn6",
          "received": "09:46",
          "type": "theft"
         },
         {
          "arrived": "10:03",
          "cleared": "10:39",
          "date": "08/22/16",
          "dispatched": "10:02",
          "id": "160822028",
          "location": "pn5",
          "received": "10:01",
          "type": "vandalism"
         },
         {
          "arrived": "10:40",
          "cleared": "10:54",
          "date": "08/22/16",
          "dispatched": "10:40",
          "id": "160822029",
          "location": "pn5",
          "received": "10:05",
          "type": "loitering"
         },
         {
          "arrived": "10:23",
          "cleared": "10:42",
          "date": "08/22/16",
          "dispatched": "10:18",
          "id": "160822030",
          "location": "pn11",
          "received": "10:11",
          "type": "trespassing"
         },
         {
          "arrived": "11:03",
          "cleared": "12:07",
          "date": "08/22/16",
          "dispatched": "10:55",
          "id": "160822031",
          "location": "pn6",
          "received": "10:53",
          "type": "theft"
         },
         {
          "arrived": "",
          "cleared": "11:11",
          "date": "08/22/16",
          "dispatched": "11:10",
          "id": "160822032",
          "location": "pn10",
          "received": "11:07",
          "type": "aband vehicle"
         },
         {
          "arrived": "11:22",
          "cleared": "11:26",
          "date": "08/22/16",
          "dispatched": "11:15",
          "id": "160822033",
          "location": "pn8",
          "received": "11:14",
          "type": "suspicious"
         },
         {
          "arrived": "11:27",
          "cleared": "14:45",
          "date": "08/22/16",
          "dispatched": "11:15",
          "id": "160822034",
          "location": "pn8",
          "received": "11:12",
          "type": "suspicious"
         },
         {
          "arrived": "",
          "cleared": "11:23",
          "date": "08/22/16",
          "dispatched": "11:19",
          "id": "160822035",
          "location": "pn3",
          "received": "11:16",
          "type": "aband vehicle"
         },
         {
          "arrived": "11:37",
          "cleared": "13:06",
          "date": "08/22/16",
          "dispatched": "",
          "id": "160822036",
          "location": "pn10",
          "received": "11:20",
          "type": "fraud"
         },
         {
          "arrived": "11:38",
          "cleared": "11:26",
          "date": "08/22/16",
          "dispatched": "11:24",
          "id": "160822037",
          "location": "pn10",
          "received": "11:20",
          "type": "burg vehicle"
         },
         {
          "arrived": "11:26",
          "cleared": "11:28",
          "date": "08/22/16",
          "dispatched": "",
          "id": "160822038",
          "location": "pn6",
          "received": "11:26",
          "type": "trespassing"
         },
         {
          "arrived": "11:32",
          "cleared": "11:33",
          "date": "08/22/16",
          "dispatched": "",
          "id": "160822039",
          "location": "pn10",
          "received": "11:31",
          "type": "9-1-1 abandon"
         },
         {
          "arrived": "11:57",
          "cleared": "12:03",
          "date": "08/22/16",
          "dispatched": "11:41",
          "id": "160822040",
          "location": "pn5",
          "received": "11:34",
          "type": "found property"
         },
         {
          "arrived": "12:14",
          "cleared": "12:34",
          "date": "08/22/16",
          "dispatched": "12:07",
          "id": "160822041",
          "location": "pn5",
          "received": "11:58",
          "type": "mc-camping"
         },
         {
          "arrived": "12:22",
          "cleared": "12:39",
          "date": "08/22/16",
          "dispatched": "",
          "id": "160822042",
          "location": "pn2",
          "received": "12:05",
          "type": "welfare check"
         },
         {
          "arrived": "12:17",
          "cleared": "12:31",
          "date": "08/22/16",
          "dispatched": "12:12",
          "id": "160822043",
          "location": "pn5",
          "received": "12:11",
          "type": "disorderly"
         },
         {
          "arrived": "12:12",
          "cleared": "12:12",
          "date": "08/22/16",
          "dispatched": "",
          "id": "160822044",
          "location": "pn7",
          "received": "12:12",
          "type": "suspicious"
         },
         {
          "arrived": "12:32",
          "cleared": "12:49",
          "date": "08/22/16",
          "dispatched": "",
          "id": "160822045",
          "location": "pn6",
          "received": "12:21",
          "type": "coll hit and ru"
         },
         {
          "arrived": "13:01",
          "cleared": "14:12",
          "date": "08/22/16",
          "dispatched": "12:42",
          "id": "160822046",
          "location": "pn2",
          "received": "12:08",
          "type": "burg res"
         },
         {
          "arrived": "",
          "cleared": "12:37",
          "date": "08/22/16",
          "dispatched": "12:32",
          "id": "160822047",
          "location": "pn9",
          "received": "12:28",
          "type": "smoke check out"
         },
         {
          "arrived": "12:42",
          "cleared": "12:46",
          "date": "08/22/16",
          "dispatched": "",
          "id": "160822048",
          "location": "pn5",
          "received": "12:41",
          "type": "towed vehicle"
         },
         {
          "arrived": "13:19",
          "cleared": "13:19",
          "date": "08/22/16",
          "dispatched": "13:14",
          "id": "160822049",
          "location": "pn6",
          "received": "12:49",
          "type": "noise other"
         },
         {
          "arrived": "13:16",
          "cleared": "13:44",
          "date": "08/22/16",
          "dispatched": "13:04",
          "id": "160822050",
          "location": "pn6",
          "received": "13:02",
          "type": "theft"
         },
         {
          "arrived": "13:41",
          "cleared": "14:18",
          "date": "08/22/16",
          "dispatched": "",
          "id": "160822051",
          "location": "pn5",
          "received": "13:09",
          "type": "trespassing"
         },
         {
          "arrived": "13:44",
          "cleared": "13:52",
          "date": "08/22/16",
          "dispatched": "13:23",
          "id": "160822052",
          "location": "pn6",
          "received": "13:18",
          "type": "parking problem"
         },
         {
          "arrived": "13:33",
          "cleared": "13:42",
          "date": "08/22/16",
          "dispatched": "13:22",
          "id": "160822053",
          "location": "pn13",
          "received": "13:20",
          "type": "juvenile prob"
         },
         {
          "arrived": "13:35",
          "cleared": "13:52",
          "date": "08/22/16",
          "dispatched": "",
          "id": "160822054",
          "location": "pn6",
          "received": "13:25",
          "type": "information"
         },
         {
          "arrived": "14:00",
          "cleared": "14:01",
          "date": "08/22/16",
          "dispatched": "",
          "id": "160822055",
          "location": "pn8",
          "received": "13:59",
          "type": "aband vehicle"
         },
         {
          "arrived": "14:31",
          "cleared": "14:54",
          "date": "08/22/16",
          "dispatched": "14:22",
          "id": "160822056",
          "location": "pn13",
          "received": "14:20",
          "type": "graffiti"
         },
         {
          "arrived": "14:51",
          "cleared": "14:52",
          "date": "08/22/16",
          "dispatched": "",
          "id": "160822057",
          "location": "pn1",
          "received": "14:20",
          "type": "muni code viol"
         },
         {
          "arrived": "14:27",
          "cleared": "14:28",
          "date": "08/22/16",
          "dispatched": "",
          "id": "160822058",
          "location": "pn6",
          "received": "14:27",
          "type": "trespassing"
         },
         {
          "arrived": "14:44",
          "cleared": "14:44",
          "date": "08/22/16",
          "dispatched": "",
          "id": "160822059",
          "location": "pn7",
          "received": "14:43",
          "type": "traffic offense"
         },
         {
          "arrived": "15:51",
          "cleared": "15:29",
          "date": "08/22/16",
          "dispatched": "15:23",
          "id": "160822060",
          "location": "pn12",
          "received": "15:10",
          "type": "suspicious"
         },
         {
          "arrived": "15:29",
          "cleared": "15:31",
          "date": "08/22/16",
          "dispatched": "",
          "id": "160822061",
          "location": "pn1",
          "received": "15:29",
          "type": "theft"
         },
         {
          "arrived": "15:38",
          "cleared": "15:41",
          "date": "08/22/16",
          "dispatched": "15:35",
          "id": "160822062",
          "location": "pn6",
          "received": "15:34",
          "type": "loitering"
         },
         {
          "arrived": "",
          "cleared": "15:37",
          "date": "08/22/16",
          "dispatched": "15:37",
          "id": "160822063",
          "location": "pn5",
          "received": "15:36",
          "type": "child abuse"
         },
         {
          "arrived": "15:53",
          "cleared": "15:56",
          "date": "08/22/16",
          "dispatched": "",
          "id": "160822064",
          "location": "pn3",
          "received": "15:53",
          "type": "graffiti"
         },
         {
          "arrived": "16:18",
          "cleared": "17:00",
          "date": "08/22/16",
          "dispatched": "",
          "id": "160822065",
          "location": "pn5",
          "received": "15:58",
          "type": "assist req"
         },
         {
          "arrived": "",
          "cleared": "16:01",
          "date": "08/22/16",
          "dispatched": "16:01",
          "id": "160822066",
          "location": "pn6",
          "received": "15:59",
          "type": "aband vehicle"
         },
         {
          "arrived": "16:02",
          "cleared": "19:58",
          "date": "08/22/16",
          "dispatched": "",
          "id": "160822067",
          "location": "pn5",
          "received": "16:02",
          "type": "traffic offense"
         },
         {
          "arrived": "16:17",
          "cleared": "16:19",
          "date": "08/22/16",
          "dispatched": "16:13",
          "id": "160822068",
          "location": "pn13",
          "received": "16:05",
          "type": "suspicious"
         },
         {
          "arrived": "",
          "cleared": "16:18",
          "date": "08/22/16",
          "dispatched": "16:17",
          "id": "160822069",
          "location": "pn12",
          "received": "16:05",
          "type": "suspicious"
         },
         {
          "arrived": "16:38",
          "cleared": "17:21",
          "date": "08/22/16",
          "dispatched": "16:37",
          "id": "160822070",
          "location": "pn2",
          "received": "16:25",
          "type": "theft"
         },
         {
          "arrived": "16:53",
          "cleared": "17:07",
          "date": "08/22/16",
          "dispatched": "16:38",
          "id": "160822071",
          "location": "pn8",
          "received": "16:25",
          "type": "burg res"
         },
         {
          "arrived": "17:15",
          "cleared": "17:31",
          "date": "08/22/16",
          "dispatched": "17:05",
          "id": "160822072",
          "location": "pn3",
          "received": "16:59",
          "type": "loitering"
         },
         {
          "arrived": "",
          "cleared": "17:03",
          "date": "08/22/16",
          "dispatched": "17:03",
          "id": "160822073",
          "location": "pn10",
          "received": "17:01",
          "type": "aband vehicle"
         },
         {
          "arrived": "17:19",
          "cleared": "17:23",
          "date": "08/22/16",
          "dispatched": "17:14",
          "id": "160822074",
          "location": "pn2",
          "received": "17:10",
          "type": "coll non inj"
         },
         {
          "arrived": "17:32",
          "cleared": "18:01",
          "date": "08/22/16",
          "dispatched": "17:20",
          "id": "160822075",
          "location": "pn11",
          "received": "17:13",
          "type": "coll non inj"
         },
         {
          "arrived": "17:37",
          "cleared": "17:40",
          "date": "08/22/16",
          "dispatched": "",
          "id": "160822076",
          "location": "pn11",
          "received": "17:32",
          "type": "coll non inj"
         },
         {
          "arrived": "17:42",
          "cleared": "17:53",
          "date": "08/22/16",
          "dispatched": "17:36",
          "id": "160822077",
          "location": "pn9",
          "received": "17:34",
          "type": "traffic hazard"
         },
         {
          "arrived": "18:09",
          "cleared": "18:55",
          "date": "08/22/16",
          "dispatched": "17:59",
          "id": "160822078",
          "location": "pn13",
          "received": "17:56",
          "type": "theft"
         },
         {
          "arrived": "18:24",
          "cleared": "18:26",
          "date": "08/22/16",
          "dispatched": "18:19",
          "id": "160822079",
          "location": "pn5",
          "received": "18:15",
          "type": "loitering"
         },
         {
          "arrived": "18:27",
          "cleared": "18:37",
          "date": "08/22/16",
          "dispatched": "",
          "id": "160822080",
          "location": "pn5",
          "received": "18:27",
          "type": "alcohol offense"
         },
         {
          "arrived": "18:32",
          "cleared": "18:34",
          "date": "08/22/16",
          "dispatched": "",
          "id": "160822081",
          "location": "pn5",
          "received": "18:31",
          "type": "towed vehicle"
         },
         {
          "arrived": "20:15",
          "cleared": "20:19",
          "date": "08/22/16",
          "dispatched": "19:57",
          "id": "160822082",
          "location": "pn1",
          "received": "19:38",
          "type": "noise party"
         },
         {
          "arrived": "",
          "cleared": "20:21",
          "date": "08/22/16",
          "dispatched": "20:20",
          "id": "160822083",
          "location": "pn12",
          "received": "20:16",
          "type": "alarm audible"
         },
         {
          "arrived": "20:25",
          "cleared": "20:36",
          "date": "08/22/16",
          "dispatched": "20:20",
          "id": "160822084",
          "location": "pn3",
          "received": "20:15",
          "type": "suspicious"
         },
         {
          "arrived": "21:25",
          "cleared": "21:55",
          "date": "08/22/16",
          "dispatched": "21:23",
          "id": "160822085",
          "location": "pn3",
          "received": "21:21",
          "type": "juvenile prob"
         },
         {
          "arrived": "21:37",
          "cleared": "21:43",
          "date": "08/22/16",
          "dispatched": "21:28",
          "id": "160822086",
          "location": "pn5",
          "received": "21:26",
          "type": "noise party"
         },
         {
          "arrived": "21:56",
          "cleared": "21:59",
          "date": "08/22/16",
          "dispatched": "21:52",
          "id": "160822087",
          "location": "pn10",
          "received": "21:38",
          "type": "suspicious"
         },
         {
          "arrived": "23:06",
          "cleared": "23:49",
          "date": "08/22/16",
          "dispatched": "23:03",
          "id": "160822088",
          "location": "pn10",
          "received": "23:00",
          "type": "assist req"
         },
         {
          "arrived": "00:34",
          "cleared": "00:39",
          "date": "08/23/16",
          "dispatched": "00:34",
          "id": "160823001",
          "location": "pn1",
          "received": "00:32",
          "type": "alarm audible"
         },
         {
          "arrived": "00:44",
          "cleared": "00:46",
          "date": "08/23/16",
          "dispatched": "00:39",
          "id": "160823002",
          "location": "pn5",
          "received": "00:38",
          "type": "noise other"
         },
         {
          "arrived": "00:49",
          "cleared": "01:20",
          "date": "08/23/16",
          "dispatched": "",
          "id": "160823003",
          "location": "pn5",
          "received": "00:48",
          "type": "suspicious"
         },
         {
          "arrived": "00:51",
          "cleared": "00:57",
          "date": "08/23/16",
          "dispatched": "",
          "id": "160823004",
          "location": "pn5",
          "received": "00:48",
          "type": "assist o police"
         },
         {
          "arrived": "01:52",
          "cleared": "02:01",
          "date": "08/23/16",
          "dispatched": "",
          "id": "160823005",
          "location": "pn5",
          "received": "01:51",
          "type": "disorderly"
         },
         {
          "arrived": "02:35",
          "cleared": "03:00",
          "date": "08/23/16",
          "dispatched": "02:27",
          "id": "160823006",
          "location": "pn10",
          "received": "02:24",
          "type": "mc-sleeping"
         },
         {
          "arrived": "02:42",
          "cleared": "02:59",
          "date": "08/23/16",
          "dispatched": "02:37",
          "id": "160823007",
          "location": "pn2",
          "received": "02:35",
          "type": "noise party"
         },
         {
          "arrived": "03:07",
          "cleared": "03:32",
          "date": "08/23/16",
          "dispatched": "03:00",
          "id": "160823008",
          "location": "pn9",
          "received": "03:00",
          "type": "fire structure"
         },
         {
          "arrived": "03:37",
          "cleared": "03:45",
          "date": "08/23/16",
          "dispatched": "03:31",
          "id": "160823009",
          "location": "pn10",
          "received": "03:30",
          "type": "loitering"
         },
         {
          "arrived": "04:56",
          "cleared": "05:10",
          "date": "08/23/16",
          "dispatched": "04:49",
          "id": "160823010",
          "location": "pn8",
          "received": "04:48",
          "type": "suspicious"
         },
         {
          "arrived": "05:03",
          "cleared": "05:31",
          "date": "08/23/16",
          "dispatched": "04:57",
          "id": "160823011",
          "location": "pn5",
          "received": "04:54",
          "type": "suspicious"
         },
         {
          "arrived": "06:09",
          "cleared": "06:21",
          "date": "08/23/16",
          "dispatched": "06:02",
          "id": "160823012",
          "location": "pn7",
          "received": "06:00",
          "type": "alarm audible"
         },
         {
          "arrived": "06:48",
          "cleared": "06:50",
          "date": "08/23/16",
          "dispatched": "",
          "id": "160823013",
          "location": "pn12",
          "received": "06:48",
          "type": "towed vehicle"
         },
         {
          "arrived": "",
          "cleared": "07:26",
          "date": "08/23/16",
          "dispatched": "07:24",
          "id": "160823014",
          "location": "pn7",
          "received": "07:23",
          "type": "alarm audible"
         },
         {
          "arrived": "07:47",
          "cleared": "07:47",
          "date": "08/23/16",
          "dispatched": "07:31",
          "id": "160823015",
          "location": "pn8",
          "received": "07:30",
          "type": "trespassing"
         },
         {
          "arrived": "07:56",
          "cleared": "07:58",
          "date": "08/23/16",
          "dispatched": "07:49",
          "id": "160823016",
          "location": "pn6",
          "received": "07:44",
          "type": "loitering"
         },
         {
          "arrived": "08:04",
          "cleared": "08:26",
          "date": "08/23/16",
          "dispatched": "07:51",
          "id": "160823017",
          "location": "pn11",
          "received": "07:47",
          "type": "loitering"
         },
         {
          "arrived": "",
          "cleared": "07:57",
          "date": "08/23/16",
          "dispatched": "07:57",
          "id": "160823018",
          "location": "pn3",
          "received": "07:55",
          "type": "aband vehicle"
         },
         {
          "arrived": "08:21",
          "cleared": "08:25",
          "date": "08/23/16",
          "dispatched": "08:13",
          "id": "160823019",
          "location": "pn7",
          "received": "08:09",
          "type": "alarm audible"
         },
         {
          "arrived": "09:18",
          "cleared": "10:27",
          "date": "08/23/16",
          "dispatched": "08:40",
          "id": "160823020",
          "location": "pn7",
          "received": "08:34",
          "type": "fraud"
         },
         {
          "arrived": "09:36",
          "cleared": "09:07",
          "date": "08/23/16",
          "dispatched": "09:03",
          "id": "160823021",
          "location": "pn13",
          "received": "08:53",
          "type": "assist req"
         },
         {
          "arrived": "09:11",
          "cleared": "09:18",
          "date": "08/23/16",
          "dispatched": "09:06",
          "id": "160823022",
          "location": "pn6",
          "received": "09:03",
          "type": "welfare check"
         },
         {
          "arrived": "09:21",
          "cleared": "14:28",
          "date": "08/23/16",
          "dispatched": "09:12",
          "id": "160823023",
          "location": "pn5",
          "received": "09:02",
          "type": "sex offense"
         },
         {
          "arrived": "09:43",
          "cleared": "09:43",
          "date": "08/23/16",
          "dispatched": "",
          "id": "160823024",
          "location": "pn1",
          "received": "09:42",
          "type": "aband vehicle"
         },
         {
          "arrived": "10:06",
          "cleared": "10:09",
          "date": "08/23/16",
          "dispatched": "",
          "id": "160823025",
          "location": "pn8",
          "received": "10:05",
          "type": "information"
         },
         {
          "arrived": "",
          "cleared": "10:49",
          "date": "08/23/16",
          "dispatched": "10:49",
          "id": "160823026",
          "location": "pn8",
          "received": "10:46",
          "type": "traffic offense"
         },
         {
          "arrived": "11:27",
          "cleared": "11:30",
          "date": "08/23/16",
          "dispatched": "",
          "id": "160823027",
          "location": "pn13",
          "received": "11:20",
          "type": "traffic hazard"
         },
         {
          "arrived": "11:31",
          "cleared": "12:07",
          "date": "08/23/16",
          "dispatched": "11:27",
          "id": "160823028",
          "location": "pn13",
          "received": "11:23",
          "type": "theft"
         },
         {
          "arrived": "11:35",
          "cleared": "11:46",
          "date": "08/23/16",
          "dispatched": "11:29",
          "id": "160823029",
          "location": "pn6",
          "received": "11:27",
          "type": "suspicious"
         },
         {
          "arrived": "11:40",
          "cleared": "11:40",
          "date": "08/23/16",
          "dispatched": "",
          "id": "160823030",
          "location": "pn11",
          "received": "11:38",
          "type": "disorderly"
         },
         {
          "arrived": "12:02",
          "cleared": "12:22",
          "date": "08/23/16",
          "dispatched": "11:51",
          "id": "160823031",
          "location": "pn8",
          "received": "11:42",
          "type": "attempt theft"
         },
         {
          "arrived": "12:41",
          "cleared": "13:16",
          "date": "08/23/16",
          "dispatched": "12:21",
          "id": "160823032",
          "location": "pn2",
          "received": "12:14",
          "type": "assist req"
         },
         {
          "arrived": "12:28",
          "cleared": "12:36",
          "date": "08/23/16",
          "dispatched": "12:27",
          "id": "160823033",
          "location": "pn12",
          "received": "12:23",
          "type": "trespassing"
         },
         {
          "arrived": "12:29",
          "cleared": "12:29",
          "date": "08/23/16",
          "dispatched": "",
          "id": "160823034",
          "location": "pn5",
          "received": "12:26",
          "type": "information"
         },
         {
          "arrived": "13:04",
          "cleared": "13:09",
          "date": "08/23/16",
          "dispatched": "13:04",
          "id": "160823035",
          "location": "pn5",
          "received": "12:58",
          "type": "loitering"
         },
         {
          "arrived": "13:17",
          "cleared": "13:43",
          "date": "08/23/16",
          "dispatched": "13:10",
          "id": "160823036",
          "location": "pn11",
          "received": "13:06",
          "type": "alcohol offense"
         },
         {
          "arrived": "13:20",
          "cleared": "13:26",
          "date": "08/23/16",
          "dispatched": "13:09",
          "id": "160823037",
          "location": "pn11",
          "received": "13:07",
          "type": "alarm audible"
         },
         {
          "arrived": "13:09",
          "cleared": "13:17",
          "date": "08/23/16",
          "dispatched": "",
          "id": "160823038",
          "location": "pn5",
          "received": "13:08",
          "type": "assist req"
         },
         {
          "arrived": "13:47",
          "cleared": "14:01",
          "date": "08/23/16",
          "dispatched": "13:44",
          "id": "160823039",
          "location": "pn2",
          "received": "13:31",
          "type": "suspicious"
         },
         {
          "arrived": "13:54",
          "cleared": "13:56",
          "date": "08/23/16",
          "dispatched": "13:54",
          "id": "160823040",
          "location": "pn10",
          "received": "13:50",
          "type": "welfare check"
         },
         {
          "arrived": "14:17",
          "cleared": "14:23",
          "date": "08/23/16",
          "dispatched": "14:00",
          "id": "160823041",
          "location": "pn13",
          "received": "13:57",
          "type": "welfare check"
         },
         {
          "arrived": "",
          "cleared": "14:07",
          "date": "08/23/16",
          "dispatched": "14:07",
          "id": "160823042",
          "location": "pn7",
          "received": "14:02",
          "type": "parking problem"
         },
         {
          "arrived": "14:11",
          "cleared": "14:18",
          "date": "08/23/16",
          "dispatched": "",
          "id": "160823043",
          "location": "pn11",
          "received": "14:11",
          "type": "trespassing"
         },
         {
          "arrived": "14:24",
          "cleared": "14:25",
          "date": "08/23/16",
          "dispatched": "14:21",
          "id": "160823044",
          "location": "pn10",
          "received": "14:13",
          "type": "muni code viol"
         },
         {
          "arrived": "14:34",
          "cleared": "14:38",
          "date": "08/23/16",
          "dispatched": "14:31",
          "id": "160823045",
          "location": "pn11",
          "received": "14:27",
          "type": "traffic hazard"
         },
         {
          "arrived": "14:53",
          "cleared": "15:14",
          "date": "08/23/16",
          "dispatched": "14:30",
          "id": "160823046",
          "location": "pn13",
          "received": "14:26",
          "type": "suspicious"
         },
         {
          "arrived": "14:52",
          "cleared": "14:52",
          "date": "08/23/16",
          "dispatched": "",
          "id": "160823047",
          "location": "pn10",
          "received": "14:49",
          "type": "aband vehicle"
         },
         {
          "arrived": "15:05",
          "cleared": "15:30",
          "date": "08/23/16",
          "dispatched": "15:04",
          "id": "160823048",
          "location": "pn6",
          "received": "14:55",
          "type": "assist req"
         },
         {
          "arrived": "15:14",
          "cleared": "16:18",
          "date": "08/23/16",
          "dispatched": "",
          "id": "160823049",
          "location": "pn13",
          "received": "14:59",
          "type": "welfare check"
         },
         {
          "arrived": "15:03",
          "cleared": "15:04",
          "date": "08/23/16",
          "dispatched": "",
          "id": "160823050",
          "location": "pn6",
          "received": "15:03",
          "type": "aband vehicle"
         },
         {
          "arrived": "15:14",
          "cleared": "15:29",
          "date": "08/23/16",
          "dispatched": "15:07",
          "id": "160823051",
          "location": "pn6",
          "received": "15:03",
          "type": "coll hit and ru"
         },
         {
          "arrived": "15:31",
          "cleared": "15:31",
          "date": "08/23/16",
          "dispatched": "",
          "id": "160823052",
          "location": "pn9",
          "received": "15:08",
          "type": "coll hit and ru"
         },
         {
          "arrived": "15:15",
          "cleared": "15:15",
          "date": "08/23/16",
          "dispatched": "",
          "id": "160823053",
          "location": "pn10",
          "received": "15:10",
          "type": "assist req"
         },
         {
          "arrived": "",
          "cleared": "15:49",
          "date": "08/23/16",
          "dispatched": "15:49",
          "id": "160823054",
          "location": "pn5",
          "received": "15:48",
          "type": "child abuse"
         },
         {
          "arrived": "",
          "cleared": "15:50",
          "date": "08/23/16",
          "dispatched": "15:50",
          "id": "160823055",
          "location": "pn5",
          "received": "15:49",
          "type": "child abuse"
         },
         {
          "arrived": "15:58",
          "cleared": "16:41",
          "date": "08/23/16",
          "dispatched": "15:54",
          "id": "160823056",
          "location": "pn6",
          "received": "15:54",
          "type": "coll inj"
         },
         {
          "arrived": "16:06",
          "cleared": "16:21",
          "date": "08/23/16",
          "dispatched": "16:01",
          "id": "160823057",
          "location": "pn9",
          "received": "15:55",
          "type": "assist req"
         },
         {
          "arrived": "16:17",
          "cleared": "17:01",
          "date": "08/23/16",
          "dispatched": "16:03",
          "id": "160823058",
          "location": "pn13",
          "received": "15:51",
          "type": "citizen dispute"
         },
         {
          "arrived": "16:19",
          "cleared": "16:19",
          "date": "08/23/16",
          "dispatched": "",
          "id": "160823059",
          "location": "lz0",
          "received": "16:15",
          "type": "traffic offense"
         },
         {
          "arrived": "16:25",
          "cleared": "16:37",
          "date": "08/23/16",
          "dispatched": "",
          "id": "160823060",
          "location": "pn2",
          "received": "16:23",
          "type": "9-1-1 abandon"
         },
         {
          "arrived": "17:07",
          "cleared": "17:10",
          "date": "08/23/16",
          "dispatched": "16:58",
          "id": "160823061",
          "location": "pn8",
          "received": "16:57",
          "type": "traffic hazard"
         },
         {
          "arrived": "17:16",
          "cleared": "17:17",
          "date": "08/23/16",
          "dispatched": "17:11",
          "id": "160823062",
          "location": "pn13",
          "received": "16:56",
          "type": "assist req"
         },
         {
          "arrived": "",
          "cleared": "17:15",
          "date": "08/23/16",
          "dispatched": "17:07",
          "id": "160823063",
          "location": "lz0",
          "received": "17:02",
          "type": "assist o police"
         },
         {
          "arrived": "17:34",
          "cleared": "17:35",
          "date": "08/23/16",
          "dispatched": "17:23",
          "id": "160823064",
          "location": "pn6",
          "received": "17:18",
          "type": "parking problem"
         },
         {
          "arrived": "18:07",
          "cleared": "18:23",
          "date": "08/23/16",
          "dispatched": "17:58",
          "id": "160823065",
          "location": "pn10",
          "received": "17:46",
          "type": "welfare check"
         },
         {
          "arrived": "19:07",
          "cleared": "19:09",
          "date": "08/23/16",
          "dispatched": "18:51",
          "id": "160823066",
          "location": "pn4",
          "received": "18:38",
          "type": "suspicious"
         },
         {
          "arrived": "19:14",
          "cleared": "19:22",
          "date": "08/23/16",
          "dispatched": "19:14",
          "id": "160823067",
          "location": "pn2",
          "received": "19:12",
          "type": "alarm audible"
         },
         {
          "arrived": "",
          "cleared": "19:18",
          "date": "08/23/16",
          "dispatched": "19:18",
          "id": "160823068",
          "location": "pn10",
          "received": "19:17",
          "type": "aband vehicle"
         },
         {
          "arrived": "20:06",
          "cleared": "20:18",
          "date": "08/23/16",
          "dispatched": "19:57",
          "id": "160823069",
          "location": "pn9",
          "received": "19:56",
          "type": "alarm audible"
         },
         {
          "arrived": "20:06",
          "cleared": "20:15",
          "date": "08/23/16",
          "dispatched": "20:05",
          "id": "160823070",
          "location": "pn5",
          "received": "20:04",
          "type": "alarm audible"
         },
         {
          "arrived": "",
          "cleared": "20:21",
          "date": "08/23/16",
          "dispatched": "20:21",
          "id": "160823071",
          "location": "pn13",
          "received": "20:18",
          "type": "assist o police"
         },
         {
          "arrived": "20:29",
          "cleared": "20:42",
          "date": "08/23/16",
          "dispatched": "20:25",
          "id": "160823072",
          "location": "pn13",
          "received": "20:24",
          "type": "coll non inj"
         },
         {
          "arrived": "20:36",
          "cleared": "20:40",
          "date": "08/23/16",
          "dispatched": "20:32",
          "id": "160823073",
          "location": "pn9",
          "received": "20:31",
          "type": "traffic hazard"
         },
         {
          "arrived": "21:06",
          "cleared": "23:24",
          "date": "08/23/16",
          "dispatched": "21:00",
          "id": "160823074",
          "location": "pn11",
          "received": "20:57",
          "type": "dui"
         },
         {
          "arrived": "",
          "cleared": "21:06",
          "date": "08/23/16",
          "dispatched": "21:03",
          "id": "160823075",
          "location": "pn2",
          "received": "21:02",
          "type": "towed vehicle"
         },
         {
          "arrived": "23:02",
          "cleared": "23:15",
          "date": "08/23/16",
          "dispatched": "22:51",
          "id": "160823076",
          "location": "pn2",
          "received": "22:50",
          "type": "noise party"
         },
         {
          "arrived": "23:05",
          "cleared": "23:12",
          "date": "08/23/16",
          "dispatched": "23:01",
          "id": "160823077",
          "location": "pn2",
          "received": "22:59",
          "type": "noise other"
         },
         {
          "arrived": "23:47",
          "cleared": "01:41",
          "date": "08/23/16",
          "dispatched": "23:38",
          "id": "160823078",
          "location": "pn13",
          "received": "23:36",
          "type": "suspicious"
         },
         {
          "arrived": "23:55",
          "cleared": "00:23",
          "date": "08/23/16",
          "dispatched": "23:51",
          "id": "160823079",
          "location": "pn1",
          "received": "23:50",
          "type": "9-1-1 abandon"
         },
         {
          "arrived": "00:37",
          "cleared": "00:48",
          "date": "08/24/16",
          "dispatched": "00:34",
          "id": "160824001",
          "location": "pn5",
          "received": "00:32",
          "type": "alcohol offense"
         },
         {
          "arrived": "00:53",
          "cleared": "00:57",
          "date": "08/24/16",
          "dispatched": "00:49",
          "id": "160824002",
          "location": "pn1",
          "received": "00:46",
          "type": "disorderly"
         },
         {
          "arrived": "00:48",
          "cleared": "00:51",
          "date": "08/24/16",
          "dispatched": "",
          "id": "160824003",
          "location": "pn5",
          "received": "00:48",
          "type": "alcohol offense"
         },
         {
          "arrived": "01:23",
          "cleared": "01:27",
          "date": "08/24/16",
          "dispatched": "01:16",
          "id": "160824004",
          "location": "pn2",
          "received": "01:15",
          "type": "noise party"
         },
         {
          "arrived": "01:54",
          "cleared": "03:15",
          "date": "08/24/16",
          "dispatched": "",
          "id": "160824005",
          "location": "pn5",
          "received": "01:54",
          "type": "dui"
         },
         {
          "arrived": "02:03",
          "cleared": "02:06",
          "date": "08/24/16",
          "dispatched": "02:02",
          "id": "160824006",
          "location": "pn6",
          "received": "02:00",
          "type": "noise party"
         },
         {
          "arrived": "02:28",
          "cleared": "02:34",
          "date": "08/24/16",
          "dispatched": "02:21",
          "id": "160824007",
          "location": "pn13",
          "received": "02:20",
          "type": "alarm audible"
         },
         {
          "arrived": "03:39",
          "cleared": "03:53",
          "date": "08/24/16",
          "dispatched": "03:33",
          "id": "160824008",
          "location": "pn7",
          "received": "03:31",
          "type": "suspicious"
         },
         {
          "arrived": "04:01",
          "cleared": "04:10",
          "date": "08/24/16",
          "dispatched": "03:56",
          "id": "160824009",
          "location": "pn1",
          "received": "03:54",
          "type": "alarm audible"
         },
         {
          "arrived": "04:30",
          "cleared": "04:32",
          "date": "08/24/16",
          "dispatched": "04:24",
          "id": "160824010",
          "location": "pn2",
          "received": "04:23",
          "type": "parking problem"
         },
         {
          "arrived": "05:16",
          "cleared": "05:20",
          "date": "08/24/16",
          "dispatched": "05:09",
          "id": "160824011",
          "location": "pn8",
          "received": "05:05",
          "type": "noise other"
         },
         {
          "arrived": "05:39",
          "cleared": "05:43",
          "date": "08/24/16",
          "dispatched": "05:35",
          "id": "160824012",
          "location": "pn6",
          "received": "05:33",
          "type": "noise party"
         },
         {
          "arrived": "",
          "cleared": "07:10",
          "date": "08/10/16",
          "dispatched": "07:08",
          "id": "160810011",
          "location": "pn7",
          "received": "07:06",
          "type": "9-1-1 abandon"
         },
         {
          "arrived": "07:24",
          "cleared": "07:34",
          "date": "08/10/16",
          "dispatched": "07:09",
          "id": "160810012",
          "location": "pn1",
          "received": "07:06",
          "type": "alarm audible"
         },
         {
          "arrived": "",
          "cleared": "08:22",
          "date": "08/10/16",
          "dispatched": "08:20",
          "id": "160810013",
          "location": "pn5",
          "received": "08:19",
          "type": "alarm audible"
         },
         {
          "arrived": "08:39",
          "cleared": "08:56",
          "date": "08/10/16",
          "dispatched": "08:38",
          "id": "160810014",
          "location": "pn13",
          "received": "08:34",
          "type": "trespassing"
         },
         {
          "arrived": "09:35",
          "cleared": "09:44",
          "date": "08/10/16",
          "dispatched": "",
          "id": "160810015",
          "location": "pn2",
          "received": "08:36",
          "type": "parking problem"
         },
         {
          "arrived": "08:51",
          "cleared": "08:52",
          "date": "08/10/16",
          "dispatched": "08:41",
          "id": "160810016",
          "location": "pn8",
          "received": "08:40",
          "type": "traffic hazard"
         },
         {
          "arrived": "09:40",
          "cleared": "13:02",
          "date": "08/10/16",
          "dispatched": "09:24",
          "id": "160810017",
          "location": "pn12",
          "received": "09:13",
          "type": "burg com"
         },
         {
          "arrived": "09:24",
          "cleared": "09:27",
          "date": "08/10/16",
          "dispatched": "09:24",
          "id": "160810018",
          "location": "pn13",
          "received": "09:21",
          "type": "traffic hazard"
         },
         {
          "arrived": "09:47",
          "cleared": "10:02",
          "date": "08/10/16",
          "dispatched": "09:35",
          "id": "160810019",
          "location": "pn11",
          "received": "09:32",
          "type": "mc-camping"
         },
         {
          "arrived": "09:53",
          "cleared": "10:39",
          "date": "08/10/16",
          "dispatched": "09:43",
          "id": "160810020",
          "location": "pn5",
          "received": "09:41",
          "type": "burg com"
         },
         {
          "arrived": "",
          "cleared": "10:13",
          "date": "08/10/16",
          "dispatched": "10:12",
          "id": "160810021",
          "location": "pn9",
          "received": "10:11",
          "type": "aband vehicle"
         },
         {
          "arrived": "10:56",
          "cleared": "11:17",
          "date": "08/10/16",
          "dispatched": "10:52",
          "id": "160810022",
          "location": "pn11",
          "received": "10:47",
          "type": "welfare check"
         },
         {
          "arrived": "11:21",
          "cleared": "11:25",
          "date": "08/10/16",
          "dispatched": "11:13",
          "id": "160810023",
          "location": "pn8",
          "received": "11:10",
          "type": "assist o police"
         },
         {
          "arrived": "11:27",
          "cleared": "11:35",
          "date": "08/10/16",
          "dispatched": "11:25",
          "id": "160810024",
          "location": "pn5",
          "received": "11:24",
          "type": "traffic hazard"
         },
         {
          "arrived": "11:27",
          "cleared": "12:00",
          "date": "08/10/16",
          "dispatched": "",
          "id": "160810025",
          "location": "pn1",
          "received": "11:26",
          "type": "assist req"
         },
         {
          "arrived": "11:40",
          "cleared": "11:40",
          "date": "08/10/16",
          "dispatched": "11:33",
          "id": "160810026",
          "location": "pn5",
          "received": "11:28",
          "type": "theft"
         },
         {
          "arrived": "",
          "cleared": "12:02",
          "date": "08/10/16",
          "dispatched": "11:51",
          "id": "160810027",
          "location": "pn5",
          "received": "11:50",
          "type": "coll non inj"
         },
         {
          "arrived": "12:17",
          "cleared": "13:42",
          "date": "08/10/16",
          "dispatched": "",
          "id": "160810028",
          "location": "pn6",
          "received": "12:16",
          "type": "medical"
         },
         {
          "arrived": "12:37",
          "cleared": "12:41",
          "date": "08/10/16",
          "dispatched": "12:33",
          "id": "160810029",
          "location": "pn5",
          "received": "12:30",
          "type": "suspicious"
         },
         {
          "arrived": "12:40",
          "cleared": "12:42",
          "date": "08/10/16",
          "dispatched": "12:38",
          "id": "160810030",
          "location": "pn5",
          "received": "12:35",
          "type": "traffic hazard"
         },
         {
          "arrived": "12:47",
          "cleared": "12:50",
          "date": "08/10/16",
          "dispatched": "12:44",
          "id": "160810031",
          "location": "pn6",
          "received": "12:37",
          "type": "suspicious"
         },
         {
          "arrived": "12:48",
          "cleared": "12:58",
          "date": "08/10/16",
          "dispatched": "",
          "id": "160810032",
          "location": "pn5",
          "received": "12:43",
          "type": "trespassing"
         },
         {
          "arrived": "",
          "cleared": "12:51",
          "date": "08/10/16",
          "dispatched": "12:50",
          "id": "160810033",
          "location": "pn8",
          "received": "12:47",
          "type": "traffic offense"
         },
         {
          "arrived": "",
          "cleared": "12:50",
          "date": "08/10/16",
          "dispatched": "12:50",
          "id": "160810034",
          "location": "pn5",
          "received": "12:49",
          "type": "child abuse"
         },
         {
          "arrived": "",
          "cleared": "12:51",
          "date": "08/10/16",
          "dispatched": "12:51",
          "id": "160810035",
          "location": "pn5",
          "received": "12:50",
          "type": "child abuse"
         },
         {
          "arrived": "13:05",
          "cleared": "13:31",
          "date": "08/10/16",
          "dispatched": "",
          "id": "160810036",
          "location": "pn10",
          "received": "13:05",
          "type": "traffic offense"
         },
         {
          "arrived": "13:18",
          "cleared": "13:46",
          "date": "08/10/16",
          "dispatched": "13:16",
          "id": "160810037",
          "location": "pn8",
          "received": "13:14",
          "type": "assist req"
         },
         {
          "arrived": "",
          "cleared": "13:51",
          "date": "08/10/16",
          "dispatched": "",
          "id": "160810038",
          "location": "pn10",
          "received": "13:31",
          "type": "controlled narc"
         },
         {
          "arrived": "13:59",
          "cleared": "14:09",
          "date": "08/10/16",
          "dispatched": "",
          "id": "160810039",
          "location": "pn5",
          "received": "13:59",
          "type": "alcohol offense"
         },
         {
          "arrived": "15:19",
          "cleared": "15:31",
          "date": "08/10/16",
          "dispatched": "15:13",
          "id": "160810040",
          "location": "pn1",
          "received": "14:23",
          "type": "trespassing"
         },
         {
          "arrived": "14:37",
          "cleared": "14:40",
          "date": "08/10/16",
          "dispatched": "14:31",
          "id": "160810041",
          "location": "pn6",
          "received": "14:27",
          "type": "coll non inj"
         },
         {
          "arrived": "14:47",
          "cleared": "14:51",
          "date": "08/10/16",
          "dispatched": "14:47",
          "id": "160810042",
          "location": "pn9",
          "received": "14:44",
          "type": "alarm audible"
         },
         {
          "arrived": "14:55",
          "cleared": "17:43",
          "date": "08/10/16",
          "dispatched": "14:47",
          "id": "160810043",
          "location": "pn5",
          "received": "14:41",
          "type": "sex offense"
         },
         {
          "arrived": "15:13",
          "cleared": "15:30",
          "date": "08/10/16",
          "dispatched": "15:10",
          "id": "160810044",
          "location": "pn6",
          "received": "15:05",
          "type": "theft"
         },
         {
          "arrived": "",
          "cleared": "15:42",
          "date": "08/10/16",
          "dispatched": "15:32",
          "id": "160810045",
          "location": "pn13",
          "received": "15:27",
          "type": "suspicious"
         },
         {
          "arrived": "15:59",
          "cleared": "16:05",
          "date": "08/10/16",
          "dispatched": "15:57",
          "id": "160810046",
          "location": "pn6",
          "received": "15:53",
          "type": "disorderly"
         },
         {
          "arrived": "16:05",
          "cleared": "16:05",
          "date": "08/10/16",
          "dispatched": "16:00",
          "id": "160810047",
          "location": "pn12",
          "received": "15:53",
          "type": "theft"
         },
         {
          "arrived": "16:05",
          "cleared": "16:08",
          "date": "08/10/16",
          "dispatched": "15:59",
          "id": "160810048",
          "location": "pn10",
          "received": "15:57",
          "type": "disorderly"
         },
         {
          "arrived": "16:13",
          "cleared": "16:24",
          "date": "08/10/16",
          "dispatched": "16:06",
          "id": "160810049",
          "location": "pn8",
          "received": "16:01",
          "type": "suspicious"
         },
         {
          "arrived": "16:17",
          "cleared": "16:45",
          "date": "08/10/16",
          "dispatched": "16:12",
          "id": "160810050",
          "location": "pn2",
          "received": "16:07",
          "type": "welfare check"
         },
         {
          "arrived": "16:19",
          "cleared": "16:47",
          "date": "08/10/16",
          "dispatched": "16:14",
          "id": "160810051",
          "location": "pn2",
          "received": "16:08",
          "type": "theft"
         },
         {
          "arrived": "16:31",
          "cleared": "16:34",
          "date": "08/10/16",
          "dispatched": "",
          "id": "160810052",
          "location": "pn1",
          "received": "16:17",
          "type": "suspicious"
         },
         {
          "arrived": "16:48",
          "cleared": "17:00",
          "date": "08/10/16",
          "dispatched": "16:44",
          "id": "160810053",
          "location": "pn7",
          "received": "16:39",
          "type": "controlled narc"
         },
         {
          "arrived": "17:05",
          "cleared": "17:10",
          "date": "08/10/16",
          "dispatched": "",
          "id": "160810054",
          "location": "pn6",
          "received": "17:05",
          "type": "mc-camping"
         },
         {
          "arrived": "17:22",
          "cleared": "17:31",
          "date": "08/10/16",
          "dispatched": "17:09",
          "id": "160810055",
          "location": "pn13",
          "received": "17:03",
          "type": "suspicious"
         },
         {
          "arrived": "17:31",
          "cleared": "17:36",
          "date": "08/10/16",
          "dispatched": "17:31",
          "id": "160810056",
          "location": "pn9",
          "received": "17:23",
          "type": "suspicious"
         },
         {
          "arrived": "17:42",
          "cleared": "17:47",
          "date": "08/10/16",
          "dispatched": "17:36",
          "id": "160810057",
          "location": "pn1",
          "received": "17:33",
          "type": "disorderly"
         },
         {
          "arrived": "17:46",
          "cleared": "17:51",
          "date": "08/10/16",
          "dispatched": "17:40",
          "id": "160810058",
          "location": "pn5",
          "received": "17:33",
          "type": "loitering"
         },
         {
          "arrived": "18:29",
          "cleared": "18:53",
          "date": "08/10/16",
          "dispatched": "18:27",
          "id": "160810059",
          "location": "pn12",
          "received": "18:16",
          "type": "theft"
         },
         {
          "arrived": "19:17",
          "cleared": "20:09",
          "date": "08/10/16",
          "dispatched": "19:07",
          "id": "160810060",
          "location": "pn2",
          "received": "18:53",
          "type": "coll non inj"
         },
         {
          "arrived": "19:25",
          "cleared": "19:25",
          "date": "08/10/16",
          "dispatched": "",
          "id": "160810061",
          "location": "pn3",
          "received": "18:59",
          "type": "posting vehs"
         },
         {
          "arrived": "19:23",
          "cleared": "19:23",
          "date": "08/10/16",
          "dispatched": "19:07",
          "id": "160810062",
          "location": "pn2",
          "received": "18:57",
          "type": "posting vehs"
         },
         {
          "arrived": "",
          "cleared": "19:11",
          "date": "08/10/16",
          "dispatched": "19:10",
          "id": "160810063",
          "location": "pn6",
          "received": "19:08",
          "type": "alarm audible"
         },
         {
          "arrived": "19:29",
          "cleared": "20:27",
          "date": "08/10/16",
          "dispatched": "19:25",
          "id": "160810064",
          "location": "pn1",
          "received": "19:16",
          "type": "coll hit and ru"
         },
         {
          "arrived": "19:32",
          "cleared": "19:41",
          "date": "08/10/16",
          "dispatched": "",
          "id": "160810065",
          "location": "pn2",
          "received": "19:27",
          "type": "loitering"
         },
         {
          "arrived": "19:51",
          "cleared": "20:01",
          "date": "08/10/16",
          "dispatched": "19:48",
          "id": "160810066",
          "location": "pn11",
          "received": "19:45",
          "type": "alcohol offense"
         },
         {
          "arrived": "",
          "cleared": "20:07",
          "date": "08/10/16",
          "dispatched": "20:07",
          "id": "160810067",
          "location": "pn11",
          "received": "19:59",
          "type": "traffic offense"
         },
         {
          "arrived": "20:34",
          "cleared": "20:59",
          "date": "08/10/16",
          "dispatched": "20:33",
          "id": "160810068",
          "location": "pn5",
          "received": "20:31",
          "type": "alarm audible"
         },
         {
          "arrived": "20:58",
          "cleared": "21:10",
          "date": "08/10/16",
          "dispatched": "20:43",
          "id": "160810069",
          "location": "pn8",
          "received": "20:34",
          "type": "communications"
         },
         {
          "arrived": "21:03",
          "cleared": "21:39",
          "date": "08/10/16",
          "dispatched": "20:55",
          "id": "160810070",
          "location": "pn8",
          "received": "20:45",
          "type": "citizen dispute"
         },
         {
          "arrived": "22:06",
          "cleared": "22:17",
          "date": "08/10/16",
          "dispatched": "21:50",
          "id": "160810071",
          "location": "pn8",
          "received": "21:48",
          "type": "noise party"
         },
         {
          "arrived": "22:19",
          "cleared": "22:30",
          "date": "08/10/16",
          "dispatched": "22:05",
          "id": "160810072",
          "location": "pn9",
          "received": "21:41",
          "type": "welfare check"
         },
         {
          "arrived": "22:29",
          "cleared": "23:37",
          "date": "08/10/16",
          "dispatched": "22:19",
          "id": "160810073",
          "location": "pn6",
          "received": "22:16",
          "type": "burg res"
         },
         {
          "arrived": "22:28",
          "cleared": "23:16",
          "date": "08/10/16",
          "dispatched": "22:25",
          "id": "160810074",
          "location": "pn6",
          "received": "22:21",
          "type": "mental subj"
         },
         {
          "arrived": "22:53",
          "cleared": "22:54",
          "date": "08/10/16",
          "dispatched": "",
          "id": "160810075",
          "location": "pn2",
          "received": "22:33",
          "type": "welfare check"
         },
         {
          "arrived": "22:57",
          "cleared": "23:13",
          "date": "08/10/16",
          "dispatched": "22:54",
          "id": "160810076",
          "location": "pn13",
          "received": "22:31",
          "type": "assist req"
         },
         {
          "arrived": "22:56",
          "cleared": "22:53",
          "date": "08/10/16",
          "dispatched": "22:53",
          "id": "160810077",
          "location": "pn6",
          "received": "22:45",
          "type": "assist req"
         },
         {
          "arrived": "22:50",
          "cleared": "23:01",
          "date": "08/10/16",
          "dispatched": "",
          "id": "160810078",
          "location": "pn5",
          "received": "22:50",
          "type": "controlled narc"
         },
         {
          "arrived": "23:28",
          "cleared": "23:36",
          "date": "08/10/16",
          "dispatched": "23:24",
          "id": "160810079",
          "location": "pn1",
          "received": "23:09",
          "type": "animal problem"
         },
         {
          "arrived": "23:39",
          "cleared": "23:42",
          "date": "08/10/16",
          "dispatched": "23:39",
          "id": "160810080",
          "location": "pn7",
          "received": "23:35",
          "type": "suspicious"
         },
         {
          "arrived": "23:52",
          "cleared": "00:10",
          "date": "08/10/16",
          "dispatched": "23:51",
          "id": "160810081",
          "location": "pn6",
          "received": "23:50",
          "type": "traffic hazard"
         },
         {
          "arrived": "00:09",
          "cleared": "00:16",
          "date": "08/11/16",
          "dispatched": "00:02",
          "id": "160811001",
          "location": "pn10",
          "received": "00:00",
          "type": "noise other"
         },
         {
          "arrived": "00:42",
          "cleared": "01:00",
          "date": "08/11/16",
          "dispatched": "",
          "id": "160811002",
          "location": "pn5",
          "received": "00:42",
          "type": "dui"
         },
         {
          "arrived": "01:17",
          "cleared": "02:37",
          "date": "08/11/16",
          "dispatched": "",
          "id": "160811003",
          "location": "pn7",
          "received": "01:17",
          "type": "dui"
         },
         {
          "arrived": "01:50",
          "cleared": "02:40",
          "date": "08/11/16",
          "dispatched": "",
          "id": "160811004",
          "location": "pn10",
          "received": "01:50",
          "type": "dui"
         },
         {
          "arrived": "02:28",
          "cleared": "02:31",
          "date": "08/11/16",
          "dispatched": "",
          "id": "160811005",
          "location": "pn10",
          "received": "01:54",
          "type": "noise party"
         },
         {
          "arrived": "04:00",
          "cleared": "04:11",
          "date": "08/11/16",
          "dispatched": "03:50",
          "id": "160811006",
          "location": "pn7",
          "received": "03:48",
          "type": "noise other"
         },
         {
          "arrived": "04:32",
          "cleared": "04:36",
          "date": "08/11/16",
          "dispatched": "04:29",
          "id": "160811007",
          "location": "pn2",
          "received": "04:27",
          "type": "noise other"
         },
         {
          "arrived": "06:06",
          "cleared": "06:10",
          "date": "08/11/16",
          "dispatched": "05:58",
          "id": "160811008",
          "location": "pn12",
          "received": "05:57",
          "type": "alarm audible"
         },
         {
          "arrived": "",
          "cleared": "07:56",
          "date": "08/24/16",
          "dispatched": "07:55",
          "id": "160824013",
          "location": "pn7",
          "received": "07:54",
          "type": "aband vehicle"
         },
         {
          "arrived": "08:12",
          "cleared": "08:14",
          "date": "08/24/16",
          "dispatched": "08:05",
          "id": "160824014",
          "location": "pn12",
          "received": "08:02",
          "type": "9-1-1 abandon"
         },
         {
          "arrived": "",
          "cleared": "08:37",
          "date": "08/24/16",
          "dispatched": "08:36",
          "id": "160824015",
          "location": "pn6",
          "received": "08:33",
          "type": "aband vehicle"
         },
         {
          "arrived": "",
          "cleared": "08:38",
          "date": "08/24/16",
          "dispatched": "08:37",
          "id": "160824016",
          "location": "pn6",
          "received": "08:35",
          "type": "aband vehicle"
         },
         {
          "arrived": "09:00",
          "cleared": "09:04",
          "date": "08/24/16",
          "dispatched": "08:50",
          "id": "160824017",
          "location": "pn1",
          "received": "08:49",
          "type": "juvenile prob"
         },
         {
          "arrived": "",
          "cleared": "08:56",
          "date": "08/24/16",
          "dispatched": "08:53",
          "id": "160824018",
          "location": "pn13",
          "received": "08:52",
          "type": "aband vehicle"
         },
         {
          "arrived": "",
          "cleared": "08:58",
          "date": "08/24/16",
          "dispatched": "08:56",
          "id": "160824019",
          "location": "pn7",
          "received": "08:56",
          "type": "aband vehicle"
         },
         {
          "arrived": "",
          "cleared": "09:02",
          "date": "08/24/16",
          "dispatched": "09:00",
          "id": "160824020",
          "location": "pn7",
          "received": "08:59",
          "type": "aband vehicle"
         },
         {
          "arrived": "",
          "cleared": "09:05",
          "date": "08/24/16",
          "dispatched": "09:03",
          "id": "160824021",
          "location": "pn6",
          "received": "09:03",
          "type": "aband vehicle"
         },
         {
          "arrived": "",
          "cleared": "09:08",
          "date": "08/24/16",
          "dispatched": "09:05",
          "id": "160824022",
          "location": "pn10",
          "received": "09:05",
          "type": "aband vehicle"
         },
         {
          "arrived": "",
          "cleared": "09:31",
          "date": "08/24/16",
          "dispatched": "09:13",
          "id": "160824023",
          "location": "pn7",
          "received": "09:08",
          "type": "aband vehicle"
         },
         {
          "arrived": "",
          "cleared": "09:28",
          "date": "08/24/16",
          "dispatched": "09:17",
          "id": "160824024",
          "location": "pn6",
          "received": "09:13",
          "type": "assist req"
         },
         {
          "arrived": "09:43",
          "cleared": "09:45",
          "date": "08/24/16",
          "dispatched": "09:21",
          "id": "160824025",
          "location": "pn5",
          "received": "09:15",
          "type": "fraud"
         },
         {
          "arrived": "09:28",
          "cleared": "11:02",
          "date": "08/24/16",
          "dispatched": "09:23",
          "id": "160824026",
          "location": "pn5",
          "received": "09:21",
          "type": "coll hit and ru"
         },
         {
          "arrived": "",
          "cleared": "09:37",
          "date": "08/24/16",
          "dispatched": "09:37",
          "id": "160824027",
          "location": "pn13",
          "received": "09:35",
          "type": "disorderly"
         },
         {
          "arrived": "09:42",
          "cleared": "09:58",
          "date": "08/24/16",
          "dispatched": "",
          "id": "160824028",
          "location": "pn10",
          "received": "09:37",
          "type": "disorderly"
         },
         {
          "arrived": "10:01",
          "cleared": "10:30",
          "date": "08/24/16",
          "dispatched": "09:56",
          "id": "160824029",
          "location": "pn5",
          "received": "09:52",
          "type": "mc-alcohol"
         },
         {
          "arrived": "",
          "cleared": "10:18",
          "date": "08/24/16",
          "dispatched": "10:17",
          "id": "160824030",
          "location": "pn12",
          "received": "10:00",
          "type": "9-1-1 abandon"
         },
         {
          "arrived": "10:24",
          "cleared": "10:18",
          "date": "08/24/16",
          "dispatched": "10:11",
          "id": "160824031",
          "location": "pn9",
          "received": "09:59",
          "type": "assist req"
         },
         {
          "arrived": "10:33",
          "cleared": "10:18",
          "date": "08/24/16",
          "dispatched": "10:08",
          "id": "160824032",
          "location": "pn2",
          "received": "09:59",
          "type": "posting vehs"
         },
         {
          "arrived": "10:43",
          "cleared": "10:53",
          "date": "08/24/16",
          "dispatched": "",
          "id": "160824033",
          "location": "pn5",
          "received": "10:03",
          "type": "posting vehs"
         },
         {
          "arrived": "10:19",
          "cleared": "10:26",
          "date": "08/24/16",
          "dispatched": "",
          "id": "160824034",
          "location": "pn2",
          "received": "10:04",
          "type": "posting vehs"
         },
         {
          "arrived": "",
          "cleared": "10:21",
          "date": "08/24/16",
          "dispatched": "10:17",
          "id": "160824035",
          "location": "pn6",
          "received": "10:16",
          "type": "aband vehicle"
         },
         {
          "arrived": "",
          "cleared": "10:22",
          "date": "08/24/16",
          "dispatched": "10:21",
          "id": "160824036",
          "location": "pn4",
          "received": "10:19",
          "type": "traffic offense"
         },
         {
          "arrived": "10:29",
          "cleared": "10:45",
          "date": "08/24/16",
          "dispatched": "10:24",
          "id": "160824037",
          "location": "pn6",
          "received": "10:20",
          "type": "found property"
         },
         {
          "arrived": "10:57",
          "cleared": "11:10",
          "date": "08/24/16",
          "dispatched": "10:51",
          "id": "160824038",
          "location": "pn13",
          "received": "10:49",
          "type": "suspicious"
         },
         {
          "arrived": "11:09",
          "cleared": "11:20",
          "date": "08/24/16",
          "dispatched": "11:01",
          "id": "160824039",
          "location": "pn7",
          "received": "10:56",
          "type": "found property"
         },
         {
          "arrived": "11:06",
          "cleared": "11:12",
          "date": "08/24/16",
          "dispatched": "",
          "id": "160824040",
          "location": "pn11",
          "received": "11:06",
          "type": "suspicious"
         },
         {
          "arrived": "11:28",
          "cleared": "11:37",
          "date": "08/24/16",
          "dispatched": "11:21",
          "id": "160824041",
          "location": "pn10",
          "received": "11:16",
          "type": "assist req"
         },
         {
          "arrived": "",
          "cleared": "11:26",
          "date": "08/24/16",
          "dispatched": "11:25",
          "id": "160824042",
          "location": "pn5",
          "received": "11:23",
          "type": "parking problem"
         },
         {
          "arrived": "11:48",
          "cleared": "12:34",
          "date": "08/24/16",
          "dispatched": "11:36",
          "id": "160824043",
          "location": "pn10",
          "received": "11:24",
          "type": "attempt-locate"
         },
         {
          "arrived": "11:58",
          "cleared": "12:26",
          "date": "08/24/16",
          "dispatched": "11:41",
          "id": "160824044",
          "location": "pn6",
          "received": "11:35",
          "type": "theft"
         },
         {
          "arrived": "11:40",
          "cleared": "11:57",
          "date": "08/24/16",
          "dispatched": "",
          "id": "160824045",
          "location": "pn10",
          "received": "11:40",
          "type": "suspicious"
         },
         {
          "arrived": "12:22",
          "cleared": "12:25",
          "date": "08/24/16",
          "dispatched": "11:42",
          "id": "160824046",
          "location": "pn10",
          "received": "11:36",
          "type": "threatening"
         },
         {
          "arrived": "",
          "cleared": "11:45",
          "date": "08/24/16",
          "dispatched": "11:45",
          "id": "160824047",
          "location": "pn2",
          "received": "11:44",
          "type": "aband vehicle"
         },
         {
          "arrived": "12:18",
          "cleared": "12:26",
          "date": "08/24/16",
          "dispatched": "12:18",
          "id": "160824048",
          "location": "pn11",
          "received": "12:14",
          "type": "suspicious"
         },
         {
          "arrived": "",
          "cleared": "12:18",
          "date": "08/24/16",
          "dispatched": "12:17",
          "id": "160824049",
          "location": "pn6",
          "received": "12:16",
          "type": "9-1-1 abandon"
         },
         {
          "arrived": "12:43",
          "cleared": "13:03",
          "date": "08/24/16",
          "dispatched": "12:40",
          "id": "160824050",
          "location": "pn5",
          "received": "12:38",
          "type": "welfare check"
         },
         {
          "arrived": "12:45",
          "cleared": "12:54",
          "date": "08/24/16",
          "dispatched": "12:43",
          "id": "160824051",
          "location": "pn2",
          "received": "12:40",
          "type": "traffic hazard"
         },
         {
          "arrived": "",
          "cleared": "12:46",
          "date": "08/24/16",
          "dispatched": "12:45",
          "id": "160824052",
          "location": "pn10",
          "received": "12:44",
          "type": "aband vehicle"
         },
         {
          "arrived": "13:10",
          "cleared": "13:17",
          "date": "08/24/16",
          "dispatched": "13:03",
          "id": "160824053",
          "location": "pn9",
          "received": "12:50",
          "type": "welfare check"
         },
         {
          "arrived": "12:58",
          "cleared": "14:17",
          "date": "08/24/16",
          "dispatched": "",
          "id": "160824054",
          "location": "pn6",
          "received": "12:58",
          "type": "warrant"
         },
         {
          "arrived": "13:25",
          "cleared": "13:46",
          "date": "08/24/16",
          "dispatched": "13:18",
          "id": "160824055",
          "location": "pn13",
          "received": "13:13",
          "type": "assist req"
         },
         {
          "arrived": "13:31",
          "cleared": "13:34",
          "date": "08/24/16",
          "dispatched": "13:23",
          "id": "160824056",
          "location": "pn5",
          "received": "13:19",
          "type": "muni code viol"
         },
         {
          "arrived": "13:42",
          "cleared": "13:42",
          "date": "08/24/16",
          "dispatched": "",
          "id": "160824057",
          "location": "pn5",
          "received": "13:24",
          "type": "mc-smoking"
         },
         {
          "arrived": "13:34",
          "cleared": "13:35",
          "date": "08/24/16",
          "dispatched": "",
          "id": "160824058",
          "location": "pn5",
          "received": "13:34",
          "type": "controlled narc"
         },
         {
          "arrived": "14:16",
          "cleared": "14:26",
          "date": "08/24/16",
          "dispatched": "",
          "id": "160824059",
          "location": "pn10",
          "received": "13:58",
          "type": "found property"
         },
         {
          "arrived": "14:21",
          "cleared": "14:25",
          "date": "08/24/16",
          "dispatched": "14:16",
          "id": "160824060",
          "location": "pn5",
          "received": "14:15",
          "type": "alarm silent"
         },
         {
          "arrived": "",
          "cleared": "14:22",
          "date": "08/24/16",
          "dispatched": "14:22",
          "id": "160824061",
          "location": "pn9",
          "received": "14:19",
          "type": "aband vehicle"
         },
         {
          "arrived": "",
          "cleared": "14:41",
          "date": "08/24/16",
          "dispatched": "14:36",
          "id": "160824062",
          "location": "pn3",
          "received": "14:25",
          "type": "assist req"
         },
         {
          "arrived": "14:56",
          "cleared": "15:41",
          "date": "08/24/16",
          "dispatched": "14:37",
          "id": "160824063",
          "location": "pn6",
          "received": "14:34",
          "type": "theft"
         },
         {
          "arrived": "14:47",
          "cleared": "15:02",
          "date": "08/24/16",
          "dispatched": "14:39",
          "id": "160824064",
          "location": "pn5",
          "received": "14:37",
          "type": "welfare check"
         },
         {
          "arrived": "14:48",
          "cleared": "15:00",
          "date": "08/24/16",
          "dispatched": "",
          "id": "160824065",
          "location": "pn1",
          "received": "14:43",
          "type": "welfare check"
         },
         {
          "arrived": "15:11",
          "cleared": "15:16",
          "date": "08/24/16",
          "dispatched": "15:05",
          "id": "160824066",
          "location": "pn6",
          "received": "15:02",
          "type": "posting vehs"
         },
         {
          "arrived": "15:16",
          "cleared": "15:43",
          "date": "08/24/16",
          "dispatched": "",
          "id": "160824067",
          "location": "pn1",
          "received": "15:09",
          "type": "assist req"
         },
         {
          "arrived": "15:25",
          "cleared": "15:35",
          "date": "08/24/16",
          "dispatched": "",
          "id": "160824068",
          "location": "pn5",
          "received": "15:16",
          "type": "coll non inj"
         },
         {
          "arrived": "15:41",
          "cleared": "16:15",
          "date": "08/24/16",
          "dispatched": "",
          "id": "160824069",
          "location": "pn8",
          "received": "15:21",
          "type": "coll hit and ru"
         },
         {
          "arrived": "",
          "cleared": "15:35",
          "date": "08/24/16",
          "dispatched": "15:32",
          "id": "160824070",
          "location": "pn6",
          "received": "15:29",
          "type": "alarm audible"
         },
         {
          "arrived": "15:35",
          "cleared": "15:43",
          "date": "08/24/16",
          "dispatched": "",
          "id": "160824071",
          "location": "pn5",
          "received": "15:35",
          "type": "traffic offense"
         },
         {
          "arrived": "16:01",
          "cleared": "16:25",
          "date": "08/24/16",
          "dispatched": "16:35",
          "id": "160824072",
          "location": "pn1",
          "received": "16:01",
          "type": "found property"
         },
         {
          "arrived": "16:29",
          "cleared": "16:25",
          "date": "08/24/16",
          "dispatched": "16:19",
          "id": "160824073",
          "location": "pn13",
          "received": "16:17",
          "type": "disorderly"
         },
         {
          "arrived": "16:25",
          "cleared": "16:25",
          "date": "08/24/16",
          "dispatched": "",
          "id": "160824074",
          "location": "pn1",
          "received": "16:23",
          "type": "suspicious"
         },
         {
          "arrived": "",
          "cleared": "16:38",
          "date": "08/24/16",
          "dispatched": "16:35",
          "id": "160824075",
          "location": "pn8",
          "received": "16:33",
          "type": "aband vehicle"
         },
         {
          "arrived": "",
          "cleared": "16:38",
          "date": "08/24/16",
          "dispatched": "16:38",
          "id": "160824076",
          "location": "pn2",
          "received": "16:37",
          "type": "9-1-1 abandon"
         },
         {
          "arrived": "",
          "cleared": "17:25",
          "date": "08/24/16",
          "dispatched": "17:24",
          "id": "160824077",
          "location": "pn12",
          "received": "17:14",
          "type": "assist req"
         },
         {
          "arrived": "17:38",
          "cleared": "17:40",
          "date": "08/24/16",
          "dispatched": "17:31",
          "id": "160824078",
          "location": "pn8",
          "received": "17:26",
          "type": "mc-alcohol"
         },
         {
          "arrived": "17:37",
          "cleared": "17:46",
          "date": "08/24/16",
          "dispatched": "17:33",
          "id": "160824079",
          "location": "pn10",
          "received": "17:25",
          "type": "suspicious"
         },
         {
          "arrived": "17:59",
          "cleared": "18:06",
          "date": "08/24/16",
          "dispatched": "17:50",
          "id": "160824080",
          "location": "pn9",
          "received": "17:30",
          "type": "keep the peace"
         },
         {
          "arrived": "18:00",
          "cleared": "18:10",
          "date": "08/24/16",
          "dispatched": "17:53",
          "id": "160824081",
          "location": "pn10",
          "received": "17:52",
          "type": "disorderly"
         },
         {
          "arrived": "17:57",
          "cleared": "17:59",
          "date": "08/24/16",
          "dispatched": "",
          "id": "160824082",
          "location": "pn8",
          "received": "17:57",
          "type": "aband vehicle"
         },
         {
          "arrived": "18:01",
          "cleared": "18:02",
          "date": "08/24/16",
          "dispatched": "",
          "id": "160824083",
          "location": "pn8",
          "received": "18:00",
          "type": "aband vehicle"
         },
         {
          "arrived": "18:22",
          "cleared": "18:25",
          "date": "08/24/16",
          "dispatched": "18:15",
          "id": "160824084",
          "location": "pn9",
          "received": "18:13",
          "type": "9-1-1 abandon"
         },
         {
          "arrived": "18:26",
          "cleared": "18:44",
          "date": "08/24/16",
          "dispatched": "18:20",
          "id": "160824085",
          "location": "pn8",
          "received": "18:05",
          "type": "assault"
         },
         {
          "arrived": "18:22",
          "cleared": "18:23",
          "date": "08/24/16",
          "dispatched": "",
          "id": "160824086",
          "location": "pn3",
          "received": "18:04",
          "type": "aband vehicle"
         },
         {
          "arrived": "19:20",
          "cleared": "19:39",
          "date": "08/24/16",
          "dispatched": "18:57",
          "id": "160824087",
          "location": "pn13",
          "received": "18:34",
          "type": "trespassing"
         },
         {
          "arrived": "19:22",
          "cleared": "19:31",
          "date": "08/24/16",
          "dispatched": "18:58",
          "id": "160824088",
          "location": "pn12",
          "received": "18:46",
          "type": "alarm audible"
         },
         {
          "arrived": "19:45",
          "cleared": "20:00",
          "date": "08/24/16",
          "dispatched": "19:32",
          "id": "160824089",
          "location": "pn1",
          "received": "18:40",
          "type": "citizen dispute"
         },
         {
          "arrived": "19:35",
          "cleared": "19:44",
          "date": "08/24/16",
          "dispatched": "19:31",
          "id": "160824090",
          "location": "pn12",
          "received": "18:52",
          "type": "trespassing"
         },
         {
          "arrived": "19:29",
          "cleared": "19:55",
          "date": "08/24/16",
          "dispatched": "19:19",
          "id": "160824091",
          "location": "pn10",
          "received": "19:12",
          "type": "suspicious"
         },
         {
          "arrived": "",
          "cleared": "20:04",
          "date": "08/24/16",
          "dispatched": "20:03",
          "id": "160824092",
          "location": "pn7",
          "received": "19:58",
          "type": "towed vehicle"
         },
         {
          "arrived": "20:42",
          "cleared": "20:46",
          "date": "08/24/16",
          "dispatched": "20:39",
          "id": "160824093",
          "location": "pn6",
          "received": "20:37",
          "type": "alarm audible"
         },
         {
          "arrived": "21:00",
          "cleared": "21:07",
          "date": "08/24/16",
          "dispatched": "20:55",
          "id": "160824094",
          "location": "pn11",
          "received": "20:54",
          "type": "disorderly"
         },
         {
          "arrived": "21:48",
          "cleared": "22:04",
          "date": "08/24/16",
          "dispatched": "21:42",
          "id": "160824095",
          "location": "pn2",
          "received": "21:37",
          "type": "noise police"
         },
         {
          "arrived": "22:03",
          "cleared": "22:21",
          "date": "08/24/16",
          "dispatched": "21:54",
          "id": "160824096",
          "location": "pn1",
          "received": "21:48",
          "type": "noise police"
         },
         {
          "arrived": "22:02",
          "cleared": "22:08",
          "date": "08/24/16",
          "dispatched": "",
          "id": "160824097",
          "location": "pn5",
          "received": "22:02",
          "type": "alcohol offense"
         },
         {
          "arrived": "22:10",
          "cleared": "22:53",
          "date": "08/24/16",
          "dispatched": "22:03",
          "id": "160824098",
          "location": "pn7",
          "received": "22:01",
          "type": "mc-camping"
         },
         {
          "arrived": "22:31",
          "cleared": "07:52",
          "date": "08/24/16",
          "dispatched": "22:30",
          "id": "160824099",
          "location": "pn13",
          "received": "22:28",
          "type": "robbery"
         },
         {
          "arrived": "23:00",
          "cleared": "23:16",
          "date": "08/24/16",
          "dispatched": "22:53",
          "id": "160824100",
          "location": "pn7",
          "received": "22:46",
          "type": "suspicious"
         },
         {
          "arrived": "23:46",
          "cleared": "00:11",
          "date": "08/24/16",
          "dispatched": "23:44",
          "id": "160824101",
          "location": "pn5",
          "received": "23:43",
          "type": "disorderly"
         },
         {
          "arrived": "",
          "cleared": "23:54",
          "date": "08/24/16",
          "dispatched": "23:53",
          "id": "160824102",
          "location": "pn1",
          "received": "23:48",
          "type": "towed vehicle"
         },
         {
          "arrived": "23:51",
          "cleared": "23:52",
          "date": "08/24/16",
          "dispatched": "",
          "id": "160824103",
          "location": "pn5",
          "received": "23:50",
          "type": "assist req"
         },
         {
          "arrived": "00:32",
          "cleared": "00:43",
          "date": "08/25/16",
          "dispatched": "",
          "id": "160825001",
          "location": "pn5",
          "received": "00:32",
          "type": "alcohol offense"
         },
         {
          "arrived": "01:17",
          "cleared": "01:25",
          "date": "08/25/16",
          "dispatched": "01:13",
          "id": "160825002",
          "location": "pn1",
          "received": "01:12",
          "type": "prowler"
         },
         {
          "arrived": "01:29",
          "cleared": "01:44",
          "date": "08/25/16",
          "dispatched": "01:27",
          "id": "160825003",
          "location": "pn5",
          "received": "01:24",
          "type": "suspicious"
         },
         {
          "arrived": "02:12",
          "cleared": "02:20",
          "date": "08/25/16",
          "dispatched": "02:10",
          "id": "160825004",
          "location": "pn5",
          "received": "02:09",
          "type": "welfare check"
         },
         {
          "arrived": "02:39",
          "cleared": "02:42",
          "date": "08/25/16",
          "dispatched": "02:36",
          "id": "160825005",
          "location": "pn11",
          "received": "02:35",
          "type": "disorderly"
         },
         {
          "arrived": "02:54",
          "cleared": "03:16",
          "date": "08/25/16",
          "dispatched": "02:50",
          "id": "160825006",
          "location": "pn13",
          "received": "02:49",
          "type": "theft"
         },
         {
          "arrived": "04:23",
          "cleared": "04:54",
          "date": "08/25/16",
          "dispatched": "04:17",
          "id": "160825007",
          "location": "pn2",
          "received": "04:14",
          "type": "assist req"
         },
         {
          "arrived": "07:40",
          "cleared": "07:41",
          "date": "08/25/16",
          "dispatched": "07:37",
          "id": "160825008",
          "location": "pn6",
          "received": "06:57",
          "type": "posting vehs"
         },
         {
          "arrived": "07:48",
          "cleared": "07:55",
          "date": "08/16/16",
          "dispatched": "07:25",
          "id": "160816010",
          "location": "pn13",
          "received": "07:18",
          "type": "theft"
         },
         {
          "arrived": "07:35",
          "cleared": "07:40",
          "date": "08/16/16",
          "dispatched": "07:28",
          "id": "160816011",
          "location": "pn6",
          "received": "07:22",
          "type": "parking problem"
         },
         {
          "arrived": "08:36",
          "cleared": "08:55",
          "date": "08/16/16",
          "dispatched": "08:18",
          "id": "160816012",
          "location": "pn9",
          "received": "08:10",
          "type": "assist req"
         },
         {
          "arrived": "08:54",
          "cleared": "09:09",
          "date": "08/16/16",
          "dispatched": "08:53",
          "id": "160816013",
          "location": "pn5",
          "received": "08:52",
          "type": "welfare check"
         },
         {
          "arrived": "09:10",
          "cleared": "09:14",
          "date": "08/16/16",
          "dispatched": "09:09",
          "id": "160816014",
          "location": "pn6",
          "received": "08:59",
          "type": "loitering"
         },
         {
          "arrived": "",
          "cleared": "09:05",
          "date": "08/16/16",
          "dispatched": "09:03",
          "id": "160816015",
          "location": "pn6",
          "received": "09:01",
          "type": "aband vehicle"
         },
         {
          "arrived": "09:07",
          "cleared": "09:14",
          "date": "08/16/16",
          "dispatched": "09:04",
          "id": "160816016",
          "location": "pn7",
          "received": "09:01",
          "type": "lost property"
         },
         {
          "arrived": "09:10",
          "cleared": "09:25",
          "date": "08/16/16",
          "dispatched": "09:07",
          "id": "160816017",
          "location": "pn2",
          "received": "09:03",
          "type": "assist req"
         },
         {
          "arrived": "09:31",
          "cleared": "09:31",
          "date": "08/16/16",
          "dispatched": "09:28",
          "id": "160816018",
          "location": "pn6",
          "received": "09:21",
          "type": "vandalism"
         },
         {
          "arrived": "09:36",
          "cleared": "09:44",
          "date": "08/16/16",
          "dispatched": "09:33",
          "id": "160816019",
          "location": "pn5",
          "received": "09:30",
          "type": "trespassing"
         },
         {
          "arrived": "09:40",
          "cleared": "10:17",
          "date": "08/16/16",
          "dispatched": "09:36",
          "id": "160816020",
          "location": "pn10",
          "received": "09:34",
          "type": "mental subj"
         },
         {
          "arrived": "09:50",
          "cleared": "10:17",
          "date": "08/16/16",
          "dispatched": "09:46",
          "id": "160816021",
          "location": "pn6",
          "received": "09:42",
          "type": "loitering"
         },
         {
          "arrived": "10:20",
          "cleared": "10:39",
          "date": "08/16/16",
          "dispatched": "10:17",
          "id": "160816022",
          "location": "pn6",
          "received": "10:03",
          "type": "disorderly"
         },
         {
          "arrived": "10:27",
          "cleared": "11:06",
          "date": "08/16/16",
          "dispatched": "10:19",
          "id": "160816023",
          "location": "pn13",
          "received": "10:14",
          "type": "fraud"
         },
         {
          "arrived": "",
          "cleared": "10:19",
          "date": "08/16/16",
          "dispatched": "10:18",
          "id": "160816024",
          "location": "pn1",
          "received": "10:16",
          "type": "aband vehicle"
         },
         {
          "arrived": "10:37",
          "cleared": "10:39",
          "date": "08/16/16",
          "dispatched": "10:27",
          "id": "160816025",
          "location": "pn2",
          "received": "10:19",
          "type": "traffic hazard"
         },
         {
          "arrived": "10:27",
          "cleared": "10:28",
          "date": "08/16/16",
          "dispatched": "",
          "id": "160816026",
          "location": "pn3",
          "received": "10:25",
          "type": "aband vehicle"
         },
         {
          "arrived": "11:10",
          "cleared": "11:12",
          "date": "08/16/16",
          "dispatched": "",
          "id": "160816027",
          "location": "pn5",
          "received": "11:07",
          "type": "graffiti"
         },
         {
          "arrived": "11:21",
          "cleared": "11:23",
          "date": "08/16/16",
          "dispatched": "11:15",
          "id": "160816028",
          "location": "pn2",
          "received": "11:07",
          "type": "trespassing"
         },
         {
          "arrived": "11:17",
          "cleared": "12:38",
          "date": "08/16/16",
          "dispatched": "11:13",
          "id": "160816029",
          "location": "pn6",
          "received": "11:11",
          "type": "mental subj"
         },
         {
          "arrived": "11:25",
          "cleared": "11:37",
          "date": "08/16/16",
          "dispatched": "",
          "id": "160816030",
          "location": "pn5",
          "received": "11:25",
          "type": "alcohol offense"
         },
         {
          "arrived": "13:43",
          "cleared": "13:48",
          "date": "08/16/16",
          "dispatched": "13:32",
          "id": "160816031",
          "location": "pn6",
          "received": "11:28",
          "type": "posting vehs"
         },
         {
          "arrived": "11:35",
          "cleared": "11:50",
          "date": "08/16/16",
          "dispatched": "",
          "id": "160816032",
          "location": "pn6",
          "received": "11:35",
          "type": "traffic offense"
         },
         {
          "arrived": "11:49",
          "cleared": "11:58",
          "date": "08/16/16",
          "dispatched": "11:43",
          "id": "160816033",
          "location": "pn5",
          "received": "11:42",
          "type": "mc-panhandling"
         },
         {
          "arrived": "12:04",
          "cleared": "12:12",
          "date": "08/16/16",
          "dispatched": "",
          "id": "160816034",
          "location": "pn5",
          "received": "11:57",
          "type": "suspicious"
         },
         {
          "arrived": "12:20",
          "cleared": "12:28",
          "date": "08/16/16",
          "dispatched": "",
          "id": "160816035",
          "location": "pn2",
          "received": "12:13",
          "type": "coll hit and ru"
         },
         {
          "arrived": "12:47",
          "cleared": "13:01",
          "date": "08/16/16",
          "dispatched": "12:43",
          "id": "160816036",
          "location": "pn5",
          "received": "12:40",
          "type": "animal problem"
         },
         {
          "arrived": "12:49",
          "cleared": "13:09",
          "date": "08/16/16",
          "dispatched": "12:42",
          "id": "160816037",
          "location": "pn10",
          "received": "12:41",
          "type": "disorderly"
         },
         {
          "arrived": "12:53",
          "cleared": "12:56",
          "date": "08/16/16",
          "dispatched": "",
          "id": "160816038",
          "location": "pn5",
          "received": "12:43",
          "type": "controlled narc"
         },
         {
          "arrived": "13:06",
          "cleared": "13:21",
          "date": "08/16/16",
          "dispatched": "12:59",
          "id": "160816039",
          "location": "pn12",
          "received": "12:56",
          "type": "disorderly"
         },
         {
          "arrived": "13:18",
          "cleared": "13:19",
          "date": "08/16/16",
          "dispatched": "",
          "id": "160816040",
          "location": "pn3",
          "received": "13:17",
          "type": "aband vehicle"
         },
         {
          "arrived": "13:26",
          "cleared": "13:28",
          "date": "08/16/16",
          "dispatched": "13:25",
          "id": "160816041",
          "location": "pn6",
          "received": "13:18",
          "type": "noise other"
         },
         {
          "arrived": "13:43",
          "cleared": "13:48",
          "date": "08/16/16",
          "dispatched": "",
          "id": "160816042",
          "location": "pn11",
          "received": "13:43",
          "type": "warrant"
         },
         {
          "arrived": "13:48",
          "cleared": "14:26",
          "date": "08/16/16",
          "dispatched": "",
          "id": "160816043",
          "location": "pn11",
          "received": "13:48",
          "type": "trespassing"
         },
         {
          "arrived": "13:56",
          "cleared": "14:26",
          "date": "08/16/16",
          "dispatched": "",
          "id": "160816044",
          "location": "pn6",
          "received": "13:56",
          "type": "disorderly"
         },
         {
          "arrived": "14:03",
          "cleared": "14:04",
          "date": "08/16/16",
          "dispatched": "",
          "id": "160816045",
          "location": "pn7",
          "received": "14:01",
          "type": "aband vehicle"
         },
         {
          "arrived": "",
          "cleared": "14:19",
          "date": "08/16/16",
          "dispatched": "14:17",
          "id": "160816046",
          "location": "pn13",
          "received": "14:08",
          "type": "coll freeway"
         },
         {
          "arrived": "14:47",
          "cleared": "15:30",
          "date": "08/16/16",
          "dispatched": "",
          "id": "160816047",
          "location": "pn5",
          "received": "14:36",
          "type": "found property"
         },
         {
          "arrived": "14:38",
          "cleared": "14:40",
          "date": "08/16/16",
          "dispatched": "",
          "id": "160816048",
          "location": "pn5",
          "received": "14:37",
          "type": "assist req"
         },
         {
          "arrived": "15:07",
          "cleared": "15:50",
          "date": "08/16/16",
          "dispatched": "15:01",
          "id": "160816049",
          "location": "pn10",
          "received": "14:59",
          "type": "alcohol offense"
         },
         {
          "arrived": "15:25",
          "cleared": "15:40",
          "date": "08/16/16",
          "dispatched": "15:20",
          "id": "160816050",
          "location": "pn10",
          "received": "15:02",
          "type": "welfare check"
         },
         {
          "arrived": "15:49",
          "cleared": "15:56",
          "date": "08/16/16",
          "dispatched": "15:41",
          "id": "160816051",
          "location": "pn8",
          "received": "15:30",
          "type": "welfare check"
         },
         {
          "arrived": "15:55",
          "cleared": "16:18",
          "date": "08/16/16",
          "dispatched": "15:42",
          "id": "160816052",
          "location": "pn7",
          "received": "15:35",
          "type": "communications"
         },
         {
          "arrived": "",
          "cleared": "16:15",
          "date": "08/16/16",
          "dispatched": "16:02",
          "id": "160816053",
          "location": "pn2",
          "received": "15:59",
          "type": "traffic offense"
         },
         {
          "arrived": "16:15",
          "cleared": "16:38",
          "date": "08/16/16",
          "dispatched": "",
          "id": "160816054",
          "location": "pn11",
          "received": "16:15",
          "type": "found property"
         },
         {
          "arrived": "16:27",
          "cleared": "17:13",
          "date": "08/16/16",
          "dispatched": "16:22",
          "id": "160816055",
          "location": "pn1",
          "received": "16:20",
          "type": "assist req"
         },
         {
          "arrived": "16:27",
          "cleared": "16:41",
          "date": "08/16/16",
          "dispatched": "",
          "id": "160816056",
          "location": "pn2",
          "received": "16:22",
          "type": "public works"
         },
         {
          "arrived": "16:50",
          "cleared": "18:33",
          "date": "08/16/16",
          "dispatched": "",
          "id": "160816057",
          "location": "pn10",
          "received": "16:49",
          "type": "dui"
         },
         {
          "arrived": "17:03",
          "cleared": "17:16",
          "date": "08/16/16",
          "dispatched": "16:57",
          "id": "160816058",
          "location": "pn5",
          "received": "16:53",
          "type": "suspicious"
         },
         {
          "arrived": "17:20",
          "cleared": "17:24",
          "date": "08/16/16",
          "dispatched": "17:17",
          "id": "160816059",
          "location": "pn9",
          "received": "17:06",
          "type": "alcohol offense"
         },
         {
          "arrived": "17:17",
          "cleared": "17:18",
          "date": "08/16/16",
          "dispatched": "",
          "id": "160816060",
          "location": "pn7",
          "received": "17:16",
          "type": "aband vehicle"
         },
         {
          "arrived": "17:33",
          "cleared": "18:37",
          "date": "08/16/16",
          "dispatched": "17:28",
          "id": "160816061",
          "location": "pn10",
          "received": "17:21",
          "type": "coll non inj"
         },
         {
          "arrived": "17:48",
          "cleared": "18:21",
          "date": "08/16/16",
          "dispatched": "17:41",
          "id": "160816062",
          "location": "pn7",
          "received": "17:37",
          "type": "coll non inj"
         },
         {
          "arrived": "17:46",
          "cleared": "17:55",
          "date": "08/16/16",
          "dispatched": "",
          "id": "160816063",
          "location": "pn9",
          "received": "17:39",
          "type": "traffic offense"
         },
         {
          "arrived": "18:29",
          "cleared": "18:30",
          "date": "08/16/16",
          "dispatched": "18:26",
          "id": "160816064",
          "location": "pn6",
          "received": "17:43",
          "type": "posting vehs"
         },
         {
          "arrived": "18:39",
          "cleared": "18:39",
          "date": "08/16/16",
          "dispatched": "",
          "id": "160816065",
          "location": "pn8",
          "received": "17:44",
          "type": "posting vehs"
         },
         {
          "arrived": "18:42",
          "cleared": "18:42",
          "date": "08/16/16",
          "dispatched": "",
          "id": "160816066",
          "location": "pn8",
          "received": "17:45",
          "type": "posting vehs"
         },
         {
          "arrived": "17:57",
          "cleared": "18:21",
          "date": "08/16/16",
          "dispatched": "17:56",
          "id": "160816067",
          "location": "pn10",
          "received": "17:45",
          "type": "disorderly"
         },
         {
          "arrived": "18:52",
          "cleared": "18:52",
          "date": "08/16/16",
          "dispatched": "",
          "id": "160816068",
          "location": "pn8",
          "received": "17:49",
          "type": "posting vehs"
         },
         {
          "arrived": "18:46",
          "cleared": "18:48",
          "date": "08/16/16",
          "dispatched": "",
          "id": "160816069",
          "location": "pn8",
          "received": "17:49",
          "type": "posting vehs"
         },
         {
          "arrived": "18:48",
          "cleared": "18:48",
          "date": "08/16/16",
          "dispatched": "",
          "id": "160816070",
          "location": "pn8",
          "received": "17:50",
          "type": "posting vehs"
         },
         {
          "arrived": "18:39",
          "cleared": "18:39",
          "date": "08/16/16",
          "dispatched": "",
          "id": "160816071",
          "location": "pn8",
          "received": "17:50",
          "type": "posting vehs"
         },
         {
          "arrived": "18:24",
          "cleared": "18:52",
          "date": "08/16/16",
          "dispatched": "18:22",
          "id": "160816072",
          "location": "pn5",
          "received": "18:15",
          "type": "disorderly"
         },
         {
          "arrived": "19:10",
          "cleared": "18:54",
          "date": "08/16/16",
          "dispatched": "18:52",
          "id": "160816073",
          "location": "pn5",
          "received": "18:37",
          "type": "trespassing"
         },
         {
          "arrived": "19:40",
          "cleared": "20:34",
          "date": "08/16/16",
          "dispatched": "18:53",
          "id": "160816074",
          "location": "pn6",
          "received": "18:39",
          "type": "fraud"
         },
         {
          "arrived": "18:56",
          "cleared": "19:00",
          "date": "08/16/16",
          "dispatched": "",
          "id": "160816075",
          "location": "pn10",
          "received": "18:45",
          "type": "welfare check"
         },
         {
          "arrived": "19:24",
          "cleared": "19:27",
          "date": "08/16/16",
          "dispatched": "19:11",
          "id": "160816076",
          "location": "pn10",
          "received": "19:06",
          "type": "coll non inj"
         },
         {
          "arrived": "19:49",
          "cleared": "19:54",
          "date": "08/16/16",
          "dispatched": "19:41",
          "id": "160816077",
          "location": "pn10",
          "received": "19:38",
          "type": "welfare check"
         },
         {
          "arrived": "19:52",
          "cleared": "20:05",
          "date": "08/16/16",
          "dispatched": "19:43",
          "id": "160816078",
          "location": "pn11",
          "received": "19:41",
          "type": "welfare check"
         },
         {
          "arrived": "20:08",
          "cleared": "20:17",
          "date": "08/16/16",
          "dispatched": "20:03",
          "id": "160816079",
          "location": "pn12",
          "received": "20:00",
          "type": "trespassing"
         },
         {
          "arrived": "20:12",
          "cleared": "20:17",
          "date": "08/16/16",
          "dispatched": "20:03",
          "id": "160816080",
          "location": "pn1",
          "received": "20:01",
          "type": "noise other"
         },
         {
          "arrived": "20:35",
          "cleared": "20:42",
          "date": "08/16/16",
          "dispatched": "",
          "id": "160816081",
          "location": "pn5",
          "received": "20:35",
          "type": "suspicious"
         },
         {
          "arrived": "20:40",
          "cleared": "20:43",
          "date": "08/16/16",
          "dispatched": "20:37",
          "id": "160816082",
          "location": "pn10",
          "received": "20:33",
          "type": "suspicious"
         },
         {
          "arrived": "21:42",
          "cleared": "21:46",
          "date": "08/16/16",
          "dispatched": "21:36",
          "id": "160816083",
          "location": "pn8",
          "received": "21:34",
          "type": "suspicious"
         },
         {
          "arrived": "21:55",
          "cleared": "22:12",
          "date": "08/16/16",
          "dispatched": "21:48",
          "id": "160816084",
          "location": "pn7",
          "received": "21:46",
          "type": "assist req"
         },
         {
          "arrived": "22:09",
          "cleared": "22:11",
          "date": "08/16/16",
          "dispatched": "22:02",
          "id": "160816085",
          "location": "pn12",
          "received": "22:01",
          "type": "trespassing"
         },
         {
          "arrived": "22:44",
          "cleared": "22:57",
          "date": "08/16/16",
          "dispatched": "22:37",
          "id": "160816086",
          "location": "pn6",
          "received": "22:33",
          "type": "disorderly"
         },
         {
          "arrived": "23:07",
          "cleared": "23:11",
          "date": "08/16/16",
          "dispatched": "",
          "id": "160816087",
          "location": "pn1",
          "received": "23:03",
          "type": "traffic offense"
         },
         {
          "arrived": "",
          "cleared": "23:10",
          "date": "08/16/16",
          "dispatched": "23:09",
          "id": "160816088",
          "location": "pn10",
          "received": "23:08",
          "type": "alarm audible"
         },
         {
          "arrived": "23:17",
          "cleared": "23:22",
          "date": "08/16/16",
          "dispatched": "23:10",
          "id": "160816089",
          "location": "pn3",
          "received": "23:09",
          "type": "noise party"
         },
         {
          "arrived": "",
          "cleared": "23:18",
          "date": "08/16/16",
          "dispatched": "23:18",
          "id": "160816090",
          "location": "pn12",
          "received": "23:17",
          "type": "aband vehicle"
         },
         {
          "arrived": "23:33",
          "cleared": "23:40",
          "date": "08/16/16",
          "dispatched": "23:28",
          "id": "160816091",
          "location": "pn1",
          "received": "23:26",
          "type": "noise police"
         },
         {
          "arrived": "00:34",
          "cleared": "00:48",
          "date": "08/17/16",
          "dispatched": "00:33",
          "id": "160817001",
          "location": "pn13",
          "received": "00:27",
          "type": "suspicious"
         },
         {
          "arrived": "00:54",
          "cleared": "01:36",
          "date": "08/17/16",
          "dispatched": "00:53",
          "id": "160817002",
          "location": "pn5",
          "received": "00:51",
          "type": "suspicious"
         },
         {
          "arrived": "01:30",
          "cleared": "01:03",
          "date": "08/17/16",
          "dispatched": "01:00",
          "id": "160817003",
          "location": "pn1",
          "received": "00:53",
          "type": "noise police"
         },
         {
          "arrived": "01:10",
          "cleared": "01:15",
          "date": "08/17/16",
          "dispatched": "01:03",
          "id": "160817004",
          "location": "pn7",
          "received": "01:01",
          "type": "disorderly"
         },
         {
          "arrived": "01:21",
          "cleared": "01:22",
          "date": "08/17/16",
          "dispatched": "01:16",
          "id": "160817005",
          "location": "pn13",
          "received": "01:02",
          "type": "trespassing"
         },
         {
          "arrived": "01:32",
          "cleared": "02:59",
          "date": "08/17/16",
          "dispatched": "01:32",
          "id": "160817006",
          "location": "pn5",
          "received": "01:31",
          "type": "disorderly"
         },
         {
          "arrived": "01:43",
          "cleared": "01:46",
          "date": "08/17/16",
          "dispatched": "01:41",
          "id": "160817007",
          "location": "pn10",
          "received": "01:38",
          "type": "suspicious"
         },
         {
          "arrived": "02:24",
          "cleared": "02:47",
          "date": "08/17/16",
          "dispatched": "02:15",
          "id": "160817008",
          "location": "pn3",
          "received": "01:58",
          "type": "attempt-locate"
         },
         {
          "arrived": "02:22",
          "cleared": "02:24",
          "date": "08/17/16",
          "dispatched": "02:17",
          "id": "160817009",
          "location": "pn6",
          "received": "02:14",
          "type": "suspicious"
         },
         {
          "arrived": "02:25",
          "cleared": "03:00",
          "date": "08/17/16",
          "dispatched": "",
          "id": "160817010",
          "location": "pn5",
          "received": "02:25",
          "type": "alcohol offense"
         },
         {
          "arrived": "02:53",
          "cleared": "03:27",
          "date": "08/17/16",
          "dispatched": "02:50",
          "id": "160817011",
          "location": "pn6",
          "received": "02:29",
          "type": "controlled narc"
         },
         {
          "arrived": "04:42",
          "cleared": "05:08",
          "date": "08/17/16",
          "dispatched": "04:37",
          "id": "160817012",
          "location": "pn7",
          "received": "04:35",
          "type": "disorderly"
         },
         {
          "arrived": "05:12",
          "cleared": "05:22",
          "date": "08/17/16",
          "dispatched": "05:07",
          "id": "160817013",
          "location": "pn13",
          "received": "04:46",
          "type": "suspicious"
         },
         {
          "arrived": "06:02",
          "cleared": "06:04",
          "date": "08/17/16",
          "dispatched": "05:53",
          "id": "160817014",
          "location": "pn7",
          "received": "05:51",
          "type": "loitering"
         },
         {
          "arrived": "",
          "cleared": "07:25",
          "date": "08/01/16",
          "dispatched": "07:25",
          "id": "160801019",
          "location": "pn5",
          "received": "07:24",
          "type": "child abuse"
         },
         {
          "arrived": "",
          "cleared": "07:27",
          "date": "08/01/16",
          "dispatched": "07:27",
          "id": "160801020",
          "location": "pn5",
          "received": "07:26",
          "type": "child abuse"
         },
         {
          "arrived": "08:02",
          "cleared": "08:14",
          "date": "08/01/16",
          "dispatched": "07:44",
          "id": "160801021",
          "location": "pn12",
          "received": "07:37",
          "type": "theft"
         },
         {
          "arrived": "08:14",
          "cleared": "08:44",
          "date": "08/01/16",
          "dispatched": "07:55",
          "id": "160801022",
          "location": "pn10",
          "received": "07:48",
          "type": "burg vehicle"
         },
         {
          "arrived": "08:18",
          "cleared": "08:18",
          "date": "08/01/16",
          "dispatched": "08:04",
          "id": "160801023",
          "location": "pn10",
          "received": "07:53",
          "type": "suspicious"
         },
         {
          "arrived": "08:27",
          "cleared": "08:35",
          "date": "08/01/16",
          "dispatched": "08:18",
          "id": "160801024",
          "location": "pn7",
          "received": "08:06",
          "type": "suspicious"
         },
         {
          "arrived": "",
          "cleared": "08:15",
          "date": "08/01/16",
          "dispatched": "08:15",
          "id": "160801025",
          "location": "pn5",
          "received": "08:14",
          "type": "child abuse"
         },
         {
          "arrived": "08:16",
          "cleared": "08:17",
          "date": "08/01/16",
          "dispatched": "",
          "id": "160801026",
          "location": "pn2",
          "received": "08:15",
          "type": "public works"
         },
         {
          "arrived": "",
          "cleared": "08:17",
          "date": "08/01/16",
          "dispatched": "08:16",
          "id": "160801027",
          "location": "pn5",
          "received": "08:16",
          "type": "child abuse"
         },
         {
          "arrived": "",
          "cleared": "08:27",
          "date": "08/01/16",
          "dispatched": "08:23",
          "id": "160801028",
          "location": "pn2",
          "received": "08:22",
          "type": "public works"
         },
         {
          "arrived": "08:40",
          "cleared": "09:17",
          "date": "08/01/16",
          "dispatched": "08:36",
          "id": "160801029",
          "location": "pn6",
          "received": "08:24",
          "type": "theft"
         },
         {
          "arrived": "",
          "cleared": "08:38",
          "date": "08/01/16",
          "dispatched": "08:38",
          "id": "160801030",
          "location": "pn13",
          "received": "08:37",
          "type": "9-1-1 abandon"
         },
         {
          "arrived": "09:01",
          "cleared": "09:13",
          "date": "08/01/16",
          "dispatched": "09:01",
          "id": "160801031",
          "location": "pn5",
          "received": "08:57",
          "type": "loitering"
         },
         {
          "arrived": "",
          "cleared": "09:30",
          "date": "08/01/16",
          "dispatched": "09:27",
          "id": "160801032",
          "location": "pn8",
          "received": "09:25",
          "type": "public works"
         },
         {
          "arrived": "09:33",
          "cleared": "09:35",
          "date": "08/01/16",
          "dispatched": "09:28",
          "id": "160801033",
          "location": "pn5",
          "received": "09:28",
          "type": "assist req"
         },
         {
          "arrived": "09:40",
          "cleared": "09:50",
          "date": "08/01/16",
          "dispatched": "09:39",
          "id": "160801034",
          "location": "pn6",
          "received": "09:37",
          "type": "disorderly"
         },
         {
          "arrived": "",
          "cleared": "10:00",
          "date": "08/01/16",
          "dispatched": "09:59",
          "id": "160801035",
          "location": "pn6",
          "received": "09:53",
          "type": "9-1-1 abandon"
         },
         {
          "arrived": "",
          "cleared": "10:01",
          "date": "08/01/16",
          "dispatched": "10:01",
          "id": "160801036",
          "location": "pn10",
          "received": "10:00",
          "type": "aband vehicle"
         },
         {
          "arrived": "10:10",
          "cleared": "11:52",
          "date": "08/01/16",
          "dispatched": "10:02",
          "id": "160801037",
          "location": "pn3",
          "received": "09:59",
          "type": "welfare check"
         },
         {
          "arrived": "10:16",
          "cleared": "10:19",
          "date": "08/01/16",
          "dispatched": "",
          "id": "160801038",
          "location": "pn1",
          "received": "10:16",
          "type": "aband vehicle"
         },
         {
          "arrived": "",
          "cleared": "10:23",
          "date": "08/01/16",
          "dispatched": "10:17",
          "id": "160801039",
          "location": "pn8",
          "received": "10:15",
          "type": "traffic hazard"
         },
         {
          "arrived": "10:36",
          "cleared": "11:34",
          "date": "08/01/16",
          "dispatched": "10:35",
          "id": "160801040",
          "location": "pn11",
          "received": "10:31",
          "type": "fraud"
         },
         {
          "arrived": "11:37",
          "cleared": "11:40",
          "date": "08/01/16",
          "dispatched": "11:16",
          "id": "160801041",
          "location": "pn11",
          "received": "11:02",
          "type": "traffic offense"
         },
         {
          "arrived": "11:36",
          "cleared": "12:01",
          "date": "08/01/16",
          "dispatched": "11:30",
          "id": "160801042",
          "location": "pn5",
          "received": "11:27",
          "type": "loitering"
         },
         {
          "arrived": "11:51",
          "cleared": "12:04",
          "date": "08/01/16",
          "dispatched": "11:47",
          "id": "160801043",
          "location": "pn5",
          "received": "11:43",
          "type": "assist req"
         },
         {
          "arrived": "12:27",
          "cleared": "12:40",
          "date": "08/01/16",
          "dispatched": "12:20",
          "id": "160801044",
          "location": "pn6",
          "received": "12:11",
          "type": "suspicious"
         },
         {
          "arrived": "13:29",
          "cleared": "13:30",
          "date": "08/01/16",
          "dispatched": "12:20",
          "id": "160801045",
          "location": "pn7",
          "received": "12:13",
          "type": "citizen dispute"
         },
         {
          "arrived": "12:42",
          "cleared": "12:49",
          "date": "08/01/16",
          "dispatched": "12:39",
          "id": "160801046",
          "location": "pn9",
          "received": "12:28",
          "type": "welfare check"
         },
         {
          "arrived": "12:53",
          "cleared": "13:24",
          "date": "08/01/16",
          "dispatched": "12:42",
          "id": "160801047",
          "location": "pn6",
          "received": "12:37",
          "type": "burg res"
         },
         {
          "arrived": "",
          "cleared": "12:45",
          "date": "08/01/16",
          "dispatched": "12:45",
          "id": "160801048",
          "location": "pn3",
          "received": "12:43",
          "type": "aband vehicle"
         },
         {
          "arrived": "",
          "cleared": "13:07",
          "date": "08/01/16",
          "dispatched": "13:07",
          "id": "160801049",
          "location": "pn2",
          "received": "13:04",
          "type": "9-1-1 abandon"
         },
         {
          "arrived": "13:39",
          "cleared": "13:40",
          "date": "08/01/16",
          "dispatched": "13:37",
          "id": "160801050",
          "location": "pn5",
          "received": "13:30",
          "type": "9-1-1 abandon"
         },
         {
          "arrived": "13:47",
          "cleared": "13:55",
          "date": "08/01/16",
          "dispatched": "",
          "id": "160801051",
          "location": "pn6",
          "received": "13:47",
          "type": "muni code viol"
         },
         {
          "arrived": "",
          "cleared": "13:55",
          "date": "08/01/16",
          "dispatched": "13:48",
          "id": "160801052",
          "location": "pn8",
          "received": "13:46",
          "type": "aband vehicle"
         },
         {
          "arrived": "14:14",
          "cleared": "14:25",
          "date": "08/01/16",
          "dispatched": "",
          "id": "160801053",
          "location": "pn5",
          "received": "14:08",
          "type": "suspicious"
         },
         {
          "arrived": "",
          "cleared": "14:23",
          "date": "08/01/16",
          "dispatched": "14:13",
          "id": "160801054",
          "location": "pn13",
          "received": "14:12",
          "type": "towed vehicle"
         },
         {
          "arrived": "14:27",
          "cleared": "14:28",
          "date": "08/01/16",
          "dispatched": "",
          "id": "160801055",
          "location": "pn5",
          "received": "14:19",
          "type": "9-1-1 abandon"
         },
         {
          "arrived": "14:36",
          "cleared": "14:41",
          "date": "08/01/16",
          "dispatched": "14:29",
          "id": "160801056",
          "location": "pn10",
          "received": "14:28",
          "type": "assist o police"
         },
         {
          "arrived": "15:10",
          "cleared": "15:21",
          "date": "08/01/16",
          "dispatched": "14:56",
          "id": "160801057",
          "location": "pn5",
          "received": "14:40",
          "type": "traffic hazard"
         },
         {
          "arrived": "14:56",
          "cleared": "15:01",
          "date": "08/01/16",
          "dispatched": "14:51",
          "id": "160801058",
          "location": "pn5",
          "received": "14:44",
          "type": "9-1-1 abandon"
         },
         {
          "arrived": "14:54",
          "cleared": "14:57",
          "date": "08/01/16",
          "dispatched": "",
          "id": "160801059",
          "location": "pn5",
          "received": "14:54",
          "type": "found property"
         },
         {
          "arrived": "15:55",
          "cleared": "16:18",
          "date": "08/01/16",
          "dispatched": "15:49",
          "id": "160801060",
          "location": "pn11",
          "received": "14:59",
          "type": "attempt theft"
         },
         {
          "arrived": "15:10",
          "cleared": "15:48",
          "date": "08/01/16",
          "dispatched": "15:05",
          "id": "160801061",
          "location": "pn11",
          "received": "15:03",
          "type": "loitering"
         },
         {
          "arrived": "15:40",
          "cleared": "15:43",
          "date": "08/01/16",
          "dispatched": "",
          "id": "160801062",
          "location": "pn10",
          "received": "15:37",
          "type": "dui"
         },
         {
          "arrived": "15:51",
          "cleared": "16:37",
          "date": "08/01/16",
          "dispatched": "15:44",
          "id": "160801063",
          "location": "pn2",
          "received": "15:43",
          "type": "coll non inj"
         },
         {
          "arrived": "",
          "cleared": "15:55",
          "date": "08/01/16",
          "dispatched": "15:54",
          "id": "160801064",
          "location": "pn8",
          "received": "15:51",
          "type": "aband vehicle"
         },
         {
          "arrived": "16:06",
          "cleared": "16:29",
          "date": "08/01/16",
          "dispatched": "16:05",
          "id": "160801065",
          "location": "pn5",
          "received": "16:02",
          "type": "theft"
         },
         {
          "arrived": "",
          "cleared": "16:19",
          "date": "08/01/16",
          "dispatched": "16:13",
          "id": "160801066",
          "location": "pn5",
          "received": "16:13",
          "type": "towed vehicle"
         },
         {
          "arrived": "16:45",
          "cleared": "16:49",
          "date": "08/01/16",
          "dispatched": "16:28",
          "id": "160801067",
          "location": "pn13",
          "received": "16:21",
          "type": "welfare check"
         },
         {
          "arrived": "16:16",
          "cleared": "17:10",
          "date": "08/01/16",
          "dispatched": "",
          "id": "160801068",
          "location": "pn5",
          "received": "16:29",
          "type": "probation viol"
         },
         {
          "arrived": "16:44",
          "cleared": "16:49",
          "date": "08/01/16",
          "dispatched": "",
          "id": "160801069",
          "location": "pn5",
          "received": "16:40",
          "type": "public works"
         },
         {
          "arrived": "16:48",
          "cleared": "16:55",
          "date": "08/01/16",
          "dispatched": "",
          "id": "160801070",
          "location": "pn5",
          "received": "16:45",
          "type": "assist req"
         },
         {
          "arrived": "",
          "cleared": "17:54",
          "date": "08/01/16",
          "dispatched": "17:49",
          "id": "160801071",
          "location": "pn5",
          "received": "17:48",
          "type": "towed vehicle"
         },
         {
          "arrived": "",
          "cleared": "18:16",
          "date": "08/01/16",
          "dispatched": "18:15",
          "id": "160801072",
          "location": "pn11",
          "received": "18:13",
          "type": "aband vehicle"
         },
         {
          "arrived": "18:52",
          "cleared": "18:52",
          "date": "08/01/16",
          "dispatched": "",
          "id": "160801073",
          "location": "pn1",
          "received": "18:50",
          "type": "aband vehicle"
         },
         {
          "arrived": "19:32",
          "cleared": "20:00",
          "date": "08/01/16",
          "dispatched": "19:21",
          "id": "160801074",
          "location": "pn5",
          "received": "19:09",
          "type": "assist req"
         },
         {
          "arrived": "19:40",
          "cleared": "20:19",
          "date": "08/01/16",
          "dispatched": "19:21",
          "id": "160801075",
          "location": "pn13",
          "received": "19:14",
          "type": "coll hit and ru"
         },
         {
          "arrived": "",
          "cleared": "19:25",
          "date": "08/01/16",
          "dispatched": "19:21",
          "id": "160801076",
          "location": "pn3",
          "received": "19:20",
          "type": "alarm audible"
         },
         {
          "arrived": "19:25",
          "cleared": "19:27",
          "date": "08/01/16",
          "dispatched": "",
          "id": "160801077",
          "location": "pn11",
          "received": "19:23",
          "type": "public works"
         },
         {
          "arrived": "20:07",
          "cleared": "20:22",
          "date": "08/01/16",
          "dispatched": "20:03",
          "id": "160801078",
          "location": "pn5",
          "received": "20:02",
          "type": "welfare check"
         },
         {
          "arrived": "21:29",
          "cleared": "22:05",
          "date": "08/01/16",
          "dispatched": "21:28",
          "id": "160801079",
          "location": "pn6",
          "received": "21:24",
          "type": "assist req"
         },
         {
          "arrived": "21:39",
          "cleared": "22:20",
          "date": "08/01/16",
          "dispatched": "21:32",
          "id": "160801080",
          "location": "pn13",
          "received": "21:30",
          "type": "suspicious"
         },
         {
          "arrived": "21:46",
          "cleared": "21:52",
          "date": "08/01/16",
          "dispatched": "21:38",
          "id": "160801081",
          "location": "pn10",
          "received": "21:28",
          "type": "suspicious"
         },
         {
          "arrived": "22:09",
          "cleared": "22:17",
          "date": "08/01/16",
          "dispatched": "22:05",
          "id": "160801082",
          "location": "pn6",
          "received": "21:59",
          "type": "suspicious"
         },
         {
          "arrived": "22:42",
          "cleared": "22:47",
          "date": "08/01/16",
          "dispatched": "22:37",
          "id": "160801083",
          "location": "pn5",
          "received": "22:32",
          "type": "suspicious"
         },
         {
          "arrived": "22:43",
          "cleared": "23:16",
          "date": "08/01/16",
          "dispatched": "",
          "id": "160801084",
          "location": "pn8",
          "received": "22:43",
          "type": "controlled narc"
         },
         {
          "arrived": "23:16",
          "cleared": "23:16",
          "date": "08/01/16",
          "dispatched": "",
          "id": "160801085",
          "location": "pn8",
          "received": "22:58",
          "type": "controlled narc"
         },
         {
          "arrived": "",
          "cleared": "23:10",
          "date": "08/01/16",
          "dispatched": "23:10",
          "id": "160801086",
          "location": "pn5",
          "received": "23:08",
          "type": "public works"
         },
         {
          "arrived": "23:12",
          "cleared": "23:13",
          "date": "08/01/16",
          "dispatched": "",
          "id": "160801087",
          "location": "pn6",
          "received": "23:07",
          "type": "information"
         },
         {
          "arrived": "23:12",
          "cleared": "23:32",
          "date": "08/01/16",
          "dispatched": "",
          "id": "160801088",
          "location": "pn7",
          "received": "23:12",
          "type": "suspicious"
         },
         {
          "arrived": "23:40",
          "cleared": "23:52",
          "date": "08/01/16",
          "dispatched": "23:33",
          "id": "160801089",
          "location": "pn1",
          "received": "23:30",
          "type": "suspicious"
         },
         {
          "arrived": "23:37",
          "cleared": "23:40",
          "date": "08/01/16",
          "dispatched": "",
          "id": "160801090",
          "location": "pn2",
          "received": "23:30",
          "type": "assist req"
         },
         {
          "arrived": "00:29",
          "cleared": "00:51",
          "date": "08/02/16",
          "dispatched": "00:27",
          "id": "160802001",
          "location": "pn10",
          "received": "00:26",
          "type": "suspicious"
         },
         {
          "arrived": "01:21",
          "cleared": "01:25",
          "date": "08/02/16",
          "dispatched": "01:19",
          "id": "160802002",
          "location": "pn2",
          "received": "01:19",
          "type": "alarm audible"
         },
         {
          "arrived": "02:02",
          "cleared": "02:12",
          "date": "08/02/16",
          "dispatched": "01:57",
          "id": "160802003",
          "location": "pn7",
          "received": "01:55",
          "type": "noise party"
         },
         {
          "arrived": "02:36",
          "cleared": "02:42",
          "date": "08/02/16",
          "dispatched": "02:33",
          "id": "160802004",
          "location": "pn11",
          "received": "02:32",
          "type": "alarm audible"
         },
         {
          "arrived": "03:25",
          "cleared": "03:53",
          "date": "08/02/16",
          "dispatched": "03:20",
          "id": "160802005",
          "location": "pn6",
          "received": "03:18",
          "type": "found property"
         },
         {
          "arrived": "04:40",
          "cleared": "04:49",
          "date": "08/02/16",
          "dispatched": "04:35",
          "id": "160802006",
          "location": "pn10",
          "received": "04:35",
          "type": "alarm audible"
         },
         {
          "arrived": "07:02",
          "cleared": "07:09",
          "date": "08/02/16",
          "dispatched": "",
          "id": "160802007",
          "location": "pn10",
          "received": "06:52",
          "type": "suspicious"
         },
         {
          "arrived": "07:19",
          "cleared": "07:24",
          "date": "07/29/16",
          "dispatched": "07:15",
          "id": "160729017",
          "location": "pn1",
          "received": "07:14",
          "type": "suspicious"
         },
         {
          "arrived": "08:29",
          "cleared": "08:30",
          "date": "07/29/16",
          "dispatched": "07:58",
          "id": "160729018",
          "location": "pn5",
          "received": "07:55",
          "type": "suspicious"
         },
         {
          "arrived": "07:58",
          "cleared": "08:04",
          "date": "07/29/16",
          "dispatched": "",
          "id": "160729019",
          "location": "pn9",
          "received": "07:58",
          "type": "suspicious"
         },
         {
          "arrived": "",
          "cleared": "08:20",
          "date": "07/29/16",
          "dispatched": "08:19",
          "id": "160729020",
          "location": "pn8",
          "received": "08:10",
          "type": "found property"
         },
         {
          "arrived": "08:15",
          "cleared": "09:28",
          "date": "07/29/16",
          "dispatched": "",
          "id": "160729021",
          "location": "pn9",
          "received": "08:15",
          "type": "warrant"
         },
         {
          "arrived": "08:24",
          "cleared": "08:33",
          "date": "07/29/16",
          "dispatched": "08:23",
          "id": "160729022",
          "location": "pn2",
          "received": "08:17",
          "type": "coll hit and ru"
         },
         {
          "arrived": "08:53",
          "cleared": "09:00",
          "date": "07/29/16",
          "dispatched": "08:38",
          "id": "160729023",
          "location": "pn8",
          "received": "08:34",
          "type": "found property"
         },
         {
          "arrived": "09:05",
          "cleared": "09:12",
          "date": "07/29/16",
          "dispatched": "08:59",
          "id": "160729024",
          "location": "pn12",
          "received": "08:49",
          "type": "assist req"
         },
         {
          "arrived": "09:17",
          "cleared": "09:20",
          "date": "07/29/16",
          "dispatched": "09:13",
          "id": "160729025",
          "location": "pn6",
          "received": "09:05",
          "type": "theft"
         },
         {
          "arrived": "",
          "cleared": "09:10",
          "date": "07/29/16",
          "dispatched": "09:10",
          "id": "160729026",
          "location": "pn6",
          "received": "09:09",
          "type": "aband vehicle"
         },
         {
          "arrived": "",
          "cleared": "09:34",
          "date": "07/29/16",
          "dispatched": "09:33",
          "id": "160729027",
          "location": "pn2",
          "received": "09:33",
          "type": "aband vehicle"
         },
         {
          "arrived": "10:08",
          "cleared": "10:23",
          "date": "07/29/16",
          "dispatched": "09:54",
          "id": "160729028",
          "location": "pn10",
          "received": "09:50",
          "type": "welfare check"
         },
         {
          "arrived": "05:42",
          "cleared": "05:43",
          "date": "07/29/16",
          "dispatched": "05:31",
          "id": "160729029",
          "location": "pn2",
          "received": "10:01",
          "type": "posting vehs"
         },
         {
          "arrived": "05:46",
          "cleared": "05:46",
          "date": "07/29/16",
          "dispatched": "",
          "id": "160729030",
          "location": "pn2",
          "received": "10:03",
          "type": "posting vehs"
         },
         {
          "arrived": "05:43",
          "cleared": "05:44",
          "date": "07/29/16",
          "dispatched": "",
          "id": "160729031",
          "location": "pn2",
          "received": "10:02",
          "type": "posting vehs"
         },
         {
          "arrived": "",
          "cleared": "10:17",
          "date": "07/29/16",
          "dispatched": "10:17",
          "id": "160729032",
          "location": "pn2",
          "received": "10:17",
          "type": "aband vehicle"
         },
         {
          "arrived": "10:28",
          "cleared": "10:32",
          "date": "07/29/16",
          "dispatched": "",
          "id": "160729033",
          "location": "pn6",
          "received": "10:28",
          "type": "suspicious"
         },
         {
          "arrived": "",
          "cleared": "10:44",
          "date": "07/29/16",
          "dispatched": "10:44",
          "id": "160729034",
          "location": "pn3",
          "received": "10:43",
          "type": "9-1-1 abandon"
         },
         {
          "arrived": "11:03",
          "cleared": "11:05",
          "date": "07/29/16",
          "dispatched": "10:58",
          "id": "160729035",
          "location": "pn13",
          "received": "10:56",
          "type": "suspicious"
         },
         {
          "arrived": "11:03",
          "cleared": "11:05",
          "date": "07/29/16",
          "dispatched": "",
          "id": "160729036",
          "location": "pn1",
          "received": "11:02",
          "type": "towed vehicle"
         },
         {
          "arrived": "",
          "cleared": "11:03",
          "date": "07/29/16",
          "dispatched": "11:03",
          "id": "160729037",
          "location": "pn8",
          "received": "11:02",
          "type": "aband vehicle"
         },
         {
          "arrived": "",
          "cleared": "11:04",
          "date": "07/29/16",
          "dispatched": "11:04",
          "id": "160729038",
          "location": "pn8",
          "received": "11:04",
          "type": "aband vehicle"
         },
         {
          "arrived": "11:36",
          "cleared": "11:50",
          "date": "07/29/16",
          "dispatched": "11:19",
          "id": "160729039",
          "location": "pn10",
          "received": "11:08",
          "type": "mc-camping"
         },
         {
          "arrived": "",
          "cleared": "11:17",
          "date": "07/29/16",
          "dispatched": "11:17",
          "id": "160729040",
          "location": "pn13",
          "received": "11:13",
          "type": "traffic offense"
         },
         {
          "arrived": "12:03",
          "cleared": "12:18",
          "date": "07/29/16",
          "dispatched": "11:51",
          "id": "160729041",
          "location": "pn8",
          "received": "11:49",
          "type": "disorderly"
         },
         {
          "arrived": "12:37",
          "cleared": "12:44",
          "date": "07/29/16",
          "dispatched": "12:32",
          "id": "160729042",
          "location": "pn5",
          "received": "11:51",
          "type": "posting vehs"
         },
         {
          "arrived": "12:21",
          "cleared": "12:35",
          "date": "07/29/16",
          "dispatched": "12:15",
          "id": "160729043",
          "location": "pn6",
          "received": "12:13",
          "type": "loitering"
         },
         {
          "arrived": "12:21",
          "cleared": "12:31",
          "date": "07/29/16",
          "dispatched": "12:16",
          "id": "160729044",
          "location": "pn5",
          "received": "12:15",
          "type": "disorderly"
         },
         {
          "arrived": "12:29",
          "cleared": "14:42",
          "date": "07/29/16",
          "dispatched": "",
          "id": "160729045",
          "location": "pn6",
          "received": "12:29",
          "type": "sex offense"
         },
         {
          "arrived": "13:32",
          "cleared": "13:41",
          "date": "07/29/16",
          "dispatched": "",
          "id": "160729046",
          "location": "pn2",
          "received": "13:32",
          "type": "coll non inj"
         },
         {
          "arrived": "13:49",
          "cleared": "14:05",
          "date": "07/29/16",
          "dispatched": "13:44",
          "id": "160729047",
          "location": "pn7",
          "received": "13:43",
          "type": "medical"
         },
         {
          "arrived": "13:46",
          "cleared": "14:16",
          "date": "07/29/16",
          "dispatched": "",
          "id": "160729048",
          "location": "pn3",
          "received": "13:46",
          "type": "assist req"
         },
         {
          "arrived": "14:03",
          "cleared": "14:09",
          "date": "07/29/16",
          "dispatched": "13:57",
          "id": "160729049",
          "location": "pn10",
          "received": "13:49",
          "type": "mc-camping"
         },
         {
          "arrived": "14:39",
          "cleared": "14:45",
          "date": "07/29/16",
          "dispatched": "14:18",
          "id": "160729050",
          "location": "pn9",
          "received": "14:13",
          "type": "posting vehs"
         },
         {
          "arrived": "14:28",
          "cleared": "15:29",
          "date": "07/29/16",
          "dispatched": "14:26",
          "id": "160729051",
          "location": "pn5",
          "received": "14:24",
          "type": "coll non inj"
         },
         {
          "arrived": "14:43",
          "cleared": "15:53",
          "date": "07/29/16",
          "dispatched": "14:37",
          "id": "160729052",
          "location": "pn2",
          "received": "14:27",
          "type": "assist o police"
         },
         {
          "arrived": "14:38",
          "cleared": "14:40",
          "date": "07/29/16",
          "dispatched": "",
          "id": "160729053",
          "location": "pn2",
          "received": "14:34",
          "type": "coll non inj"
         },
         {
          "arrived": "15:12",
          "cleared": "15:18",
          "date": "07/29/16",
          "dispatched": "15:07",
          "id": "160729054",
          "location": "pn6",
          "received": "15:01",
          "type": "muni code viol"
         },
         {
          "arrived": "",
          "cleared": "15:57",
          "date": "07/29/16",
          "dispatched": "15:57",
          "id": "160729055",
          "location": "pn11",
          "received": "15:54",
          "type": "traffic offense"
         },
         {
          "arrived": "16:16",
          "cleared": "16:17",
          "date": "07/29/16",
          "dispatched": "16:08",
          "id": "160729056",
          "location": "pn7",
          "received": "16:02",
          "type": "9-1-1 abandon"
         },
         {
          "arrived": "16:55",
          "cleared": "16:59",
          "date": "07/29/16",
          "dispatched": "",
          "id": "160729057",
          "location": "pn5",
          "received": "16:52",
          "type": "assist req"
         },
         {
          "arrived": "",
          "cleared": "16:59",
          "date": "07/29/16",
          "dispatched": "16:58",
          "id": "160729058",
          "location": "pn8",
          "received": "16:57",
          "type": "aband vehicle"
         },
         {
          "arrived": "18:40",
          "cleared": "19:07",
          "date": "07/29/16",
          "dispatched": "",
          "id": "160729059",
          "location": "pn5",
          "received": "17:12",
          "type": "found property"
         },
         {
          "arrived": "17:33",
          "cleared": "17:50",
          "date": "07/29/16",
          "dispatched": "",
          "id": "160729060",
          "location": "pn5",
          "received": "17:18",
          "type": "alcohol offense"
         },
         {
          "arrived": "17:38",
          "cleared": "18:38",
          "date": "07/29/16",
          "dispatched": "",
          "id": "160729061",
          "location": "pn7",
          "received": "17:25",
          "type": "dui"
         },
         {
          "arrived": "17:36",
          "cleared": "18:05",
          "date": "07/29/16",
          "dispatched": "17:31",
          "id": "160729062",
          "location": "pn5",
          "received": "17:26",
          "type": "welfare check"
         },
         {
          "arrived": "",
          "cleared": "17:39",
          "date": "07/29/16",
          "dispatched": "17:39",
          "id": "160729063",
          "location": "pn5",
          "received": "17:34",
          "type": "9-1-1 abandon"
         },
         {
          "arrived": "",
          "cleared": "17:49",
          "date": "07/29/16",
          "dispatched": "17:49",
          "id": "160729064",
          "location": "pn7",
          "received": "17:48",
          "type": "9-1-1 abandon"
         },
         {
          "arrived": "18:17",
          "cleared": "18:27",
          "date": "07/29/16",
          "dispatched": "",
          "id": "160729065",
          "location": "pn2",
          "received": "17:51",
          "type": "keep the peace"
         },
         {
          "arrived": "18:46",
          "cleared": "18:54",
          "date": "07/29/16",
          "dispatched": "18:38",
          "id": "160729066",
          "location": "pn12",
          "received": "18:11",
          "type": "coll non inj"
         },
         {
          "arrived": "18:26",
          "cleared": "18:30",
          "date": "07/29/16",
          "dispatched": "18:18",
          "id": "160729067",
          "location": "pn8",
          "received": "18:15",
          "type": "trespassing"
         },
         {
          "arrived": "18:37",
          "cleared": "18:50",
          "date": "07/29/16",
          "dispatched": "18:29",
          "id": "160729068",
          "location": "pn13",
          "received": "18:25",
          "type": "assist o police"
         },
         {
          "arrived": "19:32",
          "cleared": "19:33",
          "date": "07/29/16",
          "dispatched": "19:09",
          "id": "160729069",
          "location": "pn5",
          "received": "18:46",
          "type": "muni code viol"
         },
         {
          "arrived": "19:26",
          "cleared": "19:30",
          "date": "07/29/16",
          "dispatched": "19:09",
          "id": "160729070",
          "location": "pn5",
          "received": "19:05",
          "type": "suspicious"
         },
         {
          "arrived": "19:32",
          "cleared": "19:37",
          "date": "07/29/16",
          "dispatched": "19:31",
          "id": "160729071",
          "location": "pn12",
          "received": "19:17",
          "type": "alarm audible"
         },
         {
          "arrived": "21:18",
          "cleared": "21:54",
          "date": "07/29/16",
          "dispatched": "",
          "id": "160729072",
          "location": "pn6",
          "received": "21:18",
          "type": "warrant"
         },
         {
          "arrived": "21:55",
          "cleared": "22:02",
          "date": "07/29/16",
          "dispatched": "21:53",
          "id": "160729073",
          "location": "pn5",
          "received": "21:48",
          "type": "suspicious"
         },
         {
          "arrived": "22:25",
          "cleared": "22:31",
          "date": "07/29/16",
          "dispatched": "",
          "id": "160729074",
          "location": "pn8",
          "received": "22:25",
          "type": "muni code viol"
         },
         {
          "arrived": "22:34",
          "cleared": "22:41",
          "date": "07/29/16",
          "dispatched": "",
          "id": "160729075",
          "location": "pn5",
          "received": "22:34",
          "type": "fraud"
         },
         {
          "arrived": "22:44",
          "cleared": "22:46",
          "date": "07/29/16",
          "dispatched": "22:37",
          "id": "160729076",
          "location": "pn1",
          "received": "22:35",
          "type": "animal problem"
         },
         {
          "arrived": "23:03",
          "cleared": "23:06",
          "date": "07/29/16",
          "dispatched": "23:02",
          "id": "160729077",
          "location": "pn10",
          "received": "22:54",
          "type": "suspicious"
         },
         {
          "arrived": "23:08",
          "cleared": "23:14",
          "date": "07/29/16",
          "dispatched": "23:07",
          "id": "160729078",
          "location": "pn5",
          "received": "23:06",
          "type": "disorderly"
         },
         {
          "arrived": "23:10",
          "cleared": "23:12",
          "date": "07/29/16",
          "dispatched": "",
          "id": "160729079",
          "location": "pn5",
          "received": "23:10",
          "type": "muni code viol"
         },
         {
          "arrived": "23:15",
          "cleared": "23:23",
          "date": "07/29/16",
          "dispatched": "23:13",
          "id": "160729080",
          "location": "pn6",
          "received": "23:07",
          "type": "muni code viol"
         },
         {
          "arrived": "23:50",
          "cleared": "00:08",
          "date": "07/29/16",
          "dispatched": "23:44",
          "id": "160729081",
          "location": "pn2",
          "received": "23:20",
          "type": "noise party"
         },
         {
          "arrived": "23:50",
          "cleared": "23:55",
          "date": "07/29/16",
          "dispatched": "",
          "id": "160729082",
          "location": "pn3",
          "received": "23:29",
          "type": "noise party"
         },
         {
          "arrived": "23:45",
          "cleared": "00:05",
          "date": "07/29/16",
          "dispatched": "23:39",
          "id": "160729083",
          "location": "pn6",
          "received": "23:34",
          "type": "theft-vehicle"
         },
         {
          "arrived": "00:08",
          "cleared": "00:41",
          "date": "07/30/16",
          "dispatched": "00:02",
          "id": "160730001",
          "location": "pn13",
          "received": "00:00",
          "type": "assist req"
         },
         {
          "arrived": "00:14",
          "cleared": "00:14",
          "date": "07/30/16",
          "dispatched": "00:13",
          "id": "160730002",
          "location": "pn2",
          "received": "00:11",
          "type": "suspicious"
         },
         {
          "arrived": "00:28",
          "cleared": "00:42",
          "date": "07/30/16",
          "dispatched": "00:20",
          "id": "160730003",
          "location": "pn1",
          "received": "00:14",
          "type": "assist req"
         },
         {
          "arrived": "00:45",
          "cleared": "00:58",
          "date": "07/30/16",
          "dispatched": "",
          "id": "160730004",
          "location": "pn5",
          "received": "00:45",
          "type": "warrant"
         },
         {
          "arrived": "01:06",
          "cleared": "01:15",
          "date": "07/30/16",
          "dispatched": "00:54",
          "id": "160730005",
          "location": "pn3",
          "received": "00:53",
          "type": "noise party"
         },
         {
          "arrived": "01:30",
          "cleared": "01:37",
          "date": "07/30/16",
          "dispatched": "01:25",
          "id": "160730006",
          "location": "pn8",
          "received": "01:22",
          "type": "suspicious"
         },
         {
          "arrived": "01:31",
          "cleared": "02:06",
          "date": "07/30/16",
          "dispatched": "",
          "id": "160730007",
          "location": "pn6",
          "received": "01:31",
          "type": "dui"
         },
         {
          "arrived": "01:46",
          "cleared": "02:13",
          "date": "07/30/16",
          "dispatched": "01:38",
          "id": "160730008",
          "location": "pn1",
          "received": "01:35",
          "type": "noise other"
         },
         {
          "arrived": "02:03",
          "cleared": "02:07",
          "date": "07/30/16",
          "dispatched": "01:54",
          "id": "160730009",
          "location": "pn12",
          "received": "01:40",
          "type": "9-1-1 abandon"
         },
         {
          "arrived": "",
          "cleared": "01:45",
          "date": "07/30/16",
          "dispatched": "01:45",
          "id": "160730010",
          "location": "pn1",
          "received": "01:43",
          "type": "disorderly"
         },
         {
          "arrived": "01:59",
          "cleared": "02:07",
          "date": "07/30/16",
          "dispatched": "",
          "id": "160730011",
          "location": "pn5",
          "received": "01:59",
          "type": "assault"
         },
         {
          "arrived": "02:25",
          "cleared": "02:41",
          "date": "07/30/16",
          "dispatched": "02:22",
          "id": "160730012",
          "location": "pn7",
          "received": "02:18",
          "type": "disorderly"
         },
         {
          "arrived": "02:27",
          "cleared": "02:57",
          "date": "07/30/16",
          "dispatched": "02:23",
          "id": "160730013",
          "location": "pn2",
          "received": "02:21",
          "type": "prowler"
         },
         {
          "arrived": "02:42",
          "cleared": "03:56",
          "date": "07/30/16",
          "dispatched": "02:41",
          "id": "160730014",
          "location": "pn13",
          "received": "02:39",
          "type": "suspicious"
         },
         {
          "arrived": "03:04",
          "cleared": "03:28",
          "date": "07/30/16",
          "dispatched": "03:01",
          "id": "160730015",
          "location": "pn5",
          "received": "03:00",
          "type": "suspicious"
         },
         {
          "arrived": "03:19",
          "cleared": "03:23",
          "date": "07/30/16",
          "dispatched": "03:17",
          "id": "160730016",
          "location": "pn2",
          "received": "03:03",
          "type": "noise party"
         },
         {
          "arrived": "03:42",
          "cleared": "04:00",
          "date": "07/30/16",
          "dispatched": "03:40",
          "id": "160730017",
          "location": "pn5",
          "received": "03:39",
          "type": "disorderly"
         },
         {
          "arrived": "04:06",
          "cleared": "04:11",
          "date": "07/30/16",
          "dispatched": "04:05",
          "id": "160730018",
          "location": "pn3",
          "received": "04:03",
          "type": "found property"
         },
         {
          "arrived": "05:15",
          "cleared": "05:19",
          "date": "07/30/16",
          "dispatched": "05:13",
          "id": "160730019",
          "location": "pn6",
          "received": "05:11",
          "type": "alarm audible"
         },
         {
          "arrived": "",
          "cleared": "09:47",
          "date": "07/30/16",
          "dispatched": "09:46",
          "id": "160730020",
          "location": "pn1",
          "received": "09:45",
          "type": "aband vehicle"
         },
         {
          "arrived": "09:57",
          "cleared": "10:30",
          "date": "07/30/16",
          "dispatched": "09:53",
          "id": "160730021",
          "location": "pn5",
          "received": "09:51",
          "type": "assist req"
         },
         {
          "arrived": "",
          "cleared": "10:05",
          "date": "07/30/16",
          "dispatched": "10:05",
          "id": "160730022",
          "location": "pn2",
          "received": "10:02",
          "type": "traffic offense"
         },
         {
          "arrived": "10:33",
          "cleared": "10:36",
          "date": "07/30/16",
          "dispatched": "10:29",
          "id": "160730023",
          "location": "pn10",
          "received": "10:28",
          "type": "9-1-1 abandon"
         },
         {
          "arrived": "10:54",
          "cleared": "10:56",
          "date": "07/30/16",
          "dispatched": "10:49",
          "id": "160730024",
          "location": "pn13",
          "received": "10:45",
          "type": "lost property"
         },
         {
          "arrived": "10:57",
          "cleared": "10:57",
          "date": "07/30/16",
          "dispatched": "10:55",
          "id": "160730025",
          "location": "pn1",
          "received": "10:51",
          "type": "theft"
         },
         {
          "arrived": "11:09",
          "cleared": "11:13",
          "date": "07/30/16",
          "dispatched": "11:03",
          "id": "160730026",
          "location": "pn5",
          "received": "10:56",
          "type": "posting vehs"
         },
         {
          "arrived": "11:15",
          "cleared": "11:19",
          "date": "07/30/16",
          "dispatched": "11:11",
          "id": "160730027",
          "location": "pn8",
          "received": "11:05",
          "type": "suspicious"
         },
         {
          "arrived": "11:09",
          "cleared": "11:30",
          "date": "07/30/16",
          "dispatched": "",
          "id": "160730028",
          "location": "pn8",
          "received": "11:09",
          "type": "suspicious"
         },
         {
          "arrived": "11:20",
          "cleared": "11:24",
          "date": "07/30/16",
          "dispatched": "",
          "id": "160730029",
          "location": "pn5",
          "received": "11:19",
          "type": "towed vehicle"
         },
         {
          "arrived": "12:06",
          "cleared": "12:29",
          "date": "07/30/16",
          "dispatched": "11:58",
          "id": "160730030",
          "location": "pn5",
          "received": "11:57",
          "type": "muni code viol"
         },
         {
          "arrived": "12:19",
          "cleared": "13:14",
          "date": "07/30/16",
          "dispatched": "12:10",
          "id": "160730031",
          "location": "pn8",
          "received": "12:09",
          "type": "public works"
         },
         {
          "arrived": "12:16",
          "cleared": "12:20",
          "date": "07/30/16",
          "dispatched": "",
          "id": "160730032",
          "location": "pn6",
          "received": "12:16",
          "type": "traffic hazard"
         },
         {
          "arrived": "",
          "cleared": "12:22",
          "date": "07/30/16",
          "dispatched": "12:17",
          "id": "160730033",
          "location": "pn10",
          "received": "12:16",
          "type": "trespassing"
         },
         {
          "arrived": "12:33",
          "cleared": "13:16",
          "date": "07/30/16",
          "dispatched": "",
          "id": "160730034",
          "location": "pn10",
          "received": "12:32",
          "type": "warrant"
         },
         {
          "arrived": "12:44",
          "cleared": "13:24",
          "date": "07/30/16",
          "dispatched": "12:42",
          "id": "160730035",
          "location": "pn6",
          "received": "12:33",
          "type": "embezzlement"
         },
         {
          "arrived": "",
          "cleared": "12:55",
          "date": "07/30/16",
          "dispatched": "12:55",
          "id": "160730036",
          "location": "pn11",
          "received": "12:51",
          "type": "traffic offense"
         },
         {
          "arrived": "",
          "cleared": "12:55",
          "date": "07/30/16",
          "dispatched": "12:52",
          "id": "160730037",
          "location": "pn1",
          "received": "12:51",
          "type": "assist req"
         },
         {
          "arrived": "13:22",
          "cleared": "13:37",
          "date": "07/30/16",
          "dispatched": "13:16",
          "id": "160730038",
          "location": "pn6",
          "received": "13:06",
          "type": "loitering"
         },
         {
          "arrived": "13:31",
          "cleared": "14:03",
          "date": "07/30/16",
          "dispatched": "13:28",
          "id": "160730039",
          "location": "pn2",
          "received": "13:16",
          "type": "assist req"
         },
         {
          "arrived": "",
          "cleared": "13:32",
          "date": "07/30/16",
          "dispatched": "13:32",
          "id": "160730040",
          "location": "pn6",
          "received": "13:29",
          "type": "9-1-1 abandon"
         },
         {
          "arrived": "",
          "cleared": "13:54",
          "date": "07/30/16",
          "dispatched": "13:54",
          "id": "160730041",
          "location": "pn9",
          "received": "13:50",
          "type": "assist req"
         },
         {
          "arrived": "14:22",
          "cleared": "14:22",
          "date": "07/30/16",
          "dispatched": "14:09",
          "id": "160730042",
          "location": "pn5",
          "received": "14:02",
          "type": "lost property"
         },
         {
          "arrived": "14:20",
          "cleared": "14:33",
          "date": "07/30/16",
          "dispatched": "14:19",
          "id": "160730043",
          "location": "pn6",
          "received": "14:07",
          "type": "welfare check"
         },
         {
          "arrived": "14:25",
          "cleared": "14:37",
          "date": "07/30/16",
          "dispatched": "14:17",
          "id": "160730044",
          "location": "pn3",
          "received": "14:12",
          "type": "trespassing"
         },
         {
          "arrived": "14:49",
          "cleared": "14:49",
          "date": "07/30/16",
          "dispatched": "",
          "id": "160730045",
          "location": "pn1",
          "received": "14:16",
          "type": "theft"
         },
         {
          "arrived": "14:38",
          "cleared": "14:41",
          "date": "07/30/16",
          "dispatched": "14:34",
          "id": "160730046",
          "location": "pn10",
          "received": "14:20",
          "type": "suspicious"
         },
         {
          "arrived": "14:27",
          "cleared": "14:49",
          "date": "07/30/16",
          "dispatched": "14:22",
          "id": "160730047",
          "location": "pn5",
          "received": "14:21",
          "type": "assist req"
         },
         {
          "arrived": "14:32",
          "cleared": "14:43",
          "date": "07/30/16",
          "dispatched": "",
          "id": "160730048",
          "location": "pn12",
          "received": "14:25",
          "type": "traffic hazard"
         },
         {
          "arrived": "15:13",
          "cleared": "15:24",
          "date": "07/30/16",
          "dispatched": "",
          "id": "160730049",
          "location": "pn5",
          "received": "15:13",
          "type": "suspicious"
         },
         {
          "arrived": "15:31",
          "cleared": "15:37",
          "date": "07/30/16",
          "dispatched": "",
          "id": "160730050",
          "location": "pn5",
          "received": "15:31",
          "type": "assist o police"
         },
         {
          "arrived": "15:50",
          "cleared": "16:18",
          "date": "07/30/16",
          "dispatched": "15:45",
          "id": "160730051",
          "location": "pn4",
          "received": "15:42",
          "type": "suspicious"
         },
         {
          "arrived": "16:03",
          "cleared": "16:03",
          "date": "07/30/16",
          "dispatched": "15:53",
          "id": "160730052",
          "location": "pn7",
          "received": "15:52",
          "type": "9-1-1 abandon"
         },
         {
          "arrived": "16:05",
          "cleared": "16:16",
          "date": "07/30/16",
          "dispatched": "15:57",
          "id": "160730053",
          "location": "pn5",
          "received": "15:53",
          "type": "lost property"
         },
         {
          "arrived": "16:07",
          "cleared": "16:24",
          "date": "07/30/16",
          "dispatched": "16:03",
          "id": "160730054",
          "location": "pn1",
          "received": "16:01",
          "type": "disorderly"
         },
         {
          "arrived": "16:22",
          "cleared": "16:50",
          "date": "07/30/16",
          "dispatched": "16:18",
          "id": "160730055",
          "location": "pn13",
          "received": "16:11",
          "type": "animal problem"
         },
         {
          "arrived": "16:41",
          "cleared": "16:48",
          "date": "07/30/16",
          "dispatched": "16:35",
          "id": "160730056",
          "location": "pn5",
          "received": "16:27",
          "type": "disorderly"
         },
         {
          "arrived": "16:53",
          "cleared": "17:09",
          "date": "07/30/16",
          "dispatched": "16:47",
          "id": "160730057",
          "location": "pn11",
          "received": "16:45",
          "type": "welfare check"
         },
         {
          "arrived": "18:00",
          "cleared": "18:13",
          "date": "07/30/16",
          "dispatched": "17:59",
          "id": "160730058",
          "location": "pn10",
          "received": "17:08",
          "type": "loitering"
         },
         {
          "arrived": "17:23",
          "cleared": "17:29",
          "date": "07/30/16",
          "dispatched": "17:18",
          "id": "160730059",
          "location": "pn5",
          "received": "17:09",
          "type": "welfare check"
         },
         {
          "arrived": "17:31",
          "cleared": "17:38",
          "date": "07/30/16",
          "dispatched": "17:25",
          "id": "160730060",
          "location": "pn9",
          "received": "17:24",
          "type": "alarm audible"
         },
         {
          "arrived": "17:32",
          "cleared": "17:57",
          "date": "07/30/16",
          "dispatched": "",
          "id": "160730061",
          "location": "pn5",
          "received": "17:27",
          "type": "welfare check"
         },
         {
          "arrived": "17:51",
          "cleared": "18:05",
          "date": "07/30/16",
          "dispatched": "17:46",
          "id": "160730062",
          "location": "pn13",
          "received": "17:41",
          "type": "assist req"
         },
         {
          "arrived": "",
          "cleared": "18:21",
          "date": "07/30/16",
          "dispatched": "18:21",
          "id": "160730063",
          "location": "pn6",
          "received": "18:19",
          "type": "assist o police"
         },
         {
          "arrived": "19:07",
          "cleared": "19:07",
          "date": "07/30/16",
          "dispatched": "18:55",
          "id": "160730064",
          "location": "pn6",
          "received": "18:53",
          "type": "disorderly"
         },
         {
          "arrived": "19:10",
          "cleared": "19:12",
          "date": "07/30/16",
          "dispatched": "",
          "id": "160730065",
          "location": "pn5",
          "received": "18:48",
          "type": "mc-camping"
         },
         {
          "arrived": "19:16",
          "cleared": "19:59",
          "date": "07/30/16",
          "dispatched": "19:09",
          "id": "160730066",
          "location": "pn1",
          "received": "18:57",
          "type": "theft"
         },
         {
          "arrived": "19:14",
          "cleared": "20:00",
          "date": "07/30/16",
          "dispatched": "",
          "id": "160730067",
          "location": "pn5",
          "received": "19:06",
          "type": "muni code viol"
         },
         {
          "arrived": "19:27",
          "cleared": "19:27",
          "date": "07/30/16",
          "dispatched": "19:19",
          "id": "160730068",
          "location": "pn6",
          "received": "19:16",
          "type": "suspicious"
         },
         {
          "arrived": "19:23",
          "cleared": "19:23",
          "date": "07/30/16",
          "dispatched": "",
          "id": "160730069",
          "location": "pn5",
          "received": "19:18",
          "type": "alarm audible"
         },
         {
          "arrived": "",
          "cleared": "19:33",
          "date": "07/30/16",
          "dispatched": "19:25",
          "id": "160730070",
          "location": "pn7",
          "received": "19:21",
          "type": "traffic offense"
         },
         {
          "arrived": "20:10",
          "cleared": "20:18",
          "date": "07/30/16",
          "dispatched": "20:06",
          "id": "160730071",
          "location": "pn5",
          "received": "20:04",
          "type": "coll non inj"
         },
         {
          "arrived": "20:24",
          "cleared": "20:52",
          "date": "07/30/16",
          "dispatched": "20:16",
          "id": "160730072",
          "location": "pn10",
          "received": "20:14",
          "type": "alcohol offense"
         },
         {
          "arrived": "21:24",
          "cleared": "21:27",
          "date": "07/30/16",
          "dispatched": "21:20",
          "id": "160730073",
          "location": "pn5",
          "received": "21:17",
          "type": "traffic hazard"
         },
         {
          "arrived": "22:17",
          "cleared": "22:30",
          "date": "07/30/16",
          "dispatched": "22:04",
          "id": "160730074",
          "location": "pn2",
          "received": "22:03",
          "type": "noise party"
         },
         {
          "arrived": "22:14",
          "cleared": "22:19",
          "date": "07/30/16",
          "dispatched": "22:10",
          "id": "160730075",
          "location": "pn1",
          "received": "22:07",
          "type": "mc-sleeping"
         },
         {
          "arrived": "22:36",
          "cleared": "23:01",
          "date": "07/30/16",
          "dispatched": "22:32",
          "id": "160730076",
          "location": "pn8",
          "received": "22:24",
          "type": "vandalism"
         },
         {
          "arrived": "22:45",
          "cleared": "22:48",
          "date": "07/30/16",
          "dispatched": "",
          "id": "160730077",
          "location": "pn6",
          "received": "22:45",
          "type": "suspicious"
         },
         {
          "arrived": "23:10",
          "cleared": "23:21",
          "date": "07/30/16",
          "dispatched": "",
          "id": "160730078",
          "location": "pn13",
          "received": "23:10",
          "type": "trespassing"
         },
         {
          "arrived": "23:25",
          "cleared": "23:40",
          "date": "07/30/16",
          "dispatched": "23:15",
          "id": "160730079",
          "location": "pn2",
          "received": "23:14",
          "type": "noise party"
         },
         {
          "arrived": "",
          "cleared": "23:28",
          "date": "07/30/16",
          "dispatched": "23:25",
          "id": "160730080",
          "location": "pn1",
          "received": "23:23",
          "type": "noise police"
         },
         {
          "arrived": "23:47",
          "cleared": "23:59",
          "date": "07/30/16",
          "dispatched": "",
          "id": "160730081",
          "location": "pn1",
          "received": "23:24",
          "type": "noise party"
         },
         {
          "arrived": "23:46",
          "cleared": "23:47",
          "date": "07/30/16",
          "dispatched": "",
          "id": "160730082",
          "location": "pn1",
          "received": "23:23",
          "type": "noise party"
         },
         {
          "arrived": "00:08",
          "cleared": "00:14",
          "date": "07/30/16",
          "dispatched": "",
          "id": "160730083",
          "location": "pn6",
          "received": "23:36",
          "type": "noise party"
         },
         {
          "arrived": "23:58",
          "cleared": "00:15",
          "date": "07/30/16",
          "dispatched": "",
          "id": "160730084",
          "location": "pn9",
          "received": "23:58",
          "type": "towed vehicle"
         },
         {
          "arrived": "00:11",
          "cleared": "01:42",
          "date": "07/31/16",
          "dispatched": "00:10",
          "id": "160731001",
          "location": "pn6",
          "received": "00:07",
          "type": "coll non inj"
         },
         {
          "arrived": "00:30",
          "cleared": "01:21",
          "date": "07/31/16",
          "dispatched": "",
          "id": "160731002",
          "location": "pn10",
          "received": "00:30",
          "type": "towed vehicle"
         },
         {
          "arrived": "00:57",
          "cleared": "01:13",
          "date": "07/31/16",
          "dispatched": "00:49",
          "id": "160731003",
          "location": "pn1",
          "received": "00:48",
          "type": "noise party"
         },
         {
          "arrived": "01:00",
          "cleared": "01:12",
          "date": "07/31/16",
          "dispatched": "00:59",
          "id": "160731004",
          "location": "pn5",
          "received": "00:57",
          "type": "alcohol offense"
         },
         {
          "arrived": "01:27",
          "cleared": "01:53",
          "date": "07/31/16",
          "dispatched": "01:20",
          "id": "160731005",
          "location": "pn1",
          "received": "01:16",
          "type": "noise 2nd resp"
         },
         {
          "arrived": "01:23",
          "cleared": "01:33",
          "date": "07/31/16",
          "dispatched": "01:22",
          "id": "160731006",
          "location": "pn2",
          "received": "01:21",
          "type": "disorderly"
         },
         {
          "arrived": "01:33",
          "cleared": "01:45",
          "date": "07/31/16",
          "dispatched": "01:30",
          "id": "160731007",
          "location": "pn3",
          "received": "01:29",
          "type": "alcohol offense"
         },
         {
          "arrived": "02:24",
          "cleared": "02:29",
          "date": "07/31/16",
          "dispatched": "02:21",
          "id": "160731008",
          "location": "pn2",
          "received": "02:20",
          "type": "suspicious"
         },
         {
          "arrived": "02:35",
          "cleared": "02:37",
          "date": "07/31/16",
          "dispatched": "02:32",
          "id": "160731009",
          "location": "pn2",
          "received": "02:30",
          "type": "suspicious"
         },
         {
          "arrived": "03:39",
          "cleared": "03:44",
          "date": "07/31/16",
          "dispatched": "03:39",
          "id": "160731010",
          "location": "pn8",
          "received": "03:18",
          "type": "noise party"
         },
         {
          "arrived": "03:27",
          "cleared": "03:39",
          "date": "07/31/16",
          "dispatched": "03:20",
          "id": "160731011",
          "location": "pn13",
          "received": "03:18",
          "type": "assist req"
         },
         {
          "arrived": "03:46",
          "cleared": "03:49",
          "date": "07/31/16",
          "dispatched": "",
          "id": "160731012",
          "location": "pn13",
          "received": "03:46",
          "type": "suspicious"
         },
         {
          "arrived": "03:54",
          "cleared": "04:30",
          "date": "07/31/16",
          "dispatched": "",
          "id": "160731013",
          "location": "pn13",
          "received": "03:54",
          "type": "trespassing"
         },
         {
          "arrived": "04:24",
          "cleared": "04:28",
          "date": "07/31/16",
          "dispatched": "",
          "id": "160731014",
          "location": "pn13",
          "received": "04:24",
          "type": "trespassing"
         },
         {
          "arrived": "04:37",
          "cleared": "04:42",
          "date": "07/31/16",
          "dispatched": "",
          "id": "160731015",
          "location": "pn13",
          "received": "04:37",
          "type": "trespassing"
         },
         {
          "arrived": "04:50",
          "cleared": "04:53",
          "date": "07/31/16",
          "dispatched": "",
          "id": "160731016",
          "location": "pn13",
          "received": "04:50",
          "type": "trespassing"
         },
         {
          "arrived": "05:24",
          "cleared": "06:05",
          "date": "07/31/16",
          "dispatched": "",
          "id": "160731017",
          "location": "pn6",
          "received": "05:24",
          "type": "warrant"
         },
         {
          "arrived": "05:35",
          "cleared": "05:39",
          "date": "07/31/16",
          "dispatched": "",
          "id": "160731018",
          "location": "pn6",
          "received": "05:35",
          "type": "suspicious"
         },
         {
          "arrived": "05:53",
          "cleared": "05:55",
          "date": "07/31/16",
          "dispatched": "05:45",
          "id": "160731019",
          "location": "pn11",
          "received": "05:43",
          "type": "suspicious"
         },
         {
          "arrived": "06:31",
          "cleared": "07:24",
          "date": "07/31/16",
          "dispatched": "06:27",
          "id": "160731020",
          "location": "pn2",
          "received": "06:21",
          "type": "keep the peace"
         },
         {
          "arrived": "06:41",
          "cleared": "06:47",
          "date": "07/31/16",
          "dispatched": "06:37",
          "id": "160731021",
          "location": "pn6",
          "received": "06:34",
          "type": "loitering"
         },
         {
          "arrived": "07:45",
          "cleared": "08:07",
          "date": "07/31/16",
          "dispatched": "07:13",
          "id": "160731022",
          "location": "pn6",
          "received": "07:11",
          "type": "loitering"
         },
         {
          "arrived": "08:51",
          "cleared": "09:01",
          "date": "07/31/16",
          "dispatched": "08:48",
          "id": "160731023",
          "location": "pn1",
          "received": "08:44",
          "type": "disorderly"
         },
         {
          "arrived": "08:47",
          "cleared": "08:52",
          "date": "07/31/16",
          "dispatched": "",
          "id": "160731024",
          "location": "pn9",
          "received": "08:47",
          "type": "suspicious"
         },
         {
          "arrived": "09:53",
          "cleared": "09:54",
          "date": "07/31/16",
          "dispatched": "09:30",
          "id": "160731025",
          "location": "pn5",
          "received": "09:28",
          "type": "welfare check"
         },
         {
          "arrived": "09:36",
          "cleared": "09:59",
          "date": "07/31/16",
          "dispatched": "",
          "id": "160731026",
          "location": "pn2",
          "received": "09:36",
          "type": "suspicious"
         },
         {
          "arrived": "09:46",
          "cleared": "09:47",
          "date": "07/31/16",
          "dispatched": "09:46",
          "id": "160731027",
          "location": "pn2",
          "received": "09:41",
          "type": "traffic hazard"
         },
         {
          "arrived": "",
          "cleared": "10:11",
          "date": "07/31/16",
          "dispatched": "10:10",
          "id": "160731028",
          "location": "pn8",
          "received": "10:07",
          "type": "9-1-1 abandon"
         },
         {
          "arrived": "10:21",
          "cleared": "10:21",
          "date": "07/31/16",
          "dispatched": "10:20",
          "id": "160731029",
          "location": "pn1",
          "received": "10:14",
          "type": "attempt theft"
         },
         {
          "arrived": "10:19",
          "cleared": "10:23",
          "date": "07/31/16",
          "dispatched": "",
          "id": "160731030",
          "location": "pn10",
          "received": "10:19",
          "type": "suspicious"
         },
         {
          "arrived": "10:52",
          "cleared": "11:04",
          "date": "07/31/16",
          "dispatched": "10:48",
          "id": "160731031",
          "location": "pn1",
          "received": "10:42",
          "type": "citizen dispute"
         },
         {
          "arrived": "11:00",
          "cleared": "11:16",
          "date": "07/31/16",
          "dispatched": "10:47",
          "id": "160731032",
          "location": "pn9",
          "received": "10:44",
          "type": "welfare check"
         },
         {
          "arrived": "11:28",
          "cleared": "11:31",
          "date": "07/31/16",
          "dispatched": "11:20",
          "id": "160731033",
          "location": "pn6",
          "received": "11:16",
          "type": "trespassing"
         },
         {
          "arrived": "07:20",
          "cleared": "07:21",
          "date": "07/31/16",
          "dispatched": "07:12",
          "id": "160731034",
          "location": "pn5",
          "received": "11:23",
          "type": "posting vehs"
         },
         {
          "arrived": "11:36",
          "cleared": "11:54",
          "date": "07/31/16",
          "dispatched": "11:28",
          "id": "160731035",
          "location": "pn7",
          "received": "11:25",
          "type": "citizen dispute"
         },
         {
          "arrived": "11:51",
          "cleared": "12:03",
          "date": "07/31/16",
          "dispatched": "11:49",
          "id": "160731036",
          "location": "pn5",
          "received": "11:29",
          "type": "loitering"
         },
         {
          "arrived": "11:33",
          "cleared": "12:34",
          "date": "07/31/16",
          "dispatched": "",
          "id": "160731037",
          "location": "pn6",
          "received": "11:33",
          "type": "warrant"
         },
         {
          "arrived": "11:59",
          "cleared": "12:40",
          "date": "07/31/16",
          "dispatched": "11:58",
          "id": "160731038",
          "location": "pn9",
          "received": "11:56",
          "type": "loitering"
         },
         {
          "arrived": "13:32",
          "cleared": "13:49",
          "date": "07/31/16",
          "dispatched": "",
          "id": "160731039",
          "location": "pn5",
          "received": "12:36",
          "type": "assist req"
         },
         {
          "arrived": "12:43",
          "cleared": "13:30",
          "date": "07/31/16",
          "dispatched": "12:40",
          "id": "160731040",
          "location": "pn8",
          "received": "12:33",
          "type": "medical"
         },
         {
          "arrived": "",
          "cleared": "12:47",
          "date": "07/31/16",
          "dispatched": "12:47",
          "id": "160731041",
          "location": "pn5",
          "received": "12:46",
          "type": "citizen dispute"
         },
         {
          "arrived": "13:09",
          "cleared": "13:30",
          "date": "07/31/16",
          "dispatched": "12:57",
          "id": "160731042",
          "location": "pn7",
          "received": "12:50",
          "type": "theft"
         },
         {
          "arrived": "12:56",
          "cleared": "13:20",
          "date": "07/31/16",
          "dispatched": "",
          "id": "160731043",
          "location": "pn2",
          "received": "12:56",
          "type": "suspicious"
         },
         {
          "arrived": "13:21",
          "cleared": "13:32",
          "date": "07/31/16",
          "dispatched": "",
          "id": "160731044",
          "location": "pn12",
          "received": "13:16",
          "type": "suspicious"
         },
         {
          "arrived": "13:41",
          "cleared": "13:51",
          "date": "07/31/16",
          "dispatched": "",
          "id": "160731045",
          "location": "pn6",
          "received": "13:41",
          "type": "alcohol offense"
         },
         {
          "arrived": "13:49",
          "cleared": "17:18",
          "date": "07/31/16",
          "dispatched": "",
          "id": "160731046",
          "location": "pn11",
          "received": "13:49",
          "type": "resisting"
         },
         {
          "arrived": "14:21",
          "cleared": "15:54",
          "date": "07/31/16",
          "dispatched": "14:10",
          "id": "160731047",
          "location": "pn5",
          "received": "14:02",
          "type": "burg com"
         },
         {
          "arrived": "14:06",
          "cleared": "15:31",
          "date": "07/31/16",
          "dispatched": "",
          "id": "160731048",
          "location": "pn11",
          "received": "14:06",
          "type": "resisting"
         },
         {
          "arrived": "15:07",
          "cleared": "15:11",
          "date": "07/31/16",
          "dispatched": "14:58",
          "id": "160731049",
          "location": "pn13",
          "received": "14:45",
          "type": "animal problem"
         },
         {
          "arrived": "",
          "cleared": "15:16",
          "date": "07/31/16",
          "dispatched": "15:16",
          "id": "160731050",
          "location": "pn13",
          "received": "14:58",
          "type": "animal problem"
         },
         {
          "arrived": "15:52",
          "cleared": "16:48",
          "date": "07/31/16",
          "dispatched": "15:47",
          "id": "160731051",
          "location": "pn9",
          "received": "15:36",
          "type": "medical"
         },
         {
          "arrived": "16:00",
          "cleared": "16:07",
          "date": "07/31/16",
          "dispatched": "15:56",
          "id": "160731052",
          "location": "pn6",
          "received": "15:54",
          "type": "posting vehs"
         },
         {
          "arrived": "17:13",
          "cleared": "17:32",
          "date": "07/31/16",
          "dispatched": "17:05",
          "id": "160731053",
          "location": "pn7",
          "received": "17:03",
          "type": "disorderly"
         },
         {
          "arrived": "18:00",
          "cleared": "18:21",
          "date": "07/31/16",
          "dispatched": "17:57",
          "id": "160731054",
          "location": "pn3",
          "received": "17:51",
          "type": "coll hit and ru"
         },
         {
          "arrived": "18:09",
          "cleared": "18:12",
          "date": "07/31/16",
          "dispatched": "18:08",
          "id": "160731055",
          "location": "pn2",
          "received": "18:05",
          "type": "assist o police"
         },
         {
          "arrived": "18:21",
          "cleared": "18:32",
          "date": "07/31/16",
          "dispatched": "",
          "id": "160731056",
          "location": "pn10",
          "received": "18:21",
          "type": "traffic offense"
         },
         {
          "arrived": "18:40",
          "cleared": "18:52",
          "date": "07/31/16",
          "dispatched": "18:32",
          "id": "160731057",
          "location": "pn10",
          "received": "18:29",
          "type": "mc-camping"
         },
         {
          "arrived": "18:45",
          "cleared": "18:57",
          "date": "07/31/16",
          "dispatched": "18:40",
          "id": "160731058",
          "location": "pn13",
          "received": "18:36",
          "type": "controlled narc"
         },
         {
          "arrived": "19:35",
          "cleared": "19:52",
          "date": "07/31/16",
          "dispatched": "19:16",
          "id": "160731059",
          "location": "pn5",
          "received": "18:42",
          "type": "suspicious"
         },
         {
          "arrived": "",
          "cleared": "19:21",
          "date": "07/31/16",
          "dispatched": "19:16",
          "id": "160731060",
          "location": "pn6",
          "received": "19:15",
          "type": "alarm audible"
         },
         {
          "arrived": "19:47",
          "cleared": "20:02",
          "date": "07/31/16",
          "dispatched": "",
          "id": "160731061",
          "location": "pn5",
          "received": "19:47",
          "type": "alcohol offense"
         },
         {
          "arrived": "19:53",
          "cleared": "20:38",
          "date": "07/31/16",
          "dispatched": "",
          "id": "160731062",
          "location": "pn5",
          "received": "19:49",
          "type": "suspicious"
         },
         {
          "arrived": "20:17",
          "cleared": "20:18",
          "date": "07/31/16",
          "dispatched": "19:57",
          "id": "160731063",
          "location": "pn13",
          "received": "19:53",
          "type": "suspicious"
         },
         {
          "arrived": "20:02",
          "cleared": "20:14",
          "date": "07/31/16",
          "dispatched": "",
          "id": "160731064",
          "location": "pn5",
          "received": "20:02",
          "type": "controlled narc"
         },
         {
          "arrived": "20:15",
          "cleared": "20:15",
          "date": "07/31/16",
          "dispatched": "",
          "id": "160731065",
          "location": "pn5",
          "received": "20:14",
          "type": "found property"
         },
         {
          "arrived": "20:45",
          "cleared": "21:36",
          "date": "07/31/16",
          "dispatched": "20:39",
          "id": "160731066",
          "location": "pn10",
          "received": "20:17",
          "type": "mc-camping"
         },
         {
          "arrived": "20:26",
          "cleared": "20:38",
          "date": "07/31/16",
          "dispatched": "20:22",
          "id": "160731067",
          "location": "pn1",
          "received": "20:19",
          "type": "suspicious"
         },
         {
          "arrived": "21:24",
          "cleared": "21:48",
          "date": "07/31/16",
          "dispatched": "",
          "id": "160731068",
          "location": "pn11",
          "received": "21:11",
          "type": "animal problem"
         },
         {
          "arrived": "21:24",
          "cleared": "21:51",
          "date": "07/31/16",
          "dispatched": "21:20",
          "id": "160731069",
          "location": "pn10",
          "received": "21:16",
          "type": "suspicious"
         },
         {
          "arrived": "21:56",
          "cleared": "22:05",
          "date": "07/31/16",
          "dispatched": "21:49",
          "id": "160731070",
          "location": "pn6",
          "received": "21:17",
          "type": "suspicious"
         },
         {
          "arrived": "",
          "cleared": "22:39",
          "date": "07/31/16",
          "dispatched": "22:37",
          "id": "160731071",
          "location": "pn6",
          "received": "22:36",
          "type": "public works"
         },
         {
          "arrived": "22:59",
          "cleared": "23:50",
          "date": "07/31/16",
          "dispatched": "",
          "id": "160731072",
          "location": "pn6",
          "received": "22:59",
          "type": "assist o police"
         },
         {
          "arrived": "23:36",
          "cleared": "23:40",
          "date": "07/31/16",
          "dispatched": "23:32",
          "id": "160731073",
          "location": "pn3",
          "received": "23:31",
          "type": "alarm audible"
         },
         {
          "arrived": "23:44",
          "cleared": "23:50",
          "date": "07/31/16",
          "dispatched": "23:42",
          "id": "160731074",
          "location": "pn5",
          "received": "23:33",
          "type": "welfare check"
         },
         {
          "arrived": "23:41",
          "cleared": "23:42",
          "date": "07/31/16",
          "dispatched": "",
          "id": "160731075",
          "location": "pn5",
          "received": "23:41",
          "type": "suspicious"
         },
         {
          "arrived": "23:46",
          "cleared": "23:49",
          "date": "07/31/16",
          "dispatched": "23:45",
          "id": "160731076",
          "location": "pn5",
          "received": "23:41",
          "type": "suspicious"
         },
         {
          "arrived": "00:05",
          "cleared": "00:15",
          "date": "07/31/16",
          "dispatched": "23:58",
          "id": "160731077",
          "location": "pn13",
          "received": "23:55",
          "type": "loitering"
         },
         {
          "arrived": "00:10",
          "cleared": "01:01",
          "date": "08/01/16",
          "dispatched": "",
          "id": "160801001",
          "location": "pn1",
          "received": "00:10",
          "type": "warrant"
         },
         {
          "arrived": "00:55",
          "cleared": "01:46",
          "date": "08/01/16",
          "dispatched": "00:41",
          "id": "160801002",
          "location": "pn7",
          "received": "00:38",
          "type": "loitering"
         },
         {
          "arrived": "01:40",
          "cleared": "01:44",
          "date": "08/01/16",
          "dispatched": "01:33",
          "id": "160801003",
          "location": "pn1",
          "received": "00:41",
          "type": "noise police"
         },
         {
          "arrived": "01:42",
          "cleared": "02:14",
          "date": "08/01/16",
          "dispatched": "01:33",
          "id": "160801004",
          "location": "pn1",
          "received": "00:42",
          "type": "vandalism"
         },
         {
          "arrived": "02:20",
          "cleared": "04:44",
          "date": "08/01/16",
          "dispatched": "02:15",
          "id": "160801005",
          "location": "pn8",
          "received": "01:55",
          "type": "suspicious"
         },
         {
          "arrived": "02:08",
          "cleared": "02:39",
          "date": "08/01/16",
          "dispatched": "02:02",
          "id": "160801006",
          "location": "pn5",
          "received": "01:59",
          "type": "welfare check"
         },
         {
          "arrived": "03:51",
          "cleared": "03:51",
          "date": "08/01/16",
          "dispatched": "03:51",
          "id": "160801007",
          "location": "pn10",
          "received": "02:43",
          "type": "traffic offense"
         },
         {
          "arrived": "",
          "cleared": "02:59",
          "date": "08/01/16",
          "dispatched": "02:49",
          "id": "160801008",
          "location": "pn3",
          "received": "02:46",
          "type": "suspicious"
         },
         {
          "arrived": "03:04",
          "cleared": "03:00",
          "date": "08/01/16",
          "dispatched": "02:59",
          "id": "160801009",
          "location": "pn9",
          "received": "02:54",
          "type": "suspicious"
         },
         {
          "arrived": "03:57",
          "cleared": "04:13",
          "date": "08/01/16",
          "dispatched": "03:53",
          "id": "160801010",
          "location": "pn2",
          "received": "03:47",
          "type": "alarm audible"
         },
         {
          "arrived": "04:27",
          "cleared": "04:33",
          "date": "08/01/16",
          "dispatched": "04:22",
          "id": "160801011",
          "location": "pn9",
          "received": "04:19",
          "type": "loitering"
         },
         {
          "arrived": "04:38",
          "cleared": "04:53",
          "date": "08/01/16",
          "dispatched": "04:33",
          "id": "160801012",
          "location": "pn12",
          "received": "04:31",
          "type": "suicide attempt"
         },
         {
          "arrived": "04:49",
          "cleared": "04:55",
          "date": "08/01/16",
          "dispatched": "04:44",
          "id": "160801013",
          "location": "pn2",
          "received": "04:34",
          "type": "disorderly"
         },
         {
          "arrived": "04:57",
          "cleared": "05:02",
          "date": "08/01/16",
          "dispatched": "04:54",
          "id": "160801014",
          "location": "pn6",
          "received": "04:48",
          "type": "alarm audible"
         },
         {
          "arrived": "05:37",
          "cleared": "05:41",
          "date": "08/01/16",
          "dispatched": "",
          "id": "160801015",
          "location": "pn10",
          "received": "04:52",
          "type": "loitering"
         },
         {
          "arrived": "05:08",
          "cleared": "05:45",
          "date": "08/01/16",
          "dispatched": "05:08",
          "id": "160801016",
          "location": "pn5",
          "received": "05:07",
          "type": "disorderly"
         },
         {
          "arrived": "05:45",
          "cleared": "05:53",
          "date": "08/01/16",
          "dispatched": "",
          "id": "160801017",
          "location": "pn5",
          "received": "05:42",
          "type": "warrant"
         },
         {
          "arrived": "06:45",
          "cleared": "07:17",
          "date": "08/01/16",
          "dispatched": "06:38",
          "id": "160801018",
          "location": "pn5",
          "received": "06:36",
          "type": "loitering"
         },
         {
          "arrived": "07:38",
          "cleared": "07:42",
          "date": "08/15/16",
          "dispatched": "07:25",
          "id": "160815011",
          "location": "pn6",
          "received": "07:12",
          "type": "posting vehs"
         },
         {
          "arrived": "07:38",
          "cleared": "07:49",
          "date": "08/15/16",
          "dispatched": "07:20",
          "id": "160815012",
          "location": "pn12",
          "received": "07:17",
          "type": "controlled narc"
         },
         {
          "arrived": "07:43",
          "cleared": "07:48",
          "date": "08/15/16",
          "dispatched": "07:23",
          "id": "160815013",
          "location": "pn11",
          "received": "07:23",
          "type": "welfare check"
         },
         {
          "arrived": "07:40",
          "cleared": "07:42",
          "date": "08/15/16",
          "dispatched": "",
          "id": "160815014",
          "location": "pn7",
          "received": "07:28",
          "type": "parking problem"
         },
         {
          "arrived": "08:08",
          "cleared": "08:34",
          "date": "08/15/16",
          "dispatched": "08:04",
          "id": "160815015",
          "location": "pn6",
          "received": "07:56",
          "type": "vandalism"
         },
         {
          "arrived": "08:07",
          "cleared": "08:37",
          "date": "08/15/16",
          "dispatched": "08:04",
          "id": "160815016",
          "location": "pn9",
          "received": "07:58",
          "type": "theft"
         },
         {
          "arrived": "08:12",
          "cleared": "08:22",
          "date": "08/15/16",
          "dispatched": "08:07",
          "id": "160815017",
          "location": "pn5",
          "received": "08:04",
          "type": "trespassing"
         },
         {
          "arrived": "09:03",
          "cleared": "09:18",
          "date": "08/15/16",
          "dispatched": "08:54",
          "id": "160815018",
          "location": "pn7",
          "received": "08:49",
          "type": "parking problem"
         },
         {
          "arrived": "10:07",
          "cleared": "09:37",
          "date": "08/15/16",
          "dispatched": "09:20",
          "id": "160815019",
          "location": "pn8",
          "received": "09:17",
          "type": "found property"
         },
         {
          "arrived": "09:25",
          "cleared": "09:34",
          "date": "08/15/16",
          "dispatched": "09:23",
          "id": "160815020",
          "location": "pn5",
          "received": "09:20",
          "type": "trespassing"
         },
         {
          "arrived": "09:45",
          "cleared": "10:44",
          "date": "08/15/16",
          "dispatched": "",
          "id": "160815021",
          "location": "pn10",
          "received": "09:35",
          "type": "coll non inj"
         },
         {
          "arrived": "09:43",
          "cleared": "10:00",
          "date": "08/15/16",
          "dispatched": "09:37",
          "id": "160815022",
          "location": "pn13",
          "received": "09:37",
          "type": "coll non inj"
         },
         {
          "arrived": "09:41",
          "cleared": "09:42",
          "date": "08/15/16",
          "dispatched": "",
          "id": "160815023",
          "location": "pn11",
          "received": "09:38",
          "type": "fraud"
         },
         {
          "arrived": "09:57",
          "cleared": "09:58",
          "date": "08/15/16",
          "dispatched": "",
          "id": "160815024",
          "location": "pn13",
          "received": "09:55",
          "type": "traffic offense"
         },
         {
          "arrived": "10:12",
          "cleared": "11:28",
          "date": "08/15/16",
          "dispatched": "10:00",
          "id": "160815025",
          "location": "pn3",
          "received": "09:54",
          "type": "welfare check"
         },
         {
          "arrived": "10:34",
          "cleared": "10:34",
          "date": "08/15/16",
          "dispatched": "",
          "id": "160815026",
          "location": "pn6",
          "received": "10:30",
          "type": "aband vehicle"
         },
         {
          "arrived": "10:55",
          "cleared": "11:37",
          "date": "08/15/16",
          "dispatched": "10:48",
          "id": "160815027",
          "location": "pn7",
          "received": "10:42",
          "type": "controlled narc"
         },
         {
          "arrived": "11:31",
          "cleared": "11:31",
          "date": "08/15/16",
          "dispatched": "11:03",
          "id": "160815028",
          "location": "pn9",
          "received": "10:46",
          "type": "theft"
         },
         {
          "arrived": "11:18",
          "cleared": "11:26",
          "date": "08/15/16",
          "dispatched": "11:15",
          "id": "160815029",
          "location": "pn5",
          "received": "11:13",
          "type": "assist req"
         },
         {
          "arrived": "11:39",
          "cleared": "11:49",
          "date": "08/15/16",
          "dispatched": "11:26",
          "id": "160815030",
          "location": "pn6",
          "received": "11:22",
          "type": "parking problem"
         },
         {
          "arrived": "11:35",
          "cleared": "13:12",
          "date": "08/15/16",
          "dispatched": "11:26",
          "id": "160815031",
          "location": "lz0",
          "received": "11:23",
          "type": "assist o police"
         },
         {
          "arrived": "11:40",
          "cleared": "11:59",
          "date": "08/15/16",
          "dispatched": "11:35",
          "id": "160815032",
          "location": "pn10",
          "received": "11:27",
          "type": "welfare check"
         },
         {
          "arrived": "11:49",
          "cleared": "13:21",
          "date": "08/15/16",
          "dispatched": "",
          "id": "160815033",
          "location": "pn7",
          "received": "11:42",
          "type": "suspicious"
         },
         {
          "arrived": "12:08",
          "cleared": "12:08",
          "date": "08/15/16",
          "dispatched": "",
          "id": "160815034",
          "location": "pn6",
          "received": "12:08",
          "type": "aband vehicle"
         },
         {
          "arrived": "12:16",
          "cleared": "12:37",
          "date": "08/15/16",
          "dispatched": "12:16",
          "id": "160815035",
          "location": "pn13",
          "received": "12:06",
          "type": "threatening"
         },
         {
          "arrived": "12:30",
          "cleared": "12:30",
          "date": "08/15/16",
          "dispatched": "",
          "id": "160815036",
          "location": "pn6",
          "received": "12:29",
          "type": "aband vehicle"
         },
         {
          "arrived": "12:44",
          "cleared": "12:53",
          "date": "08/15/16",
          "dispatched": "12:36",
          "id": "160815037",
          "location": "pn11",
          "received": "12:33",
          "type": "coll non inj"
         },
         {
          "arrived": "12:40",
          "cleared": "12:40",
          "date": "08/15/16",
          "dispatched": "",
          "id": "160815038",
          "location": "pn10",
          "received": "12:37",
          "type": "aband vehicle"
         },
         {
          "arrived": "12:47",
          "cleared": "13:12",
          "date": "08/15/16",
          "dispatched": "12:40",
          "id": "160815039",
          "location": "pn5",
          "received": "12:37",
          "type": "assist req"
         },
         {
          "arrived": "13:53",
          "cleared": "14:31",
          "date": "08/15/16",
          "dispatched": "",
          "id": "160815040",
          "location": "pn11",
          "received": "13:53",
          "type": "trespassing"
         },
         {
          "arrived": "14:16",
          "cleared": "14:22",
          "date": "08/15/16",
          "dispatched": "14:04",
          "id": "160815041",
          "location": "pn5",
          "received": "14:03",
          "type": "parking problem"
         },
         {
          "arrived": "14:11",
          "cleared": "14:32",
          "date": "08/15/16",
          "dispatched": "14:06",
          "id": "160815042",
          "location": "pn5",
          "received": "14:03",
          "type": "assist req"
         },
         {
          "arrived": "",
          "cleared": "14:09",
          "date": "08/15/16",
          "dispatched": "14:08",
          "id": "160815043",
          "location": "pn5",
          "received": "14:07",
          "type": "child abuse"
         },
         {
          "arrived": "14:11",
          "cleared": "14:11",
          "date": "08/15/16",
          "dispatched": "",
          "id": "160815044",
          "location": "pn9",
          "received": "14:10",
          "type": "9-1-1 abandon"
         },
         {
          "arrived": "14:38",
          "cleared": "14:42",
          "date": "08/15/16",
          "dispatched": "14:29",
          "id": "160815045",
          "location": "pn7",
          "received": "14:25",
          "type": "trespassing"
         },
         {
          "arrived": "14:35",
          "cleared": "14:36",
          "date": "08/15/16",
          "dispatched": "",
          "id": "160815046",
          "location": "pn10",
          "received": "14:34",
          "type": "aband vehicle"
         },
         {
          "arrived": "14:43",
          "cleared": "14:48",
          "date": "08/15/16",
          "dispatched": "",
          "id": "160815047",
          "location": "pn7",
          "received": "14:40",
          "type": "aband vehicle"
         },
         {
          "arrived": "",
          "cleared": "14:48",
          "date": "08/15/16",
          "dispatched": "",
          "id": "160815048",
          "location": "pn7",
          "received": "14:41",
          "type": "aband vehicle"
         },
         {
          "arrived": "14:56",
          "cleared": "15:09",
          "date": "08/15/16",
          "dispatched": "14:55",
          "id": "160815049",
          "location": "pn2",
          "received": "14:52",
          "type": "suspicious"
         },
         {
          "arrived": "15:37",
          "cleared": "15:49",
          "date": "08/15/16",
          "dispatched": "15:29",
          "id": "160815050",
          "location": "pn6",
          "received": "15:17",
          "type": "welfare check"
         },
         {
          "arrived": "15:35",
          "cleared": "16:07",
          "date": "08/15/16",
          "dispatched": "15:29",
          "id": "160815051",
          "location": "pn1",
          "received": "15:21",
          "type": "attempt-locate"
         },
         {
          "arrived": "15:37",
          "cleared": "15:37",
          "date": "08/15/16",
          "dispatched": "",
          "id": "160815052",
          "location": "pn7",
          "received": "15:35",
          "type": "aband vehicle"
         },
         {
          "arrived": "15:54",
          "cleared": "16:06",
          "date": "08/15/16",
          "dispatched": "15:51",
          "id": "160815053",
          "location": "pn6",
          "received": "15:37",
          "type": "welfare check"
         },
         {
          "arrived": "15:43",
          "cleared": "16:10",
          "date": "08/15/16",
          "dispatched": "",
          "id": "160815054",
          "location": "pn10",
          "received": "15:43",
          "type": "coll non inj"
         },
         {
          "arrived": "16:12",
          "cleared": "16:31",
          "date": "08/15/16",
          "dispatched": "16:09",
          "id": "160815055",
          "location": "pn2",
          "received": "15:47",
          "type": "controlled narc"
         },
         {
          "arrived": "16:15",
          "cleared": "16:19",
          "date": "08/15/16",
          "dispatched": "",
          "id": "160815056",
          "location": "pn10",
          "received": "16:09",
          "type": "controlled narc"
         },
         {
          "arrived": "16:26",
          "cleared": "16:49",
          "date": "08/15/16",
          "dispatched": "16:16",
          "id": "160815057",
          "location": "pn6",
          "received": "16:15",
          "type": "keep the peace"
         },
         {
          "arrived": "16:45",
          "cleared": "17:10",
          "date": "08/15/16",
          "dispatched": "16:34",
          "id": "160815058",
          "location": "pn13",
          "received": "16:30",
          "type": "coll non inj"
         },
         {
          "arrived": "16:47",
          "cleared": "17:56",
          "date": "08/15/16",
          "dispatched": "16:40",
          "id": "160815059",
          "location": "pn10",
          "received": "16:38",
          "type": "citizen dispute"
         },
         {
          "arrived": "17:26",
          "cleared": "17:42",
          "date": "08/15/16",
          "dispatched": "17:12",
          "id": "160815060",
          "location": "pn5",
          "received": "17:11",
          "type": "coll non inj"
         },
         {
          "arrived": "17:22",
          "cleared": "17:48",
          "date": "08/15/16",
          "dispatched": "",
          "id": "160815061",
          "location": "pn5",
          "received": "17:19",
          "type": "assist req"
         },
         {
          "arrived": "17:36",
          "cleared": "17:47",
          "date": "08/15/16",
          "dispatched": "17:31",
          "id": "160815062",
          "location": "pn9",
          "received": "17:24",
          "type": "citizen dispute"
         },
         {
          "arrived": "17:49",
          "cleared": "17:51",
          "date": "08/15/16",
          "dispatched": "",
          "id": "160815063",
          "location": "pn1",
          "received": "17:32",
          "type": "traffic hazard"
         },
         {
          "arrived": "17:39",
          "cleared": "17:48",
          "date": "08/15/16",
          "dispatched": "17:38",
          "id": "160815064",
          "location": "pn6",
          "received": "17:32",
          "type": "assist o police"
         },
         {
          "arrived": "17:54",
          "cleared": "18:52",
          "date": "08/15/16",
          "dispatched": "17:50",
          "id": "160815065",
          "location": "pn8",
          "received": "17:43",
          "type": "coll inj"
         },
         {
          "arrived": "18:31",
          "cleared": "18:51",
          "date": "08/15/16",
          "dispatched": "18:29",
          "id": "160815066",
          "location": "pn6",
          "received": "18:28",
          "type": "fire lg trash"
         },
         {
          "arrived": "",
          "cleared": "19:07",
          "date": "08/15/16",
          "dispatched": "19:05",
          "id": "160815067",
          "location": "pn10",
          "received": "19:04",
          "type": "aband vehicle"
         },
         {
          "arrived": "19:38",
          "cleared": "19:43",
          "date": "08/15/16",
          "dispatched": "19:22",
          "id": "160815068",
          "location": "pn12",
          "received": "19:08",
          "type": "suspicious"
         },
         {
          "arrived": "19:36",
          "cleared": "21:08",
          "date": "08/15/16",
          "dispatched": "19:25",
          "id": "160815069",
          "location": "pn6",
          "received": "19:22",
          "type": "suspicious"
         },
         {
          "arrived": "19:49",
          "cleared": "19:33",
          "date": "08/15/16",
          "dispatched": "19:33",
          "id": "160815070",
          "location": "pn4",
          "received": "19:27",
          "type": "traffic offense"
         },
         {
          "arrived": "19:55",
          "cleared": "19:55",
          "date": "08/15/16",
          "dispatched": "19:52",
          "id": "160815071",
          "location": "pn2",
          "received": "19:42",
          "type": "lost property"
         },
         {
          "arrived": "20:15",
          "cleared": "20:53",
          "date": "08/15/16",
          "dispatched": "20:04",
          "id": "160815072",
          "location": "pn7",
          "received": "20:01",
          "type": "assault"
         },
         {
          "arrived": "",
          "cleared": "20:35",
          "date": "08/15/16",
          "dispatched": "20:34",
          "id": "160815073",
          "location": "pn6",
          "received": "20:29",
          "type": "assist req"
         },
         {
          "arrived": "20:59",
          "cleared": "21:01",
          "date": "08/15/16",
          "dispatched": "20:53",
          "id": "160815074",
          "location": "pn13",
          "received": "20:51",
          "type": "animal problem"
         },
         {
          "arrived": "21:39",
          "cleared": "21:53",
          "date": "08/15/16",
          "dispatched": "21:30",
          "id": "160815075",
          "location": "pn7",
          "received": "21:10",
          "type": "noise police"
         },
         {
          "arrived": "21:53",
          "cleared": "21:54",
          "date": "08/15/16",
          "dispatched": "",
          "id": "160815076",
          "location": "pn6",
          "received": "21:53",
          "type": "trespassing"
         },
         {
          "arrived": "22:21",
          "cleared": "22:37",
          "date": "08/15/16",
          "dispatched": "22:20",
          "id": "160815077",
          "location": "pn3",
          "received": "22:18",
          "type": "trespassing"
         },
         {
          "arrived": "23:10",
          "cleared": "23:19",
          "date": "08/15/16",
          "dispatched": "23:07",
          "id": "160815078",
          "location": "pn5",
          "received": "23:06",
          "type": "suspicious"
         },
         {
          "arrived": "00:49",
          "cleared": "01:54",
          "date": "08/16/16",
          "dispatched": "",
          "id": "160816001",
          "location": "pn8",
          "received": "00:48",
          "type": "suspicious"
         },
         {
          "arrived": "01:36",
          "cleared": "02:07",
          "date": "08/16/16",
          "dispatched": "",
          "id": "160816002",
          "location": "pn5",
          "received": "01:36",
          "type": "alcohol offense"
         },
         {
          "arrived": "01:44",
          "cleared": "02:03",
          "date": "08/16/16",
          "dispatched": "",
          "id": "160816003",
          "location": "pn5",
          "received": "01:44",
          "type": "alcohol offense"
         },
         {
          "arrived": "03:26",
          "cleared": "04:07",
          "date": "08/16/16",
          "dispatched": "03:20",
          "id": "160816004",
          "location": "pn5",
          "received": "03:18",
          "type": "suspicious"
         },
         {
          "arrived": "05:11",
          "cleared": "05:21",
          "date": "08/16/16",
          "dispatched": "05:09",
          "id": "160816005",
          "location": "pn13",
          "received": "05:08",
          "type": "suspicious"
         },
         {
          "arrived": "05:57",
          "cleared": "06:05",
          "date": "08/16/16",
          "dispatched": "05:52",
          "id": "160816006",
          "location": "pn7",
          "received": "05:51",
          "type": "suspicious"
         },
         {
          "arrived": "06:32",
          "cleared": "06:36",
          "date": "08/16/16",
          "dispatched": "06:24",
          "id": "160816007",
          "location": "pn7",
          "received": "06:22",
          "type": "suspicious"
         },
         {
          "arrived": "07:22",
          "cleared": "07:39",
          "date": "08/16/16",
          "dispatched": "06:50",
          "id": "160816008",
          "location": "pn5",
          "received": "06:43",
          "type": "found property"
         },
         {
          "arrived": "06:59",
          "cleared": "07:06",
          "date": "08/16/16",
          "dispatched": "",
          "id": "160816009",
          "location": "pn11",
          "received": "06:58",
          "type": "aband vehicle"
         },
         {
          "arrived": "07:28",
          "cleared": "07:32",
          "date": "08/11/16",
          "dispatched": "07:24",
          "id": "160811009",
          "location": "pn5",
          "received": "07:23",
          "type": "alarm audible"
         },
         {
          "arrived": "08:07",
          "cleared": "08:36",
          "date": "08/11/16",
          "dispatched": "07:26",
          "id": "160811010",
          "location": "pn1",
          "received": "07:21",
          "type": "theft-vehicle"
         },
         {
          "arrived": "07:59",
          "cleared": "08:03",
          "date": "08/11/16",
          "dispatched": "07:51",
          "id": "160811011",
          "location": "pn2",
          "received": "07:48",
          "type": "noise other"
         },
         {
          "arrived": "08:14",
          "cleared": "08:25",
          "date": "08/11/16",
          "dispatched": "08:06",
          "id": "160811012",
          "location": "pn12",
          "received": "08:04",
          "type": "coll inj"
         },
         {
          "arrived": "08:18",
          "cleared": "08:24",
          "date": "08/11/16",
          "dispatched": "08:12",
          "id": "160811013",
          "location": "pn6",
          "received": "08:09",
          "type": "mc-smoking"
         },
         {
          "arrived": "08:34",
          "cleared": "08:47",
          "date": "08/11/16",
          "dispatched": "08:25",
          "id": "160811014",
          "location": "pn7",
          "received": "08:21",
          "type": "suspicious"
         },
         {
          "arrived": "08:53",
          "cleared": "10:18",
          "date": "08/11/16",
          "dispatched": "08:52",
          "id": "160811015",
          "location": "pn6",
          "received": "08:44",
          "type": "trespassing"
         },
         {
          "arrived": "",
          "cleared": "09:06",
          "date": "08/11/16",
          "dispatched": "09:01",
          "id": "160811016",
          "location": "pn10",
          "received": "08:59",
          "type": "aband vehicle"
         },
         {
          "arrived": "09:48",
          "cleared": "10:56",
          "date": "08/11/16",
          "dispatched": "09:27",
          "id": "160811017",
          "location": "pn1",
          "received": "09:20",
          "type": "assist req"
         },
         {
          "arrived": "09:36",
          "cleared": "09:50",
          "date": "08/11/16",
          "dispatched": "09:32",
          "id": "160811018",
          "location": "pn6",
          "received": "09:30",
          "type": "attempt theft"
         },
         {
          "arrived": "09:52",
          "cleared": "09:57",
          "date": "08/11/16",
          "dispatched": "09:48",
          "id": "160811019",
          "location": "pn6",
          "received": "09:39",
          "type": "loitering"
         },
         {
          "arrived": "09:59",
          "cleared": "10:06",
          "date": "08/11/16",
          "dispatched": "09:51",
          "id": "160811020",
          "location": "pn10",
          "received": "09:43",
          "type": "suspicious"
         },
         {
          "arrived": "10:22",
          "cleared": "13:34",
          "date": "08/11/16",
          "dispatched": "10:06",
          "id": "160811021",
          "location": "pn9",
          "received": "09:52",
          "type": "suspicious"
         },
         {
          "arrived": "10:05",
          "cleared": "10:06",
          "date": "08/11/16",
          "dispatched": "10:01",
          "id": "160811022",
          "location": "pn5",
          "received": "09:59",
          "type": "posting vehs"
         },
         {
          "arrived": "10:28",
          "cleared": "11:33",
          "date": "08/11/16",
          "dispatched": "10:21",
          "id": "160811023",
          "location": "pn6",
          "received": "09:58",
          "type": "burg com"
         },
         {
          "arrived": "11:33",
          "cleared": "11:35",
          "date": "08/11/16",
          "dispatched": "",
          "id": "160811024",
          "location": "pn6",
          "received": "10:03",
          "type": "attempt theft"
         },
         {
          "arrived": "10:26",
          "cleared": "11:43",
          "date": "08/11/16",
          "dispatched": "10:22",
          "id": "160811025",
          "location": "pn13",
          "received": "10:16",
          "type": "sex offense"
         },
         {
          "arrived": "11:26",
          "cleared": "13:50",
          "date": "08/11/16",
          "dispatched": "10:56",
          "id": "160811026",
          "location": "pn5",
          "received": "10:18",
          "type": "theft-vehicle"
         },
         {
          "arrived": "",
          "cleared": "10:24",
          "date": "08/11/16",
          "dispatched": "10:24",
          "id": "160811027",
          "location": "pn8",
          "received": "10:22",
          "type": "aband vehicle"
         },
         {
          "arrived": "10:44",
          "cleared": "11:00",
          "date": "08/11/16",
          "dispatched": "10:43",
          "id": "160811028",
          "location": "pn6",
          "received": "10:38",
          "type": "loitering"
         },
         {
          "arrived": "11:24",
          "cleared": "11:31",
          "date": "08/11/16",
          "dispatched": "11:17",
          "id": "160811029",
          "location": "pn5",
          "received": "11:15",
          "type": "found property"
         },
         {
          "arrived": "11:54",
          "cleared": "12:09",
          "date": "08/11/16",
          "dispatched": "11:37",
          "id": "160811030",
          "location": "pn6",
          "received": "11:35",
          "type": "citizen dispute"
         },
         {
          "arrived": "",
          "cleared": "11:39",
          "date": "08/11/16",
          "dispatched": "11:39",
          "id": "160811031",
          "location": "lz0",
          "received": "11:35",
          "type": "traffic offense"
         },
         {
          "arrived": "11:46",
          "cleared": "11:52",
          "date": "08/11/16",
          "dispatched": "11:41",
          "id": "160811032",
          "location": "pn5",
          "received": "11:39",
          "type": "loitering"
         },
         {
          "arrived": "11:54",
          "cleared": "12:09",
          "date": "08/11/16",
          "dispatched": "11:52",
          "id": "160811033",
          "location": "pn5",
          "received": "11:44",
          "type": "suspicious"
         },
         {
          "arrived": "12:13",
          "cleared": "12:21",
          "date": "08/11/16",
          "dispatched": "11:58",
          "id": "160811034",
          "location": "pn10",
          "received": "11:56",
          "type": "coll non inj"
         },
         {
          "arrived": "",
          "cleared": "12:01",
          "date": "08/11/16",
          "dispatched": "12:01",
          "id": "160811035",
          "location": "pn12",
          "received": "11:57",
          "type": "traffic offense"
         },
         {
          "arrived": "12:12",
          "cleared": "12:49",
          "date": "08/11/16",
          "dispatched": "12:10",
          "id": "160811036",
          "location": "pn5",
          "received": "12:09",
          "type": "coll non inj"
         },
         {
          "arrived": "",
          "cleared": "12:49",
          "date": "08/11/16",
          "dispatched": "12:15",
          "id": "160811037",
          "location": "pn5",
          "received": "12:12",
          "type": "assist req"
         },
         {
          "arrived": "12:41",
          "cleared": "12:59",
          "date": "08/11/16",
          "dispatched": "12:35",
          "id": "160811038",
          "location": "pn1",
          "received": "12:32",
          "type": "public assist"
         },
         {
          "arrived": "12:52",
          "cleared": "13:20",
          "date": "08/11/16",
          "dispatched": "12:45",
          "id": "160811039",
          "location": "pn8",
          "received": "12:31",
          "type": "theft"
         },
         {
          "arrived": "12:56",
          "cleared": "13:10",
          "date": "08/11/16",
          "dispatched": "12:48",
          "id": "160811040",
          "location": "pn1",
          "received": "12:47",
          "type": "disorderly"
         },
         {
          "arrived": "13:17",
          "cleared": "15:46",
          "date": "08/11/16",
          "dispatched": "13:07",
          "id": "160811041",
          "location": "pn8",
          "received": "13:03",
          "type": "mental subj"
         },
         {
          "arrived": "",
          "cleared": "13:51",
          "date": "08/11/16",
          "dispatched": "13:14",
          "id": "160811042",
          "location": "pn6",
          "received": "13:12",
          "type": "aband vehicle"
         },
         {
          "arrived": "14:02",
          "cleared": "14:07",
          "date": "08/11/16",
          "dispatched": "13:52",
          "id": "160811043",
          "location": "pn13",
          "received": "13:48",
          "type": "suspicious"
         },
         {
          "arrived": "14:21",
          "cleared": "14:11",
          "date": "08/11/16",
          "dispatched": "",
          "id": "160811044",
          "location": "pn10",
          "received": "13:53",
          "type": "burg res"
         },
         {
          "arrived": "14:21",
          "cleared": "14:32",
          "date": "08/11/16",
          "dispatched": "14:12",
          "id": "160811045",
          "location": "pn12",
          "received": "14:10",
          "type": "9-1-1 abandon"
         },
         {
          "arrived": "",
          "cleared": "14:24",
          "date": "08/11/16",
          "dispatched": "",
          "id": "160811046",
          "location": "pn1",
          "received": "14:12",
          "type": "traffic offense"
         },
         {
          "arrived": "14:21",
          "cleared": "14:30",
          "date": "08/11/16",
          "dispatched": "14:15",
          "id": "160811047",
          "location": "pn5",
          "received": "14:09",
          "type": "vandalism"
         },
         {
          "arrived": "14:41",
          "cleared": "14:53",
          "date": "08/11/16",
          "dispatched": "14:34",
          "id": "160811048",
          "location": "pn5",
          "received": "14:26",
          "type": "assist req"
         },
         {
          "arrived": "14:56",
          "cleared": "15:32",
          "date": "08/11/16",
          "dispatched": "14:52",
          "id": "160811049",
          "location": "pn1",
          "received": "14:32",
          "type": "disorderly"
         },
         {
          "arrived": "",
          "cleared": "14:47",
          "date": "08/11/16",
          "dispatched": "14:43",
          "id": "160811050",
          "location": "pn6",
          "received": "14:43",
          "type": "alarm audible"
         },
         {
          "arrived": "14:58",
          "cleared": "15:11",
          "date": "08/11/16",
          "dispatched": "14:54",
          "id": "160811051",
          "location": "pn9",
          "received": "14:47",
          "type": "assist o police"
         },
         {
          "arrived": "15:15",
          "cleared": "15:20",
          "date": "08/11/16",
          "dispatched": "14:58",
          "id": "160811052",
          "location": "pn3",
          "received": "14:50",
          "type": "threatening"
         },
         {
          "arrived": "15:17",
          "cleared": "15:18",
          "date": "08/11/16",
          "dispatched": "",
          "id": "160811053",
          "location": "pn2",
          "received": "15:05",
          "type": "suspicious"
         },
         {
          "arrived": "15:40",
          "cleared": "17:26",
          "date": "08/11/16",
          "dispatched": "15:34",
          "id": "160811054",
          "location": "pn6",
          "received": "15:15",
          "type": "welfare check"
         },
         {
          "arrived": "15:40",
          "cleared": "15:40",
          "date": "08/11/16",
          "dispatched": "",
          "id": "160811055",
          "location": "pn5",
          "received": "15:40",
          "type": "traffic offense"
         },
         {
          "arrived": "16:15",
          "cleared": "16:31",
          "date": "08/11/16",
          "dispatched": "15:46",
          "id": "160811056",
          "location": "pn13",
          "received": "15:38",
          "type": "theft"
         },
         {
          "arrived": "16:08",
          "cleared": "16:14",
          "date": "08/11/16",
          "dispatched": "",
          "id": "160811057",
          "location": "pn5",
          "received": "15:44",
          "type": "controlled narc"
         },
         {
          "arrived": "16:41",
          "cleared": "16:44",
          "date": "08/11/16",
          "dispatched": "16:29",
          "id": "160811058",
          "location": "pn10",
          "received": "15:59",
          "type": "traffic hazard"
         },
         {
          "arrived": "16:13",
          "cleared": "16:33",
          "date": "08/11/16",
          "dispatched": "16:11",
          "id": "160811059",
          "location": "pn5",
          "received": "16:06",
          "type": "controlled narc"
         },
         {
          "arrived": "16:14",
          "cleared": "16:41",
          "date": "08/11/16",
          "dispatched": "",
          "id": "160811060",
          "location": "pn5",
          "received": "16:14",
          "type": "controlled narc"
         },
         {
          "arrived": "16:38",
          "cleared": "16:39",
          "date": "08/11/16",
          "dispatched": "16:35",
          "id": "160811061",
          "location": "pn5",
          "received": "16:19",
          "type": "suspicious"
         },
         {
          "arrived": "17:13",
          "cleared": "17:29",
          "date": "08/11/16",
          "dispatched": "17:02",
          "id": "160811062",
          "location": "pn13",
          "received": "16:56",
          "type": "suspicious"
         },
         {
          "arrived": "17:35",
          "cleared": "17:38",
          "date": "08/11/16",
          "dispatched": "",
          "id": "160811063",
          "location": "pn10",
          "received": "17:05",
          "type": "animal problem"
         },
         {
          "arrived": "17:25",
          "cleared": "17:33",
          "date": "08/11/16",
          "dispatched": "17:18",
          "id": "160811064",
          "location": "pn6",
          "received": "17:11",
          "type": "coll non inj"
         },
         {
          "arrived": "17:34",
          "cleared": "17:49",
          "date": "08/11/16",
          "dispatched": "17:32",
          "id": "160811065",
          "location": "pn12",
          "received": "17:13",
          "type": "citizen dispute"
         },
         {
          "arrived": "17:35",
          "cleared": "17:36",
          "date": "08/11/16",
          "dispatched": "17:25",
          "id": "160811066",
          "location": "pn1",
          "received": "17:22",
          "type": "fireworks"
         },
         {
          "arrived": "17:33",
          "cleared": "17:33",
          "date": "08/11/16",
          "dispatched": "",
          "id": "160811067",
          "location": "pn2",
          "received": "17:28",
          "type": "alarm audible"
         },
         {
          "arrived": "17:35",
          "cleared": "17:45",
          "date": "08/11/16",
          "dispatched": "",
          "id": "160811068",
          "location": "pn5",
          "received": "17:35",
          "type": "towed vehicle"
         },
         {
          "arrived": "18:39",
          "cleared": "18:40",
          "date": "08/11/16",
          "dispatched": "18:35",
          "id": "160811069",
          "location": "pn6",
          "received": "18:33",
          "type": "alarm audible"
         },
         {
          "arrived": "19:02",
          "cleared": "20:41",
          "date": "08/11/16",
          "dispatched": "18:50",
          "id": "160811070",
          "location": "pn6",
          "received": "18:46",
          "type": "disorderly"
         },
         {
          "arrived": "19:37",
          "cleared": "19:41",
          "date": "08/11/16",
          "dispatched": "19:07",
          "id": "160811071",
          "location": "pn12",
          "received": "19:06",
          "type": "alarm audible"
         },
         {
          "arrived": "19:51",
          "cleared": "20:05",
          "date": "08/11/16",
          "dispatched": "19:46",
          "id": "160811072",
          "location": "pn5",
          "received": "19:40",
          "type": "coll hit and ru"
         },
         {
          "arrived": "19:53",
          "cleared": "20:12",
          "date": "08/11/16",
          "dispatched": "19:47",
          "id": "160811073",
          "location": "pn8",
          "received": "19:45",
          "type": "juvenile prob"
         },
         {
          "arrived": "20:11",
          "cleared": "20:20",
          "date": "08/11/16",
          "dispatched": "20:06",
          "id": "160811074",
          "location": "pn5",
          "received": "19:48",
          "type": "parking problem"
         },
         {
          "arrived": "",
          "cleared": "20:12",
          "date": "08/11/16",
          "dispatched": "20:10",
          "id": "160811075",
          "location": "pn11",
          "received": "20:06",
          "type": "alarm audible"
         },
         {
          "arrived": "20:42",
          "cleared": "20:41",
          "date": "08/11/16",
          "dispatched": "20:33",
          "id": "160811076",
          "location": "pn7",
          "received": "20:30",
          "type": "muni code viol"
         },
         {
          "arrived": "20:47",
          "cleared": "20:49",
          "date": "08/11/16",
          "dispatched": "20:42",
          "id": "160811077",
          "location": "pn9",
          "received": "20:38",
          "type": "suspicious"
         },
         {
          "arrived": "21:15",
          "cleared": "21:34",
          "date": "08/11/16",
          "dispatched": "21:11",
          "id": "160811078",
          "location": "pn6",
          "received": "21:10",
          "type": "coll non inj"
         },
         {
          "arrived": "",
          "cleared": "21:29",
          "date": "08/11/16",
          "dispatched": "21:24",
          "id": "160811079",
          "location": "pn13",
          "received": "21:21",
          "type": "dui"
         },
         {
          "arrived": "22:03",
          "cleared": "23:02",
          "date": "08/11/16",
          "dispatched": "21:56",
          "id": "160811080",
          "location": "pn9",
          "received": "21:45",
          "type": "controlled narc"
         },
         {
          "arrived": "",
          "cleared": "22:15",
          "date": "08/11/16",
          "dispatched": "21:59",
          "id": "160811081",
          "location": "pn8",
          "received": "21:52",
          "type": "missing person"
         },
         {
          "arrived": "22:00",
          "cleared": "22:26",
          "date": "08/11/16",
          "dispatched": "",
          "id": "160811082",
          "location": "pn2",
          "received": "22:00",
          "type": "dui"
         },
         {
          "arrived": "",
          "cleared": "22:17",
          "date": "08/11/16",
          "dispatched": "22:15",
          "id": "160811083",
          "location": "pn5",
          "received": "22:14",
          "type": "assist req"
         },
         {
          "arrived": "22:30",
          "cleared": "23:07",
          "date": "08/11/16",
          "dispatched": "22:27",
          "id": "160811084",
          "location": "pn6",
          "received": "22:24",
          "type": "mental subj"
         },
         {
          "arrived": "22:59",
          "cleared": "23:17",
          "date": "08/11/16",
          "dispatched": "22:54",
          "id": "160811085",
          "location": "pn6",
          "received": "22:53",
          "type": "alcohol offense"
         },
         {
          "arrived": "23:10",
          "cleared": "23:20",
          "date": "08/11/16",
          "dispatched": "23:02",
          "id": "160811086",
          "location": "pn4",
          "received": "23:00",
          "type": "noise party"
         },
         {
          "arrived": "23:13",
          "cleared": "23:35",
          "date": "08/11/16",
          "dispatched": "",
          "id": "160811087",
          "location": "pn11",
          "received": "23:13",
          "type": "suspicious"
         },
         {
          "arrived": "23:25",
          "cleared": "23:35",
          "date": "08/11/16",
          "dispatched": "",
          "id": "160811088",
          "location": "pn11",
          "received": "23:25",
          "type": "loitering"
         },
         {
          "arrived": "23:50",
          "cleared": "00:16",
          "date": "08/11/16",
          "dispatched": "00:16",
          "id": "160811089",
          "location": "pn5",
          "received": "23:44",
          "type": "assist req"
         },
         {
          "arrived": "00:07",
          "cleared": "01:09",
          "date": "08/12/16",
          "dispatched": "",
          "id": "160812001",
          "location": "pn5",
          "received": "00:07",
          "type": "dui"
         },
         {
          "arrived": "00:27",
          "cleared": "00:54",
          "date": "08/12/16",
          "dispatched": "",
          "id": "160812002",
          "location": "pn5",
          "received": "00:27",
          "type": "alcohol offense"
         },
         {
          "arrived": "00:33",
          "cleared": "00:45",
          "date": "08/12/16",
          "dispatched": "",
          "id": "160812003",
          "location": "pn5",
          "received": "00:33",
          "type": "dui"
         },
         {
          "arrived": "00:51",
          "cleared": "00:58",
          "date": "08/12/16",
          "dispatched": "00:45",
          "id": "160812004",
          "location": "pn8",
          "received": "00:41",
          "type": "disorderly"
         },
         {
          "arrived": "01:02",
          "cleared": "01:36",
          "date": "08/12/16",
          "dispatched": "01:00",
          "id": "160812005",
          "location": "pn8",
          "received": "00:44",
          "type": "suspicious"
         },
         {
          "arrived": "01:01",
          "cleared": "01:03",
          "date": "08/12/16",
          "dispatched": "00:59",
          "id": "160812006",
          "location": "pn5",
          "received": "00:59",
          "type": "disorderly"
         },
         {
          "arrived": "01:14",
          "cleared": "01:35",
          "date": "08/12/16",
          "dispatched": "01:13",
          "id": "160812007",
          "location": "pn6",
          "received": "01:11",
          "type": "suspicious"
         },
         {
          "arrived": "01:28",
          "cleared": "01:47",
          "date": "08/12/16",
          "dispatched": "",
          "id": "160812008",
          "location": "pn5",
          "received": "01:28",
          "type": "found property"
         },
         {
          "arrived": "02:24",
          "cleared": "02:31",
          "date": "08/12/16",
          "dispatched": "02:22",
          "id": "160812009",
          "location": "pn1",
          "received": "02:18",
          "type": "suspicious"
         },
         {
          "arrived": "03:01",
          "cleared": "03:14",
          "date": "08/12/16",
          "dispatched": "02:56",
          "id": "160812010",
          "location": "pn13",
          "received": "02:55",
          "type": "alarm audible"
         },
         {
          "arrived": "03:15",
          "cleared": "03:18",
          "date": "08/12/16",
          "dispatched": "03:10",
          "id": "160812011",
          "location": "pn8",
          "received": "02:58",
          "type": "suspicious"
         },
         {
          "arrived": "03:13",
          "cleared": "04:25",
          "date": "08/12/16",
          "dispatched": "",
          "id": "160812012",
          "location": "pn1",
          "received": "03:13",
          "type": "dui"
         },
         {
          "arrived": "04:32",
          "cleared": "04:50",
          "date": "08/12/16",
          "dispatched": "04:30",
          "id": "160812013",
          "location": "pn6",
          "received": "04:30",
          "type": "disorderly"
         },
         {
          "arrived": "04:40",
          "cleared": "04:46",
          "date": "08/12/16",
          "dispatched": "04:34",
          "id": "160812014",
          "location": "pn5",
          "received": "04:34",
          "type": "alarm audible"
         },
         {
          "arrived": "05:20",
          "cleared": "05:23",
          "date": "08/12/16",
          "dispatched": "05:18",
          "id": "160812015",
          "location": "pn5",
          "received": "05:17",
          "type": "alarm audible"
         },
         {
          "arrived": "05:24",
          "cleared": "05:31",
          "date": "08/12/16",
          "dispatched": "05:21",
          "id": "160812016",
          "location": "pn5",
          "received": "05:20",
          "type": "alarm audible"
         },
         {
          "arrived": "05:50",
          "cleared": "05:51",
          "date": "08/12/16",
          "dispatched": "05:44",
          "id": "160812017",
          "location": "pn10",
          "received": "05:43",
          "type": "suspicious"
         },
         {
          "arrived": "07:15",
          "cleared": "07:25",
          "date": "08/25/16",
          "dispatched": "07:08",
          "id": "160825009",
          "location": "pn2",
          "received": "07:07",
          "type": "coll non inj"
         },
         {
          "arrived": "07:45",
          "cleared": "09:09",
          "date": "08/25/16",
          "dispatched": "",
          "id": "160825010",
          "location": "pn2",
          "received": "07:31",
          "type": "assist o police"
         },
         {
          "arrived": "",
          "cleared": "08:09",
          "date": "08/25/16",
          "dispatched": "08:09",
          "id": "160825011",
          "location": "pn3",
          "received": "08:08",
          "type": "aband vehicle"
         },
         {
          "arrived": "",
          "cleared": "08:23",
          "date": "08/25/16",
          "dispatched": "08:19",
          "id": "160825012",
          "location": "pn6",
          "received": "08:17",
          "type": "parking problem"
         },
         {
          "arrived": "",
          "cleared": "08:29",
          "date": "08/25/16",
          "dispatched": "08:29",
          "id": "160825013",
          "location": "pn5",
          "received": "08:25",
          "type": "trespassing"
         },
         {
          "arrived": "",
          "cleared": "08:45",
          "date": "08/25/16",
          "dispatched": "08:44",
          "id": "160825014",
          "location": "pn10",
          "received": "08:43",
          "type": "9-1-1 abandon"
         },
         {
          "arrived": "08:46",
          "cleared": "08:49",
          "date": "08/25/16",
          "dispatched": "08:46",
          "id": "160825015",
          "location": "pn5",
          "received": "08:44",
          "type": "mc-alcohol"
         },
         {
          "arrived": "09:12",
          "cleared": "09:18",
          "date": "08/25/16",
          "dispatched": "08:58",
          "id": "160825016",
          "location": "pn7",
          "received": "08:55",
          "type": "suspicious"
         },
         {
          "arrived": "09:27",
          "cleared": "09:42",
          "date": "08/25/16",
          "dispatched": "09:17",
          "id": "160825017",
          "location": "pn8",
          "received": "09:16",
          "type": "suspicious"
         },
         {
          "arrived": "09:22",
          "cleared": "09:43",
          "date": "08/25/16",
          "dispatched": "09:20",
          "id": "160825018",
          "location": "pn3",
          "received": "09:16",
          "type": "coll non inj"
         },
         {
          "arrived": "",
          "cleared": "09:27",
          "date": "08/25/16",
          "dispatched": "09:26",
          "id": "160825019",
          "location": "pn6",
          "received": "09:25",
          "type": "aband vehicle"
         },
         {
          "arrived": "09:43",
          "cleared": "09:59",
          "date": "08/25/16",
          "dispatched": "09:32",
          "id": "160825020",
          "location": "pn9",
          "received": "09:29",
          "type": "traffic hazard"
         },
         {
          "arrived": "10:00",
          "cleared": "10:15",
          "date": "08/25/16",
          "dispatched": "09:35",
          "id": "160825021",
          "location": "pn7",
          "received": "09:33",
          "type": "theft"
         },
         {
          "arrived": "09:47",
          "cleared": "09:49",
          "date": "08/25/16",
          "dispatched": "09:40",
          "id": "160825022",
          "location": "pn11",
          "received": "09:38",
          "type": "welfare check"
         },
         {
          "arrived": "10:38",
          "cleared": "10:40",
          "date": "08/25/16",
          "dispatched": "10:35",
          "id": "160825023",
          "location": "pn5",
          "received": "09:57",
          "type": "posting vehs"
         },
         {
          "arrived": "10:07",
          "cleared": "10:59",
          "date": "08/25/16",
          "dispatched": "",
          "id": "160825024",
          "location": "pn10",
          "received": "10:07",
          "type": "warrant"
         },
         {
          "arrived": "10:24",
          "cleared": "11:09",
          "date": "08/25/16",
          "dispatched": "",
          "id": "160825025",
          "location": "pn13",
          "received": "10:24",
          "type": "probation viol"
         },
         {
          "arrived": "10:32",
          "cleared": "10:47",
          "date": "08/25/16",
          "dispatched": "10:29",
          "id": "160825026",
          "location": "pn5",
          "received": "10:26",
          "type": "suspicious"
         },
         {
          "arrived": "10:52",
          "cleared": "11:30",
          "date": "08/25/16",
          "dispatched": "10:44",
          "id": "160825027",
          "location": "pn8",
          "received": "10:43",
          "type": "disorderly"
         },
         {
          "arrived": "11:02",
          "cleared": "11:07",
          "date": "08/25/16",
          "dispatched": "10:56",
          "id": "160825028",
          "location": "pn6",
          "received": "10:48",
          "type": "loitering"
         },
         {
          "arrived": "",
          "cleared": "11:07",
          "date": "08/25/16",
          "dispatched": "11:06",
          "id": "160825029",
          "location": "pn13",
          "received": "11:04",
          "type": "9-1-1 abandon"
         },
         {
          "arrived": "11:12",
          "cleared": "11:15",
          "date": "08/25/16",
          "dispatched": "",
          "id": "160825030",
          "location": "pn5",
          "received": "11:12",
          "type": "mc-alcohol"
         },
         {
          "arrived": "11:25",
          "cleared": "11:37",
          "date": "08/25/16",
          "dispatched": "",
          "id": "160825031",
          "location": "pn1",
          "received": "11:17",
          "type": "coll non inj"
         },
         {
          "arrived": "11:45",
          "cleared": "12:31",
          "date": "08/25/16",
          "dispatched": "11:22",
          "id": "160825032",
          "location": "pn7",
          "received": "11:19",
          "type": "suspicious"
         },
         {
          "arrived": "",
          "cleared": "11:28",
          "date": "08/25/16",
          "dispatched": "11:28",
          "id": "160825033",
          "location": "pn6",
          "received": "11:24",
          "type": "lost property"
         },
         {
          "arrived": "11:53",
          "cleared": "11:58",
          "date": "08/25/16",
          "dispatched": "",
          "id": "160825034",
          "location": "pn6",
          "received": "11:28",
          "type": "coll inj"
         },
         {
          "arrived": "11:36",
          "cleared": "11:40",
          "date": "08/25/16",
          "dispatched": "",
          "id": "160825035",
          "location": "pn5",
          "received": "11:36",
          "type": "coll non inj"
         },
         {
          "arrived": "11:46",
          "cleared": "11:47",
          "date": "08/25/16",
          "dispatched": "11:42",
          "id": "160825036",
          "location": "pn5",
          "received": "11:37",
          "type": "found property"
         },
         {
          "arrived": "11:54",
          "cleared": "12:16",
          "date": "08/25/16",
          "dispatched": "",
          "id": "160825037",
          "location": "pn6",
          "received": "11:47",
          "type": "welfare check"
         },
         {
          "arrived": "12:04",
          "cleared": "12:18",
          "date": "08/25/16",
          "dispatched": "11:55",
          "id": "160825038",
          "location": "pn5",
          "received": "11:53",
          "type": "suspicious"
         },
         {
          "arrived": "12:14",
          "cleared": "12:14",
          "date": "08/25/16",
          "dispatched": "12:13",
          "id": "160825039",
          "location": "pn11",
          "received": "12:02",
          "type": "lost property"
         },
         {
          "arrived": "",
          "cleared": "12:11",
          "date": "08/25/16",
          "dispatched": "12:11",
          "id": "160825040",
          "location": "pn5",
          "received": "12:10",
          "type": "child abuse"
         },
         {
          "arrived": "12:25",
          "cleared": "13:22",
          "date": "08/25/16",
          "dispatched": "12:16",
          "id": "160825041",
          "location": "pn8",
          "received": "12:13",
          "type": "fraud"
         },
         {
          "arrived": "",
          "cleared": "12:29",
          "date": "08/25/16",
          "dispatched": "12:29",
          "id": "160825042",
          "location": "pn8",
          "received": "12:22",
          "type": "aband vehicle"
         },
         {
          "arrived": "",
          "cleared": "12:40",
          "date": "08/25/16",
          "dispatched": "12:40",
          "id": "160825043",
          "location": "pn10",
          "received": "12:39",
          "type": "aband vehicle"
         },
         {
          "arrived": "12:53",
          "cleared": "13:13",
          "date": "08/25/16",
          "dispatched": "12:50",
          "id": "160825044",
          "location": "pn5",
          "received": "12:45",
          "type": "loitering"
         },
         {
          "arrived": "",
          "cleared": "12:49",
          "date": "08/25/16",
          "dispatched": "12:49",
          "id": "160825045",
          "location": "pn10",
          "received": "12:47",
          "type": "parking problem"
         },
         {
          "arrived": "13:36",
          "cleared": "13:41",
          "date": "08/25/16",
          "dispatched": "13:29",
          "id": "160825046",
          "location": "pn10",
          "received": "13:22",
          "type": "assist o police"
         },
         {
          "arrived": "13:38",
          "cleared": "14:44",
          "date": "08/25/16",
          "dispatched": "13:29",
          "id": "160825047",
          "location": "pn13",
          "received": "13:24",
          "type": "disorderly"
         },
         {
          "arrived": "13:50",
          "cleared": "14:09",
          "date": "08/25/16",
          "dispatched": "13:49",
          "id": "160825048",
          "location": "pn2",
          "received": "13:43",
          "type": "suspicious"
         },
         {
          "arrived": "",
          "cleared": "14:24",
          "date": "08/25/16",
          "dispatched": "13:54",
          "id": "160825049",
          "location": "pn2",
          "received": "13:48",
          "type": "assist req"
         },
         {
          "arrived": "14:30",
          "cleared": "16:43",
          "date": "08/25/16",
          "dispatched": "14:15",
          "id": "160825050",
          "location": "pn6",
          "received": "14:08",
          "type": "threatening"
         },
         {
          "arrived": "14:31",
          "cleared": "14:48",
          "date": "08/25/16",
          "dispatched": "14:24",
          "id": "160825051",
          "location": "pn12",
          "received": "14:23",
          "type": "coll non inj"
         },
         {
          "arrived": "15:14",
          "cleared": "15:20",
          "date": "08/25/16",
          "dispatched": "15:12",
          "id": "160825052",
          "location": "pn5",
          "received": "15:09",
          "type": "welfare check"
         },
         {
          "arrived": "15:27",
          "cleared": "15:52",
          "date": "08/25/16",
          "dispatched": "15:27",
          "id": "160825053",
          "location": "pn13",
          "received": "15:22",
          "type": "found property"
         },
         {
          "arrived": "15:41",
          "cleared": "15:45",
          "date": "08/25/16",
          "dispatched": "15:30",
          "id": "160825054",
          "location": "pn13",
          "received": "15:25",
          "type": "animal problem"
         },
         {
          "arrived": "15:59",
          "cleared": "16:05",
          "date": "08/25/16",
          "dispatched": "15:52",
          "id": "160825055",
          "location": "pn7",
          "received": "15:46",
          "type": "found property"
         },
         {
          "arrived": "16:03",
          "cleared": "16:07",
          "date": "08/25/16",
          "dispatched": "15:55",
          "id": "160825056",
          "location": "pn6",
          "received": "15:53",
          "type": "coll non inj"
         },
         {
          "arrived": "16:12",
          "cleared": "16:17",
          "date": "08/25/16",
          "dispatched": "16:08",
          "id": "160825057",
          "location": "pn11",
          "received": "15:54",
          "type": "loitering"
         },
         {
          "arrived": "",
          "cleared": "16:01",
          "date": "08/25/16",
          "dispatched": "16:00",
          "id": "160825058",
          "location": "pn6",
          "received": "15:56",
          "type": "coll non inj"
         },
         {
          "arrived": "16:20",
          "cleared": "16:29",
          "date": "08/25/16",
          "dispatched": "16:20",
          "id": "160825059",
          "location": "pn5",
          "received": "16:13",
          "type": "trespassing"
         },
         {
          "arrived": "16:58",
          "cleared": "16:22",
          "date": "08/25/16",
          "dispatched": "16:19",
          "id": "160825060",
          "location": "pn13",
          "received": "16:16",
          "type": "disorderly"
         },
         {
          "arrived": "16:25",
          "cleared": "16:47",
          "date": "08/25/16",
          "dispatched": "16:22",
          "id": "160825061",
          "location": "pn10",
          "received": "16:19",
          "type": "vandalism"
         },
         {
          "arrived": "16:29",
          "cleared": "16:34",
          "date": "08/25/16",
          "dispatched": "16:22",
          "id": "160825062",
          "location": "pn13",
          "received": "16:21",
          "type": "mental subj"
         },
         {
          "arrived": "17:03",
          "cleared": "17:55",
          "date": "08/25/16",
          "dispatched": "16:50",
          "id": "160825063",
          "location": "pn5",
          "received": "16:44",
          "type": "suspicious"
         },
         {
          "arrived": "",
          "cleared": "17:06",
          "date": "08/25/16",
          "dispatched": "17:03",
          "id": "160825064",
          "location": "pn11",
          "received": "16:57",
          "type": "alarm audible"
         },
         {
          "arrived": "17:12",
          "cleared": "17:12",
          "date": "08/25/16",
          "dispatched": "16:59",
          "id": "160825065",
          "location": "lz0",
          "received": "16:59",
          "type": "assist req"
         },
         {
          "arrived": "",
          "cleared": "17:13",
          "date": "08/25/16",
          "dispatched": "17:09",
          "id": "160825066",
          "location": "pn5",
          "received": "17:01",
          "type": "mc-panhandling"
         },
         {
          "arrived": "17:15",
          "cleared": "17:20",
          "date": "08/25/16",
          "dispatched": "17:12",
          "id": "160825067",
          "location": "pn12",
          "received": "17:10",
          "type": "9-1-1 abandon"
         },
         {
          "arrived": "17:37",
          "cleared": "17:38",
          "date": "08/25/16",
          "dispatched": "17:28",
          "id": "160825068",
          "location": "pn6",
          "received": "17:24",
          "type": "suspicious"
         },
         {
          "arrived": "17:32",
          "cleared": "17:46",
          "date": "08/25/16",
          "dispatched": "",
          "id": "160825069",
          "location": "pn5",
          "received": "17:32",
          "type": "towed vehicle"
         },
         {
          "arrived": "17:33",
          "cleared": "17:46",
          "date": "08/25/16",
          "dispatched": "",
          "id": "160825070",
          "location": "pn5",
          "received": "17:33",
          "type": "towed vehicle"
         },
         {
          "arrived": "17:58",
          "cleared": "18:23",
          "date": "08/25/16",
          "dispatched": "17:54",
          "id": "160825071",
          "location": "pn5",
          "received": "17:51",
          "type": "welfare check"
         },
         {
          "arrived": "18:08",
          "cleared": "18:45",
          "date": "08/25/16",
          "dispatched": "18:04",
          "id": "160825072",
          "location": "pn2",
          "received": "18:01",
          "type": "coll non inj"
         },
         {
          "arrived": "18:26",
          "cleared": "18:43",
          "date": "08/25/16",
          "dispatched": "18:13",
          "id": "160825073",
          "location": "pn11",
          "received": "18:04",
          "type": "theft"
         },
         {
          "arrived": "18:10",
          "cleared": "18:13",
          "date": "08/25/16",
          "dispatched": "",
          "id": "160825074",
          "location": "pn5",
          "received": "18:09",
          "type": "traffic hazard"
         },
         {
          "arrived": "18:12",
          "cleared": "18:18",
          "date": "08/25/16",
          "dispatched": "",
          "id": "160825075",
          "location": "pn10",
          "received": "18:12",
          "type": "loitering"
         },
         {
          "arrived": "19:42",
          "cleared": "21:57",
          "date": "08/25/16",
          "dispatched": "18:18",
          "id": "160825076",
          "location": "pn5",
          "received": "18:16",
          "type": "traffic offense"
         },
         {
          "arrived": "18:34",
          "cleared": "18:37",
          "date": "08/25/16",
          "dispatched": "18:29",
          "id": "160825077",
          "location": "pn5",
          "received": "18:20",
          "type": "suspicious"
         },
         {
          "arrived": "19:40",
          "cleared": "19:44",
          "date": "08/25/16",
          "dispatched": "19:12",
          "id": "160825078",
          "location": "pn7",
          "received": "18:44",
          "type": "trespassing"
         },
         {
          "arrived": "19:20",
          "cleared": "19:39",
          "date": "08/25/16",
          "dispatched": "19:09",
          "id": "160825079",
          "location": "pn2",
          "received": "19:00",
          "type": "threatening"
         },
         {
          "arrived": "19:46",
          "cleared": "20:41",
          "date": "08/25/16",
          "dispatched": "19:25",
          "id": "160825080",
          "location": "pn7",
          "received": "19:17",
          "type": "elder abuse/neg"
         },
         {
          "arrived": "19:48",
          "cleared": "20:03",
          "date": "08/25/16",
          "dispatched": "19:44",
          "id": "160825081",
          "location": "pn10",
          "received": "19:29",
          "type": "mc-camping"
         },
         {
          "arrived": "19:51",
          "cleared": "19:55",
          "date": "08/25/16",
          "dispatched": "19:42",
          "id": "160825082",
          "location": "pn7",
          "received": "19:34",
          "type": "suspicious"
         },
         {
          "arrived": "20:37",
          "cleared": "20:40",
          "date": "08/25/16",
          "dispatched": "20:26",
          "id": "160825083",
          "location": "pn2",
          "received": "19:52",
          "type": "noise party"
         },
         {
          "arrived": "20:18",
          "cleared": "20:25",
          "date": "08/25/16",
          "dispatched": "20:07",
          "id": "160825084",
          "location": "pn10",
          "received": "20:05",
          "type": "suspicious"
         },
         {
          "arrived": "20:18",
          "cleared": "20:24",
          "date": "08/25/16",
          "dispatched": "20:11",
          "id": "160825085",
          "location": "pn10",
          "received": "20:08",
          "type": "parking problem"
         },
         {
          "arrived": "20:29",
          "cleared": "20:47",
          "date": "08/25/16",
          "dispatched": "20:24",
          "id": "160825086",
          "location": "pn7",
          "received": "20:12",
          "type": "citizen dispute"
         },
         {
          "arrived": "20:39",
          "cleared": "20:41",
          "date": "08/25/16",
          "dispatched": "",
          "id": "160825087",
          "location": "pn8",
          "received": "20:37",
          "type": "aband vehicle"
         },
         {
          "arrived": "20:44",
          "cleared": "20:49",
          "date": "08/25/16",
          "dispatched": "",
          "id": "160825088",
          "location": "pn10",
          "received": "20:44",
          "type": "aband vehicle"
         },
         {
          "arrived": "20:51",
          "cleared": "20:53",
          "date": "08/25/16",
          "dispatched": "",
          "id": "160825089",
          "location": "pn10",
          "received": "20:50",
          "type": "aband vehicle"
         },
         {
          "arrived": "20:54",
          "cleared": "20:55",
          "date": "08/25/16",
          "dispatched": "",
          "id": "160825090",
          "location": "pn10",
          "received": "20:54",
          "type": "aband vehicle"
         },
         {
          "arrived": "21:08",
          "cleared": "21:18",
          "date": "08/25/16",
          "dispatched": "21:01",
          "id": "160825091",
          "location": "pn7",
          "received": "20:58",
          "type": "suspicious"
         },
         {
          "arrived": "21:03",
          "cleared": "21:04",
          "date": "08/25/16",
          "dispatched": "",
          "id": "160825092",
          "location": "pn10",
          "received": "20:56",
          "type": "aband vehicle"
         },
         {
          "arrived": "21:06",
          "cleared": "21:07",
          "date": "08/25/16",
          "dispatched": "",
          "id": "160825093",
          "location": "pn10",
          "received": "21:06",
          "type": "aband vehicle"
         },
         {
          "arrived": "21:08",
          "cleared": "21:09",
          "date": "08/25/16",
          "dispatched": "",
          "id": "160825094",
          "location": "pn10",
          "received": "21:08",
          "type": "aband vehicle"
         },
         {
          "arrived": "21:11",
          "cleared": "21:11",
          "date": "08/25/16",
          "dispatched": "",
          "id": "160825095",
          "location": "pn10",
          "received": "21:10",
          "type": "aband vehicle"
         },
         {
          "arrived": "21:13",
          "cleared": "21:14",
          "date": "08/25/16",
          "dispatched": "",
          "id": "160825096",
          "location": "pn10",
          "received": "21:13",
          "type": "aband vehicle"
         },
         {
          "arrived": "21:15",
          "cleared": "21:16",
          "date": "08/25/16",
          "dispatched": "",
          "id": "160825097",
          "location": "pn10",
          "received": "21:15",
          "type": "aband vehicle"
         },
         {
          "arrived": "21:17",
          "cleared": "21:19",
          "date": "08/25/16",
          "dispatched": "",
          "id": "160825098",
          "location": "pn10",
          "received": "21:17",
          "type": "aband vehicle"
         },
         {
          "arrived": "21:38",
          "cleared": "22:13",
          "date": "08/25/16",
          "dispatched": "21:31",
          "id": "160825099",
          "location": "pn5",
          "received": "21:27",
          "type": "found property"
         },
         {
          "arrived": "21:44",
          "cleared": "21:48",
          "date": "08/25/16",
          "dispatched": "21:40",
          "id": "160825100",
          "location": "pn5",
          "received": "21:36",
          "type": "assist req"
         },
         {
          "arrived": "21:54",
          "cleared": "22:11",
          "date": "08/25/16",
          "dispatched": "",
          "id": "160825101",
          "location": "pn5",
          "received": "21:54",
          "type": "controlled narc"
         },
         {
          "arrived": "21:57",
          "cleared": "22:12",
          "date": "08/25/16",
          "dispatched": "",
          "id": "160825102",
          "location": "pn5",
          "received": "21:57",
          "type": "dui"
         },
         {
          "arrived": "22:20",
          "cleared": "22:25",
          "date": "08/25/16",
          "dispatched": "22:12",
          "id": "160825103",
          "location": "pn7",
          "received": "22:09",
          "type": "suspicious"
         },
         {
          "arrived": "22:23",
          "cleared": "22:37",
          "date": "08/25/16",
          "dispatched": "22:16",
          "id": "160825104",
          "location": "pn10",
          "received": "22:15",
          "type": "noise party"
         },
         {
          "arrived": "22:36",
          "cleared": "23:25",
          "date": "08/25/16",
          "dispatched": "22:32",
          "id": "160825105",
          "location": "pn1",
          "received": "22:30",
          "type": "alcohol offense"
         },
         {
          "arrived": "22:52",
          "cleared": "22:56",
          "date": "08/25/16",
          "dispatched": "22:50",
          "id": "160825106",
          "location": "pn6",
          "received": "22:46",
          "type": "welfare check"
         },
         {
          "arrived": "22:52",
          "cleared": "23:10",
          "date": "08/25/16",
          "dispatched": "",
          "id": "160825107",
          "location": "pn1",
          "received": "22:52",
          "type": "alcohol offense"
         },
         {
          "arrived": "",
          "cleared": "22:54",
          "date": "08/25/16",
          "dispatched": "22:53",
          "id": "160825108",
          "location": "pn11",
          "received": "22:52",
          "type": "alarm audible"
         },
         {
          "arrived": "23:00",
          "cleared": "23:05",
          "date": "08/25/16",
          "dispatched": "",
          "id": "160825109",
          "location": "pn5",
          "received": "23:00",
          "type": "loitering"
         },
         {
          "arrived": "23:04",
          "cleared": "23:38",
          "date": "08/25/16",
          "dispatched": "",
          "id": "160825110",
          "location": "pn5",
          "received": "23:04",
          "type": "traffic offense"
         },
         {
          "arrived": "",
          "cleared": "23:07",
          "date": "08/25/16",
          "dispatched": "",
          "id": "160825111",
          "location": "lz0",
          "received": "23:03",
          "type": "welfare check"
         },
         {
          "arrived": "23:10",
          "cleared": "23:12",
          "date": "08/25/16",
          "dispatched": "",
          "id": "160825112",
          "location": "pn1",
          "received": "23:10",
          "type": "alcohol offense"
         },
         {
          "arrived": "23:20",
          "cleared": "23:36",
          "date": "08/25/16",
          "dispatched": "23:16",
          "id": "160825113",
          "location": "pn13",
          "received": "23:12",
          "type": "alarm audible"
         },
         {
          "arrived": "23:14",
          "cleared": "23:24",
          "date": "08/25/16",
          "dispatched": "",
          "id": "160825114",
          "location": "pn10",
          "received": "23:14",
          "type": "suspicious"
         },
         {
          "arrived": "23:49",
          "cleared": "00:05",
          "date": "08/25/16",
          "dispatched": "",
          "id": "160825115",
          "location": "pn5",
          "received": "23:42",
          "type": "alcohol offense"
         },
         {
          "arrived": "23:54",
          "cleared": "00:21",
          "date": "08/25/16",
          "dispatched": "",
          "id": "160825116",
          "location": "pn5",
          "received": "23:54",
          "type": "dui"
         },
         {
          "arrived": "00:24",
          "cleared": "00:25",
          "date": "08/25/16",
          "dispatched": "00:04",
          "id": "160826001",
          "location": "pn11",
          "received": "23:59",
          "type": "noise party"
         },
         {
          "arrived": "00:33",
          "cleared": "01:04",
          "date": "08/26/16",
          "dispatched": "",
          "id": "160826002",
          "location": "pn1",
          "received": "00:33",
          "type": "warrant"
         },
         {
          "arrived": "00:50",
          "cleared": "00:59",
          "date": "08/26/16",
          "dispatched": "00:46",
          "id": "160826003",
          "location": "pn5",
          "received": "00:45",
          "type": "traffic hazard"
         },
         {
          "arrived": "00:52",
          "cleared": "01:13",
          "date": "08/26/16",
          "dispatched": "",
          "id": "160826004",
          "location": "pn5",
          "received": "00:52",
          "type": "assist req"
         },
         {
          "arrived": "01:11",
          "cleared": "01:17",
          "date": "08/26/16",
          "dispatched": "01:10",
          "id": "160826005",
          "location": "pn5",
          "received": "01:06",
          "type": "suspicious"
         },
         {
          "arrived": "01:10",
          "cleared": "02:00",
          "date": "08/26/16",
          "dispatched": "",
          "id": "160826006",
          "location": "pn5",
          "received": "01:10",
          "type": "dui"
         },
         {
          "arrived": "01:20",
          "cleared": "01:21",
          "date": "08/26/16",
          "dispatched": "01:19",
          "id": "160826007",
          "location": "pn2",
          "received": "01:14",
          "type": "dui"
         },
         {
          "arrived": "01:22",
          "cleared": "02:03",
          "date": "08/26/16",
          "dispatched": "",
          "id": "160826008",
          "location": "pn5",
          "received": "01:21",
          "type": "dui"
         },
         {
          "arrived": "02:07",
          "cleared": "02:15",
          "date": "08/26/16",
          "dispatched": "",
          "id": "160826009",
          "location": "pn5",
          "received": "02:06",
          "type": "alcohol offense"
         },
         {
          "arrived": "02:43",
          "cleared": "04:08",
          "date": "08/26/16",
          "dispatched": "",
          "id": "160826010",
          "location": "pn1",
          "received": "02:43",
          "type": "dui"
         },
         {
          "arrived": "03:27",
          "cleared": "04:55",
          "date": "08/26/16",
          "dispatched": "03:22",
          "id": "160826011",
          "location": "pn5",
          "received": "03:19",
          "type": "coll non inj"
         },
         {
          "arrived": "04:56",
          "cleared": "05:27",
          "date": "08/26/16",
          "dispatched": "04:53",
          "id": "160826012",
          "location": "pn2",
          "received": "04:52",
          "type": "suspicious"
         },
         {
          "arrived": "05:03",
          "cleared": "05:20",
          "date": "08/26/16",
          "dispatched": "",
          "id": "160826013",
          "location": "pn2",
          "received": "05:03",
          "type": "warrant"
         },
         {
          "arrived": "05:20",
          "cleared": "05:37",
          "date": "08/26/16",
          "dispatched": "",
          "id": "160826014",
          "location": "pn2",
          "received": "05:20",
          "type": "controlled narc"
         },
         {
          "arrived": "06:40",
          "cleared": "06:46",
          "date": "08/26/16",
          "dispatched": "06:35",
          "id": "160826015",
          "location": "pn6",
          "received": "06:33",
          "type": "noise other"
         },
         {
          "arrived": "07:20",
          "cleared": "07:37",
          "date": "08/03/16",
          "dispatched": "",
          "id": "160803013",
          "location": "pn5",
          "received": "07:20",
          "type": "found property"
         },
         {
          "arrived": "07:41",
          "cleared": "07:45",
          "date": "08/03/16",
          "dispatched": "07:37",
          "id": "160803014",
          "location": "pn3",
          "received": "07:34",
          "type": "animal problem"
         },
         {
          "arrived": "08:40",
          "cleared": "09:13",
          "date": "08/03/16",
          "dispatched": "08:33",
          "id": "160803015",
          "location": "pn7",
          "received": "08:24",
          "type": "threatening"
         },
         {
          "arrived": "09:04",
          "cleared": "09:16",
          "date": "08/03/16",
          "dispatched": "08:59",
          "id": "160803016",
          "location": "pn6",
          "received": "08:55",
          "type": "loitering"
         },
         {
          "arrived": "",
          "cleared": "09:23",
          "date": "08/03/16",
          "dispatched": "09:23",
          "id": "160803017",
          "location": "pn2",
          "received": "09:21",
          "type": "9-1-1 abandon"
         },
         {
          "arrived": "09:30",
          "cleared": "09:35",
          "date": "08/03/16",
          "dispatched": "",
          "id": "160803018",
          "location": "pn11",
          "received": "09:25",
          "type": "alarm audible"
         },
         {
          "arrived": "09:41",
          "cleared": "09:43",
          "date": "08/03/16",
          "dispatched": "09:40",
          "id": "160803019",
          "location": "pn5",
          "received": "09:34",
          "type": "lost property"
         },
         {
          "arrived": "09:37",
          "cleared": "09:39",
          "date": "08/03/16",
          "dispatched": "",
          "id": "160803020",
          "location": "pn10",
          "received": "09:36",
          "type": "aband vehicle"
         },
         {
          "arrived": "09:57",
          "cleared": "10:00",
          "date": "08/03/16",
          "dispatched": "09:50",
          "id": "160803021",
          "location": "pn6",
          "received": "09:47",
          "type": "alcohol offense"
         },
         {
          "arrived": "10:13",
          "cleared": "10:42",
          "date": "08/03/16",
          "dispatched": "10:12",
          "id": "160803022",
          "location": "pn5",
          "received": "10:11",
          "type": "alarm silent"
         },
         {
          "arrived": "",
          "cleared": "10:25",
          "date": "08/03/16",
          "dispatched": "10:21",
          "id": "160803023",
          "location": "pn5",
          "received": "10:21",
          "type": "towed vehicle"
         },
         {
          "arrived": "10:39",
          "cleared": "10:41",
          "date": "08/03/16",
          "dispatched": "10:35",
          "id": "160803024",
          "location": "pn9",
          "received": "10:27",
          "type": "parking problem"
         },
         {
          "arrived": "10:30",
          "cleared": "10:57",
          "date": "08/03/16",
          "dispatched": "",
          "id": "160803025",
          "location": "pn6",
          "received": "10:30",
          "type": "alcohol offense"
         },
         {
          "arrived": "11:22",
          "cleared": "11:40",
          "date": "08/03/16",
          "dispatched": "10:49",
          "id": "160803026",
          "location": "pn9",
          "received": "10:33",
          "type": "theft"
         },
         {
          "arrived": "10:45",
          "cleared": "10:49",
          "date": "08/03/16",
          "dispatched": "10:42",
          "id": "160803027",
          "location": "pn13",
          "received": "10:38",
          "type": "loitering"
         },
         {
          "arrived": "10:55",
          "cleared": "10:59",
          "date": "08/03/16",
          "dispatched": "",
          "id": "160803028",
          "location": "pn2",
          "received": "10:55",
          "type": "suspicious"
         },
         {
          "arrived": "",
          "cleared": "11:35",
          "date": "08/03/16",
          "dispatched": "",
          "id": "160803029",
          "location": "pn13",
          "received": "11:29",
          "type": "assist o police"
         },
         {
          "arrived": "11:41",
          "cleared": "11:44",
          "date": "08/03/16",
          "dispatched": "13:07",
          "id": "160803030",
          "location": "pn12",
          "received": "11:32",
          "type": "loitering"
         },
         {
          "arrived": "11:55",
          "cleared": "11:59",
          "date": "08/03/16",
          "dispatched": "",
          "id": "160803031",
          "location": "pn5",
          "received": "11:55",
          "type": "suspicious"
         },
         {
          "arrived": "12:06",
          "cleared": "12:18",
          "date": "08/03/16",
          "dispatched": "12:02",
          "id": "160803032",
          "location": "pn5",
          "received": "11:59",
          "type": "suspicious"
         },
         {
          "arrived": "12:14",
          "cleared": "12:24",
          "date": "08/03/16",
          "dispatched": "",
          "id": "160803033",
          "location": "pn5",
          "received": "12:06",
          "type": "lost property"
         },
         {
          "arrived": "",
          "cleared": "12:17",
          "date": "08/03/16",
          "dispatched": "12:17",
          "id": "160803034",
          "location": "pn5",
          "received": "12:12",
          "type": "parking problem"
         },
         {
          "arrived": "12:21",
          "cleared": "12:31",
          "date": "08/03/16",
          "dispatched": "",
          "id": "160803035",
          "location": "pn5",
          "received": "12:21",
          "type": "alcohol offense"
         },
         {
          "arrived": "12:42",
          "cleared": "14:19",
          "date": "08/03/16",
          "dispatched": "12:35",
          "id": "160803036",
          "location": "pn8",
          "received": "12:31",
          "type": "suspicious"
         },
         {
          "arrived": "12:49",
          "cleared": "13:30",
          "date": "08/03/16",
          "dispatched": "12:44",
          "id": "160803037",
          "location": "pn6",
          "received": "12:35",
          "type": "welfare check"
         },
         {
          "arrived": "13:08",
          "cleared": "13:35",
          "date": "08/03/16",
          "dispatched": "13:07",
          "id": "160803038",
          "location": "pn13",
          "received": "12:50",
          "type": "vandalism"
         },
         {
          "arrived": "",
          "cleared": "13:06",
          "date": "08/03/16",
          "dispatched": "13:03",
          "id": "160803039",
          "location": "pn13",
          "received": "12:55",
          "type": "animal problem"
         },
         {
          "arrived": "13:02",
          "cleared": "13:05",
          "date": "08/03/16",
          "dispatched": "",
          "id": "160803040",
          "location": "pn6",
          "received": "13:02",
          "type": "alcohol offense"
         },
         {
          "arrived": "",
          "cleared": "14:19",
          "date": "08/03/16",
          "dispatched": "",
          "id": "160803041",
          "location": "pn13",
          "received": "13:03",
          "type": "warrant"
         },
         {
          "arrived": "",
          "cleared": "13:12",
          "date": "08/03/16",
          "dispatched": "13:08",
          "id": "160803042",
          "location": "pn5",
          "received": "13:08",
          "type": "towed vehicle"
         },
         {
          "arrived": "13:39",
          "cleared": "14:18",
          "date": "08/03/16",
          "dispatched": "",
          "id": "160803043",
          "location": "pn13",
          "received": "13:17",
          "type": "warrant"
         },
         {
          "arrived": "14:19",
          "cleared": "14:49",
          "date": "08/03/16",
          "dispatched": "14:10",
          "id": "160803044",
          "location": "pn8",
          "received": "14:01",
          "type": "welfare check"
         },
         {
          "arrived": "14:22",
          "cleared": "14:26",
          "date": "08/03/16",
          "dispatched": "",
          "id": "160803045",
          "location": "pn5",
          "received": "14:21",
          "type": "vandalism"
         },
         {
          "arrived": "14:22",
          "cleared": "15:03",
          "date": "08/03/16",
          "dispatched": "",
          "id": "160803046",
          "location": "pn11",
          "received": "14:22",
          "type": "mc-camping"
         },
         {
          "arrived": "14:36",
          "cleared": "14:47",
          "date": "08/03/16",
          "dispatched": "14:35",
          "id": "160803047",
          "location": "pn5",
          "received": "14:32",
          "type": "towed vehicle"
         },
         {
          "arrived": "14:34",
          "cleared": "14:35",
          "date": "08/03/16",
          "dispatched": "",
          "id": "160803048",
          "location": "pn9",
          "received": "14:33",
          "type": "9-1-1 abandon"
         },
         {
          "arrived": "",
          "cleared": "14:47",
          "date": "08/03/16",
          "dispatched": "14:47",
          "id": "160803049",
          "location": "pn10",
          "received": "14:43",
          "type": "aband vehicle"
         },
         {
          "arrived": "14:56",
          "cleared": "15:03",
          "date": "08/03/16",
          "dispatched": "",
          "id": "160803050",
          "location": "lz0",
          "received": "14:56",
          "type": "information"
         },
         {
          "arrived": "15:11",
          "cleared": "15:24",
          "date": "08/03/16",
          "dispatched": "15:06",
          "id": "160803051",
          "location": "pn10",
          "received": "15:01",
          "type": "alcohol offense"
         },
         {
          "arrived": "15:07",
          "cleared": "15:12",
          "date": "08/03/16",
          "dispatched": "",
          "id": "160803052",
          "location": "pn8",
          "received": "15:07",
          "type": "coll hit and ru"
         },
         {
          "arrived": "15:11",
          "cleared": "15:48",
          "date": "08/03/16",
          "dispatched": "",
          "id": "160803053",
          "location": "pn5",
          "received": "15:11",
          "type": "disorderly"
         },
         {
          "arrived": "15:45",
          "cleared": "15:50",
          "date": "08/03/16",
          "dispatched": "15:28",
          "id": "160803054",
          "location": "pn7",
          "received": "15:12",
          "type": "noise other"
         },
         {
          "arrived": "15:29",
          "cleared": "15:30",
          "date": "08/03/16",
          "dispatched": "15:24",
          "id": "160803055",
          "location": "pn11",
          "received": "15:14",
          "type": "disorderly"
         },
         {
          "arrived": "16:06",
          "cleared": "16:23",
          "date": "08/03/16",
          "dispatched": "15:55",
          "id": "160803056",
          "location": "pn1",
          "received": "15:48",
          "type": "citizen dispute"
         },
         {
          "arrived": "",
          "cleared": "15:56",
          "date": "08/03/16",
          "dispatched": "15:56",
          "id": "160803057",
          "location": "pn5",
          "received": "15:55",
          "type": "child abuse"
         },
         {
          "arrived": "16:06",
          "cleared": "16:37",
          "date": "08/03/16",
          "dispatched": "",
          "id": "160803058",
          "location": "pn13",
          "received": "16:06",
          "type": "theft"
         },
         {
          "arrived": "",
          "cleared": "16:16",
          "date": "08/03/16",
          "dispatched": "16:16",
          "id": "160803059",
          "location": "pn2",
          "received": "16:14",
          "type": "9-1-1 abandon"
         },
         {
          "arrived": "16:41",
          "cleared": "16:42",
          "date": "08/03/16",
          "dispatched": "",
          "id": "160803060",
          "location": "pn13",
          "received": "16:36",
          "type": "theft"
         },
         {
          "arrived": "16:37",
          "cleared": "16:40",
          "date": "08/03/16",
          "dispatched": "",
          "id": "160803061",
          "location": "pn13",
          "received": "16:36",
          "type": "animal problem"
         },
         {
          "arrived": "16:55",
          "cleared": "17:03",
          "date": "08/03/16",
          "dispatched": "16:49",
          "id": "160803062",
          "location": "pn8",
          "received": "16:39",
          "type": "lost property"
         },
         {
          "arrived": "17:11",
          "cleared": "17:38",
          "date": "08/03/16",
          "dispatched": "",
          "id": "160803063",
          "location": "pn13",
          "received": "17:11",
          "type": "traffic hazard"
         },
         {
          "arrived": "17:15",
          "cleared": "17:16",
          "date": "08/03/16",
          "dispatched": "",
          "id": "160803064",
          "location": "pn3",
          "received": "17:09",
          "type": "disorderly"
         },
         {
          "arrived": "17:35",
          "cleared": "17:59",
          "date": "08/03/16",
          "dispatched": "17:35",
          "id": "160803065",
          "location": "pn12",
          "received": "17:25",
          "type": "fraud"
         },
         {
          "arrived": "17:56",
          "cleared": "18:07",
          "date": "08/03/16",
          "dispatched": "17:37",
          "id": "160803066",
          "location": "pn1",
          "received": "17:25",
          "type": "suspicious"
         },
         {
          "arrived": "17:37",
          "cleared": "17:50",
          "date": "08/03/16",
          "dispatched": "17:36",
          "id": "160803067",
          "location": "pn13",
          "received": "17:32",
          "type": "9-1-1 abandon"
         },
         {
          "arrived": "18:01",
          "cleared": "18:52",
          "date": "08/03/16",
          "dispatched": "",
          "id": "160803068",
          "location": "pn7",
          "received": "17:31",
          "type": "citizen dispute"
         },
         {
          "arrived": "17:53",
          "cleared": "18:31",
          "date": "08/03/16",
          "dispatched": "",
          "id": "160803069",
          "location": "lz0",
          "received": "17:53",
          "type": "assist o police"
         },
         {
          "arrived": "18:15",
          "cleared": "18:51",
          "date": "08/03/16",
          "dispatched": "18:15",
          "id": "160803070",
          "location": "pn3",
          "received": "18:08",
          "type": "assist req"
         },
         {
          "arrived": "18:41",
          "cleared": "18:46",
          "date": "08/03/16",
          "dispatched": "18:30",
          "id": "160803071",
          "location": "pn10",
          "received": "18:24",
          "type": "citizen dispute"
         },
         {
          "arrived": "",
          "cleared": "18:47",
          "date": "08/03/16",
          "dispatched": "18:46",
          "id": "160803072",
          "location": "pn6",
          "received": "18:34",
          "type": "aband vehicle"
         },
         {
          "arrived": "19:00",
          "cleared": "19:05",
          "date": "08/03/16",
          "dispatched": "",
          "id": "160803073",
          "location": "pn6",
          "received": "18:58",
          "type": "aband vehicle"
         },
         {
          "arrived": "",
          "cleared": "19:06",
          "date": "08/03/16",
          "dispatched": "19:05",
          "id": "160803074",
          "location": "pn13",
          "received": "19:00",
          "type": "traffic offense"
         },
         {
          "arrived": "19:07",
          "cleared": "19:08",
          "date": "08/03/16",
          "dispatched": "",
          "id": "160803075",
          "location": "pn7",
          "received": "19:06",
          "type": "aband vehicle"
         },
         {
          "arrived": "19:39",
          "cleared": "19:58",
          "date": "08/03/16",
          "dispatched": "19:27",
          "id": "160803076",
          "location": "pn2",
          "received": "19:26",
          "type": "disorderly"
         },
         {
          "arrived": "20:01",
          "cleared": "20:06",
          "date": "08/03/16",
          "dispatched": "19:59",
          "id": "160803077",
          "location": "pn1",
          "received": "19:58",
          "type": "alarm audible"
         },
         {
          "arrived": "21:02",
          "cleared": "21:13",
          "date": "08/03/16",
          "dispatched": "",
          "id": "160803078",
          "location": "pn8",
          "received": "21:02",
          "type": "traffic offense"
         },
         {
          "arrived": "21:20",
          "cleared": "21:37",
          "date": "08/03/16",
          "dispatched": "21:13",
          "id": "160803079",
          "location": "pn9",
          "received": "21:09",
          "type": "trespassing"
         },
         {
          "arrived": "21:30",
          "cleared": "21:43",
          "date": "08/03/16",
          "dispatched": "21:21",
          "id": "160803080",
          "location": "pn10",
          "received": "21:18",
          "type": "suspicious"
         },
         {
          "arrived": "21:40",
          "cleared": "21:59",
          "date": "08/03/16",
          "dispatched": "21:37",
          "id": "160803081",
          "location": "pn6",
          "received": "21:16",
          "type": "loitering"
         },
         {
          "arrived": "22:06",
          "cleared": "22:51",
          "date": "08/03/16",
          "dispatched": "",
          "id": "160803082",
          "location": "pn13",
          "received": "22:00",
          "type": "coll non inj"
         },
         {
          "arrived": "22:58",
          "cleared": "23:03",
          "date": "08/03/16",
          "dispatched": "22:55",
          "id": "160803083",
          "location": "pn6",
          "received": "22:52",
          "type": "fireworks"
         },
         {
          "arrived": "23:26",
          "cleared": "23:33",
          "date": "08/03/16",
          "dispatched": "23:13",
          "id": "160803084",
          "location": "pn2",
          "received": "23:07",
          "type": "suspicious"
         },
         {
          "arrived": "23:35",
          "cleared": "23:39",
          "date": "08/03/16",
          "dispatched": "",
          "id": "160803085",
          "location": "pn5",
          "received": "23:35",
          "type": "suspicious"
         },
         {
          "arrived": "23:45",
          "cleared": "23:51",
          "date": "08/03/16",
          "dispatched": "23:42",
          "id": "160803086",
          "location": "pn8",
          "received": "23:38",
          "type": "noise police"
         },
         {
          "arrived": "00:09",
          "cleared": "00:13",
          "date": "08/04/16",
          "dispatched": "",
          "id": "160804001",
          "location": "pn13",
          "received": "00:08",
          "type": "muni code viol"
         },
         {
          "arrived": "00:16",
          "cleared": "05:55",
          "date": "08/04/16",
          "dispatched": "00:13",
          "id": "160804002",
          "location": "pn13",
          "received": "00:12",
          "type": "sex offense"
         },
         {
          "arrived": "01:40",
          "cleared": "02:54",
          "date": "08/04/16",
          "dispatched": "01:36",
          "id": "160804003",
          "location": "pn2",
          "received": "01:35",
          "type": "suspicious"
         },
         {
          "arrived": "01:56",
          "cleared": "02:17",
          "date": "08/04/16",
          "dispatched": "01:54",
          "id": "160804004",
          "location": "pn1",
          "received": "01:53",
          "type": "alarm audible"
         },
         {
          "arrived": "04:17",
          "cleared": "04:20",
          "date": "08/04/16",
          "dispatched": "04:15",
          "id": "160804005",
          "location": "pn6",
          "received": "04:14",
          "type": "assist req"
         }
        ]
       },
       "encoding": {
        "color": {
         "field": "location",
         "type": "nominal"
        },
        "x": {
         "aggregate": "count",
         "field": "*"
        },
        "y": {
         "field": "type",
         "sort": {
          "field": "type",
          "op": "count",
          "order": "descending"
         },
         "type": "ordinal"
        }
       },
       "mark": "bar"
      },
      "image/png": "[encoded data removed]",
      "text/plain": [
       "<altair.VegaLite object>"
      ]
     },
     "execution_count": 28,
     "metadata": {},
     "output_type": "execute_result"
    }
   ],
   "source": [
    "alt.Chart(incidents_df).mark_bar().encode(\n",
    "    alt.Y(\"type:O\", sort = alt.SortField(field = \"type\", op = \"count\", order = \"descending\")),\n",
    "    alt.X(\"count(*)\"),\n",
    "    alt.Color(\"location:N\")\n",
    ")"
   ]
  },
  {
   "cell_type": "markdown",
   "metadata": {
    "deletable": false,
    "nbgrader": {
     "checksum": "afff675582cbd27f67aac60d9e6569c9",
     "grade": true,
     "grade_id": "cell-87193db06b518fe9",
     "locked": false,
     "points": 2,
     "schema_version": 1,
     "solution": true
    }
   },
   "source": [
    "Looking at the occurances of each reason for police call, we see that the top 3 is \"suspicious activity\", \"assistance required\", and \"abandoned vehicle\". The suspicious activity is mostly occurs in locations pn5, pn6, pn8, and pn13. While assistance required occurs mostly in locations lz0, pn1, and pn13."
   ]
  }
 ],
 "metadata": {
  "kernelspec": {
   "display_name": "Python 3",
   "language": "python",
   "name": "python3"
  },
  "language_info": {
   "codemirror_mode": {
    "name": "ipython",
    "version": 3
   },
   "file_extension": ".py",
   "mimetype": "text/x-python",
   "name": "python",
   "nbconvert_exporter": "python",
   "pygments_lexer": "ipython3",
   "version": "3.6.3"
  }
 },
 "nbformat": 4,
 "nbformat_minor": 2
}
